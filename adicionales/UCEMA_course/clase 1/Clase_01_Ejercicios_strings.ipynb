{
 "cells": [
  {
   "cell_type": "markdown",
   "metadata": {},
   "source": [
    "# Ejercicios - strings"
   ]
  },
  {
   "cell_type": "markdown",
   "metadata": {},
   "source": [
    "Sabiendo que siempre tenemos esta estructura de datos, se pide:"
   ]
  },
  {
   "cell_type": "code",
   "execution_count": 1,
   "metadata": {},
   "outputs": [],
   "source": [
    "texto = \"\"\"\n",
    " 'ticker': 'AAPL',\n",
    " 'sector': 'Technology',\n",
    " 'fullTimeEmployees': 147000,\n",
    " 'city': 'Cupertino',\n",
    " 'phone': '408-996-1010',\n",
    " 'state': 'CA',\n",
    " 'country': 'United States',\n",
    " 'website': 'http://www.apple.com',\n",
    " 'maxAge': 1,\n",
    " 'address1': 'One Apple Park Way',\n",
    " 'industry': 'Consumer Electronics',\n",
    " 'previousClose': 122.15,\n",
    " 'regularMarketOpen': 123.66,\n",
    " 'twoHundredDayAverage': 123.11638,\n",
    " 'trailingAnnualDividendYield': 0.006606631,\n",
    " 'payoutRatio': 0.2177,\n",
    " 'regularMarketDayHigh': 124.18,\n",
    " 'averageDailyVolume10Day': 91586628,\n",
    " 'regularMarketPreviousClose': 122.15,\n",
    " 'fiftyDayAverage': 123.66118,\n",
    " 'trailingAnnualDividendRate': 0.807,\n",
    " 'forwardEps': 4.7,\n",
    " 'sharesOutstanding': 16788100096,\n",
    "\"\"\""
   ]
  },
  {
   "cell_type": "code",
   "execution_count": 2,
   "metadata": {},
   "outputs": [
    {
     "data": {
      "text/plain": [
       "\"\\n 'ticker': 'AAPL',\\n 'sector': 'Technology',\\n 'fullTimeEmployees': 147000,\\n 'city': 'Cupertino',\\n 'phone': '408-996-1010',\\n 'state': 'CA',\\n 'country': 'United States',\\n 'website': 'http://www.apple.com',\\n 'maxAge': 1,\\n 'address1': 'One Apple Park Way',\\n 'industry': 'Consumer Electronics',\\n 'previousClose': 122.15,\\n 'regularMarketOpen': 123.66,\\n 'twoHundredDayAverage': 123.11638,\\n 'trailingAnnualDividendYield': 0.006606631,\\n 'payoutRatio': 0.2177,\\n 'regularMarketDayHigh': 124.18,\\n 'averageDailyVolume10Day': 91586628,\\n 'regularMarketPreviousClose': 122.15,\\n 'fiftyDayAverage': 123.66118,\\n 'trailingAnnualDividendRate': 0.807,\\n 'forwardEps': 4.7,\\n 'sharesOutstanding': 16788100096,\\n\""
      ]
     },
     "execution_count": 2,
     "metadata": {},
     "output_type": "execute_result"
    }
   ],
   "source": [
    "texto"
   ]
  },
  {
   "cell_type": "markdown",
   "metadata": {},
   "source": [
    "1- La posicion donde se encuentre la palabra \"Phone\""
   ]
  },
  {
   "cell_type": "markdown",
   "metadata": {},
   "source": [
    "2- Guardar en la variable \"pos_i\" la posicion donde empieza el teléfono"
   ]
  },
  {
   "cell_type": "markdown",
   "metadata": {},
   "source": [
    "3- Guardar en la variable \"pos_f\" la posicion donde termina el telefono (usar la búsqueda de la palabra \"state\" para ello)"
   ]
  },
  {
   "cell_type": "markdown",
   "metadata": {},
   "source": [
    "3 Bis- Gaurdar en la variable \"pos_f\" la posicion donde termina el teléfono, peeeeero para ello buscar el primer salto de linea a partir de la ubicacion de \"pos_i\""
   ]
  },
  {
   "cell_type": "markdown",
   "metadata": {},
   "source": [
    "4- Extraer el telefono del texto"
   ]
  },
  {
   "cell_type": "markdown",
   "metadata": {},
   "source": [
    "5- Hacer el ejercicio de encontrar el teléfono todo de una"
   ]
  },
  {
   "cell_type": "markdown",
   "metadata": {},
   "source": [
    "6- Usar las 4 o 5 líneas del ejercicio 4 para encontrar cualquier otro campo del texto, por ejemplo el sitio web, dicho campo debe ser ingresado por el usuario por teclado"
   ]
  },
  {
   "cell_type": "code",
   "execution_count": null,
   "metadata": {},
   "outputs": [],
   "source": []
  },
  {
   "cell_type": "code",
   "execution_count": null,
   "metadata": {},
   "outputs": [],
   "source": []
  },
  {
   "cell_type": "markdown",
   "metadata": {},
   "source": [
    "# Respuestas"
   ]
  },
  {
   "cell_type": "code",
   "execution_count": null,
   "metadata": {},
   "outputs": [],
   "source": []
  },
  {
   "cell_type": "code",
   "execution_count": 3,
   "metadata": {},
   "outputs": [
    {
     "data": {
      "text/plain": [
       "99"
      ]
     },
     "execution_count": 3,
     "metadata": {},
     "output_type": "execute_result"
    }
   ],
   "source": [
    "#======================#\n",
    "#     Respuesta 1      #\n",
    "#======================#\n",
    "\n",
    "texto.find('phone')"
   ]
  },
  {
   "cell_type": "code",
   "execution_count": 4,
   "metadata": {},
   "outputs": [
    {
     "data": {
      "text/plain": [
       "108"
      ]
     },
     "execution_count": 4,
     "metadata": {},
     "output_type": "execute_result"
    }
   ],
   "source": [
    "#======================#\n",
    "#     Respuesta 2      #\n",
    "#======================#\n",
    "\n",
    "\n",
    "pos_i = texto.find(\"phone\") + len(\"phone': '\")\n",
    "pos_i"
   ]
  },
  {
   "cell_type": "code",
   "execution_count": 5,
   "metadata": {
    "scrolled": true
   },
   "outputs": [
    {
     "data": {
      "text/plain": [
       "120"
      ]
     },
     "execution_count": 5,
     "metadata": {},
     "output_type": "execute_result"
    }
   ],
   "source": [
    "#======================#\n",
    "#     Respuesta 3      #\n",
    "#======================#\n",
    "\n",
    "\n",
    "pos_f = texto.find(\"state\") - len(\"',\\n '\")\n",
    "pos_f"
   ]
  },
  {
   "cell_type": "code",
   "execution_count": 6,
   "metadata": {},
   "outputs": [
    {
     "data": {
      "text/plain": [
       "120"
      ]
     },
     "execution_count": 6,
     "metadata": {},
     "output_type": "execute_result"
    }
   ],
   "source": [
    "#======================#\n",
    "#   Respuesta 3 Bis    #\n",
    "#======================#\n",
    "\n",
    "\n",
    "pos_f = pos_i + texto[pos_i:].find(\"',\\n '\")\n",
    "pos_f"
   ]
  },
  {
   "cell_type": "code",
   "execution_count": 7,
   "metadata": {},
   "outputs": [
    {
     "data": {
      "text/plain": [
       "'408-996-1010'"
      ]
     },
     "execution_count": 7,
     "metadata": {},
     "output_type": "execute_result"
    }
   ],
   "source": [
    "#======================#\n",
    "#     Respuesta 4      #\n",
    "#======================#\n",
    "\n",
    "telefono = texto[pos_i:pos_f]\n",
    "telefono"
   ]
  },
  {
   "cell_type": "code",
   "execution_count": 8,
   "metadata": {},
   "outputs": [
    {
     "data": {
      "text/plain": [
       "'408-996-1010'"
      ]
     },
     "execution_count": 8,
     "metadata": {},
     "output_type": "execute_result"
    }
   ],
   "source": [
    "#======================#\n",
    "#     Respuesta 5      #\n",
    "#======================#\n",
    "\n",
    "\n",
    "texto.find(\"phone\")\n",
    "pos_i = texto.find(\"phone\") + len(\"phone': '\")\n",
    "pos_f = pos_i + texto[pos_i:].find(\"',\\n '\")\n",
    "resultado = texto[pos_i:pos_f]\n",
    "resultado"
   ]
  },
  {
   "cell_type": "code",
   "execution_count": 10,
   "metadata": {},
   "outputs": [
    {
     "name": "stdout",
     "output_type": "stream",
     "text": [
      "Ingresar el campo a buscar: industry\n"
     ]
    },
    {
     "data": {
      "text/plain": [
       "'Consumer Electronics'"
      ]
     },
     "execution_count": 10,
     "metadata": {},
     "output_type": "execute_result"
    }
   ],
   "source": [
    "#======================#\n",
    "#     Respuesta 6      #\n",
    "#======================#\n",
    "\n",
    "campo = input('Ingresar el campo a buscar: ')\n",
    "\n",
    "texto.find(campo)\n",
    "pos_i = texto.find(campo) + len(f\"{campo}': '\")\n",
    "pos_f = pos_i + texto[pos_i:].find(\"',\\n '\")\n",
    "resultado = texto[pos_i:pos_f]\n",
    "resultado"
   ]
  },
  {
   "cell_type": "code",
   "execution_count": null,
   "metadata": {},
   "outputs": [],
   "source": []
  }
 ],
 "metadata": {
  "kernelspec": {
   "display_name": "Python 3",
   "language": "python",
   "name": "python3"
  },
  "language_info": {
   "codemirror_mode": {
    "name": "ipython",
    "version": 3
   },
   "file_extension": ".py",
   "mimetype": "text/x-python",
   "name": "python",
   "nbconvert_exporter": "python",
   "pygments_lexer": "ipython3",
   "version": "3.8.5"
  },
  "toc": {
   "base_numbering": 1,
   "nav_menu": {},
   "number_sections": true,
   "sideBar": true,
   "skip_h1_title": false,
   "title_cell": "Table of Contents",
   "title_sidebar": "Contents",
   "toc_cell": false,
   "toc_position": {},
   "toc_section_display": true,
   "toc_window_display": false
  }
 },
 "nbformat": 4,
 "nbformat_minor": 4
}
