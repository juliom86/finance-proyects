{
 "cells": [
  {
   "cell_type": "markdown",
   "metadata": {},
   "source": [
    "# Quantiles y Ranks"
   ]
  },
  {
   "cell_type": "markdown",
   "metadata": {},
   "source": [
    "## Ranks"
   ]
  },
  {
   "cell_type": "code",
   "execution_count": 1,
   "metadata": {},
   "outputs": [
    {
     "name": "stdout",
     "output_type": "stream",
     "text": [
      "[*********************100%***********************]  1 of 1 completed\n"
     ]
    },
    {
     "data": {
      "text/html": [
       "<div>\n",
       "<style scoped>\n",
       "    .dataframe tbody tr th:only-of-type {\n",
       "        vertical-align: middle;\n",
       "    }\n",
       "\n",
       "    .dataframe tbody tr th {\n",
       "        vertical-align: top;\n",
       "    }\n",
       "\n",
       "    .dataframe thead th {\n",
       "        text-align: right;\n",
       "    }\n",
       "</style>\n",
       "<table border=\"1\" class=\"dataframe\">\n",
       "  <thead>\n",
       "    <tr style=\"text-align: right;\">\n",
       "      <th></th>\n",
       "      <th>Open</th>\n",
       "      <th>High</th>\n",
       "      <th>Low</th>\n",
       "      <th>Close</th>\n",
       "      <th>Adj Close</th>\n",
       "      <th>Volume</th>\n",
       "      <th>variacion</th>\n",
       "    </tr>\n",
       "    <tr>\n",
       "      <th>Date</th>\n",
       "      <th></th>\n",
       "      <th></th>\n",
       "      <th></th>\n",
       "      <th></th>\n",
       "      <th></th>\n",
       "      <th></th>\n",
       "      <th></th>\n",
       "    </tr>\n",
       "  </thead>\n",
       "  <tbody>\n",
       "    <tr>\n",
       "      <th>2000-07-26</th>\n",
       "      <td>17.2500</td>\n",
       "      <td>17.5625</td>\n",
       "      <td>17.1875</td>\n",
       "      <td>17.5000</td>\n",
       "      <td>16.163326</td>\n",
       "      <td>28900</td>\n",
       "      <td>0.000000</td>\n",
       "    </tr>\n",
       "    <tr>\n",
       "      <th>2000-07-27</th>\n",
       "      <td>17.5000</td>\n",
       "      <td>17.6250</td>\n",
       "      <td>17.3750</td>\n",
       "      <td>17.5000</td>\n",
       "      <td>16.163326</td>\n",
       "      <td>61200</td>\n",
       "      <td>0.000000</td>\n",
       "    </tr>\n",
       "    <tr>\n",
       "      <th>2000-07-28</th>\n",
       "      <td>17.5625</td>\n",
       "      <td>17.5625</td>\n",
       "      <td>17.1250</td>\n",
       "      <td>17.3750</td>\n",
       "      <td>16.047871</td>\n",
       "      <td>146100</td>\n",
       "      <td>-0.714306</td>\n",
       "    </tr>\n",
       "    <tr>\n",
       "      <th>2000-07-31</th>\n",
       "      <td>17.5000</td>\n",
       "      <td>17.6875</td>\n",
       "      <td>16.8750</td>\n",
       "      <td>17.6875</td>\n",
       "      <td>16.336502</td>\n",
       "      <td>178400</td>\n",
       "      <td>1.798565</td>\n",
       "    </tr>\n",
       "    <tr>\n",
       "      <th>2000-08-01</th>\n",
       "      <td>17.5625</td>\n",
       "      <td>18.4375</td>\n",
       "      <td>17.2500</td>\n",
       "      <td>17.5000</td>\n",
       "      <td>16.163326</td>\n",
       "      <td>87400</td>\n",
       "      <td>-1.060054</td>\n",
       "    </tr>\n",
       "    <tr>\n",
       "      <th>...</th>\n",
       "      <td>...</td>\n",
       "      <td>...</td>\n",
       "      <td>...</td>\n",
       "      <td>...</td>\n",
       "      <td>...</td>\n",
       "      <td>...</td>\n",
       "      <td>...</td>\n",
       "    </tr>\n",
       "    <tr>\n",
       "      <th>2021-04-28</th>\n",
       "      <td>7.7200</td>\n",
       "      <td>8.1300</td>\n",
       "      <td>7.6800</td>\n",
       "      <td>7.7900</td>\n",
       "      <td>7.790000</td>\n",
       "      <td>887800</td>\n",
       "      <td>0.906738</td>\n",
       "    </tr>\n",
       "    <tr>\n",
       "      <th>2021-04-29</th>\n",
       "      <td>7.8200</td>\n",
       "      <td>7.8600</td>\n",
       "      <td>7.6000</td>\n",
       "      <td>7.6300</td>\n",
       "      <td>7.630000</td>\n",
       "      <td>371800</td>\n",
       "      <td>-2.053913</td>\n",
       "    </tr>\n",
       "    <tr>\n",
       "      <th>2021-04-30</th>\n",
       "      <td>7.5400</td>\n",
       "      <td>7.5600</td>\n",
       "      <td>7.4200</td>\n",
       "      <td>7.4900</td>\n",
       "      <td>7.490000</td>\n",
       "      <td>322700</td>\n",
       "      <td>-1.834867</td>\n",
       "    </tr>\n",
       "    <tr>\n",
       "      <th>2021-05-03</th>\n",
       "      <td>7.5400</td>\n",
       "      <td>7.6000</td>\n",
       "      <td>7.2800</td>\n",
       "      <td>7.3200</td>\n",
       "      <td>7.320000</td>\n",
       "      <td>485100</td>\n",
       "      <td>-2.269688</td>\n",
       "    </tr>\n",
       "    <tr>\n",
       "      <th>2021-05-04</th>\n",
       "      <td>7.2600</td>\n",
       "      <td>7.3300</td>\n",
       "      <td>7.1050</td>\n",
       "      <td>7.2400</td>\n",
       "      <td>7.240000</td>\n",
       "      <td>539474</td>\n",
       "      <td>-1.092902</td>\n",
       "    </tr>\n",
       "  </tbody>\n",
       "</table>\n",
       "<p>5226 rows × 7 columns</p>\n",
       "</div>"
      ],
      "text/plain": [
       "               Open     High      Low    Close  Adj Close  Volume  variacion\n",
       "Date                                                                        \n",
       "2000-07-26  17.2500  17.5625  17.1875  17.5000  16.163326   28900   0.000000\n",
       "2000-07-27  17.5000  17.6250  17.3750  17.5000  16.163326   61200   0.000000\n",
       "2000-07-28  17.5625  17.5625  17.1250  17.3750  16.047871  146100  -0.714306\n",
       "2000-07-31  17.5000  17.6875  16.8750  17.6875  16.336502  178400   1.798565\n",
       "2000-08-01  17.5625  18.4375  17.2500  17.5000  16.163326   87400  -1.060054\n",
       "...             ...      ...      ...      ...        ...     ...        ...\n",
       "2021-04-28   7.7200   8.1300   7.6800   7.7900   7.790000  887800   0.906738\n",
       "2021-04-29   7.8200   7.8600   7.6000   7.6300   7.630000  371800  -2.053913\n",
       "2021-04-30   7.5400   7.5600   7.4200   7.4900   7.490000  322700  -1.834867\n",
       "2021-05-03   7.5400   7.6000   7.2800   7.3200   7.320000  485100  -2.269688\n",
       "2021-05-04   7.2600   7.3300   7.1050   7.2400   7.240000  539474  -1.092902\n",
       "\n",
       "[5226 rows x 7 columns]"
      ]
     },
     "execution_count": 1,
     "metadata": {},
     "output_type": "execute_result"
    }
   ],
   "source": [
    "import yfinance as yf\n",
    "data = yf.download('GGAL')\n",
    "data['variacion'] = data['Adj Close'].pct_change()*100\n",
    "data = data.dropna()\n",
    "data"
   ]
  },
  {
   "cell_type": "code",
   "execution_count": 2,
   "metadata": {},
   "outputs": [
    {
     "data": {
      "text/plain": [
       "Date\n",
       "2000-07-26    2615.0\n",
       "2000-07-27    2615.0\n",
       "2000-07-28    2024.0\n",
       "2000-07-31    3918.0\n",
       "2000-08-01    1769.0\n",
       "               ...  \n",
       "2021-04-28    3367.0\n",
       "2021-04-29    1145.0\n",
       "2021-04-30    1247.0\n",
       "2021-05-03    1045.0\n",
       "2021-05-04    1748.0\n",
       "Name: variacion, Length: 5226, dtype: float64"
      ]
     },
     "execution_count": 2,
     "metadata": {},
     "output_type": "execute_result"
    }
   ],
   "source": [
    "data.variacion.rank()"
   ]
  },
  {
   "cell_type": "code",
   "execution_count": null,
   "metadata": {},
   "outputs": [],
   "source": []
  },
  {
   "cell_type": "code",
   "execution_count": null,
   "metadata": {},
   "outputs": [],
   "source": []
  },
  {
   "cell_type": "code",
   "execution_count": 3,
   "metadata": {},
   "outputs": [
    {
     "data": {
      "text/html": [
       "<div>\n",
       "<style scoped>\n",
       "    .dataframe tbody tr th:only-of-type {\n",
       "        vertical-align: middle;\n",
       "    }\n",
       "\n",
       "    .dataframe tbody tr th {\n",
       "        vertical-align: top;\n",
       "    }\n",
       "\n",
       "    .dataframe thead th {\n",
       "        text-align: right;\n",
       "    }\n",
       "</style>\n",
       "<table border=\"1\" class=\"dataframe\">\n",
       "  <thead>\n",
       "    <tr style=\"text-align: right;\">\n",
       "      <th></th>\n",
       "      <th>Open</th>\n",
       "      <th>High</th>\n",
       "      <th>Low</th>\n",
       "      <th>Close</th>\n",
       "      <th>Adj Close</th>\n",
       "      <th>Volume</th>\n",
       "      <th>variacion</th>\n",
       "      <th>variacion_ranking</th>\n",
       "    </tr>\n",
       "    <tr>\n",
       "      <th>Date</th>\n",
       "      <th></th>\n",
       "      <th></th>\n",
       "      <th></th>\n",
       "      <th></th>\n",
       "      <th></th>\n",
       "      <th></th>\n",
       "      <th></th>\n",
       "      <th></th>\n",
       "    </tr>\n",
       "  </thead>\n",
       "  <tbody>\n",
       "    <tr>\n",
       "      <th>2000-07-26</th>\n",
       "      <td>17.2500</td>\n",
       "      <td>17.5625</td>\n",
       "      <td>17.1875</td>\n",
       "      <td>17.5000</td>\n",
       "      <td>16.163326</td>\n",
       "      <td>28900</td>\n",
       "      <td>0.000000</td>\n",
       "      <td>2615.0</td>\n",
       "    </tr>\n",
       "    <tr>\n",
       "      <th>2000-07-27</th>\n",
       "      <td>17.5000</td>\n",
       "      <td>17.6250</td>\n",
       "      <td>17.3750</td>\n",
       "      <td>17.5000</td>\n",
       "      <td>16.163326</td>\n",
       "      <td>61200</td>\n",
       "      <td>0.000000</td>\n",
       "      <td>2615.0</td>\n",
       "    </tr>\n",
       "    <tr>\n",
       "      <th>2000-07-28</th>\n",
       "      <td>17.5625</td>\n",
       "      <td>17.5625</td>\n",
       "      <td>17.1250</td>\n",
       "      <td>17.3750</td>\n",
       "      <td>16.047871</td>\n",
       "      <td>146100</td>\n",
       "      <td>-0.714306</td>\n",
       "      <td>2024.0</td>\n",
       "    </tr>\n",
       "    <tr>\n",
       "      <th>2000-07-31</th>\n",
       "      <td>17.5000</td>\n",
       "      <td>17.6875</td>\n",
       "      <td>16.8750</td>\n",
       "      <td>17.6875</td>\n",
       "      <td>16.336502</td>\n",
       "      <td>178400</td>\n",
       "      <td>1.798565</td>\n",
       "      <td>3918.0</td>\n",
       "    </tr>\n",
       "    <tr>\n",
       "      <th>2000-08-01</th>\n",
       "      <td>17.5625</td>\n",
       "      <td>18.4375</td>\n",
       "      <td>17.2500</td>\n",
       "      <td>17.5000</td>\n",
       "      <td>16.163326</td>\n",
       "      <td>87400</td>\n",
       "      <td>-1.060054</td>\n",
       "      <td>1769.0</td>\n",
       "    </tr>\n",
       "    <tr>\n",
       "      <th>...</th>\n",
       "      <td>...</td>\n",
       "      <td>...</td>\n",
       "      <td>...</td>\n",
       "      <td>...</td>\n",
       "      <td>...</td>\n",
       "      <td>...</td>\n",
       "      <td>...</td>\n",
       "      <td>...</td>\n",
       "    </tr>\n",
       "    <tr>\n",
       "      <th>2021-04-28</th>\n",
       "      <td>7.7200</td>\n",
       "      <td>8.1300</td>\n",
       "      <td>7.6800</td>\n",
       "      <td>7.7900</td>\n",
       "      <td>7.790000</td>\n",
       "      <td>887800</td>\n",
       "      <td>0.906738</td>\n",
       "      <td>3367.0</td>\n",
       "    </tr>\n",
       "    <tr>\n",
       "      <th>2021-04-29</th>\n",
       "      <td>7.8200</td>\n",
       "      <td>7.8600</td>\n",
       "      <td>7.6000</td>\n",
       "      <td>7.6300</td>\n",
       "      <td>7.630000</td>\n",
       "      <td>371800</td>\n",
       "      <td>-2.053913</td>\n",
       "      <td>1145.0</td>\n",
       "    </tr>\n",
       "    <tr>\n",
       "      <th>2021-04-30</th>\n",
       "      <td>7.5400</td>\n",
       "      <td>7.5600</td>\n",
       "      <td>7.4200</td>\n",
       "      <td>7.4900</td>\n",
       "      <td>7.490000</td>\n",
       "      <td>322700</td>\n",
       "      <td>-1.834867</td>\n",
       "      <td>1247.0</td>\n",
       "    </tr>\n",
       "    <tr>\n",
       "      <th>2021-05-03</th>\n",
       "      <td>7.5400</td>\n",
       "      <td>7.6000</td>\n",
       "      <td>7.2800</td>\n",
       "      <td>7.3200</td>\n",
       "      <td>7.320000</td>\n",
       "      <td>485100</td>\n",
       "      <td>-2.269688</td>\n",
       "      <td>1045.0</td>\n",
       "    </tr>\n",
       "    <tr>\n",
       "      <th>2021-05-04</th>\n",
       "      <td>7.2600</td>\n",
       "      <td>7.3300</td>\n",
       "      <td>7.1050</td>\n",
       "      <td>7.2400</td>\n",
       "      <td>7.240000</td>\n",
       "      <td>539474</td>\n",
       "      <td>-1.092902</td>\n",
       "      <td>1748.0</td>\n",
       "    </tr>\n",
       "  </tbody>\n",
       "</table>\n",
       "<p>5226 rows × 8 columns</p>\n",
       "</div>"
      ],
      "text/plain": [
       "               Open     High      Low    Close  Adj Close  Volume  variacion  \\\n",
       "Date                                                                           \n",
       "2000-07-26  17.2500  17.5625  17.1875  17.5000  16.163326   28900   0.000000   \n",
       "2000-07-27  17.5000  17.6250  17.3750  17.5000  16.163326   61200   0.000000   \n",
       "2000-07-28  17.5625  17.5625  17.1250  17.3750  16.047871  146100  -0.714306   \n",
       "2000-07-31  17.5000  17.6875  16.8750  17.6875  16.336502  178400   1.798565   \n",
       "2000-08-01  17.5625  18.4375  17.2500  17.5000  16.163326   87400  -1.060054   \n",
       "...             ...      ...      ...      ...        ...     ...        ...   \n",
       "2021-04-28   7.7200   8.1300   7.6800   7.7900   7.790000  887800   0.906738   \n",
       "2021-04-29   7.8200   7.8600   7.6000   7.6300   7.630000  371800  -2.053913   \n",
       "2021-04-30   7.5400   7.5600   7.4200   7.4900   7.490000  322700  -1.834867   \n",
       "2021-05-03   7.5400   7.6000   7.2800   7.3200   7.320000  485100  -2.269688   \n",
       "2021-05-04   7.2600   7.3300   7.1050   7.2400   7.240000  539474  -1.092902   \n",
       "\n",
       "            variacion_ranking  \n",
       "Date                           \n",
       "2000-07-26             2615.0  \n",
       "2000-07-27             2615.0  \n",
       "2000-07-28             2024.0  \n",
       "2000-07-31             3918.0  \n",
       "2000-08-01             1769.0  \n",
       "...                       ...  \n",
       "2021-04-28             3367.0  \n",
       "2021-04-29             1145.0  \n",
       "2021-04-30             1247.0  \n",
       "2021-05-03             1045.0  \n",
       "2021-05-04             1748.0  \n",
       "\n",
       "[5226 rows x 8 columns]"
      ]
     },
     "execution_count": 3,
     "metadata": {},
     "output_type": "execute_result"
    }
   ],
   "source": [
    "df = data.copy()\n",
    "df['variacion_ranking'] = data.variacion.rank()\n",
    "df"
   ]
  },
  {
   "cell_type": "code",
   "execution_count": 4,
   "metadata": {},
   "outputs": [
    {
     "data": {
      "text/html": [
       "<div>\n",
       "<style scoped>\n",
       "    .dataframe tbody tr th:only-of-type {\n",
       "        vertical-align: middle;\n",
       "    }\n",
       "\n",
       "    .dataframe tbody tr th {\n",
       "        vertical-align: top;\n",
       "    }\n",
       "\n",
       "    .dataframe thead th {\n",
       "        text-align: right;\n",
       "    }\n",
       "</style>\n",
       "<table border=\"1\" class=\"dataframe\">\n",
       "  <thead>\n",
       "    <tr style=\"text-align: right;\">\n",
       "      <th></th>\n",
       "      <th>Open</th>\n",
       "      <th>High</th>\n",
       "      <th>Low</th>\n",
       "      <th>Close</th>\n",
       "      <th>Adj Close</th>\n",
       "      <th>Volume</th>\n",
       "      <th>variacion</th>\n",
       "      <th>variacion_ranking</th>\n",
       "    </tr>\n",
       "    <tr>\n",
       "      <th>Date</th>\n",
       "      <th></th>\n",
       "      <th></th>\n",
       "      <th></th>\n",
       "      <th></th>\n",
       "      <th></th>\n",
       "      <th></th>\n",
       "      <th></th>\n",
       "      <th></th>\n",
       "    </tr>\n",
       "  </thead>\n",
       "  <tbody>\n",
       "    <tr>\n",
       "      <th>2002-08-27</th>\n",
       "      <td>0.760000</td>\n",
       "      <td>0.760000</td>\n",
       "      <td>0.25</td>\n",
       "      <td>0.26</td>\n",
       "      <td>0.244871</td>\n",
       "      <td>258200</td>\n",
       "      <td>-65.789470</td>\n",
       "      <td>1.0</td>\n",
       "    </tr>\n",
       "    <tr>\n",
       "      <th>2019-08-12</th>\n",
       "      <td>19.309999</td>\n",
       "      <td>19.360001</td>\n",
       "      <td>15.17</td>\n",
       "      <td>16.75</td>\n",
       "      <td>16.560553</td>\n",
       "      <td>30223700</td>\n",
       "      <td>-56.117364</td>\n",
       "      <td>2.0</td>\n",
       "    </tr>\n",
       "    <tr>\n",
       "      <th>2002-06-17</th>\n",
       "      <td>0.320000</td>\n",
       "      <td>0.320000</td>\n",
       "      <td>0.22</td>\n",
       "      <td>0.22</td>\n",
       "      <td>0.207199</td>\n",
       "      <td>632100</td>\n",
       "      <td>-31.250004</td>\n",
       "      <td>3.0</td>\n",
       "    </tr>\n",
       "    <tr>\n",
       "      <th>2008-10-21</th>\n",
       "      <td>2.990000</td>\n",
       "      <td>2.990000</td>\n",
       "      <td>2.22</td>\n",
       "      <td>2.23</td>\n",
       "      <td>2.112427</td>\n",
       "      <td>469300</td>\n",
       "      <td>-23.890795</td>\n",
       "      <td>4.0</td>\n",
       "    </tr>\n",
       "    <tr>\n",
       "      <th>2002-02-01</th>\n",
       "      <td>2.800000</td>\n",
       "      <td>2.800000</td>\n",
       "      <td>2.19</td>\n",
       "      <td>2.27</td>\n",
       "      <td>2.137912</td>\n",
       "      <td>743800</td>\n",
       "      <td>-23.050854</td>\n",
       "      <td>5.0</td>\n",
       "    </tr>\n",
       "    <tr>\n",
       "      <th>2020-03-16</th>\n",
       "      <td>7.720000</td>\n",
       "      <td>8.590000</td>\n",
       "      <td>7.10</td>\n",
       "      <td>7.14</td>\n",
       "      <td>7.059244</td>\n",
       "      <td>2177100</td>\n",
       "      <td>-22.475573</td>\n",
       "      <td>6.0</td>\n",
       "    </tr>\n",
       "    <tr>\n",
       "      <th>2020-03-18</th>\n",
       "      <td>6.910000</td>\n",
       "      <td>7.100000</td>\n",
       "      <td>5.89</td>\n",
       "      <td>6.08</td>\n",
       "      <td>6.011233</td>\n",
       "      <td>2319500</td>\n",
       "      <td>-20.418850</td>\n",
       "      <td>7.0</td>\n",
       "    </tr>\n",
       "    <tr>\n",
       "      <th>2001-09-17</th>\n",
       "      <td>8.500000</td>\n",
       "      <td>8.500000</td>\n",
       "      <td>7.34</td>\n",
       "      <td>7.35</td>\n",
       "      <td>6.922315</td>\n",
       "      <td>406700</td>\n",
       "      <td>-20.108701</td>\n",
       "      <td>8.0</td>\n",
       "    </tr>\n",
       "    <tr>\n",
       "      <th>2002-03-25</th>\n",
       "      <td>1.500000</td>\n",
       "      <td>1.500000</td>\n",
       "      <td>1.09</td>\n",
       "      <td>1.12</td>\n",
       "      <td>1.054829</td>\n",
       "      <td>78100</td>\n",
       "      <td>-20.000009</td>\n",
       "      <td>9.0</td>\n",
       "    </tr>\n",
       "    <tr>\n",
       "      <th>2002-06-12</th>\n",
       "      <td>0.550000</td>\n",
       "      <td>0.550000</td>\n",
       "      <td>0.38</td>\n",
       "      <td>0.40</td>\n",
       "      <td>0.376725</td>\n",
       "      <td>414700</td>\n",
       "      <td>-20.000004</td>\n",
       "      <td>10.0</td>\n",
       "    </tr>\n",
       "  </tbody>\n",
       "</table>\n",
       "</div>"
      ],
      "text/plain": [
       "                 Open       High    Low  Close  Adj Close    Volume  \\\n",
       "Date                                                                  \n",
       "2002-08-27   0.760000   0.760000   0.25   0.26   0.244871    258200   \n",
       "2019-08-12  19.309999  19.360001  15.17  16.75  16.560553  30223700   \n",
       "2002-06-17   0.320000   0.320000   0.22   0.22   0.207199    632100   \n",
       "2008-10-21   2.990000   2.990000   2.22   2.23   2.112427    469300   \n",
       "2002-02-01   2.800000   2.800000   2.19   2.27   2.137912    743800   \n",
       "2020-03-16   7.720000   8.590000   7.10   7.14   7.059244   2177100   \n",
       "2020-03-18   6.910000   7.100000   5.89   6.08   6.011233   2319500   \n",
       "2001-09-17   8.500000   8.500000   7.34   7.35   6.922315    406700   \n",
       "2002-03-25   1.500000   1.500000   1.09   1.12   1.054829     78100   \n",
       "2002-06-12   0.550000   0.550000   0.38   0.40   0.376725    414700   \n",
       "\n",
       "            variacion  variacion_ranking  \n",
       "Date                                      \n",
       "2002-08-27 -65.789470                1.0  \n",
       "2019-08-12 -56.117364                2.0  \n",
       "2002-06-17 -31.250004                3.0  \n",
       "2008-10-21 -23.890795                4.0  \n",
       "2002-02-01 -23.050854                5.0  \n",
       "2020-03-16 -22.475573                6.0  \n",
       "2020-03-18 -20.418850                7.0  \n",
       "2001-09-17 -20.108701                8.0  \n",
       "2002-03-25 -20.000009                9.0  \n",
       "2002-06-12 -20.000004               10.0  "
      ]
     },
     "execution_count": 4,
     "metadata": {},
     "output_type": "execute_result"
    }
   ],
   "source": [
    "df.sort_values('variacion_ranking', ascending=True).head(10)"
   ]
  },
  {
   "cell_type": "markdown",
   "metadata": {},
   "source": [
    "## Ranks \"percentiles\""
   ]
  },
  {
   "cell_type": "code",
   "execution_count": 6,
   "metadata": {},
   "outputs": [
    {
     "name": "stdout",
     "output_type": "stream",
     "text": [
      "[*********************100%***********************]  1 of 1 completed\n"
     ]
    },
    {
     "data": {
      "text/html": [
       "<div>\n",
       "<style scoped>\n",
       "    .dataframe tbody tr th:only-of-type {\n",
       "        vertical-align: middle;\n",
       "    }\n",
       "\n",
       "    .dataframe tbody tr th {\n",
       "        vertical-align: top;\n",
       "    }\n",
       "\n",
       "    .dataframe thead th {\n",
       "        text-align: right;\n",
       "    }\n",
       "</style>\n",
       "<table border=\"1\" class=\"dataframe\">\n",
       "  <thead>\n",
       "    <tr style=\"text-align: right;\">\n",
       "      <th></th>\n",
       "      <th>Open</th>\n",
       "      <th>High</th>\n",
       "      <th>Low</th>\n",
       "      <th>Close</th>\n",
       "      <th>Adj Close</th>\n",
       "      <th>Volume</th>\n",
       "      <th>variacion</th>\n",
       "      <th>variacion_ranking</th>\n",
       "      <th>variacion_ranking_pct</th>\n",
       "    </tr>\n",
       "    <tr>\n",
       "      <th>Date</th>\n",
       "      <th></th>\n",
       "      <th></th>\n",
       "      <th></th>\n",
       "      <th></th>\n",
       "      <th></th>\n",
       "      <th></th>\n",
       "      <th></th>\n",
       "      <th></th>\n",
       "      <th></th>\n",
       "    </tr>\n",
       "  </thead>\n",
       "  <tbody>\n",
       "    <tr>\n",
       "      <th>2000-07-26</th>\n",
       "      <td>17.2500</td>\n",
       "      <td>17.5625</td>\n",
       "      <td>17.1875</td>\n",
       "      <td>17.5000</td>\n",
       "      <td>16.163326</td>\n",
       "      <td>28900</td>\n",
       "      <td>0.000000</td>\n",
       "      <td>2615.0</td>\n",
       "      <td>0.500383</td>\n",
       "    </tr>\n",
       "    <tr>\n",
       "      <th>2000-07-27</th>\n",
       "      <td>17.5000</td>\n",
       "      <td>17.6250</td>\n",
       "      <td>17.3750</td>\n",
       "      <td>17.5000</td>\n",
       "      <td>16.163326</td>\n",
       "      <td>61200</td>\n",
       "      <td>0.000000</td>\n",
       "      <td>2615.0</td>\n",
       "      <td>0.500383</td>\n",
       "    </tr>\n",
       "    <tr>\n",
       "      <th>2000-07-28</th>\n",
       "      <td>17.5625</td>\n",
       "      <td>17.5625</td>\n",
       "      <td>17.1250</td>\n",
       "      <td>17.3750</td>\n",
       "      <td>16.047871</td>\n",
       "      <td>146100</td>\n",
       "      <td>-0.714306</td>\n",
       "      <td>2024.0</td>\n",
       "      <td>0.387294</td>\n",
       "    </tr>\n",
       "    <tr>\n",
       "      <th>2000-07-31</th>\n",
       "      <td>17.5000</td>\n",
       "      <td>17.6875</td>\n",
       "      <td>16.8750</td>\n",
       "      <td>17.6875</td>\n",
       "      <td>16.336502</td>\n",
       "      <td>178400</td>\n",
       "      <td>1.798565</td>\n",
       "      <td>3918.0</td>\n",
       "      <td>0.749713</td>\n",
       "    </tr>\n",
       "    <tr>\n",
       "      <th>2000-08-01</th>\n",
       "      <td>17.5625</td>\n",
       "      <td>18.4375</td>\n",
       "      <td>17.2500</td>\n",
       "      <td>17.5000</td>\n",
       "      <td>16.163326</td>\n",
       "      <td>87400</td>\n",
       "      <td>-1.060054</td>\n",
       "      <td>1769.0</td>\n",
       "      <td>0.338500</td>\n",
       "    </tr>\n",
       "    <tr>\n",
       "      <th>...</th>\n",
       "      <td>...</td>\n",
       "      <td>...</td>\n",
       "      <td>...</td>\n",
       "      <td>...</td>\n",
       "      <td>...</td>\n",
       "      <td>...</td>\n",
       "      <td>...</td>\n",
       "      <td>...</td>\n",
       "      <td>...</td>\n",
       "    </tr>\n",
       "    <tr>\n",
       "      <th>2021-04-28</th>\n",
       "      <td>7.7200</td>\n",
       "      <td>8.1300</td>\n",
       "      <td>7.6800</td>\n",
       "      <td>7.7900</td>\n",
       "      <td>7.790000</td>\n",
       "      <td>887800</td>\n",
       "      <td>0.906738</td>\n",
       "      <td>3367.0</td>\n",
       "      <td>0.644279</td>\n",
       "    </tr>\n",
       "    <tr>\n",
       "      <th>2021-04-29</th>\n",
       "      <td>7.8200</td>\n",
       "      <td>7.8600</td>\n",
       "      <td>7.6000</td>\n",
       "      <td>7.6300</td>\n",
       "      <td>7.630000</td>\n",
       "      <td>371800</td>\n",
       "      <td>-2.053913</td>\n",
       "      <td>1145.0</td>\n",
       "      <td>0.219097</td>\n",
       "    </tr>\n",
       "    <tr>\n",
       "      <th>2021-04-30</th>\n",
       "      <td>7.5400</td>\n",
       "      <td>7.5600</td>\n",
       "      <td>7.4200</td>\n",
       "      <td>7.4900</td>\n",
       "      <td>7.490000</td>\n",
       "      <td>322700</td>\n",
       "      <td>-1.834867</td>\n",
       "      <td>1247.0</td>\n",
       "      <td>0.238615</td>\n",
       "    </tr>\n",
       "    <tr>\n",
       "      <th>2021-05-03</th>\n",
       "      <td>7.5400</td>\n",
       "      <td>7.6000</td>\n",
       "      <td>7.2800</td>\n",
       "      <td>7.3200</td>\n",
       "      <td>7.320000</td>\n",
       "      <td>485100</td>\n",
       "      <td>-2.269688</td>\n",
       "      <td>1045.0</td>\n",
       "      <td>0.199962</td>\n",
       "    </tr>\n",
       "    <tr>\n",
       "      <th>2021-05-04</th>\n",
       "      <td>7.2600</td>\n",
       "      <td>7.3300</td>\n",
       "      <td>7.1050</td>\n",
       "      <td>7.2400</td>\n",
       "      <td>7.240000</td>\n",
       "      <td>539474</td>\n",
       "      <td>-1.092902</td>\n",
       "      <td>1748.0</td>\n",
       "      <td>0.334481</td>\n",
       "    </tr>\n",
       "  </tbody>\n",
       "</table>\n",
       "<p>5226 rows × 9 columns</p>\n",
       "</div>"
      ],
      "text/plain": [
       "               Open     High      Low    Close  Adj Close  Volume  variacion  \\\n",
       "Date                                                                           \n",
       "2000-07-26  17.2500  17.5625  17.1875  17.5000  16.163326   28900   0.000000   \n",
       "2000-07-27  17.5000  17.6250  17.3750  17.5000  16.163326   61200   0.000000   \n",
       "2000-07-28  17.5625  17.5625  17.1250  17.3750  16.047871  146100  -0.714306   \n",
       "2000-07-31  17.5000  17.6875  16.8750  17.6875  16.336502  178400   1.798565   \n",
       "2000-08-01  17.5625  18.4375  17.2500  17.5000  16.163326   87400  -1.060054   \n",
       "...             ...      ...      ...      ...        ...     ...        ...   \n",
       "2021-04-28   7.7200   8.1300   7.6800   7.7900   7.790000  887800   0.906738   \n",
       "2021-04-29   7.8200   7.8600   7.6000   7.6300   7.630000  371800  -2.053913   \n",
       "2021-04-30   7.5400   7.5600   7.4200   7.4900   7.490000  322700  -1.834867   \n",
       "2021-05-03   7.5400   7.6000   7.2800   7.3200   7.320000  485100  -2.269688   \n",
       "2021-05-04   7.2600   7.3300   7.1050   7.2400   7.240000  539474  -1.092902   \n",
       "\n",
       "            variacion_ranking  variacion_ranking_pct  \n",
       "Date                                                  \n",
       "2000-07-26             2615.0               0.500383  \n",
       "2000-07-27             2615.0               0.500383  \n",
       "2000-07-28             2024.0               0.387294  \n",
       "2000-07-31             3918.0               0.749713  \n",
       "2000-08-01             1769.0               0.338500  \n",
       "...                       ...                    ...  \n",
       "2021-04-28             3367.0               0.644279  \n",
       "2021-04-29             1145.0               0.219097  \n",
       "2021-04-30             1247.0               0.238615  \n",
       "2021-05-03             1045.0               0.199962  \n",
       "2021-05-04             1748.0               0.334481  \n",
       "\n",
       "[5226 rows x 9 columns]"
      ]
     },
     "execution_count": 6,
     "metadata": {},
     "output_type": "execute_result"
    }
   ],
   "source": [
    "import yfinance as yf\n",
    "data = yf.download('GGAL')\n",
    "data['variacion'] = data['Adj Close'].pct_change() *100\n",
    "data.dropna(inplace=True)\n",
    "data['variacion_ranking'] = data.variacion.rank() \n",
    "\n",
    "data['variacion_ranking_pct'] = data.variacion.rank(pct=True)\n",
    "#data.sort_values('variacion_ranking')\n",
    "\n",
    "data"
   ]
  },
  {
   "cell_type": "code",
   "execution_count": 7,
   "metadata": {},
   "outputs": [
    {
     "data": {
      "text/plain": [
       "0.3344814389590509"
      ]
     },
     "execution_count": 7,
     "metadata": {},
     "output_type": "execute_result"
    }
   ],
   "source": [
    "1748/5226"
   ]
  },
  {
   "cell_type": "code",
   "execution_count": 8,
   "metadata": {},
   "outputs": [],
   "source": [
    "# Hay un 33.44% de probabilidades de que GGAL varíe menos de -1.092% \n",
    "    # (lo que vario ese dia del percentil 0.3344)"
   ]
  },
  {
   "cell_type": "code",
   "execution_count": null,
   "metadata": {},
   "outputs": [],
   "source": []
  },
  {
   "cell_type": "code",
   "execution_count": null,
   "metadata": {},
   "outputs": [],
   "source": []
  },
  {
   "cell_type": "markdown",
   "metadata": {},
   "source": [
    "## Repaso de quantiles, cuartiles, quintiles, deciles, percentiles y blabla_iles"
   ]
  },
  {
   "cell_type": "markdown",
   "metadata": {},
   "source": [
    "<img src='imagenes/quantiles.png' style='width:600px;float:left;'>"
   ]
  },
  {
   "cell_type": "code",
   "execution_count": null,
   "metadata": {},
   "outputs": [],
   "source": []
  },
  {
   "cell_type": "code",
   "execution_count": null,
   "metadata": {},
   "outputs": [],
   "source": []
  },
  {
   "cell_type": "markdown",
   "metadata": {},
   "source": [
    "## Quantiles"
   ]
  },
  {
   "cell_type": "code",
   "execution_count": 9,
   "metadata": {},
   "outputs": [
    {
     "name": "stdout",
     "output_type": "stream",
     "text": [
      "[*********************100%***********************]  1 of 1 completed\n"
     ]
    },
    {
     "data": {
      "text/html": [
       "<div>\n",
       "<style scoped>\n",
       "    .dataframe tbody tr th:only-of-type {\n",
       "        vertical-align: middle;\n",
       "    }\n",
       "\n",
       "    .dataframe tbody tr th {\n",
       "        vertical-align: top;\n",
       "    }\n",
       "\n",
       "    .dataframe thead th {\n",
       "        text-align: right;\n",
       "    }\n",
       "</style>\n",
       "<table border=\"1\" class=\"dataframe\">\n",
       "  <thead>\n",
       "    <tr style=\"text-align: right;\">\n",
       "      <th></th>\n",
       "      <th>Open</th>\n",
       "      <th>High</th>\n",
       "      <th>Low</th>\n",
       "      <th>Close</th>\n",
       "      <th>Adj Close</th>\n",
       "      <th>Volume</th>\n",
       "      <th>variacion</th>\n",
       "      <th>variacion_ranking</th>\n",
       "      <th>variacion_ranking_pct</th>\n",
       "    </tr>\n",
       "    <tr>\n",
       "      <th>Date</th>\n",
       "      <th></th>\n",
       "      <th></th>\n",
       "      <th></th>\n",
       "      <th></th>\n",
       "      <th></th>\n",
       "      <th></th>\n",
       "      <th></th>\n",
       "      <th></th>\n",
       "      <th></th>\n",
       "    </tr>\n",
       "  </thead>\n",
       "  <tbody>\n",
       "    <tr>\n",
       "      <th>2000-07-26</th>\n",
       "      <td>17.2500</td>\n",
       "      <td>17.5625</td>\n",
       "      <td>17.1875</td>\n",
       "      <td>17.5000</td>\n",
       "      <td>16.163326</td>\n",
       "      <td>28900</td>\n",
       "      <td>0.000000</td>\n",
       "      <td>2615.0</td>\n",
       "      <td>0.500383</td>\n",
       "    </tr>\n",
       "    <tr>\n",
       "      <th>2000-07-27</th>\n",
       "      <td>17.5000</td>\n",
       "      <td>17.6250</td>\n",
       "      <td>17.3750</td>\n",
       "      <td>17.5000</td>\n",
       "      <td>16.163326</td>\n",
       "      <td>61200</td>\n",
       "      <td>0.000000</td>\n",
       "      <td>2615.0</td>\n",
       "      <td>0.500383</td>\n",
       "    </tr>\n",
       "    <tr>\n",
       "      <th>2000-07-28</th>\n",
       "      <td>17.5625</td>\n",
       "      <td>17.5625</td>\n",
       "      <td>17.1250</td>\n",
       "      <td>17.3750</td>\n",
       "      <td>16.047871</td>\n",
       "      <td>146100</td>\n",
       "      <td>-0.714306</td>\n",
       "      <td>2024.0</td>\n",
       "      <td>0.387294</td>\n",
       "    </tr>\n",
       "    <tr>\n",
       "      <th>2000-07-31</th>\n",
       "      <td>17.5000</td>\n",
       "      <td>17.6875</td>\n",
       "      <td>16.8750</td>\n",
       "      <td>17.6875</td>\n",
       "      <td>16.336502</td>\n",
       "      <td>178400</td>\n",
       "      <td>1.798565</td>\n",
       "      <td>3918.0</td>\n",
       "      <td>0.749713</td>\n",
       "    </tr>\n",
       "    <tr>\n",
       "      <th>2000-08-01</th>\n",
       "      <td>17.5625</td>\n",
       "      <td>18.4375</td>\n",
       "      <td>17.2500</td>\n",
       "      <td>17.5000</td>\n",
       "      <td>16.163326</td>\n",
       "      <td>87400</td>\n",
       "      <td>-1.060054</td>\n",
       "      <td>1769.0</td>\n",
       "      <td>0.338500</td>\n",
       "    </tr>\n",
       "    <tr>\n",
       "      <th>...</th>\n",
       "      <td>...</td>\n",
       "      <td>...</td>\n",
       "      <td>...</td>\n",
       "      <td>...</td>\n",
       "      <td>...</td>\n",
       "      <td>...</td>\n",
       "      <td>...</td>\n",
       "      <td>...</td>\n",
       "      <td>...</td>\n",
       "    </tr>\n",
       "    <tr>\n",
       "      <th>2021-04-28</th>\n",
       "      <td>7.7200</td>\n",
       "      <td>8.1300</td>\n",
       "      <td>7.6800</td>\n",
       "      <td>7.7900</td>\n",
       "      <td>7.790000</td>\n",
       "      <td>887800</td>\n",
       "      <td>0.906738</td>\n",
       "      <td>3367.0</td>\n",
       "      <td>0.644279</td>\n",
       "    </tr>\n",
       "    <tr>\n",
       "      <th>2021-04-29</th>\n",
       "      <td>7.8200</td>\n",
       "      <td>7.8600</td>\n",
       "      <td>7.6000</td>\n",
       "      <td>7.6300</td>\n",
       "      <td>7.630000</td>\n",
       "      <td>371800</td>\n",
       "      <td>-2.053913</td>\n",
       "      <td>1145.0</td>\n",
       "      <td>0.219097</td>\n",
       "    </tr>\n",
       "    <tr>\n",
       "      <th>2021-04-30</th>\n",
       "      <td>7.5400</td>\n",
       "      <td>7.5600</td>\n",
       "      <td>7.4200</td>\n",
       "      <td>7.4900</td>\n",
       "      <td>7.490000</td>\n",
       "      <td>322700</td>\n",
       "      <td>-1.834867</td>\n",
       "      <td>1247.0</td>\n",
       "      <td>0.238615</td>\n",
       "    </tr>\n",
       "    <tr>\n",
       "      <th>2021-05-03</th>\n",
       "      <td>7.5400</td>\n",
       "      <td>7.6000</td>\n",
       "      <td>7.2800</td>\n",
       "      <td>7.3200</td>\n",
       "      <td>7.320000</td>\n",
       "      <td>485100</td>\n",
       "      <td>-2.269688</td>\n",
       "      <td>1045.0</td>\n",
       "      <td>0.199962</td>\n",
       "    </tr>\n",
       "    <tr>\n",
       "      <th>2021-05-04</th>\n",
       "      <td>7.2600</td>\n",
       "      <td>7.3300</td>\n",
       "      <td>7.1050</td>\n",
       "      <td>7.2400</td>\n",
       "      <td>7.240000</td>\n",
       "      <td>539474</td>\n",
       "      <td>-1.092902</td>\n",
       "      <td>1748.0</td>\n",
       "      <td>0.334481</td>\n",
       "    </tr>\n",
       "  </tbody>\n",
       "</table>\n",
       "<p>5226 rows × 9 columns</p>\n",
       "</div>"
      ],
      "text/plain": [
       "               Open     High      Low    Close  Adj Close  Volume  variacion  \\\n",
       "Date                                                                           \n",
       "2000-07-26  17.2500  17.5625  17.1875  17.5000  16.163326   28900   0.000000   \n",
       "2000-07-27  17.5000  17.6250  17.3750  17.5000  16.163326   61200   0.000000   \n",
       "2000-07-28  17.5625  17.5625  17.1250  17.3750  16.047871  146100  -0.714306   \n",
       "2000-07-31  17.5000  17.6875  16.8750  17.6875  16.336502  178400   1.798565   \n",
       "2000-08-01  17.5625  18.4375  17.2500  17.5000  16.163326   87400  -1.060054   \n",
       "...             ...      ...      ...      ...        ...     ...        ...   \n",
       "2021-04-28   7.7200   8.1300   7.6800   7.7900   7.790000  887800   0.906738   \n",
       "2021-04-29   7.8200   7.8600   7.6000   7.6300   7.630000  371800  -2.053913   \n",
       "2021-04-30   7.5400   7.5600   7.4200   7.4900   7.490000  322700  -1.834867   \n",
       "2021-05-03   7.5400   7.6000   7.2800   7.3200   7.320000  485100  -2.269688   \n",
       "2021-05-04   7.2600   7.3300   7.1050   7.2400   7.240000  539474  -1.092902   \n",
       "\n",
       "            variacion_ranking  variacion_ranking_pct  \n",
       "Date                                                  \n",
       "2000-07-26             2615.0               0.500383  \n",
       "2000-07-27             2615.0               0.500383  \n",
       "2000-07-28             2024.0               0.387294  \n",
       "2000-07-31             3918.0               0.749713  \n",
       "2000-08-01             1769.0               0.338500  \n",
       "...                       ...                    ...  \n",
       "2021-04-28             3367.0               0.644279  \n",
       "2021-04-29             1145.0               0.219097  \n",
       "2021-04-30             1247.0               0.238615  \n",
       "2021-05-03             1045.0               0.199962  \n",
       "2021-05-04             1748.0               0.334481  \n",
       "\n",
       "[5226 rows x 9 columns]"
      ]
     },
     "execution_count": 9,
     "metadata": {},
     "output_type": "execute_result"
    }
   ],
   "source": [
    "import yfinance as yf\n",
    "data = yf.download('GGAL')\n",
    "data['variacion'] = data['Adj Close'].pct_change() *100\n",
    "data.dropna(inplace=True)\n",
    "data['variacion_ranking'] = data.variacion.rank() \n",
    "data['variacion_ranking_pct'] = data.variacion.rank(pct=True)\n",
    "data"
   ]
  },
  {
   "cell_type": "code",
   "execution_count": 10,
   "metadata": {},
   "outputs": [
    {
     "data": {
      "text/plain": [
       "-1.0906477674422914"
      ]
     },
     "execution_count": 10,
     "metadata": {},
     "output_type": "execute_result"
    }
   ],
   "source": [
    "data.variacion.quantile(0.334481)"
   ]
  },
  {
   "cell_type": "code",
   "execution_count": null,
   "metadata": {},
   "outputs": [],
   "source": []
  },
  {
   "cell_type": "code",
   "execution_count": 14,
   "metadata": {},
   "outputs": [
    {
     "data": {
      "text/plain": [
       "7.816571322165422"
      ]
     },
     "execution_count": 14,
     "metadata": {},
     "output_type": "execute_result"
    }
   ],
   "source": [
    "data.variacion.quantile(0.975)"
   ]
  },
  {
   "cell_type": "code",
   "execution_count": 15,
   "metadata": {},
   "outputs": [
    {
     "data": {
      "text/plain": [
       "-7.3764004448647755"
      ]
     },
     "execution_count": 15,
     "metadata": {},
     "output_type": "execute_result"
    }
   ],
   "source": [
    "data.variacion.quantile(0.025)"
   ]
  },
  {
   "cell_type": "code",
   "execution_count": 13,
   "metadata": {},
   "outputs": [
    {
     "data": {
      "text/plain": [
       "5.0457184232568135"
      ]
     },
     "execution_count": 13,
     "metadata": {},
     "output_type": "execute_result"
    }
   ],
   "source": [
    "data.variacion.std()"
   ]
  },
  {
   "cell_type": "code",
   "execution_count": null,
   "metadata": {},
   "outputs": [],
   "source": []
  },
  {
   "cell_type": "markdown",
   "metadata": {},
   "source": [
    "# Ideas para practicar"
   ]
  },
  {
   "cell_type": "markdown",
   "metadata": {},
   "source": [
    "### Hipótesis\n",
    "\n",
    "* Hay una variabildiad importante en los retornos en función del día de semana"
   ]
  },
  {
   "cell_type": "markdown",
   "metadata": {},
   "source": [
    "### Buscamos una lista de tickers"
   ]
  },
  {
   "cell_type": "code",
   "execution_count": 16,
   "metadata": {
    "scrolled": true
   },
   "outputs": [
    {
     "name": "stdout",
     "output_type": "stream",
     "text": [
      "['MMM', 'ABT', 'ABBV', 'ABMD', 'ACN', 'ATVI', 'ADBE', 'AMD', 'AAP', 'AES', 'AFL', 'A', 'APD', 'AKAM', 'ALK', 'ALB', 'ARE', 'ALXN', 'ALGN', 'ALLE', 'LNT', 'ALL', 'GOOGL', 'GOOG', 'MO', 'AMZN', 'AMCR', 'AEE', 'AAL', 'AEP', 'AXP', 'AIG', 'AMT', 'AWK', 'AMP', 'ABC', 'AME', 'AMGN', 'APH', 'ADI', 'ANSS', 'ANTM', 'AON', 'AOS', 'APA', 'AAPL', 'AMAT', 'APTV', 'ADM', 'ANET', 'AJG', 'AIZ', 'T', 'ATO', 'ADSK', 'ADP', 'AZO', 'AVB', 'AVY', 'BKR', 'BLL', 'BAC', 'BK', 'BAX', 'BDX', 'BBY', 'BIO', 'BIIB', 'BLK', 'BA', 'BKNG', 'BWA', 'BXP', 'BSX', 'BMY', 'AVGO', 'BR', 'CHRW', 'COG', 'CDNS', 'CZR', 'CPB', 'COF', 'CAH', 'KMX', 'CCL', 'CARR', 'CTLT', 'CAT', 'CBOE', 'CBRE', 'CDW', 'CE', 'CNC', 'CNP', 'CERN', 'CF', 'SCHW', 'CHTR', 'CVX']\n"
     ]
    }
   ],
   "source": [
    "import pandas as pd\n",
    "\n",
    "sp500 = pd.read_html('https://en.wikipedia.org/wiki/List_of_S%26P_500_companies')[0]\n",
    "sp500_tickers = list(sp500.Symbol)\n",
    "sp500_tickers = [e for e in sp500_tickers if e not in ('BRK.B','BF.B')]\n",
    "\n",
    "print(sp500_tickers[:100])"
   ]
  },
  {
   "cell_type": "code",
   "execution_count": 12,
   "metadata": {},
   "outputs": [
    {
     "data": {
      "text/html": [
       "<div>\n",
       "<style scoped>\n",
       "    .dataframe tbody tr th:only-of-type {\n",
       "        vertical-align: middle;\n",
       "    }\n",
       "\n",
       "    .dataframe tbody tr th {\n",
       "        vertical-align: top;\n",
       "    }\n",
       "\n",
       "    .dataframe thead th {\n",
       "        text-align: right;\n",
       "    }\n",
       "</style>\n",
       "<table border=\"1\" class=\"dataframe\">\n",
       "  <thead>\n",
       "    <tr style=\"text-align: right;\">\n",
       "      <th></th>\n",
       "      <th>Symbol</th>\n",
       "      <th>Security</th>\n",
       "      <th>SEC filings</th>\n",
       "      <th>GICS Sector</th>\n",
       "      <th>GICS Sub-Industry</th>\n",
       "      <th>Headquarters Location</th>\n",
       "      <th>Date first added</th>\n",
       "      <th>CIK</th>\n",
       "      <th>Founded</th>\n",
       "    </tr>\n",
       "  </thead>\n",
       "  <tbody>\n",
       "    <tr>\n",
       "      <th>0</th>\n",
       "      <td>MMM</td>\n",
       "      <td>3M Company</td>\n",
       "      <td>reports</td>\n",
       "      <td>Industrials</td>\n",
       "      <td>Industrial Conglomerates</td>\n",
       "      <td>St. Paul, Minnesota</td>\n",
       "      <td>1976-08-09</td>\n",
       "      <td>66740</td>\n",
       "      <td>1902</td>\n",
       "    </tr>\n",
       "    <tr>\n",
       "      <th>1</th>\n",
       "      <td>ABT</td>\n",
       "      <td>Abbott Laboratories</td>\n",
       "      <td>reports</td>\n",
       "      <td>Health Care</td>\n",
       "      <td>Health Care Equipment</td>\n",
       "      <td>North Chicago, Illinois</td>\n",
       "      <td>1964-03-31</td>\n",
       "      <td>1800</td>\n",
       "      <td>1888</td>\n",
       "    </tr>\n",
       "    <tr>\n",
       "      <th>2</th>\n",
       "      <td>ABBV</td>\n",
       "      <td>AbbVie Inc.</td>\n",
       "      <td>reports</td>\n",
       "      <td>Health Care</td>\n",
       "      <td>Pharmaceuticals</td>\n",
       "      <td>North Chicago, Illinois</td>\n",
       "      <td>2012-12-31</td>\n",
       "      <td>1551152</td>\n",
       "      <td>2013 (1888)</td>\n",
       "    </tr>\n",
       "    <tr>\n",
       "      <th>3</th>\n",
       "      <td>ABMD</td>\n",
       "      <td>Abiomed</td>\n",
       "      <td>reports</td>\n",
       "      <td>Health Care</td>\n",
       "      <td>Health Care Equipment</td>\n",
       "      <td>Danvers, Massachusetts</td>\n",
       "      <td>2018-05-31</td>\n",
       "      <td>815094</td>\n",
       "      <td>1981</td>\n",
       "    </tr>\n",
       "    <tr>\n",
       "      <th>4</th>\n",
       "      <td>ACN</td>\n",
       "      <td>Accenture</td>\n",
       "      <td>reports</td>\n",
       "      <td>Information Technology</td>\n",
       "      <td>IT Consulting &amp; Other Services</td>\n",
       "      <td>Dublin, Ireland</td>\n",
       "      <td>2011-07-06</td>\n",
       "      <td>1467373</td>\n",
       "      <td>1989</td>\n",
       "    </tr>\n",
       "    <tr>\n",
       "      <th>...</th>\n",
       "      <td>...</td>\n",
       "      <td>...</td>\n",
       "      <td>...</td>\n",
       "      <td>...</td>\n",
       "      <td>...</td>\n",
       "      <td>...</td>\n",
       "      <td>...</td>\n",
       "      <td>...</td>\n",
       "      <td>...</td>\n",
       "    </tr>\n",
       "    <tr>\n",
       "      <th>500</th>\n",
       "      <td>YUM</td>\n",
       "      <td>Yum! Brands Inc</td>\n",
       "      <td>reports</td>\n",
       "      <td>Consumer Discretionary</td>\n",
       "      <td>Restaurants</td>\n",
       "      <td>Louisville, Kentucky</td>\n",
       "      <td>1997-10-06</td>\n",
       "      <td>1041061</td>\n",
       "      <td>1997</td>\n",
       "    </tr>\n",
       "    <tr>\n",
       "      <th>501</th>\n",
       "      <td>ZBRA</td>\n",
       "      <td>Zebra Technologies</td>\n",
       "      <td>reports</td>\n",
       "      <td>Information Technology</td>\n",
       "      <td>Electronic Equipment &amp; Instruments</td>\n",
       "      <td>Lincolnshire, Illinois</td>\n",
       "      <td>2019-12-23</td>\n",
       "      <td>877212</td>\n",
       "      <td>1969</td>\n",
       "    </tr>\n",
       "    <tr>\n",
       "      <th>502</th>\n",
       "      <td>ZBH</td>\n",
       "      <td>Zimmer Biomet</td>\n",
       "      <td>reports</td>\n",
       "      <td>Health Care</td>\n",
       "      <td>Health Care Equipment</td>\n",
       "      <td>Warsaw, Indiana</td>\n",
       "      <td>2001-08-07</td>\n",
       "      <td>1136869</td>\n",
       "      <td>1927</td>\n",
       "    </tr>\n",
       "    <tr>\n",
       "      <th>503</th>\n",
       "      <td>ZION</td>\n",
       "      <td>Zions Bancorp</td>\n",
       "      <td>reports</td>\n",
       "      <td>Financials</td>\n",
       "      <td>Regional Banks</td>\n",
       "      <td>Salt Lake City, Utah</td>\n",
       "      <td>2001-06-22</td>\n",
       "      <td>109380</td>\n",
       "      <td>1873</td>\n",
       "    </tr>\n",
       "    <tr>\n",
       "      <th>504</th>\n",
       "      <td>ZTS</td>\n",
       "      <td>Zoetis</td>\n",
       "      <td>reports</td>\n",
       "      <td>Health Care</td>\n",
       "      <td>Pharmaceuticals</td>\n",
       "      <td>Parsippany, New Jersey</td>\n",
       "      <td>2013-06-21</td>\n",
       "      <td>1555280</td>\n",
       "      <td>1952</td>\n",
       "    </tr>\n",
       "  </tbody>\n",
       "</table>\n",
       "<p>505 rows × 9 columns</p>\n",
       "</div>"
      ],
      "text/plain": [
       "    Symbol             Security SEC filings             GICS Sector  \\\n",
       "0      MMM           3M Company     reports             Industrials   \n",
       "1      ABT  Abbott Laboratories     reports             Health Care   \n",
       "2     ABBV          AbbVie Inc.     reports             Health Care   \n",
       "3     ABMD              Abiomed     reports             Health Care   \n",
       "4      ACN            Accenture     reports  Information Technology   \n",
       "..     ...                  ...         ...                     ...   \n",
       "500    YUM      Yum! Brands Inc     reports  Consumer Discretionary   \n",
       "501   ZBRA   Zebra Technologies     reports  Information Technology   \n",
       "502    ZBH        Zimmer Biomet     reports             Health Care   \n",
       "503   ZION        Zions Bancorp     reports              Financials   \n",
       "504    ZTS               Zoetis     reports             Health Care   \n",
       "\n",
       "                      GICS Sub-Industry    Headquarters Location  \\\n",
       "0              Industrial Conglomerates      St. Paul, Minnesota   \n",
       "1                 Health Care Equipment  North Chicago, Illinois   \n",
       "2                       Pharmaceuticals  North Chicago, Illinois   \n",
       "3                 Health Care Equipment   Danvers, Massachusetts   \n",
       "4        IT Consulting & Other Services          Dublin, Ireland   \n",
       "..                                  ...                      ...   \n",
       "500                         Restaurants     Louisville, Kentucky   \n",
       "501  Electronic Equipment & Instruments   Lincolnshire, Illinois   \n",
       "502               Health Care Equipment          Warsaw, Indiana   \n",
       "503                      Regional Banks     Salt Lake City, Utah   \n",
       "504                     Pharmaceuticals   Parsippany, New Jersey   \n",
       "\n",
       "    Date first added      CIK      Founded  \n",
       "0         1976-08-09    66740         1902  \n",
       "1         1964-03-31     1800         1888  \n",
       "2         2012-12-31  1551152  2013 (1888)  \n",
       "3         2018-05-31   815094         1981  \n",
       "4         2011-07-06  1467373         1989  \n",
       "..               ...      ...          ...  \n",
       "500       1997-10-06  1041061         1997  \n",
       "501       2019-12-23   877212         1969  \n",
       "502       2001-08-07  1136869         1927  \n",
       "503       2001-06-22   109380         1873  \n",
       "504       2013-06-21  1555280         1952  \n",
       "\n",
       "[505 rows x 9 columns]"
      ]
     },
     "execution_count": 12,
     "metadata": {},
     "output_type": "execute_result"
    }
   ],
   "source": [
    "sp500"
   ]
  },
  {
   "cell_type": "markdown",
   "metadata": {},
   "source": [
    "### Bajamos los cierres diarios de esos tickers"
   ]
  },
  {
   "cell_type": "code",
   "execution_count": 17,
   "metadata": {},
   "outputs": [
    {
     "name": "stdout",
     "output_type": "stream",
     "text": [
      "[*********************100%***********************]  503 of 503 completed\n",
      "Wall time: 1min 23s\n"
     ]
    }
   ],
   "source": [
    "%%time\n",
    "\n",
    "import yfinance as yf\n",
    "import numpy as np\n",
    "\n",
    "tickers = sp500_tickers\n",
    "cierres = yf.download(tickers, start='2000-01-01')['Adj Close']"
   ]
  },
  {
   "cell_type": "code",
   "execution_count": 19,
   "metadata": {},
   "outputs": [
    {
     "data": {
      "text/html": [
       "<div>\n",
       "<style scoped>\n",
       "    .dataframe tbody tr th:only-of-type {\n",
       "        vertical-align: middle;\n",
       "    }\n",
       "\n",
       "    .dataframe tbody tr th {\n",
       "        vertical-align: top;\n",
       "    }\n",
       "\n",
       "    .dataframe thead th {\n",
       "        text-align: right;\n",
       "    }\n",
       "</style>\n",
       "<table border=\"1\" class=\"dataframe\">\n",
       "  <thead>\n",
       "    <tr style=\"text-align: right;\">\n",
       "      <th></th>\n",
       "      <th>A</th>\n",
       "      <th>AAL</th>\n",
       "      <th>AAP</th>\n",
       "      <th>AAPL</th>\n",
       "      <th>...</th>\n",
       "      <th>ZBH</th>\n",
       "      <th>ZBRA</th>\n",
       "      <th>ZION</th>\n",
       "      <th>ZTS</th>\n",
       "    </tr>\n",
       "    <tr>\n",
       "      <th>Date</th>\n",
       "      <th></th>\n",
       "      <th></th>\n",
       "      <th></th>\n",
       "      <th></th>\n",
       "      <th></th>\n",
       "      <th></th>\n",
       "      <th></th>\n",
       "      <th></th>\n",
       "      <th></th>\n",
       "    </tr>\n",
       "  </thead>\n",
       "  <tbody>\n",
       "    <tr>\n",
       "      <th>1999-12-31</th>\n",
       "      <td>NaN</td>\n",
       "      <td>NaN</td>\n",
       "      <td>NaN</td>\n",
       "      <td>NaN</td>\n",
       "      <td>...</td>\n",
       "      <td>NaN</td>\n",
       "      <td>NaN</td>\n",
       "      <td>NaN</td>\n",
       "      <td>NaN</td>\n",
       "    </tr>\n",
       "    <tr>\n",
       "      <th>2000-01-03</th>\n",
       "      <td>44.462685</td>\n",
       "      <td>NaN</td>\n",
       "      <td>NaN</td>\n",
       "      <td>0.860883</td>\n",
       "      <td>...</td>\n",
       "      <td>NaN</td>\n",
       "      <td>25.027779</td>\n",
       "      <td>39.731110</td>\n",
       "      <td>NaN</td>\n",
       "    </tr>\n",
       "    <tr>\n",
       "      <th>2000-01-04</th>\n",
       "      <td>41.066238</td>\n",
       "      <td>NaN</td>\n",
       "      <td>NaN</td>\n",
       "      <td>0.788302</td>\n",
       "      <td>...</td>\n",
       "      <td>NaN</td>\n",
       "      <td>24.666668</td>\n",
       "      <td>37.807178</td>\n",
       "      <td>NaN</td>\n",
       "    </tr>\n",
       "    <tr>\n",
       "      <th>2000-01-05</th>\n",
       "      <td>38.518909</td>\n",
       "      <td>NaN</td>\n",
       "      <td>NaN</td>\n",
       "      <td>0.799837</td>\n",
       "      <td>...</td>\n",
       "      <td>NaN</td>\n",
       "      <td>25.138889</td>\n",
       "      <td>37.762455</td>\n",
       "      <td>NaN</td>\n",
       "    </tr>\n",
       "    <tr>\n",
       "      <th>2000-01-06</th>\n",
       "      <td>37.052242</td>\n",
       "      <td>NaN</td>\n",
       "      <td>NaN</td>\n",
       "      <td>0.730621</td>\n",
       "      <td>...</td>\n",
       "      <td>NaN</td>\n",
       "      <td>23.777779</td>\n",
       "      <td>38.299366</td>\n",
       "      <td>NaN</td>\n",
       "    </tr>\n",
       "    <tr>\n",
       "      <th>...</th>\n",
       "      <td>...</td>\n",
       "      <td>...</td>\n",
       "      <td>...</td>\n",
       "      <td>...</td>\n",
       "      <td>...</td>\n",
       "      <td>...</td>\n",
       "      <td>...</td>\n",
       "      <td>...</td>\n",
       "      <td>...</td>\n",
       "    </tr>\n",
       "    <tr>\n",
       "      <th>2021-04-28</th>\n",
       "      <td>134.800003</td>\n",
       "      <td>21.700001</td>\n",
       "      <td>197.630005</td>\n",
       "      <td>133.580002</td>\n",
       "      <td>...</td>\n",
       "      <td>178.500000</td>\n",
       "      <td>496.600006</td>\n",
       "      <td>55.250000</td>\n",
       "      <td>171.720001</td>\n",
       "    </tr>\n",
       "    <tr>\n",
       "      <th>2021-04-29</th>\n",
       "      <td>134.149994</td>\n",
       "      <td>21.299999</td>\n",
       "      <td>200.679993</td>\n",
       "      <td>133.479996</td>\n",
       "      <td>...</td>\n",
       "      <td>178.610001</td>\n",
       "      <td>496.630005</td>\n",
       "      <td>56.360001</td>\n",
       "      <td>174.520004</td>\n",
       "    </tr>\n",
       "    <tr>\n",
       "      <th>2021-04-30</th>\n",
       "      <td>133.639999</td>\n",
       "      <td>21.719999</td>\n",
       "      <td>200.160004</td>\n",
       "      <td>131.460007</td>\n",
       "      <td>...</td>\n",
       "      <td>177.160004</td>\n",
       "      <td>487.739990</td>\n",
       "      <td>55.799999</td>\n",
       "      <td>173.029999</td>\n",
       "    </tr>\n",
       "    <tr>\n",
       "      <th>2021-05-03</th>\n",
       "      <td>133.190002</td>\n",
       "      <td>21.950001</td>\n",
       "      <td>201.860001</td>\n",
       "      <td>132.539993</td>\n",
       "      <td>...</td>\n",
       "      <td>177.940002</td>\n",
       "      <td>479.049988</td>\n",
       "      <td>55.840000</td>\n",
       "      <td>175.240005</td>\n",
       "    </tr>\n",
       "    <tr>\n",
       "      <th>2021-05-04</th>\n",
       "      <td>130.899994</td>\n",
       "      <td>21.420000</td>\n",
       "      <td>204.149994</td>\n",
       "      <td>127.849998</td>\n",
       "      <td>...</td>\n",
       "      <td>172.929993</td>\n",
       "      <td>470.619995</td>\n",
       "      <td>57.369999</td>\n",
       "      <td>173.770004</td>\n",
       "    </tr>\n",
       "  </tbody>\n",
       "</table>\n",
       "<p>5376 rows × 503 columns</p>\n",
       "</div>"
      ],
      "text/plain": [
       "                     A        AAL         AAP        AAPL  ...         ZBH  \\\n",
       "Date                                                       ...               \n",
       "1999-12-31         NaN        NaN         NaN         NaN  ...         NaN   \n",
       "2000-01-03   44.462685        NaN         NaN    0.860883  ...         NaN   \n",
       "2000-01-04   41.066238        NaN         NaN    0.788302  ...         NaN   \n",
       "2000-01-05   38.518909        NaN         NaN    0.799837  ...         NaN   \n",
       "2000-01-06   37.052242        NaN         NaN    0.730621  ...         NaN   \n",
       "...                ...        ...         ...         ...  ...         ...   \n",
       "2021-04-28  134.800003  21.700001  197.630005  133.580002  ...  178.500000   \n",
       "2021-04-29  134.149994  21.299999  200.679993  133.479996  ...  178.610001   \n",
       "2021-04-30  133.639999  21.719999  200.160004  131.460007  ...  177.160004   \n",
       "2021-05-03  133.190002  21.950001  201.860001  132.539993  ...  177.940002   \n",
       "2021-05-04  130.899994  21.420000  204.149994  127.849998  ...  172.929993   \n",
       "\n",
       "                  ZBRA       ZION         ZTS  \n",
       "Date                                           \n",
       "1999-12-31         NaN        NaN         NaN  \n",
       "2000-01-03   25.027779  39.731110         NaN  \n",
       "2000-01-04   24.666668  37.807178         NaN  \n",
       "2000-01-05   25.138889  37.762455         NaN  \n",
       "2000-01-06   23.777779  38.299366         NaN  \n",
       "...                ...        ...         ...  \n",
       "2021-04-28  496.600006  55.250000  171.720001  \n",
       "2021-04-29  496.630005  56.360001  174.520004  \n",
       "2021-04-30  487.739990  55.799999  173.029999  \n",
       "2021-05-03  479.049988  55.840000  175.240005  \n",
       "2021-05-04  470.619995  57.369999  173.770004  \n",
       "\n",
       "[5376 rows x 503 columns]"
      ]
     },
     "execution_count": 19,
     "metadata": {},
     "output_type": "execute_result"
    }
   ],
   "source": [
    "pd.options.display.max_columns = 8\n",
    "cierres"
   ]
  },
  {
   "cell_type": "markdown",
   "metadata": {},
   "source": [
    "### Armamos una matriz de retornos y una de resumen"
   ]
  },
  {
   "cell_type": "code",
   "execution_count": 25,
   "metadata": {},
   "outputs": [
    {
     "data": {
      "text/html": [
       "<div>\n",
       "<style scoped>\n",
       "    .dataframe tbody tr th:only-of-type {\n",
       "        vertical-align: middle;\n",
       "    }\n",
       "\n",
       "    .dataframe tbody tr th {\n",
       "        vertical-align: top;\n",
       "    }\n",
       "\n",
       "    .dataframe thead th {\n",
       "        text-align: right;\n",
       "    }\n",
       "</style>\n",
       "<table border=\"1\" class=\"dataframe\">\n",
       "  <thead>\n",
       "    <tr style=\"text-align: right;\">\n",
       "      <th></th>\n",
       "      <th>A</th>\n",
       "      <th>AAL</th>\n",
       "      <th>AAP</th>\n",
       "      <th>AAPL</th>\n",
       "      <th>...</th>\n",
       "      <th>ZBH</th>\n",
       "      <th>ZBRA</th>\n",
       "      <th>ZION</th>\n",
       "      <th>ZTS</th>\n",
       "    </tr>\n",
       "    <tr>\n",
       "      <th>Date</th>\n",
       "      <th></th>\n",
       "      <th></th>\n",
       "      <th></th>\n",
       "      <th></th>\n",
       "      <th></th>\n",
       "      <th></th>\n",
       "      <th></th>\n",
       "      <th></th>\n",
       "      <th></th>\n",
       "    </tr>\n",
       "  </thead>\n",
       "  <tbody>\n",
       "    <tr>\n",
       "      <th>0</th>\n",
       "      <td>-0.150902</td>\n",
       "      <td>-0.488536</td>\n",
       "      <td>-0.055006</td>\n",
       "      <td>0.790233</td>\n",
       "      <td>...</td>\n",
       "      <td>-0.120356</td>\n",
       "      <td>-0.175003</td>\n",
       "      <td>-0.173476</td>\n",
       "      <td>-0.253802</td>\n",
       "    </tr>\n",
       "    <tr>\n",
       "      <th>1</th>\n",
       "      <td>0.136385</td>\n",
       "      <td>0.588147</td>\n",
       "      <td>0.283103</td>\n",
       "      <td>0.216145</td>\n",
       "      <td>...</td>\n",
       "      <td>0.266615</td>\n",
       "      <td>0.426750</td>\n",
       "      <td>-0.100801</td>\n",
       "      <td>0.335435</td>\n",
       "    </tr>\n",
       "    <tr>\n",
       "      <th>2</th>\n",
       "      <td>-0.073556</td>\n",
       "      <td>0.032064</td>\n",
       "      <td>0.204872</td>\n",
       "      <td>0.303480</td>\n",
       "      <td>...</td>\n",
       "      <td>0.156182</td>\n",
       "      <td>0.096150</td>\n",
       "      <td>0.093248</td>\n",
       "      <td>0.129811</td>\n",
       "    </tr>\n",
       "    <tr>\n",
       "      <th>3</th>\n",
       "      <td>0.212670</td>\n",
       "      <td>-0.000943</td>\n",
       "      <td>0.214816</td>\n",
       "      <td>0.323277</td>\n",
       "      <td>...</td>\n",
       "      <td>-0.049240</td>\n",
       "      <td>0.137666</td>\n",
       "      <td>0.183574</td>\n",
       "      <td>0.485671</td>\n",
       "    </tr>\n",
       "    <tr>\n",
       "      <th>4</th>\n",
       "      <td>0.127671</td>\n",
       "      <td>-0.127082</td>\n",
       "      <td>0.030194</td>\n",
       "      <td>-0.425644</td>\n",
       "      <td>...</td>\n",
       "      <td>0.198787</td>\n",
       "      <td>0.166549</td>\n",
       "      <td>0.067246</td>\n",
       "      <td>0.339348</td>\n",
       "    </tr>\n",
       "  </tbody>\n",
       "</table>\n",
       "<p>5 rows × 503 columns</p>\n",
       "</div>"
      ],
      "text/plain": [
       "             A       AAL       AAP      AAPL  ...       ZBH      ZBRA  \\\n",
       "Date                                          ...                       \n",
       "0    -0.150902 -0.488536 -0.055006  0.790233  ... -0.120356 -0.175003   \n",
       "1     0.136385  0.588147  0.283103  0.216145  ...  0.266615  0.426750   \n",
       "2    -0.073556  0.032064  0.204872  0.303480  ...  0.156182  0.096150   \n",
       "3     0.212670 -0.000943  0.214816  0.323277  ... -0.049240  0.137666   \n",
       "4     0.127671 -0.127082  0.030194 -0.425644  ...  0.198787  0.166549   \n",
       "\n",
       "          ZION       ZTS  \n",
       "Date                      \n",
       "0    -0.173476 -0.253802  \n",
       "1    -0.100801  0.335435  \n",
       "2     0.093248  0.129811  \n",
       "3     0.183574  0.485671  \n",
       "4     0.067246  0.339348  \n",
       "\n",
       "[5 rows x 503 columns]"
      ]
     },
     "execution_count": 25,
     "metadata": {},
     "output_type": "execute_result"
    }
   ],
   "source": [
    "mat_ret = retornos.groupby(retornos.index.dayofweek).mean()*250\n",
    "mat_ret"
   ]
  },
  {
   "cell_type": "code",
   "execution_count": 20,
   "metadata": {},
   "outputs": [
    {
     "data": {
      "text/html": [
       "<div>\n",
       "<style scoped>\n",
       "    .dataframe tbody tr th:only-of-type {\n",
       "        vertical-align: middle;\n",
       "    }\n",
       "\n",
       "    .dataframe tbody tr th {\n",
       "        vertical-align: top;\n",
       "    }\n",
       "\n",
       "    .dataframe thead th {\n",
       "        text-align: right;\n",
       "    }\n",
       "</style>\n",
       "<table border=\"1\" class=\"dataframe\">\n",
       "  <thead>\n",
       "    <tr style=\"text-align: right;\">\n",
       "      <th></th>\n",
       "      <th>Lunes</th>\n",
       "      <th>Martes</th>\n",
       "      <th>Miercoles</th>\n",
       "      <th>Jueves</th>\n",
       "      <th>Viernes</th>\n",
       "    </tr>\n",
       "  </thead>\n",
       "  <tbody>\n",
       "    <tr>\n",
       "      <th>count</th>\n",
       "      <td>503.000000</td>\n",
       "      <td>503.000000</td>\n",
       "      <td>503.000000</td>\n",
       "      <td>503.000000</td>\n",
       "      <td>503.000000</td>\n",
       "    </tr>\n",
       "    <tr>\n",
       "      <th>mean</th>\n",
       "      <td>-0.033882</td>\n",
       "      <td>0.218415</td>\n",
       "      <td>0.129738</td>\n",
       "      <td>0.143529</td>\n",
       "      <td>0.145102</td>\n",
       "    </tr>\n",
       "    <tr>\n",
       "      <th>std</th>\n",
       "      <td>0.232368</td>\n",
       "      <td>0.177082</td>\n",
       "      <td>0.181413</td>\n",
       "      <td>0.205705</td>\n",
       "      <td>0.215535</td>\n",
       "    </tr>\n",
       "    <tr>\n",
       "      <th>min</th>\n",
       "      <td>-0.998884</td>\n",
       "      <td>-0.299159</td>\n",
       "      <td>-0.541670</td>\n",
       "      <td>-1.000000</td>\n",
       "      <td>-0.554768</td>\n",
       "    </tr>\n",
       "    <tr>\n",
       "      <th>25%</th>\n",
       "      <td>-0.173638</td>\n",
       "      <td>0.111849</td>\n",
       "      <td>0.022004</td>\n",
       "      <td>0.031946</td>\n",
       "      <td>0.018862</td>\n",
       "    </tr>\n",
       "    <tr>\n",
       "      <th>50%</th>\n",
       "      <td>-0.031182</td>\n",
       "      <td>0.206470</td>\n",
       "      <td>0.111062</td>\n",
       "      <td>0.140562</td>\n",
       "      <td>0.140309</td>\n",
       "    </tr>\n",
       "    <tr>\n",
       "      <th>75%</th>\n",
       "      <td>0.090362</td>\n",
       "      <td>0.319301</td>\n",
       "      <td>0.217184</td>\n",
       "      <td>0.264098</td>\n",
       "      <td>0.256131</td>\n",
       "    </tr>\n",
       "    <tr>\n",
       "      <th>max</th>\n",
       "      <td>1.000000</td>\n",
       "      <td>1.000000</td>\n",
       "      <td>1.000000</td>\n",
       "      <td>1.000000</td>\n",
       "      <td>1.000000</td>\n",
       "    </tr>\n",
       "  </tbody>\n",
       "</table>\n",
       "</div>"
      ],
      "text/plain": [
       "            Lunes      Martes   Miercoles      Jueves     Viernes\n",
       "count  503.000000  503.000000  503.000000  503.000000  503.000000\n",
       "mean    -0.033882    0.218415    0.129738    0.143529    0.145102\n",
       "std      0.232368    0.177082    0.181413    0.205705    0.215535\n",
       "min     -0.998884   -0.299159   -0.541670   -1.000000   -0.554768\n",
       "25%     -0.173638    0.111849    0.022004    0.031946    0.018862\n",
       "50%     -0.031182    0.206470    0.111062    0.140562    0.140309\n",
       "75%      0.090362    0.319301    0.217184    0.264098    0.256131\n",
       "max      1.000000    1.000000    1.000000    1.000000    1.000000"
      ]
     },
     "execution_count": 20,
     "metadata": {},
     "output_type": "execute_result"
    }
   ],
   "source": [
    "retornos = np.log((cierres/cierres.shift(1)))\n",
    "\n",
    "mat_ret = retornos.groupby(retornos.index.dayofweek).mean()*250\n",
    "\n",
    "mat_ret = mat_ret.clip(lower=-1, upper=1)\n",
    "mat_ret.index = ['Lunes','Martes','Miercoles','Jueves','Viernes']\n",
    "resumen = mat_ret.transpose()\n",
    "resumen.describe()"
   ]
  },
  {
   "cell_type": "code",
   "execution_count": 15,
   "metadata": {},
   "outputs": [
    {
     "data": {
      "text/html": [
       "<div>\n",
       "<style scoped>\n",
       "    .dataframe tbody tr th:only-of-type {\n",
       "        vertical-align: middle;\n",
       "    }\n",
       "\n",
       "    .dataframe tbody tr th {\n",
       "        vertical-align: top;\n",
       "    }\n",
       "\n",
       "    .dataframe thead th {\n",
       "        text-align: right;\n",
       "    }\n",
       "</style>\n",
       "<table border=\"1\" class=\"dataframe\">\n",
       "  <thead>\n",
       "    <tr style=\"text-align: right;\">\n",
       "      <th></th>\n",
       "      <th>A</th>\n",
       "      <th>AAL</th>\n",
       "      <th>AAP</th>\n",
       "      <th>AAPL</th>\n",
       "      <th>ABBV</th>\n",
       "      <th>...</th>\n",
       "      <th>YUM</th>\n",
       "      <th>ZBH</th>\n",
       "      <th>ZBRA</th>\n",
       "      <th>ZION</th>\n",
       "      <th>ZTS</th>\n",
       "    </tr>\n",
       "  </thead>\n",
       "  <tbody>\n",
       "    <tr>\n",
       "      <th>Lunes</th>\n",
       "      <td>-0.150902</td>\n",
       "      <td>-0.488536</td>\n",
       "      <td>-0.055006</td>\n",
       "      <td>0.790233</td>\n",
       "      <td>-0.074248</td>\n",
       "      <td>...</td>\n",
       "      <td>0.099263</td>\n",
       "      <td>-0.120356</td>\n",
       "      <td>-0.175003</td>\n",
       "      <td>-0.173476</td>\n",
       "      <td>-0.253802</td>\n",
       "    </tr>\n",
       "    <tr>\n",
       "      <th>Martes</th>\n",
       "      <td>0.144015</td>\n",
       "      <td>0.602199</td>\n",
       "      <td>0.285209</td>\n",
       "      <td>0.229385</td>\n",
       "      <td>-0.047351</td>\n",
       "      <td>...</td>\n",
       "      <td>0.198434</td>\n",
       "      <td>0.274769</td>\n",
       "      <td>0.441554</td>\n",
       "      <td>-0.096837</td>\n",
       "      <td>0.348874</td>\n",
       "    </tr>\n",
       "    <tr>\n",
       "      <th>Miercoles</th>\n",
       "      <td>-0.073556</td>\n",
       "      <td>0.032064</td>\n",
       "      <td>0.204872</td>\n",
       "      <td>0.303480</td>\n",
       "      <td>0.402881</td>\n",
       "      <td>...</td>\n",
       "      <td>0.192927</td>\n",
       "      <td>0.156182</td>\n",
       "      <td>0.096150</td>\n",
       "      <td>0.093248</td>\n",
       "      <td>0.131232</td>\n",
       "    </tr>\n",
       "    <tr>\n",
       "      <th>Jueves</th>\n",
       "      <td>0.212670</td>\n",
       "      <td>-0.000943</td>\n",
       "      <td>0.214816</td>\n",
       "      <td>0.323277</td>\n",
       "      <td>0.046151</td>\n",
       "      <td>...</td>\n",
       "      <td>0.220407</td>\n",
       "      <td>-0.049240</td>\n",
       "      <td>0.137666</td>\n",
       "      <td>0.183574</td>\n",
       "      <td>0.485672</td>\n",
       "    </tr>\n",
       "    <tr>\n",
       "      <th>Viernes</th>\n",
       "      <td>0.127671</td>\n",
       "      <td>-0.127082</td>\n",
       "      <td>0.030194</td>\n",
       "      <td>-0.425644</td>\n",
       "      <td>0.577175</td>\n",
       "      <td>...</td>\n",
       "      <td>0.034068</td>\n",
       "      <td>0.198787</td>\n",
       "      <td>0.166549</td>\n",
       "      <td>0.067246</td>\n",
       "      <td>0.339348</td>\n",
       "    </tr>\n",
       "  </tbody>\n",
       "</table>\n",
       "<p>5 rows × 503 columns</p>\n",
       "</div>"
      ],
      "text/plain": [
       "                  A       AAL       AAP      AAPL      ABBV  ...       YUM  \\\n",
       "Lunes     -0.150902 -0.488536 -0.055006  0.790233 -0.074248  ...  0.099263   \n",
       "Martes     0.144015  0.602199  0.285209  0.229385 -0.047351  ...  0.198434   \n",
       "Miercoles -0.073556  0.032064  0.204872  0.303480  0.402881  ...  0.192927   \n",
       "Jueves     0.212670 -0.000943  0.214816  0.323277  0.046151  ...  0.220407   \n",
       "Viernes    0.127671 -0.127082  0.030194 -0.425644  0.577175  ...  0.034068   \n",
       "\n",
       "                ZBH      ZBRA      ZION       ZTS  \n",
       "Lunes     -0.120356 -0.175003 -0.173476 -0.253802  \n",
       "Martes     0.274769  0.441554 -0.096837  0.348874  \n",
       "Miercoles  0.156182  0.096150  0.093248  0.131232  \n",
       "Jueves    -0.049240  0.137666  0.183574  0.485672  \n",
       "Viernes    0.198787  0.166549  0.067246  0.339348  \n",
       "\n",
       "[5 rows x 503 columns]"
      ]
     },
     "execution_count": 15,
     "metadata": {},
     "output_type": "execute_result"
    }
   ],
   "source": [
    "pd.options.display.max_columns = 10\n",
    "mat_ret"
   ]
  },
  {
   "cell_type": "code",
   "execution_count": 16,
   "metadata": {},
   "outputs": [
    {
     "data": {
      "text/html": [
       "<div>\n",
       "<style scoped>\n",
       "    .dataframe tbody tr th:only-of-type {\n",
       "        vertical-align: middle;\n",
       "    }\n",
       "\n",
       "    .dataframe tbody tr th {\n",
       "        vertical-align: top;\n",
       "    }\n",
       "\n",
       "    .dataframe thead th {\n",
       "        text-align: right;\n",
       "    }\n",
       "</style>\n",
       "<table border=\"1\" class=\"dataframe\">\n",
       "  <thead>\n",
       "    <tr style=\"text-align: right;\">\n",
       "      <th></th>\n",
       "      <th>A</th>\n",
       "      <th>AAL</th>\n",
       "      <th>AAP</th>\n",
       "      <th>AAPL</th>\n",
       "      <th>ABBV</th>\n",
       "      <th>...</th>\n",
       "      <th>YUM</th>\n",
       "      <th>ZBH</th>\n",
       "      <th>ZBRA</th>\n",
       "      <th>ZION</th>\n",
       "      <th>ZTS</th>\n",
       "    </tr>\n",
       "  </thead>\n",
       "  <tbody>\n",
       "    <tr>\n",
       "      <th>count</th>\n",
       "      <td>5.000000</td>\n",
       "      <td>5.000000</td>\n",
       "      <td>5.000000</td>\n",
       "      <td>5.000000</td>\n",
       "      <td>5.000000</td>\n",
       "      <td>...</td>\n",
       "      <td>5.000000</td>\n",
       "      <td>5.000000</td>\n",
       "      <td>5.000000</td>\n",
       "      <td>5.000000</td>\n",
       "      <td>5.000000</td>\n",
       "    </tr>\n",
       "    <tr>\n",
       "      <th>mean</th>\n",
       "      <td>0.051979</td>\n",
       "      <td>0.003541</td>\n",
       "      <td>0.136017</td>\n",
       "      <td>0.244146</td>\n",
       "      <td>0.180922</td>\n",
       "      <td>...</td>\n",
       "      <td>0.149020</td>\n",
       "      <td>0.092028</td>\n",
       "      <td>0.133383</td>\n",
       "      <td>0.014751</td>\n",
       "      <td>0.210265</td>\n",
       "    </tr>\n",
       "    <tr>\n",
       "      <th>std</th>\n",
       "      <td>0.155677</td>\n",
       "      <td>0.393201</td>\n",
       "      <td>0.142212</td>\n",
       "      <td>0.434980</td>\n",
       "      <td>0.292261</td>\n",
       "      <td>...</td>\n",
       "      <td>0.079302</td>\n",
       "      <td>0.168798</td>\n",
       "      <td>0.219418</td>\n",
       "      <td>0.146031</td>\n",
       "      <td>0.288673</td>\n",
       "    </tr>\n",
       "    <tr>\n",
       "      <th>min</th>\n",
       "      <td>-0.150902</td>\n",
       "      <td>-0.488536</td>\n",
       "      <td>-0.055006</td>\n",
       "      <td>-0.425644</td>\n",
       "      <td>-0.074248</td>\n",
       "      <td>...</td>\n",
       "      <td>0.034068</td>\n",
       "      <td>-0.120356</td>\n",
       "      <td>-0.175003</td>\n",
       "      <td>-0.173476</td>\n",
       "      <td>-0.253802</td>\n",
       "    </tr>\n",
       "    <tr>\n",
       "      <th>25%</th>\n",
       "      <td>-0.073556</td>\n",
       "      <td>-0.127082</td>\n",
       "      <td>0.030194</td>\n",
       "      <td>0.229385</td>\n",
       "      <td>-0.047351</td>\n",
       "      <td>...</td>\n",
       "      <td>0.099263</td>\n",
       "      <td>-0.049240</td>\n",
       "      <td>0.096150</td>\n",
       "      <td>-0.096837</td>\n",
       "      <td>0.131232</td>\n",
       "    </tr>\n",
       "    <tr>\n",
       "      <th>50%</th>\n",
       "      <td>0.127671</td>\n",
       "      <td>-0.000943</td>\n",
       "      <td>0.204872</td>\n",
       "      <td>0.303480</td>\n",
       "      <td>0.046151</td>\n",
       "      <td>...</td>\n",
       "      <td>0.192927</td>\n",
       "      <td>0.156182</td>\n",
       "      <td>0.137666</td>\n",
       "      <td>0.067246</td>\n",
       "      <td>0.339348</td>\n",
       "    </tr>\n",
       "    <tr>\n",
       "      <th>75%</th>\n",
       "      <td>0.144015</td>\n",
       "      <td>0.032064</td>\n",
       "      <td>0.214816</td>\n",
       "      <td>0.323277</td>\n",
       "      <td>0.402881</td>\n",
       "      <td>...</td>\n",
       "      <td>0.198434</td>\n",
       "      <td>0.198787</td>\n",
       "      <td>0.166549</td>\n",
       "      <td>0.093248</td>\n",
       "      <td>0.348874</td>\n",
       "    </tr>\n",
       "    <tr>\n",
       "      <th>max</th>\n",
       "      <td>0.212670</td>\n",
       "      <td>0.602199</td>\n",
       "      <td>0.285209</td>\n",
       "      <td>0.790233</td>\n",
       "      <td>0.577175</td>\n",
       "      <td>...</td>\n",
       "      <td>0.220407</td>\n",
       "      <td>0.274769</td>\n",
       "      <td>0.441554</td>\n",
       "      <td>0.183574</td>\n",
       "      <td>0.485672</td>\n",
       "    </tr>\n",
       "  </tbody>\n",
       "</table>\n",
       "<p>8 rows × 503 columns</p>\n",
       "</div>"
      ],
      "text/plain": [
       "              A       AAL       AAP      AAPL      ABBV  ...       YUM  \\\n",
       "count  5.000000  5.000000  5.000000  5.000000  5.000000  ...  5.000000   \n",
       "mean   0.051979  0.003541  0.136017  0.244146  0.180922  ...  0.149020   \n",
       "std    0.155677  0.393201  0.142212  0.434980  0.292261  ...  0.079302   \n",
       "min   -0.150902 -0.488536 -0.055006 -0.425644 -0.074248  ...  0.034068   \n",
       "25%   -0.073556 -0.127082  0.030194  0.229385 -0.047351  ...  0.099263   \n",
       "50%    0.127671 -0.000943  0.204872  0.303480  0.046151  ...  0.192927   \n",
       "75%    0.144015  0.032064  0.214816  0.323277  0.402881  ...  0.198434   \n",
       "max    0.212670  0.602199  0.285209  0.790233  0.577175  ...  0.220407   \n",
       "\n",
       "            ZBH      ZBRA      ZION       ZTS  \n",
       "count  5.000000  5.000000  5.000000  5.000000  \n",
       "mean   0.092028  0.133383  0.014751  0.210265  \n",
       "std    0.168798  0.219418  0.146031  0.288673  \n",
       "min   -0.120356 -0.175003 -0.173476 -0.253802  \n",
       "25%   -0.049240  0.096150 -0.096837  0.131232  \n",
       "50%    0.156182  0.137666  0.067246  0.339348  \n",
       "75%    0.198787  0.166549  0.093248  0.348874  \n",
       "max    0.274769  0.441554  0.183574  0.485672  \n",
       "\n",
       "[8 rows x 503 columns]"
      ]
     },
     "execution_count": 16,
     "metadata": {},
     "output_type": "execute_result"
    }
   ],
   "source": [
    "mat_ret.describe()"
   ]
  },
  {
   "cell_type": "code",
   "execution_count": 17,
   "metadata": {},
   "outputs": [
    {
     "data": {
      "text/html": [
       "<div>\n",
       "<style scoped>\n",
       "    .dataframe tbody tr th:only-of-type {\n",
       "        vertical-align: middle;\n",
       "    }\n",
       "\n",
       "    .dataframe tbody tr th {\n",
       "        vertical-align: top;\n",
       "    }\n",
       "\n",
       "    .dataframe thead th {\n",
       "        text-align: right;\n",
       "    }\n",
       "</style>\n",
       "<table border=\"1\" class=\"dataframe\">\n",
       "  <thead>\n",
       "    <tr style=\"text-align: right;\">\n",
       "      <th></th>\n",
       "      <th>Lunes</th>\n",
       "      <th>Martes</th>\n",
       "      <th>Miercoles</th>\n",
       "      <th>Jueves</th>\n",
       "      <th>Viernes</th>\n",
       "    </tr>\n",
       "  </thead>\n",
       "  <tbody>\n",
       "    <tr>\n",
       "      <th>A</th>\n",
       "      <td>-0.150902</td>\n",
       "      <td>0.144015</td>\n",
       "      <td>-0.073556</td>\n",
       "      <td>0.212670</td>\n",
       "      <td>0.127671</td>\n",
       "    </tr>\n",
       "    <tr>\n",
       "      <th>AAL</th>\n",
       "      <td>-0.488536</td>\n",
       "      <td>0.602199</td>\n",
       "      <td>0.032064</td>\n",
       "      <td>-0.000943</td>\n",
       "      <td>-0.127082</td>\n",
       "    </tr>\n",
       "    <tr>\n",
       "      <th>AAP</th>\n",
       "      <td>-0.055006</td>\n",
       "      <td>0.285209</td>\n",
       "      <td>0.204872</td>\n",
       "      <td>0.214816</td>\n",
       "      <td>0.030194</td>\n",
       "    </tr>\n",
       "    <tr>\n",
       "      <th>AAPL</th>\n",
       "      <td>0.790233</td>\n",
       "      <td>0.229385</td>\n",
       "      <td>0.303480</td>\n",
       "      <td>0.323277</td>\n",
       "      <td>-0.425644</td>\n",
       "    </tr>\n",
       "    <tr>\n",
       "      <th>ABBV</th>\n",
       "      <td>-0.074248</td>\n",
       "      <td>-0.047351</td>\n",
       "      <td>0.402881</td>\n",
       "      <td>0.046151</td>\n",
       "      <td>0.577175</td>\n",
       "    </tr>\n",
       "    <tr>\n",
       "      <th>...</th>\n",
       "      <td>...</td>\n",
       "      <td>...</td>\n",
       "      <td>...</td>\n",
       "      <td>...</td>\n",
       "      <td>...</td>\n",
       "    </tr>\n",
       "    <tr>\n",
       "      <th>YUM</th>\n",
       "      <td>0.099263</td>\n",
       "      <td>0.198434</td>\n",
       "      <td>0.192927</td>\n",
       "      <td>0.220407</td>\n",
       "      <td>0.034068</td>\n",
       "    </tr>\n",
       "    <tr>\n",
       "      <th>ZBH</th>\n",
       "      <td>-0.120356</td>\n",
       "      <td>0.274769</td>\n",
       "      <td>0.156182</td>\n",
       "      <td>-0.049240</td>\n",
       "      <td>0.198787</td>\n",
       "    </tr>\n",
       "    <tr>\n",
       "      <th>ZBRA</th>\n",
       "      <td>-0.175003</td>\n",
       "      <td>0.441554</td>\n",
       "      <td>0.096150</td>\n",
       "      <td>0.137666</td>\n",
       "      <td>0.166549</td>\n",
       "    </tr>\n",
       "    <tr>\n",
       "      <th>ZION</th>\n",
       "      <td>-0.173476</td>\n",
       "      <td>-0.096837</td>\n",
       "      <td>0.093248</td>\n",
       "      <td>0.183574</td>\n",
       "      <td>0.067246</td>\n",
       "    </tr>\n",
       "    <tr>\n",
       "      <th>ZTS</th>\n",
       "      <td>-0.253802</td>\n",
       "      <td>0.348874</td>\n",
       "      <td>0.131232</td>\n",
       "      <td>0.485672</td>\n",
       "      <td>0.339348</td>\n",
       "    </tr>\n",
       "  </tbody>\n",
       "</table>\n",
       "<p>503 rows × 5 columns</p>\n",
       "</div>"
      ],
      "text/plain": [
       "         Lunes    Martes  Miercoles    Jueves   Viernes\n",
       "A    -0.150902  0.144015  -0.073556  0.212670  0.127671\n",
       "AAL  -0.488536  0.602199   0.032064 -0.000943 -0.127082\n",
       "AAP  -0.055006  0.285209   0.204872  0.214816  0.030194\n",
       "AAPL  0.790233  0.229385   0.303480  0.323277 -0.425644\n",
       "ABBV -0.074248 -0.047351   0.402881  0.046151  0.577175\n",
       "...        ...       ...        ...       ...       ...\n",
       "YUM   0.099263  0.198434   0.192927  0.220407  0.034068\n",
       "ZBH  -0.120356  0.274769   0.156182 -0.049240  0.198787\n",
       "ZBRA -0.175003  0.441554   0.096150  0.137666  0.166549\n",
       "ZION -0.173476 -0.096837   0.093248  0.183574  0.067246\n",
       "ZTS  -0.253802  0.348874   0.131232  0.485672  0.339348\n",
       "\n",
       "[503 rows x 5 columns]"
      ]
     },
     "execution_count": 17,
     "metadata": {},
     "output_type": "execute_result"
    }
   ],
   "source": [
    "mat_ret.T"
   ]
  },
  {
   "cell_type": "code",
   "execution_count": null,
   "metadata": {},
   "outputs": [],
   "source": []
  },
  {
   "cell_type": "markdown",
   "metadata": {},
   "source": [
    "# Persistir objeto serializado"
   ]
  },
  {
   "cell_type": "markdown",
   "metadata": {},
   "source": [
    "(Ya lo vamos a ver mas adelante...)"
   ]
  },
  {
   "cell_type": "code",
   "execution_count": 18,
   "metadata": {},
   "outputs": [],
   "source": [
    "import pickle\n",
    "\n",
    "with open('retornos.dat', 'wb') as file:\n",
    "    pickle.dump(retornos, file)"
   ]
  },
  {
   "cell_type": "markdown",
   "metadata": {},
   "source": [
    "# Levantar objeto serializado"
   ]
  },
  {
   "cell_type": "code",
   "execution_count": 19,
   "metadata": {},
   "outputs": [],
   "source": [
    "with open('retornos.dat', 'rb') as file:\n",
    "    retornos_load = pickle.load(file)"
   ]
  },
  {
   "cell_type": "code",
   "execution_count": null,
   "metadata": {},
   "outputs": [],
   "source": []
  },
  {
   "cell_type": "code",
   "execution_count": null,
   "metadata": {},
   "outputs": [],
   "source": []
  },
  {
   "cell_type": "code",
   "execution_count": null,
   "metadata": {},
   "outputs": [],
   "source": []
  },
  {
   "cell_type": "markdown",
   "metadata": {},
   "source": [
    "### Graficamos"
   ]
  },
  {
   "cell_type": "code",
   "execution_count": 36,
   "metadata": {},
   "outputs": [
    {
     "data": {
      "text/plain": [
       "<AxesSubplot:>"
      ]
     },
     "execution_count": 36,
     "metadata": {},
     "output_type": "execute_result"
    },
    {
     "data": {
      "image/png": "[encoded data removed]",
      "text/plain": [
       "<Figure size 1080x360 with 1 Axes>"
      ]
     },
     "metadata": {
      "needs_background": "light"
     },
     "output_type": "display_data"
    }
   ],
   "source": [
    "df1 = resumen['Lunes'].rolling(20).mean()\n",
    "df2 = resumen['Martes'].rolling(20).mean()\n",
    "df3 = resumen['Miercoles'].rolling(20).mean()\n",
    "\n",
    "df_todos=  pd.concat([df1,df2,df3], axis=1)\n",
    "df_todos.plot(figsize=(15,5))"
   ]
  },
  {
   "cell_type": "code",
   "execution_count": 21,
   "metadata": {},
   "outputs": [
    {
     "data": {
      "text/plain": [
       "<matplotlib.legend.Legend at 0x283d78dc970>"
      ]
     },
     "execution_count": 21,
     "metadata": {},
     "output_type": "execute_result"
    },
    {
     "data": {
      "image/png": "[encoded data removed]",
      "text/plain": [
       "<Figure size 720x432 with 1 Axes>"
      ]
     },
     "metadata": {
      "needs_background": "light"
     },
     "output_type": "display_data"
    }
   ],
   "source": [
    "import matplotlib.pyplot as plt\n",
    "\n",
    "plt.figure(figsize=(10,6))\n",
    "\n",
    "for dia in resumen.columns:\n",
    "    resumen[dia].rolling(20).mean().plot()\n",
    "\n",
    "\n",
    "plt.legend(loc='upper left')"
   ]
  },
  {
   "cell_type": "code",
   "execution_count": 37,
   "metadata": {
    "scrolled": false
   },
   "outputs": [
    {
     "data": {
      "text/plain": [
       "<AxesSubplot:ylabel='Frequency'>"
      ]
     },
     "execution_count": 37,
     "metadata": {},
     "output_type": "execute_result"
    },
    {
     "data": {
      "image/png": "[encoded data removed]",
      "text/plain": [
       "<Figure size 864x288 with 1 Axes>"
      ]
     },
     "metadata": {
      "needs_background": "light"
     },
     "output_type": "display_data"
    }
   ],
   "source": [
    "resumen.Lunes.plot(kind='hist', bins=100, grid=True, figsize=(12,4), range=(-1,1))"
   ]
  },
  {
   "cell_type": "code",
   "execution_count": 38,
   "metadata": {},
   "outputs": [
    {
     "data": {
      "text/plain": [
       "<AxesSubplot:ylabel='Frequency'>"
      ]
     },
     "execution_count": 38,
     "metadata": {},
     "output_type": "execute_result"
    },
    {
     "data": {
      "image/png": "[encoded data removed]",
      "text/plain": [
       "<Figure size 864x288 with 1 Axes>"
      ]
     },
     "metadata": {
      "needs_background": "light"
     },
     "output_type": "display_data"
    }
   ],
   "source": [
    "resumen.Martes.plot(kind='hist', bins=100, grid=True, figsize=(12,4), range=(-1,1))"
   ]
  },
  {
   "cell_type": "markdown",
   "metadata": {},
   "source": [
    "### BoxPlot"
   ]
  },
  {
   "cell_type": "code",
   "execution_count": 40,
   "metadata": {
    "scrolled": false
   },
   "outputs": [
    {
     "data": {
      "text/plain": [
       "<AxesSubplot:>"
      ]
     },
     "execution_count": 40,
     "metadata": {},
     "output_type": "execute_result"
    },
    {
     "data": {
      "image/png": "[encoded data removed]",
      "text/plain": [
       "<Figure size 720x504 with 1 Axes>"
      ]
     },
     "metadata": {
      "needs_background": "light"
     },
     "output_type": "display_data"
    }
   ],
   "source": [
    "pd.plotting.boxplot_frame(resumen, whis=1.5, showmeans=True, figsize=(10,7))"
   ]
  },
  {
   "cell_type": "markdown",
   "metadata": {},
   "source": [
    "<img src=\"imagenes/boxplot.png\" width=\"800\">"
   ]
  },
  {
   "cell_type": "code",
   "execution_count": null,
   "metadata": {},
   "outputs": [],
   "source": []
  },
  {
   "cell_type": "code",
   "execution_count": null,
   "metadata": {},
   "outputs": [],
   "source": []
  },
  {
   "cell_type": "code",
   "execution_count": null,
   "metadata": {},
   "outputs": [],
   "source": []
  },
  {
   "cell_type": "code",
   "execution_count": null,
   "metadata": {},
   "outputs": [],
   "source": []
  },
  {
   "cell_type": "code",
   "execution_count": null,
   "metadata": {},
   "outputs": [],
   "source": []
  },
  {
   "cell_type": "markdown",
   "metadata": {},
   "source": [
    "# Funciones Acumulativas"
   ]
  },
  {
   "cell_type": "markdown",
   "metadata": {},
   "source": [
    "Las funciones acumulativas nos permiten trabajar en la fila \"n\" de una tabla con todos los datos de las filas \"0 a n\"\n",
    "<br>Dentro de este tipo de funciones encontramos:"
   ]
  },
  {
   "cell_type": "markdown",
   "metadata": {},
   "source": [
    "* cummax()  El máximo acumulado (ideal para máximo histórico por fecha)\n",
    "* cummin()  El mínimo acumulado (ideal para mínimo histórico por fecha)\n",
    "* cumsum() La suma acumulada (ideal para armado se subtotales por fecha)\n",
    "* cumprod() El producto acumulado (ideal para rendimiento compuesto)"
   ]
  },
  {
   "cell_type": "markdown",
   "metadata": {},
   "source": [
    "## Cummax()"
   ]
  },
  {
   "cell_type": "markdown",
   "metadata": {},
   "source": [
    "El uso típico que le vamos a dar a esta función es para saber el máximo histórico de una serie en cada punto de la misma"
   ]
  },
  {
   "cell_type": "code",
   "execution_count": 25,
   "metadata": {},
   "outputs": [
    {
     "name": "stdout",
     "output_type": "stream",
     "text": [
      "[*********************100%***********************]  1 of 1 completed\n"
     ]
    },
    {
     "data": {
      "text/html": [
       "<div>\n",
       "<style scoped>\n",
       "    .dataframe tbody tr th:only-of-type {\n",
       "        vertical-align: middle;\n",
       "    }\n",
       "\n",
       "    .dataframe tbody tr th {\n",
       "        vertical-align: top;\n",
       "    }\n",
       "\n",
       "    .dataframe thead th {\n",
       "        text-align: right;\n",
       "    }\n",
       "</style>\n",
       "<table border=\"1\" class=\"dataframe\">\n",
       "  <thead>\n",
       "    <tr style=\"text-align: right;\">\n",
       "      <th></th>\n",
       "      <th>Open</th>\n",
       "      <th>Close</th>\n",
       "      <th>maxHist</th>\n",
       "    </tr>\n",
       "    <tr>\n",
       "      <th>Date</th>\n",
       "      <th></th>\n",
       "      <th></th>\n",
       "      <th></th>\n",
       "    </tr>\n",
       "  </thead>\n",
       "  <tbody>\n",
       "    <tr>\n",
       "      <th>2000-07-25</th>\n",
       "      <td>16.148895</td>\n",
       "      <td>16.163326</td>\n",
       "      <td>16.163326</td>\n",
       "    </tr>\n",
       "    <tr>\n",
       "      <th>2000-07-26</th>\n",
       "      <td>15.932422</td>\n",
       "      <td>16.163326</td>\n",
       "      <td>16.163326</td>\n",
       "    </tr>\n",
       "    <tr>\n",
       "      <th>2000-07-27</th>\n",
       "      <td>16.163326</td>\n",
       "      <td>16.163326</td>\n",
       "      <td>16.163326</td>\n",
       "    </tr>\n",
       "    <tr>\n",
       "      <th>2000-07-28</th>\n",
       "      <td>16.221049</td>\n",
       "      <td>16.047871</td>\n",
       "      <td>16.163326</td>\n",
       "    </tr>\n",
       "    <tr>\n",
       "      <th>2000-07-31</th>\n",
       "      <td>16.163324</td>\n",
       "      <td>16.336502</td>\n",
       "      <td>16.336502</td>\n",
       "    </tr>\n",
       "    <tr>\n",
       "      <th>2000-08-01</th>\n",
       "      <td>16.221052</td>\n",
       "      <td>16.163326</td>\n",
       "      <td>16.336502</td>\n",
       "    </tr>\n",
       "  </tbody>\n",
       "</table>\n",
       "</div>"
      ],
      "text/plain": [
       "                 Open      Close    maxHist\n",
       "Date                                       \n",
       "2000-07-25  16.148895  16.163326  16.163326\n",
       "2000-07-26  15.932422  16.163326  16.163326\n",
       "2000-07-27  16.163326  16.163326  16.163326\n",
       "2000-07-28  16.221049  16.047871  16.163326\n",
       "2000-07-31  16.163324  16.336502  16.336502\n",
       "2000-08-01  16.221052  16.163326  16.336502"
      ]
     },
     "execution_count": 25,
     "metadata": {},
     "output_type": "execute_result"
    }
   ],
   "source": [
    "data = yf.download('GGAL', auto_adjust=True)\n",
    "data = data.drop([\"High\",\"Low\",\"Volume\"], axis=1)\n",
    "\n",
    "data['maxHist'] = data.Close.cummax()\n",
    "data.head(6)"
   ]
  },
  {
   "cell_type": "code",
   "execution_count": 26,
   "metadata": {},
   "outputs": [
    {
     "data": {
      "text/plain": [
       "<AxesSubplot:xlabel='Date'>"
      ]
     },
     "execution_count": 26,
     "metadata": {},
     "output_type": "execute_result"
    },
    {
     "data": {
      "image/png": "[encoded data removed]",
      "text/plain": [
       "<Figure size 432x288 with 1 Axes>"
      ]
     },
     "metadata": {
      "needs_background": "light"
     },
     "output_type": "display_data"
    }
   ],
   "source": [
    "data.maxHist.plot()"
   ]
  },
  {
   "cell_type": "markdown",
   "metadata": {},
   "source": [
    "## Cummin()"
   ]
  },
  {
   "cell_type": "markdown",
   "metadata": {},
   "source": [
    "Obviamente es lo mismo que el cummax pero para mínimos, la combinación de cummax() y cummin() va a ser muy util para backtestings de drawdowns y recuperaciones posteriores"
   ]
  },
  {
   "cell_type": "code",
   "execution_count": 27,
   "metadata": {},
   "outputs": [
    {
     "data": {
      "text/html": [
       "<div>\n",
       "<style scoped>\n",
       "    .dataframe tbody tr th:only-of-type {\n",
       "        vertical-align: middle;\n",
       "    }\n",
       "\n",
       "    .dataframe tbody tr th {\n",
       "        vertical-align: top;\n",
       "    }\n",
       "\n",
       "    .dataframe thead th {\n",
       "        text-align: right;\n",
       "    }\n",
       "</style>\n",
       "<table border=\"1\" class=\"dataframe\">\n",
       "  <thead>\n",
       "    <tr style=\"text-align: right;\">\n",
       "      <th></th>\n",
       "      <th>Open</th>\n",
       "      <th>Close</th>\n",
       "      <th>maxHist</th>\n",
       "      <th>minHist</th>\n",
       "    </tr>\n",
       "    <tr>\n",
       "      <th>Date</th>\n",
       "      <th></th>\n",
       "      <th></th>\n",
       "      <th></th>\n",
       "      <th></th>\n",
       "    </tr>\n",
       "  </thead>\n",
       "  <tbody>\n",
       "    <tr>\n",
       "      <th>2000-07-25</th>\n",
       "      <td>16.148895</td>\n",
       "      <td>16.163326</td>\n",
       "      <td>16.163326</td>\n",
       "      <td>16.163326</td>\n",
       "    </tr>\n",
       "    <tr>\n",
       "      <th>2000-07-26</th>\n",
       "      <td>15.932422</td>\n",
       "      <td>16.163326</td>\n",
       "      <td>16.163326</td>\n",
       "      <td>16.163326</td>\n",
       "    </tr>\n",
       "    <tr>\n",
       "      <th>2000-07-27</th>\n",
       "      <td>16.163326</td>\n",
       "      <td>16.163326</td>\n",
       "      <td>16.163326</td>\n",
       "      <td>16.163326</td>\n",
       "    </tr>\n",
       "    <tr>\n",
       "      <th>2000-07-28</th>\n",
       "      <td>16.221049</td>\n",
       "      <td>16.047871</td>\n",
       "      <td>16.163326</td>\n",
       "      <td>16.047871</td>\n",
       "    </tr>\n",
       "    <tr>\n",
       "      <th>2000-07-31</th>\n",
       "      <td>16.163324</td>\n",
       "      <td>16.336502</td>\n",
       "      <td>16.336502</td>\n",
       "      <td>16.047871</td>\n",
       "    </tr>\n",
       "    <tr>\n",
       "      <th>2000-08-01</th>\n",
       "      <td>16.221052</td>\n",
       "      <td>16.163326</td>\n",
       "      <td>16.336502</td>\n",
       "      <td>16.047871</td>\n",
       "    </tr>\n",
       "  </tbody>\n",
       "</table>\n",
       "</div>"
      ],
      "text/plain": [
       "                 Open      Close    maxHist    minHist\n",
       "Date                                                  \n",
       "2000-07-25  16.148895  16.163326  16.163326  16.163326\n",
       "2000-07-26  15.932422  16.163326  16.163326  16.163326\n",
       "2000-07-27  16.163326  16.163326  16.163326  16.163326\n",
       "2000-07-28  16.221049  16.047871  16.163326  16.047871\n",
       "2000-07-31  16.163324  16.336502  16.336502  16.047871\n",
       "2000-08-01  16.221052  16.163326  16.336502  16.047871"
      ]
     },
     "execution_count": 27,
     "metadata": {},
     "output_type": "execute_result"
    }
   ],
   "source": [
    "data['minHist'] = data.Close.cummin()\n",
    "data.head(6)"
   ]
  },
  {
   "cell_type": "code",
   "execution_count": 28,
   "metadata": {},
   "outputs": [
    {
     "data": {
      "text/plain": [
       "<AxesSubplot:xlabel='Date'>"
      ]
     },
     "execution_count": 28,
     "metadata": {},
     "output_type": "execute_result"
    },
    {
     "data": {
      "image/png": "[encoded data removed]",
      "text/plain": [
       "<Figure size 432x288 with 1 Axes>"
      ]
     },
     "metadata": {
      "needs_background": "light"
     },
     "output_type": "display_data"
    }
   ],
   "source": [
    "data.iloc[:, -3: ].plot(logy=True)"
   ]
  },
  {
   "cell_type": "code",
   "execution_count": null,
   "metadata": {},
   "outputs": [],
   "source": []
  },
  {
   "cell_type": "markdown",
   "metadata": {},
   "source": [
    "## Cumsum()"
   ]
  },
  {
   "cell_type": "markdown",
   "metadata": {},
   "source": [
    "Cumsum() es obviamente una funcion de sumas acumuladas, que en la posicion de la fila \"n\" nos devuelve la suma de \"0 a n\" (inclusive)"
   ]
  },
  {
   "cell_type": "markdown",
   "metadata": {},
   "source": [
    "$$ \\large cumsum\\hspace{3mm}(X_{n})\\hspace{3mm}  =  \\hspace{3mm} \\sum_{i=0}^{n}x_{i} $$"
   ]
  },
  {
   "cell_type": "markdown",
   "metadata": {},
   "source": [
    "En el ejemplo aprovechamos para borrar las columnas de OHLC par limpiar un poco la salida con la función drop()"
   ]
  },
  {
   "cell_type": "code",
   "execution_count": 29,
   "metadata": {},
   "outputs": [
    {
     "name": "stdout",
     "output_type": "stream",
     "text": [
      "[*********************100%***********************]  1 of 1 completed\n"
     ]
    },
    {
     "data": {
      "text/html": [
       "<div>\n",
       "<style scoped>\n",
       "    .dataframe tbody tr th:only-of-type {\n",
       "        vertical-align: middle;\n",
       "    }\n",
       "\n",
       "    .dataframe tbody tr th {\n",
       "        vertical-align: top;\n",
       "    }\n",
       "\n",
       "    .dataframe thead th {\n",
       "        text-align: right;\n",
       "    }\n",
       "</style>\n",
       "<table border=\"1\" class=\"dataframe\">\n",
       "  <thead>\n",
       "    <tr style=\"text-align: right;\">\n",
       "      <th></th>\n",
       "      <th>Volume</th>\n",
       "      <th>volumenAcum</th>\n",
       "    </tr>\n",
       "    <tr>\n",
       "      <th>Date</th>\n",
       "      <th></th>\n",
       "      <th></th>\n",
       "    </tr>\n",
       "  </thead>\n",
       "  <tbody>\n",
       "    <tr>\n",
       "      <th>2000-07-25</th>\n",
       "      <td>126200</td>\n",
       "      <td>0.13</td>\n",
       "    </tr>\n",
       "    <tr>\n",
       "      <th>2000-07-26</th>\n",
       "      <td>28900</td>\n",
       "      <td>0.16</td>\n",
       "    </tr>\n",
       "    <tr>\n",
       "      <th>2000-07-27</th>\n",
       "      <td>61200</td>\n",
       "      <td>0.22</td>\n",
       "    </tr>\n",
       "    <tr>\n",
       "      <th>2000-07-28</th>\n",
       "      <td>146100</td>\n",
       "      <td>0.36</td>\n",
       "    </tr>\n",
       "    <tr>\n",
       "      <th>2000-07-31</th>\n",
       "      <td>178400</td>\n",
       "      <td>0.54</td>\n",
       "    </tr>\n",
       "    <tr>\n",
       "      <th>2000-08-01</th>\n",
       "      <td>87400</td>\n",
       "      <td>0.63</td>\n",
       "    </tr>\n",
       "  </tbody>\n",
       "</table>\n",
       "</div>"
      ],
      "text/plain": [
       "            Volume  volumenAcum\n",
       "Date                           \n",
       "2000-07-25  126200         0.13\n",
       "2000-07-26   28900         0.16\n",
       "2000-07-27   61200         0.22\n",
       "2000-07-28  146100         0.36\n",
       "2000-07-31  178400         0.54\n",
       "2000-08-01   87400         0.63"
      ]
     },
     "execution_count": 29,
     "metadata": {},
     "output_type": "execute_result"
    }
   ],
   "source": [
    "data = yf.download('GGAL', auto_adjust=True)\n",
    "data['volumenAcum'] = data.Volume.cumsum()/1000000\n",
    "data = data.drop(['Open','High','Low','Close'],1).dropna().round(2)\n",
    "data.head(6)"
   ]
  },
  {
   "cell_type": "code",
   "execution_count": 30,
   "metadata": {},
   "outputs": [
    {
     "data": {
      "text/plain": [
       "<AxesSubplot:xlabel='Date'>"
      ]
     },
     "execution_count": 30,
     "metadata": {},
     "output_type": "execute_result"
    },
    {
     "data": {
      "image/png": "[encoded data removed]",
      "text/plain": [
       "<Figure size 432x288 with 1 Axes>"
      ]
     },
     "metadata": {
      "needs_background": "light"
     },
     "output_type": "display_data"
    }
   ],
   "source": [
    "data.volumenAcum.plot()"
   ]
  },
  {
   "cell_type": "markdown",
   "metadata": {},
   "source": [
    "## Cumprod()"
   ]
  },
  {
   "cell_type": "markdown",
   "metadata": {},
   "source": [
    "Cumprod() es una función de productorio, es decir el producto acumulado de 0 a n, para la fila n "
   ]
  },
  {
   "cell_type": "markdown",
   "metadata": {},
   "source": [
    "$$ \\large cumprod\\hspace{3mm}(X_{n})\\hspace{3mm}  =  \\hspace{3mm} \\prod_{i=0}^{n}x_{i} $$"
   ]
  },
  {
   "cell_type": "markdown",
   "metadata": {},
   "source": [
    "Vamos a usar esta fórmula para calcular rendimiento compuesto, es muy sencillo:\n",
    "<br>  1- Creamos una columna \"variacion\" con el valor \"r\", rendimiento porcentual diario.\n",
    "<br>  2- Creamos una columna \"factor\" con el valor (1+r)\n",
    "<br>  2- Luego vamos a aplicar el productorio para cada fila de esa columna \"factor\" y le restamos 1 al resultado."
   ]
  },
  {
   "cell_type": "code",
   "execution_count": 31,
   "metadata": {},
   "outputs": [
    {
     "name": "stdout",
     "output_type": "stream",
     "text": [
      "[*********************100%***********************]  1 of 1 completed\n"
     ]
    },
    {
     "data": {
      "text/html": [
       "<div>\n",
       "<style scoped>\n",
       "    .dataframe tbody tr th:only-of-type {\n",
       "        vertical-align: middle;\n",
       "    }\n",
       "\n",
       "    .dataframe tbody tr th {\n",
       "        vertical-align: top;\n",
       "    }\n",
       "\n",
       "    .dataframe thead th {\n",
       "        text-align: right;\n",
       "    }\n",
       "</style>\n",
       "<table border=\"1\" class=\"dataframe\">\n",
       "  <thead>\n",
       "    <tr style=\"text-align: right;\">\n",
       "      <th></th>\n",
       "      <th>variacion</th>\n",
       "      <th>factor</th>\n",
       "      <th>rendimientoAcum</th>\n",
       "      <th>base100</th>\n",
       "    </tr>\n",
       "    <tr>\n",
       "      <th>Date</th>\n",
       "      <th></th>\n",
       "      <th></th>\n",
       "      <th></th>\n",
       "      <th></th>\n",
       "    </tr>\n",
       "  </thead>\n",
       "  <tbody>\n",
       "    <tr>\n",
       "      <th>2000-07-26</th>\n",
       "      <td>0.0000</td>\n",
       "      <td>1.0000</td>\n",
       "      <td>0.0000</td>\n",
       "      <td>100.0000</td>\n",
       "    </tr>\n",
       "    <tr>\n",
       "      <th>2000-07-27</th>\n",
       "      <td>0.0000</td>\n",
       "      <td>1.0000</td>\n",
       "      <td>0.0000</td>\n",
       "      <td>100.0000</td>\n",
       "    </tr>\n",
       "    <tr>\n",
       "      <th>2000-07-28</th>\n",
       "      <td>-0.0071</td>\n",
       "      <td>0.9929</td>\n",
       "      <td>-0.7143</td>\n",
       "      <td>99.2857</td>\n",
       "    </tr>\n",
       "    <tr>\n",
       "      <th>2000-07-31</th>\n",
       "      <td>0.0180</td>\n",
       "      <td>1.0180</td>\n",
       "      <td>1.0714</td>\n",
       "      <td>101.0714</td>\n",
       "    </tr>\n",
       "    <tr>\n",
       "      <th>2000-08-01</th>\n",
       "      <td>-0.0106</td>\n",
       "      <td>0.9894</td>\n",
       "      <td>-0.0000</td>\n",
       "      <td>100.0000</td>\n",
       "    </tr>\n",
       "    <tr>\n",
       "      <th>...</th>\n",
       "      <td>...</td>\n",
       "      <td>...</td>\n",
       "      <td>...</td>\n",
       "      <td>...</td>\n",
       "    </tr>\n",
       "    <tr>\n",
       "      <th>2021-04-27</th>\n",
       "      <td>0.0418</td>\n",
       "      <td>1.0418</td>\n",
       "      <td>-52.2376</td>\n",
       "      <td>47.7624</td>\n",
       "    </tr>\n",
       "    <tr>\n",
       "      <th>2021-04-28</th>\n",
       "      <td>0.0091</td>\n",
       "      <td>1.0091</td>\n",
       "      <td>-51.8045</td>\n",
       "      <td>48.1955</td>\n",
       "    </tr>\n",
       "    <tr>\n",
       "      <th>2021-04-29</th>\n",
       "      <td>-0.0205</td>\n",
       "      <td>0.9795</td>\n",
       "      <td>-52.7944</td>\n",
       "      <td>47.2056</td>\n",
       "    </tr>\n",
       "    <tr>\n",
       "      <th>2021-04-30</th>\n",
       "      <td>-0.0183</td>\n",
       "      <td>0.9817</td>\n",
       "      <td>-53.6605</td>\n",
       "      <td>46.3395</td>\n",
       "    </tr>\n",
       "    <tr>\n",
       "      <th>2021-05-03</th>\n",
       "      <td>-0.0227</td>\n",
       "      <td>0.9773</td>\n",
       "      <td>-54.7123</td>\n",
       "      <td>45.2877</td>\n",
       "    </tr>\n",
       "  </tbody>\n",
       "</table>\n",
       "<p>5225 rows × 4 columns</p>\n",
       "</div>"
      ],
      "text/plain": [
       "            variacion  factor  rendimientoAcum   base100\n",
       "Date                                                    \n",
       "2000-07-26     0.0000  1.0000           0.0000  100.0000\n",
       "2000-07-27     0.0000  1.0000           0.0000  100.0000\n",
       "2000-07-28    -0.0071  0.9929          -0.7143   99.2857\n",
       "2000-07-31     0.0180  1.0180           1.0714  101.0714\n",
       "2000-08-01    -0.0106  0.9894          -0.0000  100.0000\n",
       "...               ...     ...              ...       ...\n",
       "2021-04-27     0.0418  1.0418         -52.2376   47.7624\n",
       "2021-04-28     0.0091  1.0091         -51.8045   48.1955\n",
       "2021-04-29    -0.0205  0.9795         -52.7944   47.2056\n",
       "2021-04-30    -0.0183  0.9817         -53.6605   46.3395\n",
       "2021-05-03    -0.0227  0.9773         -54.7123   45.2877\n",
       "\n",
       "[5225 rows x 4 columns]"
      ]
     },
     "execution_count": 31,
     "metadata": {},
     "output_type": "execute_result"
    }
   ],
   "source": [
    "data = yf.download('GGAL', auto_adjust=True)\n",
    "\n",
    "data['variacion'] = data['Close'].pct_change()\n",
    "data['factor'] = 1 + data['variacion'] \n",
    "data['rendimientoAcum'] = (data.factor.cumprod()-1)*100\n",
    "data['base100'] = (data.factor.cumprod())*100\n",
    "\n",
    "data = data.drop(['Open','High','Low','Close','Volume'],1).dropna().round(4)\n",
    "data"
   ]
  },
  {
   "cell_type": "code",
   "execution_count": 32,
   "metadata": {},
   "outputs": [
    {
     "data": {
      "text/plain": [
       "<AxesSubplot:xlabel='Date'>"
      ]
     },
     "execution_count": 32,
     "metadata": {},
     "output_type": "execute_result"
    },
    {
     "data": {
      "image/png": "[encoded data removed]",
      "text/plain": [
       "<Figure size 432x288 with 1 Axes>"
      ]
     },
     "metadata": {
      "needs_background": "light"
     },
     "output_type": "display_data"
    }
   ],
   "source": [
    "data.rendimientoAcum.plot()"
   ]
  },
  {
   "cell_type": "code",
   "execution_count": 33,
   "metadata": {},
   "outputs": [
    {
     "data": {
      "text/plain": [
       "<AxesSubplot:xlabel='Date'>"
      ]
     },
     "execution_count": 33,
     "metadata": {},
     "output_type": "execute_result"
    },
    {
     "data": {
      "image/png": "[encoded data removed]",
      "text/plain": [
       "<Figure size 432x288 with 1 Axes>"
      ]
     },
     "metadata": {
      "needs_background": "light"
     },
     "output_type": "display_data"
    }
   ],
   "source": [
    "data.base100.plot(logy=True)"
   ]
  },
  {
   "cell_type": "code",
   "execution_count": null,
   "metadata": {},
   "outputs": [],
   "source": []
  },
  {
   "cell_type": "code",
   "execution_count": 34,
   "metadata": {},
   "outputs": [
    {
     "data": {
      "image/png": "[encoded data removed]",
      "text/plain": [
       "<Figure size 720x360 with 1 Axes>"
      ]
     },
     "metadata": {
      "needs_background": "light"
     },
     "output_type": "display_data"
    }
   ],
   "source": [
    "import matplotlib.pyplot as plt\n",
    "\n",
    "\n",
    "import matplotlib.dates as mdates\n",
    "from datetime import datetime as dtdt\n",
    "\n",
    "fig, ax = plt.subplots(figsize=(10,5))\n",
    "\n",
    "# Ploteo\n",
    "curva = data.rendimientoAcum.rolling(30).mean()\n",
    "\n",
    "# c es color\n",
    "# ls es linestyle\n",
    "# lw es linewidth\n",
    "\n",
    "ax.plot(curva, c='k', ls='-', lw=.5, label='GGAL Buy&Hold desde año 2000')\n",
    "\n",
    "ax.fill_between(data.index, curva, 0, where=curva < 0 ,color='pink')\n",
    "ax.fill_between(data.index, curva, 0, where=curva > 0 ,color='lightgreen')\n",
    "\n",
    "ax.legend(loc='upper left', fontsize=15)\n",
    "\n",
    "# ticks y labels\n",
    "ax.xaxis.set_major_locator(mdates.MonthLocator(interval=18))   \n",
    "ax.xaxis.set_major_formatter(mdates.DateFormatter('%Y-%m')) \n",
    "ax.tick_params(axis='x', rotation=45, labelsize=10, width=5)\n",
    "ax.grid()\n",
    "\n",
    "# Anotaciones\n",
    "eventos = { \"Elecc 2015\": dtdt(2015,10,23), \"  28-D\" : dtdt(2017,12,28),  '  PRE-PASO' : dtdt(2019,8,9) }\n",
    "for k,v in eventos.items():\n",
    "    ax.plot(eventos[k], data.loc[v].rendimientoAcum, 'ko', markersize=15, alpha=.3)\n",
    "    ax.annotate(k, xy=(v,data.loc[v].rendimientoAcum), fontsize=14)"
   ]
  },
  {
   "cell_type": "markdown",
   "metadata": {},
   "source": [
    "## Rolling vs Acumulativas (diferencias)\n",
    "* cummax vs rolling(n).max()\n",
    "* cummin vs rolling(n).min()\n",
    "* cumsum vs rolling(n).sum()\n",
    "\n"
   ]
  },
  {
   "cell_type": "code",
   "execution_count": null,
   "metadata": {},
   "outputs": [],
   "source": []
  },
  {
   "cell_type": "code",
   "execution_count": null,
   "metadata": {},
   "outputs": [],
   "source": []
  },
  {
   "cell_type": "markdown",
   "metadata": {},
   "source": [
    "# Agrupamiento"
   ]
  },
  {
   "cell_type": "code",
   "execution_count": 35,
   "metadata": {},
   "outputs": [
    {
     "name": "stdout",
     "output_type": "stream",
     "text": [
      "[*********************100%***********************]  1 of 1 completed\n"
     ]
    },
    {
     "data": {
      "text/html": [
       "<div>\n",
       "<style scoped>\n",
       "    .dataframe tbody tr th:only-of-type {\n",
       "        vertical-align: middle;\n",
       "    }\n",
       "\n",
       "    .dataframe tbody tr th {\n",
       "        vertical-align: top;\n",
       "    }\n",
       "\n",
       "    .dataframe thead th {\n",
       "        text-align: right;\n",
       "    }\n",
       "</style>\n",
       "<table border=\"1\" class=\"dataframe\">\n",
       "  <thead>\n",
       "    <tr style=\"text-align: right;\">\n",
       "      <th></th>\n",
       "      <th>Open</th>\n",
       "      <th>High</th>\n",
       "      <th>Low</th>\n",
       "      <th>Close</th>\n",
       "      <th>Volume</th>\n",
       "      <th>variacion</th>\n",
       "    </tr>\n",
       "    <tr>\n",
       "      <th>Date</th>\n",
       "      <th></th>\n",
       "      <th></th>\n",
       "      <th></th>\n",
       "      <th></th>\n",
       "      <th></th>\n",
       "      <th></th>\n",
       "    </tr>\n",
       "  </thead>\n",
       "  <tbody>\n",
       "    <tr>\n",
       "      <th>2000-07-25</th>\n",
       "      <td>16.148895</td>\n",
       "      <td>16.394231</td>\n",
       "      <td>15.470612</td>\n",
       "      <td>16.163326</td>\n",
       "      <td>126200</td>\n",
       "      <td>NaN</td>\n",
       "    </tr>\n",
       "    <tr>\n",
       "      <th>2000-07-26</th>\n",
       "      <td>15.932422</td>\n",
       "      <td>16.221052</td>\n",
       "      <td>15.874695</td>\n",
       "      <td>16.163326</td>\n",
       "      <td>28900</td>\n",
       "      <td>0.000000</td>\n",
       "    </tr>\n",
       "    <tr>\n",
       "      <th>2000-07-27</th>\n",
       "      <td>16.163326</td>\n",
       "      <td>16.278779</td>\n",
       "      <td>16.047874</td>\n",
       "      <td>16.163326</td>\n",
       "      <td>61200</td>\n",
       "      <td>0.000000</td>\n",
       "    </tr>\n",
       "    <tr>\n",
       "      <th>2000-07-28</th>\n",
       "      <td>16.221049</td>\n",
       "      <td>16.221049</td>\n",
       "      <td>15.816966</td>\n",
       "      <td>16.047871</td>\n",
       "      <td>146100</td>\n",
       "      <td>-0.007143</td>\n",
       "    </tr>\n",
       "    <tr>\n",
       "      <th>2000-07-31</th>\n",
       "      <td>16.163324</td>\n",
       "      <td>16.336502</td>\n",
       "      <td>15.586062</td>\n",
       "      <td>16.336502</td>\n",
       "      <td>178400</td>\n",
       "      <td>0.017986</td>\n",
       "    </tr>\n",
       "    <tr>\n",
       "      <th>...</th>\n",
       "      <td>...</td>\n",
       "      <td>...</td>\n",
       "      <td>...</td>\n",
       "      <td>...</td>\n",
       "      <td>...</td>\n",
       "      <td>...</td>\n",
       "    </tr>\n",
       "    <tr>\n",
       "      <th>2021-04-27</th>\n",
       "      <td>7.400000</td>\n",
       "      <td>7.810000</td>\n",
       "      <td>7.400000</td>\n",
       "      <td>7.720000</td>\n",
       "      <td>910300</td>\n",
       "      <td>0.041835</td>\n",
       "    </tr>\n",
       "    <tr>\n",
       "      <th>2021-04-28</th>\n",
       "      <td>7.720000</td>\n",
       "      <td>8.130000</td>\n",
       "      <td>7.680000</td>\n",
       "      <td>7.790000</td>\n",
       "      <td>887800</td>\n",
       "      <td>0.009067</td>\n",
       "    </tr>\n",
       "    <tr>\n",
       "      <th>2021-04-29</th>\n",
       "      <td>7.820000</td>\n",
       "      <td>7.860000</td>\n",
       "      <td>7.600000</td>\n",
       "      <td>7.630000</td>\n",
       "      <td>371800</td>\n",
       "      <td>-0.020539</td>\n",
       "    </tr>\n",
       "    <tr>\n",
       "      <th>2021-04-30</th>\n",
       "      <td>7.540000</td>\n",
       "      <td>7.560000</td>\n",
       "      <td>7.420000</td>\n",
       "      <td>7.490000</td>\n",
       "      <td>322700</td>\n",
       "      <td>-0.018349</td>\n",
       "    </tr>\n",
       "    <tr>\n",
       "      <th>2021-05-03</th>\n",
       "      <td>7.540000</td>\n",
       "      <td>7.600000</td>\n",
       "      <td>7.280000</td>\n",
       "      <td>7.320000</td>\n",
       "      <td>485100</td>\n",
       "      <td>-0.022697</td>\n",
       "    </tr>\n",
       "  </tbody>\n",
       "</table>\n",
       "<p>5226 rows × 6 columns</p>\n",
       "</div>"
      ],
      "text/plain": [
       "                 Open       High        Low      Close  Volume  variacion\n",
       "Date                                                                     \n",
       "2000-07-25  16.148895  16.394231  15.470612  16.163326  126200        NaN\n",
       "2000-07-26  15.932422  16.221052  15.874695  16.163326   28900   0.000000\n",
       "2000-07-27  16.163326  16.278779  16.047874  16.163326   61200   0.000000\n",
       "2000-07-28  16.221049  16.221049  15.816966  16.047871  146100  -0.007143\n",
       "2000-07-31  16.163324  16.336502  15.586062  16.336502  178400   0.017986\n",
       "...               ...        ...        ...        ...     ...        ...\n",
       "2021-04-27   7.400000   7.810000   7.400000   7.720000  910300   0.041835\n",
       "2021-04-28   7.720000   8.130000   7.680000   7.790000  887800   0.009067\n",
       "2021-04-29   7.820000   7.860000   7.600000   7.630000  371800  -0.020539\n",
       "2021-04-30   7.540000   7.560000   7.420000   7.490000  322700  -0.018349\n",
       "2021-05-03   7.540000   7.600000   7.280000   7.320000  485100  -0.022697\n",
       "\n",
       "[5226 rows x 6 columns]"
      ]
     },
     "execution_count": 35,
     "metadata": {},
     "output_type": "execute_result"
    }
   ],
   "source": [
    "data = yf.download('GGAL', auto_adjust=True)\n",
    "data['variacion'] = data['Close'].pct_change()\n",
    "data"
   ]
  },
  {
   "cell_type": "markdown",
   "metadata": {},
   "source": [
    "## Agrupamiento - Indices de fechas"
   ]
  },
  {
   "cell_type": "code",
   "execution_count": 36,
   "metadata": {},
   "outputs": [
    {
     "data": {
      "text/plain": [
       "Date\n",
       "0    448881200\n",
       "1    523357000\n",
       "2    510488300\n",
       "3    516871200\n",
       "4    477210300\n",
       "Name: Volume, dtype: int64"
      ]
     },
     "execution_count": 36,
     "metadata": {},
     "output_type": "execute_result"
    }
   ],
   "source": [
    "agrupados = data.Volume.groupby(data.index.dayofweek).sum()\n",
    "agrupados"
   ]
  },
  {
   "cell_type": "code",
   "execution_count": 37,
   "metadata": {},
   "outputs": [
    {
     "data": {
      "text/plain": [
       "Date\n",
       "2000Q3    13.854280\n",
       "2000Q4    13.681103\n",
       "2001Q1    14.186038\n",
       "2001Q2    13.863468\n",
       "2001Q3     5.603779\n",
       "            ...    \n",
       "2020Q2     9.590289\n",
       "2020Q3     7.158113\n",
       "2020Q4     8.740000\n",
       "2021Q1     7.610000\n",
       "2021Q2     7.320000\n",
       "Freq: Q-DEC, Name: Close, Length: 84, dtype: float64"
      ]
     },
     "execution_count": 37,
     "metadata": {},
     "output_type": "execute_result"
    }
   ],
   "source": [
    "agrupados = data.Close.groupby(data.index.to_period('Q')).last()\n",
    "agrupados"
   ]
  },
  {
   "cell_type": "code",
   "execution_count": 38,
   "metadata": {},
   "outputs": [
    {
     "data": {
      "text/plain": [
       "<AxesSubplot:xlabel='Date'>"
      ]
     },
     "execution_count": 38,
     "metadata": {},
     "output_type": "execute_result"
    },
    {
     "data": {
      "image/png": "[encoded data removed]",
      "text/plain": [
       "<Figure size 432x288 with 1 Axes>"
      ]
     },
     "metadata": {
      "needs_background": "light"
     },
     "output_type": "display_data"
    }
   ],
   "source": [
    "agrupados = data.variacion.groupby(data.index.to_period('Y')).mean()\n",
    "agrupados.plot(kind='bar')"
   ]
  },
  {
   "cell_type": "code",
   "execution_count": 39,
   "metadata": {},
   "outputs": [
    {
     "data": {
      "text/html": [
       "<div>\n",
       "<style scoped>\n",
       "    .dataframe tbody tr th:only-of-type {\n",
       "        vertical-align: middle;\n",
       "    }\n",
       "\n",
       "    .dataframe tbody tr th {\n",
       "        vertical-align: top;\n",
       "    }\n",
       "\n",
       "    .dataframe thead th {\n",
       "        text-align: right;\n",
       "    }\n",
       "</style>\n",
       "<table border=\"1\" class=\"dataframe\">\n",
       "  <thead>\n",
       "    <tr style=\"text-align: right;\">\n",
       "      <th></th>\n",
       "      <th></th>\n",
       "      <th>Open</th>\n",
       "      <th>High</th>\n",
       "      <th>Low</th>\n",
       "      <th>Close</th>\n",
       "      <th>Volume</th>\n",
       "      <th>variacion</th>\n",
       "    </tr>\n",
       "    <tr>\n",
       "      <th>Date</th>\n",
       "      <th>Date</th>\n",
       "      <th></th>\n",
       "      <th></th>\n",
       "      <th></th>\n",
       "      <th></th>\n",
       "      <th></th>\n",
       "      <th></th>\n",
       "    </tr>\n",
       "  </thead>\n",
       "  <tbody>\n",
       "    <tr>\n",
       "      <th rowspan=\"5\" valign=\"top\">2000</th>\n",
       "      <th>0</th>\n",
       "      <td>277.605123</td>\n",
       "      <td>280.837788</td>\n",
       "      <td>272.236589</td>\n",
       "      <td>276.970135</td>\n",
       "      <td>2192700</td>\n",
       "      <td>-0.009997</td>\n",
       "    </tr>\n",
       "    <tr>\n",
       "      <th>1</th>\n",
       "      <td>323.324238</td>\n",
       "      <td>328.519592</td>\n",
       "      <td>317.493896</td>\n",
       "      <td>323.093333</td>\n",
       "      <td>3635400</td>\n",
       "      <td>-0.026300</td>\n",
       "    </tr>\n",
       "    <tr>\n",
       "      <th>2</th>\n",
       "      <td>321.635740</td>\n",
       "      <td>326.282696</td>\n",
       "      <td>313.582941</td>\n",
       "      <td>319.528735</td>\n",
       "      <td>3892700</td>\n",
       "      <td>-0.258725</td>\n",
       "    </tr>\n",
       "    <tr>\n",
       "      <th>3</th>\n",
       "      <td>306.699110</td>\n",
       "      <td>314.362258</td>\n",
       "      <td>302.297490</td>\n",
       "      <td>309.469966</td>\n",
       "      <td>6454200</td>\n",
       "      <td>0.249279</td>\n",
       "    </tr>\n",
       "    <tr>\n",
       "      <th>4</th>\n",
       "      <td>323.050030</td>\n",
       "      <td>327.653691</td>\n",
       "      <td>317.032078</td>\n",
       "      <td>321.188361</td>\n",
       "      <td>5101400</td>\n",
       "      <td>-0.073089</td>\n",
       "    </tr>\n",
       "    <tr>\n",
       "      <th rowspan=\"5\" valign=\"top\">2001</th>\n",
       "      <th>0</th>\n",
       "      <td>522.546200</td>\n",
       "      <td>532.601377</td>\n",
       "      <td>510.705124</td>\n",
       "      <td>518.523991</td>\n",
       "      <td>25017500</td>\n",
       "      <td>-0.230101</td>\n",
       "    </tr>\n",
       "    <tr>\n",
       "      <th>1</th>\n",
       "      <td>580.070479</td>\n",
       "      <td>591.403189</td>\n",
       "      <td>566.651415</td>\n",
       "      <td>575.621742</td>\n",
       "      <td>30585500</td>\n",
       "      <td>-0.201903</td>\n",
       "    </tr>\n",
       "    <tr>\n",
       "      <th>2</th>\n",
       "      <td>566.275210</td>\n",
       "      <td>579.020029</td>\n",
       "      <td>551.265151</td>\n",
       "      <td>564.092028</td>\n",
       "      <td>35334500</td>\n",
       "      <td>0.011190</td>\n",
       "    </tr>\n",
       "    <tr>\n",
       "      <th>3</th>\n",
       "      <td>574.199997</td>\n",
       "      <td>584.259112</td>\n",
       "      <td>558.628396</td>\n",
       "      <td>570.967415</td>\n",
       "      <td>39503100</td>\n",
       "      <td>-0.291066</td>\n",
       "    </tr>\n",
       "    <tr>\n",
       "      <th>4</th>\n",
       "      <td>560.078778</td>\n",
       "      <td>570.044262</td>\n",
       "      <td>543.181815</td>\n",
       "      <td>555.603464</td>\n",
       "      <td>35556000</td>\n",
       "      <td>-0.533959</td>\n",
       "    </tr>\n",
       "    <tr>\n",
       "      <th rowspan=\"5\" valign=\"top\">2002</th>\n",
       "      <th>0</th>\n",
       "      <td>56.480445</td>\n",
       "      <td>59.258790</td>\n",
       "      <td>53.381885</td>\n",
       "      <td>55.689324</td>\n",
       "      <td>7069200</td>\n",
       "      <td>-0.582779</td>\n",
       "    </tr>\n",
       "    <tr>\n",
       "      <th>1</th>\n",
       "      <td>61.123577</td>\n",
       "      <td>64.730716</td>\n",
       "      <td>57.789564</td>\n",
       "      <td>61.236594</td>\n",
       "      <td>9342000</td>\n",
       "      <td>0.272971</td>\n",
       "    </tr>\n",
       "    <tr>\n",
       "      <th>2</th>\n",
       "      <td>60.417218</td>\n",
       "      <td>63.035454</td>\n",
       "      <td>56.141393</td>\n",
       "      <td>59.513079</td>\n",
       "      <td>13592700</td>\n",
       "      <td>1.072330</td>\n",
       "    </tr>\n",
       "    <tr>\n",
       "      <th>3</th>\n",
       "      <td>59.870965</td>\n",
       "      <td>63.609958</td>\n",
       "      <td>56.367426</td>\n",
       "      <td>60.021656</td>\n",
       "      <td>16666100</td>\n",
       "      <td>1.875243</td>\n",
       "    </tr>\n",
       "    <tr>\n",
       "      <th>4</th>\n",
       "      <td>60.718597</td>\n",
       "      <td>64.033774</td>\n",
       "      <td>56.395682</td>\n",
       "      <td>59.569587</td>\n",
       "      <td>14014400</td>\n",
       "      <td>-0.443120</td>\n",
       "    </tr>\n",
       "    <tr>\n",
       "      <th rowspan=\"5\" valign=\"top\">2003</th>\n",
       "      <th>0</th>\n",
       "      <td>186.083150</td>\n",
       "      <td>191.178352</td>\n",
       "      <td>181.411764</td>\n",
       "      <td>186.827181</td>\n",
       "      <td>9021300</td>\n",
       "      <td>0.385513</td>\n",
       "    </tr>\n",
       "    <tr>\n",
       "      <th>1</th>\n",
       "      <td>199.569891</td>\n",
       "      <td>204.269533</td>\n",
       "      <td>193.118483</td>\n",
       "      <td>200.332761</td>\n",
       "      <td>12039400</td>\n",
       "      <td>0.715602</td>\n",
       "    </tr>\n",
       "    <tr>\n",
       "      <th>2</th>\n",
       "      <td>200.229162</td>\n",
       "      <td>205.032401</td>\n",
       "      <td>194.738397</td>\n",
       "      <td>199.560475</td>\n",
       "      <td>14062800</td>\n",
       "      <td>-0.090100</td>\n",
       "    </tr>\n",
       "    <tr>\n",
       "      <th>3</th>\n",
       "      <td>183.351896</td>\n",
       "      <td>188.484769</td>\n",
       "      <td>178.850034</td>\n",
       "      <td>183.625019</td>\n",
       "      <td>12791800</td>\n",
       "      <td>0.052749</td>\n",
       "    </tr>\n",
       "    <tr>\n",
       "      <th>4</th>\n",
       "      <td>189.388907</td>\n",
       "      <td>194.305164</td>\n",
       "      <td>185.254353</td>\n",
       "      <td>190.217701</td>\n",
       "      <td>11952200</td>\n",
       "      <td>0.324364</td>\n",
       "    </tr>\n",
       "  </tbody>\n",
       "</table>\n",
       "</div>"
      ],
      "text/plain": [
       "                 Open        High         Low       Close    Volume  variacion\n",
       "Date Date                                                                     \n",
       "2000 0     277.605123  280.837788  272.236589  276.970135   2192700  -0.009997\n",
       "     1     323.324238  328.519592  317.493896  323.093333   3635400  -0.026300\n",
       "     2     321.635740  326.282696  313.582941  319.528735   3892700  -0.258725\n",
       "     3     306.699110  314.362258  302.297490  309.469966   6454200   0.249279\n",
       "     4     323.050030  327.653691  317.032078  321.188361   5101400  -0.073089\n",
       "2001 0     522.546200  532.601377  510.705124  518.523991  25017500  -0.230101\n",
       "     1     580.070479  591.403189  566.651415  575.621742  30585500  -0.201903\n",
       "     2     566.275210  579.020029  551.265151  564.092028  35334500   0.011190\n",
       "     3     574.199997  584.259112  558.628396  570.967415  39503100  -0.291066\n",
       "     4     560.078778  570.044262  543.181815  555.603464  35556000  -0.533959\n",
       "2002 0      56.480445   59.258790   53.381885   55.689324   7069200  -0.582779\n",
       "     1      61.123577   64.730716   57.789564   61.236594   9342000   0.272971\n",
       "     2      60.417218   63.035454   56.141393   59.513079  13592700   1.072330\n",
       "     3      59.870965   63.609958   56.367426   60.021656  16666100   1.875243\n",
       "     4      60.718597   64.033774   56.395682   59.569587  14014400  -0.443120\n",
       "2003 0     186.083150  191.178352  181.411764  186.827181   9021300   0.385513\n",
       "     1     199.569891  204.269533  193.118483  200.332761  12039400   0.715602\n",
       "     2     200.229162  205.032401  194.738397  199.560475  14062800  -0.090100\n",
       "     3     183.351896  188.484769  178.850034  183.625019  12791800   0.052749\n",
       "     4     189.388907  194.305164  185.254353  190.217701  11952200   0.324364"
      ]
     },
     "execution_count": 39,
     "metadata": {},
     "output_type": "execute_result"
    }
   ],
   "source": [
    "agrupados = data.groupby([data.index.year, data.index.dayofweek]).sum()\n",
    "agrupados.head(20)"
   ]
  },
  {
   "cell_type": "code",
   "execution_count": null,
   "metadata": {},
   "outputs": [],
   "source": []
  },
  {
   "cell_type": "code",
   "execution_count": null,
   "metadata": {},
   "outputs": [],
   "source": []
  },
  {
   "cell_type": "code",
   "execution_count": null,
   "metadata": {},
   "outputs": [],
   "source": []
  },
  {
   "cell_type": "markdown",
   "metadata": {},
   "source": [
    "## Agrupamientos lógicos y variables categóricas"
   ]
  },
  {
   "cell_type": "code",
   "execution_count": 40,
   "metadata": {},
   "outputs": [
    {
     "name": "stdout",
     "output_type": "stream",
     "text": [
      "[*********************100%***********************]  1 of 1 completed\n"
     ]
    },
    {
     "data": {
      "text/html": [
       "<div>\n",
       "<style scoped>\n",
       "    .dataframe tbody tr th:only-of-type {\n",
       "        vertical-align: middle;\n",
       "    }\n",
       "\n",
       "    .dataframe tbody tr th {\n",
       "        vertical-align: top;\n",
       "    }\n",
       "\n",
       "    .dataframe thead th {\n",
       "        text-align: right;\n",
       "    }\n",
       "</style>\n",
       "<table border=\"1\" class=\"dataframe\">\n",
       "  <thead>\n",
       "    <tr style=\"text-align: right;\">\n",
       "      <th></th>\n",
       "      <th>Open</th>\n",
       "      <th>High</th>\n",
       "      <th>Low</th>\n",
       "      <th>Close</th>\n",
       "      <th>Volume</th>\n",
       "      <th>variacion</th>\n",
       "      <th>volatilidad</th>\n",
       "      <th>regimen</th>\n",
       "    </tr>\n",
       "    <tr>\n",
       "      <th>Date</th>\n",
       "      <th></th>\n",
       "      <th></th>\n",
       "      <th></th>\n",
       "      <th></th>\n",
       "      <th></th>\n",
       "      <th></th>\n",
       "      <th></th>\n",
       "      <th></th>\n",
       "    </tr>\n",
       "  </thead>\n",
       "  <tbody>\n",
       "    <tr>\n",
       "      <th>2001-07-23</th>\n",
       "      <td>11.226394</td>\n",
       "      <td>11.282903</td>\n",
       "      <td>10.463527</td>\n",
       "      <td>10.585962</td>\n",
       "      <td>1151900</td>\n",
       "      <td>0.027422</td>\n",
       "      <td>0.558950</td>\n",
       "      <td>Media</td>\n",
       "    </tr>\n",
       "    <tr>\n",
       "      <th>2001-07-24</th>\n",
       "      <td>10.557710</td>\n",
       "      <td>10.557710</td>\n",
       "      <td>10.049132</td>\n",
       "      <td>10.077386</td>\n",
       "      <td>518800</td>\n",
       "      <td>-0.048043</td>\n",
       "      <td>0.560919</td>\n",
       "      <td>Media</td>\n",
       "    </tr>\n",
       "    <tr>\n",
       "      <th>2001-07-25</th>\n",
       "      <td>9.889022</td>\n",
       "      <td>10.067965</td>\n",
       "      <td>9.634732</td>\n",
       "      <td>9.936112</td>\n",
       "      <td>1405300</td>\n",
       "      <td>-0.014019</td>\n",
       "      <td>0.561062</td>\n",
       "      <td>Media</td>\n",
       "    </tr>\n",
       "    <tr>\n",
       "      <th>2001-07-26</th>\n",
       "      <td>9.757168</td>\n",
       "      <td>9.841932</td>\n",
       "      <td>9.559388</td>\n",
       "      <td>9.672406</td>\n",
       "      <td>741000</td>\n",
       "      <td>-0.026540</td>\n",
       "      <td>0.561599</td>\n",
       "      <td>Media</td>\n",
       "    </tr>\n",
       "    <tr>\n",
       "      <th>2001-07-27</th>\n",
       "      <td>9.578224</td>\n",
       "      <td>9.841931</td>\n",
       "      <td>9.323934</td>\n",
       "      <td>9.757168</td>\n",
       "      <td>2540300</td>\n",
       "      <td>0.008763</td>\n",
       "      <td>0.561355</td>\n",
       "      <td>Media</td>\n",
       "    </tr>\n",
       "    <tr>\n",
       "      <th>...</th>\n",
       "      <td>...</td>\n",
       "      <td>...</td>\n",
       "      <td>...</td>\n",
       "      <td>...</td>\n",
       "      <td>...</td>\n",
       "      <td>...</td>\n",
       "      <td>...</td>\n",
       "      <td>...</td>\n",
       "    </tr>\n",
       "    <tr>\n",
       "      <th>2021-04-27</th>\n",
       "      <td>7.400000</td>\n",
       "      <td>7.810000</td>\n",
       "      <td>7.400000</td>\n",
       "      <td>7.720000</td>\n",
       "      <td>910300</td>\n",
       "      <td>0.041835</td>\n",
       "      <td>0.655647</td>\n",
       "      <td>Alta</td>\n",
       "    </tr>\n",
       "    <tr>\n",
       "      <th>2021-04-28</th>\n",
       "      <td>7.720000</td>\n",
       "      <td>8.130000</td>\n",
       "      <td>7.680000</td>\n",
       "      <td>7.790000</td>\n",
       "      <td>887800</td>\n",
       "      <td>0.009067</td>\n",
       "      <td>0.653836</td>\n",
       "      <td>Alta</td>\n",
       "    </tr>\n",
       "    <tr>\n",
       "      <th>2021-04-29</th>\n",
       "      <td>7.820000</td>\n",
       "      <td>7.860000</td>\n",
       "      <td>7.600000</td>\n",
       "      <td>7.630000</td>\n",
       "      <td>371800</td>\n",
       "      <td>-0.020539</td>\n",
       "      <td>0.650415</td>\n",
       "      <td>Alta</td>\n",
       "    </tr>\n",
       "    <tr>\n",
       "      <th>2021-04-30</th>\n",
       "      <td>7.540000</td>\n",
       "      <td>7.560000</td>\n",
       "      <td>7.420000</td>\n",
       "      <td>7.490000</td>\n",
       "      <td>322700</td>\n",
       "      <td>-0.018349</td>\n",
       "      <td>0.647585</td>\n",
       "      <td>Alta</td>\n",
       "    </tr>\n",
       "    <tr>\n",
       "      <th>2021-05-03</th>\n",
       "      <td>7.540000</td>\n",
       "      <td>7.600000</td>\n",
       "      <td>7.280000</td>\n",
       "      <td>7.320000</td>\n",
       "      <td>485100</td>\n",
       "      <td>-0.022697</td>\n",
       "      <td>0.647586</td>\n",
       "      <td>Alta</td>\n",
       "    </tr>\n",
       "  </tbody>\n",
       "</table>\n",
       "<p>4976 rows × 8 columns</p>\n",
       "</div>"
      ],
      "text/plain": [
       "                 Open       High        Low      Close   Volume  variacion  \\\n",
       "Date                                                                         \n",
       "2001-07-23  11.226394  11.282903  10.463527  10.585962  1151900   0.027422   \n",
       "2001-07-24  10.557710  10.557710  10.049132  10.077386   518800  -0.048043   \n",
       "2001-07-25   9.889022  10.067965   9.634732   9.936112  1405300  -0.014019   \n",
       "2001-07-26   9.757168   9.841932   9.559388   9.672406   741000  -0.026540   \n",
       "2001-07-27   9.578224   9.841931   9.323934   9.757168  2540300   0.008763   \n",
       "...               ...        ...        ...        ...      ...        ...   \n",
       "2021-04-27   7.400000   7.810000   7.400000   7.720000   910300   0.041835   \n",
       "2021-04-28   7.720000   8.130000   7.680000   7.790000   887800   0.009067   \n",
       "2021-04-29   7.820000   7.860000   7.600000   7.630000   371800  -0.020539   \n",
       "2021-04-30   7.540000   7.560000   7.420000   7.490000   322700  -0.018349   \n",
       "2021-05-03   7.540000   7.600000   7.280000   7.320000   485100  -0.022697   \n",
       "\n",
       "            volatilidad regimen  \n",
       "Date                             \n",
       "2001-07-23     0.558950   Media  \n",
       "2001-07-24     0.560919   Media  \n",
       "2001-07-25     0.561062   Media  \n",
       "2001-07-26     0.561599   Media  \n",
       "2001-07-27     0.561355   Media  \n",
       "...                 ...     ...  \n",
       "2021-04-27     0.655647    Alta  \n",
       "2021-04-28     0.653836    Alta  \n",
       "2021-04-29     0.650415    Alta  \n",
       "2021-04-30     0.647585    Alta  \n",
       "2021-05-03     0.647586    Alta  \n",
       "\n",
       "[4976 rows x 8 columns]"
      ]
     },
     "execution_count": 40,
     "metadata": {},
     "output_type": "execute_result"
    }
   ],
   "source": [
    "data = yf.download('GGAL', auto_adjust=True)\n",
    "\n",
    "data['variacion'] = data['Close'].pct_change()\n",
    "data['volatilidad'] = data.variacion.rolling(250).std() * 250**0.5\n",
    "data.dropna(inplace=True)\n",
    "\n",
    "regimenes = {'Baja':0.4, 'Media':.6, 'Alta':99}\n",
    "\n",
    "#bins = [0, 0.4, 0.6, 99]\n",
    "bins = [0] + list(regimenes.values())\n",
    "\n",
    "data['regimen'] = pd.cut(data.volatilidad, bins=bins, labels=list(regimenes.keys()))\n",
    "data"
   ]
  },
  {
   "cell_type": "code",
   "execution_count": 41,
   "metadata": {},
   "outputs": [
    {
     "data": {
      "text/plain": [
       "regimen\n",
       "Baja     1212\n",
       "Media    2197\n",
       "Alta     1567\n",
       "dtype: int64"
      ]
     },
     "execution_count": 41,
     "metadata": {},
     "output_type": "execute_result"
    }
   ],
   "source": [
    "data.groupby('regimen').size()"
   ]
  },
  {
   "cell_type": "code",
   "execution_count": null,
   "metadata": {},
   "outputs": [],
   "source": []
  },
  {
   "cell_type": "code",
   "execution_count": null,
   "metadata": {},
   "outputs": [],
   "source": []
  },
  {
   "cell_type": "code",
   "execution_count": null,
   "metadata": {},
   "outputs": [],
   "source": []
  },
  {
   "cell_type": "code",
   "execution_count": null,
   "metadata": {},
   "outputs": [],
   "source": []
  },
  {
   "cell_type": "markdown",
   "metadata": {},
   "source": [
    "## Métodos para concatenar a los agrupamientos"
   ]
  },
  {
   "cell_type": "markdown",
   "metadata": {},
   "source": [
    "Así como usamos la funcón count() podemos usar otro tipo de funciones, por ejemplo:\n",
    "* first()\n",
    "* last()\n",
    "* min()\n",
    "* max()\n",
    "* sum()\n",
    "* prod()\n",
    "* mean()\n",
    "* median()\n",
    "* std() desvio estandar (sigma)\n",
    "* var() varianza (sigma^2)\n",
    "* skew()  (Coeficiente de asimetria)\n",
    "* kurtosis() \n",
    "* quantile()  "
   ]
  },
  {
   "cell_type": "markdown",
   "metadata": {},
   "source": [
    "# Mas funciones"
   ]
  },
  {
   "cell_type": "markdown",
   "metadata": {},
   "source": [
    "## Clip (Acotado)"
   ]
  },
  {
   "cell_type": "code",
   "execution_count": 42,
   "metadata": {},
   "outputs": [
    {
     "name": "stdout",
     "output_type": "stream",
     "text": [
      "[*********************100%***********************]  3 of 3 completed\n"
     ]
    },
    {
     "data": {
      "text/html": [
       "<div>\n",
       "<style scoped>\n",
       "    .dataframe tbody tr th:only-of-type {\n",
       "        vertical-align: middle;\n",
       "    }\n",
       "\n",
       "    .dataframe tbody tr th {\n",
       "        vertical-align: top;\n",
       "    }\n",
       "\n",
       "    .dataframe thead th {\n",
       "        text-align: right;\n",
       "    }\n",
       "</style>\n",
       "<table border=\"1\" class=\"dataframe\">\n",
       "  <thead>\n",
       "    <tr style=\"text-align: right;\">\n",
       "      <th></th>\n",
       "      <th>AAPL</th>\n",
       "      <th>QQQ</th>\n",
       "      <th>SPY</th>\n",
       "    </tr>\n",
       "    <tr>\n",
       "      <th>Date</th>\n",
       "      <th></th>\n",
       "      <th></th>\n",
       "      <th></th>\n",
       "    </tr>\n",
       "  </thead>\n",
       "  <tbody>\n",
       "    <tr>\n",
       "      <th>1999-03-11</th>\n",
       "      <td>-1.151625</td>\n",
       "      <td>0.489543</td>\n",
       "      <td>1.112747</td>\n",
       "    </tr>\n",
       "    <tr>\n",
       "      <th>1999-03-12</th>\n",
       "      <td>3.106774</td>\n",
       "      <td>-2.436030</td>\n",
       "      <td>-0.956974</td>\n",
       "    </tr>\n",
       "    <tr>\n",
       "      <th>1999-03-15</th>\n",
       "      <td>2.636548</td>\n",
       "      <td>2.871411</td>\n",
       "      <td>1.425082</td>\n",
       "    </tr>\n",
       "    <tr>\n",
       "      <th>1999-03-16</th>\n",
       "      <td>4.220163</td>\n",
       "      <td>0.849512</td>\n",
       "      <td>-0.381014</td>\n",
       "    </tr>\n",
       "    <tr>\n",
       "      <th>1999-03-17</th>\n",
       "      <td>-4.049277</td>\n",
       "      <td>-0.722003</td>\n",
       "      <td>-0.430323</td>\n",
       "    </tr>\n",
       "    <tr>\n",
       "      <th>...</th>\n",
       "      <td>...</td>\n",
       "      <td>...</td>\n",
       "      <td>...</td>\n",
       "    </tr>\n",
       "    <tr>\n",
       "      <th>2021-04-27</th>\n",
       "      <td>-0.244954</td>\n",
       "      <td>-0.433220</td>\n",
       "      <td>-0.021550</td>\n",
       "    </tr>\n",
       "    <tr>\n",
       "      <th>2021-04-28</th>\n",
       "      <td>-0.602722</td>\n",
       "      <td>-0.338084</td>\n",
       "      <td>-0.028740</td>\n",
       "    </tr>\n",
       "    <tr>\n",
       "      <th>2021-04-29</th>\n",
       "      <td>-0.074866</td>\n",
       "      <td>0.359882</td>\n",
       "      <td>0.637279</td>\n",
       "    </tr>\n",
       "    <tr>\n",
       "      <th>2021-04-30</th>\n",
       "      <td>-1.513327</td>\n",
       "      <td>-0.655461</td>\n",
       "      <td>-0.657051</td>\n",
       "    </tr>\n",
       "    <tr>\n",
       "      <th>2021-05-03</th>\n",
       "      <td>0.821532</td>\n",
       "      <td>-0.532557</td>\n",
       "      <td>0.215678</td>\n",
       "    </tr>\n",
       "  </tbody>\n",
       "</table>\n",
       "<p>5573 rows × 3 columns</p>\n",
       "</div>"
      ],
      "text/plain": [
       "                AAPL       QQQ       SPY\n",
       "Date                                    \n",
       "1999-03-11 -1.151625  0.489543  1.112747\n",
       "1999-03-12  3.106774 -2.436030 -0.956974\n",
       "1999-03-15  2.636548  2.871411  1.425082\n",
       "1999-03-16  4.220163  0.849512 -0.381014\n",
       "1999-03-17 -4.049277 -0.722003 -0.430323\n",
       "...              ...       ...       ...\n",
       "2021-04-27 -0.244954 -0.433220 -0.021550\n",
       "2021-04-28 -0.602722 -0.338084 -0.028740\n",
       "2021-04-29 -0.074866  0.359882  0.637279\n",
       "2021-04-30 -1.513327 -0.655461 -0.657051\n",
       "2021-05-03  0.821532 -0.532557  0.215678\n",
       "\n",
       "[5573 rows x 3 columns]"
      ]
     },
     "execution_count": 42,
     "metadata": {},
     "output_type": "execute_result"
    }
   ],
   "source": [
    "tabla = yf.download(['AAPL','SPY','QQQ'], auto_adjust=True)['Close'].pct_change().dropna() *100\n",
    "tabla"
   ]
  },
  {
   "cell_type": "code",
   "execution_count": 43,
   "metadata": {},
   "outputs": [
    {
     "data": {
      "text/html": [
       "<div>\n",
       "<style scoped>\n",
       "    .dataframe tbody tr th:only-of-type {\n",
       "        vertical-align: middle;\n",
       "    }\n",
       "\n",
       "    .dataframe tbody tr th {\n",
       "        vertical-align: top;\n",
       "    }\n",
       "\n",
       "    .dataframe thead th {\n",
       "        text-align: right;\n",
       "    }\n",
       "</style>\n",
       "<table border=\"1\" class=\"dataframe\">\n",
       "  <thead>\n",
       "    <tr style=\"text-align: right;\">\n",
       "      <th></th>\n",
       "      <th>AAPL</th>\n",
       "      <th>QQQ</th>\n",
       "      <th>SPY</th>\n",
       "    </tr>\n",
       "    <tr>\n",
       "      <th>Date</th>\n",
       "      <th></th>\n",
       "      <th></th>\n",
       "      <th></th>\n",
       "    </tr>\n",
       "  </thead>\n",
       "  <tbody>\n",
       "    <tr>\n",
       "      <th>1999-03-11</th>\n",
       "      <td>-1.151625</td>\n",
       "      <td>0.489543</td>\n",
       "      <td>1.112747</td>\n",
       "    </tr>\n",
       "    <tr>\n",
       "      <th>1999-03-12</th>\n",
       "      <td>3.106774</td>\n",
       "      <td>-2.436030</td>\n",
       "      <td>-0.956974</td>\n",
       "    </tr>\n",
       "    <tr>\n",
       "      <th>1999-03-15</th>\n",
       "      <td>2.636548</td>\n",
       "      <td>2.871411</td>\n",
       "      <td>1.425082</td>\n",
       "    </tr>\n",
       "    <tr>\n",
       "      <th>1999-03-16</th>\n",
       "      <td>4.000000</td>\n",
       "      <td>0.849512</td>\n",
       "      <td>-0.381014</td>\n",
       "    </tr>\n",
       "    <tr>\n",
       "      <th>1999-03-17</th>\n",
       "      <td>-4.000000</td>\n",
       "      <td>-0.722003</td>\n",
       "      <td>-0.430323</td>\n",
       "    </tr>\n",
       "    <tr>\n",
       "      <th>...</th>\n",
       "      <td>...</td>\n",
       "      <td>...</td>\n",
       "      <td>...</td>\n",
       "    </tr>\n",
       "    <tr>\n",
       "      <th>2021-04-27</th>\n",
       "      <td>-0.244954</td>\n",
       "      <td>-0.433220</td>\n",
       "      <td>-0.021550</td>\n",
       "    </tr>\n",
       "    <tr>\n",
       "      <th>2021-04-28</th>\n",
       "      <td>-0.602722</td>\n",
       "      <td>-0.338084</td>\n",
       "      <td>-0.028740</td>\n",
       "    </tr>\n",
       "    <tr>\n",
       "      <th>2021-04-29</th>\n",
       "      <td>-0.074866</td>\n",
       "      <td>0.359882</td>\n",
       "      <td>0.637279</td>\n",
       "    </tr>\n",
       "    <tr>\n",
       "      <th>2021-04-30</th>\n",
       "      <td>-1.513327</td>\n",
       "      <td>-0.655461</td>\n",
       "      <td>-0.657051</td>\n",
       "    </tr>\n",
       "    <tr>\n",
       "      <th>2021-05-03</th>\n",
       "      <td>0.821532</td>\n",
       "      <td>-0.532557</td>\n",
       "      <td>0.215678</td>\n",
       "    </tr>\n",
       "  </tbody>\n",
       "</table>\n",
       "<p>5573 rows × 3 columns</p>\n",
       "</div>"
      ],
      "text/plain": [
       "                AAPL       QQQ       SPY\n",
       "Date                                    \n",
       "1999-03-11 -1.151625  0.489543  1.112747\n",
       "1999-03-12  3.106774 -2.436030 -0.956974\n",
       "1999-03-15  2.636548  2.871411  1.425082\n",
       "1999-03-16  4.000000  0.849512 -0.381014\n",
       "1999-03-17 -4.000000 -0.722003 -0.430323\n",
       "...              ...       ...       ...\n",
       "2021-04-27 -0.244954 -0.433220 -0.021550\n",
       "2021-04-28 -0.602722 -0.338084 -0.028740\n",
       "2021-04-29 -0.074866  0.359882  0.637279\n",
       "2021-04-30 -1.513327 -0.655461 -0.657051\n",
       "2021-05-03  0.821532 -0.532557  0.215678\n",
       "\n",
       "[5573 rows x 3 columns]"
      ]
     },
     "execution_count": 43,
     "metadata": {},
     "output_type": "execute_result"
    }
   ],
   "source": [
    "tabla_acotada = tabla.clip(-4,4)\n",
    "tabla_acotada"
   ]
  },
  {
   "cell_type": "code",
   "execution_count": null,
   "metadata": {},
   "outputs": [],
   "source": []
  },
  {
   "cell_type": "code",
   "execution_count": null,
   "metadata": {},
   "outputs": [],
   "source": []
  },
  {
   "cell_type": "code",
   "execution_count": null,
   "metadata": {},
   "outputs": [],
   "source": []
  },
  {
   "cell_type": "code",
   "execution_count": null,
   "metadata": {},
   "outputs": [],
   "source": []
  },
  {
   "cell_type": "code",
   "execution_count": null,
   "metadata": {},
   "outputs": [],
   "source": []
  },
  {
   "cell_type": "markdown",
   "metadata": {},
   "source": [
    "# Repaso de Estadística"
   ]
  },
  {
   "cell_type": "markdown",
   "metadata": {},
   "source": [
    "## Desvío Estandrar - Fórmulas"
   ]
  },
  {
   "cell_type": "markdown",
   "metadata": {},
   "source": [
    "El desvio es el sigma, la varianza es el sigma cuadrado"
   ]
  },
  {
   "cell_type": "markdown",
   "metadata": {},
   "source": [
    "$$ \\large \\sigma^2 = \\frac{1}{n}  \\sum_{x=i}^{n} . (X_i - \\bar{X} )^2  $$"
   ]
  },
  {
   "cell_type": "code",
   "execution_count": 44,
   "metadata": {},
   "outputs": [
    {
     "data": {
      "text/plain": [
       "AAPL    4.224344\n",
       "QQQ     2.386823\n",
       "SPY     1.432718\n",
       "dtype: float64"
      ]
     },
     "execution_count": 44,
     "metadata": {},
     "output_type": "execute_result"
    }
   ],
   "source": [
    "tabla.iloc[:10].std()"
   ]
  },
  {
   "cell_type": "markdown",
   "metadata": {},
   "source": [
    "## Error estandar - Fórmulas"
   ]
  },
  {
   "cell_type": "markdown",
   "metadata": {},
   "source": [
    "$$ \\Large \\frac{\\sigma}{\\sqrt{n}}$$ "
   ]
  },
  {
   "cell_type": "code",
   "execution_count": 45,
   "metadata": {},
   "outputs": [
    {
     "data": {
      "text/plain": [
       "AAPL    1.335855\n",
       "QQQ     0.754780\n",
       "SPY     0.453065\n",
       "dtype: float64"
      ]
     },
     "execution_count": 45,
     "metadata": {},
     "output_type": "execute_result"
    }
   ],
   "source": [
    "tabla.iloc[:10].sem()"
   ]
  },
  {
   "cell_type": "markdown",
   "metadata": {},
   "source": [
    "## Varianza"
   ]
  },
  {
   "cell_type": "code",
   "execution_count": 46,
   "metadata": {},
   "outputs": [
    {
     "data": {
      "text/plain": [
       "AAPL    6.804161\n",
       "QQQ     3.083212\n",
       "SPY     1.546415\n",
       "dtype: float64"
      ]
     },
     "execution_count": 46,
     "metadata": {},
     "output_type": "execute_result"
    }
   ],
   "source": [
    "tabla.std()**2"
   ]
  },
  {
   "cell_type": "code",
   "execution_count": 47,
   "metadata": {},
   "outputs": [
    {
     "data": {
      "text/plain": [
       "AAPL    6.804161\n",
       "QQQ     3.083212\n",
       "SPY     1.546415\n",
       "dtype: float64"
      ]
     },
     "execution_count": 47,
     "metadata": {},
     "output_type": "execute_result"
    }
   ],
   "source": [
    "tabla.var()"
   ]
  },
  {
   "cell_type": "markdown",
   "metadata": {},
   "source": [
    "## Skew - Fórmulas"
   ]
  },
  {
   "cell_type": "markdown",
   "metadata": {},
   "source": [
    "$$ \\large  skew =  \\frac{\\mu_3}{\\sigma^3}  =  \\frac{\\sum_{x=i}^{n} \\frac{1}{n} . (X_i - \\bar{X} )^3}{\\sigma^3} $$"
   ]
  },
  {
   "cell_type": "markdown",
   "metadata": {},
   "source": [
    "## Repaso de Coeficiente de Asimetría"
   ]
  },
  {
   "cell_type": "markdown",
   "metadata": {},
   "source": [
    "<img src='imagenes/skew.png' style='width:600px;float:left;'>"
   ]
  },
  {
   "cell_type": "markdown",
   "metadata": {},
   "source": [
    "## Kurtosis"
   ]
  },
  {
   "cell_type": "markdown",
   "metadata": {},
   "source": [
    "$$ \\Large kurtosis = \\frac{\\sum_{i=1} (X_i-\\bar{X})^4}{n . \\sigma^4}$$\n"
   ]
  },
  {
   "cell_type": "markdown",
   "metadata": {},
   "source": [
    "Coeficiente de apuntamiento\n",
    "\n",
    "<div style=\"width:600px;float:left;\">\n",
    "    <br>La Curtosis nos da una idea de la forma, mientras mas alta, mas valores cerca de la media y mas gruesas las colas\n",
    "    <ul>\n",
    "        <li> Leptocúrtica,  Curtosis > 3 (más apuntada y con colas más gruesas que la normal) </li>\n",
    "        <li> Platicúrtica,  Curtosis < 3 (menos apuntada y con colas menos gruesas que la norma) </li>\n",
    "        <li> Mesocúrtica,   Curtosis = 3 (tiene una distribución normal) </li>\n",
    "    </ul>\n",
    "</div>\n",
    "<div style=\"width:350px;float:right;margin-top:-25px;\">\n",
    "    <img src=\"imagenes/kurtosis.png\" style=\"width:300px;height:230px;\">\n",
    "</div>\n"
   ]
  },
  {
   "cell_type": "code",
   "execution_count": 48,
   "metadata": {},
   "outputs": [
    {
     "data": {
      "text/plain": [
       "AAPL    2.302213\n",
       "QQQ     1.342845\n",
       "SPY     3.529098\n",
       "dtype: float64"
      ]
     },
     "execution_count": 48,
     "metadata": {},
     "output_type": "execute_result"
    }
   ],
   "source": [
    "tabla[-250:].kurt()"
   ]
  },
  {
   "cell_type": "code",
   "execution_count": 49,
   "metadata": {},
   "outputs": [
    {
     "data": {
      "text/plain": [
       "AAPL   -1.327385\n",
       "QQQ     0.233524\n",
       "SPY     0.002548\n",
       "dtype: float64"
      ]
     },
     "execution_count": 49,
     "metadata": {},
     "output_type": "execute_result"
    }
   ],
   "source": [
    "tabla.skew()"
   ]
  },
  {
   "cell_type": "code",
   "execution_count": 50,
   "metadata": {},
   "outputs": [
    {
     "data": {
      "text/plain": [
       "AAPL    2.608479\n",
       "QQQ     1.755908\n",
       "SPY     1.243549\n",
       "dtype: float64"
      ]
     },
     "execution_count": 50,
     "metadata": {},
     "output_type": "execute_result"
    }
   ],
   "source": [
    "tabla.std()"
   ]
  },
  {
   "cell_type": "code",
   "execution_count": null,
   "metadata": {},
   "outputs": [],
   "source": []
  },
  {
   "cell_type": "code",
   "execution_count": null,
   "metadata": {},
   "outputs": [],
   "source": []
  },
  {
   "cell_type": "code",
   "execution_count": null,
   "metadata": {},
   "outputs": [],
   "source": []
  },
  {
   "cell_type": "code",
   "execution_count": null,
   "metadata": {},
   "outputs": [],
   "source": []
  },
  {
   "cell_type": "markdown",
   "metadata": {},
   "source": [
    "## Covarianza"
   ]
  },
  {
   "cell_type": "markdown",
   "metadata": {},
   "source": [
    "$$ \\large s_{xy}={1 \\over n}\\sum _{i=1}^{n}{(x_{i}-{\\overline {x}})(y_{i}-{\\overline {y}})} $$"
   ]
  },
  {
   "cell_type": "code",
   "execution_count": 51,
   "metadata": {},
   "outputs": [
    {
     "name": "stdout",
     "output_type": "stream",
     "text": [
      "[*********************100%***********************]  5 of 5 completed\n"
     ]
    },
    {
     "data": {
      "text/html": [
       "<div>\n",
       "<style scoped>\n",
       "    .dataframe tbody tr th:only-of-type {\n",
       "        vertical-align: middle;\n",
       "    }\n",
       "\n",
       "    .dataframe tbody tr th {\n",
       "        vertical-align: top;\n",
       "    }\n",
       "\n",
       "    .dataframe thead th {\n",
       "        text-align: right;\n",
       "    }\n",
       "</style>\n",
       "<table border=\"1\" class=\"dataframe\">\n",
       "  <thead>\n",
       "    <tr style=\"text-align: right;\">\n",
       "      <th></th>\n",
       "      <th>BBAR</th>\n",
       "      <th>EDN</th>\n",
       "      <th>GGAL</th>\n",
       "      <th>PAM</th>\n",
       "      <th>YPF</th>\n",
       "    </tr>\n",
       "    <tr>\n",
       "      <th>Date</th>\n",
       "      <th></th>\n",
       "      <th></th>\n",
       "      <th></th>\n",
       "      <th></th>\n",
       "      <th></th>\n",
       "    </tr>\n",
       "  </thead>\n",
       "  <tbody>\n",
       "    <tr>\n",
       "      <th>2009-10-12</th>\n",
       "      <td>4.817524</td>\n",
       "      <td>5.421684</td>\n",
       "      <td>1.698109</td>\n",
       "      <td>1.176455</td>\n",
       "      <td>-0.656089</td>\n",
       "    </tr>\n",
       "    <tr>\n",
       "      <th>2009-10-13</th>\n",
       "      <td>-1.114220</td>\n",
       "      <td>1.714281</td>\n",
       "      <td>0.371070</td>\n",
       "      <td>-2.015500</td>\n",
       "      <td>1.447801</td>\n",
       "    </tr>\n",
       "    <tr>\n",
       "      <th>2009-10-14</th>\n",
       "      <td>-1.408446</td>\n",
       "      <td>0.000000</td>\n",
       "      <td>2.587803</td>\n",
       "      <td>-0.474674</td>\n",
       "      <td>0.300491</td>\n",
       "    </tr>\n",
       "    <tr>\n",
       "      <th>2009-10-15</th>\n",
       "      <td>-0.857140</td>\n",
       "      <td>-1.460665</td>\n",
       "      <td>-2.702707</td>\n",
       "      <td>-0.635938</td>\n",
       "      <td>1.098346</td>\n",
       "    </tr>\n",
       "    <tr>\n",
       "      <th>2009-10-16</th>\n",
       "      <td>-3.314123</td>\n",
       "      <td>1.368300</td>\n",
       "      <td>-1.666671</td>\n",
       "      <td>0.400013</td>\n",
       "      <td>-0.296287</td>\n",
       "    </tr>\n",
       "    <tr>\n",
       "      <th>...</th>\n",
       "      <td>...</td>\n",
       "      <td>...</td>\n",
       "      <td>...</td>\n",
       "      <td>...</td>\n",
       "      <td>...</td>\n",
       "    </tr>\n",
       "    <tr>\n",
       "      <th>2020-08-24</th>\n",
       "      <td>-0.903614</td>\n",
       "      <td>-5.660378</td>\n",
       "      <td>-0.494552</td>\n",
       "      <td>0.363967</td>\n",
       "      <td>0.934583</td>\n",
       "    </tr>\n",
       "    <tr>\n",
       "      <th>2020-08-25</th>\n",
       "      <td>1.823706</td>\n",
       "      <td>-2.857140</td>\n",
       "      <td>1.093432</td>\n",
       "      <td>1.450588</td>\n",
       "      <td>2.777779</td>\n",
       "    </tr>\n",
       "    <tr>\n",
       "      <th>2020-08-26</th>\n",
       "      <td>-3.283579</td>\n",
       "      <td>1.470587</td>\n",
       "      <td>-1.278268</td>\n",
       "      <td>2.234138</td>\n",
       "      <td>0.180176</td>\n",
       "    </tr>\n",
       "    <tr>\n",
       "      <th>2020-08-27</th>\n",
       "      <td>-0.617283</td>\n",
       "      <td>1.449274</td>\n",
       "      <td>-1.394429</td>\n",
       "      <td>0.611894</td>\n",
       "      <td>-3.237407</td>\n",
       "    </tr>\n",
       "    <tr>\n",
       "      <th>2020-08-28</th>\n",
       "      <td>8.695651</td>\n",
       "      <td>4.285717</td>\n",
       "      <td>7.070724</td>\n",
       "      <td>4.170283</td>\n",
       "      <td>6.133827</td>\n",
       "    </tr>\n",
       "  </tbody>\n",
       "</table>\n",
       "<p>2740 rows × 5 columns</p>\n",
       "</div>"
      ],
      "text/plain": [
       "                BBAR       EDN      GGAL       PAM       YPF\n",
       "Date                                                        \n",
       "2009-10-12  4.817524  5.421684  1.698109  1.176455 -0.656089\n",
       "2009-10-13 -1.114220  1.714281  0.371070 -2.015500  1.447801\n",
       "2009-10-14 -1.408446  0.000000  2.587803 -0.474674  0.300491\n",
       "2009-10-15 -0.857140 -1.460665 -2.702707 -0.635938  1.098346\n",
       "2009-10-16 -3.314123  1.368300 -1.666671  0.400013 -0.296287\n",
       "...              ...       ...       ...       ...       ...\n",
       "2020-08-24 -0.903614 -5.660378 -0.494552  0.363967  0.934583\n",
       "2020-08-25  1.823706 -2.857140  1.093432  1.450588  2.777779\n",
       "2020-08-26 -3.283579  1.470587 -1.278268  2.234138  0.180176\n",
       "2020-08-27 -0.617283  1.449274 -1.394429  0.611894 -3.237407\n",
       "2020-08-28  8.695651  4.285717  7.070724  4.170283  6.133827\n",
       "\n",
       "[2740 rows x 5 columns]"
      ]
     },
     "execution_count": 51,
     "metadata": {},
     "output_type": "execute_result"
    }
   ],
   "source": [
    "import yfinance as yf\n",
    "\n",
    "activos = ['GGAL','YPF','PAM','EDN','BBAR']\n",
    "data = yf.download(activos, start='2001-01-01', end='2020-08-30')['Adj Close']\n",
    "tabla = data.pct_change().dropna()*100\n",
    "tabla"
   ]
  },
  {
   "cell_type": "code",
   "execution_count": 52,
   "metadata": {},
   "outputs": [
    {
     "data": {
      "text/plain": [
       "12.465612219122377"
      ]
     },
     "execution_count": 52,
     "metadata": {},
     "output_type": "execute_result"
    }
   ],
   "source": [
    "tabla.GGAL.cov(tabla.GGAL)"
   ]
  },
  {
   "cell_type": "code",
   "execution_count": 53,
   "metadata": {},
   "outputs": [
    {
     "data": {
      "text/plain": [
       "7.626181875724212"
      ]
     },
     "execution_count": 53,
     "metadata": {},
     "output_type": "execute_result"
    }
   ],
   "source": [
    "tabla.GGAL.cov(tabla.EDN)"
   ]
  },
  {
   "cell_type": "markdown",
   "metadata": {},
   "source": [
    "### Matriz de covarianzas"
   ]
  },
  {
   "cell_type": "code",
   "execution_count": 54,
   "metadata": {},
   "outputs": [
    {
     "data": {
      "text/html": [
       "<div>\n",
       "<style scoped>\n",
       "    .dataframe tbody tr th:only-of-type {\n",
       "        vertical-align: middle;\n",
       "    }\n",
       "\n",
       "    .dataframe tbody tr th {\n",
       "        vertical-align: top;\n",
       "    }\n",
       "\n",
       "    .dataframe thead th {\n",
       "        text-align: right;\n",
       "    }\n",
       "</style>\n",
       "<table border=\"1\" class=\"dataframe\">\n",
       "  <thead>\n",
       "    <tr style=\"text-align: right;\">\n",
       "      <th></th>\n",
       "      <th>BBAR</th>\n",
       "      <th>EDN</th>\n",
       "      <th>GGAL</th>\n",
       "      <th>PAM</th>\n",
       "      <th>YPF</th>\n",
       "    </tr>\n",
       "  </thead>\n",
       "  <tbody>\n",
       "    <tr>\n",
       "      <th>BBAR</th>\n",
       "      <td>12.709458</td>\n",
       "      <td>7.705112</td>\n",
       "      <td>10.337803</td>\n",
       "      <td>7.336575</td>\n",
       "      <td>5.795666</td>\n",
       "    </tr>\n",
       "    <tr>\n",
       "      <th>EDN</th>\n",
       "      <td>7.705112</td>\n",
       "      <td>16.075827</td>\n",
       "      <td>7.626182</td>\n",
       "      <td>7.553369</td>\n",
       "      <td>5.040644</td>\n",
       "    </tr>\n",
       "    <tr>\n",
       "      <th>GGAL</th>\n",
       "      <td>10.337803</td>\n",
       "      <td>7.626182</td>\n",
       "      <td>12.465612</td>\n",
       "      <td>7.343340</td>\n",
       "      <td>6.045576</td>\n",
       "    </tr>\n",
       "    <tr>\n",
       "      <th>PAM</th>\n",
       "      <td>7.336575</td>\n",
       "      <td>7.553369</td>\n",
       "      <td>7.343340</td>\n",
       "      <td>9.922355</td>\n",
       "      <td>4.705538</td>\n",
       "    </tr>\n",
       "    <tr>\n",
       "      <th>YPF</th>\n",
       "      <td>5.795666</td>\n",
       "      <td>5.040644</td>\n",
       "      <td>6.045576</td>\n",
       "      <td>4.705538</td>\n",
       "      <td>9.329825</td>\n",
       "    </tr>\n",
       "  </tbody>\n",
       "</table>\n",
       "</div>"
      ],
      "text/plain": [
       "           BBAR        EDN       GGAL       PAM       YPF\n",
       "BBAR  12.709458   7.705112  10.337803  7.336575  5.795666\n",
       "EDN    7.705112  16.075827   7.626182  7.553369  5.040644\n",
       "GGAL  10.337803   7.626182  12.465612  7.343340  6.045576\n",
       "PAM    7.336575   7.553369   7.343340  9.922355  4.705538\n",
       "YPF    5.795666   5.040644   6.045576  4.705538  9.329825"
      ]
     },
     "execution_count": 54,
     "metadata": {},
     "output_type": "execute_result"
    }
   ],
   "source": [
    "tabla.cov()"
   ]
  },
  {
   "cell_type": "code",
   "execution_count": 55,
   "metadata": {},
   "outputs": [
    {
     "data": {
      "text/html": [
       "<div>\n",
       "<style scoped>\n",
       "    .dataframe tbody tr th:only-of-type {\n",
       "        vertical-align: middle;\n",
       "    }\n",
       "\n",
       "    .dataframe tbody tr th {\n",
       "        vertical-align: top;\n",
       "    }\n",
       "\n",
       "    .dataframe thead th {\n",
       "        text-align: right;\n",
       "    }\n",
       "</style>\n",
       "<table border=\"1\" class=\"dataframe\">\n",
       "  <thead>\n",
       "    <tr style=\"text-align: right;\">\n",
       "      <th></th>\n",
       "      <th>BBAR</th>\n",
       "      <th>EDN</th>\n",
       "      <th>GGAL</th>\n",
       "      <th>PAM</th>\n",
       "      <th>YPF</th>\n",
       "    </tr>\n",
       "  </thead>\n",
       "  <tbody>\n",
       "    <tr>\n",
       "      <th>BBAR</th>\n",
       "      <td>1.000000</td>\n",
       "      <td>0.539050</td>\n",
       "      <td>0.821312</td>\n",
       "      <td>0.653315</td>\n",
       "      <td>0.532235</td>\n",
       "    </tr>\n",
       "    <tr>\n",
       "      <th>EDN</th>\n",
       "      <td>0.539050</td>\n",
       "      <td>1.000000</td>\n",
       "      <td>0.538721</td>\n",
       "      <td>0.598063</td>\n",
       "      <td>0.411588</td>\n",
       "    </tr>\n",
       "    <tr>\n",
       "      <th>GGAL</th>\n",
       "      <td>0.821312</td>\n",
       "      <td>0.538721</td>\n",
       "      <td>1.000000</td>\n",
       "      <td>0.660282</td>\n",
       "      <td>0.560588</td>\n",
       "    </tr>\n",
       "    <tr>\n",
       "      <th>PAM</th>\n",
       "      <td>0.653315</td>\n",
       "      <td>0.598063</td>\n",
       "      <td>0.660282</td>\n",
       "      <td>1.000000</td>\n",
       "      <td>0.489063</td>\n",
       "    </tr>\n",
       "    <tr>\n",
       "      <th>YPF</th>\n",
       "      <td>0.532235</td>\n",
       "      <td>0.411588</td>\n",
       "      <td>0.560588</td>\n",
       "      <td>0.489063</td>\n",
       "      <td>1.000000</td>\n",
       "    </tr>\n",
       "  </tbody>\n",
       "</table>\n",
       "</div>"
      ],
      "text/plain": [
       "          BBAR       EDN      GGAL       PAM       YPF\n",
       "BBAR  1.000000  0.539050  0.821312  0.653315  0.532235\n",
       "EDN   0.539050  1.000000  0.538721  0.598063  0.411588\n",
       "GGAL  0.821312  0.538721  1.000000  0.660282  0.560588\n",
       "PAM   0.653315  0.598063  0.660282  1.000000  0.489063\n",
       "YPF   0.532235  0.411588  0.560588  0.489063  1.000000"
      ]
     },
     "execution_count": 55,
     "metadata": {},
     "output_type": "execute_result"
    }
   ],
   "source": [
    "tabla.corr()"
   ]
  },
  {
   "cell_type": "code",
   "execution_count": null,
   "metadata": {},
   "outputs": [],
   "source": []
  },
  {
   "cell_type": "code",
   "execution_count": null,
   "metadata": {},
   "outputs": [],
   "source": []
  },
  {
   "cell_type": "code",
   "execution_count": null,
   "metadata": {},
   "outputs": [],
   "source": []
  }
 ],
 "metadata": {
  "kernelspec": {
   "display_name": "Python 3",
   "language": "python",
   "name": "python3"
  },
  "language_info": {
   "codemirror_mode": {
    "name": "ipython",
    "version": 3
   },
   "file_extension": ".py",
   "mimetype": "text/x-python",
   "name": "python",
   "nbconvert_exporter": "python",
   "pygments_lexer": "ipython3",
   "version": "3.8.5"
  },
  "toc": {
   "base_numbering": 1,
   "nav_menu": {},
   "number_sections": true,
   "sideBar": true,
   "skip_h1_title": false,
   "title_cell": "Table of Contents",
   "title_sidebar": "Contents",
   "toc_cell": false,
   "toc_position": {},
   "toc_section_display": true,
   "toc_window_display": true
  }
 },
 "nbformat": 4,
 "nbformat_minor": 4
}
