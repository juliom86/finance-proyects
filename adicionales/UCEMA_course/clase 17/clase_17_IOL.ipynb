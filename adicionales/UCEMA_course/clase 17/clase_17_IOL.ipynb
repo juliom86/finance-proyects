{
 "cells": [
  {
   "cell_type": "markdown",
   "id": "1ef8627e",
   "metadata": {},
   "source": [
    "# API IOL"
   ]
  },
  {
   "cell_type": "markdown",
   "id": "2de586c2",
   "metadata": {},
   "source": [
    "## Pedir Token por primera vez"
   ]
  },
  {
   "cell_type": "code",
   "execution_count": 1,
   "id": "ebbcaaa6",
   "metadata": {},
   "outputs": [],
   "source": [
    "from iol_user_ullua import *\n",
    "\n",
    "iol_user = USER\n",
    "iol_password = PASS\n",
    "\n",
    "# Obviamente completar con sus credenciales y NO OLVIDARSE DE AUTORIZAR CON IOL LA API"
   ]
  },
  {
   "cell_type": "code",
   "execution_count": 2,
   "id": "7a433572",
   "metadata": {},
   "outputs": [],
   "source": [
    "import requests\n",
    "\n",
    "def pedirToken():\n",
    "    url = 'https://api.invertironline.com/token'\n",
    "    data = {\"username\" : iol_user, \"password\": iol_password, \"grant_type\":\"password\"}\n",
    "    r = requests.post(url = url, data = data).json()\n",
    "    return r\n",
    "\n",
    "tk = pedirToken()"
   ]
  },
  {
   "cell_type": "code",
   "execution_count": 3,
   "id": "0d6563c7",
   "metadata": {},
   "outputs": [
    {
     "data": {
      "text/plain": [
       "{'access_token': '4Q2QRZjAXvVOyxkNGwMemMBvAoIrfmEPsxuotxHuOWjnNDmltug3r3DaIsy3kASmb2ntbocZHyBiQEWNN_R_56xFTDmfU_8prVHBV6urxGQTrI9KxUFZV0Yc5dcPGqnGkuVcsXaDND7icQZdL_4D933Vj6ccn77D-82IrLf9arKW3rP_4pP5OmnAR0P801S8zfH--rrTOffVhgLErWSJYsizBImsK0of1s2H7B_d6Ctx6J2G9lcg7Nb0YjHpCTzOUydnrkR_I4HQFeMSQCFgcyQTrtoNKuRwS0QswnChpdxb9mVSocG5zbH8mJQGpB7l8Zls4zy-GuU07Be1YVoSFv9puSM-DRJhJB1V-_rekHMO4AyVXll9BUc7QHwX2NGXX73-4jXj45BrYym6LixTvxbiUDAAlrxe7XaJVIt56Aw',\n",
       " 'token_type': 'bearer',\n",
       " 'expires_in': 899,\n",
       " 'refresh_token': 'SeurN_QD2cv-77I-z6edslHs1kIKvyif71hcFim43HXTiOjiE8LKZLd31PaqF14f9Qqss61un60FtTOenXlMgWYlBci01K0HbEx3KMKKjLp33pPP3RwtEuFoeNbtGVyWV-ZbNzn9nGjntCOIIg-RVmZz10Gxfg1IFuidBsJg2A93chwQWYUuPUwnYnL75Yh69tESWSL2TII9TY7PV14lUPq4K9Y9gtRY6gc7xJb1Mf_R_PSATkszC0gZ6_gx-X8l8qvsrWTHfUR0U97Nx8oX6P5TpMjdG4Is3Ty-i1CD0404un6_nDiMA5GpIIUl4aUF7xd_EmUJCSWmV9Mit3DK4jnM4PY363k7ODEoIcXWeFwbZVEZuCgrofFUiguHyDz5OA2v5II2jt2a--mnvDSGFQ',\n",
       " '.issued': 'Tue, 27 Jul 2021 04:50:07 GMT',\n",
       " '.expires': 'Tue, 27 Jul 2021 05:05:07 GMT',\n",
       " '.refreshexpires': 'Tue, 27 Jul 2021 05:50:07 GMT'}"
      ]
     },
     "execution_count": 3,
     "metadata": {},
     "output_type": "execute_result"
    }
   ],
   "source": [
    "tk"
   ]
  },
  {
   "cell_type": "code",
   "execution_count": 4,
   "id": "cf168789",
   "metadata": {},
   "outputs": [
    {
     "data": {
      "text/plain": [
       "'4Q2QRZjAXvVOyxkNGwMemMBvAoIrfmEPsxuotxHuOWjnNDmltug3r3DaIsy3kASmb2ntbocZHyBiQEWNN_R_56xFTDmfU_8prVHBV6urxGQTrI9KxUFZV0Yc5dcPGqnGkuVcsXaDND7icQZdL_4D933Vj6ccn77D-82IrLf9arKW3rP_4pP5OmnAR0P801S8zfH--rrTOffVhgLErWSJYsizBImsK0of1s2H7B_d6Ctx6J2G9lcg7Nb0YjHpCTzOUydnrkR_I4HQFeMSQCFgcyQTrtoNKuRwS0QswnChpdxb9mVSocG5zbH8mJQGpB7l8Zls4zy-GuU07Be1YVoSFv9puSM-DRJhJB1V-_rekHMO4AyVXll9BUc7QHwX2NGXX73-4jXj45BrYym6LixTvxbiUDAAlrxe7XaJVIt56Aw'"
      ]
     },
     "execution_count": 4,
     "metadata": {},
     "output_type": "execute_result"
    }
   ],
   "source": [
    "tk['access_token']"
   ]
  },
  {
   "cell_type": "markdown",
   "id": "eb5c32e7",
   "metadata": {},
   "source": [
    "## Saber la exporacion del Token"
   ]
  },
  {
   "cell_type": "code",
   "execution_count": 5,
   "id": "0897cdd3",
   "metadata": {},
   "outputs": [
    {
     "data": {
      "text/plain": [
       "'Tue, 27 Jul 2021 05:05:07 GMT'"
      ]
     },
     "execution_count": 5,
     "metadata": {},
     "output_type": "execute_result"
    }
   ],
   "source": [
    "tk['.expires']"
   ]
  },
  {
   "cell_type": "code",
   "execution_count": 6,
   "id": "e569f303",
   "metadata": {},
   "outputs": [],
   "source": [
    "import datetime as dt"
   ]
  },
  {
   "cell_type": "code",
   "execution_count": 7,
   "id": "f20b943f",
   "metadata": {},
   "outputs": [
    {
     "data": {
      "text/plain": [
       "datetime.datetime(2021, 7, 27, 5, 5, 7)"
      ]
     },
     "execution_count": 7,
     "metadata": {},
     "output_type": "execute_result"
    }
   ],
   "source": [
    "dt.datetime.strptime(tk['.expires'],'%a, %d %b %Y %H:%M:%S GMT')"
   ]
  },
  {
   "cell_type": "code",
   "execution_count": 8,
   "id": "27b6f135",
   "metadata": {},
   "outputs": [
    {
     "data": {
      "text/plain": [
       "datetime.datetime(2021, 7, 27, 4, 50, 10, 355183)"
      ]
     },
     "execution_count": 8,
     "metadata": {},
     "output_type": "execute_result"
    }
   ],
   "source": [
    "dt.datetime.utcnow()"
   ]
  },
  {
   "cell_type": "code",
   "execution_count": 9,
   "id": "c727f62f",
   "metadata": {},
   "outputs": [
    {
     "data": {
      "text/plain": [
       "datetime.timedelta(seconds=896, microseconds=444533)"
      ]
     },
     "execution_count": 9,
     "metadata": {},
     "output_type": "execute_result"
    }
   ],
   "source": [
    "dt.datetime.strptime(tk['.expires'],'%a, %d %b %Y %H:%M:%S GMT') - dt.datetime.utcnow()"
   ]
  },
  {
   "cell_type": "code",
   "execution_count": null,
   "id": "66d63961",
   "metadata": {},
   "outputs": [],
   "source": []
  },
  {
   "cell_type": "markdown",
   "id": "2533388d",
   "metadata": {},
   "source": [
    "Con ambas cosas puedo calcular la diferencia"
   ]
  },
  {
   "cell_type": "code",
   "execution_count": 10,
   "id": "513f0832",
   "metadata": {},
   "outputs": [
    {
     "data": {
      "text/plain": [
       "datetime.timedelta(seconds=895, microseconds=824781)"
      ]
     },
     "execution_count": 10,
     "metadata": {},
     "output_type": "execute_result"
    }
   ],
   "source": [
    "def checkToken(tk):\n",
    "    exp = dt.datetime.strptime(tk['.expires'],'%a, %d %b %Y %H:%M:%S GMT')\n",
    "    ahora = dt.datetime.utcnow()\n",
    "    tiempo = exp-ahora\n",
    "    return tiempo\n",
    "\n",
    "checkToken(tk)"
   ]
  },
  {
   "cell_type": "markdown",
   "id": "3fcc315d",
   "metadata": {},
   "source": [
    "Bien, el punto acá es que como la diferencia es positiva los días estan en 0, veamos:"
   ]
  },
  {
   "cell_type": "code",
   "execution_count": 11,
   "id": "f183979c",
   "metadata": {},
   "outputs": [
    {
     "data": {
      "text/plain": [
       "(0, 895)"
      ]
     },
     "execution_count": 11,
     "metadata": {},
     "output_type": "execute_result"
    }
   ],
   "source": [
    "checkToken(tk).days, checkToken(tk).seconds"
   ]
  },
  {
   "cell_type": "markdown",
   "id": "4ff2c83b",
   "metadata": {},
   "source": [
    "Como vemos en ese ejemplo me quedan aun o dias, 716 segundos, así que podría seguir usando mi access_token"
   ]
  },
  {
   "cell_type": "markdown",
   "id": "ec134887",
   "metadata": {},
   "source": [
    "Pero si se me expira el token no me quedan segundos negativos sino que queda days=-1 y los segundos comienzan cuenta regresiva desde 86400 que son 24 x 60 x 60 "
   ]
  },
  {
   "cell_type": "markdown",
   "id": "1bed313f",
   "metadata": {},
   "source": [
    "## Actualizar Token (En caso que esté expirado)"
   ]
  },
  {
   "cell_type": "markdown",
   "id": "917ab7e3",
   "metadata": {},
   "source": [
    "Entonces armemos la función para que solo vuelva a pedir el access_token en caso de que el actual esté expirado:"
   ]
  },
  {
   "cell_type": "code",
   "execution_count": 12,
   "id": "dce77d7b",
   "metadata": {
    "scrolled": true
   },
   "outputs": [
    {
     "data": {
      "text/plain": [
       "{'access_token': '4Q2QRZjAXvVOyxkNGwMemMBvAoIrfmEPsxuotxHuOWjnNDmltug3r3DaIsy3kASmb2ntbocZHyBiQEWNN_R_56xFTDmfU_8prVHBV6urxGQTrI9KxUFZV0Yc5dcPGqnGkuVcsXaDND7icQZdL_4D933Vj6ccn77D-82IrLf9arKW3rP_4pP5OmnAR0P801S8zfH--rrTOffVhgLErWSJYsizBImsK0of1s2H7B_d6Ctx6J2G9lcg7Nb0YjHpCTzOUydnrkR_I4HQFeMSQCFgcyQTrtoNKuRwS0QswnChpdxb9mVSocG5zbH8mJQGpB7l8Zls4zy-GuU07Be1YVoSFv9puSM-DRJhJB1V-_rekHMO4AyVXll9BUc7QHwX2NGXX73-4jXj45BrYym6LixTvxbiUDAAlrxe7XaJVIt56Aw',\n",
       " 'token_type': 'bearer',\n",
       " 'expires_in': 899,\n",
       " 'refresh_token': 'SeurN_QD2cv-77I-z6edslHs1kIKvyif71hcFim43HXTiOjiE8LKZLd31PaqF14f9Qqss61un60FtTOenXlMgWYlBci01K0HbEx3KMKKjLp33pPP3RwtEuFoeNbtGVyWV-ZbNzn9nGjntCOIIg-RVmZz10Gxfg1IFuidBsJg2A93chwQWYUuPUwnYnL75Yh69tESWSL2TII9TY7PV14lUPq4K9Y9gtRY6gc7xJb1Mf_R_PSATkszC0gZ6_gx-X8l8qvsrWTHfUR0U97Nx8oX6P5TpMjdG4Is3Ty-i1CD0404un6_nDiMA5GpIIUl4aUF7xd_EmUJCSWmV9Mit3DK4jnM4PY363k7ODEoIcXWeFwbZVEZuCgrofFUiguHyDz5OA2v5II2jt2a--mnvDSGFQ',\n",
       " '.issued': 'Tue, 27 Jul 2021 04:50:07 GMT',\n",
       " '.expires': 'Tue, 27 Jul 2021 05:05:07 GMT',\n",
       " '.refreshexpires': 'Tue, 27 Jul 2021 05:50:07 GMT'}"
      ]
     },
     "execution_count": 12,
     "metadata": {},
     "output_type": "execute_result"
    }
   ],
   "source": [
    "def actualizarToken(tk):\n",
    "    \n",
    "    # Me fijo si está expirado\n",
    "    if checkToken(tk).days == 0:\n",
    "        tokenOk = tk\n",
    "    else:\n",
    "        tokenOk = pedirToken()\n",
    "        \n",
    "    # Devuelvo el token actualizado\n",
    "    return tokenOk\n",
    "    \n",
    "tk = actualizarToken(tk)\n",
    "tk"
   ]
  },
  {
   "cell_type": "markdown",
   "id": "4d3746e0",
   "metadata": {},
   "source": [
    "## Uso de las funciones de Token"
   ]
  },
  {
   "cell_type": "markdown",
   "id": "b6a14c62",
   "metadata": {},
   "source": [
    "Ya con esas funciones puedo hacer lo siguiente:\n",
    "    \n",
    "* Si recien arranco a usar la API pongo tk=pedirToken() y ya me guardo en memoria mi token\n",
    "* Luego una vez que use la API lo que hago es es usar tk = token(tk) (esto no va a volver a pedir un token a menos que el que tenga como parámetro esté expirado, en ese caso lo sobreescribirá, caso contrario quedará el mismo que estaba"
   ]
  },
  {
   "cell_type": "markdown",
   "id": "8a6c7909",
   "metadata": {},
   "source": [
    "Es decir solo cuando comience nuestro script usaremos:"
   ]
  },
  {
   "cell_type": "code",
   "execution_count": 13,
   "id": "19f67883",
   "metadata": {},
   "outputs": [],
   "source": [
    "tk = pedirToken()"
   ]
  },
  {
   "cell_type": "markdown",
   "id": "97d6abe8",
   "metadata": {},
   "source": [
    "y a partir de allí antes de cada request usaremos:"
   ]
  },
  {
   "cell_type": "code",
   "execution_count": 14,
   "id": "93a0971a",
   "metadata": {},
   "outputs": [],
   "source": [
    "tk = actualizarToken(tk)"
   ]
  },
  {
   "cell_type": "markdown",
   "id": "2144cd09",
   "metadata": {},
   "source": [
    "# MarketData"
   ]
  },
  {
   "cell_type": "markdown",
   "id": "96eaa516",
   "metadata": {},
   "source": [
    "## Precios históricos"
   ]
  },
  {
   "cell_type": "code",
   "execution_count": 15,
   "id": "ab765635",
   "metadata": {},
   "outputs": [],
   "source": [
    "import pandas as pd"
   ]
  },
  {
   "cell_type": "markdown",
   "id": "658fe7a4",
   "metadata": {},
   "source": [
    "Empecemos con consultas de precios históricos, para ello tenemos los siguientes endpoints:\n",
    "\n",
    "    * url_base = https://api.invertironline.com/api/v2/\n",
    "    * endpoint = bCBA/Titulos/'+ticker+'/Cotizacion/seriehistorica/'+FROM+'/'+TO+'/sinAjustar\n",
    "    * endpoint = bCBA/Titulos/'+ticker+'/Cotizacion/seriehistorica/'+FROM+'/'+TO+'/ajustada    "
   ]
  },
  {
   "cell_type": "markdown",
   "id": "b149e56f",
   "metadata": {},
   "source": [
    "Como vemos los parámetros debemos pasarlos en la URL así que vamos a armar la función con ese criterio"
   ]
  },
  {
   "cell_type": "markdown",
   "id": "30422342",
   "metadata": {},
   "source": [
    "La línea del resample es necesaria porque en una rueda hábil en horario de mercado me devuelve la serie de tiempo en dias pero la ultima rueda me devuelve todas las operaciones del día\n"
   ]
  },
  {
   "cell_type": "code",
   "execution_count": 16,
   "id": "66571cc7",
   "metadata": {},
   "outputs": [
    {
     "data": {
      "text/plain": [
       "Index(['ultimoPrecio', 'variacion', 'apertura', 'maximo', 'minimo',\n",
       "       'tendencia', 'cierreAnterior', 'montoOperado', 'volumenNominal',\n",
       "       'precioPromedio', 'precioAjuste', 'cantidadOperaciones'],\n",
       "      dtype='object')"
      ]
     },
     "execution_count": 16,
     "metadata": {},
     "output_type": "execute_result"
    }
   ],
   "source": [
    "def getHist(ticker,FROM,TO):\n",
    "    \n",
    "    # Configuración del llamado a la API\n",
    "    url_base= 'https://api.invertironline.com/api/v2/'    \n",
    "    endpoint = 'bCBA/Titulos/'+ticker+'/Cotizacion/seriehistorica/'+FROM+'/'+TO+'/sinAjustar'\n",
    "    url = url_base + endpoint\n",
    "    headers = {\"Authorization\" : \"Bearer \"+ tk['access_token']}\n",
    "    \n",
    "    # Llamado a la API\n",
    "    data = requests.get(url = url, headers = headers).json()\n",
    "    \n",
    "    # Acomodamos la tabla\n",
    "    tabla = pd.DataFrame(data).set_index('fechaHora')\n",
    "    tabla.index = pd.to_datetime(tabla.index)\n",
    "    tabla = tabla.resample('d').last()       \n",
    "    tabla = tabla.drop(['moneda','interesesAbiertos','puntas'], axis=1)\n",
    "\n",
    "    return(tabla.dropna())\n",
    "\n",
    "# Antes de pedir los precios actualizamos el token\n",
    "tk = actualizarToken(tk)\n",
    "\n",
    "# Pedimos los precios\n",
    "data = getHist('GGAL',FROM='2015-01-01',TO='2019-05-05')\n",
    "\n",
    "# mostramos las columnas de lo que trajimos\n",
    "data.columns"
   ]
  },
  {
   "cell_type": "markdown",
   "id": "e42e534d",
   "metadata": {},
   "source": [
    "Y mostramos el primer dato todo lo que nos trae, no imprimo toda la tabla porque es inmensa"
   ]
  },
  {
   "cell_type": "code",
   "execution_count": 17,
   "id": "2e53e078",
   "metadata": {
    "scrolled": false
   },
   "outputs": [
    {
     "data": {
      "text/html": [
       "<div>\n",
       "<style scoped>\n",
       "    .dataframe tbody tr th:only-of-type {\n",
       "        vertical-align: middle;\n",
       "    }\n",
       "\n",
       "    .dataframe tbody tr th {\n",
       "        vertical-align: top;\n",
       "    }\n",
       "\n",
       "    .dataframe thead th {\n",
       "        text-align: right;\n",
       "    }\n",
       "</style>\n",
       "<table border=\"1\" class=\"dataframe\">\n",
       "  <thead>\n",
       "    <tr style=\"text-align: right;\">\n",
       "      <th></th>\n",
       "      <th>ultimoPrecio</th>\n",
       "      <th>variacion</th>\n",
       "      <th>apertura</th>\n",
       "      <th>maximo</th>\n",
       "      <th>...</th>\n",
       "      <th>volumenNominal</th>\n",
       "      <th>precioPromedio</th>\n",
       "      <th>precioAjuste</th>\n",
       "      <th>cantidadOperaciones</th>\n",
       "    </tr>\n",
       "    <tr>\n",
       "      <th>fechaHora</th>\n",
       "      <th></th>\n",
       "      <th></th>\n",
       "      <th></th>\n",
       "      <th></th>\n",
       "      <th></th>\n",
       "      <th></th>\n",
       "      <th></th>\n",
       "      <th></th>\n",
       "      <th></th>\n",
       "    </tr>\n",
       "  </thead>\n",
       "  <tbody>\n",
       "    <tr>\n",
       "      <th>2015-01-02</th>\n",
       "      <td>18.65</td>\n",
       "      <td>0.81</td>\n",
       "      <td>18.75</td>\n",
       "      <td>19.10</td>\n",
       "      <td>...</td>\n",
       "      <td>413569.0</td>\n",
       "      <td>18.829</td>\n",
       "      <td>0.0</td>\n",
       "      <td>205.0</td>\n",
       "    </tr>\n",
       "    <tr>\n",
       "      <th>2015-01-05</th>\n",
       "      <td>17.90</td>\n",
       "      <td>-4.02</td>\n",
       "      <td>18.65</td>\n",
       "      <td>18.65</td>\n",
       "      <td>...</td>\n",
       "      <td>742557.0</td>\n",
       "      <td>18.031</td>\n",
       "      <td>0.0</td>\n",
       "      <td>239.0</td>\n",
       "    </tr>\n",
       "    <tr>\n",
       "      <th>2015-01-06</th>\n",
       "      <td>18.10</td>\n",
       "      <td>1.12</td>\n",
       "      <td>18.35</td>\n",
       "      <td>18.35</td>\n",
       "      <td>...</td>\n",
       "      <td>578121.0</td>\n",
       "      <td>17.985</td>\n",
       "      <td>0.0</td>\n",
       "      <td>246.0</td>\n",
       "    </tr>\n",
       "    <tr>\n",
       "      <th>2015-01-07</th>\n",
       "      <td>18.50</td>\n",
       "      <td>2.21</td>\n",
       "      <td>18.20</td>\n",
       "      <td>18.60</td>\n",
       "      <td>...</td>\n",
       "      <td>427092.0</td>\n",
       "      <td>18.492</td>\n",
       "      <td>0.0</td>\n",
       "      <td>212.0</td>\n",
       "    </tr>\n",
       "    <tr>\n",
       "      <th>2015-01-08</th>\n",
       "      <td>18.45</td>\n",
       "      <td>-0.27</td>\n",
       "      <td>18.90</td>\n",
       "      <td>18.90</td>\n",
       "      <td>...</td>\n",
       "      <td>590705.0</td>\n",
       "      <td>18.657</td>\n",
       "      <td>0.0</td>\n",
       "      <td>190.0</td>\n",
       "    </tr>\n",
       "    <tr>\n",
       "      <th>...</th>\n",
       "      <td>...</td>\n",
       "      <td>...</td>\n",
       "      <td>...</td>\n",
       "      <td>...</td>\n",
       "      <td>...</td>\n",
       "      <td>...</td>\n",
       "      <td>...</td>\n",
       "      <td>...</td>\n",
       "      <td>...</td>\n",
       "    </tr>\n",
       "    <tr>\n",
       "      <th>2019-04-26</th>\n",
       "      <td>97.60</td>\n",
       "      <td>2.36</td>\n",
       "      <td>98.50</td>\n",
       "      <td>98.50</td>\n",
       "      <td>...</td>\n",
       "      <td>1150947.0</td>\n",
       "      <td>0.000</td>\n",
       "      <td>0.0</td>\n",
       "      <td>1139.0</td>\n",
       "    </tr>\n",
       "    <tr>\n",
       "      <th>2019-04-29</th>\n",
       "      <td>95.20</td>\n",
       "      <td>-2.66</td>\n",
       "      <td>96.80</td>\n",
       "      <td>97.90</td>\n",
       "      <td>...</td>\n",
       "      <td>906851.0</td>\n",
       "      <td>0.000</td>\n",
       "      <td>0.0</td>\n",
       "      <td>775.0</td>\n",
       "    </tr>\n",
       "    <tr>\n",
       "      <th>2019-04-30</th>\n",
       "      <td>96.95</td>\n",
       "      <td>1.89</td>\n",
       "      <td>94.85</td>\n",
       "      <td>98.00</td>\n",
       "      <td>...</td>\n",
       "      <td>754762.0</td>\n",
       "      <td>0.000</td>\n",
       "      <td>0.0</td>\n",
       "      <td>775.0</td>\n",
       "    </tr>\n",
       "    <tr>\n",
       "      <th>2019-05-02</th>\n",
       "      <td>104.00</td>\n",
       "      <td>7.42</td>\n",
       "      <td>101.10</td>\n",
       "      <td>104.15</td>\n",
       "      <td>...</td>\n",
       "      <td>963515.0</td>\n",
       "      <td>0.000</td>\n",
       "      <td>0.0</td>\n",
       "      <td>1123.0</td>\n",
       "    </tr>\n",
       "    <tr>\n",
       "      <th>2019-05-03</th>\n",
       "      <td>109.20</td>\n",
       "      <td>5.28</td>\n",
       "      <td>106.50</td>\n",
       "      <td>109.85</td>\n",
       "      <td>...</td>\n",
       "      <td>1991046.0</td>\n",
       "      <td>0.000</td>\n",
       "      <td>0.0</td>\n",
       "      <td>1587.0</td>\n",
       "    </tr>\n",
       "  </tbody>\n",
       "</table>\n",
       "<p>1059 rows × 12 columns</p>\n",
       "</div>"
      ],
      "text/plain": [
       "            ultimoPrecio  variacion  apertura  maximo  ...  volumenNominal  \\\n",
       "fechaHora                                              ...                   \n",
       "2015-01-02         18.65       0.81     18.75   19.10  ...        413569.0   \n",
       "2015-01-05         17.90      -4.02     18.65   18.65  ...        742557.0   \n",
       "2015-01-06         18.10       1.12     18.35   18.35  ...        578121.0   \n",
       "2015-01-07         18.50       2.21     18.20   18.60  ...        427092.0   \n",
       "2015-01-08         18.45      -0.27     18.90   18.90  ...        590705.0   \n",
       "...                  ...        ...       ...     ...  ...             ...   \n",
       "2019-04-26         97.60       2.36     98.50   98.50  ...       1150947.0   \n",
       "2019-04-29         95.20      -2.66     96.80   97.90  ...        906851.0   \n",
       "2019-04-30         96.95       1.89     94.85   98.00  ...        754762.0   \n",
       "2019-05-02        104.00       7.42    101.10  104.15  ...        963515.0   \n",
       "2019-05-03        109.20       5.28    106.50  109.85  ...       1991046.0   \n",
       "\n",
       "           precioPromedio  precioAjuste  cantidadOperaciones  \n",
       "fechaHora                                                     \n",
       "2015-01-02         18.829           0.0                205.0  \n",
       "2015-01-05         18.031           0.0                239.0  \n",
       "2015-01-06         17.985           0.0                246.0  \n",
       "2015-01-07         18.492           0.0                212.0  \n",
       "2015-01-08         18.657           0.0                190.0  \n",
       "...                   ...           ...                  ...  \n",
       "2019-04-26          0.000           0.0               1139.0  \n",
       "2019-04-29          0.000           0.0                775.0  \n",
       "2019-04-30          0.000           0.0                775.0  \n",
       "2019-05-02          0.000           0.0               1123.0  \n",
       "2019-05-03          0.000           0.0               1587.0  \n",
       "\n",
       "[1059 rows x 12 columns]"
      ]
     },
     "execution_count": 17,
     "metadata": {},
     "output_type": "execute_result"
    }
   ],
   "source": [
    "pd.options.display.max_columns = 8\n",
    "data"
   ]
  },
  {
   "cell_type": "markdown",
   "id": "bf1cd5ff",
   "metadata": {},
   "source": [
    "## Precios históricos ajustados"
   ]
  },
  {
   "cell_type": "code",
   "execution_count": 18,
   "id": "f454e95d",
   "metadata": {},
   "outputs": [
    {
     "data": {
      "text/plain": [
       "ultimoPrecio              18.4885\n",
       "variacion                       0\n",
       "apertura                  18.5877\n",
       "maximo                    18.9346\n",
       "minimo                    18.2903\n",
       "tendencia                    sube\n",
       "cierreAnterior                  0\n",
       "montoOperado           7.7874e+06\n",
       "volumenNominal             413569\n",
       "precioPromedio                  0\n",
       "precioAjuste                    0\n",
       "cantidadOperaciones           205\n",
       "Name: 2015-01-02 00:00:00, dtype: object"
      ]
     },
     "execution_count": 18,
     "metadata": {},
     "output_type": "execute_result"
    }
   ],
   "source": [
    "def getHist(ticker,FROM,TO, auto_adjust=False):\n",
    "    \n",
    "    # Configuración del llamado a la API\n",
    "    url_base= 'https://api.invertironline.com/api/v2/'    \n",
    "\n",
    "    if auto_adjust:\n",
    "        endpoint = 'bCBA/Titulos/'+ticker+'/Cotizacion/seriehistorica/'+FROM+'/'+TO+'/ajustada'\n",
    "    else:\n",
    "        endpoint = 'bCBA/Titulos/'+ticker+'/Cotizacion/seriehistorica/'+FROM+'/'+TO+'/sinAjustar'\n",
    "\n",
    "    url = url_base + endpoint\n",
    "    headers = {\"Authorization\" : \"Bearer \"+ tk['access_token']}\n",
    "    \n",
    "    # Llamado a la API\n",
    "    data = requests.get(url = url, headers = headers).json()\n",
    "    \n",
    "    # Acomodamos la tabla\n",
    "    tabla = pd.DataFrame(data).set_index('fechaHora')\n",
    "    tabla.index = pd.to_datetime(tabla.index)\n",
    "    tabla = tabla.resample('d').last()       \n",
    "    tabla = tabla.drop(['moneda','interesesAbiertos','puntas'], axis=1)\n",
    "\n",
    "    return(tabla.dropna())\n",
    "\n",
    "# Antes de pedir los precios actualizamos el token\n",
    "tk = actualizarToken(tk)\n",
    "\n",
    "# Pedimos los precios, esta vez ajustados\n",
    "data = getHist('GGAL',FROM='2015-01-01',TO='2019-05-05', auto_adjust=True)\n",
    "\n",
    "# mostramos las columnas de lo que trajimos\n",
    "data.iloc[0]"
   ]
  },
  {
   "cell_type": "markdown",
   "id": "c7b249d9",
   "metadata": {},
   "source": [
    "## Listado de FCIs"
   ]
  },
  {
   "cell_type": "code",
   "execution_count": 19,
   "id": "b9c536a6",
   "metadata": {},
   "outputs": [
    {
     "data": {
      "text/plain": [
       "Index(['variacion', 'ultimoOperado', 'horizonteInversion', 'rescate',\n",
       "       'invierte', 'tipoFondo', 'avisoHorarioEjecucion',\n",
       "       'tipoAdministradoraTituloFCI', 'fechaCorte', 'codigoBloomberg',\n",
       "       'perfilInversor', 'informeMensual', 'reglamentoGestion', 'simbolo',\n",
       "       'descripcion', 'pais', 'mercado', 'tipo', 'plazo', 'moneda'],\n",
       "      dtype='object')"
      ]
     },
     "execution_count": 19,
     "metadata": {},
     "output_type": "execute_result"
    }
   ],
   "source": [
    "def getFCI():\n",
    "    \n",
    "    # Configuración del llamado a la API\n",
    "    url_base= 'https://api.invertironline.com/api/v2/'\n",
    "    endpoint = 'Titulos/FCI'\n",
    "    url = url_base + endpoint\n",
    "    headers = {\"Authorization\" : \"Bearer \"+ tk['access_token']}\n",
    "    \n",
    "    # Llamado a la API\n",
    "    data = requests.get(url = url, headers = headers).json()\n",
    "    \n",
    "    # Acomodamos la tabla\n",
    "    tabla = pd.DataFrame(data)\n",
    "    return(tabla)\n",
    "\n",
    "tk = actualizarToken(tk) \n",
    "fcis = getFCI()\n",
    "\n",
    "# Listemos las columnas para ver todo lo que trae\n",
    "fcis.columns"
   ]
  },
  {
   "cell_type": "markdown",
   "id": "a1ab1666",
   "metadata": {},
   "source": [
    "Agrupamos por tipo de fondo como para tener un pantallazo de la variedad:"
   ]
  },
  {
   "cell_type": "code",
   "execution_count": 20,
   "id": "90c0b5cd",
   "metadata": {
    "scrolled": true
   },
   "outputs": [
    {
     "data": {
      "text/plain": [
       "tipoFondo\n",
       "plazo_fijo_pesos        2\n",
       "renta_fija_dolares      2\n",
       "renta_fija_pesos        6\n",
       "renta_mixta_dolares     1\n",
       "renta_mixta_pesos       1\n",
       "renta_variable_pesos    4\n",
       "dtype: int64"
      ]
     },
     "execution_count": 20,
     "metadata": {},
     "output_type": "execute_result"
    }
   ],
   "source": [
    "fcis.groupby('tipoFondo').size()"
   ]
  },
  {
   "cell_type": "markdown",
   "id": "76d7296f",
   "metadata": {},
   "source": [
    "Iteramos como para acceder a los links web de los reportes:"
   ]
  },
  {
   "cell_type": "code",
   "execution_count": 21,
   "id": "dd7ee31e",
   "metadata": {},
   "outputs": [
    {
     "name": "stdout",
     "output_type": "stream",
     "text": [
      "PRTAVAB \n",
      " https://s3.us-east-1.amazonaws.com/resources.invertironline.com/AssetManagement/FCI/Datasheets/SAM/Premier%20Renta%20Variable.pdf \n",
      "\n",
      "\n",
      "PCOMAGB \n",
      " https://s3.us-east-1.amazonaws.com/resources.invertironline.com/AssetManagement/FCI/Datasheets/SAM/Premier%20Commodities.pdf \n",
      "\n",
      "\n",
      "CONRETO:AR \n",
      " https://s3.us-east-1.amazonaws.com/resources.invertironline.com/AssetManagement/FCI/Datasheets/Adcap/Retorno%20Total.pdf \n",
      "\n",
      "\n",
      "COIOLAC:AR \n",
      " https://s3.us-east-1.amazonaws.com/resources.invertironline.com/AssetManagement/FCI/Datasheets/Adcap/IOL%20Acciones.pdf \n",
      "\n",
      "\n"
     ]
    }
   ],
   "source": [
    "for idx, fci in fcis.iterrows():\n",
    "    if fci.tipoFondo == 'renta_variable_pesos':\n",
    "        print(fci.codigoBloomberg, '\\n', fci.informeMensual,'\\n\\n')"
   ]
  },
  {
   "cell_type": "code",
   "execution_count": 22,
   "id": "43e09231",
   "metadata": {},
   "outputs": [
    {
     "data": {
      "text/plain": [
       "variacion                                                                      0\n",
       "ultimoOperado                                                            33.1736\n",
       "horizonteInversion                                                   Largo Plazo\n",
       "rescate                                                                       t2\n",
       "invierte                       Acciones cotizantes en la Bolsa de Comercio de...\n",
       "tipoFondo                                                   renta_variable_pesos\n",
       "avisoHorarioEjecucion          día de hoy por haberse ingresado antes de las ...\n",
       "tipoAdministradoraTituloFCI                                          supervielle\n",
       "fechaCorte                                                   1900-01-01T15:00:00\n",
       "codigoBloomberg                                                          PRTAVAB\n",
       "perfilInversor                                                       Conservador\n",
       "informeMensual                 https://s3.us-east-1.amazonaws.com/resources.i...\n",
       "reglamentoGestion              https://s3.amazonaws.com/resources.invertironl...\n",
       "simbolo                                                                  PRTAVAB\n",
       "descripcion                                     Premier Renta Variable - Clase B\n",
       "pais                                                                   argentina\n",
       "mercado                                                                     bcba\n",
       "tipo                                                       FondoComundeInversion\n",
       "plazo                                                                         t0\n",
       "moneda                                                            peso_Argentino\n",
       "Name: 0, dtype: object"
      ]
     },
     "execution_count": 22,
     "metadata": {},
     "output_type": "execute_result"
    }
   ],
   "source": [
    "fcis.loc[0]"
   ]
  },
  {
   "cell_type": "markdown",
   "id": "819408b2",
   "metadata": {},
   "source": [
    "### FCIs Tipos de Fondos / Administradoras"
   ]
  },
  {
   "cell_type": "markdown",
   "id": "4a249f64",
   "metadata": {},
   "source": [
    "También podemos consultar a la API los tipos de fondos y las administradoras con los siguientes endpoints:"
   ]
  },
  {
   "cell_type": "code",
   "execution_count": 23,
   "id": "3fdff05b",
   "metadata": {},
   "outputs": [
    {
     "data": {
      "text/plain": [
       "[{'identificador': 'plazo_fijo_pesos', 'nombre': 'Plazos Fijos Pesos'},\n",
       " {'identificador': 'renta_fija_pesos', 'nombre': 'Renta Fija Pesos'},\n",
       " {'identificador': 'renta_fija_dolares', 'nombre': 'Renta Fija Dólares'},\n",
       " {'identificador': 'renta_mixta_pesos', 'nombre': 'Renta Mixta Pesos'},\n",
       " {'identificador': 'renta_variable_pesos', 'nombre': 'Renta Variable Pesos'}]"
      ]
     },
     "execution_count": 23,
     "metadata": {},
     "output_type": "execute_result"
    }
   ],
   "source": [
    "def getFCI_TipoFondos():\n",
    "    \n",
    "    # Configuración del llamado a la API\n",
    "    url_base= 'https://api.invertironline.com/api/v2/'\n",
    "    endpoint = 'Titulos/FCI/TipoFondos'\n",
    "    url = url_base + endpoint\n",
    "    headers = {\"Authorization\" : \"Bearer \"+ tk['access_token']}\n",
    "    \n",
    "    # Llamado a la API\n",
    "    data = requests.get(url = url, headers = headers).json()\n",
    "    \n",
    "    return(data)\n",
    "\n",
    "tk = actualizarToken(tk) \n",
    "getFCI_TipoFondos()"
   ]
  },
  {
   "cell_type": "code",
   "execution_count": 24,
   "id": "8cee51de",
   "metadata": {},
   "outputs": [
    {
     "data": {
      "text/plain": [
       "[{'nombre': 'CONVEXITY',\n",
       "  'descripcion': 'Administradora FCI para suscripcion y rescates'},\n",
       " {'nombre': 'SUPERVIELLE',\n",
       "  'descripcion': 'Administradora FCI para suscripcion y rescates'},\n",
       " {'nombre': 'Allaria',\n",
       "  'descripcion': 'Administradora FCI para suscripcion y rescates'},\n",
       " {'nombre': 'ALLIANCE BERNSTEIN',\n",
       "  'descripcion': 'Administradora Fondos Mutuos para suscripcion y rescates'}]"
      ]
     },
     "execution_count": 24,
     "metadata": {},
     "output_type": "execute_result"
    }
   ],
   "source": [
    "def getFCI_Administradoras():\n",
    "    \n",
    "    # Configuración del llamado a la API\n",
    "    url_base= 'https://api.invertironline.com/api/v2/'\n",
    "    endpoint = 'Titulos/FCI/Administradoras'\n",
    "    url = url_base + endpoint\n",
    "    headers = {\"Authorization\" : \"Bearer \"+ tk['access_token']}\n",
    "    \n",
    "    # Llamado a la API\n",
    "    data = requests.get(url = url, headers = headers).json()\n",
    "    \n",
    "    return(data)\n",
    "\n",
    "tk = actualizarToken(tk) \n",
    "getFCI_Administradoras()"
   ]
  },
  {
   "cell_type": "markdown",
   "id": "19c6cfea",
   "metadata": {},
   "source": [
    "## Consulta de títulos"
   ]
  },
  {
   "cell_type": "markdown",
   "id": "826ffa4a",
   "metadata": {},
   "source": [
    "Tenemos un endpoint genérico que nos devuelve info general de un título o ticker"
   ]
  },
  {
   "cell_type": "code",
   "execution_count": 25,
   "id": "be7ccbfd",
   "metadata": {},
   "outputs": [
    {
     "data": {
      "text/plain": [
       "{'simbolo': 'AL30D',\n",
       " 'descripcion': 'Bono Rep. Argentina Usd Step Up 2030',\n",
       " 'pais': 'argentina',\n",
       " 'mercado': 'bcba',\n",
       " 'tipo': 'TITULOSPUBLICOS',\n",
       " 'plazo': 't2',\n",
       " 'moneda': 'dolar_Estadounidense'}"
      ]
     },
     "execution_count": 25,
     "metadata": {},
     "output_type": "execute_result"
    }
   ],
   "source": [
    "def titulo(ticker):\n",
    "    \n",
    "    # Configuración del llamado a la API\n",
    "    url_base= 'https://api.invertironline.com/api/v2/'\n",
    "    endpoint = 'bcba/Titulos/'+ticker\n",
    "    url = url_base + endpoint\n",
    "    headers = {\"Authorization\" : \"Bearer \"+ tk['access_token']}\n",
    "    \n",
    "    # Llamado a la API\n",
    "    data = requests.get(url = url, headers = headers).json()\n",
    "    \n",
    "    return(data)\n",
    "\n",
    "tk = actualizarToken(tk) \n",
    "titulo('AL30D')"
   ]
  },
  {
   "cell_type": "markdown",
   "id": "7501e08a",
   "metadata": {},
   "source": [
    "El mismo endpoint sirve para CEDEARs, Acciones, Bonos, FCIs, etc"
   ]
  },
  {
   "cell_type": "markdown",
   "id": "cdbfe598",
   "metadata": {},
   "source": [
    "Ejemplo con un CEDEAR"
   ]
  },
  {
   "cell_type": "code",
   "execution_count": 26,
   "id": "a79276d3",
   "metadata": {},
   "outputs": [
    {
     "data": {
      "text/plain": [
       "{'simbolo': 'AAPL',\n",
       " 'descripcion': 'Apple',\n",
       " 'pais': 'argentina',\n",
       " 'mercado': 'bcba',\n",
       " 'tipo': 'CEDEARS',\n",
       " 'plazo': 't2',\n",
       " 'moneda': 'peso_Argentino'}"
      ]
     },
     "execution_count": 26,
     "metadata": {},
     "output_type": "execute_result"
    }
   ],
   "source": [
    "tk = actualizarToken(tk) \n",
    "titulo('AAPL')"
   ]
  },
  {
   "cell_type": "markdown",
   "id": "c0b53cd0",
   "metadata": {},
   "source": [
    "Ejemplo con una acción del panel general"
   ]
  },
  {
   "cell_type": "code",
   "execution_count": 27,
   "id": "3fa80480",
   "metadata": {},
   "outputs": [
    {
     "data": {
      "text/plain": [
       "{'simbolo': 'CELU',\n",
       " 'descripcion': 'Celulosa',\n",
       " 'pais': 'argentina',\n",
       " 'mercado': 'bcba',\n",
       " 'tipo': 'ACCIONES',\n",
       " 'plazo': 't2',\n",
       " 'moneda': 'peso_Argentino'}"
      ]
     },
     "execution_count": 27,
     "metadata": {},
     "output_type": "execute_result"
    }
   ],
   "source": [
    "tk = actualizarToken(tk) \n",
    "titulo('CELU')"
   ]
  },
  {
   "cell_type": "markdown",
   "id": "f691a691",
   "metadata": {},
   "source": [
    "Ejemplo con un FCI"
   ]
  },
  {
   "cell_type": "code",
   "execution_count": 28,
   "id": "f09667c8",
   "metadata": {},
   "outputs": [
    {
     "data": {
      "text/plain": [
       "{'simbolo': 'PRTAVAB',\n",
       " 'descripcion': 'Premier Renta Variable - Clase B',\n",
       " 'pais': 'argentina',\n",
       " 'mercado': 'bcba',\n",
       " 'tipo': 'FondoComundeInversion',\n",
       " 'plazo': 't0',\n",
       " 'moneda': 'peso_Argentino'}"
      ]
     },
     "execution_count": 28,
     "metadata": {},
     "output_type": "execute_result"
    }
   ],
   "source": [
    "tk = actualizarToken(tk) \n",
    "titulo('PRTAVAB')"
   ]
  },
  {
   "cell_type": "code",
   "execution_count": 29,
   "id": "ebc10b2d",
   "metadata": {},
   "outputs": [
    {
     "data": {
      "text/plain": [
       "{'simbolo': 'GFGC13881D',\n",
       " 'descripcion': 'Call GGAL 138.81 Vencimiento: 18/12/2020',\n",
       " 'pais': 'argentina',\n",
       " 'mercado': 'bcba',\n",
       " 'tipo': 'OPCIONES',\n",
       " 'plazo': 't1',\n",
       " 'moneda': 'peso_Argentino'}"
      ]
     },
     "execution_count": 29,
     "metadata": {},
     "output_type": "execute_result"
    }
   ],
   "source": [
    "tk = actualizarToken(tk) \n",
    "titulo('GFGC13881D')"
   ]
  },
  {
   "cell_type": "markdown",
   "id": "55dccb44",
   "metadata": {},
   "source": [
    "## Instrumentos por pais"
   ]
  },
  {
   "cell_type": "code",
   "execution_count": 30,
   "id": "2b75b479",
   "metadata": {},
   "outputs": [
    {
     "data": {
      "text/plain": [
       "[{'instrumento': 'Acciones', 'pais': 'argentina'},\n",
       " {'instrumento': 'Bonos', 'pais': 'argentina'},\n",
       " {'instrumento': 'Opciones', 'pais': 'argentina'},\n",
       " {'instrumento': 'Cauciones', 'pais': 'argentina'},\n",
       " {'instrumento': 'Futuros', 'pais': 'argentina'},\n",
       " {'instrumento': 'FCI', 'pais': 'argentina'}]"
      ]
     },
     "execution_count": 30,
     "metadata": {},
     "output_type": "execute_result"
    }
   ],
   "source": [
    "def instrumentos(pais):\n",
    "    \n",
    "    # Configuración del llamado a la API\n",
    "    url_base= 'https://api.invertironline.com/api/v2/'\n",
    "    endpoint = pais+'/Titulos/Cotizacion/Instrumentos'\n",
    "    url = url_base + endpoint\n",
    "    headers = {\"Authorization\" : \"Bearer \"+ tk['access_token']}\n",
    "    \n",
    "    # Llamado a la API\n",
    "    data = requests.get(url = url, headers = headers).json()\n",
    "    \n",
    "    return(data)\n",
    "\n",
    "tk = actualizarToken(tk) \n",
    "instrumentos('argentina')"
   ]
  },
  {
   "cell_type": "markdown",
   "id": "1e64c0e4",
   "metadata": {},
   "source": [
    "Consultamos ahora los instrumentos disponibles para Estados Unidos"
   ]
  },
  {
   "cell_type": "code",
   "execution_count": 31,
   "id": "e87b9d1a",
   "metadata": {
    "scrolled": true
   },
   "outputs": [
    {
     "data": {
      "text/plain": [
       "[{'instrumento': 'Acciones', 'pais': 'estados_Unidos'},\n",
       " {'instrumento': 'Bonos', 'pais': 'estados_Unidos'},\n",
       " {'instrumento': 'Etfs', 'pais': 'estados_Unidos'},\n",
       " {'instrumento': 'Monedas', 'pais': 'estados_Unidos'}]"
      ]
     },
     "execution_count": 31,
     "metadata": {},
     "output_type": "execute_result"
    }
   ],
   "source": [
    "instrumentos('estados_unidos')"
   ]
  },
  {
   "cell_type": "markdown",
   "id": "9877b344",
   "metadata": {},
   "source": [
    "## Paneles de un instrumento"
   ]
  },
  {
   "cell_type": "code",
   "execution_count": 32,
   "id": "5d26d827",
   "metadata": {},
   "outputs": [
    {
     "data": {
      "text/plain": [
       "[{'panel': 'Merval'},\n",
       " {'panel': 'Panel General'},\n",
       " {'panel': 'Merval 25'},\n",
       " {'panel': 'Merval Argentina'},\n",
       " {'panel': 'Burcap'},\n",
       " {'panel': 'CEDEARs'}]"
      ]
     },
     "execution_count": 32,
     "metadata": {},
     "output_type": "execute_result"
    }
   ],
   "source": [
    "def paneles(pais, instrumento):\n",
    "    \n",
    "    # Configuración del llamado a la API\n",
    "    url_base= 'https://api.invertironline.com/api/v2/'\n",
    "    endpoint = pais+'/Titulos/Cotizacion/Paneles/'+instrumento\n",
    "    url = url_base + endpoint\n",
    "    headers = {\"Authorization\" : \"Bearer \"+ tk['access_token']}\n",
    "    \n",
    "    # Llamado a la API\n",
    "    data = requests.get(url = url, headers = headers).json()\n",
    "    \n",
    "    return(data)\n",
    "\n",
    "tk = actualizarToken(tk) \n",
    "paneles(pais='argentina', instrumento='Acciones')"
   ]
  },
  {
   "cell_type": "markdown",
   "id": "e955614a",
   "metadata": {},
   "source": [
    "Consultemos los paneles para acciones de EEUU"
   ]
  },
  {
   "cell_type": "code",
   "execution_count": 33,
   "id": "77b732aa",
   "metadata": {},
   "outputs": [
    {
     "data": {
      "text/plain": [
       "[{'panel': 'Dow Jones Industrial'},\n",
       " {'panel': 'Dow Jones Transportation'},\n",
       " {'panel': 'Dow Jones Utilities'},\n",
       " {'panel': 'Nasdaq 100'},\n",
       " {'panel': 'SP100'},\n",
       " {'panel': 'SP500'},\n",
       " {'panel': 'SP500 Value'},\n",
       " {'panel': 'SP500 Growth'},\n",
       " {'panel': 'SP400 MidCap'},\n",
       " {'panel': 'SP400 MidCap Value'},\n",
       " {'panel': 'S400 MidCap Growth'},\n",
       " {'panel': 'SP600 SmallCap'},\n",
       " {'panel': 'SP600 SmallCap Value'},\n",
       " {'panel': 'SP600 SmallCap Growth'},\n",
       " {'panel': 'SP500 Dividendos'},\n",
       " {'panel': 'ADRs'}]"
      ]
     },
     "execution_count": 33,
     "metadata": {},
     "output_type": "execute_result"
    }
   ],
   "source": [
    "tk = actualizarToken(tk) \n",
    "paneles(pais='estados_unidos', instrumento='Acciones')"
   ]
  },
  {
   "cell_type": "code",
   "execution_count": 34,
   "id": "f6f946c8",
   "metadata": {},
   "outputs": [
    {
     "data": {
      "text/plain": [
       "[{'panel': 'Todos'},\n",
       " {'panel': 'Acciones Desarrollados'},\n",
       " {'panel': 'Acciones Emergentes'},\n",
       " {'panel': 'Acciones Financieras'},\n",
       " {'panel': 'Acciones Energéticas'},\n",
       " {'panel': 'Acciones Tecnológicas'},\n",
       " {'panel': 'Acciones Consumo Básico'},\n",
       " {'panel': 'Acciones Consumo Durable'},\n",
       " {'panel': 'Acciones Salud'},\n",
       " {'panel': 'Acciones Industriales'},\n",
       " {'panel': 'Acciones Materiales'},\n",
       " {'panel': 'Acciones Servicios Básicos'},\n",
       " {'panel': 'Bonos'},\n",
       " {'panel': 'Commodities'},\n",
       " {'panel': 'Monedas'},\n",
       " {'panel': 'Inmuebles'},\n",
       " {'panel': 'Estrategias Avanzadas'},\n",
       " {'panel': 'Apalancados Alcistas'},\n",
       " {'panel': 'Apalancados Bajistas'}]"
      ]
     },
     "execution_count": 34,
     "metadata": {},
     "output_type": "execute_result"
    }
   ],
   "source": [
    "tk = actualizarToken(tk) \n",
    "paneles(pais='estados_unidos', instrumento='Etfs')"
   ]
  },
  {
   "cell_type": "code",
   "execution_count": 35,
   "id": "ffb1a5ac",
   "metadata": {},
   "outputs": [
    {
     "data": {
      "text/plain": [
       "[{'panel': 'De Acciones'},\n",
       " {'panel': 'De Bonos'},\n",
       " {'panel': 'De Cedears'},\n",
       " {'panel': 'In-the-Money'},\n",
       " {'panel': 'Out-the-Money'},\n",
       " {'panel': 'Calls'},\n",
       " {'panel': 'Puts'}]"
      ]
     },
     "execution_count": 35,
     "metadata": {},
     "output_type": "execute_result"
    }
   ],
   "source": [
    "tk = actualizarToken(tk) \n",
    "paneles(pais='argentina', instrumento='Opciones')"
   ]
  },
  {
   "cell_type": "markdown",
   "id": "89eb91a7",
   "metadata": {},
   "source": [
    "## Paneles de precios"
   ]
  },
  {
   "cell_type": "markdown",
   "id": "5dd74252",
   "metadata": {},
   "source": [
    "Este es el endpoint mas poderoso de la API"
   ]
  },
  {
   "cell_type": "code",
   "execution_count": 36,
   "id": "d6673761",
   "metadata": {},
   "outputs": [
    {
     "data": {
      "text/plain": [
       "Index(['puntas', 'ultimoPrecio', 'variacionPorcentual', 'apertura', 'maximo',\n",
       "       'minimo', 'ultimoCierre', 'volumen', 'cantidadOperaciones', 'fecha',\n",
       "       'tipoOpcion', 'precioEjercicio', 'fechaVencimiento', 'mercado',\n",
       "       'moneda'],\n",
       "      dtype='object')"
      ]
     },
     "execution_count": 36,
     "metadata": {},
     "output_type": "execute_result"
    }
   ],
   "source": [
    "def panel(instrumento, panel,pais):\n",
    "    \n",
    "    # Configuración del llamado a la API\n",
    "    url_base= 'https://api.invertironline.com/api/v2/'\n",
    "    endpoint = 'Cotizaciones/'+instrumento+'/'+panel+'/'+pais\n",
    "    url = url_base + endpoint\n",
    "    headers = {\"Authorization\" : \"Bearer \"+ tk['access_token']}\n",
    "    \n",
    "    # Llamado a la API\n",
    "    data = requests.get(url = url, headers = headers).json()['titulos']\n",
    "\n",
    "    tabla = pd.DataFrame(data).set_index('simbolo')\n",
    "    return(tabla)\n",
    "\n",
    "\n",
    "tk = actualizarToken(tk) \n",
    "p = panel(instrumento='Acciones', panel='SP500', pais='estados_unidos')\n",
    "p.columns"
   ]
  },
  {
   "cell_type": "code",
   "execution_count": 37,
   "id": "90dbb7d9",
   "metadata": {},
   "outputs": [
    {
     "name": "stdout",
     "output_type": "stream",
     "text": [
      "Wall time: 1.22 s\n"
     ]
    },
    {
     "data": {
      "text/html": [
       "<div>\n",
       "<style scoped>\n",
       "    .dataframe tbody tr th:only-of-type {\n",
       "        vertical-align: middle;\n",
       "    }\n",
       "\n",
       "    .dataframe tbody tr th {\n",
       "        vertical-align: top;\n",
       "    }\n",
       "\n",
       "    .dataframe thead th {\n",
       "        text-align: right;\n",
       "    }\n",
       "</style>\n",
       "<table border=\"1\" class=\"dataframe\">\n",
       "  <thead>\n",
       "    <tr style=\"text-align: right;\">\n",
       "      <th></th>\n",
       "      <th>puntas</th>\n",
       "      <th>ultimoPrecio</th>\n",
       "      <th>variacionPorcentual</th>\n",
       "      <th>apertura</th>\n",
       "      <th>...</th>\n",
       "      <th>precioEjercicio</th>\n",
       "      <th>fechaVencimiento</th>\n",
       "      <th>mercado</th>\n",
       "      <th>moneda</th>\n",
       "    </tr>\n",
       "    <tr>\n",
       "      <th>simbolo</th>\n",
       "      <th></th>\n",
       "      <th></th>\n",
       "      <th></th>\n",
       "      <th></th>\n",
       "      <th></th>\n",
       "      <th></th>\n",
       "      <th></th>\n",
       "      <th></th>\n",
       "      <th></th>\n",
       "    </tr>\n",
       "  </thead>\n",
       "  <tbody>\n",
       "    <tr>\n",
       "      <th>A2E8</th>\n",
       "      <td>None</td>\n",
       "      <td>5301.00</td>\n",
       "      <td>0.00</td>\n",
       "      <td>5301.00</td>\n",
       "      <td>...</td>\n",
       "      <td>None</td>\n",
       "      <td>None</td>\n",
       "      <td>BCBA</td>\n",
       "      <td>AR$</td>\n",
       "    </tr>\n",
       "    <tr>\n",
       "      <th>A2E8D</th>\n",
       "      <td>None</td>\n",
       "      <td>42.50</td>\n",
       "      <td>0.00</td>\n",
       "      <td>42.50</td>\n",
       "      <td>...</td>\n",
       "      <td>None</td>\n",
       "      <td>None</td>\n",
       "      <td>BCBA</td>\n",
       "      <td>US$</td>\n",
       "    </tr>\n",
       "    <tr>\n",
       "      <th>AA21</th>\n",
       "      <td>None</td>\n",
       "      <td>4660.00</td>\n",
       "      <td>0.00</td>\n",
       "      <td>4660.00</td>\n",
       "      <td>...</td>\n",
       "      <td>None</td>\n",
       "      <td>None</td>\n",
       "      <td>BCBA</td>\n",
       "      <td>AR$</td>\n",
       "    </tr>\n",
       "    <tr>\n",
       "      <th>AA21D</th>\n",
       "      <td>None</td>\n",
       "      <td>45.75</td>\n",
       "      <td>0.00</td>\n",
       "      <td>45.75</td>\n",
       "      <td>...</td>\n",
       "      <td>None</td>\n",
       "      <td>None</td>\n",
       "      <td>BCBA</td>\n",
       "      <td>US$</td>\n",
       "    </tr>\n",
       "    <tr>\n",
       "      <th>AA22</th>\n",
       "      <td>{'cantidadCompra': 50000.0, 'precioCompra': 10...</td>\n",
       "      <td>100.70</td>\n",
       "      <td>-0.04</td>\n",
       "      <td>100.50</td>\n",
       "      <td>...</td>\n",
       "      <td>None</td>\n",
       "      <td>None</td>\n",
       "      <td>BCBA</td>\n",
       "      <td>AR$</td>\n",
       "    </tr>\n",
       "    <tr>\n",
       "      <th>...</th>\n",
       "      <td>...</td>\n",
       "      <td>...</td>\n",
       "      <td>...</td>\n",
       "      <td>...</td>\n",
       "      <td>...</td>\n",
       "      <td>...</td>\n",
       "      <td>...</td>\n",
       "      <td>...</td>\n",
       "      <td>...</td>\n",
       "    </tr>\n",
       "    <tr>\n",
       "      <th>TX23</th>\n",
       "      <td>{'cantidadCompra': 31704.0, 'precioCompra': 15...</td>\n",
       "      <td>158.00</td>\n",
       "      <td>0.57</td>\n",
       "      <td>159.00</td>\n",
       "      <td>...</td>\n",
       "      <td>None</td>\n",
       "      <td>None</td>\n",
       "      <td>BCBA</td>\n",
       "      <td>AR$</td>\n",
       "    </tr>\n",
       "    <tr>\n",
       "      <th>TX24</th>\n",
       "      <td>{'cantidadCompra': 32412.0, 'precioCompra': 15...</td>\n",
       "      <td>151.00</td>\n",
       "      <td>0.73</td>\n",
       "      <td>150.50</td>\n",
       "      <td>...</td>\n",
       "      <td>None</td>\n",
       "      <td>None</td>\n",
       "      <td>BCBA</td>\n",
       "      <td>AR$</td>\n",
       "    </tr>\n",
       "    <tr>\n",
       "      <th>TX26</th>\n",
       "      <td>{'cantidadCompra': 7797.0, 'precioCompra': 121...</td>\n",
       "      <td>123.00</td>\n",
       "      <td>0.81</td>\n",
       "      <td>122.90</td>\n",
       "      <td>...</td>\n",
       "      <td>None</td>\n",
       "      <td>None</td>\n",
       "      <td>BCBA</td>\n",
       "      <td>AR$</td>\n",
       "    </tr>\n",
       "    <tr>\n",
       "      <th>TX28</th>\n",
       "      <td>{'cantidadCompra': 220000.0, 'precioCompra': 1...</td>\n",
       "      <td>115.95</td>\n",
       "      <td>0.82</td>\n",
       "      <td>115.05</td>\n",
       "      <td>...</td>\n",
       "      <td>None</td>\n",
       "      <td>None</td>\n",
       "      <td>BCBA</td>\n",
       "      <td>AR$</td>\n",
       "    </tr>\n",
       "    <tr>\n",
       "      <th>TY22P</th>\n",
       "      <td>None</td>\n",
       "      <td>80.00</td>\n",
       "      <td>0.00</td>\n",
       "      <td>80.00</td>\n",
       "      <td>...</td>\n",
       "      <td>None</td>\n",
       "      <td>None</td>\n",
       "      <td>BCBA</td>\n",
       "      <td>AR$</td>\n",
       "    </tr>\n",
       "  </tbody>\n",
       "</table>\n",
       "<p>148 rows × 15 columns</p>\n",
       "</div>"
      ],
      "text/plain": [
       "                                                    puntas  ultimoPrecio  \\\n",
       "simbolo                                                                    \n",
       "A2E8                                                  None       5301.00   \n",
       "A2E8D                                                 None         42.50   \n",
       "AA21                                                  None       4660.00   \n",
       "AA21D                                                 None         45.75   \n",
       "AA22     {'cantidadCompra': 50000.0, 'precioCompra': 10...        100.70   \n",
       "...                                                    ...           ...   \n",
       "TX23     {'cantidadCompra': 31704.0, 'precioCompra': 15...        158.00   \n",
       "TX24     {'cantidadCompra': 32412.0, 'precioCompra': 15...        151.00   \n",
       "TX26     {'cantidadCompra': 7797.0, 'precioCompra': 121...        123.00   \n",
       "TX28     {'cantidadCompra': 220000.0, 'precioCompra': 1...        115.95   \n",
       "TY22P                                                 None         80.00   \n",
       "\n",
       "         variacionPorcentual  apertura  ...  precioEjercicio  \\\n",
       "simbolo                                 ...                    \n",
       "A2E8                    0.00   5301.00  ...             None   \n",
       "A2E8D                   0.00     42.50  ...             None   \n",
       "AA21                    0.00   4660.00  ...             None   \n",
       "AA21D                   0.00     45.75  ...             None   \n",
       "AA22                   -0.04    100.50  ...             None   \n",
       "...                      ...       ...  ...              ...   \n",
       "TX23                    0.57    159.00  ...             None   \n",
       "TX24                    0.73    150.50  ...             None   \n",
       "TX26                    0.81    122.90  ...             None   \n",
       "TX28                    0.82    115.05  ...             None   \n",
       "TY22P                   0.00     80.00  ...             None   \n",
       "\n",
       "         fechaVencimiento  mercado  moneda  \n",
       "simbolo                                     \n",
       "A2E8                 None     BCBA     AR$  \n",
       "A2E8D                None     BCBA     US$  \n",
       "AA21                 None     BCBA     AR$  \n",
       "AA21D                None     BCBA     US$  \n",
       "AA22                 None     BCBA     AR$  \n",
       "...                   ...      ...     ...  \n",
       "TX23                 None     BCBA     AR$  \n",
       "TX24                 None     BCBA     AR$  \n",
       "TX26                 None     BCBA     AR$  \n",
       "TX28                 None     BCBA     AR$  \n",
       "TY22P                None     BCBA     AR$  \n",
       "\n",
       "[148 rows x 15 columns]"
      ]
     },
     "execution_count": 37,
     "metadata": {},
     "output_type": "execute_result"
    }
   ],
   "source": [
    "%%time\n",
    "tk = actualizarToken(tk) \n",
    "p = panel(instrumento='Bonos', panel='todos', pais='argentina')\n",
    "p"
   ]
  },
  {
   "cell_type": "markdown",
   "id": "066e1655",
   "metadata": {},
   "source": [
    "O bien sus puntas de compra y venta:"
   ]
  },
  {
   "cell_type": "markdown",
   "id": "19b4d099",
   "metadata": {},
   "source": [
    "## Precio de UN instrumento"
   ]
  },
  {
   "cell_type": "markdown",
   "id": "b04ec4ad",
   "metadata": {},
   "source": [
    "Ingresando el mercado y el ticker podemos obtener el precio de dicho ticker"
   ]
  },
  {
   "cell_type": "code",
   "execution_count": 38,
   "id": "7a8141f6",
   "metadata": {},
   "outputs": [],
   "source": [
    "def precio(mercado, ticker):\n",
    "    \n",
    "    # Configuración del llamado a la API\n",
    "    \n",
    "    url_base= 'https://api.invertironline.com/api/v2/'\n",
    "    endpoint = mercado+'/Titulos/'+ticker+'/Cotizacion'\n",
    "    url = url_base + endpoint\n",
    "    headers = {\"Authorization\" : \"Bearer \"+ tk['access_token']}\n",
    "    \n",
    "    # Llamado a la API\n",
    "    data = requests.get(url = url, headers = headers).json()\n",
    "    \n",
    "    return data"
   ]
  },
  {
   "cell_type": "code",
   "execution_count": 39,
   "id": "611fb3cc",
   "metadata": {},
   "outputs": [
    {
     "data": {
      "text/plain": [
       "{'ultimoPrecio': 148.35,\n",
       " 'variacion': 2.52,\n",
       " 'apertura': 147.05,\n",
       " 'maximo': 148.5,\n",
       " 'minimo': 146.0,\n",
       " 'fechaHora': '2021-07-26T17:00:01.6161757-03:00',\n",
       " 'tendencia': 'sube',\n",
       " 'cierreAnterior': 144.7,\n",
       " 'montoOperado': 130920020.2500002,\n",
       " 'volumenNominal': 886161,\n",
       " 'precioPromedio': 0.0,\n",
       " 'moneda': 'peso_Argentino',\n",
       " 'precioAjuste': 0.0,\n",
       " 'interesesAbiertos': 0.0,\n",
       " 'puntas': [{'cantidadCompra': 100.0,\n",
       "   'precioCompra': 147.6,\n",
       "   'precioVenta': 148.75,\n",
       "   'cantidadVenta': 5360.0},\n",
       "  {'cantidadCompra': 5400.0,\n",
       "   'precioCompra': 140.2,\n",
       "   'precioVenta': 149.0,\n",
       "   'cantidadVenta': 142.0},\n",
       "  {'cantidadCompra': 5.0,\n",
       "   'precioCompra': 138.25,\n",
       "   'precioVenta': 150.0,\n",
       "   'cantidadVenta': 100.0},\n",
       "  {'cantidadCompra': 5.0,\n",
       "   'precioCompra': 138.2,\n",
       "   'precioVenta': 151.0,\n",
       "   'cantidadVenta': 106.0},\n",
       "  {'cantidadCompra': 4.0,\n",
       "   'precioCompra': 138.1,\n",
       "   'precioVenta': 151.3,\n",
       "   'cantidadVenta': 100.0}],\n",
       " 'cantidadOperaciones': 933}"
      ]
     },
     "execution_count": 39,
     "metadata": {},
     "output_type": "execute_result"
    }
   ],
   "source": [
    "tk = actualizarToken(tk) \n",
    "data = precio('bcba','GGAL')\n",
    "data"
   ]
  },
  {
   "cell_type": "code",
   "execution_count": 40,
   "id": "8920a2a4",
   "metadata": {},
   "outputs": [
    {
     "data": {
      "text/plain": [
       "{'ultimoPrecio': 6042.0,\n",
       " 'variacion': 0.03,\n",
       " 'apertura': 6085.0,\n",
       " 'maximo': 6085.0,\n",
       " 'minimo': 6042.0,\n",
       " 'fechaHora': '2021-07-26T17:00:26.5251726-03:00',\n",
       " 'tendencia': 'sube',\n",
       " 'cierreAnterior': 6040.0,\n",
       " 'montoOperado': 6756692490.710002,\n",
       " 'volumenNominal': 111606138,\n",
       " 'precioPromedio': 0.0,\n",
       " 'moneda': 'peso_Argentino',\n",
       " 'precioAjuste': 0.0,\n",
       " 'interesesAbiertos': 0.0,\n",
       " 'puntas': [{'cantidadCompra': 740.0,\n",
       "   'precioCompra': 6040.0,\n",
       "   'precioVenta': 6300.0,\n",
       "   'cantidadVenta': 1630.0},\n",
       "  {'cantidadCompra': 2.0,\n",
       "   'precioCompra': 6035.0,\n",
       "   'precioVenta': 6458.0,\n",
       "   'cantidadVenta': 450.0},\n",
       "  {'cantidadCompra': 1656.0,\n",
       "   'precioCompra': 6005.0,\n",
       "   'precioVenta': 6500.0,\n",
       "   'cantidadVenta': 674.0},\n",
       "  {'cantidadCompra': 496.0,\n",
       "   'precioCompra': 6000.0,\n",
       "   'precioVenta': 6845.0,\n",
       "   'cantidadVenta': 675.0},\n",
       "  {'cantidadCompra': 1.0,\n",
       "   'precioCompra': 5950.0,\n",
       "   'precioVenta': 6886.0,\n",
       "   'cantidadVenta': 1000.0}],\n",
       " 'cantidadOperaciones': 7122}"
      ]
     },
     "execution_count": 40,
     "metadata": {},
     "output_type": "execute_result"
    }
   ],
   "source": [
    "tk = actualizarToken(tk) \n",
    "data = precio('bcba','AL30')\n",
    "data"
   ]
  },
  {
   "cell_type": "markdown",
   "id": "44410ba6",
   "metadata": {},
   "source": [
    "### Precios RealTime de acciones en EEUU"
   ]
  },
  {
   "cell_type": "markdown",
   "id": "2c5b4f67",
   "metadata": {},
   "source": [
    "Probamos con GGAL, tanto en nyse como en nasdaq y obtenemos su precio en ambos mercados"
   ]
  },
  {
   "cell_type": "code",
   "execution_count": 41,
   "id": "4cb661b4",
   "metadata": {},
   "outputs": [
    {
     "data": {
      "text/plain": [
       "{'ultimoPrecio': 8.16,\n",
       " 'variacion': 2.38,\n",
       " 'apertura': 7.96,\n",
       " 'maximo': 8.24,\n",
       " 'minimo': 7.96,\n",
       " 'fechaHora': '2021-07-26T17:59:57',\n",
       " 'tendencia': 'sube',\n",
       " 'cierreAnterior': 7.97,\n",
       " 'montoOperado': 219561.12,\n",
       " 'volumenNominal': 0,\n",
       " 'precioPromedio': 0.0,\n",
       " 'moneda': 'dolar_Estadounidense',\n",
       " 'precioAjuste': 0.0,\n",
       " 'interesesAbiertos': 0.0,\n",
       " 'puntas': [{'cantidadCompra': 400.0,\n",
       "   'precioCompra': 8.12,\n",
       "   'precioVenta': 8.45,\n",
       "   'cantidadVenta': 100.0}],\n",
       " 'cantidadOperaciones': 56}"
      ]
     },
     "execution_count": 41,
     "metadata": {},
     "output_type": "execute_result"
    }
   ],
   "source": [
    "tk = actualizarToken(tk) \n",
    "data = precio('nyse','GGAL')\n",
    "data"
   ]
  },
  {
   "cell_type": "code",
   "execution_count": 42,
   "id": "99301fcd",
   "metadata": {},
   "outputs": [
    {
     "data": {
      "text/plain": [
       "{'ultimoPrecio': 8.16,\n",
       " 'variacion': 2.38,\n",
       " 'apertura': 7.96,\n",
       " 'maximo': 8.24,\n",
       " 'minimo': 7.96,\n",
       " 'fechaHora': '2021-07-26T17:59:57',\n",
       " 'tendencia': 'sube',\n",
       " 'cierreAnterior': 7.97,\n",
       " 'montoOperado': 219561.12,\n",
       " 'volumenNominal': 0,\n",
       " 'precioPromedio': 0.0,\n",
       " 'moneda': 'dolar_Estadounidense',\n",
       " 'precioAjuste': 0.0,\n",
       " 'interesesAbiertos': 0.0,\n",
       " 'puntas': [{'cantidadCompra': 400.0,\n",
       "   'precioCompra': 8.12,\n",
       "   'precioVenta': 8.45,\n",
       "   'cantidadVenta': 100.0}],\n",
       " 'cantidadOperaciones': 56}"
      ]
     },
     "execution_count": 42,
     "metadata": {},
     "output_type": "execute_result"
    }
   ],
   "source": [
    "tk = actualizarToken(tk) \n",
    "data = precio('nasdaq','GGAL')\n",
    "data"
   ]
  },
  {
   "cell_type": "markdown",
   "id": "b186f3d0",
   "metadata": {},
   "source": [
    "### Precios Real Time de una opción:"
   ]
  },
  {
   "cell_type": "code",
   "execution_count": 44,
   "id": "4b8a3a96",
   "metadata": {},
   "outputs": [
    {
     "data": {
      "text/plain": [
       "{'ultimoPrecio': 9.0,\n",
       " 'variacion': 0.0,\n",
       " 'apertura': 9.0,\n",
       " 'maximo': 9.8,\n",
       " 'minimo': 8.1,\n",
       " 'fechaHora': '2021-07-26T03:00:01.48',\n",
       " 'tendencia': 'mantiene',\n",
       " 'cierreAnterior': 9.0,\n",
       " 'montoOperado': 0.0,\n",
       " 'volumenNominal': 0,\n",
       " 'precioPromedio': 0.0,\n",
       " 'moneda': 'peso_Argentino',\n",
       " 'precioAjuste': 0.0,\n",
       " 'interesesAbiertos': 0.0,\n",
       " 'puntas': [{'cantidadCompra': 0.0,\n",
       "   'precioCompra': 0.0,\n",
       "   'precioVenta': 0.0,\n",
       "   'cantidadVenta': 0.0}],\n",
       " 'cantidadOperaciones': 0}"
      ]
     },
     "execution_count": 44,
     "metadata": {},
     "output_type": "execute_result"
    }
   ],
   "source": [
    "tk = actualizarToken(tk) \n",
    "data = precio('bcba','GFGC11881D')\n",
    "data"
   ]
  },
  {
   "cell_type": "markdown",
   "id": "ecd0bd0c",
   "metadata": {},
   "source": [
    "### Precios Real Time de bonos"
   ]
  },
  {
   "cell_type": "code",
   "execution_count": 45,
   "id": "02470aca",
   "metadata": {},
   "outputs": [
    {
     "data": {
      "text/plain": [
       "{'ultimoPrecio': 59.4,\n",
       " 'variacion': -0.83,\n",
       " 'apertura': 60.5,\n",
       " 'maximo': 60.5,\n",
       " 'minimo': 59.0,\n",
       " 'fechaHora': '2021-07-26T17:00:01.6161757-03:00',\n",
       " 'tendencia': 'sube',\n",
       " 'cierreAnterior': 59.9,\n",
       " 'montoOperado': 10469826.8,\n",
       " 'volumenNominal': 175761,\n",
       " 'precioPromedio': 0.0,\n",
       " 'moneda': 'peso_Argentino',\n",
       " 'precioAjuste': 0.0,\n",
       " 'interesesAbiertos': 0.0,\n",
       " 'puntas': [{'cantidadCompra': 247.0,\n",
       "   'precioCompra': 59.0,\n",
       "   'precioVenta': 59.9,\n",
       "   'cantidadVenta': 8400.0},\n",
       "  {'cantidadCompra': 50.0,\n",
       "   'precioCompra': 56.0,\n",
       "   'precioVenta': 60.3,\n",
       "   'cantidadVenta': 1000.0},\n",
       "  {'cantidadCompra': 1187.0,\n",
       "   'precioCompra': 55.0,\n",
       "   'precioVenta': 60.0,\n",
       "   'cantidadVenta': 35151.0},\n",
       "  {'cantidadCompra': 60.0,\n",
       "   'precioCompra': 54.0,\n",
       "   'precioVenta': 60.6,\n",
       "   'cantidadVenta': 4548.0},\n",
       "  {'cantidadCompra': 186.0,\n",
       "   'precioCompra': 53.5,\n",
       "   'precioVenta': 60.1,\n",
       "   'cantidadVenta': 16043.0}],\n",
       " 'cantidadOperaciones': 429}"
      ]
     },
     "execution_count": 45,
     "metadata": {},
     "output_type": "execute_result"
    }
   ],
   "source": [
    "tk = actualizarToken(tk) \n",
    "data = precio('bcba','ALUA')\n",
    "data"
   ]
  },
  {
   "cell_type": "markdown",
   "id": "432f81d4",
   "metadata": {},
   "source": [
    "### Precios de FCIs\n",
    "\n",
    "Con un FCI también funciona, aunque al no tener mercado secundario, solo tenemos precios EOD (fin del dia), que es valor de cuotaparte en realidad al cierre"
   ]
  },
  {
   "cell_type": "code",
   "execution_count": 46,
   "id": "eac68aa5",
   "metadata": {},
   "outputs": [
    {
     "data": {
      "text/plain": [
       "{'ultimoPrecio': 32.778965,\n",
       " 'variacion': -1.19,\n",
       " 'apertura': 0.0,\n",
       " 'maximo': 0.0,\n",
       " 'minimo': 0.0,\n",
       " 'fechaHora': '2021-07-23T18:00:00',\n",
       " 'tendencia': 'sube',\n",
       " 'cierreAnterior': 0.0,\n",
       " 'montoOperado': 0.0,\n",
       " 'volumenNominal': 0,\n",
       " 'precioPromedio': 0.0,\n",
       " 'moneda': 'peso_Argentino',\n",
       " 'precioAjuste': 0.0,\n",
       " 'interesesAbiertos': 0.0,\n",
       " 'puntas': [{'cantidadCompra': 0.0,\n",
       "   'precioCompra': 0.0,\n",
       "   'precioVenta': 0.0,\n",
       "   'cantidadVenta': 0.0}],\n",
       " 'cantidadOperaciones': 0}"
      ]
     },
     "execution_count": 46,
     "metadata": {},
     "output_type": "execute_result"
    }
   ],
   "source": [
    "tk = actualizarToken(tk) \n",
    "data = precio('bcba','PRTAVAB')\n",
    "data"
   ]
  },
  {
   "cell_type": "markdown",
   "id": "bf1669a3",
   "metadata": {},
   "source": [
    "### También funciona con un ETF"
   ]
  },
  {
   "cell_type": "code",
   "execution_count": 47,
   "id": "80ea1ebd",
   "metadata": {},
   "outputs": [
    {
     "data": {
      "text/plain": [
       "{'ultimoPrecio': 51.54,\n",
       " 'variacion': -1.85,\n",
       " 'apertura': 51.41,\n",
       " 'maximo': 51.745,\n",
       " 'minimo': 51.325,\n",
       " 'fechaHora': '2021-07-26T18:00:04',\n",
       " 'tendencia': 'baja',\n",
       " 'cierreAnterior': 52.51,\n",
       " 'montoOperado': 1625880.84,\n",
       " 'volumenNominal': 0,\n",
       " 'precioPromedio': 0.0,\n",
       " 'moneda': 'dolar_Estadounidense',\n",
       " 'precioAjuste': 0.0,\n",
       " 'interesesAbiertos': 0.0,\n",
       " 'puntas': [{'cantidadCompra': 20200.0,\n",
       "   'precioCompra': 51.53,\n",
       "   'precioVenta': 51.54,\n",
       "   'cantidadVenta': 4900.0}],\n",
       " 'cantidadOperaciones': 1183}"
      ]
     },
     "execution_count": 47,
     "metadata": {},
     "output_type": "execute_result"
    }
   ],
   "source": [
    "tk = actualizarToken(tk) \n",
    "data = precio('nyse','EEM')\n",
    "data"
   ]
  },
  {
   "cell_type": "markdown",
   "id": "c5a6a225",
   "metadata": {},
   "source": [
    "## Opciones de un determinado subyacente"
   ]
  },
  {
   "cell_type": "code",
   "execution_count": 48,
   "id": "f3bcdeed",
   "metadata": {},
   "outputs": [
    {
     "data": {
      "text/plain": [
       "Index(['ultimoPrecio', 'variacion', 'apertura', 'maximo', 'minimo',\n",
       "       'fechaHora', 'tendencia', 'cierreAnterior', 'montoOperado',\n",
       "       'volumenNominal', 'precioPromedio', 'moneda', 'precioAjuste',\n",
       "       'interesesAbiertos', 'puntas', 'cantidadOperaciones', 'tipo',\n",
       "       'vencimiento', 'descripcion'],\n",
       "      dtype='object')"
      ]
     },
     "execution_count": 48,
     "metadata": {},
     "output_type": "execute_result"
    }
   ],
   "source": [
    "def opcionesDe(ticker):\n",
    "    \n",
    "    # Configuración del llamado a la API\n",
    "    url_base= 'https://api.invertironline.com/api/v2/'\n",
    "    endpoint = 'bcba/Titulos/'+ticker+'/Opciones'\n",
    "    url = url_base + endpoint\n",
    "    headers = {\"Authorization\" : \"Bearer \"+ tk['access_token']}\n",
    "    \n",
    "    # Llamado a la API\n",
    "    data = requests.get(url = url, headers = headers).json()\n",
    "    \n",
    "    opciones = []\n",
    "    for i in range(len(data)):\n",
    "        opcion = data[i]['cotizacion']\n",
    "        opcion['simbolo'] = data[i]['simbolo']\n",
    "        opcion['tipo'] = data[i]['tipoOpcion']\n",
    "        opcion['vencimiento'] = data[i]['fechaVencimiento']\n",
    "        opcion['descripcion'] = data[i]['descripcion']\n",
    "        opciones.append(opcion)\n",
    "    tabla = pd.DataFrame(opciones).set_index('simbolo')\n",
    "    return(tabla)\n",
    "\n",
    "tk = actualizarToken(tk) \n",
    "data = opcionesDe('GGAL')\n",
    "data.columns"
   ]
  },
  {
   "cell_type": "markdown",
   "id": "72935af2",
   "metadata": {},
   "source": [
    "Como ven en las columnas tenemos de todo, veamos por ejemplo como ver la cantidad de contratos tanto de calls como de puts por cada vencimiento:"
   ]
  },
  {
   "cell_type": "code",
   "execution_count": 49,
   "id": "fe8431e7",
   "metadata": {},
   "outputs": [
    {
     "data": {
      "text/html": [
       "<div>\n",
       "<style scoped>\n",
       "    .dataframe tbody tr th:only-of-type {\n",
       "        vertical-align: middle;\n",
       "    }\n",
       "\n",
       "    .dataframe tbody tr th {\n",
       "        vertical-align: top;\n",
       "    }\n",
       "\n",
       "    .dataframe thead th {\n",
       "        text-align: right;\n",
       "    }\n",
       "</style>\n",
       "<table border=\"1\" class=\"dataframe\">\n",
       "  <thead>\n",
       "    <tr style=\"text-align: right;\">\n",
       "      <th></th>\n",
       "      <th>ultimoPrecio</th>\n",
       "      <th>variacion</th>\n",
       "      <th>apertura</th>\n",
       "      <th>maximo</th>\n",
       "      <th>...</th>\n",
       "      <th>cantidadOperaciones</th>\n",
       "      <th>tipo</th>\n",
       "      <th>vencimiento</th>\n",
       "      <th>descripcion</th>\n",
       "    </tr>\n",
       "    <tr>\n",
       "      <th>simbolo</th>\n",
       "      <th></th>\n",
       "      <th></th>\n",
       "      <th></th>\n",
       "      <th></th>\n",
       "      <th></th>\n",
       "      <th></th>\n",
       "      <th></th>\n",
       "      <th></th>\n",
       "      <th></th>\n",
       "    </tr>\n",
       "  </thead>\n",
       "  <tbody>\n",
       "    <tr>\n",
       "      <th>GFGC82983G</th>\n",
       "      <td>86.984</td>\n",
       "      <td>0.00</td>\n",
       "      <td>0.0</td>\n",
       "      <td>0.0</td>\n",
       "      <td>...</td>\n",
       "      <td>0</td>\n",
       "      <td>Call</td>\n",
       "      <td>2021-08-20T00:00:00</td>\n",
       "      <td>Call GGAL 82.98 Vencimiento: 20/08/2021</td>\n",
       "    </tr>\n",
       "    <tr>\n",
       "      <th>GFGV82983G</th>\n",
       "      <td>0.026</td>\n",
       "      <td>-26.82</td>\n",
       "      <td>0.0</td>\n",
       "      <td>0.0</td>\n",
       "      <td>...</td>\n",
       "      <td>0</td>\n",
       "      <td>Put</td>\n",
       "      <td>2021-08-20T00:00:00</td>\n",
       "      <td>Put GGAL 82.98 Vencimiento: 20/08/2021</td>\n",
       "    </tr>\n",
       "    <tr>\n",
       "      <th>GFGV87.0AG</th>\n",
       "      <td>0.030</td>\n",
       "      <td>-25.00</td>\n",
       "      <td>0.0</td>\n",
       "      <td>0.0</td>\n",
       "      <td>...</td>\n",
       "      <td>0</td>\n",
       "      <td>Put</td>\n",
       "      <td>2021-08-20T00:00:00</td>\n",
       "      <td>Put GGAL 87.00 Vencimiento: 20/08/2021</td>\n",
       "    </tr>\n",
       "    <tr>\n",
       "      <th>GFGC87.0AG</th>\n",
       "      <td>0.000</td>\n",
       "      <td>0.00</td>\n",
       "      <td>0.0</td>\n",
       "      <td>0.0</td>\n",
       "      <td>...</td>\n",
       "      <td>0</td>\n",
       "      <td>Call</td>\n",
       "      <td>2021-08-20T00:00:00</td>\n",
       "      <td>Call GGAL 87.00 Vencimiento: 20/08/2021</td>\n",
       "    </tr>\n",
       "    <tr>\n",
       "      <th>GFGV90.0AG</th>\n",
       "      <td>0.058</td>\n",
       "      <td>-43.54</td>\n",
       "      <td>0.0</td>\n",
       "      <td>0.0</td>\n",
       "      <td>...</td>\n",
       "      <td>0</td>\n",
       "      <td>Put</td>\n",
       "      <td>2021-08-20T00:00:00</td>\n",
       "      <td>Put GGAL 90.00 Vencimiento: 20/08/2021</td>\n",
       "    </tr>\n",
       "    <tr>\n",
       "      <th>...</th>\n",
       "      <td>...</td>\n",
       "      <td>...</td>\n",
       "      <td>...</td>\n",
       "      <td>...</td>\n",
       "      <td>...</td>\n",
       "      <td>...</td>\n",
       "      <td>...</td>\n",
       "      <td>...</td>\n",
       "      <td>...</td>\n",
       "    </tr>\n",
       "    <tr>\n",
       "      <th>GFGV145.DI</th>\n",
       "      <td>0.000</td>\n",
       "      <td>0.00</td>\n",
       "      <td>0.0</td>\n",
       "      <td>0.0</td>\n",
       "      <td>...</td>\n",
       "      <td>0</td>\n",
       "      <td>Put</td>\n",
       "      <td>2021-12-17T00:00:00</td>\n",
       "      <td>Put GGAL 145.00 Vencimiento: 17/12/2021</td>\n",
       "    </tr>\n",
       "    <tr>\n",
       "      <th>GFGC170.DI</th>\n",
       "      <td>18.000</td>\n",
       "      <td>10.76</td>\n",
       "      <td>0.0</td>\n",
       "      <td>0.0</td>\n",
       "      <td>...</td>\n",
       "      <td>0</td>\n",
       "      <td>Call</td>\n",
       "      <td>2021-12-17T00:00:00</td>\n",
       "      <td>Call GGAL 170.00 Vencimiento: 17/12/2021</td>\n",
       "    </tr>\n",
       "    <tr>\n",
       "      <th>GFGC200.DI</th>\n",
       "      <td>0.000</td>\n",
       "      <td>0.00</td>\n",
       "      <td>0.0</td>\n",
       "      <td>0.0</td>\n",
       "      <td>...</td>\n",
       "      <td>0</td>\n",
       "      <td>Call</td>\n",
       "      <td>2021-12-17T00:00:00</td>\n",
       "      <td>Call GGAL 200.00 Vencimiento: 17/12/2021</td>\n",
       "    </tr>\n",
       "    <tr>\n",
       "      <th>GFGC220.DI</th>\n",
       "      <td>0.000</td>\n",
       "      <td>0.00</td>\n",
       "      <td>0.0</td>\n",
       "      <td>0.0</td>\n",
       "      <td>...</td>\n",
       "      <td>0</td>\n",
       "      <td>Call</td>\n",
       "      <td>2021-12-17T00:00:00</td>\n",
       "      <td>Call GGAL 220.00 Vencimiento: 17/12/2021</td>\n",
       "    </tr>\n",
       "    <tr>\n",
       "      <th>GFGC240.DI</th>\n",
       "      <td>4.800</td>\n",
       "      <td>0.00</td>\n",
       "      <td>0.0</td>\n",
       "      <td>0.0</td>\n",
       "      <td>...</td>\n",
       "      <td>0</td>\n",
       "      <td>Call</td>\n",
       "      <td>2021-12-17T00:00:00</td>\n",
       "      <td>Call GGAL 240.00 Vencimiento: 17/12/2021</td>\n",
       "    </tr>\n",
       "  </tbody>\n",
       "</table>\n",
       "<p>92 rows × 19 columns</p>\n",
       "</div>"
      ],
      "text/plain": [
       "            ultimoPrecio  variacion  apertura  maximo  ...  \\\n",
       "simbolo                                                ...   \n",
       "GFGC82983G        86.984       0.00       0.0     0.0  ...   \n",
       "GFGV82983G         0.026     -26.82       0.0     0.0  ...   \n",
       "GFGV87.0AG         0.030     -25.00       0.0     0.0  ...   \n",
       "GFGC87.0AG         0.000       0.00       0.0     0.0  ...   \n",
       "GFGV90.0AG         0.058     -43.54       0.0     0.0  ...   \n",
       "...                  ...        ...       ...     ...  ...   \n",
       "GFGV145.DI         0.000       0.00       0.0     0.0  ...   \n",
       "GFGC170.DI        18.000      10.76       0.0     0.0  ...   \n",
       "GFGC200.DI         0.000       0.00       0.0     0.0  ...   \n",
       "GFGC220.DI         0.000       0.00       0.0     0.0  ...   \n",
       "GFGC240.DI         4.800       0.00       0.0     0.0  ...   \n",
       "\n",
       "            cantidadOperaciones  tipo          vencimiento  \\\n",
       "simbolo                                                      \n",
       "GFGC82983G                    0  Call  2021-08-20T00:00:00   \n",
       "GFGV82983G                    0   Put  2021-08-20T00:00:00   \n",
       "GFGV87.0AG                    0   Put  2021-08-20T00:00:00   \n",
       "GFGC87.0AG                    0  Call  2021-08-20T00:00:00   \n",
       "GFGV90.0AG                    0   Put  2021-08-20T00:00:00   \n",
       "...                         ...   ...                  ...   \n",
       "GFGV145.DI                    0   Put  2021-12-17T00:00:00   \n",
       "GFGC170.DI                    0  Call  2021-12-17T00:00:00   \n",
       "GFGC200.DI                    0  Call  2021-12-17T00:00:00   \n",
       "GFGC220.DI                    0  Call  2021-12-17T00:00:00   \n",
       "GFGC240.DI                    0  Call  2021-12-17T00:00:00   \n",
       "\n",
       "                                         descripcion  \n",
       "simbolo                                               \n",
       "GFGC82983G   Call GGAL 82.98 Vencimiento: 20/08/2021  \n",
       "GFGV82983G    Put GGAL 82.98 Vencimiento: 20/08/2021  \n",
       "GFGV87.0AG    Put GGAL 87.00 Vencimiento: 20/08/2021  \n",
       "GFGC87.0AG   Call GGAL 87.00 Vencimiento: 20/08/2021  \n",
       "GFGV90.0AG    Put GGAL 90.00 Vencimiento: 20/08/2021  \n",
       "...                                              ...  \n",
       "GFGV145.DI   Put GGAL 145.00 Vencimiento: 17/12/2021  \n",
       "GFGC170.DI  Call GGAL 170.00 Vencimiento: 17/12/2021  \n",
       "GFGC200.DI  Call GGAL 200.00 Vencimiento: 17/12/2021  \n",
       "GFGC220.DI  Call GGAL 220.00 Vencimiento: 17/12/2021  \n",
       "GFGC240.DI  Call GGAL 240.00 Vencimiento: 17/12/2021  \n",
       "\n",
       "[92 rows x 19 columns]"
      ]
     },
     "execution_count": 49,
     "metadata": {},
     "output_type": "execute_result"
    }
   ],
   "source": [
    "data"
   ]
  },
  {
   "cell_type": "code",
   "execution_count": 50,
   "id": "4f2b076a",
   "metadata": {},
   "outputs": [
    {
     "data": {
      "text/plain": [
       "tipo  vencimiento        \n",
       "Call  2021-08-20T00:00:00    32\n",
       "      2021-10-15T00:00:00    20\n",
       "      2021-12-17T00:00:00     5\n",
       "Put   2021-08-20T00:00:00    26\n",
       "      2021-10-15T00:00:00     8\n",
       "      2021-12-17T00:00:00     1\n",
       "dtype: int64"
      ]
     },
     "execution_count": 50,
     "metadata": {},
     "output_type": "execute_result"
    }
   ],
   "source": [
    "data.groupby(['tipo','vencimiento']).size()"
   ]
  },
  {
   "cell_type": "markdown",
   "id": "6e55e4f1",
   "metadata": {},
   "source": [
    "Asimismo puedo traer data concreta de una opción determinada:"
   ]
  },
  {
   "cell_type": "code",
   "execution_count": 51,
   "id": "c1f70a6f",
   "metadata": {},
   "outputs": [
    {
     "data": {
      "text/plain": [
       "array(['GFGC82983G', 'GFGV82983G', 'GFGV87.0AG', 'GFGC87.0AG',\n",
       "       'GFGV90.0AG', 'GFGC90.0AG', 'GFGV102.AG', 'GFGC102.AG',\n",
       "       'GFGC105.AG', 'GFGC108.AG', 'GFGC10998G', 'GFGV10998G',\n",
       "       'GFGV11298G', 'GFGC11298G', 'GFGV117.AG', 'GFGC117.AG',\n",
       "       'GFGC11898G', 'GFGV11898G', 'GFGC123.AG', 'GFGV123.AG',\n",
       "       'GFGC12498G', 'GFGV12498G', 'GFGV12798G', 'GFGC12798G',\n",
       "       'GFGC13098G', 'GFGV13098G', 'GFGC13398G', 'GFGV13398G',\n",
       "       'GFGC13898G', 'GFGV13898G', 'GFGC145.AG', 'GFGV145.AG',\n",
       "       'GFGV14898G', 'GFGC14898G', 'GFGC155.AG', 'GFGV155.AG',\n",
       "       'GFGV15898G', 'GFGC15898G', 'GFGV165.AG', 'GFGC165.AG',\n",
       "       'GFGV16898G', 'GFGC16898G', 'GFGC175.AG', 'GFGV175.AG',\n",
       "       'GFGV180.AG', 'GFGC180.AG', 'GFGC185.AG', 'GFGV190.AG',\n",
       "       'GFGC190.AG', 'GFGC195.AG', 'GFGC19898G', 'GFGV19898G',\n",
       "       'GFGC210.AG', 'GFGV210.AG', 'GFGC220.AG', 'GFGV220.AG',\n",
       "       'GFGC230.AG', 'GFGC240.AG', 'GFGC87.0OC', 'GFGC90.0OC',\n",
       "       'GFGV93.0OC', 'GFGC102.OC', 'GFGV10998O', 'GFGC10998O',\n",
       "       'GFGC117.OC', 'GFGC120.OC', 'GFGV120.OC', 'GFGV145.OC',\n",
       "       'GFGC145.OC', 'GFGV150.OC', 'GFGC150.OC', 'GFGV155.OC',\n",
       "       'GFGC155.OC', 'GFGC160.OC', 'GFGV160.OC', 'GFGC165.OC',\n",
       "       'GFGC170.OC', 'GFGC180.OC', 'GFGV180.OC', 'GFGC185.OC',\n",
       "       'GFGC190.OC', 'GFGC19898O', 'GFGC210.OC', 'GFGC220.OC',\n",
       "       'GFGC240.OC', 'GFGC260.OC', 'GFGC145.DI', 'GFGV145.DI',\n",
       "       'GFGC170.DI', 'GFGC200.DI', 'GFGC220.DI', 'GFGC240.DI'],\n",
       "      dtype=object)"
      ]
     },
     "execution_count": 51,
     "metadata": {},
     "output_type": "execute_result"
    }
   ],
   "source": [
    "data.index.values"
   ]
  },
  {
   "cell_type": "code",
   "execution_count": 52,
   "id": "7ca479cf",
   "metadata": {
    "scrolled": true
   },
   "outputs": [
    {
     "data": {
      "text/plain": [
       "ultimoPrecio                                                 18\n",
       "variacion                                                 10.34\n",
       "apertura                                                      0\n",
       "maximo                                                        0\n",
       "minimo                                                        0\n",
       "fechaHora                                   0001-01-01T00:00:00\n",
       "tendencia                                                  sube\n",
       "cierreAnterior                                                0\n",
       "montoOperado                                                  0\n",
       "volumenNominal                                                0\n",
       "precioPromedio                                                0\n",
       "moneda                                                        0\n",
       "precioAjuste                                                  0\n",
       "interesesAbiertos                                             0\n",
       "puntas                                                     None\n",
       "cantidadOperaciones                                           0\n",
       "tipo                                                       Call\n",
       "vencimiento                                 2021-08-20T00:00:00\n",
       "descripcion            Call GGAL 133.98 Vencimiento: 20/08/2021\n",
       "Name: GFGC13398G, dtype: object"
      ]
     },
     "execution_count": 52,
     "metadata": {},
     "output_type": "execute_result"
    }
   ],
   "source": [
    "data.loc['GFGC13398G']"
   ]
  },
  {
   "cell_type": "markdown",
   "id": "2bf8b36b",
   "metadata": {},
   "source": [
    "# Endpoints de Cuenta"
   ]
  },
  {
   "cell_type": "markdown",
   "id": "7235ad9c",
   "metadata": {},
   "source": [
    "## Estado de Cuenta"
   ]
  },
  {
   "cell_type": "code",
   "execution_count": 53,
   "id": "9a55ccca",
   "metadata": {},
   "outputs": [
    {
     "data": {
      "text/plain": [
       "dict_keys(['cuentas', 'estadisticas', 'totalEnPesos'])"
      ]
     },
     "execution_count": 53,
     "metadata": {},
     "output_type": "execute_result"
    }
   ],
   "source": [
    "def cuenta():\n",
    "    \n",
    "    # Configuración del llamado a la API\n",
    "    url_base= 'https://api.invertironline.com/api/v2/'\n",
    "    endpoint = 'estadocuenta'\n",
    "    url = url_base + endpoint\n",
    "    headers = {\"Authorization\" : \"Bearer \"+ tk['access_token']}\n",
    "    \n",
    "    # Llamado a la API\n",
    "    data = requests.get(url = url, headers = headers).json()\n",
    "    \n",
    "    return(data)\n",
    "\n",
    "tk = actualizarToken(tk) \n",
    "data = cuenta()\n",
    "data.keys()"
   ]
  },
  {
   "cell_type": "code",
   "execution_count": 54,
   "id": "a9628d6f",
   "metadata": {},
   "outputs": [
    {
     "data": {
      "text/plain": [
       "{'cuentas': [{'numero': '200487',\n",
       "   'tipo': 'inversion_Argentina_Pesos',\n",
       "   'moneda': 'peso_Argentino',\n",
       "   'disponible': 1202.2,\n",
       "   'comprometido': 0.0,\n",
       "   'saldo': 1202.2,\n",
       "   'titulosValorizados': 0.0,\n",
       "   'total': 1202.2,\n",
       "   'margenDescubierto': 0.0,\n",
       "   'saldos': [{'liquidacion': 'inmediato',\n",
       "     'saldo': 1202.2,\n",
       "     'comprometido': 0.0,\n",
       "     'disponible': 1202.2,\n",
       "     'disponibleOperar': 1202.2},\n",
       "    {'liquidacion': 'hrs24',\n",
       "     'saldo': 0.0,\n",
       "     'comprometido': 0.0,\n",
       "     'disponible': 0.0,\n",
       "     'disponibleOperar': 1202.2},\n",
       "    {'liquidacion': 'hrs48',\n",
       "     'saldo': 0.0,\n",
       "     'comprometido': 0.0,\n",
       "     'disponible': 0.0,\n",
       "     'disponibleOperar': 1202.2},\n",
       "    {'liquidacion': 'hrs72',\n",
       "     'saldo': 0.0,\n",
       "     'comprometido': 0.0,\n",
       "     'disponible': 0.0,\n",
       "     'disponibleOperar': 1202.2},\n",
       "    {'liquidacion': 'masHrs72',\n",
       "     'saldo': 0.0,\n",
       "     'comprometido': 0.0,\n",
       "     'disponible': 0.0,\n",
       "     'disponibleOperar': 0.0}],\n",
       "   'estado': 'operable'},\n",
       "  {'numero': '200487',\n",
       "   'tipo': 'inversion_Argentina_Dolares',\n",
       "   'moneda': 'dolar_Estadounidense',\n",
       "   'disponible': 0.0,\n",
       "   'comprometido': 0.0,\n",
       "   'saldo': 0.0,\n",
       "   'titulosValorizados': 0.0,\n",
       "   'total': 0.0,\n",
       "   'margenDescubierto': 0.0,\n",
       "   'saldos': [{'liquidacion': 'inmediato',\n",
       "     'saldo': 0.0,\n",
       "     'comprometido': 0.0,\n",
       "     'disponible': 0.0,\n",
       "     'disponibleOperar': 0.0},\n",
       "    {'liquidacion': 'hrs24',\n",
       "     'saldo': 0.0,\n",
       "     'comprometido': 0.0,\n",
       "     'disponible': 0.0,\n",
       "     'disponibleOperar': 0.0},\n",
       "    {'liquidacion': 'hrs48',\n",
       "     'saldo': 0.0,\n",
       "     'comprometido': 0.0,\n",
       "     'disponible': 0.0,\n",
       "     'disponibleOperar': 0.0},\n",
       "    {'liquidacion': 'hrs72',\n",
       "     'saldo': 0.0,\n",
       "     'comprometido': 0.0,\n",
       "     'disponible': 0.0,\n",
       "     'disponibleOperar': 0.0},\n",
       "    {'liquidacion': 'masHrs72',\n",
       "     'saldo': 0.0,\n",
       "     'comprometido': 0.0,\n",
       "     'disponible': 0.0,\n",
       "     'disponibleOperar': 0.0}],\n",
       "   'estado': 'operable'}],\n",
       " 'estadisticas': [{'descripcion': 'Anterior', 'cantidad': 0, 'volumen': 0.0},\n",
       "  {'descripcion': 'Actual', 'cantidad': 6, 'volumen': 877.0}],\n",
       " 'totalEnPesos': 1202.2}"
      ]
     },
     "execution_count": 54,
     "metadata": {},
     "output_type": "execute_result"
    }
   ],
   "source": [
    "data"
   ]
  },
  {
   "cell_type": "code",
   "execution_count": null,
   "id": "8b210952",
   "metadata": {},
   "outputs": [],
   "source": []
  },
  {
   "cell_type": "markdown",
   "id": "50810382",
   "metadata": {},
   "source": [
    "## Portafolio"
   ]
  },
  {
   "cell_type": "code",
   "execution_count": 55,
   "id": "5344a392",
   "metadata": {},
   "outputs": [
    {
     "data": {
      "text/plain": [
       "{'pais': 'argentina', 'activos': []}"
      ]
     },
     "execution_count": 55,
     "metadata": {},
     "output_type": "execute_result"
    }
   ],
   "source": [
    "def portafolio(pais):\n",
    "    \n",
    "    # Configuración del llamado a la API\n",
    "    url_base= 'https://api.invertironline.com/api/v2/'\n",
    "    endpoint = 'portafolio/'+pais\n",
    "    url = url_base + endpoint\n",
    "    headers = {\"Authorization\" : \"Bearer \"+ tk['access_token']}\n",
    "    \n",
    "    # Llamado a la API\n",
    "    data = requests.get(url = url, headers = headers).json()\n",
    "    \n",
    "    return(data)\n",
    "\n",
    "tk = actualizarToken(tk) \n",
    "data = portafolio('Argentina')\n",
    "data"
   ]
  },
  {
   "cell_type": "markdown",
   "id": "391417a4",
   "metadata": {},
   "source": [
    "## Operaciones vigentes"
   ]
  },
  {
   "cell_type": "code",
   "execution_count": 56,
   "id": "a9734960",
   "metadata": {},
   "outputs": [
    {
     "data": {
      "text/html": [
       "<div>\n",
       "<style scoped>\n",
       "    .dataframe tbody tr th:only-of-type {\n",
       "        vertical-align: middle;\n",
       "    }\n",
       "\n",
       "    .dataframe tbody tr th {\n",
       "        vertical-align: top;\n",
       "    }\n",
       "\n",
       "    .dataframe thead th {\n",
       "        text-align: right;\n",
       "    }\n",
       "</style>\n",
       "<table border=\"1\" class=\"dataframe\">\n",
       "  <thead>\n",
       "    <tr style=\"text-align: right;\">\n",
       "      <th></th>\n",
       "      <th>numero</th>\n",
       "      <th>fechaOrden</th>\n",
       "      <th>tipo</th>\n",
       "      <th>estado</th>\n",
       "      <th>...</th>\n",
       "      <th>fechaOperada</th>\n",
       "      <th>cantidadOperada</th>\n",
       "      <th>precioOperado</th>\n",
       "      <th>montoOperado</th>\n",
       "    </tr>\n",
       "  </thead>\n",
       "  <tbody>\n",
       "    <tr>\n",
       "      <th>0</th>\n",
       "      <td>35458328</td>\n",
       "      <td>2021-07-14T19:45:59.06</td>\n",
       "      <td>Compra</td>\n",
       "      <td>cancelada</td>\n",
       "      <td>...</td>\n",
       "      <td>None</td>\n",
       "      <td>NaN</td>\n",
       "      <td>NaN</td>\n",
       "      <td>NaN</td>\n",
       "    </tr>\n",
       "    <tr>\n",
       "      <th>1</th>\n",
       "      <td>35391322</td>\n",
       "      <td>2021-07-13T15:36:05.05</td>\n",
       "      <td>Venta</td>\n",
       "      <td>terminada</td>\n",
       "      <td>...</td>\n",
       "      <td>2021-07-13T15:36:06</td>\n",
       "      <td>1.0</td>\n",
       "      <td>147.00</td>\n",
       "      <td>147.00</td>\n",
       "    </tr>\n",
       "    <tr>\n",
       "      <th>2</th>\n",
       "      <td>35389685</td>\n",
       "      <td>2021-07-13T15:16:01.273</td>\n",
       "      <td>Compra</td>\n",
       "      <td>terminada</td>\n",
       "      <td>...</td>\n",
       "      <td>2021-07-13T15:16:04</td>\n",
       "      <td>1.0</td>\n",
       "      <td>146.50</td>\n",
       "      <td>146.50</td>\n",
       "    </tr>\n",
       "    <tr>\n",
       "      <th>3</th>\n",
       "      <td>35353808</td>\n",
       "      <td>2021-07-13T12:45:16.05</td>\n",
       "      <td>Venta</td>\n",
       "      <td>terminada</td>\n",
       "      <td>...</td>\n",
       "      <td>2021-07-13T12:45:21</td>\n",
       "      <td>1.0</td>\n",
       "      <td>145.85</td>\n",
       "      <td>145.85</td>\n",
       "    </tr>\n",
       "    <tr>\n",
       "      <th>4</th>\n",
       "      <td>35349303</td>\n",
       "      <td>2021-07-13T12:25:12.967</td>\n",
       "      <td>Compra</td>\n",
       "      <td>terminada</td>\n",
       "      <td>...</td>\n",
       "      <td>2021-07-13T12:25:13</td>\n",
       "      <td>1.0</td>\n",
       "      <td>145.95</td>\n",
       "      <td>145.95</td>\n",
       "    </tr>\n",
       "    <tr>\n",
       "      <th>5</th>\n",
       "      <td>35344095</td>\n",
       "      <td>2021-07-13T12:03:44.94</td>\n",
       "      <td>Venta</td>\n",
       "      <td>terminada</td>\n",
       "      <td>...</td>\n",
       "      <td>2021-07-13T12:03:50</td>\n",
       "      <td>1.0</td>\n",
       "      <td>146.00</td>\n",
       "      <td>146.00</td>\n",
       "    </tr>\n",
       "    <tr>\n",
       "      <th>6</th>\n",
       "      <td>35334818</td>\n",
       "      <td>2021-07-13T11:43:40.83</td>\n",
       "      <td>Compra</td>\n",
       "      <td>terminada</td>\n",
       "      <td>...</td>\n",
       "      <td>2021-07-13T11:43:43</td>\n",
       "      <td>1.0</td>\n",
       "      <td>145.70</td>\n",
       "      <td>145.70</td>\n",
       "    </tr>\n",
       "  </tbody>\n",
       "</table>\n",
       "<p>7 rows × 14 columns</p>\n",
       "</div>"
      ],
      "text/plain": [
       "     numero               fechaOrden    tipo     estado  ...  \\\n",
       "0  35458328   2021-07-14T19:45:59.06  Compra  cancelada  ...   \n",
       "1  35391322   2021-07-13T15:36:05.05   Venta  terminada  ...   \n",
       "2  35389685  2021-07-13T15:16:01.273  Compra  terminada  ...   \n",
       "3  35353808   2021-07-13T12:45:16.05   Venta  terminada  ...   \n",
       "4  35349303  2021-07-13T12:25:12.967  Compra  terminada  ...   \n",
       "5  35344095   2021-07-13T12:03:44.94   Venta  terminada  ...   \n",
       "6  35334818   2021-07-13T11:43:40.83  Compra  terminada  ...   \n",
       "\n",
       "          fechaOperada cantidadOperada  precioOperado  montoOperado  \n",
       "0                 None             NaN            NaN           NaN  \n",
       "1  2021-07-13T15:36:06             1.0         147.00        147.00  \n",
       "2  2021-07-13T15:16:04             1.0         146.50        146.50  \n",
       "3  2021-07-13T12:45:21             1.0         145.85        145.85  \n",
       "4  2021-07-13T12:25:13             1.0         145.95        145.95  \n",
       "5  2021-07-13T12:03:50             1.0         146.00        146.00  \n",
       "6  2021-07-13T11:43:43             1.0         145.70        145.70  \n",
       "\n",
       "[7 rows x 14 columns]"
      ]
     },
     "execution_count": 56,
     "metadata": {},
     "output_type": "execute_result"
    }
   ],
   "source": [
    "def operaciones():\n",
    "    \n",
    "    # Configuración del llamado a la API\n",
    "    url_base= 'https://api.invertironline.com/api/v2/'\n",
    "    endpoint = 'operaciones/'\n",
    "    url = url_base + endpoint\n",
    "    headers = {\"Authorization\" : \"Bearer \"+ tk['access_token']}\n",
    "    \n",
    "    # Llamado a la API\n",
    "    data = requests.get(url = url, headers = headers).json()\n",
    "    df = pd.DataFrame(data)\n",
    "    return df\n",
    "\n",
    "tk = actualizarToken(tk) \n",
    "data = operaciones()\n",
    "data"
   ]
  },
  {
   "cell_type": "markdown",
   "id": "049593ba",
   "metadata": {},
   "source": [
    "# Endpoints de Ruteo"
   ]
  },
  {
   "cell_type": "markdown",
   "id": "1e8461eb",
   "metadata": {},
   "source": [
    "## Operar: Compra"
   ]
  },
  {
   "cell_type": "code",
   "execution_count": 57,
   "id": "0d6895fa",
   "metadata": {},
   "outputs": [],
   "source": [
    "def comprar(ticker, q, precio, plazo ):\n",
    "    import datetime as dt\n",
    "    vigencia = dt.datetime.now() + dt.timedelta(days=1)\n",
    "    vigencia_str = dt.datetime.strftime(vigencia, '%Y-%m-%d')\n",
    "    params = {\n",
    "      \"mercado\": \"bCBA\",\n",
    "      \"simbolo\": ticker,\n",
    "      \"cantidad\": q,\n",
    "      \"precio\": precio,\n",
    "      \"plazo\": plazo,\n",
    "      \"validez\": vigencia_str\n",
    "    }\n",
    "    # Configuración del llamado a la API\n",
    "    url_base= 'https://api.invertironline.com/api/v2/'\n",
    "    endpoint = 'operar/comprar/'\n",
    "    url = url_base + endpoint\n",
    "    headers = {\"Authorization\" : \"Bearer \"+ tk['access_token']}\n",
    "    \n",
    "    # Llamado a la API\n",
    "    data = requests.post(url = url, headers = headers, json = params).json()\n",
    "    return data"
   ]
  },
  {
   "cell_type": "code",
   "execution_count": null,
   "id": "2705f042",
   "metadata": {},
   "outputs": [],
   "source": []
  },
  {
   "cell_type": "markdown",
   "id": "7a82c95d",
   "metadata": {},
   "source": [
    "¿Que voy a hacer antes de comprar?"
   ]
  },
  {
   "cell_type": "code",
   "execution_count": 58,
   "id": "5c0e24f8",
   "metadata": {},
   "outputs": [
    {
     "data": {
      "text/plain": [
       "{'ultimoPrecio': 4.73,\n",
       " 'variacion': -0.21,\n",
       " 'apertura': 4.79,\n",
       " 'maximo': 4.86,\n",
       " 'minimo': 4.68,\n",
       " 'fechaHora': '2021-07-26T17:00:01.6161757-03:00',\n",
       " 'tendencia': 'sube',\n",
       " 'cierreAnterior': 4.74,\n",
       " 'montoOperado': 11073423.88,\n",
       " 'volumenNominal': 2318386,\n",
       " 'precioPromedio': 0.0,\n",
       " 'moneda': 'peso_Argentino',\n",
       " 'precioAjuste': 0.0,\n",
       " 'interesesAbiertos': 0.0,\n",
       " 'puntas': [{'cantidadCompra': 2144.0,\n",
       "   'precioCompra': 3.7,\n",
       "   'precioVenta': 4.78,\n",
       "   'cantidadVenta': 14349.0},\n",
       "  {'cantidadCompra': 7.0,\n",
       "   'precioCompra': 3.5,\n",
       "   'precioVenta': 4.98,\n",
       "   'cantidadVenta': 12866.0},\n",
       "  {'cantidadCompra': 175.0,\n",
       "   'precioCompra': 3.05,\n",
       "   'precioVenta': 4.79,\n",
       "   'cantidadVenta': 8578.0},\n",
       "  {'cantidadCompra': 10.0,\n",
       "   'precioCompra': 3.0,\n",
       "   'precioVenta': 4.99,\n",
       "   'cantidadVenta': 115.0},\n",
       "  {'cantidadCompra': 18103.0,\n",
       "   'precioCompra': 2.8,\n",
       "   'precioVenta': 4.8,\n",
       "   'cantidadVenta': 11032.0}],\n",
       " 'cantidadOperaciones': 658}"
      ]
     },
     "execution_count": 58,
     "metadata": {},
     "output_type": "execute_result"
    }
   ],
   "source": [
    "tk = actualizarToken(tk) \n",
    "data = precio('bcba','COME')\n",
    "data"
   ]
  },
  {
   "cell_type": "code",
   "execution_count": 59,
   "id": "bf25a9ab",
   "metadata": {},
   "outputs": [
    {
     "data": {
      "text/plain": [
       "{'cantidadCompra': 2144.0,\n",
       " 'precioCompra': 3.7,\n",
       " 'precioVenta': 4.78,\n",
       " 'cantidadVenta': 14349.0}"
      ]
     },
     "execution_count": 59,
     "metadata": {},
     "output_type": "execute_result"
    }
   ],
   "source": [
    "data['puntas'][0]"
   ]
  },
  {
   "cell_type": "code",
   "execution_count": 60,
   "id": "ae43af37",
   "metadata": {},
   "outputs": [
    {
     "data": {
      "text/plain": [
       "3.7"
      ]
     },
     "execution_count": 60,
     "metadata": {},
     "output_type": "execute_result"
    }
   ],
   "source": [
    "pta_bid = data['puntas'][0]['precioCompra']\n",
    "pta_bid"
   ]
  },
  {
   "cell_type": "code",
   "execution_count": 61,
   "id": "b7dbb454",
   "metadata": {},
   "outputs": [
    {
     "data": {
      "text/plain": [
       "{'numeroOperacion': 35807630}"
      ]
     },
     "execution_count": 61,
     "metadata": {},
     "output_type": "execute_result"
    }
   ],
   "source": [
    "tk = actualizarToken(tk) \n",
    "comprar(ticker='COME', q=1, precio = pta_bid+0.01, plazo='t2')"
   ]
  },
  {
   "cell_type": "code",
   "execution_count": null,
   "id": "ff6b69ed",
   "metadata": {},
   "outputs": [],
   "source": []
  },
  {
   "cell_type": "markdown",
   "id": "e261ce93",
   "metadata": {},
   "source": [
    "## Ver estado de Operación"
   ]
  },
  {
   "cell_type": "code",
   "execution_count": 62,
   "id": "dfc1443b",
   "metadata": {},
   "outputs": [],
   "source": [
    "def operacion(numero):\n",
    "    \n",
    "    # Configuración del llamado a la API\n",
    "    url_base= 'https://api.invertironline.com/api/v2/'\n",
    "    endpoint = 'operaciones/'+str(numero)\n",
    "    url = url_base + endpoint\n",
    "    headers = {\"Authorization\" : \"Bearer \"+ tk['access_token']}\n",
    "    \n",
    "    # Llamado a la API\n",
    "    data = requests.get(url = url, headers = headers).json()\n",
    "    return data"
   ]
  },
  {
   "cell_type": "code",
   "execution_count": 63,
   "id": "c3106f76",
   "metadata": {},
   "outputs": [
    {
     "data": {
      "text/plain": [
       "{'numero': 35807630,\n",
       " 'mercado': 'bcba',\n",
       " 'simbolo': 'COME',\n",
       " 'moneda': 'peso_Argentino',\n",
       " 'tipo': 'compra',\n",
       " 'fechaAlta': '2021-07-27T01:56:32.463',\n",
       " 'validez': '2021-07-28T00:00:00',\n",
       " 'fechaOperado': None,\n",
       " 'estadoActual': 'iniciada',\n",
       " 'estados': [{'detalle': 'Iniciada', 'fecha': '2021-07-27T01:56:32.463'}],\n",
       " 'aranceles': [],\n",
       " 'operaciones': [],\n",
       " 'precio': 3.71,\n",
       " 'cantidad': 1.0,\n",
       " 'monto': 3.71,\n",
       " 'modalidad': 'precio_Limite'}"
      ]
     },
     "execution_count": 63,
     "metadata": {},
     "output_type": "execute_result"
    }
   ],
   "source": [
    "tk = actualizarToken(tk) \n",
    "data = operacion(35807630)\n",
    "data"
   ]
  },
  {
   "cell_type": "markdown",
   "id": "55733a58",
   "metadata": {},
   "source": [
    "## Operar Venta"
   ]
  },
  {
   "cell_type": "code",
   "execution_count": 64,
   "id": "9fc3a77a",
   "metadata": {},
   "outputs": [],
   "source": [
    "def vender(ticker, q, precio, plazo ):\n",
    "    import datetime as dt\n",
    "    vigencia = dt.datetime.now() + dt.timedelta(days=1)\n",
    "    vigencia_str = dt.datetime.strftime(vigencia, '%Y-%m-%d')\n",
    "    params = {\n",
    "      \"mercado\": \"bCBA\",\n",
    "      \"simbolo\": ticker,\n",
    "      \"cantidad\": q,\n",
    "      \"precio\": precio,\n",
    "      \"plazo\": plazo,\n",
    "      \"validez\": vigencia_str\n",
    "    }\n",
    "    # Configuración del llamado a la API\n",
    "    url_base= 'https://api.invertironline.com/api/v2/'\n",
    "    endpoint = 'operar/vender/'\n",
    "    url = url_base + endpoint\n",
    "    headers = {\"Authorization\" : \"Bearer \"+ tk['access_token']}\n",
    "    \n",
    "    # Llamado a la API\n",
    "    data = requests.post(url = url, headers = headers, json = params).json()\n",
    "    return data\n"
   ]
  },
  {
   "cell_type": "code",
   "execution_count": 65,
   "id": "49ffaa44",
   "metadata": {},
   "outputs": [
    {
     "data": {
      "text/html": [
       "<div>\n",
       "<style scoped>\n",
       "    .dataframe tbody tr th:only-of-type {\n",
       "        vertical-align: middle;\n",
       "    }\n",
       "\n",
       "    .dataframe tbody tr th {\n",
       "        vertical-align: top;\n",
       "    }\n",
       "\n",
       "    .dataframe thead th {\n",
       "        text-align: right;\n",
       "    }\n",
       "</style>\n",
       "<table border=\"1\" class=\"dataframe\">\n",
       "  <thead>\n",
       "    <tr style=\"text-align: right;\">\n",
       "      <th></th>\n",
       "      <th>numero</th>\n",
       "      <th>tipo</th>\n",
       "      <th>simbolo</th>\n",
       "      <th>cantidad</th>\n",
       "      <th>precio</th>\n",
       "      <th>cantidadOperada</th>\n",
       "    </tr>\n",
       "  </thead>\n",
       "  <tbody>\n",
       "    <tr>\n",
       "      <th>0</th>\n",
       "      <td>35807630</td>\n",
       "      <td>Compra</td>\n",
       "      <td>COME</td>\n",
       "      <td>1.0</td>\n",
       "      <td>3.71</td>\n",
       "      <td>NaN</td>\n",
       "    </tr>\n",
       "  </tbody>\n",
       "</table>\n",
       "</div>"
      ],
      "text/plain": [
       "     numero    tipo simbolo  cantidad  precio  cantidadOperada\n",
       "0  35807630  Compra    COME       1.0    3.71              NaN"
      ]
     },
     "execution_count": 65,
     "metadata": {},
     "output_type": "execute_result"
    }
   ],
   "source": [
    "tk = actualizarToken(tk) \n",
    "data = operaciones()\n",
    "\n",
    "cols = ['numero','tipo','simbolo','cantidad','precio','cantidadOperada']\n",
    "data.loc[data.estado=='iniciada', cols]"
   ]
  },
  {
   "cell_type": "markdown",
   "id": "71755861",
   "metadata": {},
   "source": [
    "## Operar, Cancelar Orden"
   ]
  },
  {
   "cell_type": "code",
   "execution_count": 66,
   "id": "0dc48977",
   "metadata": {},
   "outputs": [],
   "source": [
    "def cancelar(numero):\n",
    "    \n",
    "    # Configuración del llamado a la API\n",
    "    url_base= 'https://api.invertironline.com/api/v2/'\n",
    "    endpoint = 'operaciones/'+str(numero)\n",
    "    url = url_base + endpoint\n",
    "    headers = {\"Authorization\" : \"Bearer \"+ tk['access_token']}\n",
    "    \n",
    "    # Llamado a la API\n",
    "    data = requests.delete(url = url, headers = headers).json()\n",
    "    return data\n"
   ]
  },
  {
   "cell_type": "code",
   "execution_count": 67,
   "id": "391a8f48",
   "metadata": {},
   "outputs": [
    {
     "data": {
      "text/plain": [
       "{'ok': True, 'messages': [{'title': '', 'description': 'OK'}]}"
      ]
     },
     "execution_count": 67,
     "metadata": {},
     "output_type": "execute_result"
    }
   ],
   "source": [
    "tk = actualizarToken(tk) \n",
    "\n",
    "data = cancelar(35807630)\n",
    "data"
   ]
  },
  {
   "cell_type": "code",
   "execution_count": 69,
   "id": "747b740b",
   "metadata": {},
   "outputs": [
    {
     "data": {
      "text/html": [
       "<div>\n",
       "<style scoped>\n",
       "    .dataframe tbody tr th:only-of-type {\n",
       "        vertical-align: middle;\n",
       "    }\n",
       "\n",
       "    .dataframe tbody tr th {\n",
       "        vertical-align: top;\n",
       "    }\n",
       "\n",
       "    .dataframe thead th {\n",
       "        text-align: right;\n",
       "    }\n",
       "</style>\n",
       "<table border=\"1\" class=\"dataframe\">\n",
       "  <thead>\n",
       "    <tr style=\"text-align: right;\">\n",
       "      <th></th>\n",
       "      <th>numero</th>\n",
       "      <th>tipo</th>\n",
       "      <th>simbolo</th>\n",
       "      <th>cantidad</th>\n",
       "      <th>precio</th>\n",
       "      <th>cantidadOperada</th>\n",
       "    </tr>\n",
       "  </thead>\n",
       "  <tbody>\n",
       "  </tbody>\n",
       "</table>\n",
       "</div>"
      ],
      "text/plain": [
       "Empty DataFrame\n",
       "Columns: [numero, tipo, simbolo, cantidad, precio, cantidadOperada]\n",
       "Index: []"
      ]
     },
     "execution_count": 69,
     "metadata": {},
     "output_type": "execute_result"
    }
   ],
   "source": [
    "tk = actualizarToken(tk) \n",
    "data = operaciones()\n",
    "\n",
    "cols = ['numero','tipo','simbolo','cantidad','precio','cantidadOperada']\n",
    "data.loc[data.estado=='iniciada', cols]"
   ]
  },
  {
   "cell_type": "code",
   "execution_count": null,
   "id": "696a7a69",
   "metadata": {},
   "outputs": [],
   "source": []
  },
  {
   "cell_type": "code",
   "execution_count": null,
   "id": "16aa8349",
   "metadata": {},
   "outputs": [],
   "source": []
  }
 ],
 "metadata": {
  "kernelspec": {
   "display_name": "Python 3",
   "language": "python",
   "name": "python3"
  },
  "language_info": {
   "codemirror_mode": {
    "name": "ipython",
    "version": 3
   },
   "file_extension": ".py",
   "mimetype": "text/x-python",
   "name": "python",
   "nbconvert_exporter": "python",
   "pygments_lexer": "ipython3",
   "version": "3.8.5"
  },
  "toc": {
   "base_numbering": 1,
   "nav_menu": {},
   "number_sections": true,
   "sideBar": true,
   "skip_h1_title": false,
   "title_cell": "Table of Contents",
   "title_sidebar": "Contents",
   "toc_cell": false,
   "toc_position": {},
   "toc_section_display": true,
   "toc_window_display": true
  }
 },
 "nbformat": 4,
 "nbformat_minor": 5
}
