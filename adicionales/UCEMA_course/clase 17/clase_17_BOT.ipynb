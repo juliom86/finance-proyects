{
 "cells": [
  {
   "cell_type": "markdown",
   "id": "315f4004",
   "metadata": {},
   "source": [
    "# Bots"
   ]
  },
  {
   "cell_type": "markdown",
   "id": "6b7e1f95",
   "metadata": {},
   "source": [
    "## Tipos de Bots de Trading"
   ]
  },
  {
   "cell_type": "markdown",
   "id": "e6fdbbaf",
   "metadata": {},
   "source": [
    "BOTs de DataFeed / Screeners\n",
    "\n",
    "BOTs de Trading\n",
    "\n",
    "    A- Bots de Colocación de grandes órdenes, para no alterar precio\n",
    "    B- Bots de Colocación de órdenes, para obtener el mejor precio\n",
    "    C- Bots de Market Making\n",
    "    D- Bots de Arbitrajes en un mercado\n",
    "    E- Bots de Arbitrajes entre mercados\n",
    "    F- Bots de Arbitrajes estadísticos (en un mercado o entre mercados)\n",
    "    G- Bots de Hedging\n",
    "    H- Bots de Balanceo de carteras (optimización, riesgo, etc)\n",
    "    I- Bots de ruteo para seguimiento de índices (fondos, etfs)\n",
    "    J- Bots de scalping\n",
    "    K- Bots de swing trading\n",
    "\n",
    "\n",
    "BOTs estratégicos\n",
    "\n",
    "* Bots de detección de otros bots"
   ]
  },
  {
   "cell_type": "markdown",
   "id": "68e342c6",
   "metadata": {},
   "source": [
    "# Planteo de nuestro bot de scalping"
   ]
  },
  {
   "cell_type": "markdown",
   "id": "1987ae37",
   "metadata": {},
   "source": [
    "Caracteristicas:\n",
    "    \n",
    "    Tipo operacion: Swing\n",
    "    Timerframe: 1min\n",
    "    Instrumento GGAL\n",
    "    Señal Compra; Modelo ML\n",
    "    Señal Vta: timeout\n",
    "    Tipo de compra y venta: Agresivo\n",
    "    Driver: Mercado USA\n",
    "    Ruteo: Mercado Arg\n",
    "     \n",
    "Acciones:\n",
    "    \n",
    "    Lectura de datos USA => API tiingo\n",
    "    Operatoria en Arg => API IOL\n",
    "    Prediccion => Modelo de ML\n",
    "    Decision de Venta => Lectura del reloj y BBDD con registro de compra\n",
    "    Persistencia => A BBDD\n"
   ]
  },
  {
   "cell_type": "code",
   "execution_count": null,
   "id": "af46b1cb",
   "metadata": {},
   "outputs": [],
   "source": []
  },
  {
   "cell_type": "code",
   "execution_count": null,
   "id": "69280618",
   "metadata": {},
   "outputs": [],
   "source": []
  },
  {
   "cell_type": "code",
   "execution_count": null,
   "id": "2b62cc8a",
   "metadata": {},
   "outputs": [],
   "source": []
  },
  {
   "cell_type": "markdown",
   "id": "951050bb",
   "metadata": {},
   "source": [
    "# Funciones Previas"
   ]
  },
  {
   "cell_type": "markdown",
   "id": "1d2dac29",
   "metadata": {},
   "source": [
    "## Importamos todas las lisbrerias y claves"
   ]
  },
  {
   "cell_type": "code",
   "execution_count": 2,
   "id": "4071460e",
   "metadata": {},
   "outputs": [],
   "source": [
    "from iol_user_ullua import *\n",
    "\n",
    "iol_user = USER\n",
    "iol_password = PASS"
   ]
  },
  {
   "cell_type": "code",
   "execution_count": 3,
   "id": "0c581543",
   "metadata": {},
   "outputs": [],
   "source": [
    "import datetime, requests, time\n",
    "import pandas as pd\n",
    "import numpy as np\n",
    "from IPython.display import clear_output\n",
    "import pickle"
   ]
  },
  {
   "cell_type": "code",
   "execution_count": 4,
   "id": "92b50eeb",
   "metadata": {},
   "outputs": [],
   "source": [
    "from sqlalchemy import create_engine"
   ]
  },
  {
   "cell_type": "markdown",
   "id": "1f334243",
   "metadata": {},
   "source": [
    "## Funciones ML y Data USA"
   ]
  },
  {
   "cell_type": "code",
   "execution_count": 5,
   "id": "47eb312c",
   "metadata": {},
   "outputs": [],
   "source": [
    "def traerModelo(tipo='RF'):\n",
    "    if tipo=='RF':\n",
    "        with open('bot_rf.dat', 'rb') as file:\n",
    "            modelo = pickle.load(file)\n",
    "    else: \n",
    "        modelo = None\n",
    "\n",
    "    return modelo"
   ]
  },
  {
   "cell_type": "code",
   "execution_count": 6,
   "id": "8f92e520",
   "metadata": {},
   "outputs": [],
   "source": [
    "def downloadTiingo(symbol, _from, _to, interval='1min'):\n",
    "    #clear_output(wait=True)\n",
    "    try:\n",
    "        TOKEN = '3e63d74be68b49e14fb4c161c378b6250ad8d5c3'\n",
    "        url = f'https://api.tiingo.com/iex/{symbol}/prices'\n",
    "        headers = {'Content-Type': 'application/json'}\n",
    "        params = {'startDate':_from, 'endDate':_to, 'resampleFreq':interval, 'token':TOKEN }\n",
    "        r = requests.get(url, params=params, headers=headers)\n",
    "        df = pd.DataFrame(r.json()).set_index('date')\n",
    "        #print('Datos recabados ok hasta el: ', _to)\n",
    "        return df\n",
    "    except:\n",
    "        print(f'No se pudo descargar desde Tiingo data de {symbol}')\n",
    "        return None"
   ]
  },
  {
   "cell_type": "code",
   "execution_count": 7,
   "id": "922281ea",
   "metadata": {},
   "outputs": [],
   "source": [
    "def generarIndicadores(data):\n",
    "    try:\n",
    "        df = (data['close']+data['open']+data['high']+data['low'])/4\n",
    "        cruces = [(2,20),(2,40),(2,60),(2,100),(2,200),(5,20),(5,50),(5,100),(5,200),(5,400),(10,20),(10,50),(10,100),\n",
    "                 (10,200),(10,500),(20,50),(20,100),(20,200),(20,500),(20,1000),(50,100),(50,200),(50,500),(50,1000),\n",
    "                 (100,200),(100,400),(100,500),(100,1000),(200,500),(200,1000),(400,1000)]\n",
    "\n",
    "        df = df.to_frame().apply(pd.to_numeric)\n",
    "        df.columns = ['px']\n",
    "        for cruce in cruces:\n",
    "            clave = str(cruce[0]) + '_' + str(cruce[1])\n",
    "            df[clave] = (df.px.rolling(cruce[0]).mean() / df.px.rolling(cruce[1]).mean() -1)*100\n",
    "\n",
    "        pd.options.display.max_columns=15\n",
    "        df['fw_20'] = (df.px.shift(-20) / df.px -1)*100\n",
    "\n",
    "        # df = df.dropna().round(4)\n",
    "        return df\n",
    "    except:\n",
    "        print('No se pudieron generar indicadores')\n",
    "        return None"
   ]
  },
  {
   "cell_type": "code",
   "execution_count": 8,
   "id": "ccf6f46b",
   "metadata": {},
   "outputs": [],
   "source": [
    "def traerData(symbol, days=5, interval='1min'):\n",
    "    try:\n",
    "        hasta = datetime.datetime.now()\n",
    "        desde = hasta - datetime.timedelta(days=days)\n",
    "        data = downloadTiingo(symbol, desde, hasta, interval=interval)\n",
    "        return data\n",
    "    except:\n",
    "        print(f'No se pudo traer la data de {symbol} de los ultimos {days} dias')\n",
    "        return None"
   ]
  },
  {
   "cell_type": "code",
   "execution_count": 9,
   "id": "880b767e",
   "metadata": {},
   "outputs": [],
   "source": [
    "def predecir(data, modelo):\n",
    "    try:\n",
    "        actual = generarIndicadores(data).iloc[-1,1:-1]\n",
    "        y_pred = modelo.predict((actual,))[0]\n",
    "        y_proba = modelo.predict_proba((actual,))[0]\n",
    "        return y_pred, y_proba\n",
    "    except:\n",
    "        print('No se pudo predecir')\n",
    "        return None, None"
   ]
  },
  {
   "cell_type": "markdown",
   "id": "363a8065",
   "metadata": {},
   "source": [
    "## Funciones de Ruteo"
   ]
  },
  {
   "cell_type": "code",
   "execution_count": 10,
   "id": "b7de3136",
   "metadata": {},
   "outputs": [],
   "source": [
    "def pedirToken():\n",
    "    url = 'https://api.invertironline.com/token'\n",
    "    data = {\"username\" : iol_user, \"password\": iol_password, \"grant_type\":\"password\"}\n",
    "    tk  = requests.post(url = url, data = data).json()\n",
    "    return tk"
   ]
  },
  {
   "cell_type": "code",
   "execution_count": 11,
   "id": "3815cb5e",
   "metadata": {},
   "outputs": [],
   "source": [
    "def actualizarToken():\n",
    "    global tk\n",
    "    exp = datetime.datetime.strptime(tk['.expires'],'%a, %d %b %Y %H:%M:%S GMT')\n",
    "    ahora = datetime.datetime.utcnow()\n",
    "    tiempo = exp-ahora\n",
    "\n",
    "    if tiempo.days != 0:\n",
    "        print('Actualizando Token')\n",
    "        tk = pedirToken()\n",
    "\n",
    "    #print('Token actualizado')"
   ]
  },
  {
   "cell_type": "code",
   "execution_count": 12,
   "id": "0f3c58f0",
   "metadata": {},
   "outputs": [],
   "source": [
    "def precioIOL(mercado, ticker):    \n",
    "    actualizarToken() \n",
    "    url_base= 'https://api.invertironline.com/api/v2/'\n",
    "    endpoint = mercado+'/Titulos/'+ticker+'/Cotizacion'\n",
    "    url = url_base + endpoint\n",
    "    headers = {\"Authorization\" : \"Bearer \"+ tk['access_token']}\n",
    "    data = requests.get(url = url, headers = headers)\n",
    "    \n",
    "    try:\n",
    "        data = data.json()\n",
    "    except:\n",
    "        print(f'No se pudo traer precio de {ticker} mercado {mercado}')\n",
    "    return data"
   ]
  },
  {
   "cell_type": "code",
   "execution_count": 13,
   "id": "bdb5e141",
   "metadata": {},
   "outputs": [],
   "source": [
    "def comprar(ticker, q, precio, plazo ):\n",
    "    actualizarToken()     \n",
    "    vigencia = datetime.datetime.now() + datetime.timedelta(days=1)\n",
    "    vigencia_str =datetime.datetime.strftime(vigencia, '%Y-%m-%d')\n",
    "    params = {\n",
    "      \"mercado\": \"bCBA\",\n",
    "      \"simbolo\": ticker,\n",
    "      \"cantidad\": q,\n",
    "      \"precio\": precio,\n",
    "      \"plazo\": plazo,\n",
    "      \"validez\": vigencia_str\n",
    "    }\n",
    "    url_base= 'https://api.invertironline.com/api/v2/'\n",
    "    endpoint = 'operar/comprar/'\n",
    "    url = url_base + endpoint\n",
    "    headers = {\"Authorization\" : \"Bearer \"+ tk['access_token']}    \n",
    "    data = requests.post(url = url, headers = headers, json = params).json()\n",
    "    return data"
   ]
  },
  {
   "cell_type": "code",
   "execution_count": 14,
   "id": "942ddd98",
   "metadata": {},
   "outputs": [],
   "source": [
    "def vender(ticker, q, precio, plazo ):\n",
    "    actualizarToken()     \n",
    "    vigencia = datetime.datetime.now() + datetime.timedelta(days=1)\n",
    "    vigencia_str = datetime.datetime.strftime(vigencia, '%Y-%m-%d')\n",
    "    params = {\n",
    "      \"mercado\": \"bCBA\",\n",
    "      \"simbolo\": ticker,\n",
    "      \"cantidad\": q,\n",
    "      \"precio\": precio,\n",
    "      \"plazo\": plazo,\n",
    "      \"validez\": vigencia_str\n",
    "    }\n",
    "    url_base= 'https://api.invertironline.com/api/v2/'\n",
    "    endpoint = 'operar/vender/'\n",
    "    url = url_base + endpoint\n",
    "    headers = {\"Authorization\" : \"Bearer \"+ tk['access_token']}    \n",
    "    data = requests.post(url = url, headers = headers, json = params).json()\n",
    "    return data"
   ]
  },
  {
   "cell_type": "code",
   "execution_count": 15,
   "id": "01f34d25",
   "metadata": {},
   "outputs": [],
   "source": [
    "def compraAgresiva(symbol):\n",
    "    data = precioIOL('bcba',symbol)\n",
    "    try:\n",
    "        punta_bid = data['puntas'][0]['precioCompra']\n",
    "        punta_ask = data['puntas'][0]['precioVenta']\n",
    "        id_compra = comprar(ticker=symbol, q=1, precio = punta_ask, plazo='t2')\n",
    "        id_iol, px = id_compra['numeroOperacion'], punta_ask\n",
    "    except:\n",
    "        id_iol, px = None, None\n",
    "        print('No se pudo enviar Orden de Compra')\n",
    "        \n",
    "    return id_iol, px\n",
    "\n",
    "def ventaAgresiva(symbol):\n",
    "    data = precioIOL('bcba',symbol)\n",
    "    try:\n",
    "        punta_bid = data['puntas'][0]['precioCompra']\n",
    "        punta_ask = data['puntas'][0]['precioVenta']\n",
    "        id_venta = vender(ticker=symbol, q=1, precio = punta_bid, plazo='t2')\n",
    "        id_iol, px = id_venta['numeroOperacion'], punta_bid\n",
    "    except:\n",
    "        id_iol, px = None, None\n",
    "        print('No se pudo enviar Orden de Venta')\n",
    "        \n",
    "    return id_iol, px"
   ]
  },
  {
   "cell_type": "markdown",
   "id": "894cb837",
   "metadata": {},
   "source": [
    "## Funciones estado sin BBDD (API)"
   ]
  },
  {
   "cell_type": "code",
   "execution_count": 16,
   "id": "074b95b6",
   "metadata": {},
   "outputs": [],
   "source": [
    "def portafolio(pais):\n",
    "    actualizarToken()     \n",
    "    url_base= 'https://api.invertironline.com/api/v2/'\n",
    "    endpoint = 'portafolio/'+pais\n",
    "    url = url_base + endpoint\n",
    "    headers = {\"Authorization\" : \"Bearer \"+ tk['access_token']}\n",
    "    data = requests.get(url = url, headers = headers).json()    \n",
    "    return(data['activos'])"
   ]
  },
  {
   "cell_type": "code",
   "execution_count": 17,
   "id": "f318e600",
   "metadata": {},
   "outputs": [],
   "source": [
    "def consultarTenencia(symbol):\n",
    "    port = portafolio('Argentina')\n",
    "    encontrados = sum([x['cantidad'] for x in port if x['titulo']['simbolo']==symbol])\n",
    "    tenencia = True if encontrados > 0 else False\n",
    "    return tenencia"
   ]
  },
  {
   "cell_type": "code",
   "execution_count": null,
   "id": "eee65116",
   "metadata": {},
   "outputs": [],
   "source": []
  },
  {
   "cell_type": "markdown",
   "id": "c31d0d01",
   "metadata": {},
   "source": [
    "## Funciones de Base de Datos"
   ]
  },
  {
   "cell_type": "code",
   "execution_count": 18,
   "id": "cacfd4f1",
   "metadata": {},
   "outputs": [],
   "source": [
    "def conectarBBDD():\n",
    "    sqlite_engine = create_engine('sqlite:///bot.db', echo=False)\n",
    "    conn = sqlite_engine.connect()\n",
    "    crear_tabla_trades = '''CREATE TABLE IF NOT EXISTS trades (\n",
    "        id INTEGER PRIMARY KEY AUTOINCREMENT,\n",
    "        ticker TEXT NOT NULL,\n",
    "        px REAL NOT NULL,\n",
    "        q INTEGER NOT NULL,\n",
    "        hora_decimal REAL NOT NULL,\n",
    "        tipo TEXT,\n",
    "        id_iol TEXT\n",
    "    );'''\n",
    "\n",
    "    crear_tabla_predicciones = '''CREATE TABLE IF NOT EXISTS predicciones (\n",
    "        id INTEGER PRIMARY KEY AUTOINCREMENT,\n",
    "        ticker TEXT NOT NULL,\n",
    "        proba_suba REAL NOT NULL,\n",
    "        created_at datetime default current_timestamp\n",
    "    );'''\n",
    "\n",
    "    conn.execute(crear_tabla_trades)\n",
    "    conn.execute(crear_tabla_predicciones)\n",
    "    return conn"
   ]
  },
  {
   "cell_type": "code",
   "execution_count": 19,
   "id": "2815be5f",
   "metadata": {},
   "outputs": [],
   "source": [
    "def addTrade(symbol, px, q, hora_decimal, tipo, id_iol):\n",
    "    if id_iol:\n",
    "        insertar = f'INSERT INTO trades VALUES(null, \"{symbol}\", {px}, {q}, {hora_decimal}, \"{tipo}\", \"{id_iol}\")'\n",
    "    else:\n",
    "        insertar = f'INSERT INTO trades VALUES(null, \"{symbol}\", {px}, {q}, {hora_decimal}, \"{tipo}\", null)'\n",
    "        # Aca hay que hacer algo un poco mas serio\n",
    "            #¿Pregunto al broker la tenencia?\n",
    "            #¿Espero y vuelvo a preguntar?\n",
    "            #¿Cierro todo?\n",
    "        \n",
    "    conn.execute(insertar)\n",
    "    \n",
    "def getLastTrade(symbol):\n",
    "    ultimo_trade = f'SELECT * FROM trades WHERE ticker=\"{symbol}\" ORDER BY id DESC LIMIT 1'\n",
    "    trade = conn.execute(ultimo_trade).fetchone()\n",
    "    return trade"
   ]
  },
  {
   "cell_type": "code",
   "execution_count": 20,
   "id": "6b034889",
   "metadata": {},
   "outputs": [],
   "source": [
    "def consultarTenenciaBBDD(symbol):\n",
    "    trade = getLastTrade(symbol)\n",
    "    tenencia = False\n",
    "    if (trade):\n",
    "        if trade[5] == 'Compra':\n",
    "            tenencia = True\n",
    "            \n",
    "    return tenencia"
   ]
  },
  {
   "cell_type": "code",
   "execution_count": 21,
   "id": "2756dbc4",
   "metadata": {},
   "outputs": [],
   "source": [
    "def addPredict(symbol, proba_suba):\n",
    "    insertar = f'INSERT INTO predicciones VALUES(null, \"{symbol}\", {proba_suba} , datetime(\"now\",\"localtime\"))'\n",
    "    conn.execute(insertar)"
   ]
  },
  {
   "cell_type": "code",
   "execution_count": null,
   "id": "e54e0ca9",
   "metadata": {},
   "outputs": [],
   "source": []
  },
  {
   "cell_type": "markdown",
   "id": "1298b30f",
   "metadata": {},
   "source": [
    "# BOT"
   ]
  },
  {
   "cell_type": "markdown",
   "id": "d08ed33b",
   "metadata": {},
   "source": [
    "## Funcion principal"
   ]
  },
  {
   "cell_type": "code",
   "execution_count": null,
   "id": "0df9345e",
   "metadata": {},
   "outputs": [],
   "source": []
  },
  {
   "cell_type": "code",
   "execution_count": 22,
   "id": "d5c4bb8c",
   "metadata": {},
   "outputs": [],
   "source": [
    "def monitorearDerrapes():\n",
    "    vix = getVIX()\n",
    "    \n",
    "    salida = False\n",
    "    if vix > 50:\n",
    "        salida = True\n",
    "    \n",
    "    return salida\n"
   ]
  },
  {
   "cell_type": "code",
   "execution_count": 23,
   "id": "6ea9cf80",
   "metadata": {},
   "outputs": [],
   "source": [
    "def ejecutar(modeloCompra):\n",
    "    ahora = datetime.datetime.now()\n",
    "    hora_decimal = round(ahora.hour + ahora.minute/60 + ahora.second/3600 + ahora.microsecond/(3.6*10**9) ,5)\n",
    "    tenencia = consultarTenenciaBBDD('GGAL')\n",
    "    \n",
    "    if tenencia:\n",
    "        # Si, estoy comprado\n",
    "        hora_compra = getLastTrade('GGAL')[4]\n",
    "        tiempo_tenencia = hora_decimal - hora_compra\n",
    "        \n",
    "        if tiempo_tenencia > 20/60:\n",
    "            id_venta, px = ventaAgresiva('GGAL')\n",
    "            addTrade('GGAL', px, 1, hora_decimal, 'Venta', id_venta)\n",
    "            print(f'Vendido GGAL a {px} hora {hora_decimal}')\n",
    "            time.sleep(60)            \n",
    "        else:\n",
    "            print(f'Esperando para vender a las {hora_compra+20/60} son las {hora_decimal}')\n",
    "            time.sleep(60)\n",
    "    \n",
    "    else:\n",
    "        # No estoy comprado\n",
    "        data = traerData('GGAL')\n",
    "        prediccion = predecir(data, modeloCompra)\n",
    "        addPredict('GGAL', prediccion[1][1])\n",
    "        if prediccion[0] == 1:\n",
    "            id_compra, px = compraAgresiva('GGAL')\n",
    "            addTrade('GGAL', px, 1, hora_decimal, 'Compra', id_compra)\n",
    "            print(f'Comprado GGAL a {px} hora {hora_decimal}')\n",
    "            time.sleep(60)\n",
    "        else:\n",
    "            print(f'Proba actual suba: {prediccion[1][1]:.2%} Esperando comprar, a las {hora_decimal}')\n",
    "            time.sleep(60)     \n"
   ]
  },
  {
   "cell_type": "code",
   "execution_count": null,
   "id": "fcf88029",
   "metadata": {},
   "outputs": [],
   "source": []
  },
  {
   "cell_type": "markdown",
   "id": "114bd380",
   "metadata": {},
   "source": [
    "## Pruebo Funciones por separado"
   ]
  },
  {
   "cell_type": "code",
   "execution_count": 33,
   "id": "b44b6d21",
   "metadata": {},
   "outputs": [
    {
     "data": {
      "text/plain": [
       "RandomForestClassifier(criterion='entropy', max_depth=15)"
      ]
     },
     "execution_count": 33,
     "metadata": {},
     "output_type": "execute_result"
    }
   ],
   "source": [
    "modeloCompra = traerModelo('RF')\n",
    "modeloCompra"
   ]
  },
  {
   "cell_type": "code",
   "execution_count": 34,
   "id": "b0fed700",
   "metadata": {},
   "outputs": [
    {
     "data": {
      "text/html": [
       "<div>\n",
       "<style scoped>\n",
       "    .dataframe tbody tr th:only-of-type {\n",
       "        vertical-align: middle;\n",
       "    }\n",
       "\n",
       "    .dataframe tbody tr th {\n",
       "        vertical-align: top;\n",
       "    }\n",
       "\n",
       "    .dataframe thead th {\n",
       "        text-align: right;\n",
       "    }\n",
       "</style>\n",
       "<table border=\"1\" class=\"dataframe\">\n",
       "  <thead>\n",
       "    <tr style=\"text-align: right;\">\n",
       "      <th></th>\n",
       "      <th>close</th>\n",
       "      <th>high</th>\n",
       "      <th>low</th>\n",
       "      <th>open</th>\n",
       "    </tr>\n",
       "    <tr>\n",
       "      <th>date</th>\n",
       "      <th></th>\n",
       "      <th></th>\n",
       "      <th></th>\n",
       "      <th></th>\n",
       "    </tr>\n",
       "  </thead>\n",
       "  <tbody>\n",
       "    <tr>\n",
       "      <th>2021-07-12T13:30:00.000Z</th>\n",
       "      <td>8.230</td>\n",
       "      <td>8.230</td>\n",
       "      <td>8.230</td>\n",
       "      <td>8.230</td>\n",
       "    </tr>\n",
       "    <tr>\n",
       "      <th>2021-07-12T13:31:00.000Z</th>\n",
       "      <td>8.230</td>\n",
       "      <td>8.230</td>\n",
       "      <td>8.230</td>\n",
       "      <td>8.230</td>\n",
       "    </tr>\n",
       "    <tr>\n",
       "      <th>2021-07-12T13:32:00.000Z</th>\n",
       "      <td>8.230</td>\n",
       "      <td>8.230</td>\n",
       "      <td>8.230</td>\n",
       "      <td>8.230</td>\n",
       "    </tr>\n",
       "    <tr>\n",
       "      <th>2021-07-12T13:33:00.000Z</th>\n",
       "      <td>8.200</td>\n",
       "      <td>8.200</td>\n",
       "      <td>8.200</td>\n",
       "      <td>8.200</td>\n",
       "    </tr>\n",
       "    <tr>\n",
       "      <th>2021-07-12T13:34:00.000Z</th>\n",
       "      <td>8.200</td>\n",
       "      <td>8.200</td>\n",
       "      <td>8.200</td>\n",
       "      <td>8.200</td>\n",
       "    </tr>\n",
       "    <tr>\n",
       "      <th>...</th>\n",
       "      <td>...</td>\n",
       "      <td>...</td>\n",
       "      <td>...</td>\n",
       "      <td>...</td>\n",
       "    </tr>\n",
       "    <tr>\n",
       "      <th>2021-07-14T19:55:00.000Z</th>\n",
       "      <td>8.540</td>\n",
       "      <td>8.540</td>\n",
       "      <td>8.535</td>\n",
       "      <td>8.535</td>\n",
       "    </tr>\n",
       "    <tr>\n",
       "      <th>2021-07-14T19:56:00.000Z</th>\n",
       "      <td>8.550</td>\n",
       "      <td>8.555</td>\n",
       "      <td>8.540</td>\n",
       "      <td>8.545</td>\n",
       "    </tr>\n",
       "    <tr>\n",
       "      <th>2021-07-14T19:57:00.000Z</th>\n",
       "      <td>8.555</td>\n",
       "      <td>8.555</td>\n",
       "      <td>8.555</td>\n",
       "      <td>8.555</td>\n",
       "    </tr>\n",
       "    <tr>\n",
       "      <th>2021-07-14T19:58:00.000Z</th>\n",
       "      <td>8.555</td>\n",
       "      <td>8.555</td>\n",
       "      <td>8.555</td>\n",
       "      <td>8.555</td>\n",
       "    </tr>\n",
       "    <tr>\n",
       "      <th>2021-07-14T19:59:00.000Z</th>\n",
       "      <td>8.550</td>\n",
       "      <td>8.550</td>\n",
       "      <td>8.545</td>\n",
       "      <td>8.545</td>\n",
       "    </tr>\n",
       "  </tbody>\n",
       "</table>\n",
       "<p>1172 rows × 4 columns</p>\n",
       "</div>"
      ],
      "text/plain": [
       "                          close   high    low   open\n",
       "date                                                \n",
       "2021-07-12T13:30:00.000Z  8.230  8.230  8.230  8.230\n",
       "2021-07-12T13:31:00.000Z  8.230  8.230  8.230  8.230\n",
       "2021-07-12T13:32:00.000Z  8.230  8.230  8.230  8.230\n",
       "2021-07-12T13:33:00.000Z  8.200  8.200  8.200  8.200\n",
       "2021-07-12T13:34:00.000Z  8.200  8.200  8.200  8.200\n",
       "...                         ...    ...    ...    ...\n",
       "2021-07-14T19:55:00.000Z  8.540  8.540  8.535  8.535\n",
       "2021-07-14T19:56:00.000Z  8.550  8.555  8.540  8.545\n",
       "2021-07-14T19:57:00.000Z  8.555  8.555  8.555  8.555\n",
       "2021-07-14T19:58:00.000Z  8.555  8.555  8.555  8.555\n",
       "2021-07-14T19:59:00.000Z  8.550  8.550  8.545  8.545\n",
       "\n",
       "[1172 rows x 4 columns]"
      ]
     },
     "execution_count": 34,
     "metadata": {},
     "output_type": "execute_result"
    }
   ],
   "source": [
    "data = traerData('GGAL')\n",
    "data"
   ]
  },
  {
   "cell_type": "code",
   "execution_count": 36,
   "id": "da6be7da",
   "metadata": {},
   "outputs": [
    {
     "data": {
      "text/plain": [
       "(0, array([0.58013069, 0.41986931]))"
      ]
     },
     "execution_count": 36,
     "metadata": {},
     "output_type": "execute_result"
    }
   ],
   "source": [
    "modeloCompra = traerModelo('RF')\n"
   ]
  },
  {
   "cell_type": "code",
   "execution_count": 41,
   "id": "1dc418f2",
   "metadata": {},
   "outputs": [
    {
     "name": "stdout",
     "output_type": "stream",
     "text": [
      "1.01 s ± 7.82 ms per loop (mean ± std. dev. of 7 runs, 1 loop each)\n"
     ]
    }
   ],
   "source": [
    "%%timeit\n",
    "data = traerData('GGAL')"
   ]
  },
  {
   "cell_type": "code",
   "execution_count": 43,
   "id": "4f2f580e",
   "metadata": {},
   "outputs": [
    {
     "name": "stdout",
     "output_type": "stream",
     "text": [
      "63.7 ms ± 4.31 ms per loop (mean ± std. dev. of 7 runs, 10 loops each)\n"
     ]
    }
   ],
   "source": [
    "%%timeit\n",
    "prediccion = predecir(data, modeloCompra)"
   ]
  },
  {
   "cell_type": "code",
   "execution_count": null,
   "id": "a2106a00",
   "metadata": {},
   "outputs": [],
   "source": []
  },
  {
   "cell_type": "code",
   "execution_count": 37,
   "id": "c3a229b1",
   "metadata": {},
   "outputs": [
    {
     "data": {
      "text/plain": [
       "False"
      ]
     },
     "execution_count": 37,
     "metadata": {},
     "output_type": "execute_result"
    }
   ],
   "source": [
    "conn = conectarBBDD()\n",
    "consultarTenenciaBBDD('GGAL')"
   ]
  },
  {
   "cell_type": "code",
   "execution_count": null,
   "id": "f535b2c4",
   "metadata": {},
   "outputs": [],
   "source": []
  },
  {
   "cell_type": "markdown",
   "id": "a3b9d48c",
   "metadata": {},
   "source": [
    "## Deamon: el demonio"
   ]
  },
  {
   "cell_type": "code",
   "execution_count": 38,
   "id": "532b42d2",
   "metadata": {},
   "outputs": [
    {
     "name": "stdout",
     "output_type": "stream",
     "text": [
      "Esperando a las 23.55, Son las: 21.78583\n"
     ]
    },
    {
     "ename": "KeyboardInterrupt",
     "evalue": "",
     "output_type": "error",
     "traceback": [
      "\u001b[1;31m---------------------------------------------------------------------------\u001b[0m",
      "\u001b[1;31mKeyboardInterrupt\u001b[0m                         Traceback (most recent call last)",
      "\u001b[1;32m<ipython-input-38-bd9af593526a>\u001b[0m in \u001b[0;36m<module>\u001b[1;34m\u001b[0m\n\u001b[0;32m     13\u001b[0m         \u001b[0mclear_output\u001b[0m\u001b[1;33m(\u001b[0m\u001b[0mwait\u001b[0m\u001b[1;33m=\u001b[0m\u001b[1;32mTrue\u001b[0m\u001b[1;33m)\u001b[0m\u001b[1;33m\u001b[0m\u001b[1;33m\u001b[0m\u001b[0m\n\u001b[0;32m     14\u001b[0m         \u001b[0mprint\u001b[0m\u001b[1;33m(\u001b[0m\u001b[1;34mf'Esperando a las {HORA_INICIO_BOT}, Son las:'\u001b[0m\u001b[1;33m,\u001b[0m\u001b[0mhora_decimal\u001b[0m\u001b[1;33m)\u001b[0m\u001b[1;33m\u001b[0m\u001b[1;33m\u001b[0m\u001b[0m\n\u001b[1;32m---> 15\u001b[1;33m         \u001b[0mtime\u001b[0m\u001b[1;33m.\u001b[0m\u001b[0msleep\u001b[0m\u001b[1;33m(\u001b[0m\u001b[1;36m1\u001b[0m\u001b[1;33m)\u001b[0m\u001b[1;33m\u001b[0m\u001b[1;33m\u001b[0m\u001b[0m\n\u001b[0m\u001b[0;32m     16\u001b[0m         \u001b[1;31m# Aca puede ejecutar tareas de preparacion de rueda\u001b[0m\u001b[1;33m\u001b[0m\u001b[1;33m\u001b[0m\u001b[1;33m\u001b[0m\u001b[0m\n\u001b[0;32m     17\u001b[0m \u001b[1;33m\u001b[0m\u001b[0m\n",
      "\u001b[1;31mKeyboardInterrupt\u001b[0m: "
     ]
    }
   ],
   "source": [
    "HORA_INICIO_BOT = 23.55\n",
    "HORA_FIN_BOT = 23.56\n",
    "\n",
    "tk = pedirToken()\n",
    "modeloCompra = traerModelo('RF')\n",
    "conn = conectarBBDD()\n",
    "\n",
    "while True:\n",
    "    ahora = datetime.datetime.now()\n",
    "    hora_decimal = round(ahora.hour + ahora.minute/60 + ahora.second/3600,5)\n",
    "    \n",
    "    if hora_decimal < HORA_INICIO_BOT:\n",
    "        clear_output(wait=True)\n",
    "        print(f'Esperando a las {HORA_INICIO_BOT}, Son las:',hora_decimal)\n",
    "        time.sleep(1)\n",
    "        # Aca puede ejecutar tareas de preparacion de rueda\n",
    "        \n",
    "    else:\n",
    "        if hora_decimal < HORA_FIN_BOT:\n",
    "            #if monitorearDerrapes() ==True:\n",
    "            #    break\n",
    "            ejecutar(modeloCompra)\n",
    "            \n",
    "        else:\n",
    "            clear_output(wait=True)\n",
    "            print(f'Son las {hora_decimal}, fin de horario de operaciones: {HORA_FIN_BOT}')\n",
    "\n",
    "            # Aca puede ejecutar tareas de finalizacion del dia\n",
    "            break\n"
   ]
  },
  {
   "cell_type": "code",
   "execution_count": null,
   "id": "b3660e6f",
   "metadata": {},
   "outputs": [],
   "source": []
  },
  {
   "cell_type": "markdown",
   "id": "0213e5a2",
   "metadata": {},
   "source": [
    "Potenciales mejoras al BOT-1\n",
    "\n",
    "* Modelo predictivo de Compra:\n",
    "    * Mas datos\n",
    "    * Mejores indicadores\n",
    "    * Metodo de Clusterizacion para encontrar acciones similares\n",
    "    \n",
    "* Modelo de decision:\n",
    "    * Compra:\n",
    "        * Mas de una prediccion\n",
    "        * Decision en funcion de algo de mi cartera\n",
    "    \n",
    "    * Venta:\n",
    "        * Por SL\n",
    "        * Por TP\n",
    "        * Timeout (*)\n",
    "        * Modelos predictivos (pueden ser los mismos que en la compra)\n",
    "\n",
    "\n",
    "* Monitores o dashboard del bot\n",
    "* Screener de acciones como potenciales a tradear\n",
    "* Asignacion de capital del Bot\n",
    "\n",
    "* Monitoreo y breaks en caso de emergencias\n"
   ]
  },
  {
   "cell_type": "code",
   "execution_count": null,
   "id": "4e4c46ff",
   "metadata": {},
   "outputs": [],
   "source": []
  },
  {
   "cell_type": "code",
   "execution_count": null,
   "id": "ab32fb91",
   "metadata": {},
   "outputs": [],
   "source": []
  },
  {
   "cell_type": "code",
   "execution_count": null,
   "id": "37ca8dca",
   "metadata": {},
   "outputs": [],
   "source": []
  },
  {
   "cell_type": "code",
   "execution_count": null,
   "id": "4e5473e7",
   "metadata": {},
   "outputs": [],
   "source": []
  },
  {
   "cell_type": "code",
   "execution_count": null,
   "id": "124b881c",
   "metadata": {},
   "outputs": [],
   "source": []
  }
 ],
 "metadata": {
  "kernelspec": {
   "display_name": "Python 3",
   "language": "python",
   "name": "python3"
  },
  "language_info": {
   "codemirror_mode": {
    "name": "ipython",
    "version": 3
   },
   "file_extension": ".py",
   "mimetype": "text/x-python",
   "name": "python",
   "nbconvert_exporter": "python",
   "pygments_lexer": "ipython3",
   "version": "3.8.5"
  },
  "toc": {
   "base_numbering": 1,
   "nav_menu": {},
   "number_sections": true,
   "sideBar": true,
   "skip_h1_title": false,
   "title_cell": "Table of Contents",
   "title_sidebar": "Contents",
   "toc_cell": false,
   "toc_position": {},
   "toc_section_display": true,
   "toc_window_display": true
  }
 },
 "nbformat": 4,
 "nbformat_minor": 5
}
