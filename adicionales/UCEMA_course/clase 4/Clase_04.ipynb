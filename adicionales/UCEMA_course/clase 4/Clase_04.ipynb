{
 "cells": [
  {
   "cell_type": "markdown",
   "metadata": {},
   "source": [
    "# Diccionarios"
   ]
  },
  {
   "cell_type": "markdown",
   "metadata": {},
   "source": [
    "Un diccionario es una estructura Clave=>Valor\n",
    "<br>Por ejemplo en lugar de tener un listado de las notas de mis alumnos, podria tener un diccionario con la nota asignada al nombre de cada uno"
   ]
  },
  {
   "cell_type": "markdown",
   "metadata": {},
   "source": [
    "## Estruuctura del diccionario\n",
    "\n",
    "* Abre con: {\n",
    "* Cierra con: }\n",
    "* Los elementos se separan con comas\n",
    "* Los elementos del diccionario tienen clave y valor\n",
    "* La clave se escribe entre comillas preferentemente\n",
    "* EL valor se escribe entre comillas solo si es un string\n",
    "* Entre clave y valor va un \":\" "
   ]
  },
  {
   "cell_type": "code",
   "execution_count": 1,
   "metadata": {
    "scrolled": true
   },
   "outputs": [
    {
     "data": {
      "text/plain": [
       "dict"
      ]
     },
     "execution_count": 1,
     "metadata": {},
     "output_type": "execute_result"
    }
   ],
   "source": [
    "diccionario = {\"ALUA\":29.35 , \"BBAR\":120.85 , \"BMA\":265.2 , \"BYMA\":[290,299]}\n",
    "type(diccionario)"
   ]
  },
  {
   "cell_type": "code",
   "execution_count": 2,
   "metadata": {},
   "outputs": [
    {
     "name": "stdout",
     "output_type": "stream",
     "text": [
      "{'ALUA': 29.35, 'BBAR': 120.85, 'BMA': 265.2, 'BYMA': [290, 299]}\n"
     ]
    }
   ],
   "source": [
    "print(diccionario)"
   ]
  },
  {
   "cell_type": "code",
   "execution_count": 3,
   "metadata": {},
   "outputs": [
    {
     "ename": "KeyError",
     "evalue": "'AAPL'",
     "output_type": "error",
     "traceback": [
      "\u001b[1;31m---------------------------------------------------------------------------\u001b[0m",
      "\u001b[1;31mKeyError\u001b[0m                                  Traceback (most recent call last)",
      "\u001b[1;32m<ipython-input-3-f811d718ce9c>\u001b[0m in \u001b[0;36m<module>\u001b[1;34m\u001b[0m\n\u001b[1;32m----> 1\u001b[1;33m \u001b[0mdiccionario\u001b[0m\u001b[1;33m[\u001b[0m\u001b[1;34m'AAPL'\u001b[0m\u001b[1;33m]\u001b[0m\u001b[1;33m\u001b[0m\u001b[1;33m\u001b[0m\u001b[0m\n\u001b[0m",
      "\u001b[1;31mKeyError\u001b[0m: 'AAPL'"
     ]
    }
   ],
   "source": [
    "diccionario['AAPL']"
   ]
  },
  {
   "cell_type": "markdown",
   "metadata": {},
   "source": [
    "## El método get()"
   ]
  },
  {
   "cell_type": "markdown",
   "metadata": {},
   "source": [
    "<br>\n",
    "Dos Formas de Acceder a los valores de una clave de un diccionario"
   ]
  },
  {
   "cell_type": "code",
   "execution_count": 4,
   "metadata": {},
   "outputs": [
    {
     "data": {
      "text/plain": [
       "120.85"
      ]
     },
     "execution_count": 4,
     "metadata": {},
     "output_type": "execute_result"
    }
   ],
   "source": [
    "diccionario['BBAR']"
   ]
  },
  {
   "cell_type": "code",
   "execution_count": 5,
   "metadata": {},
   "outputs": [
    {
     "data": {
      "text/plain": [
       "120.85"
      ]
     },
     "execution_count": 5,
     "metadata": {},
     "output_type": "execute_result"
    }
   ],
   "source": [
    "diccionario.get('BBAR')"
   ]
  },
  {
   "cell_type": "code",
   "execution_count": 6,
   "metadata": {},
   "outputs": [
    {
     "ename": "KeyError",
     "evalue": "'AAPL'",
     "output_type": "error",
     "traceback": [
      "\u001b[1;31m---------------------------------------------------------------------------\u001b[0m",
      "\u001b[1;31mKeyError\u001b[0m                                  Traceback (most recent call last)",
      "\u001b[1;32m<ipython-input-6-52f0b44be0cf>\u001b[0m in \u001b[0;36m<module>\u001b[1;34m\u001b[0m\n\u001b[1;32m----> 1\u001b[1;33m \u001b[0mrta\u001b[0m \u001b[1;33m=\u001b[0m \u001b[0mdiccionario\u001b[0m\u001b[1;33m[\u001b[0m\u001b[1;34m'AAPL'\u001b[0m\u001b[1;33m]\u001b[0m\u001b[1;33m\u001b[0m\u001b[1;33m\u001b[0m\u001b[0m\n\u001b[0m\u001b[0;32m      2\u001b[0m \u001b[0mprint\u001b[0m\u001b[1;33m(\u001b[0m\u001b[0mrta\u001b[0m\u001b[1;33m)\u001b[0m\u001b[1;33m\u001b[0m\u001b[1;33m\u001b[0m\u001b[0m\n",
      "\u001b[1;31mKeyError\u001b[0m: 'AAPL'"
     ]
    }
   ],
   "source": [
    "rta = diccionario['AAPL']\n",
    "print(rta)"
   ]
  },
  {
   "cell_type": "code",
   "execution_count": 7,
   "metadata": {
    "scrolled": true
   },
   "outputs": [
    {
     "name": "stdout",
     "output_type": "stream",
     "text": [
      "None\n"
     ]
    }
   ],
   "source": [
    "rta = diccionario.get('AAPL')\n",
    "print(rta)"
   ]
  },
  {
   "cell_type": "code",
   "execution_count": null,
   "metadata": {},
   "outputs": [],
   "source": []
  },
  {
   "cell_type": "code",
   "execution_count": null,
   "metadata": {},
   "outputs": [],
   "source": []
  },
  {
   "cell_type": "code",
   "execution_count": null,
   "metadata": {},
   "outputs": [],
   "source": []
  },
  {
   "cell_type": "code",
   "execution_count": null,
   "metadata": {},
   "outputs": [],
   "source": []
  },
  {
   "cell_type": "markdown",
   "metadata": {},
   "source": [
    "Supongamos que sabemos que podria no estar el ticker buscado en el diccionario\n",
    "<br>Para ello conviene usar el método get, ya que tiene un valor por default en caso que el indice buscado no se encuentre para evitar que tire error el programa, ese valor por default es <b>None</b> es decir un dato nulo pero como decía no me tira error"
   ]
  },
  {
   "cell_type": "code",
   "execution_count": 8,
   "metadata": {},
   "outputs": [
    {
     "name": "stdout",
     "output_type": "stream",
     "text": [
      "None\n"
     ]
    }
   ],
   "source": [
    "print(diccionario.get('FRAN'))"
   ]
  },
  {
   "cell_type": "markdown",
   "metadata": {},
   "source": [
    "Asimismo puedo elegir el valor por default que me devuelva en caso de no encontrar el indice en el diccionario, es el segundo argumento que no es obligatorio"
   ]
  },
  {
   "cell_type": "code",
   "execution_count": 9,
   "metadata": {},
   "outputs": [
    {
     "name": "stdout",
     "output_type": "stream",
     "text": [
      "0\n"
     ]
    }
   ],
   "source": [
    "print(diccionario.get('FRAN',0))"
   ]
  },
  {
   "cell_type": "markdown",
   "metadata": {},
   "source": [
    "## Keys(), values() e items()"
   ]
  },
  {
   "cell_type": "markdown",
   "metadata": {},
   "source": [
    "<br>\n",
    "Accedemos por separado a las Claves y Valores"
   ]
  },
  {
   "cell_type": "code",
   "execution_count": 10,
   "metadata": {},
   "outputs": [
    {
     "name": "stdout",
     "output_type": "stream",
     "text": [
      "dict_keys(['ALUA', 'BBAR', 'BMA', 'BYMA'])\n"
     ]
    }
   ],
   "source": [
    "keys = diccionario.keys()\n",
    "print(keys)"
   ]
  },
  {
   "cell_type": "code",
   "execution_count": 11,
   "metadata": {},
   "outputs": [
    {
     "name": "stdout",
     "output_type": "stream",
     "text": [
      "dict_values([29.35, 120.85, 265.2, [290, 299]])\n"
     ]
    }
   ],
   "source": [
    "values = diccionario.values()\n",
    "print(values)"
   ]
  },
  {
   "cell_type": "code",
   "execution_count": 12,
   "metadata": {
    "scrolled": true
   },
   "outputs": [
    {
     "name": "stdout",
     "output_type": "stream",
     "text": [
      "[29.35, 120.85, 265.2, [290, 299]]\n"
     ]
    }
   ],
   "source": [
    "values = list(diccionario.values())\n",
    "print(values)"
   ]
  },
  {
   "cell_type": "markdown",
   "metadata": {},
   "source": [
    "Accedemos a los pares Clave=>Valor"
   ]
  },
  {
   "cell_type": "code",
   "execution_count": 13,
   "metadata": {},
   "outputs": [
    {
     "name": "stdout",
     "output_type": "stream",
     "text": [
      "dict_items([('ALUA', 29.35), ('BBAR', 120.85), ('BMA', 265.2), ('BYMA', [290, 299])])\n"
     ]
    }
   ],
   "source": [
    "items = diccionario.items()\n",
    "print(items)"
   ]
  },
  {
   "cell_type": "code",
   "execution_count": 14,
   "metadata": {},
   "outputs": [
    {
     "name": "stdout",
     "output_type": "stream",
     "text": [
      "('ALUA', 29.35)\n"
     ]
    }
   ],
   "source": [
    "items = diccionario.items()\n",
    "print(list(items)[0])"
   ]
  },
  {
   "cell_type": "markdown",
   "metadata": {},
   "source": [
    "## Iterando un diccionario"
   ]
  },
  {
   "cell_type": "code",
   "execution_count": 15,
   "metadata": {},
   "outputs": [
    {
     "name": "stdout",
     "output_type": "stream",
     "text": [
      "ALUA\n",
      "BBAR\n",
      "BMA\n",
      "BYMA\n"
     ]
    }
   ],
   "source": [
    "for k in diccionario.keys():\n",
    "    print(k)"
   ]
  },
  {
   "cell_type": "markdown",
   "metadata": {},
   "source": [
    "## La función zip()"
   ]
  },
  {
   "cell_type": "code",
   "execution_count": 16,
   "metadata": {},
   "outputs": [
    {
     "ename": "NameError",
     "evalue": "name 'a' is not defined",
     "output_type": "error",
     "traceback": [
      "\u001b[1;31m---------------------------------------------------------------------------\u001b[0m",
      "\u001b[1;31mNameError\u001b[0m                                 Traceback (most recent call last)",
      "\u001b[1;32m<ipython-input-16-4f68773e30e6>\u001b[0m in \u001b[0;36m<module>\u001b[1;34m\u001b[0m\n\u001b[0;32m      1\u001b[0m \u001b[0mtickers\u001b[0m \u001b[1;33m=\u001b[0m \u001b[1;33m[\u001b[0m\u001b[1;34m'ALUA'\u001b[0m\u001b[1;33m,\u001b[0m\u001b[1;34m'BBAR'\u001b[0m\u001b[1;33m]\u001b[0m\u001b[1;33m\u001b[0m\u001b[1;33m\u001b[0m\u001b[0m\n\u001b[0;32m      2\u001b[0m \u001b[0mcantidades\u001b[0m \u001b[1;33m=\u001b[0m \u001b[1;33m[\u001b[0m\u001b[1;36m1\u001b[0m\u001b[1;33m,\u001b[0m\u001b[1;36m2\u001b[0m\u001b[1;33m]\u001b[0m\u001b[1;33m\u001b[0m\u001b[1;33m\u001b[0m\u001b[0m\n\u001b[1;32m----> 3\u001b[1;33m \u001b[0mdiccio\u001b[0m \u001b[1;33m=\u001b[0m \u001b[0mdict\u001b[0m\u001b[1;33m(\u001b[0m\u001b[0mzip\u001b[0m\u001b[1;33m(\u001b[0m\u001b[0ma\u001b[0m\u001b[1;33m,\u001b[0m\u001b[0mp\u001b[0m\u001b[1;33m)\u001b[0m\u001b[1;33m)\u001b[0m\u001b[1;33m\u001b[0m\u001b[1;33m\u001b[0m\u001b[0m\n\u001b[0m\u001b[0;32m      4\u001b[0m \u001b[0mdiccio\u001b[0m\u001b[1;33m\u001b[0m\u001b[1;33m\u001b[0m\u001b[0m\n",
      "\u001b[1;31mNameError\u001b[0m: name 'a' is not defined"
     ]
    }
   ],
   "source": [
    "tickers = ['ALUA','BBAR']\n",
    "cantidades = [1,2]\n",
    "diccio = dict(zip(a,p))\n",
    "diccio"
   ]
  },
  {
   "cell_type": "code",
   "execution_count": null,
   "metadata": {},
   "outputs": [],
   "source": []
  },
  {
   "cell_type": "markdown",
   "metadata": {},
   "source": [
    "## De un diccionario a algo mas copado?"
   ]
  },
  {
   "cell_type": "markdown",
   "metadata": {},
   "source": [
    "Supongamos que tenemos los montos de tenencias en cartera de esta fomra:"
   ]
  },
  {
   "cell_type": "code",
   "execution_count": 17,
   "metadata": {},
   "outputs": [],
   "source": [
    "tickers = ['TSLA','AMZN','GOOGL','TLT','SHY','BTC']\n",
    "montos = [12500, 5000, 10_500, 20_000, 7*10**3, 25e3]"
   ]
  },
  {
   "cell_type": "markdown",
   "metadata": {},
   "source": [
    "Si quisiera la suma de montos, es facil:"
   ]
  },
  {
   "cell_type": "code",
   "execution_count": 18,
   "metadata": {},
   "outputs": [
    {
     "data": {
      "text/plain": [
       "80000.0"
      ]
     },
     "execution_count": 18,
     "metadata": {},
     "output_type": "execute_result"
    }
   ],
   "source": [
    "sum(montos)"
   ]
  },
  {
   "cell_type": "markdown",
   "metadata": {},
   "source": [
    "Si quisiera los porcentajes?"
   ]
  },
  {
   "cell_type": "code",
   "execution_count": null,
   "metadata": {},
   "outputs": [],
   "source": []
  },
  {
   "cell_type": "markdown",
   "metadata": {},
   "source": [
    "Y si quiero el monto de TLT?"
   ]
  },
  {
   "cell_type": "code",
   "execution_count": null,
   "metadata": {},
   "outputs": [],
   "source": []
  },
  {
   "cell_type": "code",
   "execution_count": null,
   "metadata": {},
   "outputs": [],
   "source": []
  },
  {
   "cell_type": "markdown",
   "metadata": {},
   "source": [
    "Y si quiero los 3 activos de mayor tenencia?"
   ]
  },
  {
   "cell_type": "markdown",
   "metadata": {},
   "source": [
    "Y si quiero el primer decil, o el percentil 6 de mayor tenencia?"
   ]
  },
  {
   "cell_type": "code",
   "execution_count": null,
   "metadata": {},
   "outputs": [],
   "source": []
  },
  {
   "cell_type": "code",
   "execution_count": null,
   "metadata": {},
   "outputs": [],
   "source": []
  },
  {
   "cell_type": "code",
   "execution_count": null,
   "metadata": {},
   "outputs": [],
   "source": []
  },
  {
   "cell_type": "markdown",
   "metadata": {},
   "source": [
    "# DataFrames"
   ]
  },
  {
   "cell_type": "code",
   "execution_count": 19,
   "metadata": {},
   "outputs": [],
   "source": [
    "import pandas as pd"
   ]
  },
  {
   "cell_type": "code",
   "execution_count": 20,
   "metadata": {},
   "outputs": [
    {
     "data": {
      "text/html": [
       "<div>\n",
       "<style scoped>\n",
       "    .dataframe tbody tr th:only-of-type {\n",
       "        vertical-align: middle;\n",
       "    }\n",
       "\n",
       "    .dataframe tbody tr th {\n",
       "        vertical-align: top;\n",
       "    }\n",
       "\n",
       "    .dataframe thead th {\n",
       "        text-align: right;\n",
       "    }\n",
       "</style>\n",
       "<table border=\"1\" class=\"dataframe\">\n",
       "  <thead>\n",
       "    <tr style=\"text-align: right;\">\n",
       "      <th></th>\n",
       "      <th>montos</th>\n",
       "    </tr>\n",
       "  </thead>\n",
       "  <tbody>\n",
       "    <tr>\n",
       "      <th>TSLA</th>\n",
       "      <td>12500.0</td>\n",
       "    </tr>\n",
       "    <tr>\n",
       "      <th>AMZN</th>\n",
       "      <td>5000.0</td>\n",
       "    </tr>\n",
       "    <tr>\n",
       "      <th>GOOGL</th>\n",
       "      <td>10500.0</td>\n",
       "    </tr>\n",
       "    <tr>\n",
       "      <th>TLT</th>\n",
       "      <td>20000.0</td>\n",
       "    </tr>\n",
       "    <tr>\n",
       "      <th>SHY</th>\n",
       "      <td>7000.0</td>\n",
       "    </tr>\n",
       "    <tr>\n",
       "      <th>BTC</th>\n",
       "      <td>25000.0</td>\n",
       "    </tr>\n",
       "  </tbody>\n",
       "</table>\n",
       "</div>"
      ],
      "text/plain": [
       "        montos\n",
       "TSLA   12500.0\n",
       "AMZN    5000.0\n",
       "GOOGL  10500.0\n",
       "TLT    20000.0\n",
       "SHY     7000.0\n",
       "BTC    25000.0"
      ]
     },
     "execution_count": 20,
     "metadata": {},
     "output_type": "execute_result"
    }
   ],
   "source": [
    "cartera = pd.DataFrame(data=montos, index=tickers)\n",
    "cartera.columns=['montos']\n",
    "cartera"
   ]
  },
  {
   "cell_type": "code",
   "execution_count": 21,
   "metadata": {},
   "outputs": [
    {
     "data": {
      "text/html": [
       "<div>\n",
       "<style scoped>\n",
       "    .dataframe tbody tr th:only-of-type {\n",
       "        vertical-align: middle;\n",
       "    }\n",
       "\n",
       "    .dataframe tbody tr th {\n",
       "        vertical-align: top;\n",
       "    }\n",
       "\n",
       "    .dataframe thead th {\n",
       "        text-align: right;\n",
       "    }\n",
       "</style>\n",
       "<table border=\"1\" class=\"dataframe\">\n",
       "  <thead>\n",
       "    <tr style=\"text-align: right;\">\n",
       "      <th></th>\n",
       "      <th>montos</th>\n",
       "    </tr>\n",
       "  </thead>\n",
       "  <tbody>\n",
       "    <tr>\n",
       "      <th>TSLA</th>\n",
       "      <td>12500.0</td>\n",
       "    </tr>\n",
       "    <tr>\n",
       "      <th>AMZN</th>\n",
       "      <td>5000.0</td>\n",
       "    </tr>\n",
       "    <tr>\n",
       "      <th>GOOGL</th>\n",
       "      <td>10500.0</td>\n",
       "    </tr>\n",
       "    <tr>\n",
       "      <th>TLT</th>\n",
       "      <td>20000.0</td>\n",
       "    </tr>\n",
       "    <tr>\n",
       "      <th>SHY</th>\n",
       "      <td>7000.0</td>\n",
       "    </tr>\n",
       "    <tr>\n",
       "      <th>BTC</th>\n",
       "      <td>25000.0</td>\n",
       "    </tr>\n",
       "  </tbody>\n",
       "</table>\n",
       "</div>"
      ],
      "text/plain": [
       "        montos\n",
       "TSLA   12500.0\n",
       "AMZN    5000.0\n",
       "GOOGL  10500.0\n",
       "TLT    20000.0\n",
       "SHY     7000.0\n",
       "BTC    25000.0"
      ]
     },
     "execution_count": 21,
     "metadata": {},
     "output_type": "execute_result"
    }
   ],
   "source": [
    "cartera = pd.DataFrame(index=tickers)\n",
    "cartera['montos'] = montos\n",
    "cartera"
   ]
  },
  {
   "cell_type": "code",
   "execution_count": 22,
   "metadata": {},
   "outputs": [
    {
     "data": {
      "text/html": [
       "<div>\n",
       "<style scoped>\n",
       "    .dataframe tbody tr th:only-of-type {\n",
       "        vertical-align: middle;\n",
       "    }\n",
       "\n",
       "    .dataframe tbody tr th {\n",
       "        vertical-align: top;\n",
       "    }\n",
       "\n",
       "    .dataframe thead th {\n",
       "        text-align: right;\n",
       "    }\n",
       "</style>\n",
       "<table border=\"1\" class=\"dataframe\">\n",
       "  <thead>\n",
       "    <tr style=\"text-align: right;\">\n",
       "      <th></th>\n",
       "      <th>montos</th>\n",
       "      <th>porcentajes</th>\n",
       "    </tr>\n",
       "  </thead>\n",
       "  <tbody>\n",
       "    <tr>\n",
       "      <th>TSLA</th>\n",
       "      <td>12500.0</td>\n",
       "      <td>0.15625</td>\n",
       "    </tr>\n",
       "    <tr>\n",
       "      <th>AMZN</th>\n",
       "      <td>5000.0</td>\n",
       "      <td>0.06250</td>\n",
       "    </tr>\n",
       "    <tr>\n",
       "      <th>GOOGL</th>\n",
       "      <td>10500.0</td>\n",
       "      <td>0.13125</td>\n",
       "    </tr>\n",
       "    <tr>\n",
       "      <th>TLT</th>\n",
       "      <td>20000.0</td>\n",
       "      <td>0.25000</td>\n",
       "    </tr>\n",
       "    <tr>\n",
       "      <th>SHY</th>\n",
       "      <td>7000.0</td>\n",
       "      <td>0.08750</td>\n",
       "    </tr>\n",
       "    <tr>\n",
       "      <th>BTC</th>\n",
       "      <td>25000.0</td>\n",
       "      <td>0.31250</td>\n",
       "    </tr>\n",
       "  </tbody>\n",
       "</table>\n",
       "</div>"
      ],
      "text/plain": [
       "        montos  porcentajes\n",
       "TSLA   12500.0      0.15625\n",
       "AMZN    5000.0      0.06250\n",
       "GOOGL  10500.0      0.13125\n",
       "TLT    20000.0      0.25000\n",
       "SHY     7000.0      0.08750\n",
       "BTC    25000.0      0.31250"
      ]
     },
     "execution_count": 22,
     "metadata": {},
     "output_type": "execute_result"
    }
   ],
   "source": [
    "cartera['porcentajes'] = cartera.montos /cartera.montos.sum()\n",
    "cartera"
   ]
  },
  {
   "cell_type": "code",
   "execution_count": null,
   "metadata": {},
   "outputs": [],
   "source": []
  },
  {
   "cell_type": "markdown",
   "metadata": {},
   "source": [
    "Se acuerdan si quiero los 3 mayores montos?"
   ]
  },
  {
   "cell_type": "code",
   "execution_count": 23,
   "metadata": {},
   "outputs": [
    {
     "data": {
      "text/plain": [
       "Index(['BTC', 'TLT', 'TSLA'], dtype='object')"
      ]
     },
     "execution_count": 23,
     "metadata": {},
     "output_type": "execute_result"
    }
   ],
   "source": [
    "cartera.montos.sort_values(ascending=False).head(3).index"
   ]
  },
  {
   "cell_type": "code",
   "execution_count": null,
   "metadata": {},
   "outputs": [],
   "source": []
  },
  {
   "cell_type": "code",
   "execution_count": null,
   "metadata": {},
   "outputs": [],
   "source": []
  },
  {
   "cell_type": "code",
   "execution_count": null,
   "metadata": {},
   "outputs": [],
   "source": []
  },
  {
   "cell_type": "code",
   "execution_count": null,
   "metadata": {},
   "outputs": [],
   "source": []
  },
  {
   "cell_type": "code",
   "execution_count": null,
   "metadata": {},
   "outputs": [],
   "source": []
  },
  {
   "cell_type": "code",
   "execution_count": null,
   "metadata": {},
   "outputs": [],
   "source": []
  },
  {
   "cell_type": "code",
   "execution_count": null,
   "metadata": {},
   "outputs": [],
   "source": []
  },
  {
   "cell_type": "code",
   "execution_count": null,
   "metadata": {},
   "outputs": [],
   "source": []
  },
  {
   "cell_type": "code",
   "execution_count": null,
   "metadata": {},
   "outputs": [],
   "source": []
  },
  {
   "cell_type": "markdown",
   "metadata": {},
   "source": [
    "# Datos de Mercado"
   ]
  },
  {
   "cell_type": "code",
   "execution_count": 24,
   "metadata": {},
   "outputs": [
    {
     "name": "stdout",
     "output_type": "stream",
     "text": [
      "Requirement already satisfied: yfinance in c:\\users\\usuario\\anaconda3\\lib\\site-packages (0.1.55)\n",
      "Requirement already satisfied: pandas>=0.24 in c:\\users\\usuario\\anaconda3\\lib\\site-packages (from yfinance) (1.1.3)\n",
      "Requirement already satisfied: lxml>=4.5.1 in c:\\users\\usuario\\anaconda3\\lib\\site-packages (from yfinance) (4.6.2)\n",
      "Requirement already satisfied: numpy>=1.15 in c:\\users\\usuario\\anaconda3\\lib\\site-packages (from yfinance) (1.18.5)\n",
      "Requirement already satisfied: requests>=2.20 in c:\\users\\usuario\\anaconda3\\lib\\site-packages (from yfinance) (2.25.0)\n",
      "Requirement already satisfied: multitasking>=0.0.7 in c:\\users\\usuario\\anaconda3\\lib\\site-packages (from yfinance) (0.0.9)\n",
      "Requirement already satisfied: pytz>=2017.2 in c:\\users\\usuario\\anaconda3\\lib\\site-packages (from pandas>=0.24->yfinance) (2020.1)\n",
      "Requirement already satisfied: python-dateutil>=2.7.3 in c:\\users\\usuario\\anaconda3\\lib\\site-packages (from pandas>=0.24->yfinance) (2.8.1)\n",
      "Requirement already satisfied: certifi>=2017.4.17 in c:\\users\\usuario\\anaconda3\\lib\\site-packages (from requests>=2.20->yfinance) (2020.11.8)\n",
      "Requirement already satisfied: chardet<4,>=3.0.2 in c:\\users\\usuario\\anaconda3\\lib\\site-packages (from requests>=2.20->yfinance) (3.0.4)\n",
      "Requirement already satisfied: idna<3,>=2.5 in c:\\users\\usuario\\anaconda3\\lib\\site-packages (from requests>=2.20->yfinance) (2.10)\n",
      "Requirement already satisfied: urllib3<1.27,>=1.21.1 in c:\\users\\usuario\\anaconda3\\lib\\site-packages (from requests>=2.20->yfinance) (1.26.2)\n",
      "Requirement already satisfied: six>=1.5 in c:\\users\\usuario\\anaconda3\\lib\\site-packages (from python-dateutil>=2.7.3->pandas>=0.24->yfinance) (1.15.0)\n",
      "Note: you may need to restart the kernel to use updated packages.\n"
     ]
    }
   ],
   "source": [
    "pip install yfinance"
   ]
  },
  {
   "cell_type": "code",
   "execution_count": 25,
   "metadata": {},
   "outputs": [],
   "source": [
    "import yfinance as yf"
   ]
  },
  {
   "cell_type": "code",
   "execution_count": 26,
   "metadata": {},
   "outputs": [
    {
     "name": "stdout",
     "output_type": "stream",
     "text": [
      "[*********************100%***********************]  1 of 1 completed\n"
     ]
    },
    {
     "data": {
      "text/html": [
       "<div>\n",
       "<style scoped>\n",
       "    .dataframe tbody tr th:only-of-type {\n",
       "        vertical-align: middle;\n",
       "    }\n",
       "\n",
       "    .dataframe tbody tr th {\n",
       "        vertical-align: top;\n",
       "    }\n",
       "\n",
       "    .dataframe thead th {\n",
       "        text-align: right;\n",
       "    }\n",
       "</style>\n",
       "<table border=\"1\" class=\"dataframe\">\n",
       "  <thead>\n",
       "    <tr style=\"text-align: right;\">\n",
       "      <th></th>\n",
       "      <th>Open</th>\n",
       "      <th>High</th>\n",
       "      <th>Low</th>\n",
       "      <th>Close</th>\n",
       "      <th>Volume</th>\n",
       "    </tr>\n",
       "    <tr>\n",
       "      <th>Date</th>\n",
       "      <th></th>\n",
       "      <th></th>\n",
       "      <th></th>\n",
       "      <th></th>\n",
       "      <th></th>\n",
       "    </tr>\n",
       "  </thead>\n",
       "  <tbody>\n",
       "    <tr>\n",
       "      <th>2010-01-04</th>\n",
       "      <td>6.565743</td>\n",
       "      <td>6.598660</td>\n",
       "      <td>6.533442</td>\n",
       "      <td>6.583586</td>\n",
       "      <td>493729600</td>\n",
       "    </tr>\n",
       "    <tr>\n",
       "      <th>2010-01-05</th>\n",
       "      <td>6.601736</td>\n",
       "      <td>6.632191</td>\n",
       "      <td>6.560205</td>\n",
       "      <td>6.594968</td>\n",
       "      <td>601904800</td>\n",
       "    </tr>\n",
       "    <tr>\n",
       "      <th>2010-01-06</th>\n",
       "      <td>6.594967</td>\n",
       "      <td>6.621116</td>\n",
       "      <td>6.483298</td>\n",
       "      <td>6.490066</td>\n",
       "      <td>552160000</td>\n",
       "    </tr>\n",
       "    <tr>\n",
       "      <th>2010-01-07</th>\n",
       "      <td>6.514060</td>\n",
       "      <td>6.521751</td>\n",
       "      <td>6.431000</td>\n",
       "      <td>6.478067</td>\n",
       "      <td>477131200</td>\n",
       "    </tr>\n",
       "    <tr>\n",
       "      <th>2010-01-08</th>\n",
       "      <td>6.469454</td>\n",
       "      <td>6.521751</td>\n",
       "      <td>6.431309</td>\n",
       "      <td>6.521136</td>\n",
       "      <td>447610800</td>\n",
       "    </tr>\n",
       "    <tr>\n",
       "      <th>...</th>\n",
       "      <td>...</td>\n",
       "      <td>...</td>\n",
       "      <td>...</td>\n",
       "      <td>...</td>\n",
       "      <td>...</td>\n",
       "    </tr>\n",
       "    <tr>\n",
       "      <th>2021-03-18</th>\n",
       "      <td>122.879997</td>\n",
       "      <td>123.180000</td>\n",
       "      <td>120.320000</td>\n",
       "      <td>120.529999</td>\n",
       "      <td>121229700</td>\n",
       "    </tr>\n",
       "    <tr>\n",
       "      <th>2021-03-19</th>\n",
       "      <td>119.900002</td>\n",
       "      <td>121.430000</td>\n",
       "      <td>119.680000</td>\n",
       "      <td>119.989998</td>\n",
       "      <td>185023200</td>\n",
       "    </tr>\n",
       "    <tr>\n",
       "      <th>2021-03-22</th>\n",
       "      <td>120.330002</td>\n",
       "      <td>123.870003</td>\n",
       "      <td>120.260002</td>\n",
       "      <td>123.389999</td>\n",
       "      <td>111912300</td>\n",
       "    </tr>\n",
       "    <tr>\n",
       "      <th>2021-03-23</th>\n",
       "      <td>123.330002</td>\n",
       "      <td>124.239998</td>\n",
       "      <td>122.139999</td>\n",
       "      <td>122.540001</td>\n",
       "      <td>95195700</td>\n",
       "    </tr>\n",
       "    <tr>\n",
       "      <th>2021-03-24</th>\n",
       "      <td>122.820000</td>\n",
       "      <td>122.900002</td>\n",
       "      <td>121.110001</td>\n",
       "      <td>121.430000</td>\n",
       "      <td>40378526</td>\n",
       "    </tr>\n",
       "  </tbody>\n",
       "</table>\n",
       "<p>2825 rows × 5 columns</p>\n",
       "</div>"
      ],
      "text/plain": [
       "                  Open        High         Low       Close     Volume\n",
       "Date                                                                 \n",
       "2010-01-04    6.565743    6.598660    6.533442    6.583586  493729600\n",
       "2010-01-05    6.601736    6.632191    6.560205    6.594968  601904800\n",
       "2010-01-06    6.594967    6.621116    6.483298    6.490066  552160000\n",
       "2010-01-07    6.514060    6.521751    6.431000    6.478067  477131200\n",
       "2010-01-08    6.469454    6.521751    6.431309    6.521136  447610800\n",
       "...                ...         ...         ...         ...        ...\n",
       "2021-03-18  122.879997  123.180000  120.320000  120.529999  121229700\n",
       "2021-03-19  119.900002  121.430000  119.680000  119.989998  185023200\n",
       "2021-03-22  120.330002  123.870003  120.260002  123.389999  111912300\n",
       "2021-03-23  123.330002  124.239998  122.139999  122.540001   95195700\n",
       "2021-03-24  122.820000  122.900002  121.110001  121.430000   40378526\n",
       "\n",
       "[2825 rows x 5 columns]"
      ]
     },
     "execution_count": 26,
     "metadata": {},
     "output_type": "execute_result"
    }
   ],
   "source": [
    "yf.download('AAPL', start='2010-01-01', auto_adjust=True)"
   ]
  },
  {
   "cell_type": "code",
   "execution_count": 27,
   "metadata": {},
   "outputs": [
    {
     "name": "stdout",
     "output_type": "stream",
     "text": [
      "[*********************100%***********************]  1 of 1 completed\n"
     ]
    },
    {
     "data": {
      "text/html": [
       "<div>\n",
       "<style scoped>\n",
       "    .dataframe tbody tr th:only-of-type {\n",
       "        vertical-align: middle;\n",
       "    }\n",
       "\n",
       "    .dataframe tbody tr th {\n",
       "        vertical-align: top;\n",
       "    }\n",
       "\n",
       "    .dataframe thead th {\n",
       "        text-align: right;\n",
       "    }\n",
       "</style>\n",
       "<table border=\"1\" class=\"dataframe\">\n",
       "  <thead>\n",
       "    <tr style=\"text-align: right;\">\n",
       "      <th></th>\n",
       "      <th>Open</th>\n",
       "      <th>High</th>\n",
       "      <th>Low</th>\n",
       "      <th>Close</th>\n",
       "      <th>Adj Close</th>\n",
       "      <th>Volume</th>\n",
       "    </tr>\n",
       "    <tr>\n",
       "      <th>Date</th>\n",
       "      <th></th>\n",
       "      <th></th>\n",
       "      <th></th>\n",
       "      <th></th>\n",
       "      <th></th>\n",
       "      <th></th>\n",
       "    </tr>\n",
       "  </thead>\n",
       "  <tbody>\n",
       "    <tr>\n",
       "      <th>2010-01-04</th>\n",
       "      <td>7.622500</td>\n",
       "      <td>7.660714</td>\n",
       "      <td>7.585000</td>\n",
       "      <td>7.643214</td>\n",
       "      <td>6.583586</td>\n",
       "      <td>493729600</td>\n",
       "    </tr>\n",
       "    <tr>\n",
       "      <th>2010-01-05</th>\n",
       "      <td>7.664286</td>\n",
       "      <td>7.699643</td>\n",
       "      <td>7.616071</td>\n",
       "      <td>7.656429</td>\n",
       "      <td>6.594968</td>\n",
       "      <td>601904800</td>\n",
       "    </tr>\n",
       "    <tr>\n",
       "      <th>2010-01-06</th>\n",
       "      <td>7.656429</td>\n",
       "      <td>7.686786</td>\n",
       "      <td>7.526786</td>\n",
       "      <td>7.534643</td>\n",
       "      <td>6.490066</td>\n",
       "      <td>552160000</td>\n",
       "    </tr>\n",
       "    <tr>\n",
       "      <th>2010-01-07</th>\n",
       "      <td>7.562500</td>\n",
       "      <td>7.571429</td>\n",
       "      <td>7.466071</td>\n",
       "      <td>7.520714</td>\n",
       "      <td>6.478067</td>\n",
       "      <td>477131200</td>\n",
       "    </tr>\n",
       "    <tr>\n",
       "      <th>2010-01-08</th>\n",
       "      <td>7.510714</td>\n",
       "      <td>7.571429</td>\n",
       "      <td>7.466429</td>\n",
       "      <td>7.570714</td>\n",
       "      <td>6.521136</td>\n",
       "      <td>447610800</td>\n",
       "    </tr>\n",
       "    <tr>\n",
       "      <th>...</th>\n",
       "      <td>...</td>\n",
       "      <td>...</td>\n",
       "      <td>...</td>\n",
       "      <td>...</td>\n",
       "      <td>...</td>\n",
       "      <td>...</td>\n",
       "    </tr>\n",
       "    <tr>\n",
       "      <th>2021-03-18</th>\n",
       "      <td>122.879997</td>\n",
       "      <td>123.180000</td>\n",
       "      <td>120.320000</td>\n",
       "      <td>120.529999</td>\n",
       "      <td>120.529999</td>\n",
       "      <td>121229700</td>\n",
       "    </tr>\n",
       "    <tr>\n",
       "      <th>2021-03-19</th>\n",
       "      <td>119.900002</td>\n",
       "      <td>121.430000</td>\n",
       "      <td>119.680000</td>\n",
       "      <td>119.989998</td>\n",
       "      <td>119.989998</td>\n",
       "      <td>185023200</td>\n",
       "    </tr>\n",
       "    <tr>\n",
       "      <th>2021-03-22</th>\n",
       "      <td>120.330002</td>\n",
       "      <td>123.870003</td>\n",
       "      <td>120.260002</td>\n",
       "      <td>123.389999</td>\n",
       "      <td>123.389999</td>\n",
       "      <td>111912300</td>\n",
       "    </tr>\n",
       "    <tr>\n",
       "      <th>2021-03-23</th>\n",
       "      <td>123.330002</td>\n",
       "      <td>124.239998</td>\n",
       "      <td>122.139999</td>\n",
       "      <td>122.540001</td>\n",
       "      <td>122.540001</td>\n",
       "      <td>95195700</td>\n",
       "    </tr>\n",
       "    <tr>\n",
       "      <th>2021-03-24</th>\n",
       "      <td>122.820000</td>\n",
       "      <td>122.900002</td>\n",
       "      <td>121.110001</td>\n",
       "      <td>121.430000</td>\n",
       "      <td>121.430000</td>\n",
       "      <td>40379159</td>\n",
       "    </tr>\n",
       "  </tbody>\n",
       "</table>\n",
       "<p>2825 rows × 6 columns</p>\n",
       "</div>"
      ],
      "text/plain": [
       "                  Open        High         Low       Close   Adj Close  \\\n",
       "Date                                                                     \n",
       "2010-01-04    7.622500    7.660714    7.585000    7.643214    6.583586   \n",
       "2010-01-05    7.664286    7.699643    7.616071    7.656429    6.594968   \n",
       "2010-01-06    7.656429    7.686786    7.526786    7.534643    6.490066   \n",
       "2010-01-07    7.562500    7.571429    7.466071    7.520714    6.478067   \n",
       "2010-01-08    7.510714    7.571429    7.466429    7.570714    6.521136   \n",
       "...                ...         ...         ...         ...         ...   \n",
       "2021-03-18  122.879997  123.180000  120.320000  120.529999  120.529999   \n",
       "2021-03-19  119.900002  121.430000  119.680000  119.989998  119.989998   \n",
       "2021-03-22  120.330002  123.870003  120.260002  123.389999  123.389999   \n",
       "2021-03-23  123.330002  124.239998  122.139999  122.540001  122.540001   \n",
       "2021-03-24  122.820000  122.900002  121.110001  121.430000  121.430000   \n",
       "\n",
       "               Volume  \n",
       "Date                   \n",
       "2010-01-04  493729600  \n",
       "2010-01-05  601904800  \n",
       "2010-01-06  552160000  \n",
       "2010-01-07  477131200  \n",
       "2010-01-08  447610800  \n",
       "...               ...  \n",
       "2021-03-18  121229700  \n",
       "2021-03-19  185023200  \n",
       "2021-03-22  111912300  \n",
       "2021-03-23   95195700  \n",
       "2021-03-24   40379159  \n",
       "\n",
       "[2825 rows x 6 columns]"
      ]
     },
     "execution_count": 27,
     "metadata": {},
     "output_type": "execute_result"
    }
   ],
   "source": [
    "yf.download('AAPL', start='2010-01-01', auto_adjust=False)"
   ]
  },
  {
   "cell_type": "code",
   "execution_count": 28,
   "metadata": {},
   "outputs": [
    {
     "name": "stdout",
     "output_type": "stream",
     "text": [
      "[*********************100%***********************]  1 of 1 completed\n",
      "\n",
      "1 Failed download:\n",
      "- AAPL: 5m data not available for startTime=1609470000 and endTime=1616604270. The requested range must be within the last 60 days.\n"
     ]
    },
    {
     "data": {
      "text/html": [
       "<div>\n",
       "<style scoped>\n",
       "    .dataframe tbody tr th:only-of-type {\n",
       "        vertical-align: middle;\n",
       "    }\n",
       "\n",
       "    .dataframe tbody tr th {\n",
       "        vertical-align: top;\n",
       "    }\n",
       "\n",
       "    .dataframe thead th {\n",
       "        text-align: right;\n",
       "    }\n",
       "</style>\n",
       "<table border=\"1\" class=\"dataframe\">\n",
       "  <thead>\n",
       "    <tr style=\"text-align: right;\">\n",
       "      <th></th>\n",
       "      <th>Open</th>\n",
       "      <th>High</th>\n",
       "      <th>Low</th>\n",
       "      <th>Close</th>\n",
       "      <th>Adj Close</th>\n",
       "      <th>Volume</th>\n",
       "    </tr>\n",
       "    <tr>\n",
       "      <th>Date</th>\n",
       "      <th></th>\n",
       "      <th></th>\n",
       "      <th></th>\n",
       "      <th></th>\n",
       "      <th></th>\n",
       "      <th></th>\n",
       "    </tr>\n",
       "  </thead>\n",
       "  <tbody>\n",
       "  </tbody>\n",
       "</table>\n",
       "</div>"
      ],
      "text/plain": [
       "Empty DataFrame\n",
       "Columns: [Open, High, Low, Close, Adj Close, Volume]\n",
       "Index: []"
      ]
     },
     "execution_count": 28,
     "metadata": {},
     "output_type": "execute_result"
    }
   ],
   "source": [
    "yf.download('AAPL', start='2021-01-01', interval='5m', auto_adjust=True)"
   ]
  },
  {
   "cell_type": "code",
   "execution_count": 29,
   "metadata": {},
   "outputs": [
    {
     "name": "stdout",
     "output_type": "stream",
     "text": [
      "[*********************100%***********************]  7 of 7 completed\n"
     ]
    },
    {
     "data": {
      "text/html": [
       "<div>\n",
       "<style scoped>\n",
       "    .dataframe tbody tr th:only-of-type {\n",
       "        vertical-align: middle;\n",
       "    }\n",
       "\n",
       "    .dataframe tbody tr th {\n",
       "        vertical-align: top;\n",
       "    }\n",
       "\n",
       "    .dataframe thead th {\n",
       "        text-align: right;\n",
       "    }\n",
       "</style>\n",
       "<table border=\"1\" class=\"dataframe\">\n",
       "  <thead>\n",
       "    <tr style=\"text-align: right;\">\n",
       "      <th></th>\n",
       "      <th>AAPL</th>\n",
       "      <th>AMZN</th>\n",
       "      <th>FB</th>\n",
       "      <th>GOOGL</th>\n",
       "      <th>NFLX</th>\n",
       "      <th>QQQ</th>\n",
       "      <th>SQQQ</th>\n",
       "    </tr>\n",
       "    <tr>\n",
       "      <th>Date</th>\n",
       "      <th></th>\n",
       "      <th></th>\n",
       "      <th></th>\n",
       "      <th></th>\n",
       "      <th></th>\n",
       "      <th></th>\n",
       "      <th></th>\n",
       "    </tr>\n",
       "  </thead>\n",
       "  <tbody>\n",
       "    <tr>\n",
       "      <th>2020-01-02</th>\n",
       "      <td>74.333511</td>\n",
       "      <td>1898.010010</td>\n",
       "      <td>209.779999</td>\n",
       "      <td>1368.680054</td>\n",
       "      <td>329.809998</td>\n",
       "      <td>214.665176</td>\n",
       "      <td>106.196915</td>\n",
       "    </tr>\n",
       "    <tr>\n",
       "      <th>2020-01-03</th>\n",
       "      <td>73.610840</td>\n",
       "      <td>1874.969971</td>\n",
       "      <td>208.669998</td>\n",
       "      <td>1361.520020</td>\n",
       "      <td>325.899994</td>\n",
       "      <td>212.698853</td>\n",
       "      <td>109.038803</td>\n",
       "    </tr>\n",
       "    <tr>\n",
       "      <th>2020-01-06</th>\n",
       "      <td>74.197395</td>\n",
       "      <td>1902.880005</td>\n",
       "      <td>212.600006</td>\n",
       "      <td>1397.810059</td>\n",
       "      <td>335.829987</td>\n",
       "      <td>214.069321</td>\n",
       "      <td>106.944778</td>\n",
       "    </tr>\n",
       "    <tr>\n",
       "      <th>2020-01-07</th>\n",
       "      <td>73.848442</td>\n",
       "      <td>1906.859985</td>\n",
       "      <td>213.059998</td>\n",
       "      <td>1395.109985</td>\n",
       "      <td>330.750000</td>\n",
       "      <td>214.039520</td>\n",
       "      <td>106.994637</td>\n",
       "    </tr>\n",
       "    <tr>\n",
       "      <th>2020-01-08</th>\n",
       "      <td>75.036385</td>\n",
       "      <td>1891.969971</td>\n",
       "      <td>215.220001</td>\n",
       "      <td>1405.040039</td>\n",
       "      <td>339.260010</td>\n",
       "      <td>215.648300</td>\n",
       "      <td>104.601471</td>\n",
       "    </tr>\n",
       "    <tr>\n",
       "      <th>...</th>\n",
       "      <td>...</td>\n",
       "      <td>...</td>\n",
       "      <td>...</td>\n",
       "      <td>...</td>\n",
       "      <td>...</td>\n",
       "      <td>...</td>\n",
       "      <td>...</td>\n",
       "    </tr>\n",
       "    <tr>\n",
       "      <th>2021-03-18</th>\n",
       "      <td>120.529999</td>\n",
       "      <td>3027.989990</td>\n",
       "      <td>278.619995</td>\n",
       "      <td>2021.339966</td>\n",
       "      <td>504.790009</td>\n",
       "      <td>311.646393</td>\n",
       "      <td>14.190000</td>\n",
       "    </tr>\n",
       "    <tr>\n",
       "      <th>2021-03-19</th>\n",
       "      <td>119.989998</td>\n",
       "      <td>3074.959961</td>\n",
       "      <td>290.109985</td>\n",
       "      <td>2026.959961</td>\n",
       "      <td>512.179993</td>\n",
       "      <td>312.745026</td>\n",
       "      <td>14.010000</td>\n",
       "    </tr>\n",
       "    <tr>\n",
       "      <th>2021-03-22</th>\n",
       "      <td>123.389999</td>\n",
       "      <td>3110.870117</td>\n",
       "      <td>293.540009</td>\n",
       "      <td>2030.689941</td>\n",
       "      <td>523.109985</td>\n",
       "      <td>318.609985</td>\n",
       "      <td>13.250000</td>\n",
       "    </tr>\n",
       "    <tr>\n",
       "      <th>2021-03-23</th>\n",
       "      <td>122.540001</td>\n",
       "      <td>3137.500000</td>\n",
       "      <td>290.630005</td>\n",
       "      <td>2041.329956</td>\n",
       "      <td>535.090027</td>\n",
       "      <td>317.220001</td>\n",
       "      <td>13.430000</td>\n",
       "    </tr>\n",
       "    <tr>\n",
       "      <th>2021-03-24</th>\n",
       "      <td>121.411003</td>\n",
       "      <td>3133.669922</td>\n",
       "      <td>286.910004</td>\n",
       "      <td>2053.280029</td>\n",
       "      <td>528.530029</td>\n",
       "      <td>316.250000</td>\n",
       "      <td>13.550000</td>\n",
       "    </tr>\n",
       "  </tbody>\n",
       "</table>\n",
       "<p>309 rows × 7 columns</p>\n",
       "</div>"
      ],
      "text/plain": [
       "                  AAPL         AMZN          FB        GOOGL        NFLX  \\\n",
       "Date                                                                       \n",
       "2020-01-02   74.333511  1898.010010  209.779999  1368.680054  329.809998   \n",
       "2020-01-03   73.610840  1874.969971  208.669998  1361.520020  325.899994   \n",
       "2020-01-06   74.197395  1902.880005  212.600006  1397.810059  335.829987   \n",
       "2020-01-07   73.848442  1906.859985  213.059998  1395.109985  330.750000   \n",
       "2020-01-08   75.036385  1891.969971  215.220001  1405.040039  339.260010   \n",
       "...                ...          ...         ...          ...         ...   \n",
       "2021-03-18  120.529999  3027.989990  278.619995  2021.339966  504.790009   \n",
       "2021-03-19  119.989998  3074.959961  290.109985  2026.959961  512.179993   \n",
       "2021-03-22  123.389999  3110.870117  293.540009  2030.689941  523.109985   \n",
       "2021-03-23  122.540001  3137.500000  290.630005  2041.329956  535.090027   \n",
       "2021-03-24  121.411003  3133.669922  286.910004  2053.280029  528.530029   \n",
       "\n",
       "                   QQQ        SQQQ  \n",
       "Date                                \n",
       "2020-01-02  214.665176  106.196915  \n",
       "2020-01-03  212.698853  109.038803  \n",
       "2020-01-06  214.069321  106.944778  \n",
       "2020-01-07  214.039520  106.994637  \n",
       "2020-01-08  215.648300  104.601471  \n",
       "...                ...         ...  \n",
       "2021-03-18  311.646393   14.190000  \n",
       "2021-03-19  312.745026   14.010000  \n",
       "2021-03-22  318.609985   13.250000  \n",
       "2021-03-23  317.220001   13.430000  \n",
       "2021-03-24  316.250000   13.550000  \n",
       "\n",
       "[309 rows x 7 columns]"
      ]
     },
     "execution_count": 29,
     "metadata": {},
     "output_type": "execute_result"
    }
   ],
   "source": [
    "tickers = ['AAPL', 'FB', 'AMZN', 'GOOGL', 'NFLX', 'QQQ', 'SQQQ']\n",
    "\n",
    "data = yf.download(tickers, start='2020-01-01', auto_adjust=True)['Close']\n",
    "data"
   ]
  },
  {
   "cell_type": "markdown",
   "metadata": {},
   "source": [
    "## De DataFrame a excel"
   ]
  },
  {
   "cell_type": "code",
   "execution_count": 30,
   "metadata": {},
   "outputs": [],
   "source": [
    "data.to_excel('FAANGs.xlsx')"
   ]
  },
  {
   "cell_type": "markdown",
   "metadata": {},
   "source": [
    "## De Excel a DataFrame"
   ]
  },
  {
   "cell_type": "code",
   "execution_count": 31,
   "metadata": {},
   "outputs": [
    {
     "data": {
      "text/html": [
       "<div>\n",
       "<style scoped>\n",
       "    .dataframe tbody tr th:only-of-type {\n",
       "        vertical-align: middle;\n",
       "    }\n",
       "\n",
       "    .dataframe tbody tr th {\n",
       "        vertical-align: top;\n",
       "    }\n",
       "\n",
       "    .dataframe thead th {\n",
       "        text-align: right;\n",
       "    }\n",
       "</style>\n",
       "<table border=\"1\" class=\"dataframe\">\n",
       "  <thead>\n",
       "    <tr style=\"text-align: right;\">\n",
       "      <th></th>\n",
       "      <th>Date</th>\n",
       "      <th>AAPL</th>\n",
       "      <th>AMZN</th>\n",
       "      <th>FB</th>\n",
       "      <th>GOOGL</th>\n",
       "      <th>NFLX</th>\n",
       "      <th>QQQ</th>\n",
       "      <th>SQQQ</th>\n",
       "    </tr>\n",
       "  </thead>\n",
       "  <tbody>\n",
       "    <tr>\n",
       "      <th>0</th>\n",
       "      <td>2020-01-02</td>\n",
       "      <td>74.333511</td>\n",
       "      <td>1898.010010</td>\n",
       "      <td>209.779999</td>\n",
       "      <td>1368.680054</td>\n",
       "      <td>329.809998</td>\n",
       "      <td>214.665176</td>\n",
       "      <td>106.196915</td>\n",
       "    </tr>\n",
       "    <tr>\n",
       "      <th>1</th>\n",
       "      <td>2020-01-03</td>\n",
       "      <td>73.610840</td>\n",
       "      <td>1874.969971</td>\n",
       "      <td>208.669998</td>\n",
       "      <td>1361.520020</td>\n",
       "      <td>325.899994</td>\n",
       "      <td>212.698853</td>\n",
       "      <td>109.038803</td>\n",
       "    </tr>\n",
       "    <tr>\n",
       "      <th>2</th>\n",
       "      <td>2020-01-06</td>\n",
       "      <td>74.197395</td>\n",
       "      <td>1902.880005</td>\n",
       "      <td>212.600006</td>\n",
       "      <td>1397.810059</td>\n",
       "      <td>335.829987</td>\n",
       "      <td>214.069321</td>\n",
       "      <td>106.944778</td>\n",
       "    </tr>\n",
       "    <tr>\n",
       "      <th>3</th>\n",
       "      <td>2020-01-07</td>\n",
       "      <td>73.848442</td>\n",
       "      <td>1906.859985</td>\n",
       "      <td>213.059998</td>\n",
       "      <td>1395.109985</td>\n",
       "      <td>330.750000</td>\n",
       "      <td>214.039520</td>\n",
       "      <td>106.994637</td>\n",
       "    </tr>\n",
       "    <tr>\n",
       "      <th>4</th>\n",
       "      <td>2020-01-08</td>\n",
       "      <td>75.036385</td>\n",
       "      <td>1891.969971</td>\n",
       "      <td>215.220001</td>\n",
       "      <td>1405.040039</td>\n",
       "      <td>339.260010</td>\n",
       "      <td>215.648300</td>\n",
       "      <td>104.601471</td>\n",
       "    </tr>\n",
       "    <tr>\n",
       "      <th>...</th>\n",
       "      <td>...</td>\n",
       "      <td>...</td>\n",
       "      <td>...</td>\n",
       "      <td>...</td>\n",
       "      <td>...</td>\n",
       "      <td>...</td>\n",
       "      <td>...</td>\n",
       "      <td>...</td>\n",
       "    </tr>\n",
       "    <tr>\n",
       "      <th>304</th>\n",
       "      <td>2021-03-18</td>\n",
       "      <td>120.529999</td>\n",
       "      <td>3027.989990</td>\n",
       "      <td>278.619995</td>\n",
       "      <td>2021.339966</td>\n",
       "      <td>504.790009</td>\n",
       "      <td>311.646393</td>\n",
       "      <td>14.190000</td>\n",
       "    </tr>\n",
       "    <tr>\n",
       "      <th>305</th>\n",
       "      <td>2021-03-19</td>\n",
       "      <td>119.989998</td>\n",
       "      <td>3074.959961</td>\n",
       "      <td>290.109985</td>\n",
       "      <td>2026.959961</td>\n",
       "      <td>512.179993</td>\n",
       "      <td>312.745026</td>\n",
       "      <td>14.010000</td>\n",
       "    </tr>\n",
       "    <tr>\n",
       "      <th>306</th>\n",
       "      <td>2021-03-22</td>\n",
       "      <td>123.389999</td>\n",
       "      <td>3110.870117</td>\n",
       "      <td>293.540009</td>\n",
       "      <td>2030.689941</td>\n",
       "      <td>523.109985</td>\n",
       "      <td>318.609985</td>\n",
       "      <td>13.250000</td>\n",
       "    </tr>\n",
       "    <tr>\n",
       "      <th>307</th>\n",
       "      <td>2021-03-23</td>\n",
       "      <td>122.540001</td>\n",
       "      <td>3137.500000</td>\n",
       "      <td>290.630005</td>\n",
       "      <td>2041.329956</td>\n",
       "      <td>535.090027</td>\n",
       "      <td>317.220001</td>\n",
       "      <td>13.430000</td>\n",
       "    </tr>\n",
       "    <tr>\n",
       "      <th>308</th>\n",
       "      <td>2021-03-24</td>\n",
       "      <td>121.411003</td>\n",
       "      <td>3133.669922</td>\n",
       "      <td>286.910004</td>\n",
       "      <td>2053.280029</td>\n",
       "      <td>528.530029</td>\n",
       "      <td>316.250000</td>\n",
       "      <td>13.550000</td>\n",
       "    </tr>\n",
       "  </tbody>\n",
       "</table>\n",
       "<p>309 rows × 8 columns</p>\n",
       "</div>"
      ],
      "text/plain": [
       "          Date        AAPL         AMZN          FB        GOOGL        NFLX  \\\n",
       "0   2020-01-02   74.333511  1898.010010  209.779999  1368.680054  329.809998   \n",
       "1   2020-01-03   73.610840  1874.969971  208.669998  1361.520020  325.899994   \n",
       "2   2020-01-06   74.197395  1902.880005  212.600006  1397.810059  335.829987   \n",
       "3   2020-01-07   73.848442  1906.859985  213.059998  1395.109985  330.750000   \n",
       "4   2020-01-08   75.036385  1891.969971  215.220001  1405.040039  339.260010   \n",
       "..         ...         ...          ...         ...          ...         ...   \n",
       "304 2021-03-18  120.529999  3027.989990  278.619995  2021.339966  504.790009   \n",
       "305 2021-03-19  119.989998  3074.959961  290.109985  2026.959961  512.179993   \n",
       "306 2021-03-22  123.389999  3110.870117  293.540009  2030.689941  523.109985   \n",
       "307 2021-03-23  122.540001  3137.500000  290.630005  2041.329956  535.090027   \n",
       "308 2021-03-24  121.411003  3133.669922  286.910004  2053.280029  528.530029   \n",
       "\n",
       "            QQQ        SQQQ  \n",
       "0    214.665176  106.196915  \n",
       "1    212.698853  109.038803  \n",
       "2    214.069321  106.944778  \n",
       "3    214.039520  106.994637  \n",
       "4    215.648300  104.601471  \n",
       "..          ...         ...  \n",
       "304  311.646393   14.190000  \n",
       "305  312.745026   14.010000  \n",
       "306  318.609985   13.250000  \n",
       "307  317.220001   13.430000  \n",
       "308  316.250000   13.550000  \n",
       "\n",
       "[309 rows x 8 columns]"
      ]
     },
     "execution_count": 31,
     "metadata": {},
     "output_type": "execute_result"
    }
   ],
   "source": [
    "import pandas as pd\n",
    "\n",
    "data = pd.read_excel('FAANGs.xlsx')\n",
    "data"
   ]
  },
  {
   "cell_type": "markdown",
   "metadata": {},
   "source": [
    "## Seteo de indice del dataframe"
   ]
  },
  {
   "cell_type": "code",
   "execution_count": 32,
   "metadata": {},
   "outputs": [
    {
     "data": {
      "text/html": [
       "<div>\n",
       "<style scoped>\n",
       "    .dataframe tbody tr th:only-of-type {\n",
       "        vertical-align: middle;\n",
       "    }\n",
       "\n",
       "    .dataframe tbody tr th {\n",
       "        vertical-align: top;\n",
       "    }\n",
       "\n",
       "    .dataframe thead th {\n",
       "        text-align: right;\n",
       "    }\n",
       "</style>\n",
       "<table border=\"1\" class=\"dataframe\">\n",
       "  <thead>\n",
       "    <tr style=\"text-align: right;\">\n",
       "      <th></th>\n",
       "      <th>AAPL</th>\n",
       "      <th>AMZN</th>\n",
       "      <th>FB</th>\n",
       "      <th>GOOGL</th>\n",
       "      <th>NFLX</th>\n",
       "      <th>QQQ</th>\n",
       "      <th>SQQQ</th>\n",
       "    </tr>\n",
       "    <tr>\n",
       "      <th>Date</th>\n",
       "      <th></th>\n",
       "      <th></th>\n",
       "      <th></th>\n",
       "      <th></th>\n",
       "      <th></th>\n",
       "      <th></th>\n",
       "      <th></th>\n",
       "    </tr>\n",
       "  </thead>\n",
       "  <tbody>\n",
       "    <tr>\n",
       "      <th>2020-01-02</th>\n",
       "      <td>74.333511</td>\n",
       "      <td>1898.010010</td>\n",
       "      <td>209.779999</td>\n",
       "      <td>1368.680054</td>\n",
       "      <td>329.809998</td>\n",
       "      <td>214.665176</td>\n",
       "      <td>106.196915</td>\n",
       "    </tr>\n",
       "    <tr>\n",
       "      <th>2020-01-03</th>\n",
       "      <td>73.610840</td>\n",
       "      <td>1874.969971</td>\n",
       "      <td>208.669998</td>\n",
       "      <td>1361.520020</td>\n",
       "      <td>325.899994</td>\n",
       "      <td>212.698853</td>\n",
       "      <td>109.038803</td>\n",
       "    </tr>\n",
       "    <tr>\n",
       "      <th>2020-01-06</th>\n",
       "      <td>74.197395</td>\n",
       "      <td>1902.880005</td>\n",
       "      <td>212.600006</td>\n",
       "      <td>1397.810059</td>\n",
       "      <td>335.829987</td>\n",
       "      <td>214.069321</td>\n",
       "      <td>106.944778</td>\n",
       "    </tr>\n",
       "    <tr>\n",
       "      <th>2020-01-07</th>\n",
       "      <td>73.848442</td>\n",
       "      <td>1906.859985</td>\n",
       "      <td>213.059998</td>\n",
       "      <td>1395.109985</td>\n",
       "      <td>330.750000</td>\n",
       "      <td>214.039520</td>\n",
       "      <td>106.994637</td>\n",
       "    </tr>\n",
       "    <tr>\n",
       "      <th>2020-01-08</th>\n",
       "      <td>75.036385</td>\n",
       "      <td>1891.969971</td>\n",
       "      <td>215.220001</td>\n",
       "      <td>1405.040039</td>\n",
       "      <td>339.260010</td>\n",
       "      <td>215.648300</td>\n",
       "      <td>104.601471</td>\n",
       "    </tr>\n",
       "    <tr>\n",
       "      <th>...</th>\n",
       "      <td>...</td>\n",
       "      <td>...</td>\n",
       "      <td>...</td>\n",
       "      <td>...</td>\n",
       "      <td>...</td>\n",
       "      <td>...</td>\n",
       "      <td>...</td>\n",
       "    </tr>\n",
       "    <tr>\n",
       "      <th>2021-03-18</th>\n",
       "      <td>120.529999</td>\n",
       "      <td>3027.989990</td>\n",
       "      <td>278.619995</td>\n",
       "      <td>2021.339966</td>\n",
       "      <td>504.790009</td>\n",
       "      <td>311.646393</td>\n",
       "      <td>14.190000</td>\n",
       "    </tr>\n",
       "    <tr>\n",
       "      <th>2021-03-19</th>\n",
       "      <td>119.989998</td>\n",
       "      <td>3074.959961</td>\n",
       "      <td>290.109985</td>\n",
       "      <td>2026.959961</td>\n",
       "      <td>512.179993</td>\n",
       "      <td>312.745026</td>\n",
       "      <td>14.010000</td>\n",
       "    </tr>\n",
       "    <tr>\n",
       "      <th>2021-03-22</th>\n",
       "      <td>123.389999</td>\n",
       "      <td>3110.870117</td>\n",
       "      <td>293.540009</td>\n",
       "      <td>2030.689941</td>\n",
       "      <td>523.109985</td>\n",
       "      <td>318.609985</td>\n",
       "      <td>13.250000</td>\n",
       "    </tr>\n",
       "    <tr>\n",
       "      <th>2021-03-23</th>\n",
       "      <td>122.540001</td>\n",
       "      <td>3137.500000</td>\n",
       "      <td>290.630005</td>\n",
       "      <td>2041.329956</td>\n",
       "      <td>535.090027</td>\n",
       "      <td>317.220001</td>\n",
       "      <td>13.430000</td>\n",
       "    </tr>\n",
       "    <tr>\n",
       "      <th>2021-03-24</th>\n",
       "      <td>121.411003</td>\n",
       "      <td>3133.669922</td>\n",
       "      <td>286.910004</td>\n",
       "      <td>2053.280029</td>\n",
       "      <td>528.530029</td>\n",
       "      <td>316.250000</td>\n",
       "      <td>13.550000</td>\n",
       "    </tr>\n",
       "  </tbody>\n",
       "</table>\n",
       "<p>309 rows × 7 columns</p>\n",
       "</div>"
      ],
      "text/plain": [
       "                  AAPL         AMZN          FB        GOOGL        NFLX  \\\n",
       "Date                                                                       \n",
       "2020-01-02   74.333511  1898.010010  209.779999  1368.680054  329.809998   \n",
       "2020-01-03   73.610840  1874.969971  208.669998  1361.520020  325.899994   \n",
       "2020-01-06   74.197395  1902.880005  212.600006  1397.810059  335.829987   \n",
       "2020-01-07   73.848442  1906.859985  213.059998  1395.109985  330.750000   \n",
       "2020-01-08   75.036385  1891.969971  215.220001  1405.040039  339.260010   \n",
       "...                ...          ...         ...          ...         ...   \n",
       "2021-03-18  120.529999  3027.989990  278.619995  2021.339966  504.790009   \n",
       "2021-03-19  119.989998  3074.959961  290.109985  2026.959961  512.179993   \n",
       "2021-03-22  123.389999  3110.870117  293.540009  2030.689941  523.109985   \n",
       "2021-03-23  122.540001  3137.500000  290.630005  2041.329956  535.090027   \n",
       "2021-03-24  121.411003  3133.669922  286.910004  2053.280029  528.530029   \n",
       "\n",
       "                   QQQ        SQQQ  \n",
       "Date                                \n",
       "2020-01-02  214.665176  106.196915  \n",
       "2020-01-03  212.698853  109.038803  \n",
       "2020-01-06  214.069321  106.944778  \n",
       "2020-01-07  214.039520  106.994637  \n",
       "2020-01-08  215.648300  104.601471  \n",
       "...                ...         ...  \n",
       "2021-03-18  311.646393   14.190000  \n",
       "2021-03-19  312.745026   14.010000  \n",
       "2021-03-22  318.609985   13.250000  \n",
       "2021-03-23  317.220001   13.430000  \n",
       "2021-03-24  316.250000   13.550000  \n",
       "\n",
       "[309 rows x 7 columns]"
      ]
     },
     "execution_count": 32,
     "metadata": {},
     "output_type": "execute_result"
    }
   ],
   "source": [
    "data.set_index('Date')"
   ]
  },
  {
   "cell_type": "code",
   "execution_count": 33,
   "metadata": {},
   "outputs": [
    {
     "data": {
      "text/html": [
       "<div>\n",
       "<style scoped>\n",
       "    .dataframe tbody tr th:only-of-type {\n",
       "        vertical-align: middle;\n",
       "    }\n",
       "\n",
       "    .dataframe tbody tr th {\n",
       "        vertical-align: top;\n",
       "    }\n",
       "\n",
       "    .dataframe thead th {\n",
       "        text-align: right;\n",
       "    }\n",
       "</style>\n",
       "<table border=\"1\" class=\"dataframe\">\n",
       "  <thead>\n",
       "    <tr style=\"text-align: right;\">\n",
       "      <th></th>\n",
       "      <th>Date</th>\n",
       "      <th>AAPL</th>\n",
       "      <th>AMZN</th>\n",
       "      <th>FB</th>\n",
       "      <th>GOOGL</th>\n",
       "      <th>NFLX</th>\n",
       "      <th>QQQ</th>\n",
       "      <th>SQQQ</th>\n",
       "    </tr>\n",
       "  </thead>\n",
       "  <tbody>\n",
       "    <tr>\n",
       "      <th>0</th>\n",
       "      <td>2020-01-02</td>\n",
       "      <td>74.333511</td>\n",
       "      <td>1898.010010</td>\n",
       "      <td>209.779999</td>\n",
       "      <td>1368.680054</td>\n",
       "      <td>329.809998</td>\n",
       "      <td>214.665176</td>\n",
       "      <td>106.196915</td>\n",
       "    </tr>\n",
       "    <tr>\n",
       "      <th>1</th>\n",
       "      <td>2020-01-03</td>\n",
       "      <td>73.610840</td>\n",
       "      <td>1874.969971</td>\n",
       "      <td>208.669998</td>\n",
       "      <td>1361.520020</td>\n",
       "      <td>325.899994</td>\n",
       "      <td>212.698853</td>\n",
       "      <td>109.038803</td>\n",
       "    </tr>\n",
       "    <tr>\n",
       "      <th>2</th>\n",
       "      <td>2020-01-06</td>\n",
       "      <td>74.197395</td>\n",
       "      <td>1902.880005</td>\n",
       "      <td>212.600006</td>\n",
       "      <td>1397.810059</td>\n",
       "      <td>335.829987</td>\n",
       "      <td>214.069321</td>\n",
       "      <td>106.944778</td>\n",
       "    </tr>\n",
       "    <tr>\n",
       "      <th>3</th>\n",
       "      <td>2020-01-07</td>\n",
       "      <td>73.848442</td>\n",
       "      <td>1906.859985</td>\n",
       "      <td>213.059998</td>\n",
       "      <td>1395.109985</td>\n",
       "      <td>330.750000</td>\n",
       "      <td>214.039520</td>\n",
       "      <td>106.994637</td>\n",
       "    </tr>\n",
       "    <tr>\n",
       "      <th>4</th>\n",
       "      <td>2020-01-08</td>\n",
       "      <td>75.036385</td>\n",
       "      <td>1891.969971</td>\n",
       "      <td>215.220001</td>\n",
       "      <td>1405.040039</td>\n",
       "      <td>339.260010</td>\n",
       "      <td>215.648300</td>\n",
       "      <td>104.601471</td>\n",
       "    </tr>\n",
       "    <tr>\n",
       "      <th>...</th>\n",
       "      <td>...</td>\n",
       "      <td>...</td>\n",
       "      <td>...</td>\n",
       "      <td>...</td>\n",
       "      <td>...</td>\n",
       "      <td>...</td>\n",
       "      <td>...</td>\n",
       "      <td>...</td>\n",
       "    </tr>\n",
       "    <tr>\n",
       "      <th>304</th>\n",
       "      <td>2021-03-18</td>\n",
       "      <td>120.529999</td>\n",
       "      <td>3027.989990</td>\n",
       "      <td>278.619995</td>\n",
       "      <td>2021.339966</td>\n",
       "      <td>504.790009</td>\n",
       "      <td>311.646393</td>\n",
       "      <td>14.190000</td>\n",
       "    </tr>\n",
       "    <tr>\n",
       "      <th>305</th>\n",
       "      <td>2021-03-19</td>\n",
       "      <td>119.989998</td>\n",
       "      <td>3074.959961</td>\n",
       "      <td>290.109985</td>\n",
       "      <td>2026.959961</td>\n",
       "      <td>512.179993</td>\n",
       "      <td>312.745026</td>\n",
       "      <td>14.010000</td>\n",
       "    </tr>\n",
       "    <tr>\n",
       "      <th>306</th>\n",
       "      <td>2021-03-22</td>\n",
       "      <td>123.389999</td>\n",
       "      <td>3110.870117</td>\n",
       "      <td>293.540009</td>\n",
       "      <td>2030.689941</td>\n",
       "      <td>523.109985</td>\n",
       "      <td>318.609985</td>\n",
       "      <td>13.250000</td>\n",
       "    </tr>\n",
       "    <tr>\n",
       "      <th>307</th>\n",
       "      <td>2021-03-23</td>\n",
       "      <td>122.540001</td>\n",
       "      <td>3137.500000</td>\n",
       "      <td>290.630005</td>\n",
       "      <td>2041.329956</td>\n",
       "      <td>535.090027</td>\n",
       "      <td>317.220001</td>\n",
       "      <td>13.430000</td>\n",
       "    </tr>\n",
       "    <tr>\n",
       "      <th>308</th>\n",
       "      <td>2021-03-24</td>\n",
       "      <td>121.411003</td>\n",
       "      <td>3133.669922</td>\n",
       "      <td>286.910004</td>\n",
       "      <td>2053.280029</td>\n",
       "      <td>528.530029</td>\n",
       "      <td>316.250000</td>\n",
       "      <td>13.550000</td>\n",
       "    </tr>\n",
       "  </tbody>\n",
       "</table>\n",
       "<p>309 rows × 8 columns</p>\n",
       "</div>"
      ],
      "text/plain": [
       "          Date        AAPL         AMZN          FB        GOOGL        NFLX  \\\n",
       "0   2020-01-02   74.333511  1898.010010  209.779999  1368.680054  329.809998   \n",
       "1   2020-01-03   73.610840  1874.969971  208.669998  1361.520020  325.899994   \n",
       "2   2020-01-06   74.197395  1902.880005  212.600006  1397.810059  335.829987   \n",
       "3   2020-01-07   73.848442  1906.859985  213.059998  1395.109985  330.750000   \n",
       "4   2020-01-08   75.036385  1891.969971  215.220001  1405.040039  339.260010   \n",
       "..         ...         ...          ...         ...          ...         ...   \n",
       "304 2021-03-18  120.529999  3027.989990  278.619995  2021.339966  504.790009   \n",
       "305 2021-03-19  119.989998  3074.959961  290.109985  2026.959961  512.179993   \n",
       "306 2021-03-22  123.389999  3110.870117  293.540009  2030.689941  523.109985   \n",
       "307 2021-03-23  122.540001  3137.500000  290.630005  2041.329956  535.090027   \n",
       "308 2021-03-24  121.411003  3133.669922  286.910004  2053.280029  528.530029   \n",
       "\n",
       "            QQQ        SQQQ  \n",
       "0    214.665176  106.196915  \n",
       "1    212.698853  109.038803  \n",
       "2    214.069321  106.944778  \n",
       "3    214.039520  106.994637  \n",
       "4    215.648300  104.601471  \n",
       "..          ...         ...  \n",
       "304  311.646393   14.190000  \n",
       "305  312.745026   14.010000  \n",
       "306  318.609985   13.250000  \n",
       "307  317.220001   13.430000  \n",
       "308  316.250000   13.550000  \n",
       "\n",
       "[309 rows x 8 columns]"
      ]
     },
     "execution_count": 33,
     "metadata": {},
     "output_type": "execute_result"
    }
   ],
   "source": [
    "data"
   ]
  },
  {
   "cell_type": "markdown",
   "metadata": {},
   "source": [
    "## Inplace"
   ]
  },
  {
   "cell_type": "code",
   "execution_count": 34,
   "metadata": {},
   "outputs": [],
   "source": [
    "data.set_index('Date', inplace=True)"
   ]
  },
  {
   "cell_type": "code",
   "execution_count": 35,
   "metadata": {},
   "outputs": [
    {
     "data": {
      "text/html": [
       "<div>\n",
       "<style scoped>\n",
       "    .dataframe tbody tr th:only-of-type {\n",
       "        vertical-align: middle;\n",
       "    }\n",
       "\n",
       "    .dataframe tbody tr th {\n",
       "        vertical-align: top;\n",
       "    }\n",
       "\n",
       "    .dataframe thead th {\n",
       "        text-align: right;\n",
       "    }\n",
       "</style>\n",
       "<table border=\"1\" class=\"dataframe\">\n",
       "  <thead>\n",
       "    <tr style=\"text-align: right;\">\n",
       "      <th></th>\n",
       "      <th>AAPL</th>\n",
       "      <th>AMZN</th>\n",
       "      <th>FB</th>\n",
       "      <th>GOOGL</th>\n",
       "      <th>NFLX</th>\n",
       "      <th>QQQ</th>\n",
       "      <th>SQQQ</th>\n",
       "    </tr>\n",
       "    <tr>\n",
       "      <th>Date</th>\n",
       "      <th></th>\n",
       "      <th></th>\n",
       "      <th></th>\n",
       "      <th></th>\n",
       "      <th></th>\n",
       "      <th></th>\n",
       "      <th></th>\n",
       "    </tr>\n",
       "  </thead>\n",
       "  <tbody>\n",
       "    <tr>\n",
       "      <th>2020-01-02</th>\n",
       "      <td>74.333511</td>\n",
       "      <td>1898.010010</td>\n",
       "      <td>209.779999</td>\n",
       "      <td>1368.680054</td>\n",
       "      <td>329.809998</td>\n",
       "      <td>214.665176</td>\n",
       "      <td>106.196915</td>\n",
       "    </tr>\n",
       "    <tr>\n",
       "      <th>2020-01-03</th>\n",
       "      <td>73.610840</td>\n",
       "      <td>1874.969971</td>\n",
       "      <td>208.669998</td>\n",
       "      <td>1361.520020</td>\n",
       "      <td>325.899994</td>\n",
       "      <td>212.698853</td>\n",
       "      <td>109.038803</td>\n",
       "    </tr>\n",
       "    <tr>\n",
       "      <th>2020-01-06</th>\n",
       "      <td>74.197395</td>\n",
       "      <td>1902.880005</td>\n",
       "      <td>212.600006</td>\n",
       "      <td>1397.810059</td>\n",
       "      <td>335.829987</td>\n",
       "      <td>214.069321</td>\n",
       "      <td>106.944778</td>\n",
       "    </tr>\n",
       "    <tr>\n",
       "      <th>2020-01-07</th>\n",
       "      <td>73.848442</td>\n",
       "      <td>1906.859985</td>\n",
       "      <td>213.059998</td>\n",
       "      <td>1395.109985</td>\n",
       "      <td>330.750000</td>\n",
       "      <td>214.039520</td>\n",
       "      <td>106.994637</td>\n",
       "    </tr>\n",
       "    <tr>\n",
       "      <th>2020-01-08</th>\n",
       "      <td>75.036385</td>\n",
       "      <td>1891.969971</td>\n",
       "      <td>215.220001</td>\n",
       "      <td>1405.040039</td>\n",
       "      <td>339.260010</td>\n",
       "      <td>215.648300</td>\n",
       "      <td>104.601471</td>\n",
       "    </tr>\n",
       "    <tr>\n",
       "      <th>...</th>\n",
       "      <td>...</td>\n",
       "      <td>...</td>\n",
       "      <td>...</td>\n",
       "      <td>...</td>\n",
       "      <td>...</td>\n",
       "      <td>...</td>\n",
       "      <td>...</td>\n",
       "    </tr>\n",
       "    <tr>\n",
       "      <th>2021-03-18</th>\n",
       "      <td>120.529999</td>\n",
       "      <td>3027.989990</td>\n",
       "      <td>278.619995</td>\n",
       "      <td>2021.339966</td>\n",
       "      <td>504.790009</td>\n",
       "      <td>311.646393</td>\n",
       "      <td>14.190000</td>\n",
       "    </tr>\n",
       "    <tr>\n",
       "      <th>2021-03-19</th>\n",
       "      <td>119.989998</td>\n",
       "      <td>3074.959961</td>\n",
       "      <td>290.109985</td>\n",
       "      <td>2026.959961</td>\n",
       "      <td>512.179993</td>\n",
       "      <td>312.745026</td>\n",
       "      <td>14.010000</td>\n",
       "    </tr>\n",
       "    <tr>\n",
       "      <th>2021-03-22</th>\n",
       "      <td>123.389999</td>\n",
       "      <td>3110.870117</td>\n",
       "      <td>293.540009</td>\n",
       "      <td>2030.689941</td>\n",
       "      <td>523.109985</td>\n",
       "      <td>318.609985</td>\n",
       "      <td>13.250000</td>\n",
       "    </tr>\n",
       "    <tr>\n",
       "      <th>2021-03-23</th>\n",
       "      <td>122.540001</td>\n",
       "      <td>3137.500000</td>\n",
       "      <td>290.630005</td>\n",
       "      <td>2041.329956</td>\n",
       "      <td>535.090027</td>\n",
       "      <td>317.220001</td>\n",
       "      <td>13.430000</td>\n",
       "    </tr>\n",
       "    <tr>\n",
       "      <th>2021-03-24</th>\n",
       "      <td>121.411003</td>\n",
       "      <td>3133.669922</td>\n",
       "      <td>286.910004</td>\n",
       "      <td>2053.280029</td>\n",
       "      <td>528.530029</td>\n",
       "      <td>316.250000</td>\n",
       "      <td>13.550000</td>\n",
       "    </tr>\n",
       "  </tbody>\n",
       "</table>\n",
       "<p>309 rows × 7 columns</p>\n",
       "</div>"
      ],
      "text/plain": [
       "                  AAPL         AMZN          FB        GOOGL        NFLX  \\\n",
       "Date                                                                       \n",
       "2020-01-02   74.333511  1898.010010  209.779999  1368.680054  329.809998   \n",
       "2020-01-03   73.610840  1874.969971  208.669998  1361.520020  325.899994   \n",
       "2020-01-06   74.197395  1902.880005  212.600006  1397.810059  335.829987   \n",
       "2020-01-07   73.848442  1906.859985  213.059998  1395.109985  330.750000   \n",
       "2020-01-08   75.036385  1891.969971  215.220001  1405.040039  339.260010   \n",
       "...                ...          ...         ...          ...         ...   \n",
       "2021-03-18  120.529999  3027.989990  278.619995  2021.339966  504.790009   \n",
       "2021-03-19  119.989998  3074.959961  290.109985  2026.959961  512.179993   \n",
       "2021-03-22  123.389999  3110.870117  293.540009  2030.689941  523.109985   \n",
       "2021-03-23  122.540001  3137.500000  290.630005  2041.329956  535.090027   \n",
       "2021-03-24  121.411003  3133.669922  286.910004  2053.280029  528.530029   \n",
       "\n",
       "                   QQQ        SQQQ  \n",
       "Date                                \n",
       "2020-01-02  214.665176  106.196915  \n",
       "2020-01-03  212.698853  109.038803  \n",
       "2020-01-06  214.069321  106.944778  \n",
       "2020-01-07  214.039520  106.994637  \n",
       "2020-01-08  215.648300  104.601471  \n",
       "...                ...         ...  \n",
       "2021-03-18  311.646393   14.190000  \n",
       "2021-03-19  312.745026   14.010000  \n",
       "2021-03-22  318.609985   13.250000  \n",
       "2021-03-23  317.220001   13.430000  \n",
       "2021-03-24  316.250000   13.550000  \n",
       "\n",
       "[309 rows x 7 columns]"
      ]
     },
     "execution_count": 35,
     "metadata": {},
     "output_type": "execute_result"
    }
   ],
   "source": [
    "data"
   ]
  },
  {
   "cell_type": "markdown",
   "metadata": {},
   "source": [
    "## Magia I: pct_change()"
   ]
  },
  {
   "cell_type": "code",
   "execution_count": 36,
   "metadata": {},
   "outputs": [
    {
     "data": {
      "text/html": [
       "<div>\n",
       "<style scoped>\n",
       "    .dataframe tbody tr th:only-of-type {\n",
       "        vertical-align: middle;\n",
       "    }\n",
       "\n",
       "    .dataframe tbody tr th {\n",
       "        vertical-align: top;\n",
       "    }\n",
       "\n",
       "    .dataframe thead th {\n",
       "        text-align: right;\n",
       "    }\n",
       "</style>\n",
       "<table border=\"1\" class=\"dataframe\">\n",
       "  <thead>\n",
       "    <tr style=\"text-align: right;\">\n",
       "      <th></th>\n",
       "      <th>AAPL</th>\n",
       "      <th>AMZN</th>\n",
       "      <th>FB</th>\n",
       "      <th>GOOGL</th>\n",
       "      <th>NFLX</th>\n",
       "      <th>QQQ</th>\n",
       "      <th>SQQQ</th>\n",
       "    </tr>\n",
       "    <tr>\n",
       "      <th>Date</th>\n",
       "      <th></th>\n",
       "      <th></th>\n",
       "      <th></th>\n",
       "      <th></th>\n",
       "      <th></th>\n",
       "      <th></th>\n",
       "      <th></th>\n",
       "    </tr>\n",
       "  </thead>\n",
       "  <tbody>\n",
       "    <tr>\n",
       "      <th>2020-01-02</th>\n",
       "      <td>NaN</td>\n",
       "      <td>NaN</td>\n",
       "      <td>NaN</td>\n",
       "      <td>NaN</td>\n",
       "      <td>NaN</td>\n",
       "      <td>NaN</td>\n",
       "      <td>NaN</td>\n",
       "    </tr>\n",
       "    <tr>\n",
       "      <th>2020-01-03</th>\n",
       "      <td>-0.009722</td>\n",
       "      <td>-0.012139</td>\n",
       "      <td>-0.005291</td>\n",
       "      <td>-0.005231</td>\n",
       "      <td>-0.011855</td>\n",
       "      <td>-0.009160</td>\n",
       "      <td>0.026761</td>\n",
       "    </tr>\n",
       "    <tr>\n",
       "      <th>2020-01-06</th>\n",
       "      <td>0.007968</td>\n",
       "      <td>0.014886</td>\n",
       "      <td>0.018834</td>\n",
       "      <td>0.026654</td>\n",
       "      <td>0.030469</td>\n",
       "      <td>0.006443</td>\n",
       "      <td>-0.019204</td>\n",
       "    </tr>\n",
       "    <tr>\n",
       "      <th>2020-01-07</th>\n",
       "      <td>-0.004703</td>\n",
       "      <td>0.002092</td>\n",
       "      <td>0.002164</td>\n",
       "      <td>-0.001932</td>\n",
       "      <td>-0.015127</td>\n",
       "      <td>-0.000139</td>\n",
       "      <td>0.000466</td>\n",
       "    </tr>\n",
       "    <tr>\n",
       "      <th>2020-01-08</th>\n",
       "      <td>0.016086</td>\n",
       "      <td>-0.007809</td>\n",
       "      <td>0.010138</td>\n",
       "      <td>0.007118</td>\n",
       "      <td>0.025729</td>\n",
       "      <td>0.007516</td>\n",
       "      <td>-0.022367</td>\n",
       "    </tr>\n",
       "    <tr>\n",
       "      <th>...</th>\n",
       "      <td>...</td>\n",
       "      <td>...</td>\n",
       "      <td>...</td>\n",
       "      <td>...</td>\n",
       "      <td>...</td>\n",
       "      <td>...</td>\n",
       "      <td>...</td>\n",
       "    </tr>\n",
       "    <tr>\n",
       "      <th>2021-03-18</th>\n",
       "      <td>-0.033905</td>\n",
       "      <td>-0.034359</td>\n",
       "      <td>-0.018978</td>\n",
       "      <td>-0.029238</td>\n",
       "      <td>-0.037469</td>\n",
       "      <td>-0.030631</td>\n",
       "      <td>0.091538</td>\n",
       "    </tr>\n",
       "    <tr>\n",
       "      <th>2021-03-19</th>\n",
       "      <td>-0.004480</td>\n",
       "      <td>0.015512</td>\n",
       "      <td>0.041239</td>\n",
       "      <td>0.002780</td>\n",
       "      <td>0.014640</td>\n",
       "      <td>0.003525</td>\n",
       "      <td>-0.012685</td>\n",
       "    </tr>\n",
       "    <tr>\n",
       "      <th>2021-03-22</th>\n",
       "      <td>0.028336</td>\n",
       "      <td>0.011678</td>\n",
       "      <td>0.011823</td>\n",
       "      <td>0.001840</td>\n",
       "      <td>0.021340</td>\n",
       "      <td>0.018753</td>\n",
       "      <td>-0.054247</td>\n",
       "    </tr>\n",
       "    <tr>\n",
       "      <th>2021-03-23</th>\n",
       "      <td>-0.006889</td>\n",
       "      <td>0.008560</td>\n",
       "      <td>-0.009913</td>\n",
       "      <td>0.005240</td>\n",
       "      <td>0.022902</td>\n",
       "      <td>-0.004363</td>\n",
       "      <td>0.013585</td>\n",
       "    </tr>\n",
       "    <tr>\n",
       "      <th>2021-03-24</th>\n",
       "      <td>-0.009213</td>\n",
       "      <td>-0.001221</td>\n",
       "      <td>-0.012800</td>\n",
       "      <td>0.005854</td>\n",
       "      <td>-0.012260</td>\n",
       "      <td>-0.003058</td>\n",
       "      <td>0.008935</td>\n",
       "    </tr>\n",
       "  </tbody>\n",
       "</table>\n",
       "<p>309 rows × 7 columns</p>\n",
       "</div>"
      ],
      "text/plain": [
       "                AAPL      AMZN        FB     GOOGL      NFLX       QQQ  \\\n",
       "Date                                                                     \n",
       "2020-01-02       NaN       NaN       NaN       NaN       NaN       NaN   \n",
       "2020-01-03 -0.009722 -0.012139 -0.005291 -0.005231 -0.011855 -0.009160   \n",
       "2020-01-06  0.007968  0.014886  0.018834  0.026654  0.030469  0.006443   \n",
       "2020-01-07 -0.004703  0.002092  0.002164 -0.001932 -0.015127 -0.000139   \n",
       "2020-01-08  0.016086 -0.007809  0.010138  0.007118  0.025729  0.007516   \n",
       "...              ...       ...       ...       ...       ...       ...   \n",
       "2021-03-18 -0.033905 -0.034359 -0.018978 -0.029238 -0.037469 -0.030631   \n",
       "2021-03-19 -0.004480  0.015512  0.041239  0.002780  0.014640  0.003525   \n",
       "2021-03-22  0.028336  0.011678  0.011823  0.001840  0.021340  0.018753   \n",
       "2021-03-23 -0.006889  0.008560 -0.009913  0.005240  0.022902 -0.004363   \n",
       "2021-03-24 -0.009213 -0.001221 -0.012800  0.005854 -0.012260 -0.003058   \n",
       "\n",
       "                SQQQ  \n",
       "Date                  \n",
       "2020-01-02       NaN  \n",
       "2020-01-03  0.026761  \n",
       "2020-01-06 -0.019204  \n",
       "2020-01-07  0.000466  \n",
       "2020-01-08 -0.022367  \n",
       "...              ...  \n",
       "2021-03-18  0.091538  \n",
       "2021-03-19 -0.012685  \n",
       "2021-03-22 -0.054247  \n",
       "2021-03-23  0.013585  \n",
       "2021-03-24  0.008935  \n",
       "\n",
       "[309 rows x 7 columns]"
      ]
     },
     "execution_count": 36,
     "metadata": {},
     "output_type": "execute_result"
    }
   ],
   "source": [
    "data.pct_change()"
   ]
  },
  {
   "cell_type": "markdown",
   "metadata": {},
   "source": [
    "## Magia II: rolling()"
   ]
  },
  {
   "cell_type": "code",
   "execution_count": 37,
   "metadata": {},
   "outputs": [
    {
     "data": {
      "text/html": [
       "<div>\n",
       "<style scoped>\n",
       "    .dataframe tbody tr th:only-of-type {\n",
       "        vertical-align: middle;\n",
       "    }\n",
       "\n",
       "    .dataframe tbody tr th {\n",
       "        vertical-align: top;\n",
       "    }\n",
       "\n",
       "    .dataframe thead th {\n",
       "        text-align: right;\n",
       "    }\n",
       "</style>\n",
       "<table border=\"1\" class=\"dataframe\">\n",
       "  <thead>\n",
       "    <tr style=\"text-align: right;\">\n",
       "      <th></th>\n",
       "      <th>AAPL</th>\n",
       "      <th>AMZN</th>\n",
       "      <th>FB</th>\n",
       "      <th>GOOGL</th>\n",
       "      <th>NFLX</th>\n",
       "      <th>QQQ</th>\n",
       "      <th>SQQQ</th>\n",
       "    </tr>\n",
       "    <tr>\n",
       "      <th>Date</th>\n",
       "      <th></th>\n",
       "      <th></th>\n",
       "      <th></th>\n",
       "      <th></th>\n",
       "      <th></th>\n",
       "      <th></th>\n",
       "      <th></th>\n",
       "    </tr>\n",
       "  </thead>\n",
       "  <tbody>\n",
       "    <tr>\n",
       "      <th>2020-01-02</th>\n",
       "      <td>NaN</td>\n",
       "      <td>NaN</td>\n",
       "      <td>NaN</td>\n",
       "      <td>NaN</td>\n",
       "      <td>NaN</td>\n",
       "      <td>NaN</td>\n",
       "      <td>NaN</td>\n",
       "    </tr>\n",
       "    <tr>\n",
       "      <th>2020-01-03</th>\n",
       "      <td>NaN</td>\n",
       "      <td>NaN</td>\n",
       "      <td>NaN</td>\n",
       "      <td>NaN</td>\n",
       "      <td>NaN</td>\n",
       "      <td>NaN</td>\n",
       "      <td>NaN</td>\n",
       "    </tr>\n",
       "    <tr>\n",
       "      <th>2020-01-06</th>\n",
       "      <td>74.047249</td>\n",
       "      <td>1891.953328</td>\n",
       "      <td>210.350001</td>\n",
       "      <td>1376.003377</td>\n",
       "      <td>330.513326</td>\n",
       "      <td>213.811117</td>\n",
       "      <td>107.393499</td>\n",
       "    </tr>\n",
       "    <tr>\n",
       "      <th>2020-01-07</th>\n",
       "      <td>73.885559</td>\n",
       "      <td>1894.903320</td>\n",
       "      <td>211.443334</td>\n",
       "      <td>1384.813354</td>\n",
       "      <td>330.826660</td>\n",
       "      <td>213.602564</td>\n",
       "      <td>107.659406</td>\n",
       "    </tr>\n",
       "    <tr>\n",
       "      <th>2020-01-08</th>\n",
       "      <td>74.360741</td>\n",
       "      <td>1900.569987</td>\n",
       "      <td>213.626668</td>\n",
       "      <td>1399.320028</td>\n",
       "      <td>335.279999</td>\n",
       "      <td>214.585714</td>\n",
       "      <td>106.180295</td>\n",
       "    </tr>\n",
       "    <tr>\n",
       "      <th>...</th>\n",
       "      <td>...</td>\n",
       "      <td>...</td>\n",
       "      <td>...</td>\n",
       "      <td>...</td>\n",
       "      <td>...</td>\n",
       "      <td>...</td>\n",
       "      <td>...</td>\n",
       "    </tr>\n",
       "    <tr>\n",
       "      <th>2021-03-18</th>\n",
       "      <td>123.620000</td>\n",
       "      <td>3085.193359</td>\n",
       "      <td>280.636668</td>\n",
       "      <td>2062.483276</td>\n",
       "      <td>517.753347</td>\n",
       "      <td>317.771983</td>\n",
       "      <td>13.450000</td>\n",
       "    </tr>\n",
       "    <tr>\n",
       "      <th>2021-03-19</th>\n",
       "      <td>121.760000</td>\n",
       "      <td>3079.559977</td>\n",
       "      <td>284.246663</td>\n",
       "      <td>2043.506632</td>\n",
       "      <td>513.803335</td>\n",
       "      <td>315.295125</td>\n",
       "      <td>13.733333</td>\n",
       "    </tr>\n",
       "    <tr>\n",
       "      <th>2021-03-22</th>\n",
       "      <td>121.303332</td>\n",
       "      <td>3071.273356</td>\n",
       "      <td>287.423330</td>\n",
       "      <td>2026.329956</td>\n",
       "      <td>513.359996</td>\n",
       "      <td>314.333801</td>\n",
       "      <td>13.816667</td>\n",
       "    </tr>\n",
       "    <tr>\n",
       "      <th>2021-03-23</th>\n",
       "      <td>121.973333</td>\n",
       "      <td>3107.776693</td>\n",
       "      <td>291.426666</td>\n",
       "      <td>2032.993286</td>\n",
       "      <td>523.460002</td>\n",
       "      <td>316.191671</td>\n",
       "      <td>13.563334</td>\n",
       "    </tr>\n",
       "    <tr>\n",
       "      <th>2021-03-24</th>\n",
       "      <td>122.447001</td>\n",
       "      <td>3127.346680</td>\n",
       "      <td>290.360006</td>\n",
       "      <td>2041.766642</td>\n",
       "      <td>528.910014</td>\n",
       "      <td>317.359996</td>\n",
       "      <td>13.410000</td>\n",
       "    </tr>\n",
       "  </tbody>\n",
       "</table>\n",
       "<p>309 rows × 7 columns</p>\n",
       "</div>"
      ],
      "text/plain": [
       "                  AAPL         AMZN          FB        GOOGL        NFLX  \\\n",
       "Date                                                                       \n",
       "2020-01-02         NaN          NaN         NaN          NaN         NaN   \n",
       "2020-01-03         NaN          NaN         NaN          NaN         NaN   \n",
       "2020-01-06   74.047249  1891.953328  210.350001  1376.003377  330.513326   \n",
       "2020-01-07   73.885559  1894.903320  211.443334  1384.813354  330.826660   \n",
       "2020-01-08   74.360741  1900.569987  213.626668  1399.320028  335.279999   \n",
       "...                ...          ...         ...          ...         ...   \n",
       "2021-03-18  123.620000  3085.193359  280.636668  2062.483276  517.753347   \n",
       "2021-03-19  121.760000  3079.559977  284.246663  2043.506632  513.803335   \n",
       "2021-03-22  121.303332  3071.273356  287.423330  2026.329956  513.359996   \n",
       "2021-03-23  121.973333  3107.776693  291.426666  2032.993286  523.460002   \n",
       "2021-03-24  122.447001  3127.346680  290.360006  2041.766642  528.910014   \n",
       "\n",
       "                   QQQ        SQQQ  \n",
       "Date                                \n",
       "2020-01-02         NaN         NaN  \n",
       "2020-01-03         NaN         NaN  \n",
       "2020-01-06  213.811117  107.393499  \n",
       "2020-01-07  213.602564  107.659406  \n",
       "2020-01-08  214.585714  106.180295  \n",
       "...                ...         ...  \n",
       "2021-03-18  317.771983   13.450000  \n",
       "2021-03-19  315.295125   13.733333  \n",
       "2021-03-22  314.333801   13.816667  \n",
       "2021-03-23  316.191671   13.563334  \n",
       "2021-03-24  317.359996   13.410000  \n",
       "\n",
       "[309 rows x 7 columns]"
      ]
     },
     "execution_count": 37,
     "metadata": {},
     "output_type": "execute_result"
    }
   ],
   "source": [
    "data.rolling(3).mean()"
   ]
  },
  {
   "cell_type": "markdown",
   "metadata": {},
   "source": [
    "## Magia III: matriz de covarianzas, correlacion, etc.."
   ]
  },
  {
   "cell_type": "code",
   "execution_count": 38,
   "metadata": {},
   "outputs": [
    {
     "data": {
      "text/html": [
       "<div>\n",
       "<style scoped>\n",
       "    .dataframe tbody tr th:only-of-type {\n",
       "        vertical-align: middle;\n",
       "    }\n",
       "\n",
       "    .dataframe tbody tr th {\n",
       "        vertical-align: top;\n",
       "    }\n",
       "\n",
       "    .dataframe thead th {\n",
       "        text-align: right;\n",
       "    }\n",
       "</style>\n",
       "<table border=\"1\" class=\"dataframe\">\n",
       "  <thead>\n",
       "    <tr style=\"text-align: right;\">\n",
       "      <th></th>\n",
       "      <th>AAPL</th>\n",
       "      <th>AMZN</th>\n",
       "      <th>FB</th>\n",
       "      <th>GOOGL</th>\n",
       "      <th>NFLX</th>\n",
       "      <th>QQQ</th>\n",
       "      <th>SQQQ</th>\n",
       "    </tr>\n",
       "  </thead>\n",
       "  <tbody>\n",
       "    <tr>\n",
       "      <th>AAPL</th>\n",
       "      <td>0.000792</td>\n",
       "      <td>0.000454</td>\n",
       "      <td>0.000590</td>\n",
       "      <td>0.000480</td>\n",
       "      <td>0.000453</td>\n",
       "      <td>0.000540</td>\n",
       "      <td>-0.001595</td>\n",
       "    </tr>\n",
       "    <tr>\n",
       "      <th>AMZN</th>\n",
       "      <td>0.000454</td>\n",
       "      <td>0.000535</td>\n",
       "      <td>0.000437</td>\n",
       "      <td>0.000364</td>\n",
       "      <td>0.000462</td>\n",
       "      <td>0.000392</td>\n",
       "      <td>-0.001160</td>\n",
       "    </tr>\n",
       "    <tr>\n",
       "      <th>FB</th>\n",
       "      <td>0.000590</td>\n",
       "      <td>0.000437</td>\n",
       "      <td>0.000764</td>\n",
       "      <td>0.000508</td>\n",
       "      <td>0.000457</td>\n",
       "      <td>0.000478</td>\n",
       "      <td>-0.001417</td>\n",
       "    </tr>\n",
       "    <tr>\n",
       "      <th>GOOGL</th>\n",
       "      <td>0.000480</td>\n",
       "      <td>0.000364</td>\n",
       "      <td>0.000508</td>\n",
       "      <td>0.000560</td>\n",
       "      <td>0.000377</td>\n",
       "      <td>0.000437</td>\n",
       "      <td>-0.001291</td>\n",
       "    </tr>\n",
       "    <tr>\n",
       "      <th>NFLX</th>\n",
       "      <td>0.000453</td>\n",
       "      <td>0.000462</td>\n",
       "      <td>0.000457</td>\n",
       "      <td>0.000377</td>\n",
       "      <td>0.000870</td>\n",
       "      <td>0.000402</td>\n",
       "      <td>-0.001181</td>\n",
       "    </tr>\n",
       "    <tr>\n",
       "      <th>QQQ</th>\n",
       "      <td>0.000540</td>\n",
       "      <td>0.000392</td>\n",
       "      <td>0.000478</td>\n",
       "      <td>0.000437</td>\n",
       "      <td>0.000402</td>\n",
       "      <td>0.000458</td>\n",
       "      <td>-0.001346</td>\n",
       "    </tr>\n",
       "    <tr>\n",
       "      <th>SQQQ</th>\n",
       "      <td>-0.001595</td>\n",
       "      <td>-0.001160</td>\n",
       "      <td>-0.001417</td>\n",
       "      <td>-0.001291</td>\n",
       "      <td>-0.001181</td>\n",
       "      <td>-0.001346</td>\n",
       "      <td>0.003969</td>\n",
       "    </tr>\n",
       "  </tbody>\n",
       "</table>\n",
       "</div>"
      ],
      "text/plain": [
       "           AAPL      AMZN        FB     GOOGL      NFLX       QQQ      SQQQ\n",
       "AAPL   0.000792  0.000454  0.000590  0.000480  0.000453  0.000540 -0.001595\n",
       "AMZN   0.000454  0.000535  0.000437  0.000364  0.000462  0.000392 -0.001160\n",
       "FB     0.000590  0.000437  0.000764  0.000508  0.000457  0.000478 -0.001417\n",
       "GOOGL  0.000480  0.000364  0.000508  0.000560  0.000377  0.000437 -0.001291\n",
       "NFLX   0.000453  0.000462  0.000457  0.000377  0.000870  0.000402 -0.001181\n",
       "QQQ    0.000540  0.000392  0.000478  0.000437  0.000402  0.000458 -0.001346\n",
       "SQQQ  -0.001595 -0.001160 -0.001417 -0.001291 -0.001181 -0.001346  0.003969"
      ]
     },
     "execution_count": 38,
     "metadata": {},
     "output_type": "execute_result"
    }
   ],
   "source": [
    "data.pct_change().cov()"
   ]
  },
  {
   "cell_type": "code",
   "execution_count": 39,
   "metadata": {
    "scrolled": false
   },
   "outputs": [
    {
     "data": {
      "text/html": [
       "<div>\n",
       "<style scoped>\n",
       "    .dataframe tbody tr th:only-of-type {\n",
       "        vertical-align: middle;\n",
       "    }\n",
       "\n",
       "    .dataframe tbody tr th {\n",
       "        vertical-align: top;\n",
       "    }\n",
       "\n",
       "    .dataframe thead th {\n",
       "        text-align: right;\n",
       "    }\n",
       "</style>\n",
       "<table border=\"1\" class=\"dataframe\">\n",
       "  <thead>\n",
       "    <tr style=\"text-align: right;\">\n",
       "      <th></th>\n",
       "      <th>AAPL</th>\n",
       "      <th>AMZN</th>\n",
       "      <th>FB</th>\n",
       "      <th>GOOGL</th>\n",
       "      <th>NFLX</th>\n",
       "      <th>QQQ</th>\n",
       "      <th>SQQQ</th>\n",
       "    </tr>\n",
       "  </thead>\n",
       "  <tbody>\n",
       "    <tr>\n",
       "      <th>AAPL</th>\n",
       "      <td>1.000000</td>\n",
       "      <td>0.697945</td>\n",
       "      <td>0.757745</td>\n",
       "      <td>0.720660</td>\n",
       "      <td>0.545726</td>\n",
       "      <td>0.895776</td>\n",
       "      <td>-0.899544</td>\n",
       "    </tr>\n",
       "    <tr>\n",
       "      <th>AMZN</th>\n",
       "      <td>0.697945</td>\n",
       "      <td>1.000000</td>\n",
       "      <td>0.683366</td>\n",
       "      <td>0.664386</td>\n",
       "      <td>0.677008</td>\n",
       "      <td>0.791807</td>\n",
       "      <td>-0.796281</td>\n",
       "    </tr>\n",
       "    <tr>\n",
       "      <th>FB</th>\n",
       "      <td>0.757745</td>\n",
       "      <td>0.683366</td>\n",
       "      <td>1.000000</td>\n",
       "      <td>0.776866</td>\n",
       "      <td>0.560196</td>\n",
       "      <td>0.807169</td>\n",
       "      <td>-0.813334</td>\n",
       "    </tr>\n",
       "    <tr>\n",
       "      <th>GOOGL</th>\n",
       "      <td>0.720660</td>\n",
       "      <td>0.664386</td>\n",
       "      <td>0.776866</td>\n",
       "      <td>1.000000</td>\n",
       "      <td>0.539990</td>\n",
       "      <td>0.862266</td>\n",
       "      <td>-0.865385</td>\n",
       "    </tr>\n",
       "    <tr>\n",
       "      <th>NFLX</th>\n",
       "      <td>0.545726</td>\n",
       "      <td>0.677008</td>\n",
       "      <td>0.560196</td>\n",
       "      <td>0.539990</td>\n",
       "      <td>1.000000</td>\n",
       "      <td>0.636317</td>\n",
       "      <td>-0.635470</td>\n",
       "    </tr>\n",
       "    <tr>\n",
       "      <th>QQQ</th>\n",
       "      <td>0.895776</td>\n",
       "      <td>0.791807</td>\n",
       "      <td>0.807169</td>\n",
       "      <td>0.862266</td>\n",
       "      <td>0.636317</td>\n",
       "      <td>1.000000</td>\n",
       "      <td>-0.997878</td>\n",
       "    </tr>\n",
       "    <tr>\n",
       "      <th>SQQQ</th>\n",
       "      <td>-0.899544</td>\n",
       "      <td>-0.796281</td>\n",
       "      <td>-0.813334</td>\n",
       "      <td>-0.865385</td>\n",
       "      <td>-0.635470</td>\n",
       "      <td>-0.997878</td>\n",
       "      <td>1.000000</td>\n",
       "    </tr>\n",
       "  </tbody>\n",
       "</table>\n",
       "</div>"
      ],
      "text/plain": [
       "           AAPL      AMZN        FB     GOOGL      NFLX       QQQ      SQQQ\n",
       "AAPL   1.000000  0.697945  0.757745  0.720660  0.545726  0.895776 -0.899544\n",
       "AMZN   0.697945  1.000000  0.683366  0.664386  0.677008  0.791807 -0.796281\n",
       "FB     0.757745  0.683366  1.000000  0.776866  0.560196  0.807169 -0.813334\n",
       "GOOGL  0.720660  0.664386  0.776866  1.000000  0.539990  0.862266 -0.865385\n",
       "NFLX   0.545726  0.677008  0.560196  0.539990  1.000000  0.636317 -0.635470\n",
       "QQQ    0.895776  0.791807  0.807169  0.862266  0.636317  1.000000 -0.997878\n",
       "SQQQ  -0.899544 -0.796281 -0.813334 -0.865385 -0.635470 -0.997878  1.000000"
      ]
     },
     "execution_count": 39,
     "metadata": {},
     "output_type": "execute_result"
    }
   ],
   "source": [
    "data.pct_change().corr(method='pearson')"
   ]
  },
  {
   "cell_type": "code",
   "execution_count": 40,
   "metadata": {
    "scrolled": true
   },
   "outputs": [
    {
     "data": {
      "text/html": [
       "<div>\n",
       "<style scoped>\n",
       "    .dataframe tbody tr th:only-of-type {\n",
       "        vertical-align: middle;\n",
       "    }\n",
       "\n",
       "    .dataframe tbody tr th {\n",
       "        vertical-align: top;\n",
       "    }\n",
       "\n",
       "    .dataframe thead th {\n",
       "        text-align: right;\n",
       "    }\n",
       "</style>\n",
       "<table border=\"1\" class=\"dataframe\">\n",
       "  <thead>\n",
       "    <tr style=\"text-align: right;\">\n",
       "      <th></th>\n",
       "      <th>AAPL</th>\n",
       "      <th>AMZN</th>\n",
       "      <th>FB</th>\n",
       "      <th>GOOGL</th>\n",
       "      <th>NFLX</th>\n",
       "      <th>QQQ</th>\n",
       "      <th>SQQQ</th>\n",
       "    </tr>\n",
       "  </thead>\n",
       "  <tbody>\n",
       "    <tr>\n",
       "      <th>AAPL</th>\n",
       "      <td>1.000000</td>\n",
       "      <td>0.513347</td>\n",
       "      <td>0.501290</td>\n",
       "      <td>0.485427</td>\n",
       "      <td>0.397056</td>\n",
       "      <td>0.697661</td>\n",
       "      <td>-0.700227</td>\n",
       "    </tr>\n",
       "    <tr>\n",
       "      <th>AMZN</th>\n",
       "      <td>0.513347</td>\n",
       "      <td>1.000000</td>\n",
       "      <td>0.515081</td>\n",
       "      <td>0.491180</td>\n",
       "      <td>0.511951</td>\n",
       "      <td>0.622446</td>\n",
       "      <td>-0.624758</td>\n",
       "    </tr>\n",
       "    <tr>\n",
       "      <th>FB</th>\n",
       "      <td>0.501290</td>\n",
       "      <td>0.515081</td>\n",
       "      <td>1.000000</td>\n",
       "      <td>0.584035</td>\n",
       "      <td>0.391429</td>\n",
       "      <td>0.568848</td>\n",
       "      <td>-0.573571</td>\n",
       "    </tr>\n",
       "    <tr>\n",
       "      <th>GOOGL</th>\n",
       "      <td>0.485427</td>\n",
       "      <td>0.491180</td>\n",
       "      <td>0.584035</td>\n",
       "      <td>1.000000</td>\n",
       "      <td>0.356783</td>\n",
       "      <td>0.624053</td>\n",
       "      <td>-0.624843</td>\n",
       "    </tr>\n",
       "    <tr>\n",
       "      <th>NFLX</th>\n",
       "      <td>0.397056</td>\n",
       "      <td>0.511951</td>\n",
       "      <td>0.391429</td>\n",
       "      <td>0.356783</td>\n",
       "      <td>1.000000</td>\n",
       "      <td>0.470536</td>\n",
       "      <td>-0.469631</td>\n",
       "    </tr>\n",
       "    <tr>\n",
       "      <th>QQQ</th>\n",
       "      <td>0.697661</td>\n",
       "      <td>0.622446</td>\n",
       "      <td>0.568848</td>\n",
       "      <td>0.624053</td>\n",
       "      <td>0.470536</td>\n",
       "      <td>1.000000</td>\n",
       "      <td>-0.977019</td>\n",
       "    </tr>\n",
       "    <tr>\n",
       "      <th>SQQQ</th>\n",
       "      <td>-0.700227</td>\n",
       "      <td>-0.624758</td>\n",
       "      <td>-0.573571</td>\n",
       "      <td>-0.624843</td>\n",
       "      <td>-0.469631</td>\n",
       "      <td>-0.977019</td>\n",
       "      <td>1.000000</td>\n",
       "    </tr>\n",
       "  </tbody>\n",
       "</table>\n",
       "</div>"
      ],
      "text/plain": [
       "           AAPL      AMZN        FB     GOOGL      NFLX       QQQ      SQQQ\n",
       "AAPL   1.000000  0.513347  0.501290  0.485427  0.397056  0.697661 -0.700227\n",
       "AMZN   0.513347  1.000000  0.515081  0.491180  0.511951  0.622446 -0.624758\n",
       "FB     0.501290  0.515081  1.000000  0.584035  0.391429  0.568848 -0.573571\n",
       "GOOGL  0.485427  0.491180  0.584035  1.000000  0.356783  0.624053 -0.624843\n",
       "NFLX   0.397056  0.511951  0.391429  0.356783  1.000000  0.470536 -0.469631\n",
       "QQQ    0.697661  0.622446  0.568848  0.624053  0.470536  1.000000 -0.977019\n",
       "SQQQ  -0.700227 -0.624758 -0.573571 -0.624843 -0.469631 -0.977019  1.000000"
      ]
     },
     "execution_count": 40,
     "metadata": {},
     "output_type": "execute_result"
    }
   ],
   "source": [
    "data.pct_change().corr(method='kendall')"
   ]
  },
  {
   "cell_type": "code",
   "execution_count": null,
   "metadata": {},
   "outputs": [],
   "source": []
  },
  {
   "cell_type": "code",
   "execution_count": null,
   "metadata": {},
   "outputs": [],
   "source": []
  },
  {
   "cell_type": "markdown",
   "metadata": {},
   "source": [
    "## Magia IV: Estadística descriptiva"
   ]
  },
  {
   "cell_type": "code",
   "execution_count": 41,
   "metadata": {},
   "outputs": [
    {
     "data": {
      "text/plain": [
       "AAPL     0.445108\n",
       "AMZN     0.365654\n",
       "FB       0.437144\n",
       "GOOGL    0.374307\n",
       "NFLX     0.466295\n",
       "QQQ      0.338516\n",
       "SQQQ     0.996140\n",
       "dtype: float64"
      ]
     },
     "execution_count": 41,
     "metadata": {},
     "output_type": "execute_result"
    }
   ],
   "source": [
    "data.pct_change().std() * (250**0.5)"
   ]
  },
  {
   "cell_type": "code",
   "execution_count": null,
   "metadata": {},
   "outputs": [],
   "source": []
  },
  {
   "cell_type": "code",
   "execution_count": null,
   "metadata": {},
   "outputs": [],
   "source": []
  },
  {
   "cell_type": "markdown",
   "metadata": {},
   "source": [
    "que mas?"
   ]
  },
  {
   "cell_type": "code",
   "execution_count": null,
   "metadata": {},
   "outputs": [],
   "source": []
  },
  {
   "cell_type": "code",
   "execution_count": null,
   "metadata": {},
   "outputs": [],
   "source": []
  },
  {
   "cell_type": "code",
   "execution_count": null,
   "metadata": {},
   "outputs": [],
   "source": []
  },
  {
   "cell_type": "code",
   "execution_count": null,
   "metadata": {},
   "outputs": [],
   "source": []
  },
  {
   "cell_type": "code",
   "execution_count": null,
   "metadata": {},
   "outputs": [],
   "source": []
  },
  {
   "cell_type": "code",
   "execution_count": null,
   "metadata": {},
   "outputs": [],
   "source": []
  },
  {
   "cell_type": "code",
   "execution_count": null,
   "metadata": {},
   "outputs": [],
   "source": []
  },
  {
   "cell_type": "code",
   "execution_count": null,
   "metadata": {},
   "outputs": [],
   "source": []
  },
  {
   "cell_type": "markdown",
   "metadata": {},
   "source": [
    "## Magia V: Conversiones, ej. dataFrame a diccionario"
   ]
  },
  {
   "cell_type": "code",
   "execution_count": 42,
   "metadata": {},
   "outputs": [],
   "source": [
    "volatilidades = (data.pct_change().std() * (250**0.5)).to_dict()"
   ]
  },
  {
   "cell_type": "code",
   "execution_count": 43,
   "metadata": {},
   "outputs": [
    {
     "data": {
      "text/plain": [
       "{'AAPL': 0.4451078315000331,\n",
       " 'AMZN': 0.365653577853201,\n",
       " 'FB': 0.43714397511020986,\n",
       " 'GOOGL': 0.3743067400897252,\n",
       " 'NFLX': 0.4662948037730501,\n",
       " 'QQQ': 0.3385159164724522,\n",
       " 'SQQQ': 0.9961401497911267}"
      ]
     },
     "execution_count": 43,
     "metadata": {},
     "output_type": "execute_result"
    }
   ],
   "source": [
    "volatilidades"
   ]
  },
  {
   "cell_type": "code",
   "execution_count": 44,
   "metadata": {},
   "outputs": [
    {
     "data": {
      "text/plain": [
       "0.43714397511020986"
      ]
     },
     "execution_count": 44,
     "metadata": {},
     "output_type": "execute_result"
    }
   ],
   "source": [
    "volatilidades['FB']"
   ]
  },
  {
   "cell_type": "markdown",
   "metadata": {},
   "source": [
    "## Magia VI: Graficos rápidos"
   ]
  },
  {
   "cell_type": "code",
   "execution_count": 45,
   "metadata": {},
   "outputs": [
    {
     "data": {
      "text/plain": [
       "<AxesSubplot:>"
      ]
     },
     "execution_count": 45,
     "metadata": {},
     "output_type": "execute_result"
    },
    {
     "data": {
      "image/png": "[encoded data removed]",
      "text/plain": [
       "<Figure size 432x288 with 1 Axes>"
      ]
     },
     "metadata": {
      "needs_background": "light"
     },
     "output_type": "display_data"
    }
   ],
   "source": [
    "(data.pct_change().std() * (250**0.5)).plot(kind='bar')"
   ]
  },
  {
   "cell_type": "code",
   "execution_count": 46,
   "metadata": {},
   "outputs": [
    {
     "data": {
      "text/plain": [
       "<AxesSubplot:xlabel='Date'>"
      ]
     },
     "execution_count": 46,
     "metadata": {},
     "output_type": "execute_result"
    },
    {
     "data": {
      "image/png": "[encoded data removed]",
      "text/plain": [
       "<Figure size 432x288 with 1 Axes>"
      ]
     },
     "metadata": {
      "needs_background": "light"
     },
     "output_type": "display_data"
    }
   ],
   "source": [
    "(data.pct_change()+1).cumprod().plot()"
   ]
  },
  {
   "cell_type": "code",
   "execution_count": 47,
   "metadata": {},
   "outputs": [
    {
     "data": {
      "text/plain": [
       "<AxesSubplot:>"
      ]
     },
     "execution_count": 47,
     "metadata": {},
     "output_type": "execute_result"
    },
    {
     "data": {
      "image/png": "[encoded data removed]",
      "text/plain": [
       "<Figure size 432x288 with 1 Axes>"
      ]
     },
     "metadata": {
      "needs_background": "light"
     },
     "output_type": "display_data"
    }
   ],
   "source": [
    "data.QQQ.pct_change().hist(bins=100)"
   ]
  },
  {
   "cell_type": "markdown",
   "metadata": {},
   "source": [
    "# Excepciones"
   ]
  },
  {
   "cell_type": "code",
   "execution_count": 48,
   "metadata": {
    "scrolled": true
   },
   "outputs": [
    {
     "name": "stdout",
     "output_type": "stream",
     "text": [
      "0.5\n"
     ]
    }
   ],
   "source": [
    "a = 10\n",
    "b = 20\n",
    "\n",
    "c = a / b\n",
    "\n",
    "print(c)"
   ]
  },
  {
   "cell_type": "code",
   "execution_count": 49,
   "metadata": {},
   "outputs": [
    {
     "ename": "ZeroDivisionError",
     "evalue": "division by zero",
     "output_type": "error",
     "traceback": [
      "\u001b[1;31m---------------------------------------------------------------------------\u001b[0m",
      "\u001b[1;31mZeroDivisionError\u001b[0m                         Traceback (most recent call last)",
      "\u001b[1;32m<ipython-input-49-3fe8e33753fa>\u001b[0m in \u001b[0;36m<module>\u001b[1;34m\u001b[0m\n\u001b[0;32m      2\u001b[0m \u001b[0mb\u001b[0m \u001b[1;33m=\u001b[0m \u001b[1;36m0\u001b[0m\u001b[1;33m\u001b[0m\u001b[1;33m\u001b[0m\u001b[0m\n\u001b[0;32m      3\u001b[0m \u001b[1;33m\u001b[0m\u001b[0m\n\u001b[1;32m----> 4\u001b[1;33m \u001b[0mc\u001b[0m \u001b[1;33m=\u001b[0m \u001b[0ma\u001b[0m \u001b[1;33m/\u001b[0m \u001b[0mb\u001b[0m\u001b[1;33m\u001b[0m\u001b[1;33m\u001b[0m\u001b[0m\n\u001b[0m\u001b[0;32m      5\u001b[0m \u001b[1;33m\u001b[0m\u001b[0m\n\u001b[0;32m      6\u001b[0m \u001b[1;33m\u001b[0m\u001b[0m\n",
      "\u001b[1;31mZeroDivisionError\u001b[0m: division by zero"
     ]
    }
   ],
   "source": [
    "a = 10\n",
    "b = 0\n",
    "\n",
    "c = a / b\n",
    "\n",
    "\n",
    "print('Hola ya terminé el paso de la division')\n",
    "print(c)\n"
   ]
  },
  {
   "cell_type": "code",
   "execution_count": null,
   "metadata": {},
   "outputs": [],
   "source": [
    "a = 10\n",
    "b = 0\n",
    "\n",
    "try:\n",
    "    c = a / b\n",
    "except:\n",
    "    print('no pude hacer la division')\n",
    "    c = None\n",
    "\n",
    "print('Hola ya terminé el paso de la division')\n",
    "print(c)\n"
   ]
  },
  {
   "cell_type": "code",
   "execution_count": null,
   "metadata": {},
   "outputs": [],
   "source": []
  },
  {
   "cell_type": "code",
   "execution_count": null,
   "metadata": {},
   "outputs": [],
   "source": []
  },
  {
   "cell_type": "code",
   "execution_count": null,
   "metadata": {},
   "outputs": [],
   "source": []
  },
  {
   "cell_type": "code",
   "execution_count": null,
   "metadata": {},
   "outputs": [],
   "source": []
  },
  {
   "cell_type": "code",
   "execution_count": 50,
   "metadata": {},
   "outputs": [
    {
     "name": "stdout",
     "output_type": "stream",
     "text": [
      "Por aca pasa siempre\n",
      "No se puede dividir por cero\n"
     ]
    }
   ],
   "source": [
    "a = 10\n",
    "b = 0\n",
    "c = None\n",
    "\n",
    "try:\n",
    "    c = a / b\n",
    "except:\n",
    "    c = 'No se puede dividir por cero'\n",
    "finally:\n",
    "    print('Por aca pasa siempre')\n",
    "\n",
    "\n",
    "print(c)"
   ]
  },
  {
   "cell_type": "code",
   "execution_count": null,
   "metadata": {},
   "outputs": [],
   "source": []
  },
  {
   "cell_type": "code",
   "execution_count": null,
   "metadata": {},
   "outputs": [],
   "source": []
  },
  {
   "cell_type": "code",
   "execution_count": null,
   "metadata": {},
   "outputs": [],
   "source": []
  },
  {
   "cell_type": "code",
   "execution_count": null,
   "metadata": {},
   "outputs": [],
   "source": []
  },
  {
   "cell_type": "code",
   "execution_count": null,
   "metadata": {},
   "outputs": [],
   "source": []
  },
  {
   "cell_type": "code",
   "execution_count": null,
   "metadata": {},
   "outputs": [],
   "source": []
  },
  {
   "cell_type": "code",
   "execution_count": null,
   "metadata": {},
   "outputs": [],
   "source": []
  },
  {
   "cell_type": "code",
   "execution_count": null,
   "metadata": {},
   "outputs": [],
   "source": []
  },
  {
   "cell_type": "code",
   "execution_count": null,
   "metadata": {},
   "outputs": [],
   "source": []
  },
  {
   "cell_type": "markdown",
   "metadata": {},
   "source": [
    "# Operadores Lógicos"
   ]
  },
  {
   "cell_type": "markdown",
   "metadata": {},
   "source": [
    "Antes de la sentencia IF veamos las condiciones por separado"
   ]
  },
  {
   "cell_type": "markdown",
   "metadata": {},
   "source": [
    "Una condicion escrita devuelve un return, es decir que pueda darle salida a una condicion y meterle ese return a una variable"
   ]
  },
  {
   "cell_type": "code",
   "execution_count": 51,
   "metadata": {},
   "outputs": [
    {
     "data": {
      "text/plain": [
       "True"
      ]
     },
     "execution_count": 51,
     "metadata": {},
     "output_type": "execute_result"
    }
   ],
   "source": [
    "COME = 2.75\n",
    "\n",
    "COME < 3"
   ]
  },
  {
   "cell_type": "code",
   "execution_count": 52,
   "metadata": {},
   "outputs": [
    {
     "data": {
      "text/plain": [
       "False"
      ]
     },
     "execution_count": 52,
     "metadata": {},
     "output_type": "execute_result"
    }
   ],
   "source": [
    "COME == 3"
   ]
  },
  {
   "cell_type": "code",
   "execution_count": 53,
   "metadata": {},
   "outputs": [],
   "source": [
    "resultado_pregunta = COME == 3"
   ]
  },
  {
   "cell_type": "code",
   "execution_count": 54,
   "metadata": {
    "scrolled": true
   },
   "outputs": [
    {
     "data": {
      "text/plain": [
       "False"
      ]
     },
     "execution_count": 54,
     "metadata": {},
     "output_type": "execute_result"
    }
   ],
   "source": [
    "resultado_pregunta"
   ]
  },
  {
   "cell_type": "code",
   "execution_count": 55,
   "metadata": {
    "scrolled": true
   },
   "outputs": [
    {
     "name": "stdout",
     "output_type": "stream",
     "text": [
      "False\n"
     ]
    }
   ],
   "source": [
    "pregunta = COME > 3\n",
    "print(pregunta)"
   ]
  },
  {
   "cell_type": "code",
   "execution_count": 56,
   "metadata": {
    "scrolled": true
   },
   "outputs": [
    {
     "name": "stdout",
     "output_type": "stream",
     "text": [
      "False False True\n"
     ]
    }
   ],
   "source": [
    "print(COME > 3, COME == 3, COME < 3)"
   ]
  },
  {
   "cell_type": "code",
   "execution_count": 57,
   "metadata": {},
   "outputs": [],
   "source": [
    "come_menor_3 = COME < 3"
   ]
  },
  {
   "cell_type": "code",
   "execution_count": 58,
   "metadata": {},
   "outputs": [
    {
     "data": {
      "text/plain": [
       "True"
      ]
     },
     "execution_count": 58,
     "metadata": {},
     "output_type": "execute_result"
    }
   ],
   "source": [
    "come_menor_3"
   ]
  },
  {
   "cell_type": "code",
   "execution_count": 59,
   "metadata": {},
   "outputs": [
    {
     "data": {
      "text/plain": [
       "True"
      ]
     },
     "execution_count": 59,
     "metadata": {},
     "output_type": "execute_result"
    }
   ],
   "source": [
    "portafolio = ['AAPL', 'FB', 'GOOGL', 'GGAL']\n",
    "\n",
    "'GGAL' in portafolio"
   ]
  },
  {
   "cell_type": "code",
   "execution_count": 60,
   "metadata": {},
   "outputs": [
    {
     "data": {
      "text/plain": [
       "False"
      ]
     },
     "execution_count": 60,
     "metadata": {},
     "output_type": "execute_result"
    }
   ],
   "source": [
    "accion = 'YPF'\n",
    "\n",
    "accion in portafolio"
   ]
  },
  {
   "cell_type": "code",
   "execution_count": null,
   "metadata": {},
   "outputs": [],
   "source": []
  },
  {
   "cell_type": "code",
   "execution_count": 61,
   "metadata": {},
   "outputs": [
    {
     "data": {
      "text/plain": [
       "False"
      ]
     },
     "execution_count": 61,
     "metadata": {},
     "output_type": "execute_result"
    }
   ],
   "source": [
    "COME == 3"
   ]
  },
  {
   "cell_type": "code",
   "execution_count": 62,
   "metadata": {},
   "outputs": [],
   "source": [
    "come_igual_3 = COME ==3"
   ]
  },
  {
   "cell_type": "code",
   "execution_count": null,
   "metadata": {},
   "outputs": [],
   "source": []
  },
  {
   "cell_type": "code",
   "execution_count": 63,
   "metadata": {},
   "outputs": [
    {
     "data": {
      "text/plain": [
       "False"
      ]
     },
     "execution_count": 63,
     "metadata": {},
     "output_type": "execute_result"
    }
   ],
   "source": [
    "come_igual_3"
   ]
  },
  {
   "cell_type": "markdown",
   "metadata": {},
   "source": [
    "Comparadores:\n",
    "    \n",
    "    * ==  Es igual a ?\n",
    "    * !=  Es distinto a?\n",
    "    * > \n",
    "    * >=\n",
    "    * <\n",
    "    * <=\n",
    "\n",
    "    * is\n",
    "    * is not\n",
    "    * in\n",
    "    * not in"
   ]
  },
  {
   "cell_type": "code",
   "execution_count": 64,
   "metadata": {},
   "outputs": [
    {
     "data": {
      "text/plain": [
       "['GGAL', 'PAMP', 'YPFD', 'CEPU', 'EDN', 'LOMA', 'CRES']"
      ]
     },
     "execution_count": 64,
     "metadata": {},
     "output_type": "execute_result"
    }
   ],
   "source": [
    "listado = [\"GGAL\",\"PAMP\",\"YPFD\",\"CEPU\",\"EDN\",\"LOMA\",\"CRES\"]\n",
    "listado"
   ]
  },
  {
   "cell_type": "code",
   "execution_count": 65,
   "metadata": {},
   "outputs": [
    {
     "data": {
      "text/plain": [
       "False"
      ]
     },
     "execution_count": 65,
     "metadata": {},
     "output_type": "execute_result"
    }
   ],
   "source": [
    "ticker = \"GGAL\"\n",
    "\n",
    "ticker not in listado"
   ]
  },
  {
   "cell_type": "code",
   "execution_count": null,
   "metadata": {},
   "outputs": [],
   "source": []
  },
  {
   "cell_type": "code",
   "execution_count": null,
   "metadata": {},
   "outputs": [],
   "source": []
  },
  {
   "cell_type": "code",
   "execution_count": null,
   "metadata": {},
   "outputs": [],
   "source": []
  },
  {
   "cell_type": "markdown",
   "metadata": {},
   "source": [
    "## RECUERDEN\n",
    "\n",
    "\n",
    "    * Un signo igual solo es una asignacion\n",
    "    * Dos signos igual es una pregunta"
   ]
  },
  {
   "cell_type": "markdown",
   "metadata": {},
   "source": [
    "# Sentencia IF"
   ]
  },
  {
   "cell_type": "markdown",
   "metadata": {},
   "source": [
    "Los condicionales son los que definen \"ramas\" del flujo, véanlas como \"bifurcaciones\""
   ]
  },
  {
   "cell_type": "markdown",
   "metadata": {},
   "source": [
    "Obviamente la sentencia IF lo que hace es preguntar si se cumple o no una condicion, en caso afirmativo ejecuta la línea que sigue despues de los DOS PUNTOS, caso negativo termina ahí si no hay else, pero si hubiera un else, ejecuta la línea o líneas que siguen despues de os DOS PUNTOS del else"
   ]
  },
  {
   "cell_type": "raw",
   "metadata": {},
   "source": [
    "Estrctura del IF\n",
    "\n",
    "if (condicion):\n",
    "    1° linea de codigo\n",
    "    2° línea de codigo\n",
    "    --------\n",
    "    n° linea de codigo\n",
    "else:\n",
    "    1° linea de codigo\n",
    "    2° línea de codigo\n",
    "    --------\n",
    "    n° linea de codigo"
   ]
  },
  {
   "cell_type": "markdown",
   "metadata": {},
   "source": [
    "## Concepto de la indentación"
   ]
  },
  {
   "cell_type": "code",
   "execution_count": 70,
   "metadata": {},
   "outputs": [
    {
     "name": "stdout",
     "output_type": "stream",
     "text": [
      "entro por el si\n"
     ]
    }
   ],
   "source": [
    "COME = 3\n",
    "\n",
    "if COME > 1:\n",
    "    print('entro por el si')\n",
    "else:\n",
    "    print('entro por el no')"
   ]
  },
  {
   "cell_type": "code",
   "execution_count": null,
   "metadata": {},
   "outputs": [],
   "source": []
  },
  {
   "cell_type": "code",
   "execution_count": null,
   "metadata": {},
   "outputs": [],
   "source": []
  },
  {
   "cell_type": "code",
   "execution_count": null,
   "metadata": {},
   "outputs": [],
   "source": []
  },
  {
   "cell_type": "code",
   "execution_count": 68,
   "metadata": {},
   "outputs": [
    {
     "name": "stdout",
     "output_type": "stream",
     "text": [
      "AAPL está en la cartera\n"
     ]
    }
   ],
   "source": [
    "accion = \"AAPL\"\n",
    "cartera = [\"AAPL\",\"AMZN\",\"FB\"]\n",
    "\n",
    "if accion in cartera:\n",
    "    print(f\"{accion} está en la cartera\")\n",
    "\n",
    "else:\n",
    "    print(F\"{accion} NO está en la cartera\")"
   ]
  },
  {
   "cell_type": "markdown",
   "metadata": {},
   "source": [
    "También se puede usar el operador con el <b>not</b> adelante como cualquier otro operador"
   ]
  },
  {
   "cell_type": "code",
   "execution_count": 71,
   "metadata": {},
   "outputs": [
    {
     "name": "stdout",
     "output_type": "stream",
     "text": [
      "Ojo que GGAL NO está en la cartera\n"
     ]
    }
   ],
   "source": [
    "accion = \"GGAL\"\n",
    "cartera = [\"AAPL\",\"AMZN\",\"FB\"]\n",
    "\n",
    "if accion not in cartera:\n",
    "    print(f\"Ojo que {accion} NO está en la cartera\")\n",
    "else:\n",
    "    pass\n",
    "    # ojo poner aca tal cosa\n"
   ]
  },
  {
   "cell_type": "code",
   "execution_count": null,
   "metadata": {},
   "outputs": [],
   "source": []
  },
  {
   "cell_type": "code",
   "execution_count": null,
   "metadata": {},
   "outputs": [],
   "source": []
  },
  {
   "cell_type": "markdown",
   "metadata": {},
   "source": [
    "# Concatenados / Anidados"
   ]
  },
  {
   "cell_type": "markdown",
   "metadata": {},
   "source": [
    "<img src=\"imagenes/decisiones.png\" style=\"width:150%;float:left;margin-left:-50px;margin-top:-20px;\">"
   ]
  },
  {
   "cell_type": "markdown",
   "metadata": {},
   "source": [
    "<img src=\"imagenes/decisiones.png\" style=\"float:left;width:90%\">"
   ]
  },
  {
   "cell_type": "markdown",
   "metadata": {},
   "source": [
    "## Ejemplo IF Anidado"
   ]
  },
  {
   "cell_type": "code",
   "execution_count": 72,
   "metadata": {},
   "outputs": [
    {
     "name": "stdout",
     "output_type": "stream",
     "text": [
      "Ingresar el precio: 8\n",
      "Resistencia a vencer:  10\n"
     ]
    }
   ],
   "source": [
    "# Tarea arregla este script por si el usuario manda cualquier fruta por teclado\n",
    "\n",
    "resistencias = [7,10,15,20]\n",
    "precio = float(input(\"Ingresar el precio: \"))\n",
    "\n",
    "if precio < resistencias[0]:\n",
    "    print(\"Resistencia a vencer: \", resistencias[0])\n",
    "    \n",
    "elif precio < resistencias[1]:\n",
    "    print(\"Resistencia a vencer: \", resistencias[1])\n",
    "    \n",
    "elif precio < resistencias[2]:\n",
    "    print(\"Resistencia a vencer: \", resistencias[2])\n",
    "    \n",
    "elif precio < resistencias[3]:\n",
    "    print(\"Resistencia a vencer: \", resistencias[3])  \n",
    "    \n",
    "else:\n",
    "    print(\"Estamos en máximos históricos\")\n",
    "    \n"
   ]
  },
  {
   "cell_type": "code",
   "execution_count": null,
   "metadata": {},
   "outputs": [],
   "source": []
  },
  {
   "cell_type": "code",
   "execution_count": null,
   "metadata": {},
   "outputs": [],
   "source": []
  },
  {
   "cell_type": "code",
   "execution_count": null,
   "metadata": {},
   "outputs": [],
   "source": []
  },
  {
   "cell_type": "code",
   "execution_count": null,
   "metadata": {},
   "outputs": [],
   "source": []
  },
  {
   "cell_type": "markdown",
   "metadata": {},
   "source": [
    "EJERCICIO: Hacer esto mismo pero con un FOR en lugar de los IFs anidados"
   ]
  },
  {
   "cell_type": "code",
   "execution_count": null,
   "metadata": {},
   "outputs": [],
   "source": []
  },
  {
   "cell_type": "code",
   "execution_count": null,
   "metadata": {},
   "outputs": [],
   "source": []
  },
  {
   "cell_type": "code",
   "execution_count": null,
   "metadata": {},
   "outputs": [],
   "source": []
  },
  {
   "cell_type": "code",
   "execution_count": null,
   "metadata": {},
   "outputs": [],
   "source": []
  },
  {
   "cell_type": "markdown",
   "metadata": {},
   "source": [
    "## Hardcodeando"
   ]
  },
  {
   "cell_type": "code",
   "execution_count": 73,
   "metadata": {},
   "outputs": [
    {
     "name": "stdout",
     "output_type": "stream",
     "text": [
      "Resistencia a vencer:  15\n"
     ]
    }
   ],
   "source": [
    "precio = 10\n",
    "\n",
    "if precio < resistencias[0]:\n",
    "    print(\"Resistencia a vencer: \", resistencias[0])\n",
    "\n",
    "if (precio < resistencias[1]) & (precio >= resistencias[0]):\n",
    "    print(\"Resistencia a vencer: \", resistencias[1])\n",
    "\n",
    "if (precio < resistencias[2]) & (precio >= resistencias[1]):\n",
    "    print(\"Resistencia a vencer: \", resistencias[2])\n",
    "\n",
    "if (precio < resistencias[3]) & (precio >= resistencias[2]):\n",
    "    print(\"Resistencia a vencer: \", resistencias[3])\n",
    "\n",
    "if precio > resistencias[3]:\n",
    "    print(\"Estamos en maximos historicos\")\n"
   ]
  },
  {
   "cell_type": "code",
   "execution_count": null,
   "metadata": {},
   "outputs": [],
   "source": []
  },
  {
   "cell_type": "markdown",
   "metadata": {},
   "source": [
    "## Ejemplo IF anidado"
   ]
  },
  {
   "cell_type": "code",
   "execution_count": 74,
   "metadata": {},
   "outputs": [
    {
     "name": "stdout",
     "output_type": "stream",
     "text": [
      "Ingresar precio actual: 96\n",
      "Hold\n"
     ]
    }
   ],
   "source": [
    "precio = float(input(\"Ingresar precio actual: \"))\n",
    "stopLoss = 95\n",
    "takeProfit = 110\n",
    "\n",
    "if precio > stopLoss:\n",
    "    if precio < takeProfit:\n",
    "        print(\"Hold\")\n",
    "    else:\n",
    "        print(\"Salida por take Profit\")\n",
    "else:\n",
    "    print(\"Salida por Stop Loss\")"
   ]
  },
  {
   "cell_type": "code",
   "execution_count": null,
   "metadata": {},
   "outputs": [],
   "source": []
  },
  {
   "cell_type": "code",
   "execution_count": null,
   "metadata": {},
   "outputs": [],
   "source": []
  },
  {
   "cell_type": "markdown",
   "metadata": {},
   "source": [
    "# Bucles FOR/WHILE"
   ]
  },
  {
   "cell_type": "markdown",
   "metadata": {},
   "source": [
    "## FOR"
   ]
  },
  {
   "cell_type": "code",
   "execution_count": 75,
   "metadata": {},
   "outputs": [
    {
     "name": "stdout",
     "output_type": "stream",
     "text": [
      "2\n",
      "5\n",
      "8\n",
      "11\n",
      "14\n"
     ]
    }
   ],
   "source": [
    "for i in [0,1,2,3,4]:\n",
    "    print(i*3+2)"
   ]
  },
  {
   "cell_type": "code",
   "execution_count": 76,
   "metadata": {},
   "outputs": [
    {
     "name": "stdout",
     "output_type": "stream",
     "text": [
      "0\n",
      "1\n",
      "2\n",
      "3\n",
      "4\n",
      "Terminé\n"
     ]
    }
   ],
   "source": [
    "for i in [0,1,2,3,4]:\n",
    "    print(i)\n",
    "else:\n",
    "    print('Terminé')"
   ]
  },
  {
   "cell_type": "code",
   "execution_count": null,
   "metadata": {},
   "outputs": [],
   "source": []
  },
  {
   "cell_type": "markdown",
   "metadata": {},
   "source": [
    "## WHILE"
   ]
  },
  {
   "cell_type": "code",
   "execution_count": 77,
   "metadata": {},
   "outputs": [
    {
     "name": "stdout",
     "output_type": "stream",
     "text": [
      "1\n",
      "2\n",
      "3\n",
      "4\n",
      "ya termine ahora i vale 5\n"
     ]
    }
   ],
   "source": [
    "i = 1\n",
    "while i <= 4 :\n",
    "    print(i)\n",
    "    i += 1     # es lo mismo que:  i = i + 1\n",
    "    \n",
    "    \n",
    "print(f'ya termine ahora i vale {i}')"
   ]
  },
  {
   "cell_type": "code",
   "execution_count": 78,
   "metadata": {},
   "outputs": [
    {
     "name": "stdout",
     "output_type": "stream",
     "text": [
      "1\n",
      "2\n",
      "3\n",
      "4\n",
      "terminé\n"
     ]
    }
   ],
   "source": [
    "i = 1\n",
    "while i <= 4 :\n",
    "    print(i)\n",
    "    i += 1\n",
    "else:\n",
    "    print('terminé')"
   ]
  },
  {
   "cell_type": "code",
   "execution_count": null,
   "metadata": {},
   "outputs": [],
   "source": []
  },
  {
   "cell_type": "code",
   "execution_count": null,
   "metadata": {},
   "outputs": [],
   "source": []
  },
  {
   "cell_type": "markdown",
   "metadata": {},
   "source": [
    "## Ejemplo de estadistica"
   ]
  },
  {
   "cell_type": "markdown",
   "metadata": {},
   "source": [
    "Cual es la probabilidad de estar mas de 2 desvios afuera en una normal estandar?"
   ]
  },
  {
   "cell_type": "code",
   "execution_count": 79,
   "metadata": {},
   "outputs": [
    {
     "data": {
      "text/plain": [
       "array([ 1.24945525, -0.86668022,  1.70248426, -1.71705931, -0.62025832,\n",
       "        0.47630942,  0.10848062,  0.74387064,  0.35084528,  0.63563989])"
      ]
     },
     "execution_count": 79,
     "metadata": {},
     "output_type": "execute_result"
    }
   ],
   "source": [
    "import numpy as np\n",
    "\n",
    "variaciones = np.random.normal(0,1,1000)\n",
    "\n",
    "variaciones[:10]"
   ]
  },
  {
   "cell_type": "code",
   "execution_count": 80,
   "metadata": {},
   "outputs": [
    {
     "name": "stdout",
     "output_type": "stream",
     "text": [
      "2.14 -3.36 -2.1 2.43 2.45 2.01 2.25 -2.93 -2.53 -2.12 2.41 -2.14 -2.09 2.46 -2.63 -2.25 -2.01 2.01 -2.08 -2.39 2.29 2.31 2.8 -2.22 -2.75 3.13 -2.45 2.23 -2.45 -2.27 2.21 2.88 -2.46 -2.01 -2.11 -2.16 -2.57 2.53 -2.0 2.28 -2.42 2.03 -2.05 "
     ]
    }
   ],
   "source": [
    "import numpy as np\n",
    "\n",
    "variaciones = np.random.normal(0,1,1000)\n",
    "\n",
    "for variacion in variaciones:\n",
    "    if abs(variacion) > 2:\n",
    "        print(round(variacion,2), end=' ')"
   ]
  },
  {
   "cell_type": "code",
   "execution_count": 85,
   "metadata": {},
   "outputs": [
    {
     "data": {
      "text/plain": [
       "56"
      ]
     },
     "execution_count": 85,
     "metadata": {},
     "output_type": "execute_result"
    }
   ],
   "source": [
    "variaciones = np.random.normal(0,1,1000)\n",
    "outliers = []\n",
    "\n",
    "for variacion in variaciones:\n",
    "    if abs(variacion) > 2:\n",
    "        outliers.append(round(variacion,2))\n",
    "        \n",
    "len(outliers)"
   ]
  },
  {
   "cell_type": "markdown",
   "metadata": {},
   "source": [
    "## Un FOR adentro de otro?"
   ]
  },
  {
   "cell_type": "code",
   "execution_count": 88,
   "metadata": {},
   "outputs": [
    {
     "name": "stdout",
     "output_type": "stream",
     "text": [
      "45286\n",
      "45406\n",
      "45339\n",
      "45572\n",
      "45232\n",
      "45635\n",
      "45846\n",
      "45527\n",
      "45592\n",
      "45576\n"
     ]
    }
   ],
   "source": [
    "for i in range(10):\n",
    "    variaciones = np.random.normal(0,1,10**6)\n",
    "    outliers = []\n",
    "    for variacion in variaciones:\n",
    "        if abs(variacion) > 2:\n",
    "            outliers.append(round(variacion,2))\n",
    "    print(len(outliers))"
   ]
  },
  {
   "cell_type": "code",
   "execution_count": null,
   "metadata": {},
   "outputs": [],
   "source": []
  },
  {
   "cell_type": "code",
   "execution_count": null,
   "metadata": {},
   "outputs": [],
   "source": []
  },
  {
   "cell_type": "code",
   "execution_count": null,
   "metadata": {},
   "outputs": [],
   "source": []
  },
  {
   "cell_type": "markdown",
   "metadata": {},
   "source": [
    "## Listas por comprensión"
   ]
  },
  {
   "cell_type": "markdown",
   "metadata": {},
   "source": [
    "### Ejemplo hiper basico"
   ]
  },
  {
   "cell_type": "code",
   "execution_count": 89,
   "metadata": {},
   "outputs": [
    {
     "data": {
      "text/plain": [
       "[0, 7, 14, 21, 28, 35, 42, 49, 56, 63, 70]"
      ]
     },
     "execution_count": 89,
     "metadata": {},
     "output_type": "execute_result"
    }
   ],
   "source": [
    "lista = []\n",
    "for i in range(0,11):\n",
    "    lista.append(i*7)\n",
    "lista"
   ]
  },
  {
   "cell_type": "code",
   "execution_count": null,
   "metadata": {},
   "outputs": [],
   "source": []
  },
  {
   "cell_type": "code",
   "execution_count": 90,
   "metadata": {},
   "outputs": [
    {
     "data": {
      "text/plain": [
       "[0, 7, 14, 21, 28, 35, 42, 49, 56, 63, 70]"
      ]
     },
     "execution_count": 90,
     "metadata": {},
     "output_type": "execute_result"
    }
   ],
   "source": [
    "lista2 = [x*7 for x in range(0,11)]\n",
    "lista2"
   ]
  },
  {
   "cell_type": "code",
   "execution_count": null,
   "metadata": {},
   "outputs": [],
   "source": []
  },
  {
   "cell_type": "code",
   "execution_count": null,
   "metadata": {},
   "outputs": [],
   "source": []
  },
  {
   "cell_type": "code",
   "execution_count": null,
   "metadata": {},
   "outputs": [],
   "source": []
  },
  {
   "cell_type": "code",
   "execution_count": null,
   "metadata": {},
   "outputs": [],
   "source": []
  },
  {
   "cell_type": "code",
   "execution_count": null,
   "metadata": {},
   "outputs": [],
   "source": []
  },
  {
   "cell_type": "markdown",
   "metadata": {},
   "source": [
    "# Ciclos infinitos"
   ]
  },
  {
   "cell_type": "markdown",
   "metadata": {},
   "source": [
    "## Corte por Break"
   ]
  },
  {
   "cell_type": "code",
   "execution_count": 93,
   "metadata": {},
   "outputs": [
    {
     "name": "stdout",
     "output_type": "stream",
     "text": [
      "Cada un segundo imprimo fecha/hora:  2021-03-24 14:01:24.239425\n",
      "Cada un segundo imprimo fecha/hora:  2021-03-24 14:01:25.242944\n",
      "Cada un segundo imprimo fecha/hora:  2021-03-24 14:01:26.247957\n",
      "Cada un segundo imprimo fecha/hora:  2021-03-24 14:01:27.259128\n",
      "Cada un segundo imprimo fecha/hora:  2021-03-24 14:01:28.267815\n",
      "Cada un segundo imprimo fecha/hora:  2021-03-24 14:01:29.274966\n"
     ]
    }
   ],
   "source": [
    "import time, datetime\n",
    "\n",
    "i = 0\n",
    "while True:\n",
    "    print(\"Cada un segundo imprimo fecha/hora: \", datetime.datetime.now())\n",
    "    time.sleep(1)\n",
    "    i += 1\n",
    "    if i>5:\n",
    "        break\n",
    "        print('Salida por break')"
   ]
  },
  {
   "cell_type": "markdown",
   "metadata": {},
   "source": [
    "## Corte por teclado"
   ]
  },
  {
   "cell_type": "code",
   "execution_count": 94,
   "metadata": {},
   "outputs": [
    {
     "name": "stdout",
     "output_type": "stream",
     "text": [
      "Cada un segundo imprimo 2021-03-24 14:01:31.324473\n",
      "Cada un segundo imprimo 2021-03-24 14:01:32.330854\n",
      "Cada un segundo imprimo 2021-03-24 14:01:33.332323\n",
      "Cada un segundo imprimo 2021-03-24 14:01:34.343925\n"
     ]
    },
    {
     "ename": "KeyboardInterrupt",
     "evalue": "",
     "output_type": "error",
     "traceback": [
      "\u001b[1;31m---------------------------------------------------------------------------\u001b[0m",
      "\u001b[1;31mKeyboardInterrupt\u001b[0m                         Traceback (most recent call last)",
      "\u001b[1;32m<ipython-input-94-f789e3c98a79>\u001b[0m in \u001b[0;36m<module>\u001b[1;34m\u001b[0m\n\u001b[0;32m      3\u001b[0m \u001b[1;32mwhile\u001b[0m \u001b[1;32mTrue\u001b[0m\u001b[1;33m:\u001b[0m\u001b[1;33m\u001b[0m\u001b[1;33m\u001b[0m\u001b[0m\n\u001b[0;32m      4\u001b[0m     \u001b[0mprint\u001b[0m\u001b[1;33m(\u001b[0m\u001b[1;34m\"Cada un segundo imprimo\"\u001b[0m\u001b[1;33m,\u001b[0m \u001b[0mdatetime\u001b[0m\u001b[1;33m.\u001b[0m\u001b[0mdatetime\u001b[0m\u001b[1;33m.\u001b[0m\u001b[0mnow\u001b[0m\u001b[1;33m(\u001b[0m\u001b[1;33m)\u001b[0m\u001b[1;33m)\u001b[0m\u001b[1;33m\u001b[0m\u001b[1;33m\u001b[0m\u001b[0m\n\u001b[1;32m----> 5\u001b[1;33m     \u001b[0mtime\u001b[0m\u001b[1;33m.\u001b[0m\u001b[0msleep\u001b[0m\u001b[1;33m(\u001b[0m\u001b[1;36m1\u001b[0m\u001b[1;33m)\u001b[0m\u001b[1;33m\u001b[0m\u001b[1;33m\u001b[0m\u001b[0m\n\u001b[0m\u001b[0;32m      6\u001b[0m \u001b[1;33m\u001b[0m\u001b[0m\n",
      "\u001b[1;31mKeyboardInterrupt\u001b[0m: "
     ]
    }
   ],
   "source": [
    "import time, datetime\n",
    "\n",
    "while True:\n",
    "    print(\"Cada un segundo imprimo\", datetime.datetime.now())\n",
    "    time.sleep(1)\n",
    "    "
   ]
  },
  {
   "cell_type": "code",
   "execution_count": null,
   "metadata": {},
   "outputs": [],
   "source": []
  }
 ],
 "metadata": {
  "kernelspec": {
   "display_name": "Python 3",
   "language": "python",
   "name": "python3"
  },
  "language_info": {
   "codemirror_mode": {
    "name": "ipython",
    "version": 3
   },
   "file_extension": ".py",
   "mimetype": "text/x-python",
   "name": "python",
   "nbconvert_exporter": "python",
   "pygments_lexer": "ipython3",
   "version": "3.8.5"
  },
  "toc": {
   "base_numbering": 1,
   "nav_menu": {},
   "number_sections": true,
   "sideBar": true,
   "skip_h1_title": false,
   "title_cell": "Table of Contents",
   "title_sidebar": "Contents",
   "toc_cell": false,
   "toc_position": {},
   "toc_section_display": true,
   "toc_window_display": true
  }
 },
 "nbformat": 4,
 "nbformat_minor": 4
}
