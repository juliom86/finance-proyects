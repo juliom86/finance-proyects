{
 "cells": [
  {
   "cell_type": "markdown",
   "id": "534de66d",
   "metadata": {},
   "source": [
    "# Ejercicios de pérdida impermanente"
   ]
  },
  {
   "cell_type": "markdown",
   "id": "9bc51ca4",
   "metadata": {},
   "source": [
    "1- Leer el concepto de pooles de liquidez, su esquema de funcionamiento con producto constante y el cálculo de impremanent loss "
   ]
  },
  {
   "cell_type": "markdown",
   "id": "5f6b7fcb",
   "metadata": {},
   "source": [
    "Fórmulas necesarias, siendo f(x), la impermant loss, una función del ratio de variacion relativa de precios como se indica"
   ]
  },
  {
   "cell_type": "markdown",
   "id": "a203d039",
   "metadata": {},
   "source": [
    "$$ \\Large f{(x)} = 2 * \\frac{\\sqrt{x}}{1+x}-1 $$"
   ]
  },
  {
   "cell_type": "markdown",
   "id": "f545e3c2",
   "metadata": {},
   "source": [
    "$$ \\Large x = \\frac{\\Delta_{precio_B}}{\\Delta_{precio_A}} $$"
   ]
  },
  {
   "cell_type": "markdown",
   "id": "50aa4792",
   "metadata": {},
   "source": [
    "Referencias: \n",
    "    \n",
    "    * https://academy.binance.com/es/articles/impermanent-loss-explained\n",
    "    * Con video y ejemplos (Ingles): https://finematics.com/impermanent-loss-explained/\n",
    "            \n",
    "    "
   ]
  },
  {
   "cell_type": "markdown",
   "id": "81757553",
   "metadata": {},
   "source": [
    "2- Definir una función que pasando como argumento las variaciones relativas de precios entre los activos A y B, me devuelva el % de pérdida impermanente por proveer liquidez a ese pool respecto al buy&Hold de dichos activos"
   ]
  },
  {
   "cell_type": "markdown",
   "id": "56c95032",
   "metadata": {},
   "source": [
    "3- Dados los datos:\n",
    "    \n",
    "    * pi_a, pi_b (precios iniciales de activos A y B)\n",
    "    * pf_a, pf_b (precios finales de activos A y B)\n",
    "    * monto = el monto invertido en proveer liquidez al pool"
   ]
  },
  {
   "cell_type": "code",
   "execution_count": 1,
   "id": "0475d6dc",
   "metadata": {},
   "outputs": [],
   "source": [
    "# Datos\n",
    "\n",
    "pi_a, pi_b = 100, 100\n",
    "pf_a, pf_b = 100, 38\n",
    "\n",
    "monto = 1000"
   ]
  },
  {
   "cell_type": "markdown",
   "id": "6a3c3171",
   "metadata": {},
   "source": [
    "Calcular:\n",
    "\n",
    "    3a- El valor de la inversion para un inversor que haga hold 50% y 50% de ambos activos sin proveer liquidez\n",
    "    3b- La pérdida impermanente por aportar liquidez en ese pool 50% y 50% en activos A y B\n",
    "    3c- El valor final para un inversor que aporte liquidez al pool \n",
    "    3d- Las cantidades iniciales de ambos activos en nominales\n",
    "    3e- Las cantidades fianles de ambos activos en nominales\n",
    "        \n"
   ]
  },
  {
   "cell_type": "markdown",
   "id": "3284f714",
   "metadata": {},
   "source": [
    "4- Realizar un gráfico de f(x) es decir de pérdida % impermanente en función de la variacion relativa de precios entre los activos A y B"
   ]
  },
  {
   "cell_type": "markdown",
   "id": "a081fb8d",
   "metadata": {},
   "source": [
    "4b- Realizar el gráfico anterior en el rango de variación relativa de precios de 50% a 200%"
   ]
  },
  {
   "cell_type": "markdown",
   "id": "6e05a74b",
   "metadata": {},
   "source": [
    "# Respuestas"
   ]
  },
  {
   "cell_type": "code",
   "execution_count": 2,
   "id": "fb967c89",
   "metadata": {},
   "outputs": [],
   "source": [
    "#===========================#\n",
    "#       Ejercicio 2         #\n",
    "#===========================#\n",
    "\n",
    "def imp_loss(price_ratio):\n",
    "    return 2 * (price_ratio**0.5 / (1 + price_ratio)) - 1"
   ]
  },
  {
   "cell_type": "code",
   "execution_count": 3,
   "id": "e06b52e4",
   "metadata": {},
   "outputs": [
    {
     "data": {
      "text/plain": [
       "690.0"
      ]
     },
     "execution_count": 3,
     "metadata": {},
     "output_type": "execute_result"
    }
   ],
   "source": [
    "#============================#\n",
    "#       Ejercicio 3a         #\n",
    "#============================#\n",
    "\n",
    "vf_buyHold = monto/2/pi_a * pf_a + monto/2/pi_b * pf_b\n",
    "vf_buyHold"
   ]
  },
  {
   "cell_type": "code",
   "execution_count": 4,
   "id": "9dd2640a",
   "metadata": {},
   "outputs": [
    {
     "data": {
      "text/plain": [
       "-0.10660666623638015"
      ]
     },
     "execution_count": 4,
     "metadata": {},
     "output_type": "execute_result"
    }
   ],
   "source": [
    "#============================#\n",
    "#       Ejercicio 3b         #\n",
    "#============================#\n",
    "\n",
    "perdida_impermanente = imp_loss(pf_b/pf_a)\n",
    "perdida_impermanente"
   ]
  },
  {
   "cell_type": "code",
   "execution_count": 5,
   "id": "7880e8c2",
   "metadata": {},
   "outputs": [
    {
     "data": {
      "text/plain": [
       "616.4414002968977"
      ]
     },
     "execution_count": 5,
     "metadata": {},
     "output_type": "execute_result"
    }
   ],
   "source": [
    "#============================#\n",
    "#       Ejercicio 3c         #\n",
    "#============================#\n",
    "\n",
    "vf = vf_buyHold * (1+perdida_impermanente)\n",
    "vf"
   ]
  },
  {
   "cell_type": "code",
   "execution_count": 6,
   "id": "afd0c8a7",
   "metadata": {},
   "outputs": [
    {
     "data": {
      "text/plain": [
       "(5.0, 5.0)"
      ]
     },
     "execution_count": 6,
     "metadata": {},
     "output_type": "execute_result"
    }
   ],
   "source": [
    "#============================#\n",
    "#       Ejercicio 3d         #\n",
    "#============================#\n",
    "\n",
    "qi_a, qi_b = monto/2/pi_a, monto/2/pi_b\n",
    "qi_a, qi_b"
   ]
  },
  {
   "cell_type": "code",
   "execution_count": 7,
   "id": "b5a4079a",
   "metadata": {},
   "outputs": [
    {
     "data": {
      "text/plain": [
       "(3.0822070014844885, 8.111071056538128)"
      ]
     },
     "execution_count": 7,
     "metadata": {},
     "output_type": "execute_result"
    }
   ],
   "source": [
    "#============================#\n",
    "#       Ejercicio 3e         #\n",
    "#============================#\n",
    "\n",
    "qf_a, qf_b = vf/2/pf_a, vf/2/pf_b\n",
    "qf_a, qf_b"
   ]
  },
  {
   "cell_type": "code",
   "execution_count": 8,
   "id": "04124bc8",
   "metadata": {},
   "outputs": [
    {
     "data": {
      "text/plain": [
       "<AxesSubplot:>"
      ]
     },
     "execution_count": 8,
     "metadata": {},
     "output_type": "execute_result"
    },
    {
     "data": {
      "image/png": "[encoded data removed]",
      "text/plain": [
       "<Figure size 432x288 with 1 Axes>"
      ]
     },
     "metadata": {
      "needs_background": "light"
     },
     "output_type": "display_data"
    }
   ],
   "source": [
    "#===========================#\n",
    "#       Ejercicio 4         #\n",
    "#===========================#\n",
    "\n",
    "import numpy as np\n",
    "import pandas as pd\n",
    "\n",
    "price_ratios = np.linspace(0, 5, 1000, endpoint=False)\n",
    "imp_losses = [100 * imp_loss(price_ratio) for price_ratio in price_ratios]\n",
    "\n",
    "df = pd.DataFrame(data=imp_losses, index=price_ratios, columns=['imp_loss'])\n",
    "df.plot()"
   ]
  },
  {
   "cell_type": "code",
   "execution_count": 10,
   "id": "2ab5a685",
   "metadata": {},
   "outputs": [
    {
     "data": {
      "text/plain": [
       "<AxesSubplot:>"
      ]
     },
     "execution_count": 10,
     "metadata": {},
     "output_type": "execute_result"
    },
    {
     "data": {
      "image/png": "[encoded data removed]",
      "text/plain": [
       "<Figure size 432x288 with 1 Axes>"
      ]
     },
     "metadata": {
      "needs_background": "light"
     },
     "output_type": "display_data"
    }
   ],
   "source": [
    "#============================#\n",
    "#       Ejercicio 4b         #\n",
    "#============================#\n",
    "\n",
    "df.loc[0.5:2].plot()"
   ]
  },
  {
   "cell_type": "code",
   "execution_count": null,
   "id": "7f2e667e",
   "metadata": {},
   "outputs": [],
   "source": []
  }
 ],
 "metadata": {
  "kernelspec": {
   "display_name": "Python 3",
   "language": "python",
   "name": "python3"
  },
  "language_info": {
   "codemirror_mode": {
    "name": "ipython",
    "version": 3
   },
   "file_extension": ".py",
   "mimetype": "text/x-python",
   "name": "python",
   "nbconvert_exporter": "python",
   "pygments_lexer": "ipython3",
   "version": "3.8.5"
  },
  "toc": {
   "base_numbering": 1,
   "nav_menu": {},
   "number_sections": true,
   "sideBar": true,
   "skip_h1_title": false,
   "title_cell": "Table of Contents",
   "title_sidebar": "Contents",
   "toc_cell": false,
   "toc_position": {},
   "toc_section_display": true,
   "toc_window_display": false
  }
 },
 "nbformat": 4,
 "nbformat_minor": 5
}
