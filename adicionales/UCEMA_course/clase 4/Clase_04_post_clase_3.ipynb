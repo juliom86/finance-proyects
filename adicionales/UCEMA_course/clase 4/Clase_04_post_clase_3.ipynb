{
 "cells": [
  {
   "cell_type": "markdown",
   "metadata": {},
   "source": [
    "# Diccionarios"
   ]
  },
  {
   "cell_type": "markdown",
   "metadata": {},
   "source": [
    "Un diccionario es una estructura Clave=>Valor\n",
    "<br>Por ejemplo en lugar de tener un listado de las notas de mis alumnos, podria tener un diccionario con la nota asignada al nombre de cada uno"
   ]
  },
  {
   "cell_type": "markdown",
   "metadata": {},
   "source": [
    "## Estruuctura del diccionario\n",
    "\n",
    "* Abre con: {\n",
    "* Cierra con: }\n",
    "* Los elementos se separan con comas\n",
    "* Los elementos del diccionario tienen clave y valor\n",
    "* La clave se escribe entre comillas preferentemente\n",
    "* EL valor se escribe entre comillas solo si es un string\n",
    "* Entre clave y valor va un \":\" "
   ]
  },
  {
   "cell_type": "code",
   "execution_count": 1,
   "metadata": {
    "scrolled": true
   },
   "outputs": [
    {
     "data": {
      "text/plain": [
       "dict"
      ]
     },
     "execution_count": 1,
     "metadata": {},
     "output_type": "execute_result"
    }
   ],
   "source": [
    "diccionario = {\"ALUA\":29.35 , \"BBAR\":120.85 , \"BMA\":265.2 , \"BYMA\":[290,299]}\n",
    "type(diccionario)"
   ]
  },
  {
   "cell_type": "code",
   "execution_count": 2,
   "metadata": {},
   "outputs": [
    {
     "name": "stdout",
     "output_type": "stream",
     "text": [
      "{'ALUA': 29.35, 'BBAR': 120.85, 'BMA': 265.2, 'BYMA': [290, 299]}\n"
     ]
    }
   ],
   "source": [
    "print(diccionario)"
   ]
  },
  {
   "cell_type": "code",
   "execution_count": 4,
   "metadata": {},
   "outputs": [
    {
     "data": {
      "text/plain": [
       "120.85"
      ]
     },
     "execution_count": 4,
     "metadata": {},
     "output_type": "execute_result"
    }
   ],
   "source": [
    "diccionario[\"BBAR\"]"
   ]
  },
  {
   "cell_type": "code",
   "execution_count": 6,
   "metadata": {},
   "outputs": [
    {
     "data": {
      "text/plain": [
       "4"
      ]
     },
     "execution_count": 6,
     "metadata": {},
     "output_type": "execute_result"
    }
   ],
   "source": [
    "len(diccionario)"
   ]
  },
  {
   "cell_type": "code",
   "execution_count": 10,
   "metadata": {},
   "outputs": [
    {
     "ename": "KeyError",
     "evalue": "'AAPL'",
     "output_type": "error",
     "traceback": [
      "\u001b[1;31m---------------------------------------------------------------------------\u001b[0m",
      "\u001b[1;31mKeyError\u001b[0m                                  Traceback (most recent call last)",
      "\u001b[1;32m<ipython-input-10-7306c4793b6a>\u001b[0m in \u001b[0;36m<module>\u001b[1;34m\u001b[0m\n\u001b[0;32m      1\u001b[0m \u001b[1;31m# buscar activo para vender primero\u001b[0m\u001b[1;33m\u001b[0m\u001b[1;33m\u001b[0m\u001b[1;33m\u001b[0m\u001b[0m\n\u001b[0;32m      2\u001b[0m \u001b[1;33m\u001b[0m\u001b[0m\n\u001b[1;32m----> 3\u001b[1;33m \u001b[0mactivo_a_vender\u001b[0m \u001b[1;33m=\u001b[0m \u001b[0mdiccionario\u001b[0m\u001b[1;33m[\u001b[0m\u001b[1;34m\"AAPL\"\u001b[0m\u001b[1;33m]\u001b[0m\u001b[1;33m\u001b[0m\u001b[1;33m\u001b[0m\u001b[0m\n\u001b[0m\u001b[0;32m      4\u001b[0m \u001b[1;33m\u001b[0m\u001b[0m\n\u001b[0;32m      5\u001b[0m \u001b[0mprint\u001b[0m\u001b[1;33m(\u001b[0m\u001b[1;34m'estoy vendiendo'\u001b[0m\u001b[1;33m)\u001b[0m\u001b[1;33m\u001b[0m\u001b[1;33m\u001b[0m\u001b[0m\n",
      "\u001b[1;31mKeyError\u001b[0m: 'AAPL'"
     ]
    }
   ],
   "source": [
    "# buscar activo para vender primero\n",
    "\n",
    "activo_a_vender = diccionario[\"AAPL\"]\n",
    "\n",
    "print('estoy vendiendo')\n",
    "# vender el activo seleccionado"
   ]
  },
  {
   "cell_type": "markdown",
   "metadata": {},
   "source": [
    "## El método get()"
   ]
  },
  {
   "cell_type": "markdown",
   "metadata": {},
   "source": [
    "<br>\n",
    "Dos Formas de Acceder a los valores de una clave de un diccionario"
   ]
  },
  {
   "cell_type": "code",
   "execution_count": 11,
   "metadata": {},
   "outputs": [
    {
     "data": {
      "text/plain": [
       "120.85"
      ]
     },
     "execution_count": 11,
     "metadata": {},
     "output_type": "execute_result"
    }
   ],
   "source": [
    "diccionario['BBAR']"
   ]
  },
  {
   "cell_type": "code",
   "execution_count": 12,
   "metadata": {},
   "outputs": [
    {
     "data": {
      "text/plain": [
       "120.85"
      ]
     },
     "execution_count": 12,
     "metadata": {},
     "output_type": "execute_result"
    }
   ],
   "source": [
    "diccionario.get('BBAR')"
   ]
  },
  {
   "cell_type": "code",
   "execution_count": 13,
   "metadata": {},
   "outputs": [
    {
     "ename": "KeyError",
     "evalue": "'AAPL'",
     "output_type": "error",
     "traceback": [
      "\u001b[1;31m---------------------------------------------------------------------------\u001b[0m",
      "\u001b[1;31mKeyError\u001b[0m                                  Traceback (most recent call last)",
      "\u001b[1;32m<ipython-input-13-52f0b44be0cf>\u001b[0m in \u001b[0;36m<module>\u001b[1;34m\u001b[0m\n\u001b[1;32m----> 1\u001b[1;33m \u001b[0mrta\u001b[0m \u001b[1;33m=\u001b[0m \u001b[0mdiccionario\u001b[0m\u001b[1;33m[\u001b[0m\u001b[1;34m'AAPL'\u001b[0m\u001b[1;33m]\u001b[0m\u001b[1;33m\u001b[0m\u001b[1;33m\u001b[0m\u001b[0m\n\u001b[0m\u001b[0;32m      2\u001b[0m \u001b[0mprint\u001b[0m\u001b[1;33m(\u001b[0m\u001b[0mrta\u001b[0m\u001b[1;33m)\u001b[0m\u001b[1;33m\u001b[0m\u001b[1;33m\u001b[0m\u001b[0m\n",
      "\u001b[1;31mKeyError\u001b[0m: 'AAPL'"
     ]
    }
   ],
   "source": [
    "rta = diccionario['AAPL']\n",
    "print(rta)"
   ]
  },
  {
   "cell_type": "code",
   "execution_count": 16,
   "metadata": {
    "scrolled": true
   },
   "outputs": [
    {
     "name": "stdout",
     "output_type": "stream",
     "text": [
      "El bot sigue...  TICKER_DEFAULT\n"
     ]
    }
   ],
   "source": [
    "rta = diccionario.get('AAPL', 'TICKER_DEFAULT')\n",
    "print('El bot sigue... ', rta)"
   ]
  },
  {
   "cell_type": "code",
   "execution_count": null,
   "metadata": {},
   "outputs": [],
   "source": []
  },
  {
   "cell_type": "code",
   "execution_count": null,
   "metadata": {},
   "outputs": [],
   "source": []
  },
  {
   "cell_type": "code",
   "execution_count": null,
   "metadata": {},
   "outputs": [],
   "source": []
  },
  {
   "cell_type": "code",
   "execution_count": null,
   "metadata": {},
   "outputs": [],
   "source": []
  },
  {
   "cell_type": "markdown",
   "metadata": {},
   "source": [
    "Supongamos que sabemos que podria no estar el ticker buscado en el diccionario\n",
    "<br>Para ello conviene usar el método get, ya que tiene un valor por default en caso que el indice buscado no se encuentre para evitar que tire error el programa, ese valor por default es <b>None</b> es decir un dato nulo pero como decía no me tira error"
   ]
  },
  {
   "cell_type": "code",
   "execution_count": 8,
   "metadata": {},
   "outputs": [
    {
     "name": "stdout",
     "output_type": "stream",
     "text": [
      "None\n"
     ]
    }
   ],
   "source": [
    "print(diccionario.get('FRAN'))"
   ]
  },
  {
   "cell_type": "markdown",
   "metadata": {},
   "source": [
    "Asimismo puedo elegir el valor por default que me devuelva en caso de no encontrar el indice en el diccionario, es el segundo argumento que no es obligatorio"
   ]
  },
  {
   "cell_type": "code",
   "execution_count": 9,
   "metadata": {},
   "outputs": [
    {
     "name": "stdout",
     "output_type": "stream",
     "text": [
      "0\n"
     ]
    }
   ],
   "source": [
    "print(diccionario.get('FRAN',0))"
   ]
  },
  {
   "cell_type": "markdown",
   "metadata": {},
   "source": [
    "## Keys(), values() e items()"
   ]
  },
  {
   "cell_type": "markdown",
   "metadata": {},
   "source": [
    "<br>\n",
    "Accedemos por separado a las Claves y Valores"
   ]
  },
  {
   "cell_type": "code",
   "execution_count": 17,
   "metadata": {},
   "outputs": [
    {
     "name": "stdout",
     "output_type": "stream",
     "text": [
      "dict_keys(['ALUA', 'BBAR', 'BMA', 'BYMA'])\n"
     ]
    }
   ],
   "source": [
    "keys = diccionario.keys()\n",
    "print(keys)"
   ]
  },
  {
   "cell_type": "code",
   "execution_count": 18,
   "metadata": {},
   "outputs": [
    {
     "name": "stdout",
     "output_type": "stream",
     "text": [
      "dict_values([29.35, 120.85, 265.2, [290, 299]])\n"
     ]
    }
   ],
   "source": [
    "valores = diccionario.values()\n",
    "print(valores)"
   ]
  },
  {
   "cell_type": "code",
   "execution_count": 19,
   "metadata": {},
   "outputs": [
    {
     "data": {
      "text/plain": [
       "dict_keys"
      ]
     },
     "execution_count": 19,
     "metadata": {},
     "output_type": "execute_result"
    }
   ],
   "source": [
    "type(keys)"
   ]
  },
  {
   "cell_type": "code",
   "execution_count": 20,
   "metadata": {},
   "outputs": [
    {
     "data": {
      "text/plain": [
       "['ALUA', 'BBAR', 'BMA', 'BYMA']"
      ]
     },
     "execution_count": 20,
     "metadata": {},
     "output_type": "execute_result"
    }
   ],
   "source": [
    "claves_lista = list(keys)\n",
    "claves_lista"
   ]
  },
  {
   "cell_type": "code",
   "execution_count": 21,
   "metadata": {},
   "outputs": [
    {
     "name": "stdout",
     "output_type": "stream",
     "text": [
      "ALUA\n",
      "BBAR\n",
      "BMA\n",
      "BYMA\n"
     ]
    }
   ],
   "source": [
    "for key in keys:\n",
    "    print(key)"
   ]
  },
  {
   "cell_type": "code",
   "execution_count": null,
   "metadata": {},
   "outputs": [],
   "source": []
  },
  {
   "cell_type": "code",
   "execution_count": null,
   "metadata": {},
   "outputs": [],
   "source": []
  },
  {
   "cell_type": "code",
   "execution_count": null,
   "metadata": {},
   "outputs": [],
   "source": []
  },
  {
   "cell_type": "code",
   "execution_count": 22,
   "metadata": {
    "scrolled": true
   },
   "outputs": [
    {
     "name": "stdout",
     "output_type": "stream",
     "text": [
      "[29.35, 120.85, 265.2, [290, 299]]\n"
     ]
    }
   ],
   "source": [
    "values = list(diccionario.values())\n",
    "print(values)"
   ]
  },
  {
   "cell_type": "markdown",
   "metadata": {},
   "source": [
    "Accedemos a los pares Clave=>Valor"
   ]
  },
  {
   "cell_type": "code",
   "execution_count": 13,
   "metadata": {},
   "outputs": [
    {
     "name": "stdout",
     "output_type": "stream",
     "text": [
      "dict_items([('ALUA', 29.35), ('BBAR', 120.85), ('BMA', 265.2), ('BYMA', [290, 299])])\n"
     ]
    }
   ],
   "source": [
    "items = diccionario.items()\n",
    "print(items)"
   ]
  },
  {
   "cell_type": "code",
   "execution_count": 14,
   "metadata": {},
   "outputs": [
    {
     "name": "stdout",
     "output_type": "stream",
     "text": [
      "('ALUA', 29.35)\n"
     ]
    }
   ],
   "source": [
    "items = diccionario.items()\n",
    "print(list(items)[0])"
   ]
  },
  {
   "cell_type": "markdown",
   "metadata": {},
   "source": [
    "## Iterando un diccionario"
   ]
  },
  {
   "cell_type": "code",
   "execution_count": 6,
   "metadata": {},
   "outputs": [
    {
     "name": "stdout",
     "output_type": "stream",
     "text": [
      "la clave es ALUA, el valor es 29.35\n",
      "la clave es BBAR, el valor es 120.85\n",
      "la clave es BMA, el valor es 265.2\n",
      "la clave es BYMA, el valor es 100\n"
     ]
    }
   ],
   "source": [
    "diccionario = {\"ALUA\":29.35 , \"BBAR\":120.85 , \"BMA\":265.2 , \"BYMA\":100}\n",
    "\n",
    "for ticker, precio in diccionario.items():\n",
    "    print(f'la clave es {ticker}, el valor es {precio}')\n",
    "    "
   ]
  },
  {
   "cell_type": "code",
   "execution_count": null,
   "metadata": {},
   "outputs": [],
   "source": []
  },
  {
   "cell_type": "code",
   "execution_count": null,
   "metadata": {},
   "outputs": [],
   "source": []
  },
  {
   "cell_type": "code",
   "execution_count": null,
   "metadata": {},
   "outputs": [],
   "source": []
  },
  {
   "cell_type": "code",
   "execution_count": 26,
   "metadata": {},
   "outputs": [
    {
     "name": "stdout",
     "output_type": "stream",
     "text": [
      "el item es ('ALUA', 29.35)\n",
      "el item es ('BBAR', 120.85)\n",
      "el item es ('BMA', 265.2)\n",
      "el item es ('BYMA', [290, 299])\n"
     ]
    }
   ],
   "source": [
    "for tupla in diccionario.items():\n",
    "    print(f'el item es {tupla}')"
   ]
  },
  {
   "cell_type": "code",
   "execution_count": 27,
   "metadata": {},
   "outputs": [
    {
     "name": "stdout",
     "output_type": "stream",
     "text": [
      "la clave es ALUA, el valor es 29.35\n",
      "la clave es BBAR, el valor es 120.85\n",
      "la clave es BMA, el valor es 265.2\n",
      "la clave es BYMA, el valor es [290, 299]\n"
     ]
    }
   ],
   "source": [
    "for tupla in diccionario.items():\n",
    "    print(f'la clave es {tupla[0]}, el valor es {tupla[1]}')"
   ]
  },
  {
   "cell_type": "code",
   "execution_count": null,
   "metadata": {},
   "outputs": [],
   "source": []
  },
  {
   "cell_type": "code",
   "execution_count": 28,
   "metadata": {},
   "outputs": [
    {
     "data": {
      "text/plain": [
       "{'ALUA': 111, 'BBAR': 120.85, 'BMA': 265.2, 'BYMA': [290, 299]}"
      ]
     },
     "execution_count": 28,
     "metadata": {},
     "output_type": "execute_result"
    }
   ],
   "source": [
    "diccionario['ALUA'] = 111\n",
    "diccionario"
   ]
  },
  {
   "cell_type": "code",
   "execution_count": 29,
   "metadata": {},
   "outputs": [
    {
     "data": {
      "text/plain": [
       "{'ALUA': 29.35, 'BBAR': 120.85, 'BMA': 265.2, 'BYMA': [1, 2, 3]}"
      ]
     },
     "execution_count": 29,
     "metadata": {},
     "output_type": "execute_result"
    }
   ],
   "source": [
    "valores_BYMA = [1,2,3]\n",
    "diccionario = {\"ALUA\":29.35 , \"BBAR\":120.85 , \"BMA\":265.2 , \"BYMA\":valores_BYMA}\n",
    "\n",
    "diccionario"
   ]
  },
  {
   "cell_type": "code",
   "execution_count": 30,
   "metadata": {},
   "outputs": [
    {
     "data": {
      "text/plain": [
       "{'ALUA': 29.35, 'BBAR': 120.85, 'BMA': 265.2, 'BYMA': [1, 2, 3]}"
      ]
     },
     "execution_count": 30,
     "metadata": {},
     "output_type": "execute_result"
    }
   ],
   "source": [
    "valores_BYMA = 222\n",
    "diccionario"
   ]
  },
  {
   "cell_type": "code",
   "execution_count": null,
   "metadata": {},
   "outputs": [],
   "source": []
  },
  {
   "cell_type": "code",
   "execution_count": null,
   "metadata": {},
   "outputs": [],
   "source": []
  },
  {
   "cell_type": "code",
   "execution_count": null,
   "metadata": {},
   "outputs": [],
   "source": []
  },
  {
   "cell_type": "markdown",
   "metadata": {},
   "source": [
    "format string"
   ]
  },
  {
   "cell_type": "code",
   "execution_count": 23,
   "metadata": {},
   "outputs": [
    {
     "data": {
      "text/plain": [
       "dict_items([('ALUA', 29.35), ('BBAR', 120.85), ('BMA', 265.2), ('BYMA', [290, 299])])"
      ]
     },
     "execution_count": 23,
     "metadata": {},
     "output_type": "execute_result"
    }
   ],
   "source": [
    "diccionario.items()"
   ]
  },
  {
   "cell_type": "code",
   "execution_count": null,
   "metadata": {},
   "outputs": [],
   "source": []
  },
  {
   "cell_type": "code",
   "execution_count": 15,
   "metadata": {},
   "outputs": [
    {
     "name": "stdout",
     "output_type": "stream",
     "text": [
      "ALUA\n",
      "BBAR\n",
      "BMA\n",
      "BYMA\n"
     ]
    }
   ],
   "source": [
    "for k in diccionario.keys():\n",
    "    print(k)"
   ]
  },
  {
   "cell_type": "markdown",
   "metadata": {},
   "source": [
    "## La función zip()"
   ]
  },
  {
   "cell_type": "code",
   "execution_count": 27,
   "metadata": {},
   "outputs": [],
   "source": [
    "tickers = ['ALUA', 'BBAR', 'BMA', 'BYMA']\n",
    "precios = [1,2,3,4]\n",
    "volumenes = [100,120,130,140]\n",
    "\n",
    "paquete = zip(tickers, precios, volumenes)"
   ]
  },
  {
   "cell_type": "code",
   "execution_count": null,
   "metadata": {},
   "outputs": [],
   "source": []
  },
  {
   "cell_type": "code",
   "execution_count": 41,
   "metadata": {},
   "outputs": [
    {
     "name": "stdout",
     "output_type": "stream",
     "text": [
      "1\n",
      "2\n",
      "3\n",
      "4\n"
     ]
    }
   ],
   "source": [
    "tickers = ['ALUA', 'BBAR', 'BMA', 'BYMA']\n",
    "precios = [1, 2, 3, 4]\n",
    "volumenes = [100,120,130,140]\n",
    "\n",
    "paquete = zip(tickers, precios, volumenes)\n",
    "\n",
    "\n",
    "for t, p, v in paquete:\n",
    "    print(p)\n",
    "    "
   ]
  },
  {
   "cell_type": "code",
   "execution_count": 42,
   "metadata": {},
   "outputs": [
    {
     "data": {
      "text/plain": [
       "zip"
      ]
     },
     "execution_count": 42,
     "metadata": {},
     "output_type": "execute_result"
    }
   ],
   "source": [
    "paquete = zip(tickers, precios, volumenes)\n",
    "\n",
    "type(paquete)"
   ]
  },
  {
   "cell_type": "code",
   "execution_count": null,
   "metadata": {},
   "outputs": [],
   "source": [
    "paquete = zip(tickers, precios, volumenes)"
   ]
  },
  {
   "cell_type": "code",
   "execution_count": null,
   "metadata": {},
   "outputs": [],
   "source": []
  },
  {
   "cell_type": "code",
   "execution_count": null,
   "metadata": {},
   "outputs": [],
   "source": []
  },
  {
   "cell_type": "code",
   "execution_count": 43,
   "metadata": {},
   "outputs": [
    {
     "data": {
      "text/plain": [
       "{'ALUA': 1, 'BBAR': 2}"
      ]
     },
     "execution_count": 43,
     "metadata": {},
     "output_type": "execute_result"
    }
   ],
   "source": [
    "tickers = ['ALUA','BBAR']\n",
    "cantidades = [1,2]\n",
    "diccio = dict(zip(tickers, cantidades))\n",
    "diccio\n"
   ]
  },
  {
   "cell_type": "code",
   "execution_count": 44,
   "metadata": {},
   "outputs": [
    {
     "data": {
      "text/plain": [
       "[('ALUA', 1), ('BBAR', 2)]"
      ]
     },
     "execution_count": 44,
     "metadata": {},
     "output_type": "execute_result"
    }
   ],
   "source": [
    "tickers = ['ALUA','BBAR']\n",
    "cantidades = [1,2]\n",
    "lista = list(zip(tickers, cantidades))\n",
    "lista"
   ]
  },
  {
   "cell_type": "markdown",
   "metadata": {},
   "source": [
    "## De un diccionario a algo mas copado?"
   ]
  },
  {
   "cell_type": "markdown",
   "metadata": {},
   "source": [
    "Supongamos que tenemos los montos de tenencias en cartera de esta fomra:"
   ]
  },
  {
   "cell_type": "code",
   "execution_count": 47,
   "metadata": {},
   "outputs": [
    {
     "data": {
      "text/plain": [
       "{'TSLA': 12500,\n",
       " 'AMZN': 5000,\n",
       " 'GOOGL': 10500,\n",
       " 'TLT': 20000,\n",
       " 'SHY': 70,\n",
       " 'BTC': 70.0}"
      ]
     },
     "execution_count": 47,
     "metadata": {},
     "output_type": "execute_result"
    }
   ],
   "source": [
    "tickers = ['TSLA','AMZN','GOOGL','TLT','SHY','BTC']\n",
    "montos = [12500, 5000, 10500, 20_000, 7*10**1, 7e1]\n",
    "\n",
    "diccio = dict(zip(tickers, montos))\n",
    "diccio"
   ]
  },
  {
   "cell_type": "markdown",
   "metadata": {},
   "source": [
    "Si quisiera la suma de montos, es facil:"
   ]
  },
  {
   "cell_type": "code",
   "execution_count": 50,
   "metadata": {},
   "outputs": [
    {
     "data": {
      "text/plain": [
       "48140.0"
      ]
     },
     "execution_count": 50,
     "metadata": {},
     "output_type": "execute_result"
    }
   ],
   "source": [
    "sum(diccio.values())"
   ]
  },
  {
   "cell_type": "code",
   "execution_count": 52,
   "metadata": {},
   "outputs": [
    {
     "data": {
      "text/plain": [
       "dict_values([12500, 5000, 10500, 20000, 70, 70.0])"
      ]
     },
     "execution_count": 52,
     "metadata": {},
     "output_type": "execute_result"
    }
   ],
   "source": [
    "diccio.values()"
   ]
  },
  {
   "cell_type": "markdown",
   "metadata": {},
   "source": [
    "Si quisiera los porcentajes?"
   ]
  },
  {
   "cell_type": "code",
   "execution_count": 54,
   "metadata": {},
   "outputs": [
    {
     "data": {
      "text/plain": [
       "[0.2596593269630245,\n",
       " 0.1038637307852098,\n",
       " 0.2181138346489406,\n",
       " 0.4154549231408392,\n",
       " 0.0014540922309929372,\n",
       " 0.0014540922309929372]"
      ]
     },
     "execution_count": 54,
     "metadata": {},
     "output_type": "execute_result"
    }
   ],
   "source": [
    "# [ f(algo) for algo in algoIterable]\n",
    "\n",
    "[x/sum(diccio.values()) for x in diccio.values()]"
   ]
  },
  {
   "cell_type": "code",
   "execution_count": 58,
   "metadata": {},
   "outputs": [
    {
     "name": "stdout",
     "output_type": "stream",
     "text": [
      "3.14 µs ± 643 ns per loop (mean ± std. dev. of 7 runs, 100000 loops each)\n"
     ]
    }
   ],
   "source": [
    "%%timeit\n",
    "porcentajes = [x/sum(diccio.values()) for x in diccio.values()]\n",
    "porcentajes"
   ]
  },
  {
   "cell_type": "code",
   "execution_count": 59,
   "metadata": {},
   "outputs": [
    {
     "name": "stdout",
     "output_type": "stream",
     "text": [
      "3.47 µs ± 153 ns per loop (mean ± std. dev. of 7 runs, 100000 loops each)\n"
     ]
    }
   ],
   "source": [
    "%%timeit\n",
    "porcentajes = []\n",
    "for x in diccio.values():\n",
    "    porcentajes.append(x/sum(diccio.values()) )\n",
    "porcentajes"
   ]
  },
  {
   "cell_type": "code",
   "execution_count": null,
   "metadata": {},
   "outputs": [],
   "source": []
  },
  {
   "cell_type": "code",
   "execution_count": null,
   "metadata": {},
   "outputs": [],
   "source": []
  },
  {
   "cell_type": "markdown",
   "metadata": {},
   "source": [
    "Y si quiero el monto de TLT?"
   ]
  },
  {
   "cell_type": "code",
   "execution_count": null,
   "metadata": {},
   "outputs": [],
   "source": []
  },
  {
   "cell_type": "code",
   "execution_count": null,
   "metadata": {},
   "outputs": [],
   "source": []
  },
  {
   "cell_type": "markdown",
   "metadata": {},
   "source": [
    "Y si quiero los 3 activos de mayor tenencia?"
   ]
  },
  {
   "cell_type": "markdown",
   "metadata": {},
   "source": [
    "Y si quiero el primer decil, o el percentil 6 de mayor tenencia?"
   ]
  },
  {
   "cell_type": "code",
   "execution_count": null,
   "metadata": {},
   "outputs": [],
   "source": []
  },
  {
   "cell_type": "code",
   "execution_count": null,
   "metadata": {},
   "outputs": [],
   "source": []
  },
  {
   "cell_type": "code",
   "execution_count": null,
   "metadata": {},
   "outputs": [],
   "source": []
  },
  {
   "cell_type": "markdown",
   "metadata": {},
   "source": [
    "# DataFrames"
   ]
  },
  {
   "cell_type": "code",
   "execution_count": 61,
   "metadata": {},
   "outputs": [],
   "source": [
    "import pandas as pd"
   ]
  },
  {
   "cell_type": "code",
   "execution_count": 82,
   "metadata": {},
   "outputs": [
    {
     "data": {
      "text/html": [
       "<div>\n",
       "<style scoped>\n",
       "    .dataframe tbody tr th:only-of-type {\n",
       "        vertical-align: middle;\n",
       "    }\n",
       "\n",
       "    .dataframe tbody tr th {\n",
       "        vertical-align: top;\n",
       "    }\n",
       "\n",
       "    .dataframe thead th {\n",
       "        text-align: right;\n",
       "    }\n",
       "</style>\n",
       "<table border=\"1\" class=\"dataframe\">\n",
       "  <thead>\n",
       "    <tr style=\"text-align: right;\">\n",
       "      <th></th>\n",
       "      <th>montos</th>\n",
       "    </tr>\n",
       "  </thead>\n",
       "  <tbody>\n",
       "    <tr>\n",
       "      <th>TSLA</th>\n",
       "      <td>12500.0</td>\n",
       "    </tr>\n",
       "    <tr>\n",
       "      <th>AMZN</th>\n",
       "      <td>5000.0</td>\n",
       "    </tr>\n",
       "    <tr>\n",
       "      <th>GOOGL</th>\n",
       "      <td>10500.0</td>\n",
       "    </tr>\n",
       "    <tr>\n",
       "      <th>TLT</th>\n",
       "      <td>20000.0</td>\n",
       "    </tr>\n",
       "    <tr>\n",
       "      <th>SHY</th>\n",
       "      <td>70.0</td>\n",
       "    </tr>\n",
       "    <tr>\n",
       "      <th>BTC</th>\n",
       "      <td>70.0</td>\n",
       "    </tr>\n",
       "  </tbody>\n",
       "</table>\n",
       "</div>"
      ],
      "text/plain": [
       "        montos\n",
       "TSLA   12500.0\n",
       "AMZN    5000.0\n",
       "GOOGL  10500.0\n",
       "TLT    20000.0\n",
       "SHY       70.0\n",
       "BTC       70.0"
      ]
     },
     "execution_count": 82,
     "metadata": {},
     "output_type": "execute_result"
    }
   ],
   "source": [
    "cartera = pd.DataFrame(data=montos, index=tickers)\n",
    "cartera.columns=['montos']\n",
    "cartera"
   ]
  },
  {
   "cell_type": "code",
   "execution_count": 65,
   "metadata": {},
   "outputs": [
    {
     "data": {
      "text/html": [
       "<div>\n",
       "<style scoped>\n",
       "    .dataframe tbody tr th:only-of-type {\n",
       "        vertical-align: middle;\n",
       "    }\n",
       "\n",
       "    .dataframe tbody tr th {\n",
       "        vertical-align: top;\n",
       "    }\n",
       "\n",
       "    .dataframe thead th {\n",
       "        text-align: right;\n",
       "    }\n",
       "</style>\n",
       "<table border=\"1\" class=\"dataframe\">\n",
       "  <thead>\n",
       "    <tr style=\"text-align: right;\">\n",
       "      <th></th>\n",
       "    </tr>\n",
       "  </thead>\n",
       "  <tbody>\n",
       "    <tr>\n",
       "      <th>TSLA</th>\n",
       "    </tr>\n",
       "    <tr>\n",
       "      <th>AMZN</th>\n",
       "    </tr>\n",
       "    <tr>\n",
       "      <th>GOOGL</th>\n",
       "    </tr>\n",
       "    <tr>\n",
       "      <th>TLT</th>\n",
       "    </tr>\n",
       "    <tr>\n",
       "      <th>SHY</th>\n",
       "    </tr>\n",
       "    <tr>\n",
       "      <th>BTC</th>\n",
       "    </tr>\n",
       "  </tbody>\n",
       "</table>\n",
       "</div>"
      ],
      "text/plain": [
       "Empty DataFrame\n",
       "Columns: []\n",
       "Index: [TSLA, AMZN, GOOGL, TLT, SHY, BTC]"
      ]
     },
     "execution_count": 65,
     "metadata": {},
     "output_type": "execute_result"
    }
   ],
   "source": [
    "cartera = pd.DataFrame(index=tickers)\n",
    "cartera"
   ]
  },
  {
   "cell_type": "code",
   "execution_count": 67,
   "metadata": {},
   "outputs": [
    {
     "data": {
      "text/plain": [
       "[0.2596593269630245,\n",
       " 0.1038637307852098,\n",
       " 0.2181138346489406,\n",
       " 0.4154549231408392,\n",
       " 0.0014540922309929372,\n",
       " 0.0014540922309929372]"
      ]
     },
     "execution_count": 67,
     "metadata": {},
     "output_type": "execute_result"
    }
   ],
   "source": [
    "porcentajes"
   ]
  },
  {
   "cell_type": "code",
   "execution_count": 69,
   "metadata": {},
   "outputs": [
    {
     "data": {
      "text/html": [
       "<div>\n",
       "<style scoped>\n",
       "    .dataframe tbody tr th:only-of-type {\n",
       "        vertical-align: middle;\n",
       "    }\n",
       "\n",
       "    .dataframe tbody tr th {\n",
       "        vertical-align: top;\n",
       "    }\n",
       "\n",
       "    .dataframe thead th {\n",
       "        text-align: right;\n",
       "    }\n",
       "</style>\n",
       "<table border=\"1\" class=\"dataframe\">\n",
       "  <thead>\n",
       "    <tr style=\"text-align: right;\">\n",
       "      <th></th>\n",
       "      <th>montos</th>\n",
       "    </tr>\n",
       "  </thead>\n",
       "  <tbody>\n",
       "    <tr>\n",
       "      <th>TSLA</th>\n",
       "      <td>12500.0</td>\n",
       "    </tr>\n",
       "    <tr>\n",
       "      <th>AMZN</th>\n",
       "      <td>5000.0</td>\n",
       "    </tr>\n",
       "    <tr>\n",
       "      <th>GOOGL</th>\n",
       "      <td>10500.0</td>\n",
       "    </tr>\n",
       "    <tr>\n",
       "      <th>TLT</th>\n",
       "      <td>20000.0</td>\n",
       "    </tr>\n",
       "    <tr>\n",
       "      <th>SHY</th>\n",
       "      <td>70.0</td>\n",
       "    </tr>\n",
       "    <tr>\n",
       "      <th>BTC</th>\n",
       "      <td>70.0</td>\n",
       "    </tr>\n",
       "  </tbody>\n",
       "</table>\n",
       "</div>"
      ],
      "text/plain": [
       "        montos\n",
       "TSLA   12500.0\n",
       "AMZN    5000.0\n",
       "GOOGL  10500.0\n",
       "TLT    20000.0\n",
       "SHY       70.0\n",
       "BTC       70.0"
      ]
     },
     "execution_count": 69,
     "metadata": {},
     "output_type": "execute_result"
    }
   ],
   "source": [
    "cartera = pd.DataFrame(index=tickers)\n",
    "cartera['montos'] = montos\n",
    "cartera"
   ]
  },
  {
   "cell_type": "code",
   "execution_count": 74,
   "metadata": {},
   "outputs": [
    {
     "data": {
      "text/plain": [
       "48140.0"
      ]
     },
     "execution_count": 74,
     "metadata": {},
     "output_type": "execute_result"
    }
   ],
   "source": [
    "cartera.montos.sum()"
   ]
  },
  {
   "cell_type": "code",
   "execution_count": 77,
   "metadata": {},
   "outputs": [
    {
     "data": {
      "text/plain": [
       "array([0.25965933, 0.10386373, 0.21811383, 0.41545492, 0.00145409,\n",
       "       0.00145409])"
      ]
     },
     "execution_count": 77,
     "metadata": {},
     "output_type": "execute_result"
    }
   ],
   "source": [
    "import numpy as np\n",
    "\n",
    "np.array(montos) / np.array(montos).sum()"
   ]
  },
  {
   "cell_type": "code",
   "execution_count": 80,
   "metadata": {},
   "outputs": [
    {
     "data": {
      "text/html": [
       "<div>\n",
       "<style scoped>\n",
       "    .dataframe tbody tr th:only-of-type {\n",
       "        vertical-align: middle;\n",
       "    }\n",
       "\n",
       "    .dataframe tbody tr th {\n",
       "        vertical-align: top;\n",
       "    }\n",
       "\n",
       "    .dataframe thead th {\n",
       "        text-align: right;\n",
       "    }\n",
       "</style>\n",
       "<table border=\"1\" class=\"dataframe\">\n",
       "  <thead>\n",
       "    <tr style=\"text-align: right;\">\n",
       "      <th></th>\n",
       "      <th>montos</th>\n",
       "      <th>porcentajes</th>\n",
       "    </tr>\n",
       "  </thead>\n",
       "  <tbody>\n",
       "    <tr>\n",
       "      <th>TSLA</th>\n",
       "      <td>12500.0</td>\n",
       "      <td>0.259659</td>\n",
       "    </tr>\n",
       "    <tr>\n",
       "      <th>AMZN</th>\n",
       "      <td>5000.0</td>\n",
       "      <td>0.103864</td>\n",
       "    </tr>\n",
       "    <tr>\n",
       "      <th>GOOGL</th>\n",
       "      <td>10500.0</td>\n",
       "      <td>0.218114</td>\n",
       "    </tr>\n",
       "    <tr>\n",
       "      <th>TLT</th>\n",
       "      <td>20000.0</td>\n",
       "      <td>0.415455</td>\n",
       "    </tr>\n",
       "    <tr>\n",
       "      <th>SHY</th>\n",
       "      <td>70.0</td>\n",
       "      <td>0.001454</td>\n",
       "    </tr>\n",
       "    <tr>\n",
       "      <th>BTC</th>\n",
       "      <td>70.0</td>\n",
       "      <td>0.001454</td>\n",
       "    </tr>\n",
       "  </tbody>\n",
       "</table>\n",
       "</div>"
      ],
      "text/plain": [
       "        montos  porcentajes\n",
       "TSLA   12500.0     0.259659\n",
       "AMZN    5000.0     0.103864\n",
       "GOOGL  10500.0     0.218114\n",
       "TLT    20000.0     0.415455\n",
       "SHY       70.0     0.001454\n",
       "BTC       70.0     0.001454"
      ]
     },
     "execution_count": 80,
     "metadata": {},
     "output_type": "execute_result"
    }
   ],
   "source": [
    "cartera['porcentajes'] = cartera.montos / cartera.montos.sum()\n",
    "cartera"
   ]
  },
  {
   "cell_type": "code",
   "execution_count": null,
   "metadata": {},
   "outputs": [],
   "source": []
  },
  {
   "cell_type": "markdown",
   "metadata": {},
   "source": [
    "Se acuerdan si quiero los 3 mayores montos?"
   ]
  },
  {
   "cell_type": "code",
   "execution_count": 23,
   "metadata": {},
   "outputs": [
    {
     "data": {
      "text/plain": [
       "Index(['BTC', 'TLT', 'TSLA'], dtype='object')"
      ]
     },
     "execution_count": 23,
     "metadata": {},
     "output_type": "execute_result"
    }
   ],
   "source": [
    "cartera.montos.sort_values(ascending=False).head(3).index"
   ]
  },
  {
   "cell_type": "code",
   "execution_count": null,
   "metadata": {},
   "outputs": [],
   "source": []
  },
  {
   "cell_type": "code",
   "execution_count": null,
   "metadata": {},
   "outputs": [],
   "source": []
  },
  {
   "cell_type": "code",
   "execution_count": null,
   "metadata": {},
   "outputs": [],
   "source": []
  },
  {
   "cell_type": "code",
   "execution_count": null,
   "metadata": {},
   "outputs": [],
   "source": []
  },
  {
   "cell_type": "code",
   "execution_count": null,
   "metadata": {},
   "outputs": [],
   "source": []
  },
  {
   "cell_type": "code",
   "execution_count": null,
   "metadata": {},
   "outputs": [],
   "source": []
  },
  {
   "cell_type": "code",
   "execution_count": null,
   "metadata": {},
   "outputs": [],
   "source": []
  },
  {
   "cell_type": "code",
   "execution_count": null,
   "metadata": {},
   "outputs": [],
   "source": []
  },
  {
   "cell_type": "markdown",
   "metadata": {},
   "source": [
    "# Datos de Mercado"
   ]
  },
  {
   "cell_type": "code",
   "execution_count": 24,
   "metadata": {},
   "outputs": [
    {
     "name": "stdout",
     "output_type": "stream",
     "text": [
      "Requirement already satisfied: yfinance in c:\\users\\usuario\\anaconda3\\lib\\site-packages (0.1.55)\n",
      "Requirement already satisfied: pandas>=0.24 in c:\\users\\usuario\\anaconda3\\lib\\site-packages (from yfinance) (1.1.3)\n",
      "Requirement already satisfied: lxml>=4.5.1 in c:\\users\\usuario\\anaconda3\\lib\\site-packages (from yfinance) (4.6.2)\n",
      "Requirement already satisfied: numpy>=1.15 in c:\\users\\usuario\\anaconda3\\lib\\site-packages (from yfinance) (1.18.5)\n",
      "Requirement already satisfied: requests>=2.20 in c:\\users\\usuario\\anaconda3\\lib\\site-packages (from yfinance) (2.25.0)\n",
      "Requirement already satisfied: multitasking>=0.0.7 in c:\\users\\usuario\\anaconda3\\lib\\site-packages (from yfinance) (0.0.9)\n",
      "Requirement already satisfied: pytz>=2017.2 in c:\\users\\usuario\\anaconda3\\lib\\site-packages (from pandas>=0.24->yfinance) (2020.1)\n",
      "Requirement already satisfied: python-dateutil>=2.7.3 in c:\\users\\usuario\\anaconda3\\lib\\site-packages (from pandas>=0.24->yfinance) (2.8.1)\n",
      "Requirement already satisfied: certifi>=2017.4.17 in c:\\users\\usuario\\anaconda3\\lib\\site-packages (from requests>=2.20->yfinance) (2020.11.8)\n",
      "Requirement already satisfied: chardet<4,>=3.0.2 in c:\\users\\usuario\\anaconda3\\lib\\site-packages (from requests>=2.20->yfinance) (3.0.4)\n",
      "Requirement already satisfied: idna<3,>=2.5 in c:\\users\\usuario\\anaconda3\\lib\\site-packages (from requests>=2.20->yfinance) (2.10)\n",
      "Requirement already satisfied: urllib3<1.27,>=1.21.1 in c:\\users\\usuario\\anaconda3\\lib\\site-packages (from requests>=2.20->yfinance) (1.26.2)\n",
      "Requirement already satisfied: six>=1.5 in c:\\users\\usuario\\anaconda3\\lib\\site-packages (from python-dateutil>=2.7.3->pandas>=0.24->yfinance) (1.15.0)\n",
      "Note: you may need to restart the kernel to use updated packages.\n"
     ]
    }
   ],
   "source": [
    "pip install yfinance"
   ]
  },
  {
   "cell_type": "code",
   "execution_count": 86,
   "metadata": {},
   "outputs": [],
   "source": [
    "import yfinance as yf"
   ]
  },
  {
   "cell_type": "code",
   "execution_count": 91,
   "metadata": {},
   "outputs": [
    {
     "name": "stdout",
     "output_type": "stream",
     "text": [
      "[*********************100%***********************]  1 of 1 completed\n"
     ]
    },
    {
     "data": {
      "text/html": [
       "<div>\n",
       "<style scoped>\n",
       "    .dataframe tbody tr th:only-of-type {\n",
       "        vertical-align: middle;\n",
       "    }\n",
       "\n",
       "    .dataframe tbody tr th {\n",
       "        vertical-align: top;\n",
       "    }\n",
       "\n",
       "    .dataframe thead th {\n",
       "        text-align: right;\n",
       "    }\n",
       "</style>\n",
       "<table border=\"1\" class=\"dataframe\">\n",
       "  <thead>\n",
       "    <tr style=\"text-align: right;\">\n",
       "      <th></th>\n",
       "      <th>Open</th>\n",
       "      <th>High</th>\n",
       "      <th>Low</th>\n",
       "      <th>Close</th>\n",
       "      <th>Volume</th>\n",
       "    </tr>\n",
       "    <tr>\n",
       "      <th>Date</th>\n",
       "      <th></th>\n",
       "      <th></th>\n",
       "      <th></th>\n",
       "      <th></th>\n",
       "      <th></th>\n",
       "    </tr>\n",
       "  </thead>\n",
       "  <tbody>\n",
       "    <tr>\n",
       "      <th>2010-01-04</th>\n",
       "      <td>6.565743</td>\n",
       "      <td>6.598660</td>\n",
       "      <td>6.533442</td>\n",
       "      <td>6.583586</td>\n",
       "      <td>493729600</td>\n",
       "    </tr>\n",
       "    <tr>\n",
       "      <th>2010-01-05</th>\n",
       "      <td>6.601736</td>\n",
       "      <td>6.632191</td>\n",
       "      <td>6.560205</td>\n",
       "      <td>6.594968</td>\n",
       "      <td>601904800</td>\n",
       "    </tr>\n",
       "    <tr>\n",
       "      <th>2010-01-06</th>\n",
       "      <td>6.594967</td>\n",
       "      <td>6.621116</td>\n",
       "      <td>6.483298</td>\n",
       "      <td>6.490066</td>\n",
       "      <td>552160000</td>\n",
       "    </tr>\n",
       "    <tr>\n",
       "      <th>2010-01-07</th>\n",
       "      <td>6.514060</td>\n",
       "      <td>6.521751</td>\n",
       "      <td>6.431000</td>\n",
       "      <td>6.478067</td>\n",
       "      <td>477131200</td>\n",
       "    </tr>\n",
       "    <tr>\n",
       "      <th>2010-01-08</th>\n",
       "      <td>6.469454</td>\n",
       "      <td>6.521751</td>\n",
       "      <td>6.431309</td>\n",
       "      <td>6.521136</td>\n",
       "      <td>447610800</td>\n",
       "    </tr>\n",
       "    <tr>\n",
       "      <th>...</th>\n",
       "      <td>...</td>\n",
       "      <td>...</td>\n",
       "      <td>...</td>\n",
       "      <td>...</td>\n",
       "      <td>...</td>\n",
       "    </tr>\n",
       "    <tr>\n",
       "      <th>2021-04-14</th>\n",
       "      <td>134.940002</td>\n",
       "      <td>135.000000</td>\n",
       "      <td>131.660004</td>\n",
       "      <td>132.029999</td>\n",
       "      <td>87222800</td>\n",
       "    </tr>\n",
       "    <tr>\n",
       "      <th>2021-04-15</th>\n",
       "      <td>133.820007</td>\n",
       "      <td>135.000000</td>\n",
       "      <td>133.639999</td>\n",
       "      <td>134.500000</td>\n",
       "      <td>89347100</td>\n",
       "    </tr>\n",
       "    <tr>\n",
       "      <th>2021-04-16</th>\n",
       "      <td>134.300003</td>\n",
       "      <td>134.669998</td>\n",
       "      <td>133.279999</td>\n",
       "      <td>134.160004</td>\n",
       "      <td>84818500</td>\n",
       "    </tr>\n",
       "    <tr>\n",
       "      <th>2021-04-19</th>\n",
       "      <td>133.509995</td>\n",
       "      <td>135.470001</td>\n",
       "      <td>133.339996</td>\n",
       "      <td>134.839996</td>\n",
       "      <td>93996100</td>\n",
       "    </tr>\n",
       "    <tr>\n",
       "      <th>2021-04-20</th>\n",
       "      <td>135.020004</td>\n",
       "      <td>135.529999</td>\n",
       "      <td>131.811493</td>\n",
       "      <td>133.110001</td>\n",
       "      <td>93002207</td>\n",
       "    </tr>\n",
       "  </tbody>\n",
       "</table>\n",
       "<p>2843 rows × 5 columns</p>\n",
       "</div>"
      ],
      "text/plain": [
       "                  Open        High         Low       Close     Volume\n",
       "Date                                                                 \n",
       "2010-01-04    6.565743    6.598660    6.533442    6.583586  493729600\n",
       "2010-01-05    6.601736    6.632191    6.560205    6.594968  601904800\n",
       "2010-01-06    6.594967    6.621116    6.483298    6.490066  552160000\n",
       "2010-01-07    6.514060    6.521751    6.431000    6.478067  477131200\n",
       "2010-01-08    6.469454    6.521751    6.431309    6.521136  447610800\n",
       "...                ...         ...         ...         ...        ...\n",
       "2021-04-14  134.940002  135.000000  131.660004  132.029999   87222800\n",
       "2021-04-15  133.820007  135.000000  133.639999  134.500000   89347100\n",
       "2021-04-16  134.300003  134.669998  133.279999  134.160004   84818500\n",
       "2021-04-19  133.509995  135.470001  133.339996  134.839996   93996100\n",
       "2021-04-20  135.020004  135.529999  131.811493  133.110001   93002207\n",
       "\n",
       "[2843 rows x 5 columns]"
      ]
     },
     "execution_count": 91,
     "metadata": {},
     "output_type": "execute_result"
    }
   ],
   "source": [
    "data_aapl = yf.download('AAPL', start='2010-01-01', auto_adjust=True)\n",
    "data_aapl"
   ]
  },
  {
   "cell_type": "code",
   "execution_count": 92,
   "metadata": {},
   "outputs": [],
   "source": [
    "data_aapl.to_excel(\"datos_bajados_yahoo.xlsx\")"
   ]
  },
  {
   "cell_type": "code",
   "execution_count": null,
   "metadata": {},
   "outputs": [],
   "source": []
  },
  {
   "cell_type": "code",
   "execution_count": 97,
   "metadata": {},
   "outputs": [
    {
     "name": "stdout",
     "output_type": "stream",
     "text": [
      "[*********************100%***********************]  1 of 1 completed\n"
     ]
    },
    {
     "data": {
      "text/html": [
       "<div>\n",
       "<style scoped>\n",
       "    .dataframe tbody tr th:only-of-type {\n",
       "        vertical-align: middle;\n",
       "    }\n",
       "\n",
       "    .dataframe tbody tr th {\n",
       "        vertical-align: top;\n",
       "    }\n",
       "\n",
       "    .dataframe thead th {\n",
       "        text-align: right;\n",
       "    }\n",
       "</style>\n",
       "<table border=\"1\" class=\"dataframe\">\n",
       "  <thead>\n",
       "    <tr style=\"text-align: right;\">\n",
       "      <th></th>\n",
       "      <th>Open</th>\n",
       "      <th>High</th>\n",
       "      <th>Low</th>\n",
       "      <th>Close</th>\n",
       "      <th>Adj Close</th>\n",
       "      <th>Volume</th>\n",
       "    </tr>\n",
       "    <tr>\n",
       "      <th>Datetime</th>\n",
       "      <th></th>\n",
       "      <th></th>\n",
       "      <th></th>\n",
       "      <th></th>\n",
       "      <th></th>\n",
       "      <th></th>\n",
       "    </tr>\n",
       "  </thead>\n",
       "  <tbody>\n",
       "    <tr>\n",
       "      <th>2021-04-01 09:30:00-04:00</th>\n",
       "      <td>123.660004</td>\n",
       "      <td>123.860001</td>\n",
       "      <td>123.260002</td>\n",
       "      <td>123.393303</td>\n",
       "      <td>123.393303</td>\n",
       "      <td>4849980</td>\n",
       "    </tr>\n",
       "    <tr>\n",
       "      <th>2021-04-01 09:35:00-04:00</th>\n",
       "      <td>123.500000</td>\n",
       "      <td>123.970001</td>\n",
       "      <td>123.410004</td>\n",
       "      <td>123.969200</td>\n",
       "      <td>123.969200</td>\n",
       "      <td>2262418</td>\n",
       "    </tr>\n",
       "    <tr>\n",
       "      <th>2021-04-01 09:40:00-04:00</th>\n",
       "      <td>124.000000</td>\n",
       "      <td>124.139999</td>\n",
       "      <td>123.650002</td>\n",
       "      <td>123.690002</td>\n",
       "      <td>123.690002</td>\n",
       "      <td>2369381</td>\n",
       "    </tr>\n",
       "    <tr>\n",
       "      <th>2021-04-01 09:45:00-04:00</th>\n",
       "      <td>123.635002</td>\n",
       "      <td>123.750000</td>\n",
       "      <td>123.380203</td>\n",
       "      <td>123.385002</td>\n",
       "      <td>123.385002</td>\n",
       "      <td>1590467</td>\n",
       "    </tr>\n",
       "    <tr>\n",
       "      <th>2021-04-01 09:50:00-04:00</th>\n",
       "      <td>123.419998</td>\n",
       "      <td>123.589897</td>\n",
       "      <td>123.330002</td>\n",
       "      <td>123.491402</td>\n",
       "      <td>123.491402</td>\n",
       "      <td>1807131</td>\n",
       "    </tr>\n",
       "    <tr>\n",
       "      <th>...</th>\n",
       "      <td>...</td>\n",
       "      <td>...</td>\n",
       "      <td>...</td>\n",
       "      <td>...</td>\n",
       "      <td>...</td>\n",
       "      <td>...</td>\n",
       "    </tr>\n",
       "    <tr>\n",
       "      <th>2021-04-20 15:35:00-04:00</th>\n",
       "      <td>132.718307</td>\n",
       "      <td>132.789993</td>\n",
       "      <td>132.509995</td>\n",
       "      <td>132.660599</td>\n",
       "      <td>132.660599</td>\n",
       "      <td>1061989</td>\n",
       "    </tr>\n",
       "    <tr>\n",
       "      <th>2021-04-20 15:40:00-04:00</th>\n",
       "      <td>132.664993</td>\n",
       "      <td>132.921097</td>\n",
       "      <td>132.646500</td>\n",
       "      <td>132.919998</td>\n",
       "      <td>132.919998</td>\n",
       "      <td>1037725</td>\n",
       "    </tr>\n",
       "    <tr>\n",
       "      <th>2021-04-20 15:45:00-04:00</th>\n",
       "      <td>132.929993</td>\n",
       "      <td>133.139999</td>\n",
       "      <td>132.910004</td>\n",
       "      <td>133.139893</td>\n",
       "      <td>133.139893</td>\n",
       "      <td>1279405</td>\n",
       "    </tr>\n",
       "    <tr>\n",
       "      <th>2021-04-20 15:50:00-04:00</th>\n",
       "      <td>133.139999</td>\n",
       "      <td>133.199997</td>\n",
       "      <td>132.960007</td>\n",
       "      <td>133.164993</td>\n",
       "      <td>133.164993</td>\n",
       "      <td>1670356</td>\n",
       "    </tr>\n",
       "    <tr>\n",
       "      <th>2021-04-20 15:55:00-04:00</th>\n",
       "      <td>133.169998</td>\n",
       "      <td>133.179993</td>\n",
       "      <td>132.880005</td>\n",
       "      <td>133.119995</td>\n",
       "      <td>133.119995</td>\n",
       "      <td>2808837</td>\n",
       "    </tr>\n",
       "  </tbody>\n",
       "</table>\n",
       "<p>1014 rows × 6 columns</p>\n",
       "</div>"
      ],
      "text/plain": [
       "                                 Open        High         Low       Close  \\\n",
       "Datetime                                                                    \n",
       "2021-04-01 09:30:00-04:00  123.660004  123.860001  123.260002  123.393303   \n",
       "2021-04-01 09:35:00-04:00  123.500000  123.970001  123.410004  123.969200   \n",
       "2021-04-01 09:40:00-04:00  124.000000  124.139999  123.650002  123.690002   \n",
       "2021-04-01 09:45:00-04:00  123.635002  123.750000  123.380203  123.385002   \n",
       "2021-04-01 09:50:00-04:00  123.419998  123.589897  123.330002  123.491402   \n",
       "...                               ...         ...         ...         ...   \n",
       "2021-04-20 15:35:00-04:00  132.718307  132.789993  132.509995  132.660599   \n",
       "2021-04-20 15:40:00-04:00  132.664993  132.921097  132.646500  132.919998   \n",
       "2021-04-20 15:45:00-04:00  132.929993  133.139999  132.910004  133.139893   \n",
       "2021-04-20 15:50:00-04:00  133.139999  133.199997  132.960007  133.164993   \n",
       "2021-04-20 15:55:00-04:00  133.169998  133.179993  132.880005  133.119995   \n",
       "\n",
       "                            Adj Close   Volume  \n",
       "Datetime                                        \n",
       "2021-04-01 09:30:00-04:00  123.393303  4849980  \n",
       "2021-04-01 09:35:00-04:00  123.969200  2262418  \n",
       "2021-04-01 09:40:00-04:00  123.690002  2369381  \n",
       "2021-04-01 09:45:00-04:00  123.385002  1590467  \n",
       "2021-04-01 09:50:00-04:00  123.491402  1807131  \n",
       "...                               ...      ...  \n",
       "2021-04-20 15:35:00-04:00  132.660599  1061989  \n",
       "2021-04-20 15:40:00-04:00  132.919998  1037725  \n",
       "2021-04-20 15:45:00-04:00  133.139893  1279405  \n",
       "2021-04-20 15:50:00-04:00  133.164993  1670356  \n",
       "2021-04-20 15:55:00-04:00  133.119995  2808837  \n",
       "\n",
       "[1014 rows x 6 columns]"
      ]
     },
     "execution_count": 97,
     "metadata": {},
     "output_type": "execute_result"
    }
   ],
   "source": [
    "yf.download('AAPL', start='2021-04-01', interval=\"5m\", auto_adjust=False)"
   ]
  },
  {
   "cell_type": "code",
   "execution_count": 28,
   "metadata": {},
   "outputs": [
    {
     "name": "stdout",
     "output_type": "stream",
     "text": [
      "[*********************100%***********************]  1 of 1 completed\n",
      "\n",
      "1 Failed download:\n",
      "- AAPL: 5m data not available for startTime=1609470000 and endTime=1616604270. The requested range must be within the last 60 days.\n"
     ]
    },
    {
     "data": {
      "text/html": [
       "<div>\n",
       "<style scoped>\n",
       "    .dataframe tbody tr th:only-of-type {\n",
       "        vertical-align: middle;\n",
       "    }\n",
       "\n",
       "    .dataframe tbody tr th {\n",
       "        vertical-align: top;\n",
       "    }\n",
       "\n",
       "    .dataframe thead th {\n",
       "        text-align: right;\n",
       "    }\n",
       "</style>\n",
       "<table border=\"1\" class=\"dataframe\">\n",
       "  <thead>\n",
       "    <tr style=\"text-align: right;\">\n",
       "      <th></th>\n",
       "      <th>Open</th>\n",
       "      <th>High</th>\n",
       "      <th>Low</th>\n",
       "      <th>Close</th>\n",
       "      <th>Adj Close</th>\n",
       "      <th>Volume</th>\n",
       "    </tr>\n",
       "    <tr>\n",
       "      <th>Date</th>\n",
       "      <th></th>\n",
       "      <th></th>\n",
       "      <th></th>\n",
       "      <th></th>\n",
       "      <th></th>\n",
       "      <th></th>\n",
       "    </tr>\n",
       "  </thead>\n",
       "  <tbody>\n",
       "  </tbody>\n",
       "</table>\n",
       "</div>"
      ],
      "text/plain": [
       "Empty DataFrame\n",
       "Columns: [Open, High, Low, Close, Adj Close, Volume]\n",
       "Index: []"
      ]
     },
     "execution_count": 28,
     "metadata": {},
     "output_type": "execute_result"
    }
   ],
   "source": [
    "yf.download('AAPL', start='2021-01-01', interval='5m', auto_adjust=True)"
   ]
  },
  {
   "cell_type": "code",
   "execution_count": 101,
   "metadata": {},
   "outputs": [
    {
     "name": "stdout",
     "output_type": "stream",
     "text": [
      "[*********************100%***********************]  7 of 7 completed\n"
     ]
    },
    {
     "data": {
      "text/html": [
       "<div>\n",
       "<style scoped>\n",
       "    .dataframe tbody tr th:only-of-type {\n",
       "        vertical-align: middle;\n",
       "    }\n",
       "\n",
       "    .dataframe tbody tr th {\n",
       "        vertical-align: top;\n",
       "    }\n",
       "\n",
       "    .dataframe thead th {\n",
       "        text-align: right;\n",
       "    }\n",
       "</style>\n",
       "<table border=\"1\" class=\"dataframe\">\n",
       "  <thead>\n",
       "    <tr style=\"text-align: right;\">\n",
       "      <th></th>\n",
       "      <th>AAPL</th>\n",
       "      <th>AMZN</th>\n",
       "      <th>FB</th>\n",
       "      <th>GOOGL</th>\n",
       "      <th>NFLX</th>\n",
       "      <th>QQQ</th>\n",
       "      <th>SQQQ</th>\n",
       "    </tr>\n",
       "    <tr>\n",
       "      <th>Date</th>\n",
       "      <th></th>\n",
       "      <th></th>\n",
       "      <th></th>\n",
       "      <th></th>\n",
       "      <th></th>\n",
       "      <th></th>\n",
       "      <th></th>\n",
       "    </tr>\n",
       "  </thead>\n",
       "  <tbody>\n",
       "    <tr>\n",
       "      <th>2020-01-02</th>\n",
       "      <td>74.333511</td>\n",
       "      <td>1898.010010</td>\n",
       "      <td>209.779999</td>\n",
       "      <td>1368.680054</td>\n",
       "      <td>329.809998</td>\n",
       "      <td>214.665176</td>\n",
       "      <td>106.196915</td>\n",
       "    </tr>\n",
       "    <tr>\n",
       "      <th>2020-01-03</th>\n",
       "      <td>73.610840</td>\n",
       "      <td>1874.969971</td>\n",
       "      <td>208.669998</td>\n",
       "      <td>1361.520020</td>\n",
       "      <td>325.899994</td>\n",
       "      <td>212.698853</td>\n",
       "      <td>109.038803</td>\n",
       "    </tr>\n",
       "    <tr>\n",
       "      <th>2020-01-06</th>\n",
       "      <td>74.197395</td>\n",
       "      <td>1902.880005</td>\n",
       "      <td>212.600006</td>\n",
       "      <td>1397.810059</td>\n",
       "      <td>335.829987</td>\n",
       "      <td>214.069321</td>\n",
       "      <td>106.944778</td>\n",
       "    </tr>\n",
       "    <tr>\n",
       "      <th>2020-01-07</th>\n",
       "      <td>73.848442</td>\n",
       "      <td>1906.859985</td>\n",
       "      <td>213.059998</td>\n",
       "      <td>1395.109985</td>\n",
       "      <td>330.750000</td>\n",
       "      <td>214.039520</td>\n",
       "      <td>106.994637</td>\n",
       "    </tr>\n",
       "    <tr>\n",
       "      <th>2020-01-08</th>\n",
       "      <td>75.036385</td>\n",
       "      <td>1891.969971</td>\n",
       "      <td>215.220001</td>\n",
       "      <td>1405.040039</td>\n",
       "      <td>339.260010</td>\n",
       "      <td>215.648300</td>\n",
       "      <td>104.601471</td>\n",
       "    </tr>\n",
       "    <tr>\n",
       "      <th>...</th>\n",
       "      <td>...</td>\n",
       "      <td>...</td>\n",
       "      <td>...</td>\n",
       "      <td>...</td>\n",
       "      <td>...</td>\n",
       "      <td>...</td>\n",
       "      <td>...</td>\n",
       "    </tr>\n",
       "    <tr>\n",
       "      <th>2021-04-14</th>\n",
       "      <td>132.029999</td>\n",
       "      <td>3333.000000</td>\n",
       "      <td>302.820007</td>\n",
       "      <td>2241.909912</td>\n",
       "      <td>540.020020</td>\n",
       "      <td>336.510010</td>\n",
       "      <td>11.110000</td>\n",
       "    </tr>\n",
       "    <tr>\n",
       "      <th>2021-04-15</th>\n",
       "      <td>134.500000</td>\n",
       "      <td>3379.090088</td>\n",
       "      <td>307.820007</td>\n",
       "      <td>2285.250000</td>\n",
       "      <td>549.219971</td>\n",
       "      <td>341.609985</td>\n",
       "      <td>10.590000</td>\n",
       "    </tr>\n",
       "    <tr>\n",
       "      <th>2021-04-16</th>\n",
       "      <td>134.160004</td>\n",
       "      <td>3399.439941</td>\n",
       "      <td>306.179993</td>\n",
       "      <td>2282.750000</td>\n",
       "      <td>546.539978</td>\n",
       "      <td>342.010010</td>\n",
       "      <td>10.560000</td>\n",
       "    </tr>\n",
       "    <tr>\n",
       "      <th>2021-04-19</th>\n",
       "      <td>134.839996</td>\n",
       "      <td>3372.010010</td>\n",
       "      <td>302.239990</td>\n",
       "      <td>2289.760010</td>\n",
       "      <td>554.440002</td>\n",
       "      <td>338.880005</td>\n",
       "      <td>10.860000</td>\n",
       "    </tr>\n",
       "    <tr>\n",
       "      <th>2021-04-20</th>\n",
       "      <td>133.110001</td>\n",
       "      <td>3334.689941</td>\n",
       "      <td>302.649994</td>\n",
       "      <td>2279.010010</td>\n",
       "      <td>549.570007</td>\n",
       "      <td>336.410004</td>\n",
       "      <td>11.090000</td>\n",
       "    </tr>\n",
       "  </tbody>\n",
       "</table>\n",
       "<p>327 rows × 7 columns</p>\n",
       "</div>"
      ],
      "text/plain": [
       "                  AAPL         AMZN          FB        GOOGL        NFLX  \\\n",
       "Date                                                                       \n",
       "2020-01-02   74.333511  1898.010010  209.779999  1368.680054  329.809998   \n",
       "2020-01-03   73.610840  1874.969971  208.669998  1361.520020  325.899994   \n",
       "2020-01-06   74.197395  1902.880005  212.600006  1397.810059  335.829987   \n",
       "2020-01-07   73.848442  1906.859985  213.059998  1395.109985  330.750000   \n",
       "2020-01-08   75.036385  1891.969971  215.220001  1405.040039  339.260010   \n",
       "...                ...          ...         ...          ...         ...   \n",
       "2021-04-14  132.029999  3333.000000  302.820007  2241.909912  540.020020   \n",
       "2021-04-15  134.500000  3379.090088  307.820007  2285.250000  549.219971   \n",
       "2021-04-16  134.160004  3399.439941  306.179993  2282.750000  546.539978   \n",
       "2021-04-19  134.839996  3372.010010  302.239990  2289.760010  554.440002   \n",
       "2021-04-20  133.110001  3334.689941  302.649994  2279.010010  549.570007   \n",
       "\n",
       "                   QQQ        SQQQ  \n",
       "Date                                \n",
       "2020-01-02  214.665176  106.196915  \n",
       "2020-01-03  212.698853  109.038803  \n",
       "2020-01-06  214.069321  106.944778  \n",
       "2020-01-07  214.039520  106.994637  \n",
       "2020-01-08  215.648300  104.601471  \n",
       "...                ...         ...  \n",
       "2021-04-14  336.510010   11.110000  \n",
       "2021-04-15  341.609985   10.590000  \n",
       "2021-04-16  342.010010   10.560000  \n",
       "2021-04-19  338.880005   10.860000  \n",
       "2021-04-20  336.410004   11.090000  \n",
       "\n",
       "[327 rows x 7 columns]"
      ]
     },
     "execution_count": 101,
     "metadata": {},
     "output_type": "execute_result"
    }
   ],
   "source": [
    "tickers = ['AAPL', 'FB', 'AMZN', 'GOOGL', 'NFLX', 'QQQ', 'SQQQ']\n",
    "\n",
    "data = yf.download(tickers, start='2020-01-01', auto_adjust=True)['Close']\n",
    "data"
   ]
  },
  {
   "cell_type": "markdown",
   "metadata": {},
   "source": [
    "## De DataFrame a excel"
   ]
  },
  {
   "cell_type": "code",
   "execution_count": 99,
   "metadata": {},
   "outputs": [],
   "source": [
    "data.to_excel('FAANGs.xlsx')"
   ]
  },
  {
   "cell_type": "markdown",
   "metadata": {},
   "source": [
    "## De Excel a DataFrame"
   ]
  },
  {
   "cell_type": "code",
   "execution_count": 102,
   "metadata": {},
   "outputs": [
    {
     "data": {
      "text/html": [
       "<div>\n",
       "<style scoped>\n",
       "    .dataframe tbody tr th:only-of-type {\n",
       "        vertical-align: middle;\n",
       "    }\n",
       "\n",
       "    .dataframe tbody tr th {\n",
       "        vertical-align: top;\n",
       "    }\n",
       "\n",
       "    .dataframe thead th {\n",
       "        text-align: right;\n",
       "    }\n",
       "</style>\n",
       "<table border=\"1\" class=\"dataframe\">\n",
       "  <thead>\n",
       "    <tr style=\"text-align: right;\">\n",
       "      <th></th>\n",
       "      <th>AAPL</th>\n",
       "      <th>AMZN</th>\n",
       "      <th>FB</th>\n",
       "      <th>GOOGL</th>\n",
       "      <th>NFLX</th>\n",
       "      <th>QQQ</th>\n",
       "      <th>SQQQ</th>\n",
       "    </tr>\n",
       "    <tr>\n",
       "      <th>Date</th>\n",
       "      <th></th>\n",
       "      <th></th>\n",
       "      <th></th>\n",
       "      <th></th>\n",
       "      <th></th>\n",
       "      <th></th>\n",
       "      <th></th>\n",
       "    </tr>\n",
       "  </thead>\n",
       "  <tbody>\n",
       "    <tr>\n",
       "      <th>2020-01-02</th>\n",
       "      <td>74.333511</td>\n",
       "      <td>1898.010010</td>\n",
       "      <td>209.779999</td>\n",
       "      <td>1368.680054</td>\n",
       "      <td>329.809998</td>\n",
       "      <td>214.665176</td>\n",
       "      <td>106.196915</td>\n",
       "    </tr>\n",
       "    <tr>\n",
       "      <th>2020-01-03</th>\n",
       "      <td>73.610840</td>\n",
       "      <td>1874.969971</td>\n",
       "      <td>208.669998</td>\n",
       "      <td>1361.520020</td>\n",
       "      <td>325.899994</td>\n",
       "      <td>212.698853</td>\n",
       "      <td>109.038803</td>\n",
       "    </tr>\n",
       "    <tr>\n",
       "      <th>2020-01-06</th>\n",
       "      <td>74.197395</td>\n",
       "      <td>1902.880005</td>\n",
       "      <td>212.600006</td>\n",
       "      <td>1397.810059</td>\n",
       "      <td>335.829987</td>\n",
       "      <td>214.069321</td>\n",
       "      <td>106.944778</td>\n",
       "    </tr>\n",
       "    <tr>\n",
       "      <th>2020-01-07</th>\n",
       "      <td>73.848442</td>\n",
       "      <td>1906.859985</td>\n",
       "      <td>213.059998</td>\n",
       "      <td>1395.109985</td>\n",
       "      <td>330.750000</td>\n",
       "      <td>214.039520</td>\n",
       "      <td>106.994637</td>\n",
       "    </tr>\n",
       "    <tr>\n",
       "      <th>2020-01-08</th>\n",
       "      <td>75.036385</td>\n",
       "      <td>1891.969971</td>\n",
       "      <td>215.220001</td>\n",
       "      <td>1405.040039</td>\n",
       "      <td>339.260010</td>\n",
       "      <td>215.648300</td>\n",
       "      <td>104.601471</td>\n",
       "    </tr>\n",
       "    <tr>\n",
       "      <th>...</th>\n",
       "      <td>...</td>\n",
       "      <td>...</td>\n",
       "      <td>...</td>\n",
       "      <td>...</td>\n",
       "      <td>...</td>\n",
       "      <td>...</td>\n",
       "      <td>...</td>\n",
       "    </tr>\n",
       "    <tr>\n",
       "      <th>2021-04-14</th>\n",
       "      <td>132.029999</td>\n",
       "      <td>3333.000000</td>\n",
       "      <td>302.820007</td>\n",
       "      <td>2241.909912</td>\n",
       "      <td>540.020020</td>\n",
       "      <td>336.510010</td>\n",
       "      <td>11.110000</td>\n",
       "    </tr>\n",
       "    <tr>\n",
       "      <th>2021-04-15</th>\n",
       "      <td>134.500000</td>\n",
       "      <td>3379.090088</td>\n",
       "      <td>307.820007</td>\n",
       "      <td>2285.250000</td>\n",
       "      <td>549.219971</td>\n",
       "      <td>341.609985</td>\n",
       "      <td>10.590000</td>\n",
       "    </tr>\n",
       "    <tr>\n",
       "      <th>2021-04-16</th>\n",
       "      <td>134.160004</td>\n",
       "      <td>3399.439941</td>\n",
       "      <td>306.179993</td>\n",
       "      <td>2282.750000</td>\n",
       "      <td>546.539978</td>\n",
       "      <td>342.010010</td>\n",
       "      <td>10.560000</td>\n",
       "    </tr>\n",
       "    <tr>\n",
       "      <th>2021-04-19</th>\n",
       "      <td>134.839996</td>\n",
       "      <td>3372.010010</td>\n",
       "      <td>302.239990</td>\n",
       "      <td>2289.760010</td>\n",
       "      <td>554.440002</td>\n",
       "      <td>338.880005</td>\n",
       "      <td>10.860000</td>\n",
       "    </tr>\n",
       "    <tr>\n",
       "      <th>2021-04-20</th>\n",
       "      <td>133.110001</td>\n",
       "      <td>3334.689941</td>\n",
       "      <td>302.649994</td>\n",
       "      <td>2279.010010</td>\n",
       "      <td>549.570007</td>\n",
       "      <td>336.410004</td>\n",
       "      <td>11.090000</td>\n",
       "    </tr>\n",
       "  </tbody>\n",
       "</table>\n",
       "<p>327 rows × 7 columns</p>\n",
       "</div>"
      ],
      "text/plain": [
       "                  AAPL         AMZN          FB        GOOGL        NFLX  \\\n",
       "Date                                                                       \n",
       "2020-01-02   74.333511  1898.010010  209.779999  1368.680054  329.809998   \n",
       "2020-01-03   73.610840  1874.969971  208.669998  1361.520020  325.899994   \n",
       "2020-01-06   74.197395  1902.880005  212.600006  1397.810059  335.829987   \n",
       "2020-01-07   73.848442  1906.859985  213.059998  1395.109985  330.750000   \n",
       "2020-01-08   75.036385  1891.969971  215.220001  1405.040039  339.260010   \n",
       "...                ...          ...         ...          ...         ...   \n",
       "2021-04-14  132.029999  3333.000000  302.820007  2241.909912  540.020020   \n",
       "2021-04-15  134.500000  3379.090088  307.820007  2285.250000  549.219971   \n",
       "2021-04-16  134.160004  3399.439941  306.179993  2282.750000  546.539978   \n",
       "2021-04-19  134.839996  3372.010010  302.239990  2289.760010  554.440002   \n",
       "2021-04-20  133.110001  3334.689941  302.649994  2279.010010  549.570007   \n",
       "\n",
       "                   QQQ        SQQQ  \n",
       "Date                                \n",
       "2020-01-02  214.665176  106.196915  \n",
       "2020-01-03  212.698853  109.038803  \n",
       "2020-01-06  214.069321  106.944778  \n",
       "2020-01-07  214.039520  106.994637  \n",
       "2020-01-08  215.648300  104.601471  \n",
       "...                ...         ...  \n",
       "2021-04-14  336.510010   11.110000  \n",
       "2021-04-15  341.609985   10.590000  \n",
       "2021-04-16  342.010010   10.560000  \n",
       "2021-04-19  338.880005   10.860000  \n",
       "2021-04-20  336.410004   11.090000  \n",
       "\n",
       "[327 rows x 7 columns]"
      ]
     },
     "execution_count": 102,
     "metadata": {},
     "output_type": "execute_result"
    }
   ],
   "source": [
    "import pandas as pd\n",
    "\n",
    "#data = pd.read_excel('FAANGs.xlsx')\n",
    "data"
   ]
  },
  {
   "cell_type": "markdown",
   "metadata": {},
   "source": [
    "## Seteo de indice del dataframe"
   ]
  },
  {
   "cell_type": "code",
   "execution_count": 32,
   "metadata": {},
   "outputs": [
    {
     "data": {
      "text/html": [
       "<div>\n",
       "<style scoped>\n",
       "    .dataframe tbody tr th:only-of-type {\n",
       "        vertical-align: middle;\n",
       "    }\n",
       "\n",
       "    .dataframe tbody tr th {\n",
       "        vertical-align: top;\n",
       "    }\n",
       "\n",
       "    .dataframe thead th {\n",
       "        text-align: right;\n",
       "    }\n",
       "</style>\n",
       "<table border=\"1\" class=\"dataframe\">\n",
       "  <thead>\n",
       "    <tr style=\"text-align: right;\">\n",
       "      <th></th>\n",
       "      <th>AAPL</th>\n",
       "      <th>AMZN</th>\n",
       "      <th>FB</th>\n",
       "      <th>GOOGL</th>\n",
       "      <th>NFLX</th>\n",
       "      <th>QQQ</th>\n",
       "      <th>SQQQ</th>\n",
       "    </tr>\n",
       "    <tr>\n",
       "      <th>Date</th>\n",
       "      <th></th>\n",
       "      <th></th>\n",
       "      <th></th>\n",
       "      <th></th>\n",
       "      <th></th>\n",
       "      <th></th>\n",
       "      <th></th>\n",
       "    </tr>\n",
       "  </thead>\n",
       "  <tbody>\n",
       "    <tr>\n",
       "      <th>2020-01-02</th>\n",
       "      <td>74.333511</td>\n",
       "      <td>1898.010010</td>\n",
       "      <td>209.779999</td>\n",
       "      <td>1368.680054</td>\n",
       "      <td>329.809998</td>\n",
       "      <td>214.665176</td>\n",
       "      <td>106.196915</td>\n",
       "    </tr>\n",
       "    <tr>\n",
       "      <th>2020-01-03</th>\n",
       "      <td>73.610840</td>\n",
       "      <td>1874.969971</td>\n",
       "      <td>208.669998</td>\n",
       "      <td>1361.520020</td>\n",
       "      <td>325.899994</td>\n",
       "      <td>212.698853</td>\n",
       "      <td>109.038803</td>\n",
       "    </tr>\n",
       "    <tr>\n",
       "      <th>2020-01-06</th>\n",
       "      <td>74.197395</td>\n",
       "      <td>1902.880005</td>\n",
       "      <td>212.600006</td>\n",
       "      <td>1397.810059</td>\n",
       "      <td>335.829987</td>\n",
       "      <td>214.069321</td>\n",
       "      <td>106.944778</td>\n",
       "    </tr>\n",
       "    <tr>\n",
       "      <th>2020-01-07</th>\n",
       "      <td>73.848442</td>\n",
       "      <td>1906.859985</td>\n",
       "      <td>213.059998</td>\n",
       "      <td>1395.109985</td>\n",
       "      <td>330.750000</td>\n",
       "      <td>214.039520</td>\n",
       "      <td>106.994637</td>\n",
       "    </tr>\n",
       "    <tr>\n",
       "      <th>2020-01-08</th>\n",
       "      <td>75.036385</td>\n",
       "      <td>1891.969971</td>\n",
       "      <td>215.220001</td>\n",
       "      <td>1405.040039</td>\n",
       "      <td>339.260010</td>\n",
       "      <td>215.648300</td>\n",
       "      <td>104.601471</td>\n",
       "    </tr>\n",
       "    <tr>\n",
       "      <th>...</th>\n",
       "      <td>...</td>\n",
       "      <td>...</td>\n",
       "      <td>...</td>\n",
       "      <td>...</td>\n",
       "      <td>...</td>\n",
       "      <td>...</td>\n",
       "      <td>...</td>\n",
       "    </tr>\n",
       "    <tr>\n",
       "      <th>2021-03-18</th>\n",
       "      <td>120.529999</td>\n",
       "      <td>3027.989990</td>\n",
       "      <td>278.619995</td>\n",
       "      <td>2021.339966</td>\n",
       "      <td>504.790009</td>\n",
       "      <td>311.646393</td>\n",
       "      <td>14.190000</td>\n",
       "    </tr>\n",
       "    <tr>\n",
       "      <th>2021-03-19</th>\n",
       "      <td>119.989998</td>\n",
       "      <td>3074.959961</td>\n",
       "      <td>290.109985</td>\n",
       "      <td>2026.959961</td>\n",
       "      <td>512.179993</td>\n",
       "      <td>312.745026</td>\n",
       "      <td>14.010000</td>\n",
       "    </tr>\n",
       "    <tr>\n",
       "      <th>2021-03-22</th>\n",
       "      <td>123.389999</td>\n",
       "      <td>3110.870117</td>\n",
       "      <td>293.540009</td>\n",
       "      <td>2030.689941</td>\n",
       "      <td>523.109985</td>\n",
       "      <td>318.609985</td>\n",
       "      <td>13.250000</td>\n",
       "    </tr>\n",
       "    <tr>\n",
       "      <th>2021-03-23</th>\n",
       "      <td>122.540001</td>\n",
       "      <td>3137.500000</td>\n",
       "      <td>290.630005</td>\n",
       "      <td>2041.329956</td>\n",
       "      <td>535.090027</td>\n",
       "      <td>317.220001</td>\n",
       "      <td>13.430000</td>\n",
       "    </tr>\n",
       "    <tr>\n",
       "      <th>2021-03-24</th>\n",
       "      <td>121.411003</td>\n",
       "      <td>3133.669922</td>\n",
       "      <td>286.910004</td>\n",
       "      <td>2053.280029</td>\n",
       "      <td>528.530029</td>\n",
       "      <td>316.250000</td>\n",
       "      <td>13.550000</td>\n",
       "    </tr>\n",
       "  </tbody>\n",
       "</table>\n",
       "<p>309 rows × 7 columns</p>\n",
       "</div>"
      ],
      "text/plain": [
       "                  AAPL         AMZN          FB        GOOGL        NFLX  \\\n",
       "Date                                                                       \n",
       "2020-01-02   74.333511  1898.010010  209.779999  1368.680054  329.809998   \n",
       "2020-01-03   73.610840  1874.969971  208.669998  1361.520020  325.899994   \n",
       "2020-01-06   74.197395  1902.880005  212.600006  1397.810059  335.829987   \n",
       "2020-01-07   73.848442  1906.859985  213.059998  1395.109985  330.750000   \n",
       "2020-01-08   75.036385  1891.969971  215.220001  1405.040039  339.260010   \n",
       "...                ...          ...         ...          ...         ...   \n",
       "2021-03-18  120.529999  3027.989990  278.619995  2021.339966  504.790009   \n",
       "2021-03-19  119.989998  3074.959961  290.109985  2026.959961  512.179993   \n",
       "2021-03-22  123.389999  3110.870117  293.540009  2030.689941  523.109985   \n",
       "2021-03-23  122.540001  3137.500000  290.630005  2041.329956  535.090027   \n",
       "2021-03-24  121.411003  3133.669922  286.910004  2053.280029  528.530029   \n",
       "\n",
       "                   QQQ        SQQQ  \n",
       "Date                                \n",
       "2020-01-02  214.665176  106.196915  \n",
       "2020-01-03  212.698853  109.038803  \n",
       "2020-01-06  214.069321  106.944778  \n",
       "2020-01-07  214.039520  106.994637  \n",
       "2020-01-08  215.648300  104.601471  \n",
       "...                ...         ...  \n",
       "2021-03-18  311.646393   14.190000  \n",
       "2021-03-19  312.745026   14.010000  \n",
       "2021-03-22  318.609985   13.250000  \n",
       "2021-03-23  317.220001   13.430000  \n",
       "2021-03-24  316.250000   13.550000  \n",
       "\n",
       "[309 rows x 7 columns]"
      ]
     },
     "execution_count": 32,
     "metadata": {},
     "output_type": "execute_result"
    }
   ],
   "source": [
    "data.set_index('Date')"
   ]
  },
  {
   "cell_type": "code",
   "execution_count": 33,
   "metadata": {},
   "outputs": [
    {
     "data": {
      "text/html": [
       "<div>\n",
       "<style scoped>\n",
       "    .dataframe tbody tr th:only-of-type {\n",
       "        vertical-align: middle;\n",
       "    }\n",
       "\n",
       "    .dataframe tbody tr th {\n",
       "        vertical-align: top;\n",
       "    }\n",
       "\n",
       "    .dataframe thead th {\n",
       "        text-align: right;\n",
       "    }\n",
       "</style>\n",
       "<table border=\"1\" class=\"dataframe\">\n",
       "  <thead>\n",
       "    <tr style=\"text-align: right;\">\n",
       "      <th></th>\n",
       "      <th>Date</th>\n",
       "      <th>AAPL</th>\n",
       "      <th>AMZN</th>\n",
       "      <th>FB</th>\n",
       "      <th>GOOGL</th>\n",
       "      <th>NFLX</th>\n",
       "      <th>QQQ</th>\n",
       "      <th>SQQQ</th>\n",
       "    </tr>\n",
       "  </thead>\n",
       "  <tbody>\n",
       "    <tr>\n",
       "      <th>0</th>\n",
       "      <td>2020-01-02</td>\n",
       "      <td>74.333511</td>\n",
       "      <td>1898.010010</td>\n",
       "      <td>209.779999</td>\n",
       "      <td>1368.680054</td>\n",
       "      <td>329.809998</td>\n",
       "      <td>214.665176</td>\n",
       "      <td>106.196915</td>\n",
       "    </tr>\n",
       "    <tr>\n",
       "      <th>1</th>\n",
       "      <td>2020-01-03</td>\n",
       "      <td>73.610840</td>\n",
       "      <td>1874.969971</td>\n",
       "      <td>208.669998</td>\n",
       "      <td>1361.520020</td>\n",
       "      <td>325.899994</td>\n",
       "      <td>212.698853</td>\n",
       "      <td>109.038803</td>\n",
       "    </tr>\n",
       "    <tr>\n",
       "      <th>2</th>\n",
       "      <td>2020-01-06</td>\n",
       "      <td>74.197395</td>\n",
       "      <td>1902.880005</td>\n",
       "      <td>212.600006</td>\n",
       "      <td>1397.810059</td>\n",
       "      <td>335.829987</td>\n",
       "      <td>214.069321</td>\n",
       "      <td>106.944778</td>\n",
       "    </tr>\n",
       "    <tr>\n",
       "      <th>3</th>\n",
       "      <td>2020-01-07</td>\n",
       "      <td>73.848442</td>\n",
       "      <td>1906.859985</td>\n",
       "      <td>213.059998</td>\n",
       "      <td>1395.109985</td>\n",
       "      <td>330.750000</td>\n",
       "      <td>214.039520</td>\n",
       "      <td>106.994637</td>\n",
       "    </tr>\n",
       "    <tr>\n",
       "      <th>4</th>\n",
       "      <td>2020-01-08</td>\n",
       "      <td>75.036385</td>\n",
       "      <td>1891.969971</td>\n",
       "      <td>215.220001</td>\n",
       "      <td>1405.040039</td>\n",
       "      <td>339.260010</td>\n",
       "      <td>215.648300</td>\n",
       "      <td>104.601471</td>\n",
       "    </tr>\n",
       "    <tr>\n",
       "      <th>...</th>\n",
       "      <td>...</td>\n",
       "      <td>...</td>\n",
       "      <td>...</td>\n",
       "      <td>...</td>\n",
       "      <td>...</td>\n",
       "      <td>...</td>\n",
       "      <td>...</td>\n",
       "      <td>...</td>\n",
       "    </tr>\n",
       "    <tr>\n",
       "      <th>304</th>\n",
       "      <td>2021-03-18</td>\n",
       "      <td>120.529999</td>\n",
       "      <td>3027.989990</td>\n",
       "      <td>278.619995</td>\n",
       "      <td>2021.339966</td>\n",
       "      <td>504.790009</td>\n",
       "      <td>311.646393</td>\n",
       "      <td>14.190000</td>\n",
       "    </tr>\n",
       "    <tr>\n",
       "      <th>305</th>\n",
       "      <td>2021-03-19</td>\n",
       "      <td>119.989998</td>\n",
       "      <td>3074.959961</td>\n",
       "      <td>290.109985</td>\n",
       "      <td>2026.959961</td>\n",
       "      <td>512.179993</td>\n",
       "      <td>312.745026</td>\n",
       "      <td>14.010000</td>\n",
       "    </tr>\n",
       "    <tr>\n",
       "      <th>306</th>\n",
       "      <td>2021-03-22</td>\n",
       "      <td>123.389999</td>\n",
       "      <td>3110.870117</td>\n",
       "      <td>293.540009</td>\n",
       "      <td>2030.689941</td>\n",
       "      <td>523.109985</td>\n",
       "      <td>318.609985</td>\n",
       "      <td>13.250000</td>\n",
       "    </tr>\n",
       "    <tr>\n",
       "      <th>307</th>\n",
       "      <td>2021-03-23</td>\n",
       "      <td>122.540001</td>\n",
       "      <td>3137.500000</td>\n",
       "      <td>290.630005</td>\n",
       "      <td>2041.329956</td>\n",
       "      <td>535.090027</td>\n",
       "      <td>317.220001</td>\n",
       "      <td>13.430000</td>\n",
       "    </tr>\n",
       "    <tr>\n",
       "      <th>308</th>\n",
       "      <td>2021-03-24</td>\n",
       "      <td>121.411003</td>\n",
       "      <td>3133.669922</td>\n",
       "      <td>286.910004</td>\n",
       "      <td>2053.280029</td>\n",
       "      <td>528.530029</td>\n",
       "      <td>316.250000</td>\n",
       "      <td>13.550000</td>\n",
       "    </tr>\n",
       "  </tbody>\n",
       "</table>\n",
       "<p>309 rows × 8 columns</p>\n",
       "</div>"
      ],
      "text/plain": [
       "          Date        AAPL         AMZN          FB        GOOGL        NFLX  \\\n",
       "0   2020-01-02   74.333511  1898.010010  209.779999  1368.680054  329.809998   \n",
       "1   2020-01-03   73.610840  1874.969971  208.669998  1361.520020  325.899994   \n",
       "2   2020-01-06   74.197395  1902.880005  212.600006  1397.810059  335.829987   \n",
       "3   2020-01-07   73.848442  1906.859985  213.059998  1395.109985  330.750000   \n",
       "4   2020-01-08   75.036385  1891.969971  215.220001  1405.040039  339.260010   \n",
       "..         ...         ...          ...         ...          ...         ...   \n",
       "304 2021-03-18  120.529999  3027.989990  278.619995  2021.339966  504.790009   \n",
       "305 2021-03-19  119.989998  3074.959961  290.109985  2026.959961  512.179993   \n",
       "306 2021-03-22  123.389999  3110.870117  293.540009  2030.689941  523.109985   \n",
       "307 2021-03-23  122.540001  3137.500000  290.630005  2041.329956  535.090027   \n",
       "308 2021-03-24  121.411003  3133.669922  286.910004  2053.280029  528.530029   \n",
       "\n",
       "            QQQ        SQQQ  \n",
       "0    214.665176  106.196915  \n",
       "1    212.698853  109.038803  \n",
       "2    214.069321  106.944778  \n",
       "3    214.039520  106.994637  \n",
       "4    215.648300  104.601471  \n",
       "..          ...         ...  \n",
       "304  311.646393   14.190000  \n",
       "305  312.745026   14.010000  \n",
       "306  318.609985   13.250000  \n",
       "307  317.220001   13.430000  \n",
       "308  316.250000   13.550000  \n",
       "\n",
       "[309 rows x 8 columns]"
      ]
     },
     "execution_count": 33,
     "metadata": {},
     "output_type": "execute_result"
    }
   ],
   "source": [
    "data"
   ]
  },
  {
   "cell_type": "markdown",
   "metadata": {},
   "source": [
    "## Inplace"
   ]
  },
  {
   "cell_type": "code",
   "execution_count": 34,
   "metadata": {},
   "outputs": [],
   "source": [
    "data.set_index('Date', inplace=True)\n",
    "\n",
    "# es lo mismo que hacer la asignacion destructiva\n",
    "data = data.set_index('Date')\n"
   ]
  },
  {
   "cell_type": "code",
   "execution_count": 35,
   "metadata": {},
   "outputs": [
    {
     "data": {
      "text/html": [
       "<div>\n",
       "<style scoped>\n",
       "    .dataframe tbody tr th:only-of-type {\n",
       "        vertical-align: middle;\n",
       "    }\n",
       "\n",
       "    .dataframe tbody tr th {\n",
       "        vertical-align: top;\n",
       "    }\n",
       "\n",
       "    .dataframe thead th {\n",
       "        text-align: right;\n",
       "    }\n",
       "</style>\n",
       "<table border=\"1\" class=\"dataframe\">\n",
       "  <thead>\n",
       "    <tr style=\"text-align: right;\">\n",
       "      <th></th>\n",
       "      <th>AAPL</th>\n",
       "      <th>AMZN</th>\n",
       "      <th>FB</th>\n",
       "      <th>GOOGL</th>\n",
       "      <th>NFLX</th>\n",
       "      <th>QQQ</th>\n",
       "      <th>SQQQ</th>\n",
       "    </tr>\n",
       "    <tr>\n",
       "      <th>Date</th>\n",
       "      <th></th>\n",
       "      <th></th>\n",
       "      <th></th>\n",
       "      <th></th>\n",
       "      <th></th>\n",
       "      <th></th>\n",
       "      <th></th>\n",
       "    </tr>\n",
       "  </thead>\n",
       "  <tbody>\n",
       "    <tr>\n",
       "      <th>2020-01-02</th>\n",
       "      <td>74.333511</td>\n",
       "      <td>1898.010010</td>\n",
       "      <td>209.779999</td>\n",
       "      <td>1368.680054</td>\n",
       "      <td>329.809998</td>\n",
       "      <td>214.665176</td>\n",
       "      <td>106.196915</td>\n",
       "    </tr>\n",
       "    <tr>\n",
       "      <th>2020-01-03</th>\n",
       "      <td>73.610840</td>\n",
       "      <td>1874.969971</td>\n",
       "      <td>208.669998</td>\n",
       "      <td>1361.520020</td>\n",
       "      <td>325.899994</td>\n",
       "      <td>212.698853</td>\n",
       "      <td>109.038803</td>\n",
       "    </tr>\n",
       "    <tr>\n",
       "      <th>2020-01-06</th>\n",
       "      <td>74.197395</td>\n",
       "      <td>1902.880005</td>\n",
       "      <td>212.600006</td>\n",
       "      <td>1397.810059</td>\n",
       "      <td>335.829987</td>\n",
       "      <td>214.069321</td>\n",
       "      <td>106.944778</td>\n",
       "    </tr>\n",
       "    <tr>\n",
       "      <th>2020-01-07</th>\n",
       "      <td>73.848442</td>\n",
       "      <td>1906.859985</td>\n",
       "      <td>213.059998</td>\n",
       "      <td>1395.109985</td>\n",
       "      <td>330.750000</td>\n",
       "      <td>214.039520</td>\n",
       "      <td>106.994637</td>\n",
       "    </tr>\n",
       "    <tr>\n",
       "      <th>2020-01-08</th>\n",
       "      <td>75.036385</td>\n",
       "      <td>1891.969971</td>\n",
       "      <td>215.220001</td>\n",
       "      <td>1405.040039</td>\n",
       "      <td>339.260010</td>\n",
       "      <td>215.648300</td>\n",
       "      <td>104.601471</td>\n",
       "    </tr>\n",
       "    <tr>\n",
       "      <th>...</th>\n",
       "      <td>...</td>\n",
       "      <td>...</td>\n",
       "      <td>...</td>\n",
       "      <td>...</td>\n",
       "      <td>...</td>\n",
       "      <td>...</td>\n",
       "      <td>...</td>\n",
       "    </tr>\n",
       "    <tr>\n",
       "      <th>2021-03-18</th>\n",
       "      <td>120.529999</td>\n",
       "      <td>3027.989990</td>\n",
       "      <td>278.619995</td>\n",
       "      <td>2021.339966</td>\n",
       "      <td>504.790009</td>\n",
       "      <td>311.646393</td>\n",
       "      <td>14.190000</td>\n",
       "    </tr>\n",
       "    <tr>\n",
       "      <th>2021-03-19</th>\n",
       "      <td>119.989998</td>\n",
       "      <td>3074.959961</td>\n",
       "      <td>290.109985</td>\n",
       "      <td>2026.959961</td>\n",
       "      <td>512.179993</td>\n",
       "      <td>312.745026</td>\n",
       "      <td>14.010000</td>\n",
       "    </tr>\n",
       "    <tr>\n",
       "      <th>2021-03-22</th>\n",
       "      <td>123.389999</td>\n",
       "      <td>3110.870117</td>\n",
       "      <td>293.540009</td>\n",
       "      <td>2030.689941</td>\n",
       "      <td>523.109985</td>\n",
       "      <td>318.609985</td>\n",
       "      <td>13.250000</td>\n",
       "    </tr>\n",
       "    <tr>\n",
       "      <th>2021-03-23</th>\n",
       "      <td>122.540001</td>\n",
       "      <td>3137.500000</td>\n",
       "      <td>290.630005</td>\n",
       "      <td>2041.329956</td>\n",
       "      <td>535.090027</td>\n",
       "      <td>317.220001</td>\n",
       "      <td>13.430000</td>\n",
       "    </tr>\n",
       "    <tr>\n",
       "      <th>2021-03-24</th>\n",
       "      <td>121.411003</td>\n",
       "      <td>3133.669922</td>\n",
       "      <td>286.910004</td>\n",
       "      <td>2053.280029</td>\n",
       "      <td>528.530029</td>\n",
       "      <td>316.250000</td>\n",
       "      <td>13.550000</td>\n",
       "    </tr>\n",
       "  </tbody>\n",
       "</table>\n",
       "<p>309 rows × 7 columns</p>\n",
       "</div>"
      ],
      "text/plain": [
       "                  AAPL         AMZN          FB        GOOGL        NFLX  \\\n",
       "Date                                                                       \n",
       "2020-01-02   74.333511  1898.010010  209.779999  1368.680054  329.809998   \n",
       "2020-01-03   73.610840  1874.969971  208.669998  1361.520020  325.899994   \n",
       "2020-01-06   74.197395  1902.880005  212.600006  1397.810059  335.829987   \n",
       "2020-01-07   73.848442  1906.859985  213.059998  1395.109985  330.750000   \n",
       "2020-01-08   75.036385  1891.969971  215.220001  1405.040039  339.260010   \n",
       "...                ...          ...         ...          ...         ...   \n",
       "2021-03-18  120.529999  3027.989990  278.619995  2021.339966  504.790009   \n",
       "2021-03-19  119.989998  3074.959961  290.109985  2026.959961  512.179993   \n",
       "2021-03-22  123.389999  3110.870117  293.540009  2030.689941  523.109985   \n",
       "2021-03-23  122.540001  3137.500000  290.630005  2041.329956  535.090027   \n",
       "2021-03-24  121.411003  3133.669922  286.910004  2053.280029  528.530029   \n",
       "\n",
       "                   QQQ        SQQQ  \n",
       "Date                                \n",
       "2020-01-02  214.665176  106.196915  \n",
       "2020-01-03  212.698853  109.038803  \n",
       "2020-01-06  214.069321  106.944778  \n",
       "2020-01-07  214.039520  106.994637  \n",
       "2020-01-08  215.648300  104.601471  \n",
       "...                ...         ...  \n",
       "2021-03-18  311.646393   14.190000  \n",
       "2021-03-19  312.745026   14.010000  \n",
       "2021-03-22  318.609985   13.250000  \n",
       "2021-03-23  317.220001   13.430000  \n",
       "2021-03-24  316.250000   13.550000  \n",
       "\n",
       "[309 rows x 7 columns]"
      ]
     },
     "execution_count": 35,
     "metadata": {},
     "output_type": "execute_result"
    }
   ],
   "source": [
    "data"
   ]
  },
  {
   "cell_type": "code",
   "execution_count": 115,
   "metadata": {},
   "outputs": [
    {
     "data": {
      "text/plain": [
       "-0.0065255763312457304"
      ]
     },
     "execution_count": 115,
     "metadata": {},
     "output_type": "execute_result"
    }
   ],
   "source": [
    "73.848442 / 74.333511 - 1"
   ]
  },
  {
   "cell_type": "markdown",
   "metadata": {},
   "source": [
    "## Magia I: pct_change()"
   ]
  },
  {
   "cell_type": "code",
   "execution_count": 117,
   "metadata": {},
   "outputs": [
    {
     "data": {
      "text/html": [
       "<div>\n",
       "<style scoped>\n",
       "    .dataframe tbody tr th:only-of-type {\n",
       "        vertical-align: middle;\n",
       "    }\n",
       "\n",
       "    .dataframe tbody tr th {\n",
       "        vertical-align: top;\n",
       "    }\n",
       "\n",
       "    .dataframe thead th {\n",
       "        text-align: right;\n",
       "    }\n",
       "</style>\n",
       "<table border=\"1\" class=\"dataframe\">\n",
       "  <thead>\n",
       "    <tr style=\"text-align: right;\">\n",
       "      <th></th>\n",
       "      <th>AAPL</th>\n",
       "      <th>AMZN</th>\n",
       "      <th>FB</th>\n",
       "      <th>GOOGL</th>\n",
       "      <th>NFLX</th>\n",
       "      <th>QQQ</th>\n",
       "      <th>SQQQ</th>\n",
       "    </tr>\n",
       "    <tr>\n",
       "      <th>Date</th>\n",
       "      <th></th>\n",
       "      <th></th>\n",
       "      <th></th>\n",
       "      <th></th>\n",
       "      <th></th>\n",
       "      <th></th>\n",
       "      <th></th>\n",
       "    </tr>\n",
       "  </thead>\n",
       "  <tbody>\n",
       "    <tr>\n",
       "      <th>2020-01-02</th>\n",
       "      <td>NaN</td>\n",
       "      <td>NaN</td>\n",
       "      <td>NaN</td>\n",
       "      <td>NaN</td>\n",
       "      <td>NaN</td>\n",
       "      <td>NaN</td>\n",
       "      <td>NaN</td>\n",
       "    </tr>\n",
       "    <tr>\n",
       "      <th>2020-01-03</th>\n",
       "      <td>-0.009722</td>\n",
       "      <td>-0.012139</td>\n",
       "      <td>-0.005291</td>\n",
       "      <td>-0.005231</td>\n",
       "      <td>-0.011855</td>\n",
       "      <td>-0.009160</td>\n",
       "      <td>0.026761</td>\n",
       "    </tr>\n",
       "    <tr>\n",
       "      <th>2020-01-06</th>\n",
       "      <td>0.007968</td>\n",
       "      <td>0.014886</td>\n",
       "      <td>0.018834</td>\n",
       "      <td>0.026654</td>\n",
       "      <td>0.030469</td>\n",
       "      <td>0.006443</td>\n",
       "      <td>-0.019204</td>\n",
       "    </tr>\n",
       "    <tr>\n",
       "      <th>2020-01-07</th>\n",
       "      <td>-0.004703</td>\n",
       "      <td>0.002092</td>\n",
       "      <td>0.002164</td>\n",
       "      <td>-0.001932</td>\n",
       "      <td>-0.015127</td>\n",
       "      <td>-0.000139</td>\n",
       "      <td>0.000466</td>\n",
       "    </tr>\n",
       "    <tr>\n",
       "      <th>2020-01-08</th>\n",
       "      <td>0.016086</td>\n",
       "      <td>-0.007809</td>\n",
       "      <td>0.010138</td>\n",
       "      <td>0.007118</td>\n",
       "      <td>0.025729</td>\n",
       "      <td>0.007516</td>\n",
       "      <td>-0.022367</td>\n",
       "    </tr>\n",
       "    <tr>\n",
       "      <th>...</th>\n",
       "      <td>...</td>\n",
       "      <td>...</td>\n",
       "      <td>...</td>\n",
       "      <td>...</td>\n",
       "      <td>...</td>\n",
       "      <td>...</td>\n",
       "      <td>...</td>\n",
       "    </tr>\n",
       "    <tr>\n",
       "      <th>2021-04-14</th>\n",
       "      <td>-0.017853</td>\n",
       "      <td>-0.019706</td>\n",
       "      <td>-0.022404</td>\n",
       "      <td>-0.005554</td>\n",
       "      <td>-0.024759</td>\n",
       "      <td>-0.012008</td>\n",
       "      <td>0.036381</td>\n",
       "    </tr>\n",
       "    <tr>\n",
       "      <th>2021-04-15</th>\n",
       "      <td>0.018708</td>\n",
       "      <td>0.013828</td>\n",
       "      <td>0.016511</td>\n",
       "      <td>0.019332</td>\n",
       "      <td>0.017036</td>\n",
       "      <td>0.015155</td>\n",
       "      <td>-0.046805</td>\n",
       "    </tr>\n",
       "    <tr>\n",
       "      <th>2021-04-16</th>\n",
       "      <td>-0.002528</td>\n",
       "      <td>0.006022</td>\n",
       "      <td>-0.005328</td>\n",
       "      <td>-0.001094</td>\n",
       "      <td>-0.004880</td>\n",
       "      <td>0.001171</td>\n",
       "      <td>-0.002833</td>\n",
       "    </tr>\n",
       "    <tr>\n",
       "      <th>2021-04-19</th>\n",
       "      <td>0.005069</td>\n",
       "      <td>-0.008069</td>\n",
       "      <td>-0.012868</td>\n",
       "      <td>0.003071</td>\n",
       "      <td>0.014455</td>\n",
       "      <td>-0.009152</td>\n",
       "      <td>0.028409</td>\n",
       "    </tr>\n",
       "    <tr>\n",
       "      <th>2021-04-20</th>\n",
       "      <td>-0.012830</td>\n",
       "      <td>-0.011068</td>\n",
       "      <td>0.001357</td>\n",
       "      <td>-0.004695</td>\n",
       "      <td>-0.008784</td>\n",
       "      <td>-0.007289</td>\n",
       "      <td>0.021179</td>\n",
       "    </tr>\n",
       "  </tbody>\n",
       "</table>\n",
       "<p>327 rows × 7 columns</p>\n",
       "</div>"
      ],
      "text/plain": [
       "                AAPL      AMZN        FB     GOOGL      NFLX       QQQ  \\\n",
       "Date                                                                     \n",
       "2020-01-02       NaN       NaN       NaN       NaN       NaN       NaN   \n",
       "2020-01-03 -0.009722 -0.012139 -0.005291 -0.005231 -0.011855 -0.009160   \n",
       "2020-01-06  0.007968  0.014886  0.018834  0.026654  0.030469  0.006443   \n",
       "2020-01-07 -0.004703  0.002092  0.002164 -0.001932 -0.015127 -0.000139   \n",
       "2020-01-08  0.016086 -0.007809  0.010138  0.007118  0.025729  0.007516   \n",
       "...              ...       ...       ...       ...       ...       ...   \n",
       "2021-04-14 -0.017853 -0.019706 -0.022404 -0.005554 -0.024759 -0.012008   \n",
       "2021-04-15  0.018708  0.013828  0.016511  0.019332  0.017036  0.015155   \n",
       "2021-04-16 -0.002528  0.006022 -0.005328 -0.001094 -0.004880  0.001171   \n",
       "2021-04-19  0.005069 -0.008069 -0.012868  0.003071  0.014455 -0.009152   \n",
       "2021-04-20 -0.012830 -0.011068  0.001357 -0.004695 -0.008784 -0.007289   \n",
       "\n",
       "                SQQQ  \n",
       "Date                  \n",
       "2020-01-02       NaN  \n",
       "2020-01-03  0.026761  \n",
       "2020-01-06 -0.019204  \n",
       "2020-01-07  0.000466  \n",
       "2020-01-08 -0.022367  \n",
       "...              ...  \n",
       "2021-04-14  0.036381  \n",
       "2021-04-15 -0.046805  \n",
       "2021-04-16 -0.002833  \n",
       "2021-04-19  0.028409  \n",
       "2021-04-20  0.021179  \n",
       "\n",
       "[327 rows x 7 columns]"
      ]
     },
     "execution_count": 117,
     "metadata": {},
     "output_type": "execute_result"
    }
   ],
   "source": [
    "va = data.pct_change(1)\n",
    "va"
   ]
  },
  {
   "cell_type": "code",
   "execution_count": 110,
   "metadata": {},
   "outputs": [
    {
     "data": {
      "text/html": [
       "<div>\n",
       "<style scoped>\n",
       "    .dataframe tbody tr th:only-of-type {\n",
       "        vertical-align: middle;\n",
       "    }\n",
       "\n",
       "    .dataframe tbody tr th {\n",
       "        vertical-align: top;\n",
       "    }\n",
       "\n",
       "    .dataframe thead th {\n",
       "        text-align: right;\n",
       "    }\n",
       "</style>\n",
       "<table border=\"1\" class=\"dataframe\">\n",
       "  <thead>\n",
       "    <tr style=\"text-align: right;\">\n",
       "      <th></th>\n",
       "      <th>AAPL</th>\n",
       "      <th>AMZN</th>\n",
       "      <th>FB</th>\n",
       "      <th>GOOGL</th>\n",
       "      <th>NFLX</th>\n",
       "      <th>QQQ</th>\n",
       "      <th>SQQQ</th>\n",
       "    </tr>\n",
       "    <tr>\n",
       "      <th>Date</th>\n",
       "      <th></th>\n",
       "      <th></th>\n",
       "      <th></th>\n",
       "      <th></th>\n",
       "      <th></th>\n",
       "      <th></th>\n",
       "      <th></th>\n",
       "    </tr>\n",
       "  </thead>\n",
       "  <tbody>\n",
       "    <tr>\n",
       "      <th>2020-01-03</th>\n",
       "      <td>-0.009722</td>\n",
       "      <td>-0.012139</td>\n",
       "      <td>-0.005291</td>\n",
       "      <td>-0.005231</td>\n",
       "      <td>-0.011855</td>\n",
       "      <td>-0.009160</td>\n",
       "      <td>0.026761</td>\n",
       "    </tr>\n",
       "    <tr>\n",
       "      <th>2020-01-06</th>\n",
       "      <td>0.007968</td>\n",
       "      <td>0.014886</td>\n",
       "      <td>0.018834</td>\n",
       "      <td>0.026654</td>\n",
       "      <td>0.030469</td>\n",
       "      <td>0.006443</td>\n",
       "      <td>-0.019204</td>\n",
       "    </tr>\n",
       "    <tr>\n",
       "      <th>2020-01-07</th>\n",
       "      <td>-0.004703</td>\n",
       "      <td>0.002092</td>\n",
       "      <td>0.002164</td>\n",
       "      <td>-0.001932</td>\n",
       "      <td>-0.015127</td>\n",
       "      <td>-0.000139</td>\n",
       "      <td>0.000466</td>\n",
       "    </tr>\n",
       "    <tr>\n",
       "      <th>2020-01-08</th>\n",
       "      <td>0.016086</td>\n",
       "      <td>-0.007809</td>\n",
       "      <td>0.010138</td>\n",
       "      <td>0.007118</td>\n",
       "      <td>0.025729</td>\n",
       "      <td>0.007516</td>\n",
       "      <td>-0.022367</td>\n",
       "    </tr>\n",
       "    <tr>\n",
       "      <th>2020-01-09</th>\n",
       "      <td>0.021241</td>\n",
       "      <td>0.004799</td>\n",
       "      <td>0.014311</td>\n",
       "      <td>0.010498</td>\n",
       "      <td>-0.010611</td>\n",
       "      <td>0.008474</td>\n",
       "      <td>-0.025262</td>\n",
       "    </tr>\n",
       "    <tr>\n",
       "      <th>...</th>\n",
       "      <td>...</td>\n",
       "      <td>...</td>\n",
       "      <td>...</td>\n",
       "      <td>...</td>\n",
       "      <td>...</td>\n",
       "      <td>...</td>\n",
       "      <td>...</td>\n",
       "    </tr>\n",
       "    <tr>\n",
       "      <th>2021-04-14</th>\n",
       "      <td>-0.017853</td>\n",
       "      <td>-0.019706</td>\n",
       "      <td>-0.022404</td>\n",
       "      <td>-0.005554</td>\n",
       "      <td>-0.024759</td>\n",
       "      <td>-0.012008</td>\n",
       "      <td>0.036381</td>\n",
       "    </tr>\n",
       "    <tr>\n",
       "      <th>2021-04-15</th>\n",
       "      <td>0.018708</td>\n",
       "      <td>0.013828</td>\n",
       "      <td>0.016511</td>\n",
       "      <td>0.019332</td>\n",
       "      <td>0.017036</td>\n",
       "      <td>0.015155</td>\n",
       "      <td>-0.046805</td>\n",
       "    </tr>\n",
       "    <tr>\n",
       "      <th>2021-04-16</th>\n",
       "      <td>-0.002528</td>\n",
       "      <td>0.006022</td>\n",
       "      <td>-0.005328</td>\n",
       "      <td>-0.001094</td>\n",
       "      <td>-0.004880</td>\n",
       "      <td>0.001171</td>\n",
       "      <td>-0.002833</td>\n",
       "    </tr>\n",
       "    <tr>\n",
       "      <th>2021-04-19</th>\n",
       "      <td>0.005069</td>\n",
       "      <td>-0.008069</td>\n",
       "      <td>-0.012868</td>\n",
       "      <td>0.003071</td>\n",
       "      <td>0.014455</td>\n",
       "      <td>-0.009152</td>\n",
       "      <td>0.028409</td>\n",
       "    </tr>\n",
       "    <tr>\n",
       "      <th>2021-04-20</th>\n",
       "      <td>-0.012830</td>\n",
       "      <td>-0.011068</td>\n",
       "      <td>0.001357</td>\n",
       "      <td>-0.004695</td>\n",
       "      <td>-0.008784</td>\n",
       "      <td>-0.007289</td>\n",
       "      <td>0.021179</td>\n",
       "    </tr>\n",
       "  </tbody>\n",
       "</table>\n",
       "<p>326 rows × 7 columns</p>\n",
       "</div>"
      ],
      "text/plain": [
       "                AAPL      AMZN        FB     GOOGL      NFLX       QQQ  \\\n",
       "Date                                                                     \n",
       "2020-01-03 -0.009722 -0.012139 -0.005291 -0.005231 -0.011855 -0.009160   \n",
       "2020-01-06  0.007968  0.014886  0.018834  0.026654  0.030469  0.006443   \n",
       "2020-01-07 -0.004703  0.002092  0.002164 -0.001932 -0.015127 -0.000139   \n",
       "2020-01-08  0.016086 -0.007809  0.010138  0.007118  0.025729  0.007516   \n",
       "2020-01-09  0.021241  0.004799  0.014311  0.010498 -0.010611  0.008474   \n",
       "...              ...       ...       ...       ...       ...       ...   \n",
       "2021-04-14 -0.017853 -0.019706 -0.022404 -0.005554 -0.024759 -0.012008   \n",
       "2021-04-15  0.018708  0.013828  0.016511  0.019332  0.017036  0.015155   \n",
       "2021-04-16 -0.002528  0.006022 -0.005328 -0.001094 -0.004880  0.001171   \n",
       "2021-04-19  0.005069 -0.008069 -0.012868  0.003071  0.014455 -0.009152   \n",
       "2021-04-20 -0.012830 -0.011068  0.001357 -0.004695 -0.008784 -0.007289   \n",
       "\n",
       "                SQQQ  \n",
       "Date                  \n",
       "2020-01-03  0.026761  \n",
       "2020-01-06 -0.019204  \n",
       "2020-01-07  0.000466  \n",
       "2020-01-08 -0.022367  \n",
       "2020-01-09 -0.025262  \n",
       "...              ...  \n",
       "2021-04-14  0.036381  \n",
       "2021-04-15 -0.046805  \n",
       "2021-04-16 -0.002833  \n",
       "2021-04-19  0.028409  \n",
       "2021-04-20  0.021179  \n",
       "\n",
       "[326 rows x 7 columns]"
      ]
     },
     "execution_count": 110,
     "metadata": {},
     "output_type": "execute_result"
    }
   ],
   "source": [
    "va = va.dropna()\n",
    "va"
   ]
  },
  {
   "cell_type": "code",
   "execution_count": 118,
   "metadata": {},
   "outputs": [],
   "source": [
    "va.dropna(inplace=True)"
   ]
  },
  {
   "cell_type": "code",
   "execution_count": 119,
   "metadata": {},
   "outputs": [
    {
     "data": {
      "text/html": [
       "<div>\n",
       "<style scoped>\n",
       "    .dataframe tbody tr th:only-of-type {\n",
       "        vertical-align: middle;\n",
       "    }\n",
       "\n",
       "    .dataframe tbody tr th {\n",
       "        vertical-align: top;\n",
       "    }\n",
       "\n",
       "    .dataframe thead th {\n",
       "        text-align: right;\n",
       "    }\n",
       "</style>\n",
       "<table border=\"1\" class=\"dataframe\">\n",
       "  <thead>\n",
       "    <tr style=\"text-align: right;\">\n",
       "      <th></th>\n",
       "      <th>AAPL</th>\n",
       "      <th>AMZN</th>\n",
       "      <th>FB</th>\n",
       "      <th>GOOGL</th>\n",
       "      <th>NFLX</th>\n",
       "      <th>QQQ</th>\n",
       "      <th>SQQQ</th>\n",
       "    </tr>\n",
       "    <tr>\n",
       "      <th>Date</th>\n",
       "      <th></th>\n",
       "      <th></th>\n",
       "      <th></th>\n",
       "      <th></th>\n",
       "      <th></th>\n",
       "      <th></th>\n",
       "      <th></th>\n",
       "    </tr>\n",
       "  </thead>\n",
       "  <tbody>\n",
       "    <tr>\n",
       "      <th>2020-01-03</th>\n",
       "      <td>-0.009722</td>\n",
       "      <td>-0.012139</td>\n",
       "      <td>-0.005291</td>\n",
       "      <td>-0.005231</td>\n",
       "      <td>-0.011855</td>\n",
       "      <td>-0.009160</td>\n",
       "      <td>0.026761</td>\n",
       "    </tr>\n",
       "    <tr>\n",
       "      <th>2020-01-06</th>\n",
       "      <td>0.007968</td>\n",
       "      <td>0.014886</td>\n",
       "      <td>0.018834</td>\n",
       "      <td>0.026654</td>\n",
       "      <td>0.030469</td>\n",
       "      <td>0.006443</td>\n",
       "      <td>-0.019204</td>\n",
       "    </tr>\n",
       "    <tr>\n",
       "      <th>2020-01-07</th>\n",
       "      <td>-0.004703</td>\n",
       "      <td>0.002092</td>\n",
       "      <td>0.002164</td>\n",
       "      <td>-0.001932</td>\n",
       "      <td>-0.015127</td>\n",
       "      <td>-0.000139</td>\n",
       "      <td>0.000466</td>\n",
       "    </tr>\n",
       "    <tr>\n",
       "      <th>2020-01-08</th>\n",
       "      <td>0.016086</td>\n",
       "      <td>-0.007809</td>\n",
       "      <td>0.010138</td>\n",
       "      <td>0.007118</td>\n",
       "      <td>0.025729</td>\n",
       "      <td>0.007516</td>\n",
       "      <td>-0.022367</td>\n",
       "    </tr>\n",
       "    <tr>\n",
       "      <th>2020-01-09</th>\n",
       "      <td>0.021241</td>\n",
       "      <td>0.004799</td>\n",
       "      <td>0.014311</td>\n",
       "      <td>0.010498</td>\n",
       "      <td>-0.010611</td>\n",
       "      <td>0.008474</td>\n",
       "      <td>-0.025262</td>\n",
       "    </tr>\n",
       "    <tr>\n",
       "      <th>...</th>\n",
       "      <td>...</td>\n",
       "      <td>...</td>\n",
       "      <td>...</td>\n",
       "      <td>...</td>\n",
       "      <td>...</td>\n",
       "      <td>...</td>\n",
       "      <td>...</td>\n",
       "    </tr>\n",
       "    <tr>\n",
       "      <th>2021-04-14</th>\n",
       "      <td>-0.017853</td>\n",
       "      <td>-0.019706</td>\n",
       "      <td>-0.022404</td>\n",
       "      <td>-0.005554</td>\n",
       "      <td>-0.024759</td>\n",
       "      <td>-0.012008</td>\n",
       "      <td>0.036381</td>\n",
       "    </tr>\n",
       "    <tr>\n",
       "      <th>2021-04-15</th>\n",
       "      <td>0.018708</td>\n",
       "      <td>0.013828</td>\n",
       "      <td>0.016511</td>\n",
       "      <td>0.019332</td>\n",
       "      <td>0.017036</td>\n",
       "      <td>0.015155</td>\n",
       "      <td>-0.046805</td>\n",
       "    </tr>\n",
       "    <tr>\n",
       "      <th>2021-04-16</th>\n",
       "      <td>-0.002528</td>\n",
       "      <td>0.006022</td>\n",
       "      <td>-0.005328</td>\n",
       "      <td>-0.001094</td>\n",
       "      <td>-0.004880</td>\n",
       "      <td>0.001171</td>\n",
       "      <td>-0.002833</td>\n",
       "    </tr>\n",
       "    <tr>\n",
       "      <th>2021-04-19</th>\n",
       "      <td>0.005069</td>\n",
       "      <td>-0.008069</td>\n",
       "      <td>-0.012868</td>\n",
       "      <td>0.003071</td>\n",
       "      <td>0.014455</td>\n",
       "      <td>-0.009152</td>\n",
       "      <td>0.028409</td>\n",
       "    </tr>\n",
       "    <tr>\n",
       "      <th>2021-04-20</th>\n",
       "      <td>-0.012830</td>\n",
       "      <td>-0.011068</td>\n",
       "      <td>0.001357</td>\n",
       "      <td>-0.004695</td>\n",
       "      <td>-0.008784</td>\n",
       "      <td>-0.007289</td>\n",
       "      <td>0.021179</td>\n",
       "    </tr>\n",
       "  </tbody>\n",
       "</table>\n",
       "<p>326 rows × 7 columns</p>\n",
       "</div>"
      ],
      "text/plain": [
       "                AAPL      AMZN        FB     GOOGL      NFLX       QQQ  \\\n",
       "Date                                                                     \n",
       "2020-01-03 -0.009722 -0.012139 -0.005291 -0.005231 -0.011855 -0.009160   \n",
       "2020-01-06  0.007968  0.014886  0.018834  0.026654  0.030469  0.006443   \n",
       "2020-01-07 -0.004703  0.002092  0.002164 -0.001932 -0.015127 -0.000139   \n",
       "2020-01-08  0.016086 -0.007809  0.010138  0.007118  0.025729  0.007516   \n",
       "2020-01-09  0.021241  0.004799  0.014311  0.010498 -0.010611  0.008474   \n",
       "...              ...       ...       ...       ...       ...       ...   \n",
       "2021-04-14 -0.017853 -0.019706 -0.022404 -0.005554 -0.024759 -0.012008   \n",
       "2021-04-15  0.018708  0.013828  0.016511  0.019332  0.017036  0.015155   \n",
       "2021-04-16 -0.002528  0.006022 -0.005328 -0.001094 -0.004880  0.001171   \n",
       "2021-04-19  0.005069 -0.008069 -0.012868  0.003071  0.014455 -0.009152   \n",
       "2021-04-20 -0.012830 -0.011068  0.001357 -0.004695 -0.008784 -0.007289   \n",
       "\n",
       "                SQQQ  \n",
       "Date                  \n",
       "2020-01-03  0.026761  \n",
       "2020-01-06 -0.019204  \n",
       "2020-01-07  0.000466  \n",
       "2020-01-08 -0.022367  \n",
       "2020-01-09 -0.025262  \n",
       "...              ...  \n",
       "2021-04-14  0.036381  \n",
       "2021-04-15 -0.046805  \n",
       "2021-04-16 -0.002833  \n",
       "2021-04-19  0.028409  \n",
       "2021-04-20  0.021179  \n",
       "\n",
       "[326 rows x 7 columns]"
      ]
     },
     "execution_count": 119,
     "metadata": {},
     "output_type": "execute_result"
    }
   ],
   "source": [
    "va"
   ]
  },
  {
   "cell_type": "code",
   "execution_count": null,
   "metadata": {},
   "outputs": [],
   "source": []
  },
  {
   "cell_type": "markdown",
   "metadata": {},
   "source": [
    "## Magia II: rolling()"
   ]
  },
  {
   "cell_type": "code",
   "execution_count": 120,
   "metadata": {},
   "outputs": [
    {
     "data": {
      "text/html": [
       "<div>\n",
       "<style scoped>\n",
       "    .dataframe tbody tr th:only-of-type {\n",
       "        vertical-align: middle;\n",
       "    }\n",
       "\n",
       "    .dataframe tbody tr th {\n",
       "        vertical-align: top;\n",
       "    }\n",
       "\n",
       "    .dataframe thead th {\n",
       "        text-align: right;\n",
       "    }\n",
       "</style>\n",
       "<table border=\"1\" class=\"dataframe\">\n",
       "  <thead>\n",
       "    <tr style=\"text-align: right;\">\n",
       "      <th></th>\n",
       "      <th>AAPL</th>\n",
       "      <th>AMZN</th>\n",
       "      <th>FB</th>\n",
       "      <th>GOOGL</th>\n",
       "      <th>NFLX</th>\n",
       "      <th>QQQ</th>\n",
       "      <th>SQQQ</th>\n",
       "    </tr>\n",
       "    <tr>\n",
       "      <th>Date</th>\n",
       "      <th></th>\n",
       "      <th></th>\n",
       "      <th></th>\n",
       "      <th></th>\n",
       "      <th></th>\n",
       "      <th></th>\n",
       "      <th></th>\n",
       "    </tr>\n",
       "  </thead>\n",
       "  <tbody>\n",
       "    <tr>\n",
       "      <th>2020-01-02</th>\n",
       "      <td>74.333511</td>\n",
       "      <td>1898.010010</td>\n",
       "      <td>209.779999</td>\n",
       "      <td>1368.680054</td>\n",
       "      <td>329.809998</td>\n",
       "      <td>214.665176</td>\n",
       "      <td>106.196915</td>\n",
       "    </tr>\n",
       "    <tr>\n",
       "      <th>2020-01-03</th>\n",
       "      <td>73.610840</td>\n",
       "      <td>1874.969971</td>\n",
       "      <td>208.669998</td>\n",
       "      <td>1361.520020</td>\n",
       "      <td>325.899994</td>\n",
       "      <td>212.698853</td>\n",
       "      <td>109.038803</td>\n",
       "    </tr>\n",
       "    <tr>\n",
       "      <th>2020-01-06</th>\n",
       "      <td>74.197395</td>\n",
       "      <td>1902.880005</td>\n",
       "      <td>212.600006</td>\n",
       "      <td>1397.810059</td>\n",
       "      <td>335.829987</td>\n",
       "      <td>214.069321</td>\n",
       "      <td>106.944778</td>\n",
       "    </tr>\n",
       "    <tr>\n",
       "      <th>2020-01-07</th>\n",
       "      <td>73.848442</td>\n",
       "      <td>1906.859985</td>\n",
       "      <td>213.059998</td>\n",
       "      <td>1395.109985</td>\n",
       "      <td>330.750000</td>\n",
       "      <td>214.039520</td>\n",
       "      <td>106.994637</td>\n",
       "    </tr>\n",
       "    <tr>\n",
       "      <th>2020-01-08</th>\n",
       "      <td>75.036385</td>\n",
       "      <td>1891.969971</td>\n",
       "      <td>215.220001</td>\n",
       "      <td>1405.040039</td>\n",
       "      <td>339.260010</td>\n",
       "      <td>215.648300</td>\n",
       "      <td>104.601471</td>\n",
       "    </tr>\n",
       "    <tr>\n",
       "      <th>...</th>\n",
       "      <td>...</td>\n",
       "      <td>...</td>\n",
       "      <td>...</td>\n",
       "      <td>...</td>\n",
       "      <td>...</td>\n",
       "      <td>...</td>\n",
       "      <td>...</td>\n",
       "    </tr>\n",
       "    <tr>\n",
       "      <th>2021-04-14</th>\n",
       "      <td>132.029999</td>\n",
       "      <td>3333.000000</td>\n",
       "      <td>302.820007</td>\n",
       "      <td>2241.909912</td>\n",
       "      <td>540.020020</td>\n",
       "      <td>336.510010</td>\n",
       "      <td>11.110000</td>\n",
       "    </tr>\n",
       "    <tr>\n",
       "      <th>2021-04-15</th>\n",
       "      <td>134.500000</td>\n",
       "      <td>3379.090088</td>\n",
       "      <td>307.820007</td>\n",
       "      <td>2285.250000</td>\n",
       "      <td>549.219971</td>\n",
       "      <td>341.609985</td>\n",
       "      <td>10.590000</td>\n",
       "    </tr>\n",
       "    <tr>\n",
       "      <th>2021-04-16</th>\n",
       "      <td>134.160004</td>\n",
       "      <td>3399.439941</td>\n",
       "      <td>306.179993</td>\n",
       "      <td>2282.750000</td>\n",
       "      <td>546.539978</td>\n",
       "      <td>342.010010</td>\n",
       "      <td>10.560000</td>\n",
       "    </tr>\n",
       "    <tr>\n",
       "      <th>2021-04-19</th>\n",
       "      <td>134.839996</td>\n",
       "      <td>3372.010010</td>\n",
       "      <td>302.239990</td>\n",
       "      <td>2289.760010</td>\n",
       "      <td>554.440002</td>\n",
       "      <td>338.880005</td>\n",
       "      <td>10.860000</td>\n",
       "    </tr>\n",
       "    <tr>\n",
       "      <th>2021-04-20</th>\n",
       "      <td>133.110001</td>\n",
       "      <td>3334.689941</td>\n",
       "      <td>302.649994</td>\n",
       "      <td>2279.010010</td>\n",
       "      <td>549.570007</td>\n",
       "      <td>336.410004</td>\n",
       "      <td>11.090000</td>\n",
       "    </tr>\n",
       "  </tbody>\n",
       "</table>\n",
       "<p>327 rows × 7 columns</p>\n",
       "</div>"
      ],
      "text/plain": [
       "                  AAPL         AMZN          FB        GOOGL        NFLX  \\\n",
       "Date                                                                       \n",
       "2020-01-02   74.333511  1898.010010  209.779999  1368.680054  329.809998   \n",
       "2020-01-03   73.610840  1874.969971  208.669998  1361.520020  325.899994   \n",
       "2020-01-06   74.197395  1902.880005  212.600006  1397.810059  335.829987   \n",
       "2020-01-07   73.848442  1906.859985  213.059998  1395.109985  330.750000   \n",
       "2020-01-08   75.036385  1891.969971  215.220001  1405.040039  339.260010   \n",
       "...                ...          ...         ...          ...         ...   \n",
       "2021-04-14  132.029999  3333.000000  302.820007  2241.909912  540.020020   \n",
       "2021-04-15  134.500000  3379.090088  307.820007  2285.250000  549.219971   \n",
       "2021-04-16  134.160004  3399.439941  306.179993  2282.750000  546.539978   \n",
       "2021-04-19  134.839996  3372.010010  302.239990  2289.760010  554.440002   \n",
       "2021-04-20  133.110001  3334.689941  302.649994  2279.010010  549.570007   \n",
       "\n",
       "                   QQQ        SQQQ  \n",
       "Date                                \n",
       "2020-01-02  214.665176  106.196915  \n",
       "2020-01-03  212.698853  109.038803  \n",
       "2020-01-06  214.069321  106.944778  \n",
       "2020-01-07  214.039520  106.994637  \n",
       "2020-01-08  215.648300  104.601471  \n",
       "...                ...         ...  \n",
       "2021-04-14  336.510010   11.110000  \n",
       "2021-04-15  341.609985   10.590000  \n",
       "2021-04-16  342.010010   10.560000  \n",
       "2021-04-19  338.880005   10.860000  \n",
       "2021-04-20  336.410004   11.090000  \n",
       "\n",
       "[327 rows x 7 columns]"
      ]
     },
     "execution_count": 120,
     "metadata": {},
     "output_type": "execute_result"
    }
   ],
   "source": [
    "data"
   ]
  },
  {
   "cell_type": "code",
   "execution_count": 121,
   "metadata": {},
   "outputs": [
    {
     "data": {
      "text/plain": [
       "74.04724866666666"
      ]
     },
     "execution_count": 121,
     "metadata": {},
     "output_type": "execute_result"
    }
   ],
   "source": [
    "(74.333511 + 73.610840 + 74.197395)/3"
   ]
  },
  {
   "cell_type": "code",
   "execution_count": 124,
   "metadata": {
    "scrolled": false
   },
   "outputs": [
    {
     "data": {
      "text/html": [
       "<div>\n",
       "<style scoped>\n",
       "    .dataframe tbody tr th:only-of-type {\n",
       "        vertical-align: middle;\n",
       "    }\n",
       "\n",
       "    .dataframe tbody tr th {\n",
       "        vertical-align: top;\n",
       "    }\n",
       "\n",
       "    .dataframe thead th {\n",
       "        text-align: right;\n",
       "    }\n",
       "</style>\n",
       "<table border=\"1\" class=\"dataframe\">\n",
       "  <thead>\n",
       "    <tr style=\"text-align: right;\">\n",
       "      <th></th>\n",
       "      <th>AAPL</th>\n",
       "      <th>AMZN</th>\n",
       "      <th>FB</th>\n",
       "      <th>GOOGL</th>\n",
       "      <th>NFLX</th>\n",
       "      <th>QQQ</th>\n",
       "      <th>SQQQ</th>\n",
       "    </tr>\n",
       "    <tr>\n",
       "      <th>Date</th>\n",
       "      <th></th>\n",
       "      <th></th>\n",
       "      <th></th>\n",
       "      <th></th>\n",
       "      <th></th>\n",
       "      <th></th>\n",
       "      <th></th>\n",
       "    </tr>\n",
       "  </thead>\n",
       "  <tbody>\n",
       "    <tr>\n",
       "      <th>2020-12-28</th>\n",
       "      <td>21.635787</td>\n",
       "      <td>544.919063</td>\n",
       "      <td>38.552179</td>\n",
       "      <td>173.674054</td>\n",
       "      <td>65.328176</td>\n",
       "      <td>36.481098</td>\n",
       "      <td>35.421692</td>\n",
       "    </tr>\n",
       "    <tr>\n",
       "      <th>2020-12-29</th>\n",
       "      <td>21.746852</td>\n",
       "      <td>544.221663</td>\n",
       "      <td>38.615416</td>\n",
       "      <td>174.452250</td>\n",
       "      <td>65.131767</td>\n",
       "      <td>36.638596</td>\n",
       "      <td>35.329588</td>\n",
       "    </tr>\n",
       "    <tr>\n",
       "      <th>2020-12-30</th>\n",
       "      <td>21.843625</td>\n",
       "      <td>543.162049</td>\n",
       "      <td>38.653502</td>\n",
       "      <td>175.062165</td>\n",
       "      <td>64.864618</td>\n",
       "      <td>36.783601</td>\n",
       "      <td>35.215223</td>\n",
       "    </tr>\n",
       "    <tr>\n",
       "      <th>2020-12-31</th>\n",
       "      <td>21.932499</td>\n",
       "      <td>542.082633</td>\n",
       "      <td>38.704811</td>\n",
       "      <td>175.839491</td>\n",
       "      <td>64.743563</td>\n",
       "      <td>36.934418</td>\n",
       "      <td>35.110672</td>\n",
       "    </tr>\n",
       "    <tr>\n",
       "      <th>2021-01-04</th>\n",
       "      <td>21.995973</td>\n",
       "      <td>540.695296</td>\n",
       "      <td>38.739857</td>\n",
       "      <td>176.441236</td>\n",
       "      <td>64.483231</td>\n",
       "      <td>37.051097</td>\n",
       "      <td>34.998968</td>\n",
       "    </tr>\n",
       "    <tr>\n",
       "      <th>...</th>\n",
       "      <td>...</td>\n",
       "      <td>...</td>\n",
       "      <td>...</td>\n",
       "      <td>...</td>\n",
       "      <td>...</td>\n",
       "      <td>...</td>\n",
       "      <td>...</td>\n",
       "    </tr>\n",
       "    <tr>\n",
       "      <th>2021-04-14</th>\n",
       "      <td>19.516156</td>\n",
       "      <td>306.998219</td>\n",
       "      <td>27.366257</td>\n",
       "      <td>256.378525</td>\n",
       "      <td>40.441055</td>\n",
       "      <td>34.952289</td>\n",
       "      <td>14.297355</td>\n",
       "    </tr>\n",
       "    <tr>\n",
       "      <th>2021-04-15</th>\n",
       "      <td>19.398927</td>\n",
       "      <td>304.913497</td>\n",
       "      <td>27.083736</td>\n",
       "      <td>258.105830</td>\n",
       "      <td>40.306813</td>\n",
       "      <td>34.894284</td>\n",
       "      <td>14.140500</td>\n",
       "    </tr>\n",
       "    <tr>\n",
       "      <th>2021-04-16</th>\n",
       "      <td>19.263140</td>\n",
       "      <td>303.016940</td>\n",
       "      <td>26.764499</td>\n",
       "      <td>259.622948</td>\n",
       "      <td>40.249900</td>\n",
       "      <td>34.811037</td>\n",
       "      <td>13.956363</td>\n",
       "    </tr>\n",
       "    <tr>\n",
       "      <th>2021-04-19</th>\n",
       "      <td>19.106321</td>\n",
       "      <td>300.331051</td>\n",
       "      <td>26.308229</td>\n",
       "      <td>260.796033</td>\n",
       "      <td>40.206871</td>\n",
       "      <td>34.630772</td>\n",
       "      <td>13.674996</td>\n",
       "    </tr>\n",
       "    <tr>\n",
       "      <th>2021-04-20</th>\n",
       "      <td>18.954333</td>\n",
       "      <td>297.744879</td>\n",
       "      <td>25.984760</td>\n",
       "      <td>262.114251</td>\n",
       "      <td>40.043834</td>\n",
       "      <td>34.479707</td>\n",
       "      <td>13.466913</td>\n",
       "    </tr>\n",
       "  </tbody>\n",
       "</table>\n",
       "<p>78 rows × 7 columns</p>\n",
       "</div>"
      ],
      "text/plain": [
       "                 AAPL        AMZN         FB       GOOGL       NFLX  \\\n",
       "Date                                                                  \n",
       "2020-12-28  21.635787  544.919063  38.552179  173.674054  65.328176   \n",
       "2020-12-29  21.746852  544.221663  38.615416  174.452250  65.131767   \n",
       "2020-12-30  21.843625  543.162049  38.653502  175.062165  64.864618   \n",
       "2020-12-31  21.932499  542.082633  38.704811  175.839491  64.743563   \n",
       "2021-01-04  21.995973  540.695296  38.739857  176.441236  64.483231   \n",
       "...               ...         ...        ...         ...        ...   \n",
       "2021-04-14  19.516156  306.998219  27.366257  256.378525  40.441055   \n",
       "2021-04-15  19.398927  304.913497  27.083736  258.105830  40.306813   \n",
       "2021-04-16  19.263140  303.016940  26.764499  259.622948  40.249900   \n",
       "2021-04-19  19.106321  300.331051  26.308229  260.796033  40.206871   \n",
       "2021-04-20  18.954333  297.744879  25.984760  262.114251  40.043834   \n",
       "\n",
       "                  QQQ       SQQQ  \n",
       "Date                              \n",
       "2020-12-28  36.481098  35.421692  \n",
       "2020-12-29  36.638596  35.329588  \n",
       "2020-12-30  36.783601  35.215223  \n",
       "2020-12-31  36.934418  35.110672  \n",
       "2021-01-04  37.051097  34.998968  \n",
       "...               ...        ...  \n",
       "2021-04-14  34.952289  14.297355  \n",
       "2021-04-15  34.894284  14.140500  \n",
       "2021-04-16  34.811037  13.956363  \n",
       "2021-04-19  34.630772  13.674996  \n",
       "2021-04-20  34.479707  13.466913  \n",
       "\n",
       "[78 rows x 7 columns]"
      ]
     },
     "execution_count": 124,
     "metadata": {},
     "output_type": "execute_result"
    }
   ],
   "source": [
    "data.rolling(250).std().dropna()"
   ]
  },
  {
   "cell_type": "code",
   "execution_count": 126,
   "metadata": {},
   "outputs": [
    {
     "data": {
      "text/html": [
       "<div>\n",
       "<style scoped>\n",
       "    .dataframe tbody tr th:only-of-type {\n",
       "        vertical-align: middle;\n",
       "    }\n",
       "\n",
       "    .dataframe tbody tr th {\n",
       "        vertical-align: top;\n",
       "    }\n",
       "\n",
       "    .dataframe thead th {\n",
       "        text-align: right;\n",
       "    }\n",
       "</style>\n",
       "<table border=\"1\" class=\"dataframe\">\n",
       "  <thead>\n",
       "    <tr style=\"text-align: right;\">\n",
       "      <th></th>\n",
       "      <th>AAPL</th>\n",
       "      <th>AMZN</th>\n",
       "      <th>FB</th>\n",
       "      <th>GOOGL</th>\n",
       "      <th>NFLX</th>\n",
       "      <th>QQQ</th>\n",
       "      <th>SQQQ</th>\n",
       "    </tr>\n",
       "    <tr>\n",
       "      <th>Date</th>\n",
       "      <th></th>\n",
       "      <th></th>\n",
       "      <th></th>\n",
       "      <th></th>\n",
       "      <th></th>\n",
       "      <th></th>\n",
       "      <th></th>\n",
       "    </tr>\n",
       "  </thead>\n",
       "  <tbody>\n",
       "    <tr>\n",
       "      <th>2020-01-03</th>\n",
       "      <td>-0.009722</td>\n",
       "      <td>-0.012139</td>\n",
       "      <td>-0.005291</td>\n",
       "      <td>-0.005231</td>\n",
       "      <td>-0.011855</td>\n",
       "      <td>-0.009160</td>\n",
       "      <td>0.026761</td>\n",
       "    </tr>\n",
       "    <tr>\n",
       "      <th>2020-01-06</th>\n",
       "      <td>0.007968</td>\n",
       "      <td>0.014886</td>\n",
       "      <td>0.018834</td>\n",
       "      <td>0.026654</td>\n",
       "      <td>0.030469</td>\n",
       "      <td>0.006443</td>\n",
       "      <td>-0.019204</td>\n",
       "    </tr>\n",
       "    <tr>\n",
       "      <th>2020-01-07</th>\n",
       "      <td>-0.004703</td>\n",
       "      <td>0.002092</td>\n",
       "      <td>0.002164</td>\n",
       "      <td>-0.001932</td>\n",
       "      <td>-0.015127</td>\n",
       "      <td>-0.000139</td>\n",
       "      <td>0.000466</td>\n",
       "    </tr>\n",
       "    <tr>\n",
       "      <th>2020-01-08</th>\n",
       "      <td>0.016086</td>\n",
       "      <td>-0.007809</td>\n",
       "      <td>0.010138</td>\n",
       "      <td>0.007118</td>\n",
       "      <td>0.025729</td>\n",
       "      <td>0.007516</td>\n",
       "      <td>-0.022367</td>\n",
       "    </tr>\n",
       "    <tr>\n",
       "      <th>2020-01-09</th>\n",
       "      <td>0.021241</td>\n",
       "      <td>0.004799</td>\n",
       "      <td>0.014311</td>\n",
       "      <td>0.010498</td>\n",
       "      <td>-0.010611</td>\n",
       "      <td>0.008474</td>\n",
       "      <td>-0.025262</td>\n",
       "    </tr>\n",
       "    <tr>\n",
       "      <th>...</th>\n",
       "      <td>...</td>\n",
       "      <td>...</td>\n",
       "      <td>...</td>\n",
       "      <td>...</td>\n",
       "      <td>...</td>\n",
       "      <td>...</td>\n",
       "      <td>...</td>\n",
       "    </tr>\n",
       "    <tr>\n",
       "      <th>2021-04-14</th>\n",
       "      <td>-0.017853</td>\n",
       "      <td>-0.019706</td>\n",
       "      <td>-0.022404</td>\n",
       "      <td>-0.005554</td>\n",
       "      <td>-0.024759</td>\n",
       "      <td>-0.012008</td>\n",
       "      <td>0.036381</td>\n",
       "    </tr>\n",
       "    <tr>\n",
       "      <th>2021-04-15</th>\n",
       "      <td>0.018708</td>\n",
       "      <td>0.013828</td>\n",
       "      <td>0.016511</td>\n",
       "      <td>0.019332</td>\n",
       "      <td>0.017036</td>\n",
       "      <td>0.015155</td>\n",
       "      <td>-0.046805</td>\n",
       "    </tr>\n",
       "    <tr>\n",
       "      <th>2021-04-16</th>\n",
       "      <td>-0.002528</td>\n",
       "      <td>0.006022</td>\n",
       "      <td>-0.005328</td>\n",
       "      <td>-0.001094</td>\n",
       "      <td>-0.004880</td>\n",
       "      <td>0.001171</td>\n",
       "      <td>-0.002833</td>\n",
       "    </tr>\n",
       "    <tr>\n",
       "      <th>2021-04-19</th>\n",
       "      <td>0.005069</td>\n",
       "      <td>-0.008069</td>\n",
       "      <td>-0.012868</td>\n",
       "      <td>0.003071</td>\n",
       "      <td>0.014455</td>\n",
       "      <td>-0.009152</td>\n",
       "      <td>0.028409</td>\n",
       "    </tr>\n",
       "    <tr>\n",
       "      <th>2021-04-20</th>\n",
       "      <td>-0.012830</td>\n",
       "      <td>-0.011068</td>\n",
       "      <td>0.001357</td>\n",
       "      <td>-0.004695</td>\n",
       "      <td>-0.008784</td>\n",
       "      <td>-0.007289</td>\n",
       "      <td>0.021179</td>\n",
       "    </tr>\n",
       "  </tbody>\n",
       "</table>\n",
       "<p>326 rows × 7 columns</p>\n",
       "</div>"
      ],
      "text/plain": [
       "                AAPL      AMZN        FB     GOOGL      NFLX       QQQ  \\\n",
       "Date                                                                     \n",
       "2020-01-03 -0.009722 -0.012139 -0.005291 -0.005231 -0.011855 -0.009160   \n",
       "2020-01-06  0.007968  0.014886  0.018834  0.026654  0.030469  0.006443   \n",
       "2020-01-07 -0.004703  0.002092  0.002164 -0.001932 -0.015127 -0.000139   \n",
       "2020-01-08  0.016086 -0.007809  0.010138  0.007118  0.025729  0.007516   \n",
       "2020-01-09  0.021241  0.004799  0.014311  0.010498 -0.010611  0.008474   \n",
       "...              ...       ...       ...       ...       ...       ...   \n",
       "2021-04-14 -0.017853 -0.019706 -0.022404 -0.005554 -0.024759 -0.012008   \n",
       "2021-04-15  0.018708  0.013828  0.016511  0.019332  0.017036  0.015155   \n",
       "2021-04-16 -0.002528  0.006022 -0.005328 -0.001094 -0.004880  0.001171   \n",
       "2021-04-19  0.005069 -0.008069 -0.012868  0.003071  0.014455 -0.009152   \n",
       "2021-04-20 -0.012830 -0.011068  0.001357 -0.004695 -0.008784 -0.007289   \n",
       "\n",
       "                SQQQ  \n",
       "Date                  \n",
       "2020-01-03  0.026761  \n",
       "2020-01-06 -0.019204  \n",
       "2020-01-07  0.000466  \n",
       "2020-01-08 -0.022367  \n",
       "2020-01-09 -0.025262  \n",
       "...              ...  \n",
       "2021-04-14  0.036381  \n",
       "2021-04-15 -0.046805  \n",
       "2021-04-16 -0.002833  \n",
       "2021-04-19  0.028409  \n",
       "2021-04-20  0.021179  \n",
       "\n",
       "[326 rows x 7 columns]"
      ]
     },
     "execution_count": 126,
     "metadata": {},
     "output_type": "execute_result"
    }
   ],
   "source": [
    "va"
   ]
  },
  {
   "cell_type": "markdown",
   "metadata": {},
   "source": [
    "$$ \\Large  cov_{x,y}  = \\sum_{i=1}^{n} \\frac{(x_i-\\bar{x})(y_i-\\bar{y})}{n-1} $$"
   ]
  },
  {
   "cell_type": "code",
   "execution_count": 130,
   "metadata": {},
   "outputs": [
    {
     "data": {
      "text/plain": [
       "0.00043722255884098236"
      ]
     },
     "execution_count": 130,
     "metadata": {},
     "output_type": "execute_result"
    }
   ],
   "source": [
    "X, Y = va.AAPL, va.AMZN\n",
    "xm, ym = sum(X)/len(X), sum(Y)/len(Y)\n",
    "\n",
    "cov = 0\n",
    "for xi, yi in zip(X,Y):\n",
    "    cov += (xi-xm)*(yi-ym) / (len(X)-1)\n",
    "\n",
    "cov"
   ]
  },
  {
   "cell_type": "code",
   "execution_count": 131,
   "metadata": {},
   "outputs": [
    {
     "data": {
      "text/plain": [
       "0.0004372225588409826"
      ]
     },
     "execution_count": 131,
     "metadata": {},
     "output_type": "execute_result"
    }
   ],
   "source": [
    "va.AAPL.cov(va.AMZN)"
   ]
  },
  {
   "cell_type": "markdown",
   "metadata": {},
   "source": [
    "## Magia III: matriz de covarianzas, correlacion, etc.."
   ]
  },
  {
   "cell_type": "markdown",
   "metadata": {},
   "source": [
    "$$ \\Large \\rho_{x,y} = \\frac{cov_{x,y}}{\\sigma_x \\sigma_y}  $$"
   ]
  },
  {
   "cell_type": "code",
   "execution_count": 149,
   "metadata": {},
   "outputs": [
    {
     "data": {
      "text/html": [
       "<div>\n",
       "<style scoped>\n",
       "    .dataframe tbody tr th:only-of-type {\n",
       "        vertical-align: middle;\n",
       "    }\n",
       "\n",
       "    .dataframe tbody tr th {\n",
       "        vertical-align: top;\n",
       "    }\n",
       "\n",
       "    .dataframe thead th {\n",
       "        text-align: right;\n",
       "    }\n",
       "</style>\n",
       "<table border=\"1\" class=\"dataframe\">\n",
       "  <thead>\n",
       "    <tr style=\"text-align: right;\">\n",
       "      <th></th>\n",
       "      <th>AAPL</th>\n",
       "      <th>AMZN</th>\n",
       "      <th>FB</th>\n",
       "      <th>GOOGL</th>\n",
       "      <th>NFLX</th>\n",
       "      <th>QQQ</th>\n",
       "      <th>SQQQ</th>\n",
       "    </tr>\n",
       "  </thead>\n",
       "  <tbody>\n",
       "    <tr>\n",
       "      <th>AAPL</th>\n",
       "      <td>0.000760</td>\n",
       "      <td>0.000437</td>\n",
       "      <td>0.000565</td>\n",
       "      <td>0.000461</td>\n",
       "      <td>0.000435</td>\n",
       "      <td>0.000517</td>\n",
       "      <td>-0.001528</td>\n",
       "    </tr>\n",
       "    <tr>\n",
       "      <th>AMZN</th>\n",
       "      <td>0.000437</td>\n",
       "      <td>0.000515</td>\n",
       "      <td>0.000422</td>\n",
       "      <td>0.000351</td>\n",
       "      <td>0.000444</td>\n",
       "      <td>0.000377</td>\n",
       "      <td>-0.001115</td>\n",
       "    </tr>\n",
       "    <tr>\n",
       "      <th>FB</th>\n",
       "      <td>0.000565</td>\n",
       "      <td>0.000422</td>\n",
       "      <td>0.000738</td>\n",
       "      <td>0.000490</td>\n",
       "      <td>0.000441</td>\n",
       "      <td>0.000459</td>\n",
       "      <td>-0.001361</td>\n",
       "    </tr>\n",
       "    <tr>\n",
       "      <th>GOOGL</th>\n",
       "      <td>0.000461</td>\n",
       "      <td>0.000351</td>\n",
       "      <td>0.000490</td>\n",
       "      <td>0.000540</td>\n",
       "      <td>0.000363</td>\n",
       "      <td>0.000419</td>\n",
       "      <td>-0.001237</td>\n",
       "    </tr>\n",
       "    <tr>\n",
       "      <th>NFLX</th>\n",
       "      <td>0.000435</td>\n",
       "      <td>0.000444</td>\n",
       "      <td>0.000441</td>\n",
       "      <td>0.000363</td>\n",
       "      <td>0.000836</td>\n",
       "      <td>0.000386</td>\n",
       "      <td>-0.001134</td>\n",
       "    </tr>\n",
       "    <tr>\n",
       "      <th>QQQ</th>\n",
       "      <td>0.000517</td>\n",
       "      <td>0.000377</td>\n",
       "      <td>0.000459</td>\n",
       "      <td>0.000419</td>\n",
       "      <td>0.000386</td>\n",
       "      <td>0.000439</td>\n",
       "      <td>-0.001291</td>\n",
       "    </tr>\n",
       "    <tr>\n",
       "      <th>SQQQ</th>\n",
       "      <td>-0.001528</td>\n",
       "      <td>-0.001115</td>\n",
       "      <td>-0.001361</td>\n",
       "      <td>-0.001237</td>\n",
       "      <td>-0.001134</td>\n",
       "      <td>-0.001291</td>\n",
       "      <td>0.003808</td>\n",
       "    </tr>\n",
       "  </tbody>\n",
       "</table>\n",
       "</div>"
      ],
      "text/plain": [
       "           AAPL      AMZN        FB     GOOGL      NFLX       QQQ      SQQQ\n",
       "AAPL   0.000760  0.000437  0.000565  0.000461  0.000435  0.000517 -0.001528\n",
       "AMZN   0.000437  0.000515  0.000422  0.000351  0.000444  0.000377 -0.001115\n",
       "FB     0.000565  0.000422  0.000738  0.000490  0.000441  0.000459 -0.001361\n",
       "GOOGL  0.000461  0.000351  0.000490  0.000540  0.000363  0.000419 -0.001237\n",
       "NFLX   0.000435  0.000444  0.000441  0.000363  0.000836  0.000386 -0.001134\n",
       "QQQ    0.000517  0.000377  0.000459  0.000419  0.000386  0.000439 -0.001291\n",
       "SQQQ  -0.001528 -0.001115 -0.001361 -0.001237 -0.001134 -0.001291  0.003808"
      ]
     },
     "execution_count": 149,
     "metadata": {},
     "output_type": "execute_result"
    }
   ],
   "source": [
    "mcov = va.cov()\n",
    "mcov"
   ]
  },
  {
   "cell_type": "code",
   "execution_count": 156,
   "metadata": {},
   "outputs": [
    {
     "data": {
      "text/plain": [
       "matrix([[0.02757056, 0.0226869 , 0.02717116, 0.02324575, 0.02892059,\n",
       "         0.02096316, 0.06170748]])"
      ]
     },
     "execution_count": 156,
     "metadata": {},
     "output_type": "execute_result"
    }
   ],
   "source": [
    "m_1_7_desv = np.matrix(va.std())\n",
    "m_1_7_desv"
   ]
  },
  {
   "cell_type": "code",
   "execution_count": 157,
   "metadata": {},
   "outputs": [
    {
     "data": {
      "text/plain": [
       "matrix([[0.02757056],\n",
       "        [0.0226869 ],\n",
       "        [0.02717116],\n",
       "        [0.02324575],\n",
       "        [0.02892059],\n",
       "        [0.02096316],\n",
       "        [0.06170748]])"
      ]
     },
     "execution_count": 157,
     "metadata": {},
     "output_type": "execute_result"
    }
   ],
   "source": [
    "m_1_7_desv.T"
   ]
  },
  {
   "cell_type": "code",
   "execution_count": 160,
   "metadata": {},
   "outputs": [
    {
     "data": {
      "text/plain": [
       "array([[0.00076, 0.00063, 0.00075, 0.00064, 0.0008 , 0.00058, 0.0017 ],\n",
       "       [0.00063, 0.00051, 0.00062, 0.00053, 0.00066, 0.00048, 0.0014 ],\n",
       "       [0.00075, 0.00062, 0.00074, 0.00063, 0.00079, 0.00057, 0.00168],\n",
       "       [0.00064, 0.00053, 0.00063, 0.00054, 0.00067, 0.00049, 0.00143],\n",
       "       [0.0008 , 0.00066, 0.00079, 0.00067, 0.00084, 0.00061, 0.00178],\n",
       "       [0.00058, 0.00048, 0.00057, 0.00049, 0.00061, 0.00044, 0.00129],\n",
       "       [0.0017 , 0.0014 , 0.00168, 0.00143, 0.00178, 0.00129, 0.00381]])"
      ]
     },
     "execution_count": 160,
     "metadata": {},
     "output_type": "execute_result"
    }
   ],
   "source": [
    "mat_prod_desvios = np.dot(m_1_7_desv.T, m_1_7_desv)\n",
    "mat_prod_desvios.round(5)"
   ]
  },
  {
   "cell_type": "code",
   "execution_count": 164,
   "metadata": {},
   "outputs": [
    {
     "data": {
      "text/plain": [
       "array([[0.00076, 0.00063, 0.00075, 0.00064, 0.0008 , 0.00058, 0.0017 ],\n",
       "       [0.00063, 0.00051, 0.00062, 0.00053, 0.00066, 0.00048, 0.0014 ],\n",
       "       [0.00075, 0.00062, 0.00074, 0.00063, 0.00079, 0.00057, 0.00168],\n",
       "       [0.00064, 0.00053, 0.00063, 0.00054, 0.00067, 0.00049, 0.00143],\n",
       "       [0.0008 , 0.00066, 0.00079, 0.00067, 0.00084, 0.00061, 0.00178],\n",
       "       [0.00058, 0.00048, 0.00057, 0.00049, 0.00061, 0.00044, 0.00129],\n",
       "       [0.0017 , 0.0014 , 0.00168, 0.00143, 0.00178, 0.00129, 0.00381]])"
      ]
     },
     "execution_count": 164,
     "metadata": {},
     "output_type": "execute_result"
    }
   ],
   "source": [
    "np.outer(m_1_7_desv, m_1_7_desv).round(5)"
   ]
  },
  {
   "cell_type": "code",
   "execution_count": 161,
   "metadata": {},
   "outputs": [
    {
     "data": {
      "text/plain": [
       "AAPL     0.000760\n",
       "AMZN     0.000515\n",
       "FB       0.000738\n",
       "GOOGL    0.000540\n",
       "NFLX     0.000836\n",
       "QQQ      0.000439\n",
       "SQQQ     0.003808\n",
       "dtype: float64"
      ]
     },
     "execution_count": 161,
     "metadata": {},
     "output_type": "execute_result"
    }
   ],
   "source": [
    "va.var()"
   ]
  },
  {
   "cell_type": "code",
   "execution_count": 162,
   "metadata": {},
   "outputs": [
    {
     "data": {
      "text/html": [
       "<div>\n",
       "<style scoped>\n",
       "    .dataframe tbody tr th:only-of-type {\n",
       "        vertical-align: middle;\n",
       "    }\n",
       "\n",
       "    .dataframe tbody tr th {\n",
       "        vertical-align: top;\n",
       "    }\n",
       "\n",
       "    .dataframe thead th {\n",
       "        text-align: right;\n",
       "    }\n",
       "</style>\n",
       "<table border=\"1\" class=\"dataframe\">\n",
       "  <thead>\n",
       "    <tr style=\"text-align: right;\">\n",
       "      <th></th>\n",
       "      <th>AAPL</th>\n",
       "      <th>AMZN</th>\n",
       "      <th>FB</th>\n",
       "      <th>GOOGL</th>\n",
       "      <th>NFLX</th>\n",
       "      <th>QQQ</th>\n",
       "      <th>SQQQ</th>\n",
       "    </tr>\n",
       "  </thead>\n",
       "  <tbody>\n",
       "    <tr>\n",
       "      <th>AAPL</th>\n",
       "      <td>1.000000</td>\n",
       "      <td>0.699007</td>\n",
       "      <td>0.754196</td>\n",
       "      <td>0.719492</td>\n",
       "      <td>0.545187</td>\n",
       "      <td>0.894603</td>\n",
       "      <td>-0.898285</td>\n",
       "    </tr>\n",
       "    <tr>\n",
       "      <th>AMZN</th>\n",
       "      <td>0.699007</td>\n",
       "      <td>1.000000</td>\n",
       "      <td>0.685076</td>\n",
       "      <td>0.665698</td>\n",
       "      <td>0.677402</td>\n",
       "      <td>0.792104</td>\n",
       "      <td>-0.796511</td>\n",
       "    </tr>\n",
       "    <tr>\n",
       "      <th>FB</th>\n",
       "      <td>0.754196</td>\n",
       "      <td>0.685076</td>\n",
       "      <td>1.000000</td>\n",
       "      <td>0.775177</td>\n",
       "      <td>0.560937</td>\n",
       "      <td>0.805771</td>\n",
       "      <td>-0.811815</td>\n",
       "    </tr>\n",
       "    <tr>\n",
       "      <th>GOOGL</th>\n",
       "      <td>0.719492</td>\n",
       "      <td>0.665698</td>\n",
       "      <td>0.775177</td>\n",
       "      <td>1.000000</td>\n",
       "      <td>0.539380</td>\n",
       "      <td>0.859089</td>\n",
       "      <td>-0.862094</td>\n",
       "    </tr>\n",
       "    <tr>\n",
       "      <th>NFLX</th>\n",
       "      <td>0.545187</td>\n",
       "      <td>0.677402</td>\n",
       "      <td>0.560937</td>\n",
       "      <td>0.539380</td>\n",
       "      <td>1.000000</td>\n",
       "      <td>0.636315</td>\n",
       "      <td>-0.635503</td>\n",
       "    </tr>\n",
       "    <tr>\n",
       "      <th>QQQ</th>\n",
       "      <td>0.894603</td>\n",
       "      <td>0.792104</td>\n",
       "      <td>0.805771</td>\n",
       "      <td>0.859089</td>\n",
       "      <td>0.636315</td>\n",
       "      <td>1.000000</td>\n",
       "      <td>-0.997903</td>\n",
       "    </tr>\n",
       "    <tr>\n",
       "      <th>SQQQ</th>\n",
       "      <td>-0.898285</td>\n",
       "      <td>-0.796511</td>\n",
       "      <td>-0.811815</td>\n",
       "      <td>-0.862094</td>\n",
       "      <td>-0.635503</td>\n",
       "      <td>-0.997903</td>\n",
       "      <td>1.000000</td>\n",
       "    </tr>\n",
       "  </tbody>\n",
       "</table>\n",
       "</div>"
      ],
      "text/plain": [
       "           AAPL      AMZN        FB     GOOGL      NFLX       QQQ      SQQQ\n",
       "AAPL   1.000000  0.699007  0.754196  0.719492  0.545187  0.894603 -0.898285\n",
       "AMZN   0.699007  1.000000  0.685076  0.665698  0.677402  0.792104 -0.796511\n",
       "FB     0.754196  0.685076  1.000000  0.775177  0.560937  0.805771 -0.811815\n",
       "GOOGL  0.719492  0.665698  0.775177  1.000000  0.539380  0.859089 -0.862094\n",
       "NFLX   0.545187  0.677402  0.560937  0.539380  1.000000  0.636315 -0.635503\n",
       "QQQ    0.894603  0.792104  0.805771  0.859089  0.636315  1.000000 -0.997903\n",
       "SQQQ  -0.898285 -0.796511 -0.811815 -0.862094 -0.635503 -0.997903  1.000000"
      ]
     },
     "execution_count": 162,
     "metadata": {},
     "output_type": "execute_result"
    }
   ],
   "source": [
    "mcov / mat_prod_desvios"
   ]
  },
  {
   "cell_type": "code",
   "execution_count": 147,
   "metadata": {},
   "outputs": [
    {
     "data": {
      "text/html": [
       "<div>\n",
       "<style scoped>\n",
       "    .dataframe tbody tr th:only-of-type {\n",
       "        vertical-align: middle;\n",
       "    }\n",
       "\n",
       "    .dataframe tbody tr th {\n",
       "        vertical-align: top;\n",
       "    }\n",
       "\n",
       "    .dataframe thead th {\n",
       "        text-align: right;\n",
       "    }\n",
       "</style>\n",
       "<table border=\"1\" class=\"dataframe\">\n",
       "  <thead>\n",
       "    <tr style=\"text-align: right;\">\n",
       "      <th></th>\n",
       "      <th>AAPL</th>\n",
       "      <th>AMZN</th>\n",
       "      <th>FB</th>\n",
       "      <th>GOOGL</th>\n",
       "      <th>NFLX</th>\n",
       "      <th>QQQ</th>\n",
       "      <th>SQQQ</th>\n",
       "    </tr>\n",
       "  </thead>\n",
       "  <tbody>\n",
       "    <tr>\n",
       "      <th>AAPL</th>\n",
       "      <td>1.000000</td>\n",
       "      <td>0.699007</td>\n",
       "      <td>0.754196</td>\n",
       "      <td>0.719492</td>\n",
       "      <td>0.545187</td>\n",
       "      <td>0.894603</td>\n",
       "      <td>-0.898285</td>\n",
       "    </tr>\n",
       "    <tr>\n",
       "      <th>AMZN</th>\n",
       "      <td>0.699007</td>\n",
       "      <td>1.000000</td>\n",
       "      <td>0.685076</td>\n",
       "      <td>0.665698</td>\n",
       "      <td>0.677402</td>\n",
       "      <td>0.792104</td>\n",
       "      <td>-0.796511</td>\n",
       "    </tr>\n",
       "    <tr>\n",
       "      <th>FB</th>\n",
       "      <td>0.754196</td>\n",
       "      <td>0.685076</td>\n",
       "      <td>1.000000</td>\n",
       "      <td>0.775177</td>\n",
       "      <td>0.560937</td>\n",
       "      <td>0.805771</td>\n",
       "      <td>-0.811815</td>\n",
       "    </tr>\n",
       "    <tr>\n",
       "      <th>GOOGL</th>\n",
       "      <td>0.719492</td>\n",
       "      <td>0.665698</td>\n",
       "      <td>0.775177</td>\n",
       "      <td>1.000000</td>\n",
       "      <td>0.539380</td>\n",
       "      <td>0.859089</td>\n",
       "      <td>-0.862094</td>\n",
       "    </tr>\n",
       "    <tr>\n",
       "      <th>NFLX</th>\n",
       "      <td>0.545187</td>\n",
       "      <td>0.677402</td>\n",
       "      <td>0.560937</td>\n",
       "      <td>0.539380</td>\n",
       "      <td>1.000000</td>\n",
       "      <td>0.636315</td>\n",
       "      <td>-0.635503</td>\n",
       "    </tr>\n",
       "    <tr>\n",
       "      <th>QQQ</th>\n",
       "      <td>0.894603</td>\n",
       "      <td>0.792104</td>\n",
       "      <td>0.805771</td>\n",
       "      <td>0.859089</td>\n",
       "      <td>0.636315</td>\n",
       "      <td>1.000000</td>\n",
       "      <td>-0.997903</td>\n",
       "    </tr>\n",
       "    <tr>\n",
       "      <th>SQQQ</th>\n",
       "      <td>-0.898285</td>\n",
       "      <td>-0.796511</td>\n",
       "      <td>-0.811815</td>\n",
       "      <td>-0.862094</td>\n",
       "      <td>-0.635503</td>\n",
       "      <td>-0.997903</td>\n",
       "      <td>1.000000</td>\n",
       "    </tr>\n",
       "  </tbody>\n",
       "</table>\n",
       "</div>"
      ],
      "text/plain": [
       "           AAPL      AMZN        FB     GOOGL      NFLX       QQQ      SQQQ\n",
       "AAPL   1.000000  0.699007  0.754196  0.719492  0.545187  0.894603 -0.898285\n",
       "AMZN   0.699007  1.000000  0.685076  0.665698  0.677402  0.792104 -0.796511\n",
       "FB     0.754196  0.685076  1.000000  0.775177  0.560937  0.805771 -0.811815\n",
       "GOOGL  0.719492  0.665698  0.775177  1.000000  0.539380  0.859089 -0.862094\n",
       "NFLX   0.545187  0.677402  0.560937  0.539380  1.000000  0.636315 -0.635503\n",
       "QQQ    0.894603  0.792104  0.805771  0.859089  0.636315  1.000000 -0.997903\n",
       "SQQQ  -0.898285 -0.796511 -0.811815 -0.862094 -0.635503 -0.997903  1.000000"
      ]
     },
     "execution_count": 147,
     "metadata": {},
     "output_type": "execute_result"
    }
   ],
   "source": [
    "va.corr()"
   ]
  },
  {
   "cell_type": "code",
   "execution_count": null,
   "metadata": {},
   "outputs": [],
   "source": []
  },
  {
   "cell_type": "code",
   "execution_count": null,
   "metadata": {},
   "outputs": [],
   "source": []
  },
  {
   "cell_type": "code",
   "execution_count": 140,
   "metadata": {},
   "outputs": [
    {
     "data": {
      "text/html": [
       "<div>\n",
       "<style scoped>\n",
       "    .dataframe tbody tr th:only-of-type {\n",
       "        vertical-align: middle;\n",
       "    }\n",
       "\n",
       "    .dataframe tbody tr th {\n",
       "        vertical-align: top;\n",
       "    }\n",
       "\n",
       "    .dataframe thead th {\n",
       "        text-align: right;\n",
       "    }\n",
       "</style>\n",
       "<table border=\"1\" class=\"dataframe\">\n",
       "  <thead>\n",
       "    <tr style=\"text-align: right;\">\n",
       "      <th></th>\n",
       "      <th>AAPL</th>\n",
       "      <th>AMZN</th>\n",
       "      <th>FB</th>\n",
       "      <th>GOOGL</th>\n",
       "      <th>NFLX</th>\n",
       "      <th>QQQ</th>\n",
       "      <th>SQQQ</th>\n",
       "    </tr>\n",
       "  </thead>\n",
       "  <tbody>\n",
       "    <tr>\n",
       "      <th>AAPL</th>\n",
       "      <td>0.000760</td>\n",
       "      <td>0.000437</td>\n",
       "      <td>0.000565</td>\n",
       "      <td>0.000461</td>\n",
       "      <td>0.000435</td>\n",
       "      <td>0.000517</td>\n",
       "      <td>-0.001528</td>\n",
       "    </tr>\n",
       "    <tr>\n",
       "      <th>AMZN</th>\n",
       "      <td>0.000437</td>\n",
       "      <td>0.000515</td>\n",
       "      <td>0.000422</td>\n",
       "      <td>0.000351</td>\n",
       "      <td>0.000444</td>\n",
       "      <td>0.000377</td>\n",
       "      <td>-0.001115</td>\n",
       "    </tr>\n",
       "    <tr>\n",
       "      <th>FB</th>\n",
       "      <td>0.000565</td>\n",
       "      <td>0.000422</td>\n",
       "      <td>0.000738</td>\n",
       "      <td>0.000490</td>\n",
       "      <td>0.000441</td>\n",
       "      <td>0.000459</td>\n",
       "      <td>-0.001361</td>\n",
       "    </tr>\n",
       "    <tr>\n",
       "      <th>GOOGL</th>\n",
       "      <td>0.000461</td>\n",
       "      <td>0.000351</td>\n",
       "      <td>0.000490</td>\n",
       "      <td>0.000540</td>\n",
       "      <td>0.000363</td>\n",
       "      <td>0.000419</td>\n",
       "      <td>-0.001237</td>\n",
       "    </tr>\n",
       "    <tr>\n",
       "      <th>NFLX</th>\n",
       "      <td>0.000435</td>\n",
       "      <td>0.000444</td>\n",
       "      <td>0.000441</td>\n",
       "      <td>0.000363</td>\n",
       "      <td>0.000836</td>\n",
       "      <td>0.000386</td>\n",
       "      <td>-0.001134</td>\n",
       "    </tr>\n",
       "    <tr>\n",
       "      <th>QQQ</th>\n",
       "      <td>0.000517</td>\n",
       "      <td>0.000377</td>\n",
       "      <td>0.000459</td>\n",
       "      <td>0.000419</td>\n",
       "      <td>0.000386</td>\n",
       "      <td>0.000439</td>\n",
       "      <td>-0.001291</td>\n",
       "    </tr>\n",
       "    <tr>\n",
       "      <th>SQQQ</th>\n",
       "      <td>-0.001528</td>\n",
       "      <td>-0.001115</td>\n",
       "      <td>-0.001361</td>\n",
       "      <td>-0.001237</td>\n",
       "      <td>-0.001134</td>\n",
       "      <td>-0.001291</td>\n",
       "      <td>0.003808</td>\n",
       "    </tr>\n",
       "  </tbody>\n",
       "</table>\n",
       "</div>"
      ],
      "text/plain": [
       "           AAPL      AMZN        FB     GOOGL      NFLX       QQQ      SQQQ\n",
       "AAPL   0.000760  0.000437  0.000565  0.000461  0.000435  0.000517 -0.001528\n",
       "AMZN   0.000437  0.000515  0.000422  0.000351  0.000444  0.000377 -0.001115\n",
       "FB     0.000565  0.000422  0.000738  0.000490  0.000441  0.000459 -0.001361\n",
       "GOOGL  0.000461  0.000351  0.000490  0.000540  0.000363  0.000419 -0.001237\n",
       "NFLX   0.000435  0.000444  0.000441  0.000363  0.000836  0.000386 -0.001134\n",
       "QQQ    0.000517  0.000377  0.000459  0.000419  0.000386  0.000439 -0.001291\n",
       "SQQQ  -0.001528 -0.001115 -0.001361 -0.001237 -0.001134 -0.001291  0.003808"
      ]
     },
     "execution_count": 140,
     "metadata": {},
     "output_type": "execute_result"
    }
   ],
   "source": [
    "data.pct_change().cov()"
   ]
  },
  {
   "cell_type": "code",
   "execution_count": 146,
   "metadata": {},
   "outputs": [
    {
     "data": {
      "text/html": [
       "<div>\n",
       "<style scoped>\n",
       "    .dataframe tbody tr th:only-of-type {\n",
       "        vertical-align: middle;\n",
       "    }\n",
       "\n",
       "    .dataframe tbody tr th {\n",
       "        vertical-align: top;\n",
       "    }\n",
       "\n",
       "    .dataframe thead th {\n",
       "        text-align: right;\n",
       "    }\n",
       "</style>\n",
       "<table border=\"1\" class=\"dataframe\">\n",
       "  <thead>\n",
       "    <tr style=\"text-align: right;\">\n",
       "      <th></th>\n",
       "      <th>AAPL</th>\n",
       "      <th>AMZN</th>\n",
       "      <th>FB</th>\n",
       "      <th>GOOGL</th>\n",
       "      <th>NFLX</th>\n",
       "      <th>QQQ</th>\n",
       "      <th>SQQQ</th>\n",
       "    </tr>\n",
       "  </thead>\n",
       "  <tbody>\n",
       "    <tr>\n",
       "      <th>AAPL</th>\n",
       "      <td>0.000760</td>\n",
       "      <td>0.000437</td>\n",
       "      <td>0.000565</td>\n",
       "      <td>0.000461</td>\n",
       "      <td>0.000435</td>\n",
       "      <td>0.000517</td>\n",
       "      <td>-0.001528</td>\n",
       "    </tr>\n",
       "    <tr>\n",
       "      <th>AMZN</th>\n",
       "      <td>0.000437</td>\n",
       "      <td>0.000515</td>\n",
       "      <td>0.000422</td>\n",
       "      <td>0.000351</td>\n",
       "      <td>0.000444</td>\n",
       "      <td>0.000377</td>\n",
       "      <td>-0.001115</td>\n",
       "    </tr>\n",
       "    <tr>\n",
       "      <th>FB</th>\n",
       "      <td>0.000565</td>\n",
       "      <td>0.000422</td>\n",
       "      <td>0.000738</td>\n",
       "      <td>0.000490</td>\n",
       "      <td>0.000441</td>\n",
       "      <td>0.000459</td>\n",
       "      <td>-0.001361</td>\n",
       "    </tr>\n",
       "    <tr>\n",
       "      <th>GOOGL</th>\n",
       "      <td>0.000461</td>\n",
       "      <td>0.000351</td>\n",
       "      <td>0.000490</td>\n",
       "      <td>0.000540</td>\n",
       "      <td>0.000363</td>\n",
       "      <td>0.000419</td>\n",
       "      <td>-0.001237</td>\n",
       "    </tr>\n",
       "    <tr>\n",
       "      <th>NFLX</th>\n",
       "      <td>0.000435</td>\n",
       "      <td>0.000444</td>\n",
       "      <td>0.000441</td>\n",
       "      <td>0.000363</td>\n",
       "      <td>0.000836</td>\n",
       "      <td>0.000386</td>\n",
       "      <td>-0.001134</td>\n",
       "    </tr>\n",
       "    <tr>\n",
       "      <th>QQQ</th>\n",
       "      <td>0.000517</td>\n",
       "      <td>0.000377</td>\n",
       "      <td>0.000459</td>\n",
       "      <td>0.000419</td>\n",
       "      <td>0.000386</td>\n",
       "      <td>0.000439</td>\n",
       "      <td>-0.001291</td>\n",
       "    </tr>\n",
       "    <tr>\n",
       "      <th>SQQQ</th>\n",
       "      <td>-0.001528</td>\n",
       "      <td>-0.001115</td>\n",
       "      <td>-0.001361</td>\n",
       "      <td>-0.001237</td>\n",
       "      <td>-0.001134</td>\n",
       "      <td>-0.001291</td>\n",
       "      <td>0.003808</td>\n",
       "    </tr>\n",
       "  </tbody>\n",
       "</table>\n",
       "</div>"
      ],
      "text/plain": [
       "           AAPL      AMZN        FB     GOOGL      NFLX       QQQ      SQQQ\n",
       "AAPL   0.000760  0.000437  0.000565  0.000461  0.000435  0.000517 -0.001528\n",
       "AMZN   0.000437  0.000515  0.000422  0.000351  0.000444  0.000377 -0.001115\n",
       "FB     0.000565  0.000422  0.000738  0.000490  0.000441  0.000459 -0.001361\n",
       "GOOGL  0.000461  0.000351  0.000490  0.000540  0.000363  0.000419 -0.001237\n",
       "NFLX   0.000435  0.000444  0.000441  0.000363  0.000836  0.000386 -0.001134\n",
       "QQQ    0.000517  0.000377  0.000459  0.000419  0.000386  0.000439 -0.001291\n",
       "SQQQ  -0.001528 -0.001115 -0.001361 -0.001237 -0.001134 -0.001291  0.003808"
      ]
     },
     "execution_count": 146,
     "metadata": {},
     "output_type": "execute_result"
    }
   ],
   "source": [
    "data.pct_change().dropna().cov()"
   ]
  },
  {
   "cell_type": "code",
   "execution_count": null,
   "metadata": {},
   "outputs": [],
   "source": []
  },
  {
   "cell_type": "code",
   "execution_count": null,
   "metadata": {},
   "outputs": [],
   "source": []
  },
  {
   "cell_type": "code",
   "execution_count": 137,
   "metadata": {},
   "outputs": [
    {
     "data": {
      "text/html": [
       "<div>\n",
       "<style scoped>\n",
       "    .dataframe tbody tr th:only-of-type {\n",
       "        vertical-align: middle;\n",
       "    }\n",
       "\n",
       "    .dataframe tbody tr th {\n",
       "        vertical-align: top;\n",
       "    }\n",
       "\n",
       "    .dataframe thead th {\n",
       "        text-align: right;\n",
       "    }\n",
       "</style>\n",
       "<table border=\"1\" class=\"dataframe\">\n",
       "  <thead>\n",
       "    <tr style=\"text-align: right;\">\n",
       "      <th></th>\n",
       "      <th>AAPL</th>\n",
       "      <th>AMZN</th>\n",
       "      <th>FB</th>\n",
       "      <th>GOOGL</th>\n",
       "      <th>NFLX</th>\n",
       "      <th>QQQ</th>\n",
       "      <th>SQQQ</th>\n",
       "    </tr>\n",
       "  </thead>\n",
       "  <tbody>\n",
       "    <tr>\n",
       "      <th>AAPL</th>\n",
       "      <td>0.000760</td>\n",
       "      <td>0.000437</td>\n",
       "      <td>0.000565</td>\n",
       "      <td>0.000461</td>\n",
       "      <td>0.000435</td>\n",
       "      <td>0.000517</td>\n",
       "      <td>-0.001528</td>\n",
       "    </tr>\n",
       "    <tr>\n",
       "      <th>AMZN</th>\n",
       "      <td>0.000437</td>\n",
       "      <td>0.000515</td>\n",
       "      <td>0.000422</td>\n",
       "      <td>0.000351</td>\n",
       "      <td>0.000444</td>\n",
       "      <td>0.000377</td>\n",
       "      <td>-0.001115</td>\n",
       "    </tr>\n",
       "    <tr>\n",
       "      <th>FB</th>\n",
       "      <td>0.000565</td>\n",
       "      <td>0.000422</td>\n",
       "      <td>0.000738</td>\n",
       "      <td>0.000490</td>\n",
       "      <td>0.000441</td>\n",
       "      <td>0.000459</td>\n",
       "      <td>-0.001361</td>\n",
       "    </tr>\n",
       "    <tr>\n",
       "      <th>GOOGL</th>\n",
       "      <td>0.000461</td>\n",
       "      <td>0.000351</td>\n",
       "      <td>0.000490</td>\n",
       "      <td>0.000540</td>\n",
       "      <td>0.000363</td>\n",
       "      <td>0.000419</td>\n",
       "      <td>-0.001237</td>\n",
       "    </tr>\n",
       "    <tr>\n",
       "      <th>NFLX</th>\n",
       "      <td>0.000435</td>\n",
       "      <td>0.000444</td>\n",
       "      <td>0.000441</td>\n",
       "      <td>0.000363</td>\n",
       "      <td>0.000836</td>\n",
       "      <td>0.000386</td>\n",
       "      <td>-0.001134</td>\n",
       "    </tr>\n",
       "    <tr>\n",
       "      <th>QQQ</th>\n",
       "      <td>0.000517</td>\n",
       "      <td>0.000377</td>\n",
       "      <td>0.000459</td>\n",
       "      <td>0.000419</td>\n",
       "      <td>0.000386</td>\n",
       "      <td>0.000439</td>\n",
       "      <td>-0.001291</td>\n",
       "    </tr>\n",
       "    <tr>\n",
       "      <th>SQQQ</th>\n",
       "      <td>-0.001528</td>\n",
       "      <td>-0.001115</td>\n",
       "      <td>-0.001361</td>\n",
       "      <td>-0.001237</td>\n",
       "      <td>-0.001134</td>\n",
       "      <td>-0.001291</td>\n",
       "      <td>0.003808</td>\n",
       "    </tr>\n",
       "  </tbody>\n",
       "</table>\n",
       "</div>"
      ],
      "text/plain": [
       "           AAPL      AMZN        FB     GOOGL      NFLX       QQQ      SQQQ\n",
       "AAPL   0.000760  0.000437  0.000565  0.000461  0.000435  0.000517 -0.001528\n",
       "AMZN   0.000437  0.000515  0.000422  0.000351  0.000444  0.000377 -0.001115\n",
       "FB     0.000565  0.000422  0.000738  0.000490  0.000441  0.000459 -0.001361\n",
       "GOOGL  0.000461  0.000351  0.000490  0.000540  0.000363  0.000419 -0.001237\n",
       "NFLX   0.000435  0.000444  0.000441  0.000363  0.000836  0.000386 -0.001134\n",
       "QQQ    0.000517  0.000377  0.000459  0.000419  0.000386  0.000439 -0.001291\n",
       "SQQQ  -0.001528 -0.001115 -0.001361 -0.001237 -0.001134 -0.001291  0.003808"
      ]
     },
     "execution_count": 137,
     "metadata": {},
     "output_type": "execute_result"
    }
   ],
   "source": [
    "va.cov()"
   ]
  },
  {
   "cell_type": "code",
   "execution_count": 39,
   "metadata": {
    "scrolled": false
   },
   "outputs": [
    {
     "data": {
      "text/html": [
       "<div>\n",
       "<style scoped>\n",
       "    .dataframe tbody tr th:only-of-type {\n",
       "        vertical-align: middle;\n",
       "    }\n",
       "\n",
       "    .dataframe tbody tr th {\n",
       "        vertical-align: top;\n",
       "    }\n",
       "\n",
       "    .dataframe thead th {\n",
       "        text-align: right;\n",
       "    }\n",
       "</style>\n",
       "<table border=\"1\" class=\"dataframe\">\n",
       "  <thead>\n",
       "    <tr style=\"text-align: right;\">\n",
       "      <th></th>\n",
       "      <th>AAPL</th>\n",
       "      <th>AMZN</th>\n",
       "      <th>FB</th>\n",
       "      <th>GOOGL</th>\n",
       "      <th>NFLX</th>\n",
       "      <th>QQQ</th>\n",
       "      <th>SQQQ</th>\n",
       "    </tr>\n",
       "  </thead>\n",
       "  <tbody>\n",
       "    <tr>\n",
       "      <th>AAPL</th>\n",
       "      <td>1.000000</td>\n",
       "      <td>0.697945</td>\n",
       "      <td>0.757745</td>\n",
       "      <td>0.720660</td>\n",
       "      <td>0.545726</td>\n",
       "      <td>0.895776</td>\n",
       "      <td>-0.899544</td>\n",
       "    </tr>\n",
       "    <tr>\n",
       "      <th>AMZN</th>\n",
       "      <td>0.697945</td>\n",
       "      <td>1.000000</td>\n",
       "      <td>0.683366</td>\n",
       "      <td>0.664386</td>\n",
       "      <td>0.677008</td>\n",
       "      <td>0.791807</td>\n",
       "      <td>-0.796281</td>\n",
       "    </tr>\n",
       "    <tr>\n",
       "      <th>FB</th>\n",
       "      <td>0.757745</td>\n",
       "      <td>0.683366</td>\n",
       "      <td>1.000000</td>\n",
       "      <td>0.776866</td>\n",
       "      <td>0.560196</td>\n",
       "      <td>0.807169</td>\n",
       "      <td>-0.813334</td>\n",
       "    </tr>\n",
       "    <tr>\n",
       "      <th>GOOGL</th>\n",
       "      <td>0.720660</td>\n",
       "      <td>0.664386</td>\n",
       "      <td>0.776866</td>\n",
       "      <td>1.000000</td>\n",
       "      <td>0.539990</td>\n",
       "      <td>0.862266</td>\n",
       "      <td>-0.865385</td>\n",
       "    </tr>\n",
       "    <tr>\n",
       "      <th>NFLX</th>\n",
       "      <td>0.545726</td>\n",
       "      <td>0.677008</td>\n",
       "      <td>0.560196</td>\n",
       "      <td>0.539990</td>\n",
       "      <td>1.000000</td>\n",
       "      <td>0.636317</td>\n",
       "      <td>-0.635470</td>\n",
       "    </tr>\n",
       "    <tr>\n",
       "      <th>QQQ</th>\n",
       "      <td>0.895776</td>\n",
       "      <td>0.791807</td>\n",
       "      <td>0.807169</td>\n",
       "      <td>0.862266</td>\n",
       "      <td>0.636317</td>\n",
       "      <td>1.000000</td>\n",
       "      <td>-0.997878</td>\n",
       "    </tr>\n",
       "    <tr>\n",
       "      <th>SQQQ</th>\n",
       "      <td>-0.899544</td>\n",
       "      <td>-0.796281</td>\n",
       "      <td>-0.813334</td>\n",
       "      <td>-0.865385</td>\n",
       "      <td>-0.635470</td>\n",
       "      <td>-0.997878</td>\n",
       "      <td>1.000000</td>\n",
       "    </tr>\n",
       "  </tbody>\n",
       "</table>\n",
       "</div>"
      ],
      "text/plain": [
       "           AAPL      AMZN        FB     GOOGL      NFLX       QQQ      SQQQ\n",
       "AAPL   1.000000  0.697945  0.757745  0.720660  0.545726  0.895776 -0.899544\n",
       "AMZN   0.697945  1.000000  0.683366  0.664386  0.677008  0.791807 -0.796281\n",
       "FB     0.757745  0.683366  1.000000  0.776866  0.560196  0.807169 -0.813334\n",
       "GOOGL  0.720660  0.664386  0.776866  1.000000  0.539990  0.862266 -0.865385\n",
       "NFLX   0.545726  0.677008  0.560196  0.539990  1.000000  0.636317 -0.635470\n",
       "QQQ    0.895776  0.791807  0.807169  0.862266  0.636317  1.000000 -0.997878\n",
       "SQQQ  -0.899544 -0.796281 -0.813334 -0.865385 -0.635470 -0.997878  1.000000"
      ]
     },
     "execution_count": 39,
     "metadata": {},
     "output_type": "execute_result"
    }
   ],
   "source": [
    "data.pct_change().corr(method='pearson')"
   ]
  },
  {
   "cell_type": "code",
   "execution_count": 148,
   "metadata": {
    "scrolled": true
   },
   "outputs": [
    {
     "data": {
      "text/html": [
       "<div>\n",
       "<style scoped>\n",
       "    .dataframe tbody tr th:only-of-type {\n",
       "        vertical-align: middle;\n",
       "    }\n",
       "\n",
       "    .dataframe tbody tr th {\n",
       "        vertical-align: top;\n",
       "    }\n",
       "\n",
       "    .dataframe thead th {\n",
       "        text-align: right;\n",
       "    }\n",
       "</style>\n",
       "<table border=\"1\" class=\"dataframe\">\n",
       "  <thead>\n",
       "    <tr style=\"text-align: right;\">\n",
       "      <th></th>\n",
       "      <th>AAPL</th>\n",
       "      <th>AMZN</th>\n",
       "      <th>FB</th>\n",
       "      <th>GOOGL</th>\n",
       "      <th>NFLX</th>\n",
       "      <th>QQQ</th>\n",
       "      <th>SQQQ</th>\n",
       "    </tr>\n",
       "  </thead>\n",
       "  <tbody>\n",
       "    <tr>\n",
       "      <th>AAPL</th>\n",
       "      <td>1.000000</td>\n",
       "      <td>0.687598</td>\n",
       "      <td>0.668981</td>\n",
       "      <td>0.646883</td>\n",
       "      <td>0.554446</td>\n",
       "      <td>0.865388</td>\n",
       "      <td>-0.868159</td>\n",
       "    </tr>\n",
       "    <tr>\n",
       "      <th>AMZN</th>\n",
       "      <td>0.687598</td>\n",
       "      <td>1.000000</td>\n",
       "      <td>0.698634</td>\n",
       "      <td>0.659304</td>\n",
       "      <td>0.693259</td>\n",
       "      <td>0.795120</td>\n",
       "      <td>-0.797045</td>\n",
       "    </tr>\n",
       "    <tr>\n",
       "      <th>FB</th>\n",
       "      <td>0.668981</td>\n",
       "      <td>0.698634</td>\n",
       "      <td>1.000000</td>\n",
       "      <td>0.753874</td>\n",
       "      <td>0.548470</td>\n",
       "      <td>0.751507</td>\n",
       "      <td>-0.756644</td>\n",
       "    </tr>\n",
       "    <tr>\n",
       "      <th>GOOGL</th>\n",
       "      <td>0.646883</td>\n",
       "      <td>0.659304</td>\n",
       "      <td>0.753874</td>\n",
       "      <td>1.000000</td>\n",
       "      <td>0.502293</td>\n",
       "      <td>0.784471</td>\n",
       "      <td>-0.785994</td>\n",
       "    </tr>\n",
       "    <tr>\n",
       "      <th>NFLX</th>\n",
       "      <td>0.554446</td>\n",
       "      <td>0.693259</td>\n",
       "      <td>0.548470</td>\n",
       "      <td>0.502293</td>\n",
       "      <td>1.000000</td>\n",
       "      <td>0.647519</td>\n",
       "      <td>-0.646181</td>\n",
       "    </tr>\n",
       "    <tr>\n",
       "      <th>QQQ</th>\n",
       "      <td>0.865388</td>\n",
       "      <td>0.795120</td>\n",
       "      <td>0.751507</td>\n",
       "      <td>0.784471</td>\n",
       "      <td>0.647519</td>\n",
       "      <td>1.000000</td>\n",
       "      <td>-0.998669</td>\n",
       "    </tr>\n",
       "    <tr>\n",
       "      <th>SQQQ</th>\n",
       "      <td>-0.868159</td>\n",
       "      <td>-0.797045</td>\n",
       "      <td>-0.756644</td>\n",
       "      <td>-0.785994</td>\n",
       "      <td>-0.646181</td>\n",
       "      <td>-0.998669</td>\n",
       "      <td>1.000000</td>\n",
       "    </tr>\n",
       "  </tbody>\n",
       "</table>\n",
       "</div>"
      ],
      "text/plain": [
       "           AAPL      AMZN        FB     GOOGL      NFLX       QQQ      SQQQ\n",
       "AAPL   1.000000  0.687598  0.668981  0.646883  0.554446  0.865388 -0.868159\n",
       "AMZN   0.687598  1.000000  0.698634  0.659304  0.693259  0.795120 -0.797045\n",
       "FB     0.668981  0.698634  1.000000  0.753874  0.548470  0.751507 -0.756644\n",
       "GOOGL  0.646883  0.659304  0.753874  1.000000  0.502293  0.784471 -0.785994\n",
       "NFLX   0.554446  0.693259  0.548470  0.502293  1.000000  0.647519 -0.646181\n",
       "QQQ    0.865388  0.795120  0.751507  0.784471  0.647519  1.000000 -0.998669\n",
       "SQQQ  -0.868159 -0.797045 -0.756644 -0.785994 -0.646181 -0.998669  1.000000"
      ]
     },
     "execution_count": 148,
     "metadata": {},
     "output_type": "execute_result"
    }
   ],
   "source": [
    "data.pct_change().corr(method='spearman')"
   ]
  },
  {
   "cell_type": "code",
   "execution_count": null,
   "metadata": {},
   "outputs": [],
   "source": []
  },
  {
   "cell_type": "markdown",
   "metadata": {},
   "source": [
    "## Magia IV: Estadística descriptiva"
   ]
  },
  {
   "cell_type": "code",
   "execution_count": 41,
   "metadata": {},
   "outputs": [
    {
     "data": {
      "text/plain": [
       "AAPL     0.445108\n",
       "AMZN     0.365654\n",
       "FB       0.437144\n",
       "GOOGL    0.374307\n",
       "NFLX     0.466295\n",
       "QQQ      0.338516\n",
       "SQQQ     0.996140\n",
       "dtype: float64"
      ]
     },
     "execution_count": 41,
     "metadata": {},
     "output_type": "execute_result"
    }
   ],
   "source": [
    "data.pct_change().std() * (250**0.5)"
   ]
  },
  {
   "cell_type": "code",
   "execution_count": 172,
   "metadata": {},
   "outputs": [
    {
     "data": {
      "text/plain": [
       "count    326.000000\n",
       "mean       0.002168\n",
       "std        0.027571\n",
       "min       -0.128647\n",
       "25%       -0.011419\n",
       "50%        0.001244\n",
       "75%        0.016516\n",
       "max        0.119808\n",
       "Name: AAPL, dtype: float64"
      ]
     },
     "execution_count": 172,
     "metadata": {},
     "output_type": "execute_result"
    }
   ],
   "source": [
    "va.describe().AAPL"
   ]
  },
  {
   "cell_type": "code",
   "execution_count": 174,
   "metadata": {},
   "outputs": [
    {
     "data": {
      "text/plain": [
       "AAPL    -0.008513\n",
       "AMZN     0.136476\n",
       "FB      -0.188441\n",
       "GOOGL   -0.185433\n",
       "NFLX     0.515854\n",
       "QQQ     -0.584308\n",
       "SQQQ     0.484352\n",
       "dtype: float64"
      ]
     },
     "execution_count": 174,
     "metadata": {},
     "output_type": "execute_result"
    }
   ],
   "source": [
    "va.skew()"
   ]
  },
  {
   "cell_type": "code",
   "execution_count": 175,
   "metadata": {},
   "outputs": [
    {
     "data": {
      "text/plain": [
       "AAPL     3.876763\n",
       "AMZN     1.470812\n",
       "FB       3.618224\n",
       "GOOGL    3.986297\n",
       "NFLX     4.773650\n",
       "QQQ      6.106514\n",
       "SQQQ     5.630572\n",
       "dtype: float64"
      ]
     },
     "execution_count": 175,
     "metadata": {},
     "output_type": "execute_result"
    }
   ],
   "source": [
    "va.kurt()"
   ]
  },
  {
   "cell_type": "code",
   "execution_count": 176,
   "metadata": {},
   "outputs": [
    {
     "data": {
      "text/plain": [
       "AAPL    -0.029741\n",
       "AMZN    -0.023948\n",
       "FB      -0.028544\n",
       "GOOGL   -0.024047\n",
       "NFLX    -0.028898\n",
       "QQQ     -0.020796\n",
       "SQQQ    -0.061047\n",
       "Name: 0.1, dtype: float64"
      ]
     },
     "execution_count": 176,
     "metadata": {},
     "output_type": "execute_result"
    }
   ],
   "source": [
    "va.quantile(0.1)"
   ]
  },
  {
   "cell_type": "code",
   "execution_count": 178,
   "metadata": {},
   "outputs": [
    {
     "data": {
      "text/html": [
       "<div>\n",
       "<style scoped>\n",
       "    .dataframe tbody tr th:only-of-type {\n",
       "        vertical-align: middle;\n",
       "    }\n",
       "\n",
       "    .dataframe tbody tr th {\n",
       "        vertical-align: top;\n",
       "    }\n",
       "\n",
       "    .dataframe thead th {\n",
       "        text-align: right;\n",
       "    }\n",
       "</style>\n",
       "<table border=\"1\" class=\"dataframe\">\n",
       "  <thead>\n",
       "    <tr style=\"text-align: right;\">\n",
       "      <th></th>\n",
       "      <th>AAPL</th>\n",
       "      <th>AMZN</th>\n",
       "      <th>FB</th>\n",
       "      <th>GOOGL</th>\n",
       "      <th>NFLX</th>\n",
       "      <th>QQQ</th>\n",
       "      <th>SQQQ</th>\n",
       "    </tr>\n",
       "    <tr>\n",
       "      <th>Date</th>\n",
       "      <th></th>\n",
       "      <th></th>\n",
       "      <th></th>\n",
       "      <th></th>\n",
       "      <th></th>\n",
       "      <th></th>\n",
       "      <th></th>\n",
       "    </tr>\n",
       "  </thead>\n",
       "  <tbody>\n",
       "    <tr>\n",
       "      <th>2020-01-03</th>\n",
       "      <td>-0.009722</td>\n",
       "      <td>-0.012139</td>\n",
       "      <td>-0.005291</td>\n",
       "      <td>-0.005231</td>\n",
       "      <td>-0.011855</td>\n",
       "      <td>-0.009160</td>\n",
       "      <td>0.026761</td>\n",
       "    </tr>\n",
       "    <tr>\n",
       "      <th>2020-01-06</th>\n",
       "      <td>0.007968</td>\n",
       "      <td>0.014886</td>\n",
       "      <td>0.018834</td>\n",
       "      <td>0.026654</td>\n",
       "      <td>0.030469</td>\n",
       "      <td>0.006443</td>\n",
       "      <td>-0.019204</td>\n",
       "    </tr>\n",
       "    <tr>\n",
       "      <th>2020-01-07</th>\n",
       "      <td>-0.004703</td>\n",
       "      <td>0.002092</td>\n",
       "      <td>0.002164</td>\n",
       "      <td>-0.001932</td>\n",
       "      <td>-0.015127</td>\n",
       "      <td>-0.000139</td>\n",
       "      <td>0.000466</td>\n",
       "    </tr>\n",
       "    <tr>\n",
       "      <th>2020-01-08</th>\n",
       "      <td>0.016086</td>\n",
       "      <td>-0.007809</td>\n",
       "      <td>0.010138</td>\n",
       "      <td>0.007118</td>\n",
       "      <td>0.025729</td>\n",
       "      <td>0.007516</td>\n",
       "      <td>-0.022367</td>\n",
       "    </tr>\n",
       "    <tr>\n",
       "      <th>2020-01-09</th>\n",
       "      <td>0.021241</td>\n",
       "      <td>0.004799</td>\n",
       "      <td>0.014311</td>\n",
       "      <td>0.010498</td>\n",
       "      <td>-0.010611</td>\n",
       "      <td>0.008474</td>\n",
       "      <td>-0.025262</td>\n",
       "    </tr>\n",
       "    <tr>\n",
       "      <th>...</th>\n",
       "      <td>...</td>\n",
       "      <td>...</td>\n",
       "      <td>...</td>\n",
       "      <td>...</td>\n",
       "      <td>...</td>\n",
       "      <td>...</td>\n",
       "      <td>...</td>\n",
       "    </tr>\n",
       "    <tr>\n",
       "      <th>2021-04-14</th>\n",
       "      <td>-0.017853</td>\n",
       "      <td>-0.019706</td>\n",
       "      <td>-0.022404</td>\n",
       "      <td>-0.005554</td>\n",
       "      <td>-0.024759</td>\n",
       "      <td>-0.012008</td>\n",
       "      <td>0.036381</td>\n",
       "    </tr>\n",
       "    <tr>\n",
       "      <th>2021-04-15</th>\n",
       "      <td>0.018708</td>\n",
       "      <td>0.013828</td>\n",
       "      <td>0.016511</td>\n",
       "      <td>0.019332</td>\n",
       "      <td>0.017036</td>\n",
       "      <td>0.015155</td>\n",
       "      <td>-0.046805</td>\n",
       "    </tr>\n",
       "    <tr>\n",
       "      <th>2021-04-16</th>\n",
       "      <td>-0.002528</td>\n",
       "      <td>0.006022</td>\n",
       "      <td>-0.005328</td>\n",
       "      <td>-0.001094</td>\n",
       "      <td>-0.004880</td>\n",
       "      <td>0.001171</td>\n",
       "      <td>-0.002833</td>\n",
       "    </tr>\n",
       "    <tr>\n",
       "      <th>2021-04-19</th>\n",
       "      <td>0.005069</td>\n",
       "      <td>-0.008069</td>\n",
       "      <td>-0.012868</td>\n",
       "      <td>0.003071</td>\n",
       "      <td>0.014455</td>\n",
       "      <td>-0.009152</td>\n",
       "      <td>0.028409</td>\n",
       "    </tr>\n",
       "    <tr>\n",
       "      <th>2021-04-20</th>\n",
       "      <td>-0.012830</td>\n",
       "      <td>-0.011068</td>\n",
       "      <td>0.001357</td>\n",
       "      <td>-0.004695</td>\n",
       "      <td>-0.008784</td>\n",
       "      <td>-0.007289</td>\n",
       "      <td>0.021179</td>\n",
       "    </tr>\n",
       "  </tbody>\n",
       "</table>\n",
       "<p>326 rows × 7 columns</p>\n",
       "</div>"
      ],
      "text/plain": [
       "                AAPL      AMZN        FB     GOOGL      NFLX       QQQ  \\\n",
       "Date                                                                     \n",
       "2020-01-03 -0.009722 -0.012139 -0.005291 -0.005231 -0.011855 -0.009160   \n",
       "2020-01-06  0.007968  0.014886  0.018834  0.026654  0.030469  0.006443   \n",
       "2020-01-07 -0.004703  0.002092  0.002164 -0.001932 -0.015127 -0.000139   \n",
       "2020-01-08  0.016086 -0.007809  0.010138  0.007118  0.025729  0.007516   \n",
       "2020-01-09  0.021241  0.004799  0.014311  0.010498 -0.010611  0.008474   \n",
       "...              ...       ...       ...       ...       ...       ...   \n",
       "2021-04-14 -0.017853 -0.019706 -0.022404 -0.005554 -0.024759 -0.012008   \n",
       "2021-04-15  0.018708  0.013828  0.016511  0.019332  0.017036  0.015155   \n",
       "2021-04-16 -0.002528  0.006022 -0.005328 -0.001094 -0.004880  0.001171   \n",
       "2021-04-19  0.005069 -0.008069 -0.012868  0.003071  0.014455 -0.009152   \n",
       "2021-04-20 -0.012830 -0.011068  0.001357 -0.004695 -0.008784 -0.007289   \n",
       "\n",
       "                SQQQ  \n",
       "Date                  \n",
       "2020-01-03  0.026761  \n",
       "2020-01-06 -0.019204  \n",
       "2020-01-07  0.000466  \n",
       "2020-01-08 -0.022367  \n",
       "2020-01-09 -0.025262  \n",
       "...              ...  \n",
       "2021-04-14  0.036381  \n",
       "2021-04-15 -0.046805  \n",
       "2021-04-16 -0.002833  \n",
       "2021-04-19  0.028409  \n",
       "2021-04-20  0.021179  \n",
       "\n",
       "[326 rows x 7 columns]"
      ]
     },
     "execution_count": 178,
     "metadata": {},
     "output_type": "execute_result"
    }
   ],
   "source": [
    "va"
   ]
  },
  {
   "cell_type": "code",
   "execution_count": 177,
   "metadata": {},
   "outputs": [
    {
     "data": {
      "text/html": [
       "<div>\n",
       "<style scoped>\n",
       "    .dataframe tbody tr th:only-of-type {\n",
       "        vertical-align: middle;\n",
       "    }\n",
       "\n",
       "    .dataframe tbody tr th {\n",
       "        vertical-align: top;\n",
       "    }\n",
       "\n",
       "    .dataframe thead th {\n",
       "        text-align: right;\n",
       "    }\n",
       "</style>\n",
       "<table border=\"1\" class=\"dataframe\">\n",
       "  <thead>\n",
       "    <tr style=\"text-align: right;\">\n",
       "      <th></th>\n",
       "      <th>AAPL</th>\n",
       "      <th>AMZN</th>\n",
       "      <th>FB</th>\n",
       "      <th>GOOGL</th>\n",
       "      <th>NFLX</th>\n",
       "      <th>QQQ</th>\n",
       "      <th>SQQQ</th>\n",
       "    </tr>\n",
       "    <tr>\n",
       "      <th>Date</th>\n",
       "      <th></th>\n",
       "      <th></th>\n",
       "      <th></th>\n",
       "      <th></th>\n",
       "      <th></th>\n",
       "      <th></th>\n",
       "      <th></th>\n",
       "    </tr>\n",
       "  </thead>\n",
       "  <tbody>\n",
       "    <tr>\n",
       "      <th>2020-01-03</th>\n",
       "      <td>86.0</td>\n",
       "      <td>73.0</td>\n",
       "      <td>118.0</td>\n",
       "      <td>95.0</td>\n",
       "      <td>86.0</td>\n",
       "      <td>69.0</td>\n",
       "      <td>257.0</td>\n",
       "    </tr>\n",
       "    <tr>\n",
       "      <th>2020-01-06</th>\n",
       "      <td>202.0</td>\n",
       "      <td>256.0</td>\n",
       "      <td>257.0</td>\n",
       "      <td>298.0</td>\n",
       "      <td>286.0</td>\n",
       "      <td>196.0</td>\n",
       "      <td>130.0</td>\n",
       "    </tr>\n",
       "    <tr>\n",
       "      <th>2020-01-07</th>\n",
       "      <td>119.0</td>\n",
       "      <td>161.0</td>\n",
       "      <td>165.0</td>\n",
       "      <td>122.0</td>\n",
       "      <td>72.0</td>\n",
       "      <td>128.0</td>\n",
       "      <td>200.0</td>\n",
       "    </tr>\n",
       "    <tr>\n",
       "      <th>2020-01-08</th>\n",
       "      <td>242.0</td>\n",
       "      <td>95.0</td>\n",
       "      <td>214.0</td>\n",
       "      <td>207.0</td>\n",
       "      <td>275.0</td>\n",
       "      <td>209.0</td>\n",
       "      <td>118.0</td>\n",
       "    </tr>\n",
       "    <tr>\n",
       "      <th>2020-01-09</th>\n",
       "      <td>262.0</td>\n",
       "      <td>179.0</td>\n",
       "      <td>235.0</td>\n",
       "      <td>231.0</td>\n",
       "      <td>95.0</td>\n",
       "      <td>223.0</td>\n",
       "      <td>104.0</td>\n",
       "    </tr>\n",
       "    <tr>\n",
       "      <th>...</th>\n",
       "      <td>...</td>\n",
       "      <td>...</td>\n",
       "      <td>...</td>\n",
       "      <td>...</td>\n",
       "      <td>...</td>\n",
       "      <td>...</td>\n",
       "      <td>...</td>\n",
       "    </tr>\n",
       "    <tr>\n",
       "      <th>2021-04-14</th>\n",
       "      <td>54.0</td>\n",
       "      <td>51.0</td>\n",
       "      <td>49.0</td>\n",
       "      <td>94.0</td>\n",
       "      <td>43.0</td>\n",
       "      <td>61.0</td>\n",
       "      <td>266.0</td>\n",
       "    </tr>\n",
       "    <tr>\n",
       "      <th>2021-04-15</th>\n",
       "      <td>251.0</td>\n",
       "      <td>246.0</td>\n",
       "      <td>246.0</td>\n",
       "      <td>279.0</td>\n",
       "      <td>248.0</td>\n",
       "      <td>270.0</td>\n",
       "      <td>54.0</td>\n",
       "    </tr>\n",
       "    <tr>\n",
       "      <th>2021-04-16</th>\n",
       "      <td>133.0</td>\n",
       "      <td>190.0</td>\n",
       "      <td>117.0</td>\n",
       "      <td>130.0</td>\n",
       "      <td>125.0</td>\n",
       "      <td>141.0</td>\n",
       "      <td>189.0</td>\n",
       "    </tr>\n",
       "    <tr>\n",
       "      <th>2021-04-19</th>\n",
       "      <td>184.0</td>\n",
       "      <td>93.0</td>\n",
       "      <td>85.0</td>\n",
       "      <td>166.0</td>\n",
       "      <td>234.0</td>\n",
       "      <td>70.0</td>\n",
       "      <td>258.0</td>\n",
       "    </tr>\n",
       "    <tr>\n",
       "      <th>2021-04-20</th>\n",
       "      <td>76.0</td>\n",
       "      <td>77.0</td>\n",
       "      <td>158.0</td>\n",
       "      <td>100.0</td>\n",
       "      <td>101.0</td>\n",
       "      <td>78.0</td>\n",
       "      <td>247.0</td>\n",
       "    </tr>\n",
       "  </tbody>\n",
       "</table>\n",
       "<p>326 rows × 7 columns</p>\n",
       "</div>"
      ],
      "text/plain": [
       "             AAPL   AMZN     FB  GOOGL   NFLX    QQQ   SQQQ\n",
       "Date                                                       \n",
       "2020-01-03   86.0   73.0  118.0   95.0   86.0   69.0  257.0\n",
       "2020-01-06  202.0  256.0  257.0  298.0  286.0  196.0  130.0\n",
       "2020-01-07  119.0  161.0  165.0  122.0   72.0  128.0  200.0\n",
       "2020-01-08  242.0   95.0  214.0  207.0  275.0  209.0  118.0\n",
       "2020-01-09  262.0  179.0  235.0  231.0   95.0  223.0  104.0\n",
       "...           ...    ...    ...    ...    ...    ...    ...\n",
       "2021-04-14   54.0   51.0   49.0   94.0   43.0   61.0  266.0\n",
       "2021-04-15  251.0  246.0  246.0  279.0  248.0  270.0   54.0\n",
       "2021-04-16  133.0  190.0  117.0  130.0  125.0  141.0  189.0\n",
       "2021-04-19  184.0   93.0   85.0  166.0  234.0   70.0  258.0\n",
       "2021-04-20   76.0   77.0  158.0  100.0  101.0   78.0  247.0\n",
       "\n",
       "[326 rows x 7 columns]"
      ]
     },
     "execution_count": 177,
     "metadata": {},
     "output_type": "execute_result"
    }
   ],
   "source": [
    "va.rank()"
   ]
  },
  {
   "cell_type": "code",
   "execution_count": 180,
   "metadata": {},
   "outputs": [
    {
     "data": {
      "text/plain": [
       "0.26380368098159507"
      ]
     },
     "execution_count": 180,
     "metadata": {},
     "output_type": "execute_result"
    }
   ],
   "source": [
    "86/326"
   ]
  },
  {
   "cell_type": "code",
   "execution_count": 179,
   "metadata": {},
   "outputs": [
    {
     "data": {
      "text/html": [
       "<div>\n",
       "<style scoped>\n",
       "    .dataframe tbody tr th:only-of-type {\n",
       "        vertical-align: middle;\n",
       "    }\n",
       "\n",
       "    .dataframe tbody tr th {\n",
       "        vertical-align: top;\n",
       "    }\n",
       "\n",
       "    .dataframe thead th {\n",
       "        text-align: right;\n",
       "    }\n",
       "</style>\n",
       "<table border=\"1\" class=\"dataframe\">\n",
       "  <thead>\n",
       "    <tr style=\"text-align: right;\">\n",
       "      <th></th>\n",
       "      <th>AAPL</th>\n",
       "      <th>AMZN</th>\n",
       "      <th>FB</th>\n",
       "      <th>GOOGL</th>\n",
       "      <th>NFLX</th>\n",
       "      <th>QQQ</th>\n",
       "      <th>SQQQ</th>\n",
       "    </tr>\n",
       "    <tr>\n",
       "      <th>Date</th>\n",
       "      <th></th>\n",
       "      <th></th>\n",
       "      <th></th>\n",
       "      <th></th>\n",
       "      <th></th>\n",
       "      <th></th>\n",
       "      <th></th>\n",
       "    </tr>\n",
       "  </thead>\n",
       "  <tbody>\n",
       "    <tr>\n",
       "      <th>2020-01-03</th>\n",
       "      <td>0.263804</td>\n",
       "      <td>0.223926</td>\n",
       "      <td>0.361963</td>\n",
       "      <td>0.291411</td>\n",
       "      <td>0.263804</td>\n",
       "      <td>0.211656</td>\n",
       "      <td>0.788344</td>\n",
       "    </tr>\n",
       "    <tr>\n",
       "      <th>2020-01-06</th>\n",
       "      <td>0.619632</td>\n",
       "      <td>0.785276</td>\n",
       "      <td>0.788344</td>\n",
       "      <td>0.914110</td>\n",
       "      <td>0.877301</td>\n",
       "      <td>0.601227</td>\n",
       "      <td>0.398773</td>\n",
       "    </tr>\n",
       "    <tr>\n",
       "      <th>2020-01-07</th>\n",
       "      <td>0.365031</td>\n",
       "      <td>0.493865</td>\n",
       "      <td>0.506135</td>\n",
       "      <td>0.374233</td>\n",
       "      <td>0.220859</td>\n",
       "      <td>0.392638</td>\n",
       "      <td>0.613497</td>\n",
       "    </tr>\n",
       "    <tr>\n",
       "      <th>2020-01-08</th>\n",
       "      <td>0.742331</td>\n",
       "      <td>0.291411</td>\n",
       "      <td>0.656442</td>\n",
       "      <td>0.634969</td>\n",
       "      <td>0.843558</td>\n",
       "      <td>0.641104</td>\n",
       "      <td>0.361963</td>\n",
       "    </tr>\n",
       "    <tr>\n",
       "      <th>2020-01-09</th>\n",
       "      <td>0.803681</td>\n",
       "      <td>0.549080</td>\n",
       "      <td>0.720859</td>\n",
       "      <td>0.708589</td>\n",
       "      <td>0.291411</td>\n",
       "      <td>0.684049</td>\n",
       "      <td>0.319018</td>\n",
       "    </tr>\n",
       "    <tr>\n",
       "      <th>...</th>\n",
       "      <td>...</td>\n",
       "      <td>...</td>\n",
       "      <td>...</td>\n",
       "      <td>...</td>\n",
       "      <td>...</td>\n",
       "      <td>...</td>\n",
       "      <td>...</td>\n",
       "    </tr>\n",
       "    <tr>\n",
       "      <th>2021-04-14</th>\n",
       "      <td>0.165644</td>\n",
       "      <td>0.156442</td>\n",
       "      <td>0.150307</td>\n",
       "      <td>0.288344</td>\n",
       "      <td>0.131902</td>\n",
       "      <td>0.187117</td>\n",
       "      <td>0.815951</td>\n",
       "    </tr>\n",
       "    <tr>\n",
       "      <th>2021-04-15</th>\n",
       "      <td>0.769939</td>\n",
       "      <td>0.754601</td>\n",
       "      <td>0.754601</td>\n",
       "      <td>0.855828</td>\n",
       "      <td>0.760736</td>\n",
       "      <td>0.828221</td>\n",
       "      <td>0.165644</td>\n",
       "    </tr>\n",
       "    <tr>\n",
       "      <th>2021-04-16</th>\n",
       "      <td>0.407975</td>\n",
       "      <td>0.582822</td>\n",
       "      <td>0.358896</td>\n",
       "      <td>0.398773</td>\n",
       "      <td>0.383436</td>\n",
       "      <td>0.432515</td>\n",
       "      <td>0.579755</td>\n",
       "    </tr>\n",
       "    <tr>\n",
       "      <th>2021-04-19</th>\n",
       "      <td>0.564417</td>\n",
       "      <td>0.285276</td>\n",
       "      <td>0.260736</td>\n",
       "      <td>0.509202</td>\n",
       "      <td>0.717791</td>\n",
       "      <td>0.214724</td>\n",
       "      <td>0.791411</td>\n",
       "    </tr>\n",
       "    <tr>\n",
       "      <th>2021-04-20</th>\n",
       "      <td>0.233129</td>\n",
       "      <td>0.236196</td>\n",
       "      <td>0.484663</td>\n",
       "      <td>0.306748</td>\n",
       "      <td>0.309816</td>\n",
       "      <td>0.239264</td>\n",
       "      <td>0.757669</td>\n",
       "    </tr>\n",
       "  </tbody>\n",
       "</table>\n",
       "<p>326 rows × 7 columns</p>\n",
       "</div>"
      ],
      "text/plain": [
       "                AAPL      AMZN        FB     GOOGL      NFLX       QQQ  \\\n",
       "Date                                                                     \n",
       "2020-01-03  0.263804  0.223926  0.361963  0.291411  0.263804  0.211656   \n",
       "2020-01-06  0.619632  0.785276  0.788344  0.914110  0.877301  0.601227   \n",
       "2020-01-07  0.365031  0.493865  0.506135  0.374233  0.220859  0.392638   \n",
       "2020-01-08  0.742331  0.291411  0.656442  0.634969  0.843558  0.641104   \n",
       "2020-01-09  0.803681  0.549080  0.720859  0.708589  0.291411  0.684049   \n",
       "...              ...       ...       ...       ...       ...       ...   \n",
       "2021-04-14  0.165644  0.156442  0.150307  0.288344  0.131902  0.187117   \n",
       "2021-04-15  0.769939  0.754601  0.754601  0.855828  0.760736  0.828221   \n",
       "2021-04-16  0.407975  0.582822  0.358896  0.398773  0.383436  0.432515   \n",
       "2021-04-19  0.564417  0.285276  0.260736  0.509202  0.717791  0.214724   \n",
       "2021-04-20  0.233129  0.236196  0.484663  0.306748  0.309816  0.239264   \n",
       "\n",
       "                SQQQ  \n",
       "Date                  \n",
       "2020-01-03  0.788344  \n",
       "2020-01-06  0.398773  \n",
       "2020-01-07  0.613497  \n",
       "2020-01-08  0.361963  \n",
       "2020-01-09  0.319018  \n",
       "...              ...  \n",
       "2021-04-14  0.815951  \n",
       "2021-04-15  0.165644  \n",
       "2021-04-16  0.579755  \n",
       "2021-04-19  0.791411  \n",
       "2021-04-20  0.757669  \n",
       "\n",
       "[326 rows x 7 columns]"
      ]
     },
     "execution_count": 179,
     "metadata": {},
     "output_type": "execute_result"
    }
   ],
   "source": [
    "va.rank(pct=True)"
   ]
  },
  {
   "cell_type": "markdown",
   "metadata": {},
   "source": [
    "que mas?"
   ]
  },
  {
   "cell_type": "code",
   "execution_count": null,
   "metadata": {},
   "outputs": [],
   "source": []
  },
  {
   "cell_type": "code",
   "execution_count": null,
   "metadata": {},
   "outputs": [],
   "source": []
  },
  {
   "cell_type": "code",
   "execution_count": null,
   "metadata": {},
   "outputs": [],
   "source": []
  },
  {
   "cell_type": "code",
   "execution_count": null,
   "metadata": {},
   "outputs": [],
   "source": []
  },
  {
   "cell_type": "code",
   "execution_count": null,
   "metadata": {},
   "outputs": [],
   "source": []
  },
  {
   "cell_type": "code",
   "execution_count": null,
   "metadata": {},
   "outputs": [],
   "source": []
  },
  {
   "cell_type": "code",
   "execution_count": null,
   "metadata": {},
   "outputs": [],
   "source": []
  },
  {
   "cell_type": "code",
   "execution_count": null,
   "metadata": {},
   "outputs": [],
   "source": []
  },
  {
   "cell_type": "markdown",
   "metadata": {},
   "source": [
    "## Magia V: Conversiones, ej. dataFrame a diccionario"
   ]
  },
  {
   "cell_type": "code",
   "execution_count": 181,
   "metadata": {},
   "outputs": [
    {
     "data": {
      "text/html": [
       "<div>\n",
       "<style scoped>\n",
       "    .dataframe tbody tr th:only-of-type {\n",
       "        vertical-align: middle;\n",
       "    }\n",
       "\n",
       "    .dataframe tbody tr th {\n",
       "        vertical-align: top;\n",
       "    }\n",
       "\n",
       "    .dataframe thead th {\n",
       "        text-align: right;\n",
       "    }\n",
       "</style>\n",
       "<table border=\"1\" class=\"dataframe\">\n",
       "  <thead>\n",
       "    <tr style=\"text-align: right;\">\n",
       "      <th></th>\n",
       "      <th>AAPL</th>\n",
       "      <th>AMZN</th>\n",
       "      <th>FB</th>\n",
       "      <th>GOOGL</th>\n",
       "      <th>NFLX</th>\n",
       "      <th>QQQ</th>\n",
       "      <th>SQQQ</th>\n",
       "    </tr>\n",
       "    <tr>\n",
       "      <th>Date</th>\n",
       "      <th></th>\n",
       "      <th></th>\n",
       "      <th></th>\n",
       "      <th></th>\n",
       "      <th></th>\n",
       "      <th></th>\n",
       "      <th></th>\n",
       "    </tr>\n",
       "  </thead>\n",
       "  <tbody>\n",
       "    <tr>\n",
       "      <th>2020-01-02</th>\n",
       "      <td>74.333511</td>\n",
       "      <td>1898.010010</td>\n",
       "      <td>209.779999</td>\n",
       "      <td>1368.680054</td>\n",
       "      <td>329.809998</td>\n",
       "      <td>214.665176</td>\n",
       "      <td>106.196915</td>\n",
       "    </tr>\n",
       "    <tr>\n",
       "      <th>2020-01-03</th>\n",
       "      <td>73.610840</td>\n",
       "      <td>1874.969971</td>\n",
       "      <td>208.669998</td>\n",
       "      <td>1361.520020</td>\n",
       "      <td>325.899994</td>\n",
       "      <td>212.698853</td>\n",
       "      <td>109.038803</td>\n",
       "    </tr>\n",
       "    <tr>\n",
       "      <th>2020-01-06</th>\n",
       "      <td>74.197395</td>\n",
       "      <td>1902.880005</td>\n",
       "      <td>212.600006</td>\n",
       "      <td>1397.810059</td>\n",
       "      <td>335.829987</td>\n",
       "      <td>214.069321</td>\n",
       "      <td>106.944778</td>\n",
       "    </tr>\n",
       "    <tr>\n",
       "      <th>2020-01-07</th>\n",
       "      <td>73.848442</td>\n",
       "      <td>1906.859985</td>\n",
       "      <td>213.059998</td>\n",
       "      <td>1395.109985</td>\n",
       "      <td>330.750000</td>\n",
       "      <td>214.039520</td>\n",
       "      <td>106.994637</td>\n",
       "    </tr>\n",
       "    <tr>\n",
       "      <th>2020-01-08</th>\n",
       "      <td>75.036385</td>\n",
       "      <td>1891.969971</td>\n",
       "      <td>215.220001</td>\n",
       "      <td>1405.040039</td>\n",
       "      <td>339.260010</td>\n",
       "      <td>215.648300</td>\n",
       "      <td>104.601471</td>\n",
       "    </tr>\n",
       "    <tr>\n",
       "      <th>...</th>\n",
       "      <td>...</td>\n",
       "      <td>...</td>\n",
       "      <td>...</td>\n",
       "      <td>...</td>\n",
       "      <td>...</td>\n",
       "      <td>...</td>\n",
       "      <td>...</td>\n",
       "    </tr>\n",
       "    <tr>\n",
       "      <th>2021-04-14</th>\n",
       "      <td>132.029999</td>\n",
       "      <td>3333.000000</td>\n",
       "      <td>302.820007</td>\n",
       "      <td>2241.909912</td>\n",
       "      <td>540.020020</td>\n",
       "      <td>336.510010</td>\n",
       "      <td>11.110000</td>\n",
       "    </tr>\n",
       "    <tr>\n",
       "      <th>2021-04-15</th>\n",
       "      <td>134.500000</td>\n",
       "      <td>3379.090088</td>\n",
       "      <td>307.820007</td>\n",
       "      <td>2285.250000</td>\n",
       "      <td>549.219971</td>\n",
       "      <td>341.609985</td>\n",
       "      <td>10.590000</td>\n",
       "    </tr>\n",
       "    <tr>\n",
       "      <th>2021-04-16</th>\n",
       "      <td>134.160004</td>\n",
       "      <td>3399.439941</td>\n",
       "      <td>306.179993</td>\n",
       "      <td>2282.750000</td>\n",
       "      <td>546.539978</td>\n",
       "      <td>342.010010</td>\n",
       "      <td>10.560000</td>\n",
       "    </tr>\n",
       "    <tr>\n",
       "      <th>2021-04-19</th>\n",
       "      <td>134.839996</td>\n",
       "      <td>3372.010010</td>\n",
       "      <td>302.239990</td>\n",
       "      <td>2289.760010</td>\n",
       "      <td>554.440002</td>\n",
       "      <td>338.880005</td>\n",
       "      <td>10.860000</td>\n",
       "    </tr>\n",
       "    <tr>\n",
       "      <th>2021-04-20</th>\n",
       "      <td>133.110001</td>\n",
       "      <td>3334.689941</td>\n",
       "      <td>302.649994</td>\n",
       "      <td>2279.010010</td>\n",
       "      <td>549.570007</td>\n",
       "      <td>336.410004</td>\n",
       "      <td>11.090000</td>\n",
       "    </tr>\n",
       "  </tbody>\n",
       "</table>\n",
       "<p>327 rows × 7 columns</p>\n",
       "</div>"
      ],
      "text/plain": [
       "                  AAPL         AMZN          FB        GOOGL        NFLX  \\\n",
       "Date                                                                       \n",
       "2020-01-02   74.333511  1898.010010  209.779999  1368.680054  329.809998   \n",
       "2020-01-03   73.610840  1874.969971  208.669998  1361.520020  325.899994   \n",
       "2020-01-06   74.197395  1902.880005  212.600006  1397.810059  335.829987   \n",
       "2020-01-07   73.848442  1906.859985  213.059998  1395.109985  330.750000   \n",
       "2020-01-08   75.036385  1891.969971  215.220001  1405.040039  339.260010   \n",
       "...                ...          ...         ...          ...         ...   \n",
       "2021-04-14  132.029999  3333.000000  302.820007  2241.909912  540.020020   \n",
       "2021-04-15  134.500000  3379.090088  307.820007  2285.250000  549.219971   \n",
       "2021-04-16  134.160004  3399.439941  306.179993  2282.750000  546.539978   \n",
       "2021-04-19  134.839996  3372.010010  302.239990  2289.760010  554.440002   \n",
       "2021-04-20  133.110001  3334.689941  302.649994  2279.010010  549.570007   \n",
       "\n",
       "                   QQQ        SQQQ  \n",
       "Date                                \n",
       "2020-01-02  214.665176  106.196915  \n",
       "2020-01-03  212.698853  109.038803  \n",
       "2020-01-06  214.069321  106.944778  \n",
       "2020-01-07  214.039520  106.994637  \n",
       "2020-01-08  215.648300  104.601471  \n",
       "...                ...         ...  \n",
       "2021-04-14  336.510010   11.110000  \n",
       "2021-04-15  341.609985   10.590000  \n",
       "2021-04-16  342.010010   10.560000  \n",
       "2021-04-19  338.880005   10.860000  \n",
       "2021-04-20  336.410004   11.090000  \n",
       "\n",
       "[327 rows x 7 columns]"
      ]
     },
     "execution_count": 181,
     "metadata": {},
     "output_type": "execute_result"
    }
   ],
   "source": [
    "data"
   ]
  },
  {
   "cell_type": "code",
   "execution_count": 195,
   "metadata": {},
   "outputs": [
    {
     "data": {
      "text/plain": [
       "{'AAPL': 43.59,\n",
       " 'AMZN': 35.87,\n",
       " 'FB': 42.96,\n",
       " 'GOOGL': 36.75,\n",
       " 'NFLX': 45.73,\n",
       " 'QQQ': 33.15,\n",
       " 'SQQQ': 97.57}"
      ]
     },
     "execution_count": 195,
     "metadata": {},
     "output_type": "execute_result"
    }
   ],
   "source": [
    "(data.pct_change().std() * 250**0.5*100).round(2).to_dict()"
   ]
  },
  {
   "cell_type": "code",
   "execution_count": 42,
   "metadata": {},
   "outputs": [],
   "source": [
    "volatilidades = (data.pct_change().std() * (250**0.5)).to_dict()"
   ]
  },
  {
   "cell_type": "code",
   "execution_count": 43,
   "metadata": {},
   "outputs": [
    {
     "data": {
      "text/plain": [
       "{'AAPL': 0.4451078315000331,\n",
       " 'AMZN': 0.365653577853201,\n",
       " 'FB': 0.43714397511020986,\n",
       " 'GOOGL': 0.3743067400897252,\n",
       " 'NFLX': 0.4662948037730501,\n",
       " 'QQQ': 0.3385159164724522,\n",
       " 'SQQQ': 0.9961401497911267}"
      ]
     },
     "execution_count": 43,
     "metadata": {},
     "output_type": "execute_result"
    }
   ],
   "source": [
    "volatilidades"
   ]
  },
  {
   "cell_type": "code",
   "execution_count": 44,
   "metadata": {},
   "outputs": [
    {
     "data": {
      "text/plain": [
       "0.43714397511020986"
      ]
     },
     "execution_count": 44,
     "metadata": {},
     "output_type": "execute_result"
    }
   ],
   "source": [
    "volatilidades['FB']"
   ]
  },
  {
   "cell_type": "markdown",
   "metadata": {},
   "source": [
    "## Magia VI: Graficos rápidos"
   ]
  },
  {
   "cell_type": "code",
   "execution_count": null,
   "metadata": {},
   "outputs": [],
   "source": [
    "matplotlib"
   ]
  },
  {
   "cell_type": "code",
   "execution_count": 198,
   "metadata": {},
   "outputs": [
    {
     "data": {
      "text/plain": [
       "AAPL     0.435929\n",
       "AMZN     0.358711\n",
       "FB       0.429614\n",
       "GOOGL    0.367548\n",
       "NFLX     0.457275\n",
       "QQQ      0.331457\n",
       "SQQQ     0.975681\n",
       "dtype: float64"
      ]
     },
     "execution_count": 198,
     "metadata": {},
     "output_type": "execute_result"
    }
   ],
   "source": [
    "(data.pct_change().std() * (250**0.5))"
   ]
  },
  {
   "cell_type": "code",
   "execution_count": 204,
   "metadata": {},
   "outputs": [
    {
     "data": {
      "text/plain": [
       "<AxesSubplot:xlabel='Date'>"
      ]
     },
     "execution_count": 204,
     "metadata": {},
     "output_type": "execute_result"
    },
    {
     "data": {
      "image/png": "[encoded data removed]",
      "text/plain": [
       "<Figure size 432x288 with 1 Axes>"
      ]
     },
     "metadata": {
      "needs_background": "light"
     },
     "output_type": "display_data"
    }
   ],
   "source": [
    "((data.pct_change()+1).cumprod()*100).dropna().plot()"
   ]
  },
  {
   "cell_type": "code",
   "execution_count": 206,
   "metadata": {},
   "outputs": [
    {
     "data": {
      "text/html": [
       "<div>\n",
       "<style scoped>\n",
       "    .dataframe tbody tr th:only-of-type {\n",
       "        vertical-align: middle;\n",
       "    }\n",
       "\n",
       "    .dataframe tbody tr th {\n",
       "        vertical-align: top;\n",
       "    }\n",
       "\n",
       "    .dataframe thead th {\n",
       "        text-align: right;\n",
       "    }\n",
       "</style>\n",
       "<table border=\"1\" class=\"dataframe\">\n",
       "  <thead>\n",
       "    <tr style=\"text-align: right;\">\n",
       "      <th></th>\n",
       "      <th>AAPL</th>\n",
       "      <th>AMZN</th>\n",
       "      <th>FB</th>\n",
       "      <th>GOOGL</th>\n",
       "      <th>NFLX</th>\n",
       "      <th>QQQ</th>\n",
       "      <th>SQQQ</th>\n",
       "    </tr>\n",
       "    <tr>\n",
       "      <th>Date</th>\n",
       "      <th></th>\n",
       "      <th></th>\n",
       "      <th></th>\n",
       "      <th></th>\n",
       "      <th></th>\n",
       "      <th></th>\n",
       "      <th></th>\n",
       "    </tr>\n",
       "  </thead>\n",
       "  <tbody>\n",
       "    <tr>\n",
       "      <th>2020-01-03</th>\n",
       "      <td>99.027799</td>\n",
       "      <td>98.786095</td>\n",
       "      <td>99.470874</td>\n",
       "      <td>99.476866</td>\n",
       "      <td>98.814468</td>\n",
       "      <td>99.084004</td>\n",
       "      <td>102.676056</td>\n",
       "    </tr>\n",
       "    <tr>\n",
       "      <th>2020-01-06</th>\n",
       "      <td>99.816885</td>\n",
       "      <td>100.256584</td>\n",
       "      <td>101.344269</td>\n",
       "      <td>102.128328</td>\n",
       "      <td>101.825290</td>\n",
       "      <td>99.722426</td>\n",
       "      <td>100.704224</td>\n",
       "    </tr>\n",
       "    <tr>\n",
       "      <th>2020-01-07</th>\n",
       "      <td>99.347442</td>\n",
       "      <td>100.466277</td>\n",
       "      <td>101.563542</td>\n",
       "      <td>101.931053</td>\n",
       "      <td>100.285013</td>\n",
       "      <td>99.708543</td>\n",
       "      <td>100.751172</td>\n",
       "    </tr>\n",
       "    <tr>\n",
       "      <th>2020-01-08</th>\n",
       "      <td>100.945567</td>\n",
       "      <td>99.681770</td>\n",
       "      <td>102.593194</td>\n",
       "      <td>102.656573</td>\n",
       "      <td>102.865290</td>\n",
       "      <td>100.457980</td>\n",
       "      <td>98.497655</td>\n",
       "    </tr>\n",
       "    <tr>\n",
       "      <th>2020-01-09</th>\n",
       "      <td>103.089733</td>\n",
       "      <td>100.160170</td>\n",
       "      <td>104.061400</td>\n",
       "      <td>103.734254</td>\n",
       "      <td>101.773750</td>\n",
       "      <td>101.309220</td>\n",
       "      <td>96.009387</td>\n",
       "    </tr>\n",
       "    <tr>\n",
       "      <th>...</th>\n",
       "      <td>...</td>\n",
       "      <td>...</td>\n",
       "      <td>...</td>\n",
       "      <td>...</td>\n",
       "      <td>...</td>\n",
       "      <td>...</td>\n",
       "      <td>...</td>\n",
       "    </tr>\n",
       "    <tr>\n",
       "      <th>2021-04-14</th>\n",
       "      <td>177.618407</td>\n",
       "      <td>175.604975</td>\n",
       "      <td>144.351229</td>\n",
       "      <td>163.800876</td>\n",
       "      <td>163.736704</td>\n",
       "      <td>156.760410</td>\n",
       "      <td>10.461697</td>\n",
       "    </tr>\n",
       "    <tr>\n",
       "      <th>2021-04-15</th>\n",
       "      <td>180.941271</td>\n",
       "      <td>178.033312</td>\n",
       "      <td>146.734679</td>\n",
       "      <td>166.967437</td>\n",
       "      <td>166.526174</td>\n",
       "      <td>159.136191</td>\n",
       "      <td>9.972041</td>\n",
       "    </tr>\n",
       "    <tr>\n",
       "      <th>2021-04-16</th>\n",
       "      <td>180.483878</td>\n",
       "      <td>179.105480</td>\n",
       "      <td>145.952900</td>\n",
       "      <td>166.784779</td>\n",
       "      <td>165.713587</td>\n",
       "      <td>159.322539</td>\n",
       "      <td>9.943792</td>\n",
       "    </tr>\n",
       "    <tr>\n",
       "      <th>2021-04-19</th>\n",
       "      <td>181.398664</td>\n",
       "      <td>177.660286</td>\n",
       "      <td>144.074741</td>\n",
       "      <td>167.296952</td>\n",
       "      <td>168.108913</td>\n",
       "      <td>157.864452</td>\n",
       "      <td>10.226285</td>\n",
       "    </tr>\n",
       "    <tr>\n",
       "      <th>2021-04-20</th>\n",
       "      <td>179.071321</td>\n",
       "      <td>175.694012</td>\n",
       "      <td>144.270186</td>\n",
       "      <td>166.511524</td>\n",
       "      <td>166.632307</td>\n",
       "      <td>156.713823</td>\n",
       "      <td>10.442865</td>\n",
       "    </tr>\n",
       "  </tbody>\n",
       "</table>\n",
       "<p>326 rows × 7 columns</p>\n",
       "</div>"
      ],
      "text/plain": [
       "                  AAPL        AMZN          FB       GOOGL        NFLX  \\\n",
       "Date                                                                     \n",
       "2020-01-03   99.027799   98.786095   99.470874   99.476866   98.814468   \n",
       "2020-01-06   99.816885  100.256584  101.344269  102.128328  101.825290   \n",
       "2020-01-07   99.347442  100.466277  101.563542  101.931053  100.285013   \n",
       "2020-01-08  100.945567   99.681770  102.593194  102.656573  102.865290   \n",
       "2020-01-09  103.089733  100.160170  104.061400  103.734254  101.773750   \n",
       "...                ...         ...         ...         ...         ...   \n",
       "2021-04-14  177.618407  175.604975  144.351229  163.800876  163.736704   \n",
       "2021-04-15  180.941271  178.033312  146.734679  166.967437  166.526174   \n",
       "2021-04-16  180.483878  179.105480  145.952900  166.784779  165.713587   \n",
       "2021-04-19  181.398664  177.660286  144.074741  167.296952  168.108913   \n",
       "2021-04-20  179.071321  175.694012  144.270186  166.511524  166.632307   \n",
       "\n",
       "                   QQQ        SQQQ  \n",
       "Date                                \n",
       "2020-01-03   99.084004  102.676056  \n",
       "2020-01-06   99.722426  100.704224  \n",
       "2020-01-07   99.708543  100.751172  \n",
       "2020-01-08  100.457980   98.497655  \n",
       "2020-01-09  101.309220   96.009387  \n",
       "...                ...         ...  \n",
       "2021-04-14  156.760410   10.461697  \n",
       "2021-04-15  159.136191    9.972041  \n",
       "2021-04-16  159.322539    9.943792  \n",
       "2021-04-19  157.864452   10.226285  \n",
       "2021-04-20  156.713823   10.442865  \n",
       "\n",
       "[326 rows x 7 columns]"
      ]
     },
     "execution_count": 206,
     "metadata": {},
     "output_type": "execute_result"
    }
   ],
   "source": [
    "((data.pct_change()+1).cumprod()*100).dropna()"
   ]
  },
  {
   "cell_type": "code",
   "execution_count": 205,
   "metadata": {},
   "outputs": [
    {
     "data": {
      "text/plain": [
       "<AxesSubplot:>"
      ]
     },
     "execution_count": 205,
     "metadata": {},
     "output_type": "execute_result"
    },
    {
     "data": {
      "image/png": "[encoded data removed]",
      "text/plain": [
       "<Figure size 432x288 with 1 Axes>"
      ]
     },
     "metadata": {
      "needs_background": "light"
     },
     "output_type": "display_data"
    }
   ],
   "source": [
    "(data.pct_change().std() * (250**0.5)).plot(kind='bar')"
   ]
  },
  {
   "cell_type": "code",
   "execution_count": 213,
   "metadata": {},
   "outputs": [
    {
     "data": {
      "text/html": [
       "<div>\n",
       "<style scoped>\n",
       "    .dataframe tbody tr th:only-of-type {\n",
       "        vertical-align: middle;\n",
       "    }\n",
       "\n",
       "    .dataframe tbody tr th {\n",
       "        vertical-align: top;\n",
       "    }\n",
       "\n",
       "    .dataframe thead th {\n",
       "        text-align: right;\n",
       "    }\n",
       "</style>\n",
       "<table border=\"1\" class=\"dataframe\">\n",
       "  <thead>\n",
       "    <tr style=\"text-align: right;\">\n",
       "      <th></th>\n",
       "      <th>AAPL</th>\n",
       "      <th>AMZN</th>\n",
       "      <th>FB</th>\n",
       "      <th>GOOGL</th>\n",
       "      <th>NFLX</th>\n",
       "      <th>QQQ</th>\n",
       "      <th>SQQQ</th>\n",
       "    </tr>\n",
       "    <tr>\n",
       "      <th>Date</th>\n",
       "      <th></th>\n",
       "      <th></th>\n",
       "      <th></th>\n",
       "      <th></th>\n",
       "      <th></th>\n",
       "      <th></th>\n",
       "      <th></th>\n",
       "    </tr>\n",
       "  </thead>\n",
       "  <tbody>\n",
       "    <tr>\n",
       "      <th>2020-01-02</th>\n",
       "      <td>74.333511</td>\n",
       "      <td>1898.010010</td>\n",
       "      <td>209.779999</td>\n",
       "      <td>1368.680054</td>\n",
       "      <td>329.809998</td>\n",
       "      <td>214.665176</td>\n",
       "      <td>106.196915</td>\n",
       "    </tr>\n",
       "    <tr>\n",
       "      <th>2020-01-03</th>\n",
       "      <td>73.610840</td>\n",
       "      <td>1874.969971</td>\n",
       "      <td>208.669998</td>\n",
       "      <td>1361.520020</td>\n",
       "      <td>325.899994</td>\n",
       "      <td>212.698853</td>\n",
       "      <td>109.038803</td>\n",
       "    </tr>\n",
       "    <tr>\n",
       "      <th>2020-01-06</th>\n",
       "      <td>74.197395</td>\n",
       "      <td>1902.880005</td>\n",
       "      <td>212.600006</td>\n",
       "      <td>1397.810059</td>\n",
       "      <td>335.829987</td>\n",
       "      <td>214.069321</td>\n",
       "      <td>106.944778</td>\n",
       "    </tr>\n",
       "    <tr>\n",
       "      <th>2020-01-07</th>\n",
       "      <td>73.848442</td>\n",
       "      <td>1906.859985</td>\n",
       "      <td>213.059998</td>\n",
       "      <td>1395.109985</td>\n",
       "      <td>330.750000</td>\n",
       "      <td>214.039520</td>\n",
       "      <td>106.994637</td>\n",
       "    </tr>\n",
       "    <tr>\n",
       "      <th>2020-01-08</th>\n",
       "      <td>75.036385</td>\n",
       "      <td>1891.969971</td>\n",
       "      <td>215.220001</td>\n",
       "      <td>1405.040039</td>\n",
       "      <td>339.260010</td>\n",
       "      <td>215.648300</td>\n",
       "      <td>104.601471</td>\n",
       "    </tr>\n",
       "    <tr>\n",
       "      <th>...</th>\n",
       "      <td>...</td>\n",
       "      <td>...</td>\n",
       "      <td>...</td>\n",
       "      <td>...</td>\n",
       "      <td>...</td>\n",
       "      <td>...</td>\n",
       "      <td>...</td>\n",
       "    </tr>\n",
       "    <tr>\n",
       "      <th>2021-04-14</th>\n",
       "      <td>132.029999</td>\n",
       "      <td>3333.000000</td>\n",
       "      <td>302.820007</td>\n",
       "      <td>2241.909912</td>\n",
       "      <td>540.020020</td>\n",
       "      <td>336.510010</td>\n",
       "      <td>11.110000</td>\n",
       "    </tr>\n",
       "    <tr>\n",
       "      <th>2021-04-15</th>\n",
       "      <td>134.500000</td>\n",
       "      <td>3379.090088</td>\n",
       "      <td>307.820007</td>\n",
       "      <td>2285.250000</td>\n",
       "      <td>549.219971</td>\n",
       "      <td>341.609985</td>\n",
       "      <td>10.590000</td>\n",
       "    </tr>\n",
       "    <tr>\n",
       "      <th>2021-04-16</th>\n",
       "      <td>134.160004</td>\n",
       "      <td>3399.439941</td>\n",
       "      <td>306.179993</td>\n",
       "      <td>2282.750000</td>\n",
       "      <td>546.539978</td>\n",
       "      <td>342.010010</td>\n",
       "      <td>10.560000</td>\n",
       "    </tr>\n",
       "    <tr>\n",
       "      <th>2021-04-19</th>\n",
       "      <td>134.839996</td>\n",
       "      <td>3372.010010</td>\n",
       "      <td>302.239990</td>\n",
       "      <td>2289.760010</td>\n",
       "      <td>554.440002</td>\n",
       "      <td>338.880005</td>\n",
       "      <td>10.860000</td>\n",
       "    </tr>\n",
       "    <tr>\n",
       "      <th>2021-04-20</th>\n",
       "      <td>133.110001</td>\n",
       "      <td>3334.689941</td>\n",
       "      <td>302.649994</td>\n",
       "      <td>2279.010010</td>\n",
       "      <td>549.570007</td>\n",
       "      <td>336.410004</td>\n",
       "      <td>11.090000</td>\n",
       "    </tr>\n",
       "  </tbody>\n",
       "</table>\n",
       "<p>327 rows × 7 columns</p>\n",
       "</div>"
      ],
      "text/plain": [
       "                  AAPL         AMZN          FB        GOOGL        NFLX  \\\n",
       "Date                                                                       \n",
       "2020-01-02   74.333511  1898.010010  209.779999  1368.680054  329.809998   \n",
       "2020-01-03   73.610840  1874.969971  208.669998  1361.520020  325.899994   \n",
       "2020-01-06   74.197395  1902.880005  212.600006  1397.810059  335.829987   \n",
       "2020-01-07   73.848442  1906.859985  213.059998  1395.109985  330.750000   \n",
       "2020-01-08   75.036385  1891.969971  215.220001  1405.040039  339.260010   \n",
       "...                ...          ...         ...          ...         ...   \n",
       "2021-04-14  132.029999  3333.000000  302.820007  2241.909912  540.020020   \n",
       "2021-04-15  134.500000  3379.090088  307.820007  2285.250000  549.219971   \n",
       "2021-04-16  134.160004  3399.439941  306.179993  2282.750000  546.539978   \n",
       "2021-04-19  134.839996  3372.010010  302.239990  2289.760010  554.440002   \n",
       "2021-04-20  133.110001  3334.689941  302.649994  2279.010010  549.570007   \n",
       "\n",
       "                   QQQ        SQQQ  \n",
       "Date                                \n",
       "2020-01-02  214.665176  106.196915  \n",
       "2020-01-03  212.698853  109.038803  \n",
       "2020-01-06  214.069321  106.944778  \n",
       "2020-01-07  214.039520  106.994637  \n",
       "2020-01-08  215.648300  104.601471  \n",
       "...                ...         ...  \n",
       "2021-04-14  336.510010   11.110000  \n",
       "2021-04-15  341.609985   10.590000  \n",
       "2021-04-16  342.010010   10.560000  \n",
       "2021-04-19  338.880005   10.860000  \n",
       "2021-04-20  336.410004   11.090000  \n",
       "\n",
       "[327 rows x 7 columns]"
      ]
     },
     "execution_count": 213,
     "metadata": {},
     "output_type": "execute_result"
    }
   ],
   "source": [
    "data"
   ]
  },
  {
   "cell_type": "code",
   "execution_count": 211,
   "metadata": {},
   "outputs": [
    {
     "data": {
      "text/html": [
       "<div>\n",
       "<style scoped>\n",
       "    .dataframe tbody tr th:only-of-type {\n",
       "        vertical-align: middle;\n",
       "    }\n",
       "\n",
       "    .dataframe tbody tr th {\n",
       "        vertical-align: top;\n",
       "    }\n",
       "\n",
       "    .dataframe thead th {\n",
       "        text-align: right;\n",
       "    }\n",
       "</style>\n",
       "<table border=\"1\" class=\"dataframe\">\n",
       "  <thead>\n",
       "    <tr style=\"text-align: right;\">\n",
       "      <th></th>\n",
       "      <th>NFLX</th>\n",
       "      <th>QQQ</th>\n",
       "      <th>SQQQ</th>\n",
       "    </tr>\n",
       "    <tr>\n",
       "      <th>Date</th>\n",
       "      <th></th>\n",
       "      <th></th>\n",
       "      <th></th>\n",
       "    </tr>\n",
       "  </thead>\n",
       "  <tbody>\n",
       "    <tr>\n",
       "      <th>2020-01-02</th>\n",
       "      <td>NaN</td>\n",
       "      <td>NaN</td>\n",
       "      <td>NaN</td>\n",
       "    </tr>\n",
       "    <tr>\n",
       "      <th>2020-01-03</th>\n",
       "      <td>0.988145</td>\n",
       "      <td>0.990840</td>\n",
       "      <td>1.026761</td>\n",
       "    </tr>\n",
       "    <tr>\n",
       "      <th>2020-01-06</th>\n",
       "      <td>1.018253</td>\n",
       "      <td>0.997224</td>\n",
       "      <td>1.007042</td>\n",
       "    </tr>\n",
       "    <tr>\n",
       "      <th>2020-01-07</th>\n",
       "      <td>1.002850</td>\n",
       "      <td>0.997085</td>\n",
       "      <td>1.007512</td>\n",
       "    </tr>\n",
       "    <tr>\n",
       "      <th>2020-01-08</th>\n",
       "      <td>1.028653</td>\n",
       "      <td>1.004580</td>\n",
       "      <td>0.984977</td>\n",
       "    </tr>\n",
       "  </tbody>\n",
       "</table>\n",
       "</div>"
      ],
      "text/plain": [
       "                NFLX       QQQ      SQQQ\n",
       "Date                                    \n",
       "2020-01-02       NaN       NaN       NaN\n",
       "2020-01-03  0.988145  0.990840  1.026761\n",
       "2020-01-06  1.018253  0.997224  1.007042\n",
       "2020-01-07  1.002850  0.997085  1.007512\n",
       "2020-01-08  1.028653  1.004580  0.984977"
      ]
     },
     "execution_count": 211,
     "metadata": {},
     "output_type": "execute_result"
    }
   ],
   "source": [
    "(data.pct_change()+1).cumprod().iloc[:5, -3:]"
   ]
  },
  {
   "cell_type": "code",
   "execution_count": 215,
   "metadata": {},
   "outputs": [
    {
     "data": {
      "text/plain": [
       "<AxesSubplot:xlabel='Date', ylabel='Indice base 1'>"
      ]
     },
     "execution_count": 215,
     "metadata": {},
     "output_type": "execute_result"
    },
    {
     "data": {
      "image/png": "[encoded data removed]",
      "text/plain": [
       "<Figure size 864x432 with 1 Axes>"
      ]
     },
     "metadata": {
      "needs_background": "light"
     },
     "output_type": "display_data"
    }
   ],
   "source": [
    "grafico = (data.pct_change()+1).cumprod().plot(figsize=(12,6), ylabel='Indice base 1')\n",
    "grafico"
   ]
  },
  {
   "cell_type": "code",
   "execution_count": 218,
   "metadata": {},
   "outputs": [],
   "source": [
    "fig = grafico.get_figure()\n",
    "\n",
    "fig.savefig('prueba_guardado.png')\n"
   ]
  },
  {
   "cell_type": "code",
   "execution_count": 47,
   "metadata": {},
   "outputs": [
    {
     "data": {
      "text/plain": [
       "<AxesSubplot:>"
      ]
     },
     "execution_count": 47,
     "metadata": {},
     "output_type": "execute_result"
    },
    {
     "data": {
      "image/png": "[encoded data removed]",
      "text/plain": [
       "<Figure size 432x288 with 1 Axes>"
      ]
     },
     "metadata": {
      "needs_background": "light"
     },
     "output_type": "display_data"
    }
   ],
   "source": [
    "data.QQQ.pct_change().hist(bins=100)"
   ]
  },
  {
   "cell_type": "markdown",
   "metadata": {},
   "source": [
    "# Excepciones"
   ]
  },
  {
   "cell_type": "code",
   "execution_count": null,
   "metadata": {},
   "outputs": [],
   "source": []
  },
  {
   "cell_type": "code",
   "execution_count": 42,
   "metadata": {
    "scrolled": true
   },
   "outputs": [
    {
     "name": "stdout",
     "output_type": "stream",
     "text": [
      "0.5\n"
     ]
    }
   ],
   "source": [
    "a = 10\n",
    "b = 20\n",
    "\n",
    "c = a / b\n",
    "\n",
    "print(c)"
   ]
  },
  {
   "cell_type": "code",
   "execution_count": 43,
   "metadata": {},
   "outputs": [
    {
     "ename": "ZeroDivisionError",
     "evalue": "division by zero",
     "output_type": "error",
     "traceback": [
      "\u001b[1;31m---------------------------------------------------------------------------\u001b[0m",
      "\u001b[1;31mZeroDivisionError\u001b[0m                         Traceback (most recent call last)",
      "\u001b[1;32m<ipython-input-43-3fe8e33753fa>\u001b[0m in \u001b[0;36m<module>\u001b[1;34m\u001b[0m\n\u001b[0;32m      2\u001b[0m \u001b[0mb\u001b[0m \u001b[1;33m=\u001b[0m \u001b[1;36m0\u001b[0m\u001b[1;33m\u001b[0m\u001b[1;33m\u001b[0m\u001b[0m\n\u001b[0;32m      3\u001b[0m \u001b[1;33m\u001b[0m\u001b[0m\n\u001b[1;32m----> 4\u001b[1;33m \u001b[0mc\u001b[0m \u001b[1;33m=\u001b[0m \u001b[0ma\u001b[0m \u001b[1;33m/\u001b[0m \u001b[0mb\u001b[0m\u001b[1;33m\u001b[0m\u001b[1;33m\u001b[0m\u001b[0m\n\u001b[0m\u001b[0;32m      5\u001b[0m \u001b[1;33m\u001b[0m\u001b[0m\n\u001b[0;32m      6\u001b[0m \u001b[1;33m\u001b[0m\u001b[0m\n",
      "\u001b[1;31mZeroDivisionError\u001b[0m: division by zero"
     ]
    }
   ],
   "source": [
    "a = 10\n",
    "b = 0\n",
    "\n",
    "c = a / b\n",
    "\n",
    "\n",
    "print('Hola ya terminé el paso de la division')\n",
    "print(c)\n"
   ]
  },
  {
   "cell_type": "code",
   "execution_count": 55,
   "metadata": {},
   "outputs": [
    {
     "name": "stdout",
     "output_type": "stream",
     "text": [
      "no pude hacer la division\n",
      "Hola ya terminé el paso de la division\n",
      "None\n"
     ]
    }
   ],
   "source": [
    "a = 10\n",
    "b = 2\n",
    "\n",
    "try:\n",
    "    c = a / b\n",
    "    d = b + \"juan\"\n",
    "    # siguiente instruccion\n",
    "    \n",
    "except Exception as e:\n",
    "    \n",
    "    print('no pude hacer la division')\n",
    "    c = None\n",
    "    error = e\n",
    "\n",
    "print('Hola ya terminé el paso de la division')\n",
    "print(c)\n"
   ]
  },
  {
   "cell_type": "code",
   "execution_count": 58,
   "metadata": {},
   "outputs": [
    {
     "data": {
      "text/plain": [
       "TypeError(\"unsupported operand type(s) for +: 'int' and 'str'\")"
      ]
     },
     "execution_count": 58,
     "metadata": {},
     "output_type": "execute_result"
    }
   ],
   "source": [
    "error"
   ]
  },
  {
   "cell_type": "code",
   "execution_count": 50,
   "metadata": {},
   "outputs": [
    {
     "name": "stdout",
     "output_type": "stream",
     "text": [
      "Hola ya terminé el paso de la division\n",
      "None\n"
     ]
    }
   ],
   "source": [
    "a = 10\n",
    "b = 0\n",
    "\n",
    "try:\n",
    "    c = a / b\n",
    "    # siguiente instruccion\n",
    "    \n",
    "except:\n",
    "    pass\n",
    "\n",
    "\n",
    "print('Hola ya terminé el paso de la division')\n",
    "print(c)"
   ]
  },
  {
   "cell_type": "code",
   "execution_count": 4,
   "metadata": {},
   "outputs": [
    {
     "name": "stdout",
     "output_type": "stream",
     "text": [
      "Por aca pasa siempre\n",
      "No se puede dividir por cero\n"
     ]
    }
   ],
   "source": [
    "a = 10\n",
    "b = 0\n",
    "c = None\n",
    "\n",
    "try:\n",
    "    c = a / b\n",
    "except:\n",
    "    c = 'No se puede dividir por cero'\n",
    "finally:\n",
    "    print('Por aca pasa siempre')\n",
    "\n",
    "\n",
    "print(c)"
   ]
  },
  {
   "cell_type": "code",
   "execution_count": null,
   "metadata": {},
   "outputs": [],
   "source": []
  },
  {
   "cell_type": "code",
   "execution_count": 52,
   "metadata": {},
   "outputs": [],
   "source": [
    "try:\n",
    "    a= 1\n",
    "    # cien lineas de codigo\n",
    "    \n",
    "except:\n",
    "    pass"
   ]
  },
  {
   "cell_type": "code",
   "execution_count": null,
   "metadata": {},
   "outputs": [],
   "source": []
  },
  {
   "cell_type": "code",
   "execution_count": null,
   "metadata": {},
   "outputs": [],
   "source": []
  },
  {
   "cell_type": "code",
   "execution_count": null,
   "metadata": {},
   "outputs": [],
   "source": []
  },
  {
   "cell_type": "code",
   "execution_count": null,
   "metadata": {},
   "outputs": [],
   "source": []
  },
  {
   "cell_type": "code",
   "execution_count": null,
   "metadata": {},
   "outputs": [],
   "source": []
  },
  {
   "cell_type": "code",
   "execution_count": null,
   "metadata": {},
   "outputs": [],
   "source": []
  },
  {
   "cell_type": "code",
   "execution_count": null,
   "metadata": {},
   "outputs": [],
   "source": []
  },
  {
   "cell_type": "markdown",
   "metadata": {},
   "source": [
    "# Operadores Lógicos"
   ]
  },
  {
   "cell_type": "markdown",
   "metadata": {},
   "source": [
    "Antes de la sentencia IF veamos las condiciones por separado"
   ]
  },
  {
   "cell_type": "markdown",
   "metadata": {},
   "source": [
    "Una condicion escrita devuelve un return, es decir que pueda darle salida a una condicion y meterle ese return a una variable"
   ]
  },
  {
   "cell_type": "code",
   "execution_count": 59,
   "metadata": {},
   "outputs": [
    {
     "data": {
      "text/plain": [
       "True"
      ]
     },
     "execution_count": 59,
     "metadata": {},
     "output_type": "execute_result"
    }
   ],
   "source": [
    "COME = 2.75\n",
    "\n",
    "COME < 3  # estoy suponiendo que COME < 3"
   ]
  },
  {
   "cell_type": "code",
   "execution_count": 60,
   "metadata": {},
   "outputs": [
    {
     "data": {
      "text/plain": [
       "False"
      ]
     },
     "execution_count": 60,
     "metadata": {},
     "output_type": "execute_result"
    }
   ],
   "source": [
    "COME > 3 "
   ]
  },
  {
   "cell_type": "code",
   "execution_count": 62,
   "metadata": {},
   "outputs": [
    {
     "data": {
      "text/plain": [
       "False"
      ]
     },
     "execution_count": 62,
     "metadata": {},
     "output_type": "execute_result"
    }
   ],
   "source": [
    "COME == 3  # aca estoy asumiendo que COME es igual a 3, el interprete me va a devolver si es correcto o no"
   ]
  },
  {
   "cell_type": "code",
   "execution_count": 63,
   "metadata": {},
   "outputs": [],
   "source": [
    "resultado_pregunta = COME == 3"
   ]
  },
  {
   "cell_type": "code",
   "execution_count": 64,
   "metadata": {
    "scrolled": true
   },
   "outputs": [
    {
     "data": {
      "text/plain": [
       "False"
      ]
     },
     "execution_count": 64,
     "metadata": {},
     "output_type": "execute_result"
    }
   ],
   "source": [
    "resultado_pregunta"
   ]
  },
  {
   "cell_type": "code",
   "execution_count": 67,
   "metadata": {
    "scrolled": true
   },
   "outputs": [
    {
     "name": "stdout",
     "output_type": "stream",
     "text": [
      "True\n"
     ]
    }
   ],
   "source": [
    "pregunta = COME <= 3\n",
    "print(pregunta)"
   ]
  },
  {
   "cell_type": "code",
   "execution_count": 68,
   "metadata": {
    "scrolled": true
   },
   "outputs": [
    {
     "name": "stdout",
     "output_type": "stream",
     "text": [
      "False False True\n"
     ]
    }
   ],
   "source": [
    "print(COME > 3, COME == 3, COME < 3)"
   ]
  },
  {
   "cell_type": "code",
   "execution_count": 11,
   "metadata": {},
   "outputs": [],
   "source": [
    "come_menor_3 = COME < 3"
   ]
  },
  {
   "cell_type": "code",
   "execution_count": 12,
   "metadata": {},
   "outputs": [
    {
     "data": {
      "text/plain": [
       "True"
      ]
     },
     "execution_count": 12,
     "metadata": {},
     "output_type": "execute_result"
    }
   ],
   "source": [
    "come_menor_3"
   ]
  },
  {
   "cell_type": "code",
   "execution_count": 71,
   "metadata": {},
   "outputs": [
    {
     "data": {
      "text/plain": [
       "False"
      ]
     },
     "execution_count": 71,
     "metadata": {},
     "output_type": "execute_result"
    }
   ],
   "source": [
    "portafolio = ['AAPL', 'FB', 'GOOGL', 'GGAL']\n",
    "\n",
    "'GGA' in portafolio"
   ]
  },
  {
   "cell_type": "code",
   "execution_count": 72,
   "metadata": {},
   "outputs": [
    {
     "data": {
      "text/plain": [
       "True"
      ]
     },
     "execution_count": 72,
     "metadata": {},
     "output_type": "execute_result"
    }
   ],
   "source": [
    "ticker = 'YPFD'\n",
    "adr = 'YPF'\n",
    "\n",
    "adr in ticker"
   ]
  },
  {
   "cell_type": "code",
   "execution_count": null,
   "metadata": {},
   "outputs": [],
   "source": []
  },
  {
   "cell_type": "code",
   "execution_count": 70,
   "metadata": {},
   "outputs": [
    {
     "data": {
      "text/plain": [
       "False"
      ]
     },
     "execution_count": 70,
     "metadata": {},
     "output_type": "execute_result"
    }
   ],
   "source": [
    "accion = 'YPF'\n",
    "\n",
    "accion in portafolio"
   ]
  },
  {
   "cell_type": "code",
   "execution_count": null,
   "metadata": {},
   "outputs": [],
   "source": []
  },
  {
   "cell_type": "code",
   "execution_count": null,
   "metadata": {},
   "outputs": [],
   "source": []
  },
  {
   "cell_type": "code",
   "execution_count": null,
   "metadata": {},
   "outputs": [],
   "source": []
  },
  {
   "cell_type": "markdown",
   "metadata": {},
   "source": [
    "Comparadores:\n",
    "    \n",
    "    * ==  Es igual a ?\n",
    "    * !=  Es distinto a?\n",
    "    * > \n",
    "    * >=\n",
    "    * <\n",
    "    * <=\n",
    "\n",
    "    * in\n",
    "    * not in"
   ]
  },
  {
   "cell_type": "code",
   "execution_count": 73,
   "metadata": {},
   "outputs": [
    {
     "data": {
      "text/plain": [
       "['GGAL', 'PAMP', 'YPFD', 'CEPU', 'EDN', 'LOMA', 'CRES']"
      ]
     },
     "execution_count": 73,
     "metadata": {},
     "output_type": "execute_result"
    }
   ],
   "source": [
    "listado = [\"GGAL\",\"PAMP\",\"YPFD\",\"CEPU\",\"EDN\",\"LOMA\",\"CRES\"]\n",
    "listado"
   ]
  },
  {
   "cell_type": "code",
   "execution_count": 74,
   "metadata": {},
   "outputs": [
    {
     "data": {
      "text/plain": [
       "False"
      ]
     },
     "execution_count": 74,
     "metadata": {},
     "output_type": "execute_result"
    }
   ],
   "source": [
    "ticker = \"GGAL\"\n",
    "\n",
    "ticker not in listado"
   ]
  },
  {
   "cell_type": "code",
   "execution_count": null,
   "metadata": {},
   "outputs": [],
   "source": []
  },
  {
   "cell_type": "code",
   "execution_count": null,
   "metadata": {},
   "outputs": [],
   "source": []
  },
  {
   "cell_type": "code",
   "execution_count": null,
   "metadata": {},
   "outputs": [],
   "source": []
  },
  {
   "cell_type": "markdown",
   "metadata": {},
   "source": [
    "## RECUERDEN\n",
    "\n",
    "\n",
    "    * Un signo igual solo es una asignacion\n",
    "    * Dos signos igual es una pregunta"
   ]
  },
  {
   "cell_type": "markdown",
   "metadata": {},
   "source": [
    "# Sentencia IF"
   ]
  },
  {
   "cell_type": "markdown",
   "metadata": {},
   "source": [
    "Los condicionales son los que definen \"ramas\" del flujo, véanlas como \"bifurcaciones\""
   ]
  },
  {
   "cell_type": "markdown",
   "metadata": {},
   "source": [
    "Obviamente la sentencia IF lo que hace es preguntar si se cumple o no una condicion, en caso afirmativo ejecuta la línea que sigue despues de los DOS PUNTOS, caso negativo termina ahí si no hay else, pero si hubiera un else, ejecuta la línea o líneas que siguen despues de os DOS PUNTOS del else"
   ]
  },
  {
   "cell_type": "raw",
   "metadata": {},
   "source": [
    "Estrctura del IF\n",
    "\n",
    "if (condicion):\n",
    "    1° linea de codigo\n",
    "    2° línea de codigo\n",
    "    --------\n",
    "    n° linea de codigo\n",
    "else:\n",
    "    1° linea de codigo\n",
    "    2° línea de codigo\n",
    "    --------\n",
    "    n° linea de codigo"
   ]
  },
  {
   "cell_type": "markdown",
   "metadata": {},
   "source": [
    "## Concepto de la indentación"
   ]
  },
  {
   "cell_type": "code",
   "execution_count": 20,
   "metadata": {},
   "outputs": [
    {
     "name": "stdout",
     "output_type": "stream",
     "text": [
      "entro por el si\n"
     ]
    }
   ],
   "source": [
    "COME = 3\n",
    "\n",
    "\n",
    "if COME > 1:\n",
    "    print('entro por el si')\n",
    "else:\n",
    "    print('entro por el no')"
   ]
  },
  {
   "cell_type": "code",
   "execution_count": 76,
   "metadata": {},
   "outputs": [
    {
     "name": "stdout",
     "output_type": "stream",
     "text": [
      "entro por el si\n"
     ]
    }
   ],
   "source": [
    "COME = 3\n",
    "res_COME = COME > 1\n",
    "\n",
    "if res_COME:\n",
    "    print('entro por el si')\n",
    "else:\n",
    "    print('entro por el no')"
   ]
  },
  {
   "cell_type": "code",
   "execution_count": null,
   "metadata": {},
   "outputs": [],
   "source": []
  },
  {
   "cell_type": "code",
   "execution_count": null,
   "metadata": {},
   "outputs": [],
   "source": []
  },
  {
   "cell_type": "code",
   "execution_count": 81,
   "metadata": {},
   "outputs": [
    {
     "name": "stdout",
     "output_type": "stream",
     "text": [
      "GGAL NO está en la cartera\n"
     ]
    }
   ],
   "source": [
    "accion = \"GGAL\"\n",
    "cartera = [\"AAPL\",\"AMZN\",\"FB\"]\n",
    "\n",
    "\n",
    "\n",
    "if accion in cartera:\n",
    "    print(f\"{accion} está en la cartera\")\n",
    "    # Vender el papel\n",
    "\n",
    "else:\n",
    "    print(F\"{accion} NO está en la cartera\")\n",
    "    # buscar otro papel para vender\n",
    "    "
   ]
  },
  {
   "cell_type": "code",
   "execution_count": 82,
   "metadata": {},
   "outputs": [
    {
     "name": "stdout",
     "output_type": "stream",
     "text": [
      "GGAL está en la cartera\n"
     ]
    }
   ],
   "source": [
    "accion = \"GGAL\"\n",
    "cartera = [\"AAPL\",\"AMZN\",\"FB\"]\n",
    "\n",
    "\n",
    "\n",
    "try:\n",
    "    print(f\"{accion} está en la cartera\")\n",
    "    # Vender el papel\n",
    "\n",
    "except:\n",
    "    print(F\"{accion} NO está en la cartera\")\n",
    "    # buscar otro papel para vender\n",
    "    "
   ]
  },
  {
   "cell_type": "code",
   "execution_count": null,
   "metadata": {},
   "outputs": [],
   "source": []
  },
  {
   "cell_type": "code",
   "execution_count": null,
   "metadata": {},
   "outputs": [],
   "source": []
  },
  {
   "cell_type": "markdown",
   "metadata": {},
   "source": [
    "También se puede usar el operador con el <b>not</b> adelante como cualquier otro operador"
   ]
  },
  {
   "cell_type": "code",
   "execution_count": 83,
   "metadata": {},
   "outputs": [
    {
     "name": "stdout",
     "output_type": "stream",
     "text": [
      "Ojo que GGAL NO está en la cartera\n"
     ]
    }
   ],
   "source": [
    "accion = \"GGAL\"\n",
    "cartera = [\"AAPL\",\"AMZN\",\"FB\"]\n",
    "\n",
    "if accion not in cartera:\n",
    "    print(f\"Ojo que {accion} NO está en la cartera\")\n",
    "else:\n",
    "    pass\n",
    "    # ojo poner aca tal cosa\n"
   ]
  },
  {
   "cell_type": "code",
   "execution_count": null,
   "metadata": {},
   "outputs": [],
   "source": []
  },
  {
   "cell_type": "code",
   "execution_count": null,
   "metadata": {},
   "outputs": [],
   "source": []
  },
  {
   "cell_type": "markdown",
   "metadata": {},
   "source": [
    "# Concatenados / Anidados"
   ]
  },
  {
   "cell_type": "markdown",
   "metadata": {},
   "source": [
    "<img src=\"imagenes/decisiones.png\" style=\"width:150%;float:left;margin-left:-50px;margin-top:-20px;\">"
   ]
  },
  {
   "cell_type": "markdown",
   "metadata": {},
   "source": [
    "<img src=\"imagenes/decisiones.png\" style=\"float:left;width:90%\">"
   ]
  },
  {
   "cell_type": "markdown",
   "metadata": {},
   "source": [
    "## Ejemplo IF concatenado"
   ]
  },
  {
   "cell_type": "code",
   "execution_count": 92,
   "metadata": {},
   "outputs": [],
   "source": [
    "res = [15,11,8,4]\n",
    "res.sort()"
   ]
  },
  {
   "cell_type": "code",
   "execution_count": 93,
   "metadata": {},
   "outputs": [
    {
     "data": {
      "text/plain": [
       "[4, 8, 11, 15]"
      ]
     },
     "execution_count": 93,
     "metadata": {},
     "output_type": "execute_result"
    }
   ],
   "source": [
    "res"
   ]
  },
  {
   "cell_type": "code",
   "execution_count": 87,
   "metadata": {},
   "outputs": [
    {
     "name": "stdout",
     "output_type": "stream",
     "text": [
      "Ingresar el precio: 4\n",
      "Resistencia a vencer:  7\n"
     ]
    }
   ],
   "source": [
    "# Tarea arregla este script por si el usuario manda cualquier fruta por teclado\n",
    "\n",
    "resistencias = [7,10,15,20]\n",
    "precio = float(input(\"Ingresar el precio: \"))\n",
    "\n",
    "if precio < resistencias[0]:\n",
    "    print(\"Resistencia a vencer: \", resistencias[0])\n",
    "    \n",
    "elif precio < resistencias[1]:\n",
    "    print(\"Resistencia a vencer: \", resistencias[1])\n",
    "    \n",
    "elif precio < resistencias[2]:\n",
    "    print(\"Resistencia a vencer: \", resistencias[2])\n",
    "    \n",
    "elif precio < resistencias[3]:\n",
    "    print(\"Resistencia a vencer: \", resistencias[3])  \n",
    "    \n",
    "else:\n",
    "    print(\"Estamos en máximos históricos\")\n",
    "    \n"
   ]
  },
  {
   "cell_type": "code",
   "execution_count": null,
   "metadata": {},
   "outputs": [],
   "source": []
  },
  {
   "cell_type": "code",
   "execution_count": null,
   "metadata": {},
   "outputs": [],
   "source": []
  },
  {
   "cell_type": "code",
   "execution_count": 90,
   "metadata": {},
   "outputs": [
    {
     "name": "stdout",
     "output_type": "stream",
     "text": [
      "Resistencia a vencer:  15\n"
     ]
    }
   ],
   "source": [
    "precio = 11\n",
    "\n",
    "for i in range(len(resistencias)):\n",
    "    if precio < resistencias[i]:\n",
    "        print(\"Resistencia a vencer: \", resistencias[i])\n",
    "        break\n"
   ]
  },
  {
   "cell_type": "markdown",
   "metadata": {},
   "source": [
    "EJERCICIO: Hacer esto mismo pero con un FOR en lugar de los IFs anidados"
   ]
  },
  {
   "cell_type": "code",
   "execution_count": 95,
   "metadata": {},
   "outputs": [
    {
     "name": "stdout",
     "output_type": "stream",
     "text": [
      "Resistencia a vencer:  15\n"
     ]
    }
   ],
   "source": [
    "for resistencia in resistencias:\n",
    "    if precio < resistencia:\n",
    "        print(\"Resistencia a vencer: \", resistencia)\n",
    "        break\n"
   ]
  },
  {
   "cell_type": "code",
   "execution_count": null,
   "metadata": {},
   "outputs": [],
   "source": []
  },
  {
   "cell_type": "code",
   "execution_count": null,
   "metadata": {},
   "outputs": [],
   "source": []
  },
  {
   "cell_type": "code",
   "execution_count": null,
   "metadata": {},
   "outputs": [],
   "source": []
  },
  {
   "cell_type": "markdown",
   "metadata": {},
   "source": [
    "## Hardcodeando"
   ]
  },
  {
   "cell_type": "markdown",
   "metadata": {},
   "source": [
    "    * Y => &\n",
    "    * O => |"
   ]
  },
  {
   "cell_type": "code",
   "execution_count": null,
   "metadata": {},
   "outputs": [],
   "source": []
  },
  {
   "cell_type": "code",
   "execution_count": 96,
   "metadata": {},
   "outputs": [
    {
     "name": "stdout",
     "output_type": "stream",
     "text": [
      "Resistencia a vencer:  15\n"
     ]
    }
   ],
   "source": [
    "precio = 10\n",
    "\n",
    "if precio < resistencias[0]:\n",
    "    print(\"Resistencia a vencer: \", resistencias[0])\n",
    "\n",
    "if (precio < resistencias[1]) & (precio >= resistencias[0]):\n",
    "    print(\"Resistencia a vencer: \", resistencias[1])\n",
    "\n",
    "if (precio < resistencias[2]) & (precio >= resistencias[1]):\n",
    "    print(\"Resistencia a vencer: \", resistencias[2])\n",
    "\n",
    "if (precio < resistencias[3]) & (precio >= resistencias[2]):\n",
    "    print(\"Resistencia a vencer: \", resistencias[3])\n",
    "\n",
    "if precio > resistencias[3]:\n",
    "    print(\"Estamos en maximos historicos\")\n"
   ]
  },
  {
   "cell_type": "code",
   "execution_count": null,
   "metadata": {},
   "outputs": [],
   "source": []
  },
  {
   "cell_type": "markdown",
   "metadata": {},
   "source": [
    "## Ejemplo IF anidado"
   ]
  },
  {
   "cell_type": "code",
   "execution_count": 99,
   "metadata": {},
   "outputs": [
    {
     "name": "stdout",
     "output_type": "stream",
     "text": [
      "Salida por take Profit\n"
     ]
    }
   ],
   "source": [
    "precio = 111\n",
    "\n",
    "stopLoss = 95\n",
    "takeProfit = 110\n",
    "\n",
    "\n",
    "\n",
    "if precio > stopLoss:\n",
    "    \n",
    "    # en ppio mantener\n",
    "    if precio < takeProfit:\n",
    "        print(\"Hold\")\n",
    "    else:\n",
    "        print(\"Salida por take Profit\")\n",
    "else:\n",
    "    print(\"Salida por Stop Loss\")"
   ]
  },
  {
   "cell_type": "code",
   "execution_count": 100,
   "metadata": {},
   "outputs": [
    {
     "name": "stdout",
     "output_type": "stream",
     "text": [
      "Salida por stop loss\n"
     ]
    }
   ],
   "source": [
    "precio = 90\n",
    "\n",
    "stopLoss = 95\n",
    "takeProfit = 110\n",
    "\n",
    "stopLoss_cond = precio < stopLoss\n",
    "takeProfit_cond = precio > takeProfit\n",
    "\n",
    "if stopLoss_cond:\n",
    "    print('Salida por stop loss')\n",
    "else:\n",
    "    if takeProfit_cond:\n",
    "        print('Salida por take profit')\n",
    "    else:\n",
    "        print('Hold')\n",
    "    "
   ]
  },
  {
   "cell_type": "code",
   "execution_count": 108,
   "metadata": {},
   "outputs": [
    {
     "name": "stdout",
     "output_type": "stream",
     "text": [
      "3 o menos condiciones ok\n"
     ]
    }
   ],
   "source": [
    "cond1 = True\n",
    "cond2 = True\n",
    "cond3 = False\n",
    "cond4 = False\n",
    "cond5 = False\n",
    "\n",
    "q_cond = sum([cond1,cond2,cond3,cond4, cond5])\n",
    "if q_cond > 3:\n",
    "    print('Mas de 3 condiciones OK')\n",
    "else:\n",
    "    print('3 o menos condiciones ok')"
   ]
  },
  {
   "cell_type": "code",
   "execution_count": 106,
   "metadata": {},
   "outputs": [
    {
     "name": "stdout",
     "output_type": "stream",
     "text": [
      "evalua verdadero\n"
     ]
    }
   ],
   "source": [
    "condicion = 45\n",
    "\n",
    "if condicion:\n",
    "    print('evalua verdadero')\n",
    "    \n",
    "else:\n",
    "    print('evalua falso')"
   ]
  },
  {
   "cell_type": "code",
   "execution_count": null,
   "metadata": {},
   "outputs": [],
   "source": []
  },
  {
   "cell_type": "code",
   "execution_count": null,
   "metadata": {},
   "outputs": [],
   "source": []
  },
  {
   "cell_type": "markdown",
   "metadata": {},
   "source": [
    "# Bucles FOR/WHILE"
   ]
  },
  {
   "cell_type": "markdown",
   "metadata": {},
   "source": [
    "## FOR"
   ]
  },
  {
   "cell_type": "code",
   "execution_count": 28,
   "metadata": {},
   "outputs": [
    {
     "name": "stdout",
     "output_type": "stream",
     "text": [
      "2\n",
      "5\n",
      "8\n",
      "11\n",
      "14\n"
     ]
    }
   ],
   "source": [
    "for i in [0,1,2,3,4]:\n",
    "    print(i*3+2)"
   ]
  },
  {
   "cell_type": "code",
   "execution_count": 109,
   "metadata": {},
   "outputs": [
    {
     "name": "stdout",
     "output_type": "stream",
     "text": [
      "0 GGAL\n",
      "1 PAMP\n",
      "2 YPFD\n",
      "3 CEPU\n",
      "4 EDN\n",
      "5 LOMA\n",
      "6 CRES\n"
     ]
    }
   ],
   "source": [
    "listado = [\"GGAL\",\"PAMP\",\"YPFD\",\"CEPU\",\"EDN\",\"LOMA\",\"CRES\"]\n",
    "\n",
    "for i, ticker in enumerate(listado):\n",
    "    print(i, ticker)\n",
    "    "
   ]
  },
  {
   "cell_type": "code",
   "execution_count": 110,
   "metadata": {},
   "outputs": [
    {
     "name": "stdout",
     "output_type": "stream",
     "text": [
      "GGAL\n",
      "PAMP\n",
      "YPFD\n",
      "CEPU\n",
      "EDN\n",
      "LOMA\n",
      "CRES\n"
     ]
    }
   ],
   "source": [
    "listado = [\"GGAL\",\"PAMP\",\"YPFD\",\"CEPU\",\"EDN\",\"LOMA\",\"CRES\"]\n",
    "\n",
    "for ticker in (listado):\n",
    "    print(ticker)\n",
    "    "
   ]
  },
  {
   "cell_type": "code",
   "execution_count": 111,
   "metadata": {},
   "outputs": [
    {
     "name": "stdout",
     "output_type": "stream",
     "text": [
      "GGAL\n",
      "PAMP\n",
      "YPFD\n",
      "CEPU\n",
      "EDN\n",
      "LOMA\n",
      "CRES\n"
     ]
    }
   ],
   "source": [
    "for i in range(len(listado)):\n",
    "    print(listado[i])"
   ]
  },
  {
   "cell_type": "code",
   "execution_count": null,
   "metadata": {},
   "outputs": [],
   "source": []
  },
  {
   "cell_type": "code",
   "execution_count": null,
   "metadata": {},
   "outputs": [],
   "source": []
  },
  {
   "cell_type": "code",
   "execution_count": 29,
   "metadata": {},
   "outputs": [
    {
     "name": "stdout",
     "output_type": "stream",
     "text": [
      "0\n",
      "1\n",
      "2\n",
      "3\n",
      "4\n",
      "Terminé\n"
     ]
    }
   ],
   "source": [
    "for i in [0,1,2,3,4]:\n",
    "    print(i)\n",
    "else:\n",
    "    print('Terminé')\n",
    "    "
   ]
  },
  {
   "cell_type": "code",
   "execution_count": 112,
   "metadata": {},
   "outputs": [
    {
     "name": "stdout",
     "output_type": "stream",
     "text": [
      "0\n",
      "1\n",
      "2\n",
      "3\n",
      "4\n",
      "8\n",
      "6\n",
      "7\n",
      "8\n",
      "9\n"
     ]
    }
   ],
   "source": [
    "for i in range(10):\n",
    "    \n",
    "    if i ==5:\n",
    "        i = 8\n",
    "        \n",
    "    print(i)"
   ]
  },
  {
   "cell_type": "code",
   "execution_count": 115,
   "metadata": {},
   "outputs": [
    {
     "name": "stdout",
     "output_type": "stream",
     "text": [
      "0\n",
      "1\n",
      "2\n",
      "3\n",
      "4\n",
      "8\n",
      "9\n"
     ]
    }
   ],
   "source": [
    "i = 0\n",
    "while i < 10:\n",
    "    \n",
    "    if i ==5:\n",
    "        i = 8\n",
    "    \n",
    "    print(i)\n",
    "    i += 1\n"
   ]
  },
  {
   "cell_type": "code",
   "execution_count": null,
   "metadata": {},
   "outputs": [],
   "source": []
  },
  {
   "cell_type": "code",
   "execution_count": null,
   "metadata": {},
   "outputs": [],
   "source": []
  },
  {
   "cell_type": "code",
   "execution_count": null,
   "metadata": {},
   "outputs": [],
   "source": []
  },
  {
   "cell_type": "code",
   "execution_count": null,
   "metadata": {},
   "outputs": [],
   "source": []
  },
  {
   "cell_type": "markdown",
   "metadata": {},
   "source": [
    "## WHILE"
   ]
  },
  {
   "cell_type": "code",
   "execution_count": 30,
   "metadata": {},
   "outputs": [
    {
     "name": "stdout",
     "output_type": "stream",
     "text": [
      "1\n",
      "2\n",
      "3\n",
      "4\n",
      "ya termine ahora i vale 5\n"
     ]
    }
   ],
   "source": [
    "i = 1\n",
    "while i <= 4 :\n",
    "    print(i)\n",
    "    i += 1     # es lo mismo que:  i = i + 1\n",
    "    \n",
    "    \n",
    "print(f'ya termine ahora i vale {i}')"
   ]
  },
  {
   "cell_type": "code",
   "execution_count": 31,
   "metadata": {},
   "outputs": [
    {
     "name": "stdout",
     "output_type": "stream",
     "text": [
      "1\n",
      "2\n",
      "3\n",
      "4\n",
      "terminé\n"
     ]
    }
   ],
   "source": [
    "i = 1\n",
    "while i <= 4 :\n",
    "    print(i)\n",
    "    i += 1\n",
    "else:\n",
    "    print('terminé')"
   ]
  },
  {
   "cell_type": "code",
   "execution_count": 116,
   "metadata": {},
   "outputs": [
    {
     "name": "stdout",
     "output_type": "stream",
     "text": [
      "1\n",
      "2\n",
      "3\n",
      "4\n",
      "terminé\n"
     ]
    }
   ],
   "source": [
    "i = 1\n",
    "while i <= 4 :\n",
    "    print(i)\n",
    "    i += 1\n",
    "\n",
    "print('terminé')"
   ]
  },
  {
   "cell_type": "code",
   "execution_count": null,
   "metadata": {},
   "outputs": [],
   "source": []
  },
  {
   "cell_type": "markdown",
   "metadata": {},
   "source": [
    "## Ejemplo de estadistica"
   ]
  },
  {
   "cell_type": "markdown",
   "metadata": {},
   "source": [
    "Cual es la probabilidad de estar mas de 2 desvios afuera en una normal estandar?"
   ]
  },
  {
   "cell_type": "code",
   "execution_count": 117,
   "metadata": {},
   "outputs": [
    {
     "data": {
      "text/plain": [
       "array([-0.28875278, -0.31912572,  0.23908933,  0.81714903,  0.84007187,\n",
       "       -0.6086853 ,  1.53196703, -0.91965131,  1.54839562, -0.77321231])"
      ]
     },
     "execution_count": 117,
     "metadata": {},
     "output_type": "execute_result"
    }
   ],
   "source": [
    "import numpy as np\n",
    "\n",
    "variaciones = np.random.normal(0,1,1000)\n",
    "\n",
    "variaciones[:10]\n"
   ]
  },
  {
   "cell_type": "code",
   "execution_count": 119,
   "metadata": {},
   "outputs": [
    {
     "name": "stdout",
     "output_type": "stream",
     "text": [
      "2.16 2.22 2.53 -3.39 2.24 -2.07 2.1 2.22 3.12 -2.06 -2.67 -2.61 -2.27 -2.04 -2.33 -2.47 2.99 -2.49 2.13 -3.79 -2.15 -2.31 -2.09 2.39 2.43 2.03 -2.55 -2.18 2.0 -3.04 -2.56 -2.02 2.31 2.09 2.56 2.19 -2.01 -2.1 3.35 "
     ]
    }
   ],
   "source": [
    "import numpy as np\n",
    "\n",
    "variaciones = np.random.normal(0,1,1000)\n",
    "\n",
    "for variacion in variaciones:\n",
    "    if abs(variacion) > 2:\n",
    "        print(round(variacion,2), end=' ')"
   ]
  },
  {
   "cell_type": "code",
   "execution_count": 124,
   "metadata": {},
   "outputs": [
    {
     "data": {
      "text/plain": [
       "33"
      ]
     },
     "execution_count": 124,
     "metadata": {},
     "output_type": "execute_result"
    }
   ],
   "source": [
    "variaciones = np.random.normal(0,1,1000)\n",
    "outliers = []\n",
    "\n",
    "for variacion in variaciones:\n",
    "    if abs(variacion) > 2:\n",
    "        outliers.append(round(variacion,2))\n",
    "        \n",
    "len(outliers)"
   ]
  },
  {
   "cell_type": "markdown",
   "metadata": {},
   "source": [
    "## Un FOR adentro de otro?"
   ]
  },
  {
   "cell_type": "code",
   "execution_count": 127,
   "metadata": {},
   "outputs": [
    {
     "name": "stdout",
     "output_type": "stream",
     "text": [
      "45668\n",
      "45661\n",
      "45615\n",
      "45376\n",
      "45508\n",
      "46126\n",
      "45512\n",
      "45279\n",
      "45353\n",
      "45480\n"
     ]
    }
   ],
   "source": [
    "for i in range(10):\n",
    "    \n",
    "    variaciones = np.random.normal(0,1,10**6)\n",
    "    outliers = []\n",
    "    \n",
    "    for variacion in variaciones:\n",
    "    \n",
    "        if abs(variacion) > 2:\n",
    "            outliers.append(round(variacion,2))\n",
    "    \n",
    "    print(len(outliers))"
   ]
  },
  {
   "cell_type": "code",
   "execution_count": null,
   "metadata": {},
   "outputs": [],
   "source": []
  },
  {
   "cell_type": "code",
   "execution_count": null,
   "metadata": {},
   "outputs": [],
   "source": []
  },
  {
   "cell_type": "code",
   "execution_count": null,
   "metadata": {},
   "outputs": [],
   "source": []
  },
  {
   "cell_type": "markdown",
   "metadata": {},
   "source": [
    "## Listas por comprensión"
   ]
  },
  {
   "cell_type": "markdown",
   "metadata": {},
   "source": [
    "### Ejemplo hiper basico"
   ]
  },
  {
   "cell_type": "code",
   "execution_count": 128,
   "metadata": {},
   "outputs": [
    {
     "data": {
      "text/plain": [
       "[7, 14, 21, 28, 35, 42, 49, 56, 63, 70]"
      ]
     },
     "execution_count": 128,
     "metadata": {},
     "output_type": "execute_result"
    }
   ],
   "source": [
    "lista = []\n",
    "\n",
    "for i in range(1,11):\n",
    "    lista.append(i*7)\n",
    "lista"
   ]
  },
  {
   "cell_type": "code",
   "execution_count": 131,
   "metadata": {},
   "outputs": [
    {
     "data": {
      "text/plain": [
       "[7, 14, 21, 28, 35, 42, 49, 56, 63, 70]"
      ]
     },
     "execution_count": 131,
     "metadata": {},
     "output_type": "execute_result"
    }
   ],
   "source": [
    "list(range(7,71,7))"
   ]
  },
  {
   "cell_type": "code",
   "execution_count": 37,
   "metadata": {},
   "outputs": [
    {
     "data": {
      "text/plain": [
       "[0, 7, 14, 21, 28, 35, 42, 49, 56, 63, 70]"
      ]
     },
     "execution_count": 37,
     "metadata": {},
     "output_type": "execute_result"
    }
   ],
   "source": [
    "lista2 = [x*7 for x in range(0,11)]\n",
    "lista2"
   ]
  },
  {
   "cell_type": "code",
   "execution_count": 133,
   "metadata": {},
   "outputs": [
    {
     "data": {
      "text/plain": [
       "[7, 14, 21, 28, 35, 42, 49, 56, 63, 70]"
      ]
     },
     "execution_count": 133,
     "metadata": {},
     "output_type": "execute_result"
    }
   ],
   "source": [
    "lista2 = [  x*7 for x in range(1,11)  ]\n",
    "lista2"
   ]
  },
  {
   "cell_type": "code",
   "execution_count": null,
   "metadata": {},
   "outputs": [],
   "source": []
  },
  {
   "cell_type": "code",
   "execution_count": 38,
   "metadata": {},
   "outputs": [
    {
     "name": "stdout",
     "output_type": "stream",
     "text": [
      "122 ms ± 5.79 ms per loop (mean ± std. dev. of 7 runs, 10 loops each)\n"
     ]
    }
   ],
   "source": [
    "%%timeit\n",
    "\n",
    "lista = []\n",
    "for i in range(0,10**6):\n",
    "    lista.append(i*7)"
   ]
  },
  {
   "cell_type": "code",
   "execution_count": 39,
   "metadata": {},
   "outputs": [
    {
     "name": "stdout",
     "output_type": "stream",
     "text": [
      "82 ms ± 3.36 ms per loop (mean ± std. dev. of 7 runs, 10 loops each)\n"
     ]
    }
   ],
   "source": [
    "%%timeit\n",
    "lista2 = [x*7 for x in range(0,10**6)]"
   ]
  },
  {
   "cell_type": "code",
   "execution_count": null,
   "metadata": {},
   "outputs": [],
   "source": []
  },
  {
   "cell_type": "markdown",
   "metadata": {},
   "source": [
    "# Ciclos infinitos"
   ]
  },
  {
   "cell_type": "markdown",
   "metadata": {},
   "source": [
    "## Corte por Break"
   ]
  },
  {
   "cell_type": "code",
   "execution_count": 134,
   "metadata": {},
   "outputs": [
    {
     "name": "stdout",
     "output_type": "stream",
     "text": [
      "Cada un segundo imprimo fecha/hora:  2021-04-27 20:27:39.380112\n",
      "Cada un segundo imprimo fecha/hora:  2021-04-27 20:27:40.392666\n",
      "Cada un segundo imprimo fecha/hora:  2021-04-27 20:27:41.402583\n",
      "Cada un segundo imprimo fecha/hora:  2021-04-27 20:27:42.412002\n",
      "Cada un segundo imprimo fecha/hora:  2021-04-27 20:27:43.424421\n"
     ]
    }
   ],
   "source": [
    "import time, datetime\n",
    "\n",
    "i = 0\n",
    "while i < 5:\n",
    "    print(\"Cada un segundo imprimo fecha/hora: \", datetime.datetime.now())\n",
    "    time.sleep(1)\n",
    "    i += 1\n"
   ]
  },
  {
   "cell_type": "code",
   "execution_count": 135,
   "metadata": {},
   "outputs": [
    {
     "name": "stdout",
     "output_type": "stream",
     "text": [
      "Cada un segundo imprimo fecha/hora:  2021-04-27 20:29:14.884327\n",
      "Cada un segundo imprimo fecha/hora:  2021-04-27 20:29:15.896808\n",
      "Cada un segundo imprimo fecha/hora:  2021-04-27 20:29:16.906915\n",
      "Cada un segundo imprimo fecha/hora:  2021-04-27 20:29:17.918134\n",
      "Cada un segundo imprimo fecha/hora:  2021-04-27 20:29:18.922022\n",
      "Cada un segundo imprimo fecha/hora:  2021-04-27 20:29:19.926765\n",
      "Cada un segundo imprimo fecha/hora:  2021-04-27 20:29:20.939719\n",
      "Cada un segundo imprimo fecha/hora:  2021-04-27 20:29:21.948155\n",
      "Cada un segundo imprimo fecha/hora:  2021-04-27 20:29:22.959584\n"
     ]
    },
    {
     "ename": "KeyboardInterrupt",
     "evalue": "",
     "output_type": "error",
     "traceback": [
      "\u001b[1;31m---------------------------------------------------------------------------\u001b[0m",
      "\u001b[1;31mKeyboardInterrupt\u001b[0m                         Traceback (most recent call last)",
      "\u001b[1;32m<ipython-input-135-7334379c0f55>\u001b[0m in \u001b[0;36m<module>\u001b[1;34m\u001b[0m\n\u001b[0;32m      4\u001b[0m \u001b[1;32mwhile\u001b[0m \u001b[1;32mTrue\u001b[0m\u001b[1;33m:\u001b[0m\u001b[1;33m\u001b[0m\u001b[1;33m\u001b[0m\u001b[0m\n\u001b[0;32m      5\u001b[0m     \u001b[0mprint\u001b[0m\u001b[1;33m(\u001b[0m\u001b[1;34m\"Cada un segundo imprimo fecha/hora: \"\u001b[0m\u001b[1;33m,\u001b[0m \u001b[0mdatetime\u001b[0m\u001b[1;33m.\u001b[0m\u001b[0mdatetime\u001b[0m\u001b[1;33m.\u001b[0m\u001b[0mnow\u001b[0m\u001b[1;33m(\u001b[0m\u001b[1;33m)\u001b[0m\u001b[1;33m)\u001b[0m\u001b[1;33m\u001b[0m\u001b[1;33m\u001b[0m\u001b[0m\n\u001b[1;32m----> 6\u001b[1;33m     \u001b[0mtime\u001b[0m\u001b[1;33m.\u001b[0m\u001b[0msleep\u001b[0m\u001b[1;33m(\u001b[0m\u001b[1;36m1\u001b[0m\u001b[1;33m)\u001b[0m\u001b[1;33m\u001b[0m\u001b[1;33m\u001b[0m\u001b[0m\n\u001b[0m\u001b[0;32m      7\u001b[0m     \u001b[0mi\u001b[0m \u001b[1;33m+=\u001b[0m \u001b[1;36m1\u001b[0m\u001b[1;33m\u001b[0m\u001b[1;33m\u001b[0m\u001b[0m\n\u001b[0;32m      8\u001b[0m \u001b[1;33m\u001b[0m\u001b[0m\n",
      "\u001b[1;31mKeyboardInterrupt\u001b[0m: "
     ]
    }
   ],
   "source": [
    "import time, datetime\n",
    "\n",
    "i = 0\n",
    "while True:\n",
    "    print(\"Cada un segundo imprimo fecha/hora: \", datetime.datetime.now())\n",
    "    time.sleep(1)\n",
    "    i += 1\n",
    "    \n",
    "    \n",
    "    "
   ]
  },
  {
   "cell_type": "code",
   "execution_count": null,
   "metadata": {},
   "outputs": [],
   "source": []
  },
  {
   "cell_type": "code",
   "execution_count": null,
   "metadata": {},
   "outputs": [],
   "source": []
  },
  {
   "cell_type": "code",
   "execution_count": 139,
   "metadata": {},
   "outputs": [
    {
     "name": "stdout",
     "output_type": "stream",
     "text": [
      "Cada un segundo imprimo fecha/hora:  2021-04-27 20:31:59.338414\n",
      "Cada un segundo imprimo fecha/hora:  2021-04-27 20:32:00.351834\n",
      "Cada un segundo imprimo fecha/hora:  2021-04-27 20:32:01.366714\n",
      "Cada un segundo imprimo fecha/hora:  2021-04-27 20:32:02.374536\n",
      "Cada un segundo imprimo fecha/hora:  2021-04-27 20:32:03.384384\n",
      "Cada un segundo imprimo fecha/hora:  2021-04-27 20:32:04.393042\n",
      "Salida por break\n"
     ]
    }
   ],
   "source": [
    "import time, datetime\n",
    "\n",
    "i = 0\n",
    "while True:\n",
    "    print(\"Cada un segundo imprimo fecha/hora: \", datetime.datetime.now())\n",
    "    time.sleep(1)\n",
    "    i += 1\n",
    "    if i > 5 :\n",
    "        print('Salida por break')\n",
    "        break\n"
   ]
  },
  {
   "cell_type": "markdown",
   "metadata": {},
   "source": [
    "## Corte por teclado"
   ]
  },
  {
   "cell_type": "code",
   "execution_count": 41,
   "metadata": {},
   "outputs": [
    {
     "name": "stdout",
     "output_type": "stream",
     "text": [
      "Cada un segundo imprimo 2021-04-27 17:01:00.736939\n",
      "Cada un segundo imprimo 2021-04-27 17:01:01.739149\n",
      "Cada un segundo imprimo 2021-04-27 17:01:02.751552\n",
      "Cada un segundo imprimo 2021-04-27 17:01:03.752517\n"
     ]
    },
    {
     "ename": "KeyboardInterrupt",
     "evalue": "",
     "output_type": "error",
     "traceback": [
      "\u001b[1;31m---------------------------------------------------------------------------\u001b[0m",
      "\u001b[1;31mKeyboardInterrupt\u001b[0m                         Traceback (most recent call last)",
      "\u001b[1;32m<ipython-input-41-f789e3c98a79>\u001b[0m in \u001b[0;36m<module>\u001b[1;34m\u001b[0m\n\u001b[0;32m      3\u001b[0m \u001b[1;32mwhile\u001b[0m \u001b[1;32mTrue\u001b[0m\u001b[1;33m:\u001b[0m\u001b[1;33m\u001b[0m\u001b[1;33m\u001b[0m\u001b[0m\n\u001b[0;32m      4\u001b[0m     \u001b[0mprint\u001b[0m\u001b[1;33m(\u001b[0m\u001b[1;34m\"Cada un segundo imprimo\"\u001b[0m\u001b[1;33m,\u001b[0m \u001b[0mdatetime\u001b[0m\u001b[1;33m.\u001b[0m\u001b[0mdatetime\u001b[0m\u001b[1;33m.\u001b[0m\u001b[0mnow\u001b[0m\u001b[1;33m(\u001b[0m\u001b[1;33m)\u001b[0m\u001b[1;33m)\u001b[0m\u001b[1;33m\u001b[0m\u001b[1;33m\u001b[0m\u001b[0m\n\u001b[1;32m----> 5\u001b[1;33m     \u001b[0mtime\u001b[0m\u001b[1;33m.\u001b[0m\u001b[0msleep\u001b[0m\u001b[1;33m(\u001b[0m\u001b[1;36m1\u001b[0m\u001b[1;33m)\u001b[0m\u001b[1;33m\u001b[0m\u001b[1;33m\u001b[0m\u001b[0m\n\u001b[0m\u001b[0;32m      6\u001b[0m \u001b[1;33m\u001b[0m\u001b[0m\n",
      "\u001b[1;31mKeyboardInterrupt\u001b[0m: "
     ]
    }
   ],
   "source": [
    "import time, datetime\n",
    "\n",
    "while True:\n",
    "    print(\"Cada un segundo imprimo\", datetime.datetime.now())\n",
    "    time.sleep(1)\n",
    "    "
   ]
  },
  {
   "cell_type": "code",
   "execution_count": null,
   "metadata": {},
   "outputs": [],
   "source": []
  }
 ],
 "metadata": {
  "kernelspec": {
   "display_name": "Python 3",
   "language": "python",
   "name": "python3"
  },
  "language_info": {
   "codemirror_mode": {
    "name": "ipython",
    "version": 3
   },
   "file_extension": ".py",
   "mimetype": "text/x-python",
   "name": "python",
   "nbconvert_exporter": "python",
   "pygments_lexer": "ipython3",
   "version": "3.8.5"
  },
  "toc": {
   "base_numbering": 1,
   "nav_menu": {},
   "number_sections": true,
   "sideBar": true,
   "skip_h1_title": false,
   "title_cell": "Table of Contents",
   "title_sidebar": "Contents",
   "toc_cell": false,
   "toc_position": {},
   "toc_section_display": true,
   "toc_window_display": true
  }
 },
 "nbformat": 4,
 "nbformat_minor": 4
}
