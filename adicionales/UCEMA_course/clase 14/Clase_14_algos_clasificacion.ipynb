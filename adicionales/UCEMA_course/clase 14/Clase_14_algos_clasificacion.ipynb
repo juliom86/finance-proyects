{
 "cells": [
  {
   "cell_type": "markdown",
   "id": "530f2627",
   "metadata": {},
   "source": [
    "# Aprendizaje Supervisado: Algoritmos de Clasificación"
   ]
  },
  {
   "cell_type": "markdown",
   "id": "1e25fbf5",
   "metadata": {},
   "source": [
    "<img src=\"imagenes/ia_clas0.png\" width=750>"
   ]
  },
  {
   "cell_type": "markdown",
   "id": "3a60fe2f",
   "metadata": {},
   "source": [
    "<img src=\"imagenes/ia.jfif\" width=600>"
   ]
  },
  {
   "cell_type": "markdown",
   "id": "e1cf7f81",
   "metadata": {},
   "source": [
    "Tipos de algoritmos para resolver una clasificación:\n",
    "    \n",
    "    * Arboles de decisión\n",
    "    * Máquinas de vectores de soporte\n",
    "    * Naive Bayes\n",
    "    * Regresión Logística\n",
    "    * Bosques Aleatorios"
   ]
  },
  {
   "cell_type": "markdown",
   "id": "a6618fe5",
   "metadata": {},
   "source": [
    "# Arboles de decisión"
   ]
  },
  {
   "cell_type": "markdown",
   "id": "6cfaf0f6",
   "metadata": {},
   "source": [
    "<img src='imagenes/gashe.png'>"
   ]
  },
  {
   "cell_type": "markdown",
   "id": "a9e17cc4",
   "metadata": {},
   "source": [
    "## Preparamos los datos: GGAL +6 predictores"
   ]
  },
  {
   "cell_type": "code",
   "execution_count": 1,
   "id": "807e2f81",
   "metadata": {},
   "outputs": [
    {
     "name": "stdout",
     "output_type": "stream",
     "text": [
      "[*********************100%***********************]  1 of 1 completed\n"
     ]
    },
    {
     "data": {
      "text/html": [
       "<div>\n",
       "<style scoped>\n",
       "    .dataframe tbody tr th:only-of-type {\n",
       "        vertical-align: middle;\n",
       "    }\n",
       "\n",
       "    .dataframe tbody tr th {\n",
       "        vertical-align: top;\n",
       "    }\n",
       "\n",
       "    .dataframe thead th {\n",
       "        text-align: right;\n",
       "    }\n",
       "</style>\n",
       "<table border=\"1\" class=\"dataframe\">\n",
       "  <thead>\n",
       "    <tr style=\"text-align: right;\">\n",
       "      <th></th>\n",
       "      <th>Open</th>\n",
       "      <th>High</th>\n",
       "      <th>Low</th>\n",
       "      <th>Close</th>\n",
       "      <th>Adj Close</th>\n",
       "      <th>Volume</th>\n",
       "      <th>pctChange</th>\n",
       "      <th>fw</th>\n",
       "      <th>rsi</th>\n",
       "      <th>roll_vol</th>\n",
       "      <th>ema_vol</th>\n",
       "      <th>cruce_1</th>\n",
       "      <th>cruce_2</th>\n",
       "      <th>cruce_3</th>\n",
       "    </tr>\n",
       "    <tr>\n",
       "      <th>Date</th>\n",
       "      <th></th>\n",
       "      <th></th>\n",
       "      <th></th>\n",
       "      <th></th>\n",
       "      <th></th>\n",
       "      <th></th>\n",
       "      <th></th>\n",
       "      <th></th>\n",
       "      <th></th>\n",
       "      <th></th>\n",
       "      <th></th>\n",
       "      <th></th>\n",
       "      <th></th>\n",
       "      <th></th>\n",
       "    </tr>\n",
       "  </thead>\n",
       "  <tbody>\n",
       "    <tr>\n",
       "      <th>2000-07-25</th>\n",
       "      <td>17.484375</td>\n",
       "      <td>17.7500</td>\n",
       "      <td>16.7500</td>\n",
       "      <td>17.5000</td>\n",
       "      <td>16.033369</td>\n",
       "      <td>126200</td>\n",
       "      <td>NaN</td>\n",
       "      <td>-0.185714</td>\n",
       "      <td>NaN</td>\n",
       "      <td>NaN</td>\n",
       "      <td>NaN</td>\n",
       "      <td>NaN</td>\n",
       "      <td>NaN</td>\n",
       "      <td>NaN</td>\n",
       "    </tr>\n",
       "    <tr>\n",
       "      <th>2000-07-26</th>\n",
       "      <td>17.250000</td>\n",
       "      <td>17.5625</td>\n",
       "      <td>17.1875</td>\n",
       "      <td>17.5000</td>\n",
       "      <td>16.033369</td>\n",
       "      <td>28900</td>\n",
       "      <td>0.000000</td>\n",
       "      <td>-0.192857</td>\n",
       "      <td>NaN</td>\n",
       "      <td>NaN</td>\n",
       "      <td>NaN</td>\n",
       "      <td>NaN</td>\n",
       "      <td>NaN</td>\n",
       "      <td>NaN</td>\n",
       "    </tr>\n",
       "    <tr>\n",
       "      <th>2000-07-27</th>\n",
       "      <td>17.500000</td>\n",
       "      <td>17.6250</td>\n",
       "      <td>17.3750</td>\n",
       "      <td>17.5000</td>\n",
       "      <td>16.033369</td>\n",
       "      <td>61200</td>\n",
       "      <td>0.000000</td>\n",
       "      <td>-0.160714</td>\n",
       "      <td>NaN</td>\n",
       "      <td>NaN</td>\n",
       "      <td>0.000000</td>\n",
       "      <td>NaN</td>\n",
       "      <td>NaN</td>\n",
       "      <td>NaN</td>\n",
       "    </tr>\n",
       "    <tr>\n",
       "      <th>2000-07-28</th>\n",
       "      <td>17.562500</td>\n",
       "      <td>17.5625</td>\n",
       "      <td>17.1250</td>\n",
       "      <td>17.3750</td>\n",
       "      <td>15.918845</td>\n",
       "      <td>146100</td>\n",
       "      <td>-0.007143</td>\n",
       "      <td>-0.151079</td>\n",
       "      <td>0.000000</td>\n",
       "      <td>NaN</td>\n",
       "      <td>0.071547</td>\n",
       "      <td>NaN</td>\n",
       "      <td>NaN</td>\n",
       "      <td>NaN</td>\n",
       "    </tr>\n",
       "    <tr>\n",
       "      <th>2000-07-31</th>\n",
       "      <td>17.500000</td>\n",
       "      <td>17.6875</td>\n",
       "      <td>16.8750</td>\n",
       "      <td>17.6875</td>\n",
       "      <td>16.205154</td>\n",
       "      <td>178400</td>\n",
       "      <td>0.017986</td>\n",
       "      <td>-0.180212</td>\n",
       "      <td>0.729166</td>\n",
       "      <td>NaN</td>\n",
       "      <td>0.186460</td>\n",
       "      <td>NaN</td>\n",
       "      <td>NaN</td>\n",
       "      <td>NaN</td>\n",
       "    </tr>\n",
       "    <tr>\n",
       "      <th>...</th>\n",
       "      <td>...</td>\n",
       "      <td>...</td>\n",
       "      <td>...</td>\n",
       "      <td>...</td>\n",
       "      <td>...</td>\n",
       "      <td>...</td>\n",
       "      <td>...</td>\n",
       "      <td>...</td>\n",
       "      <td>...</td>\n",
       "      <td>...</td>\n",
       "      <td>...</td>\n",
       "      <td>...</td>\n",
       "      <td>...</td>\n",
       "      <td>...</td>\n",
       "    </tr>\n",
       "    <tr>\n",
       "      <th>2021-06-21</th>\n",
       "      <td>9.770000</td>\n",
       "      <td>9.7700</td>\n",
       "      <td>9.4500</td>\n",
       "      <td>9.4500</td>\n",
       "      <td>9.450000</td>\n",
       "      <td>362000</td>\n",
       "      <td>-0.022751</td>\n",
       "      <td>NaN</td>\n",
       "      <td>0.531607</td>\n",
       "      <td>0.195323</td>\n",
       "      <td>0.669181</td>\n",
       "      <td>-0.150916</td>\n",
       "      <td>-0.017929</td>\n",
       "      <td>-0.308843</td>\n",
       "    </tr>\n",
       "    <tr>\n",
       "      <th>2021-06-22</th>\n",
       "      <td>9.500000</td>\n",
       "      <td>9.9200</td>\n",
       "      <td>9.3200</td>\n",
       "      <td>9.7400</td>\n",
       "      <td>9.740000</td>\n",
       "      <td>731100</td>\n",
       "      <td>0.030688</td>\n",
       "      <td>NaN</td>\n",
       "      <td>0.572054</td>\n",
       "      <td>0.197116</td>\n",
       "      <td>0.668261</td>\n",
       "      <td>-0.147227</td>\n",
       "      <td>-0.010568</td>\n",
       "      <td>-0.303827</td>\n",
       "    </tr>\n",
       "    <tr>\n",
       "      <th>2021-06-23</th>\n",
       "      <td>9.820000</td>\n",
       "      <td>10.0300</td>\n",
       "      <td>9.5800</td>\n",
       "      <td>9.5800</td>\n",
       "      <td>9.580000</td>\n",
       "      <td>645400</td>\n",
       "      <td>-0.016427</td>\n",
       "      <td>NaN</td>\n",
       "      <td>0.544136</td>\n",
       "      <td>0.197847</td>\n",
       "      <td>0.666503</td>\n",
       "      <td>-0.143386</td>\n",
       "      <td>-0.002873</td>\n",
       "      <td>-0.298933</td>\n",
       "    </tr>\n",
       "    <tr>\n",
       "      <th>2021-06-24</th>\n",
       "      <td>9.580000</td>\n",
       "      <td>9.6600</td>\n",
       "      <td>9.4700</td>\n",
       "      <td>9.5400</td>\n",
       "      <td>9.540000</td>\n",
       "      <td>305700</td>\n",
       "      <td>-0.004175</td>\n",
       "      <td>NaN</td>\n",
       "      <td>0.537079</td>\n",
       "      <td>0.197754</td>\n",
       "      <td>0.664327</td>\n",
       "      <td>-0.139449</td>\n",
       "      <td>0.005033</td>\n",
       "      <td>-0.294111</td>\n",
       "    </tr>\n",
       "    <tr>\n",
       "      <th>2021-06-25</th>\n",
       "      <td>9.230000</td>\n",
       "      <td>9.3200</td>\n",
       "      <td>8.8400</td>\n",
       "      <td>9.2000</td>\n",
       "      <td>9.200000</td>\n",
       "      <td>1450600</td>\n",
       "      <td>-0.035639</td>\n",
       "      <td>NaN</td>\n",
       "      <td>0.480084</td>\n",
       "      <td>0.201112</td>\n",
       "      <td>0.664137</td>\n",
       "      <td>-0.136170</td>\n",
       "      <td>0.012540</td>\n",
       "      <td>-0.289929</td>\n",
       "    </tr>\n",
       "  </tbody>\n",
       "</table>\n",
       "<p>5264 rows × 14 columns</p>\n",
       "</div>"
      ],
      "text/plain": [
       "                 Open     High      Low    Close  Adj Close   Volume  \\\n",
       "Date                                                                   \n",
       "2000-07-25  17.484375  17.7500  16.7500  17.5000  16.033369   126200   \n",
       "2000-07-26  17.250000  17.5625  17.1875  17.5000  16.033369    28900   \n",
       "2000-07-27  17.500000  17.6250  17.3750  17.5000  16.033369    61200   \n",
       "2000-07-28  17.562500  17.5625  17.1250  17.3750  15.918845   146100   \n",
       "2000-07-31  17.500000  17.6875  16.8750  17.6875  16.205154   178400   \n",
       "...               ...      ...      ...      ...        ...      ...   \n",
       "2021-06-21   9.770000   9.7700   9.4500   9.4500   9.450000   362000   \n",
       "2021-06-22   9.500000   9.9200   9.3200   9.7400   9.740000   731100   \n",
       "2021-06-23   9.820000  10.0300   9.5800   9.5800   9.580000   645400   \n",
       "2021-06-24   9.580000   9.6600   9.4700   9.5400   9.540000   305700   \n",
       "2021-06-25   9.230000   9.3200   8.8400   9.2000   9.200000  1450600   \n",
       "\n",
       "            pctChange        fw       rsi  roll_vol   ema_vol   cruce_1  \\\n",
       "Date                                                                      \n",
       "2000-07-25        NaN -0.185714       NaN       NaN       NaN       NaN   \n",
       "2000-07-26   0.000000 -0.192857       NaN       NaN       NaN       NaN   \n",
       "2000-07-27   0.000000 -0.160714       NaN       NaN  0.000000       NaN   \n",
       "2000-07-28  -0.007143 -0.151079  0.000000       NaN  0.071547       NaN   \n",
       "2000-07-31   0.017986 -0.180212  0.729166       NaN  0.186460       NaN   \n",
       "...               ...       ...       ...       ...       ...       ...   \n",
       "2021-06-21  -0.022751       NaN  0.531607  0.195323  0.669181 -0.150916   \n",
       "2021-06-22   0.030688       NaN  0.572054  0.197116  0.668261 -0.147227   \n",
       "2021-06-23  -0.016427       NaN  0.544136  0.197847  0.666503 -0.143386   \n",
       "2021-06-24  -0.004175       NaN  0.537079  0.197754  0.664327 -0.139449   \n",
       "2021-06-25  -0.035639       NaN  0.480084  0.201112  0.664137 -0.136170   \n",
       "\n",
       "             cruce_2   cruce_3  \n",
       "Date                            \n",
       "2000-07-25       NaN       NaN  \n",
       "2000-07-26       NaN       NaN  \n",
       "2000-07-27       NaN       NaN  \n",
       "2000-07-28       NaN       NaN  \n",
       "2000-07-31       NaN       NaN  \n",
       "...              ...       ...  \n",
       "2021-06-21 -0.017929 -0.308843  \n",
       "2021-06-22 -0.010568 -0.303827  \n",
       "2021-06-23 -0.002873 -0.298933  \n",
       "2021-06-24  0.005033 -0.294111  \n",
       "2021-06-25  0.012540 -0.289929  \n",
       "\n",
       "[5264 rows x 14 columns]"
      ]
     },
     "execution_count": 1,
     "metadata": {},
     "output_type": "execute_result"
    }
   ],
   "source": [
    "import yfinance as yf, numpy as np, pandas as pd\n",
    "\n",
    "medias = ((63, 422), (38, 350), (72, 506))\n",
    "ventana = 100\n",
    "\n",
    "data = yf.download('GGAL', start='2000-01-01')\n",
    "\n",
    "dif = data['Adj Close'].diff()\n",
    "win = pd.DataFrame(np.where(dif > 0, dif, 0))\n",
    "loss = pd.DataFrame(np.where(dif < 0, abs(dif), 0))\n",
    "ema_win = win.ewm(alpha=1/14).mean()\n",
    "ema_loss = loss.ewm(alpha=1/14).mean()\n",
    "rs = ema_win / ema_loss\n",
    "rsi = 100 - (100 / (1 + rs))\n",
    "rsi.index = data.index\n",
    "\n",
    "data['pctChange'] = data['Adj Close'].pct_change()\n",
    "data['fw'] = data['Adj Close'].shift(-ventana)/data['Adj Close']-1\n",
    "data['rsi'] = rsi/100\n",
    "data['roll_vol'] = data['pctChange'].rolling(60).std() * 60**0.5\n",
    "data['ema_vol'] = data['pctChange'].ewm(span=300).std() * 300**0.5\n",
    "data['cruce_1'] = data['Adj Close'].rolling(medias[0][0]).mean()/data['Adj Close'].rolling(medias[0][1]).mean()-1\n",
    "data['cruce_2'] = data['Adj Close'].rolling(medias[1][0]).mean()/data['Adj Close'].rolling(medias[1][1]).mean()-1\n",
    "data['cruce_3'] = data['Adj Close'].rolling(medias[2][0]).mean()/data['Adj Close'].rolling(medias[2][1]).mean()-1\n",
    "data"
   ]
  },
  {
   "cell_type": "markdown",
   "id": "1c02af83",
   "metadata": {},
   "source": [
    "## Definimos lo que vamos a querer predecir"
   ]
  },
  {
   "cell_type": "code",
   "execution_count": 2,
   "id": "5ca3f097",
   "metadata": {},
   "outputs": [
    {
     "data": {
      "text/html": [
       "<div>\n",
       "<style scoped>\n",
       "    .dataframe tbody tr th:only-of-type {\n",
       "        vertical-align: middle;\n",
       "    }\n",
       "\n",
       "    .dataframe tbody tr th {\n",
       "        vertical-align: top;\n",
       "    }\n",
       "\n",
       "    .dataframe thead th {\n",
       "        text-align: right;\n",
       "    }\n",
       "</style>\n",
       "<table border=\"1\" class=\"dataframe\">\n",
       "  <thead>\n",
       "    <tr style=\"text-align: right;\">\n",
       "      <th></th>\n",
       "      <th>rsi</th>\n",
       "      <th>roll_vol</th>\n",
       "      <th>ema_vol</th>\n",
       "      <th>cruce_1</th>\n",
       "      <th>cruce_2</th>\n",
       "      <th>cruce_3</th>\n",
       "    </tr>\n",
       "    <tr>\n",
       "      <th>Date</th>\n",
       "      <th></th>\n",
       "      <th></th>\n",
       "      <th></th>\n",
       "      <th></th>\n",
       "      <th></th>\n",
       "      <th></th>\n",
       "    </tr>\n",
       "  </thead>\n",
       "  <tbody>\n",
       "    <tr>\n",
       "      <th>2002-08-01</th>\n",
       "      <td>0.5164</td>\n",
       "      <td>1.2248</td>\n",
       "      <td>2.0035</td>\n",
       "      <td>-0.9164</td>\n",
       "      <td>-0.9198</td>\n",
       "      <td>-0.9182</td>\n",
       "    </tr>\n",
       "    <tr>\n",
       "      <th>2002-08-02</th>\n",
       "      <td>0.5164</td>\n",
       "      <td>1.2248</td>\n",
       "      <td>1.9966</td>\n",
       "      <td>-0.9173</td>\n",
       "      <td>-0.9188</td>\n",
       "      <td>-0.9191</td>\n",
       "    </tr>\n",
       "    <tr>\n",
       "      <th>2002-08-05</th>\n",
       "      <td>0.5064</td>\n",
       "      <td>1.2245</td>\n",
       "      <td>1.9898</td>\n",
       "      <td>-0.9183</td>\n",
       "      <td>-0.9177</td>\n",
       "      <td>-0.9198</td>\n",
       "    </tr>\n",
       "    <tr>\n",
       "      <th>2002-08-06</th>\n",
       "      <td>0.4863</td>\n",
       "      <td>1.2221</td>\n",
       "      <td>1.9834</td>\n",
       "      <td>-0.9193</td>\n",
       "      <td>-0.9163</td>\n",
       "      <td>-0.9204</td>\n",
       "    </tr>\n",
       "    <tr>\n",
       "      <th>2002-08-07</th>\n",
       "      <td>0.4863</td>\n",
       "      <td>1.2220</td>\n",
       "      <td>1.9766</td>\n",
       "      <td>-0.9202</td>\n",
       "      <td>-0.9148</td>\n",
       "      <td>-0.9211</td>\n",
       "    </tr>\n",
       "    <tr>\n",
       "      <th>...</th>\n",
       "      <td>...</td>\n",
       "      <td>...</td>\n",
       "      <td>...</td>\n",
       "      <td>...</td>\n",
       "      <td>...</td>\n",
       "      <td>...</td>\n",
       "    </tr>\n",
       "    <tr>\n",
       "      <th>2021-01-27</th>\n",
       "      <td>0.4188</td>\n",
       "      <td>0.2790</td>\n",
       "      <td>0.8147</td>\n",
       "      <td>-0.3876</td>\n",
       "      <td>-0.1865</td>\n",
       "      <td>-0.4901</td>\n",
       "    </tr>\n",
       "    <tr>\n",
       "      <th>2021-01-28</th>\n",
       "      <td>0.4283</td>\n",
       "      <td>0.2787</td>\n",
       "      <td>0.8120</td>\n",
       "      <td>-0.3840</td>\n",
       "      <td>-0.1891</td>\n",
       "      <td>-0.4875</td>\n",
       "    </tr>\n",
       "    <tr>\n",
       "      <th>2021-01-29</th>\n",
       "      <td>0.3798</td>\n",
       "      <td>0.2608</td>\n",
       "      <td>0.8110</td>\n",
       "      <td>-0.3805</td>\n",
       "      <td>-0.1920</td>\n",
       "      <td>-0.4850</td>\n",
       "    </tr>\n",
       "    <tr>\n",
       "      <th>2021-02-01</th>\n",
       "      <td>0.4691</td>\n",
       "      <td>0.2655</td>\n",
       "      <td>0.8119</td>\n",
       "      <td>-0.3767</td>\n",
       "      <td>-0.1942</td>\n",
       "      <td>-0.4823</td>\n",
       "    </tr>\n",
       "    <tr>\n",
       "      <th>2021-02-02</th>\n",
       "      <td>0.4550</td>\n",
       "      <td>0.2658</td>\n",
       "      <td>0.8093</td>\n",
       "      <td>-0.3729</td>\n",
       "      <td>-0.1963</td>\n",
       "      <td>-0.4797</td>\n",
       "    </tr>\n",
       "  </tbody>\n",
       "</table>\n",
       "<p>4659 rows × 6 columns</p>\n",
       "</div>"
      ],
      "text/plain": [
       "               rsi  roll_vol  ema_vol  cruce_1  cruce_2  cruce_3\n",
       "Date                                                            \n",
       "2002-08-01  0.5164    1.2248   2.0035  -0.9164  -0.9198  -0.9182\n",
       "2002-08-02  0.5164    1.2248   1.9966  -0.9173  -0.9188  -0.9191\n",
       "2002-08-05  0.5064    1.2245   1.9898  -0.9183  -0.9177  -0.9198\n",
       "2002-08-06  0.4863    1.2221   1.9834  -0.9193  -0.9163  -0.9204\n",
       "2002-08-07  0.4863    1.2220   1.9766  -0.9202  -0.9148  -0.9211\n",
       "...            ...       ...      ...      ...      ...      ...\n",
       "2021-01-27  0.4188    0.2790   0.8147  -0.3876  -0.1865  -0.4901\n",
       "2021-01-28  0.4283    0.2787   0.8120  -0.3840  -0.1891  -0.4875\n",
       "2021-01-29  0.3798    0.2608   0.8110  -0.3805  -0.1920  -0.4850\n",
       "2021-02-01  0.4691    0.2655   0.8119  -0.3767  -0.1942  -0.4823\n",
       "2021-02-02  0.4550    0.2658   0.8093  -0.3729  -0.1963  -0.4797\n",
       "\n",
       "[4659 rows x 6 columns]"
      ]
     },
     "execution_count": 2,
     "metadata": {},
     "output_type": "execute_result"
    }
   ],
   "source": [
    "\n",
    "data['target'] = 0\n",
    "data.loc[data.fw >= 0 , 'target'] = 1\n",
    "\n",
    "data_full = data.copy() # Esto nos va a servir despues cuando necesitemos los de hoy (sin etiquetas aun)\n",
    "data = data.round(4).dropna()\n",
    "\n",
    "y = list(data['target'])\n",
    "X = data.iloc[:,-7:-1]\n",
    "\n",
    "X"
   ]
  },
  {
   "cell_type": "code",
   "execution_count": 3,
   "id": "8f270efe",
   "metadata": {},
   "outputs": [
    {
     "data": {
      "text/plain": [
       "(2626, 4659, 0.5636402661515346)"
      ]
     },
     "execution_count": 3,
     "metadata": {},
     "output_type": "execute_result"
    }
   ],
   "source": [
    "sum(y), len(y), sum(y)/len(y)  # fw positivo, totales, porcentaje positivos"
   ]
  },
  {
   "cell_type": "markdown",
   "id": "080529f5",
   "metadata": {},
   "source": [
    "## Separamos datos de entrenamiento de validación"
   ]
  },
  {
   "cell_type": "code",
   "execution_count": 4,
   "id": "f003a0d2",
   "metadata": {},
   "outputs": [
    {
     "data": {
      "text/plain": [
       "(4659, 4659)"
      ]
     },
     "execution_count": 4,
     "metadata": {},
     "output_type": "execute_result"
    }
   ],
   "source": [
    "len(X), len(y)"
   ]
  },
  {
   "cell_type": "code",
   "execution_count": 5,
   "id": "103fe97c",
   "metadata": {},
   "outputs": [],
   "source": [
    "from sklearn.model_selection import train_test_split\n",
    "\n",
    "# Entrenamos con el 60% de los datos al modelo\n",
    "X_train, X_test, y_train, y_test = train_test_split(X, y, test_size=0.4)"
   ]
  },
  {
   "cell_type": "code",
   "execution_count": 6,
   "id": "7ecb2d3f",
   "metadata": {},
   "outputs": [],
   "source": [
    "# X_train = X.iloc[:2500]\n",
    "# X_test = X.iloc[2500:]"
   ]
  },
  {
   "cell_type": "code",
   "execution_count": 7,
   "id": "409778be",
   "metadata": {
    "scrolled": true
   },
   "outputs": [
    {
     "data": {
      "text/plain": [
       "2795"
      ]
     },
     "execution_count": 7,
     "metadata": {},
     "output_type": "execute_result"
    }
   ],
   "source": [
    "len(X_train)"
   ]
  },
  {
   "cell_type": "code",
   "execution_count": 8,
   "id": "4d6b1b3e",
   "metadata": {},
   "outputs": [
    {
     "data": {
      "text/plain": [
       "1864"
      ]
     },
     "execution_count": 8,
     "metadata": {},
     "output_type": "execute_result"
    }
   ],
   "source": [
    "len(X_test)"
   ]
  },
  {
   "cell_type": "code",
   "execution_count": 9,
   "id": "e268e3dc",
   "metadata": {},
   "outputs": [
    {
     "data": {
      "text/html": [
       "<div>\n",
       "<style scoped>\n",
       "    .dataframe tbody tr th:only-of-type {\n",
       "        vertical-align: middle;\n",
       "    }\n",
       "\n",
       "    .dataframe tbody tr th {\n",
       "        vertical-align: top;\n",
       "    }\n",
       "\n",
       "    .dataframe thead th {\n",
       "        text-align: right;\n",
       "    }\n",
       "</style>\n",
       "<table border=\"1\" class=\"dataframe\">\n",
       "  <thead>\n",
       "    <tr style=\"text-align: right;\">\n",
       "      <th></th>\n",
       "      <th>rsi</th>\n",
       "      <th>roll_vol</th>\n",
       "      <th>ema_vol</th>\n",
       "      <th>cruce_1</th>\n",
       "      <th>cruce_2</th>\n",
       "      <th>cruce_3</th>\n",
       "    </tr>\n",
       "    <tr>\n",
       "      <th>Date</th>\n",
       "      <th></th>\n",
       "      <th></th>\n",
       "      <th></th>\n",
       "      <th></th>\n",
       "      <th></th>\n",
       "      <th></th>\n",
       "    </tr>\n",
       "  </thead>\n",
       "  <tbody>\n",
       "    <tr>\n",
       "      <th>2012-10-02</th>\n",
       "      <td>0.5536</td>\n",
       "      <td>0.2095</td>\n",
       "      <td>0.5430</td>\n",
       "      <td>-0.4357</td>\n",
       "      <td>-0.3280</td>\n",
       "      <td>-0.4930</td>\n",
       "    </tr>\n",
       "    <tr>\n",
       "      <th>2006-01-18</th>\n",
       "      <td>0.4732</td>\n",
       "      <td>0.1476</td>\n",
       "      <td>0.4332</td>\n",
       "      <td>0.0023</td>\n",
       "      <td>-0.0938</td>\n",
       "      <td>0.0064</td>\n",
       "    </tr>\n",
       "    <tr>\n",
       "      <th>2010-12-22</th>\n",
       "      <td>0.5480</td>\n",
       "      <td>0.2597</td>\n",
       "      <td>0.5651</td>\n",
       "      <td>1.0914</td>\n",
       "      <td>1.1485</td>\n",
       "      <td>1.2709</td>\n",
       "    </tr>\n",
       "    <tr>\n",
       "      <th>2007-09-25</th>\n",
       "      <td>0.4290</td>\n",
       "      <td>0.2102</td>\n",
       "      <td>0.3937</td>\n",
       "      <td>0.0592</td>\n",
       "      <td>-0.0331</td>\n",
       "      <td>0.0930</td>\n",
       "    </tr>\n",
       "    <tr>\n",
       "      <th>2011-12-08</th>\n",
       "      <td>0.3293</td>\n",
       "      <td>0.2911</td>\n",
       "      <td>0.5441</td>\n",
       "      <td>-0.2295</td>\n",
       "      <td>-0.3320</td>\n",
       "      <td>-0.1232</td>\n",
       "    </tr>\n",
       "    <tr>\n",
       "      <th>2019-09-23</th>\n",
       "      <td>0.3343</td>\n",
       "      <td>0.6725</td>\n",
       "      <td>1.0315</td>\n",
       "      <td>-0.2852</td>\n",
       "      <td>-0.3868</td>\n",
       "      <td>-0.3246</td>\n",
       "    </tr>\n",
       "    <tr>\n",
       "      <th>2012-11-26</th>\n",
       "      <td>0.4006</td>\n",
       "      <td>0.2204</td>\n",
       "      <td>0.5193</td>\n",
       "      <td>-0.3404</td>\n",
       "      <td>-0.2571</td>\n",
       "      <td>-0.4268</td>\n",
       "    </tr>\n",
       "    <tr>\n",
       "      <th>2007-06-04</th>\n",
       "      <td>0.5241</td>\n",
       "      <td>0.1276</td>\n",
       "      <td>0.3616</td>\n",
       "      <td>0.3134</td>\n",
       "      <td>0.3275</td>\n",
       "      <td>0.2981</td>\n",
       "    </tr>\n",
       "    <tr>\n",
       "      <th>2010-09-27</th>\n",
       "      <td>0.6894</td>\n",
       "      <td>0.2148</td>\n",
       "      <td>0.5565</td>\n",
       "      <td>0.5818</td>\n",
       "      <td>0.5697</td>\n",
       "      <td>0.6829</td>\n",
       "    </tr>\n",
       "    <tr>\n",
       "      <th>2019-03-15</th>\n",
       "      <td>0.4155</td>\n",
       "      <td>0.2270</td>\n",
       "      <td>0.6913</td>\n",
       "      <td>-0.2878</td>\n",
       "      <td>-0.2522</td>\n",
       "      <td>-0.2890</td>\n",
       "    </tr>\n",
       "  </tbody>\n",
       "</table>\n",
       "</div>"
      ],
      "text/plain": [
       "               rsi  roll_vol  ema_vol  cruce_1  cruce_2  cruce_3\n",
       "Date                                                            \n",
       "2012-10-02  0.5536    0.2095   0.5430  -0.4357  -0.3280  -0.4930\n",
       "2006-01-18  0.4732    0.1476   0.4332   0.0023  -0.0938   0.0064\n",
       "2010-12-22  0.5480    0.2597   0.5651   1.0914   1.1485   1.2709\n",
       "2007-09-25  0.4290    0.2102   0.3937   0.0592  -0.0331   0.0930\n",
       "2011-12-08  0.3293    0.2911   0.5441  -0.2295  -0.3320  -0.1232\n",
       "2019-09-23  0.3343    0.6725   1.0315  -0.2852  -0.3868  -0.3246\n",
       "2012-11-26  0.4006    0.2204   0.5193  -0.3404  -0.2571  -0.4268\n",
       "2007-06-04  0.5241    0.1276   0.3616   0.3134   0.3275   0.2981\n",
       "2010-09-27  0.6894    0.2148   0.5565   0.5818   0.5697   0.6829\n",
       "2019-03-15  0.4155    0.2270   0.6913  -0.2878  -0.2522  -0.2890"
      ]
     },
     "execution_count": 9,
     "metadata": {},
     "output_type": "execute_result"
    }
   ],
   "source": [
    "X_test[:10]"
   ]
  },
  {
   "cell_type": "markdown",
   "id": "0b974945",
   "metadata": {},
   "source": [
    "## Importamos el modelo"
   ]
  },
  {
   "cell_type": "code",
   "execution_count": 10,
   "id": "6e9984cd",
   "metadata": {},
   "outputs": [
    {
     "data": {
      "text/plain": [
       "DecisionTreeClassifier(criterion='entropy', max_depth=6, random_state=1)"
      ]
     },
     "execution_count": 10,
     "metadata": {},
     "output_type": "execute_result"
    }
   ],
   "source": [
    "from sklearn.tree import DecisionTreeClassifier\n",
    "modelo = DecisionTreeClassifier(criterion = 'entropy', max_depth=6, random_state=1) # por default es gini, otros entropy\n",
    "modelo"
   ]
  },
  {
   "cell_type": "markdown",
   "id": "31f36259",
   "metadata": {},
   "source": [
    "Parámetros importantes:\n",
    "    \n",
    "* criterion: entropy/gini\n",
    "* <b>max_depth</b>: Cantidad de subnodos desde cada hilo ppal (profundidad)\n",
    "* random_state"
   ]
  },
  {
   "cell_type": "markdown",
   "id": "c7ed5329",
   "metadata": {},
   "source": [
    "$$ {\\text{Ganancia de información, Entropia}}(S)= \\large - \\sum _{i=1}^{n}p_{i}\\log _{2}p_{i} $$"
   ]
  },
  {
   "cell_type": "markdown",
   "id": "69f6cdb9",
   "metadata": {},
   "source": [
    "$$ {\\text{Impureza de Gini} \\hspace{0.5cm}  \\large I_{G}(p)=\\sum _{i=1}^{m}p_{i}(1-p_{i})=\\sum _{i=1}^{m}(p_{i}-{p_{i}}^{2})=1-\\sum _{i=1}^{m}{p_{i}}^{2}} $$"
   ]
  },
  {
   "cell_type": "markdown",
   "id": "b312dbc5",
   "metadata": {},
   "source": [
    "Ver Shannon y Weaber formulacion matematica de la teoría de la información"
   ]
  },
  {
   "cell_type": "markdown",
   "id": "f060ae95",
   "metadata": {},
   "source": [
    "## Entrenamiento"
   ]
  },
  {
   "cell_type": "code",
   "execution_count": null,
   "id": "d8c49c91",
   "metadata": {},
   "outputs": [],
   "source": []
  },
  {
   "cell_type": "code",
   "execution_count": 11,
   "id": "0b0a98ad",
   "metadata": {},
   "outputs": [
    {
     "data": {
      "text/plain": [
       "DecisionTreeClassifier(criterion='entropy', max_depth=6, random_state=1)"
      ]
     },
     "execution_count": 11,
     "metadata": {},
     "output_type": "execute_result"
    }
   ],
   "source": [
    "modelo.fit(X_train, y_train)"
   ]
  },
  {
   "cell_type": "markdown",
   "id": "29d9dab0",
   "metadata": {},
   "source": [
    "## Corremos el modelo"
   ]
  },
  {
   "cell_type": "code",
   "execution_count": 12,
   "id": "7be71bb0",
   "metadata": {},
   "outputs": [
    {
     "data": {
      "text/plain": [
       "array([1, 0, 0, ..., 0, 1, 1])"
      ]
     },
     "execution_count": 12,
     "metadata": {},
     "output_type": "execute_result"
    }
   ],
   "source": [
    "# Aca le tomo examen al modelo\n",
    "y_pred = modelo.predict(X_test)\n",
    "y_pred"
   ]
  },
  {
   "cell_type": "code",
   "execution_count": 13,
   "id": "ed1f64e0",
   "metadata": {},
   "outputs": [
    {
     "data": {
      "text/plain": [
       "0\n",
       "0     679\n",
       "1    1185\n",
       "dtype: int64"
      ]
     },
     "execution_count": 13,
     "metadata": {},
     "output_type": "execute_result"
    }
   ],
   "source": [
    "pd.DataFrame(y_pred).groupby(0).size()"
   ]
  },
  {
   "cell_type": "code",
   "execution_count": 14,
   "id": "3d261e43",
   "metadata": {},
   "outputs": [
    {
     "data": {
      "text/plain": [
       "0.6355340848094472"
      ]
     },
     "execution_count": 14,
     "metadata": {},
     "output_type": "execute_result"
    }
   ],
   "source": [
    "1184 / (679+1184)"
   ]
  },
  {
   "cell_type": "code",
   "execution_count": 15,
   "id": "81e25f9a",
   "metadata": {
    "scrolled": true
   },
   "outputs": [
    {
     "data": {
      "text/plain": [
       "array([1, 0, 0, 1, 0, 1, 1, 1, 1, 0, 0, 0, 1, 1, 0])"
      ]
     },
     "execution_count": 15,
     "metadata": {},
     "output_type": "execute_result"
    }
   ],
   "source": [
    "modelo.predict(X_test)[:15]"
   ]
  },
  {
   "cell_type": "code",
   "execution_count": 16,
   "id": "0c5ba34b",
   "metadata": {},
   "outputs": [
    {
     "name": "stdout",
     "output_type": "stream",
     "text": [
      "[0, 0, 0, 0, 0, 1, 1, 0, 1, 1, 0, 0, 1, 1, 1]\n"
     ]
    }
   ],
   "source": [
    "print(y_test[:15])"
   ]
  },
  {
   "cell_type": "markdown",
   "id": "b03d6d5b",
   "metadata": {},
   "source": [
    "## Obtenemos las predicciones "
   ]
  },
  {
   "cell_type": "code",
   "execution_count": 17,
   "id": "f893db92",
   "metadata": {},
   "outputs": [
    {
     "data": {
      "text/plain": [
       "array([[0.13513514, 0.86486486],\n",
       "       [0.82258065, 0.17741935],\n",
       "       [1.        , 0.        ],\n",
       "       ...,\n",
       "       [0.8490566 , 0.1509434 ],\n",
       "       [0.12643678, 0.87356322],\n",
       "       [0.        , 1.        ]])"
      ]
     },
     "execution_count": 17,
     "metadata": {},
     "output_type": "execute_result"
    }
   ],
   "source": [
    "modelo.predict_proba(X_test)"
   ]
  },
  {
   "cell_type": "markdown",
   "id": "d24d940f",
   "metadata": {},
   "source": [
    "## Matriz de Confusión"
   ]
  },
  {
   "cell_type": "markdown",
   "id": "a4020274",
   "metadata": {},
   "source": [
    "<img src='imagenes/machine_learning_mc_sklearn.png' width='600'>"
   ]
  },
  {
   "cell_type": "markdown",
   "id": "23fe9c18",
   "metadata": {},
   "source": [
    "### Matriz de confusión \"a mano\""
   ]
  },
  {
   "cell_type": "code",
   "execution_count": 18,
   "id": "a68adac3",
   "metadata": {},
   "outputs": [
    {
     "data": {
      "text/plain": [
       "(534, 264, 145, 921)"
      ]
     },
     "execution_count": 18,
     "metadata": {},
     "output_type": "execute_result"
    }
   ],
   "source": [
    "resultados = list(zip(y_test, y_pred))\n",
    "\n",
    "manteca = 0\n",
    "mike = 0\n",
    "yoteavise = 0\n",
    "allin = 0\n",
    "\n",
    "for real, prediccion in resultados:\n",
    "    \n",
    "    if (real==0) & (prediccion==0):\n",
    "        # Verdaderos negativos\n",
    "        yoteavise += 1\n",
    "    if (real==0) & (prediccion==1):\n",
    "        # Falsos positivos\n",
    "        allin += 1\n",
    "    if (real==1) & (prediccion==0):\n",
    "        # Falsos negativos\n",
    "        mike +=1\n",
    "    if (real==1) & (prediccion==1):\n",
    "        # Verdaderos positivos\n",
    "        manteca +=1\n",
    "\n",
    "\n",
    "yoteavise, allin, mike, manteca"
   ]
  },
  {
   "cell_type": "code",
   "execution_count": 19,
   "id": "38ed8e53",
   "metadata": {},
   "outputs": [
    {
     "name": "stdout",
     "output_type": "stream",
     "text": [
      "[29. 14.  8. 49.]\n"
     ]
    }
   ],
   "source": [
    "res = np.array([yoteavise, allin, mike, manteca])\n",
    "print (f\"{(res / res.sum()).round(2)*100}\")"
   ]
  },
  {
   "cell_type": "code",
   "execution_count": 20,
   "id": "ffea2a0f",
   "metadata": {},
   "outputs": [
    {
     "data": {
      "text/plain": [
       "array([[534, 264],\n",
       "       [145, 921]], dtype=int64)"
      ]
     },
     "execution_count": 20,
     "metadata": {},
     "output_type": "execute_result"
    }
   ],
   "source": [
    "from sklearn.metrics import confusion_matrix, plot_confusion_matrix\n",
    "m = np.array(confusion_matrix(y_test, y_pred, normalize=None))\n",
    "m"
   ]
  },
  {
   "cell_type": "markdown",
   "id": "30b67e50",
   "metadata": {},
   "source": [
    "## Normalizado de matriz de confusión"
   ]
  },
  {
   "cell_type": "code",
   "execution_count": 21,
   "id": "73f57006",
   "metadata": {},
   "outputs": [
    {
     "data": {
      "text/plain": [
       "array([[0.28648069, 0.1416309 ],\n",
       "       [0.0777897 , 0.49409871]])"
      ]
     },
     "execution_count": 21,
     "metadata": {},
     "output_type": "execute_result"
    }
   ],
   "source": [
    "m = np.array(confusion_matrix(y_test, y_pred, normalize='all'))\n",
    "m"
   ]
  },
  {
   "cell_type": "code",
   "execution_count": 22,
   "id": "610dcabc",
   "metadata": {},
   "outputs": [
    {
     "data": {
      "text/plain": [
       "<sklearn.metrics._plot.confusion_matrix.ConfusionMatrixDisplay at 0x228ec1d40a0>"
      ]
     },
     "execution_count": 22,
     "metadata": {},
     "output_type": "execute_result"
    },
    {
     "data": {
      "image/png": "[encoded data removed]",
      "text/plain": [
       "<Figure size 432x288 with 2 Axes>"
      ]
     },
     "metadata": {
      "needs_background": "light"
     },
     "output_type": "display_data"
    }
   ],
   "source": [
    "plot_confusion_matrix(modelo, X_test, y_test, values_format='.1%', normalize='all', cmap='Blues')"
   ]
  },
  {
   "cell_type": "code",
   "execution_count": 23,
   "id": "dd209f2e",
   "metadata": {},
   "outputs": [
    {
     "data": {
      "text/plain": [
       "array([[0.78645066, 0.22278481],\n",
       "       [0.21354934, 0.77721519]])"
      ]
     },
     "execution_count": 23,
     "metadata": {},
     "output_type": "execute_result"
    }
   ],
   "source": [
    "m = np.array(confusion_matrix(y_test, y_pred, normalize='pred'))\n",
    "m"
   ]
  },
  {
   "cell_type": "code",
   "execution_count": 24,
   "id": "e519edc2",
   "metadata": {},
   "outputs": [
    {
     "data": {
      "text/plain": [
       "array([[0.66917293, 0.33082707],\n",
       "       [0.13602251, 0.86397749]])"
      ]
     },
     "execution_count": 24,
     "metadata": {},
     "output_type": "execute_result"
    }
   ],
   "source": [
    "m = np.array(confusion_matrix(y_test, y_pred, normalize='true'))\n",
    "m"
   ]
  },
  {
   "cell_type": "code",
   "execution_count": 25,
   "id": "abfb31a6",
   "metadata": {},
   "outputs": [
    {
     "name": "stdout",
     "output_type": "stream",
     "text": [
      "Arboles de decisión: \n",
      " [[0.29 0.14]\n",
      " [0.08 0.49]] \n",
      "Porcentajes:\n",
      " {'manteca': 0.49, 'mike oscilator': 0.08, 'all in': 0.14, 'yo te avise': 0.29} \n",
      " {'aciertos': '78.0%', 'sesgo +': '63.0%'}\n"
     ]
    }
   ],
   "source": [
    "from sklearn.metrics import confusion_matrix\n",
    "\n",
    "m = np.array(confusion_matrix(y_test, y_pred, normalize='all')).round(2)\n",
    "\n",
    "matriz = {'manteca':m[1][1], 'mike oscilator':m[1][0],'all in':m[0][1], 'yo te avise':m[0][0]}\n",
    "\n",
    "resumen = {'aciertos' : f\"{matriz['manteca']+matriz['yo te avise']:.1%}\", \n",
    "           'sesgo +': f\"{matriz['manteca']+matriz['all in']:.1%}\"}\n",
    "\n",
    "print('Arboles de decisión: \\n',m,'\\nPorcentajes:\\n',matriz,'\\n',resumen)"
   ]
  },
  {
   "cell_type": "code",
   "execution_count": null,
   "id": "69b7d589",
   "metadata": {},
   "outputs": [],
   "source": []
  },
  {
   "cell_type": "code",
   "execution_count": null,
   "id": "3d85f80e",
   "metadata": {},
   "outputs": [],
   "source": []
  },
  {
   "cell_type": "code",
   "execution_count": null,
   "id": "05aa8bd9",
   "metadata": {},
   "outputs": [],
   "source": []
  },
  {
   "cell_type": "code",
   "execution_count": null,
   "id": "3c7aeb84",
   "metadata": {},
   "outputs": [],
   "source": []
  },
  {
   "cell_type": "code",
   "execution_count": null,
   "id": "c2be1b97",
   "metadata": {},
   "outputs": [],
   "source": []
  },
  {
   "cell_type": "code",
   "execution_count": null,
   "id": "9904ee58",
   "metadata": {},
   "outputs": [],
   "source": []
  },
  {
   "cell_type": "code",
   "execution_count": null,
   "id": "6247dcfb",
   "metadata": {},
   "outputs": [],
   "source": []
  },
  {
   "cell_type": "code",
   "execution_count": null,
   "id": "786186e7",
   "metadata": {},
   "outputs": [],
   "source": []
  },
  {
   "cell_type": "code",
   "execution_count": null,
   "id": "a6ef6d39",
   "metadata": {},
   "outputs": [],
   "source": []
  },
  {
   "cell_type": "markdown",
   "id": "bb89c746",
   "metadata": {},
   "source": [
    "### Ojo con la definición de tuplas"
   ]
  },
  {
   "cell_type": "markdown",
   "id": "983b2861",
   "metadata": {},
   "source": [
    "Si definimos una tupla como x=(1), me va a asignar el entero 1 a la variable \"x\"\n",
    "\n",
    "Si quisiera que me asigne la tupla con el valor 1 como único valor debo poner x=(1,)"
   ]
  },
  {
   "cell_type": "code",
   "execution_count": 26,
   "id": "cc832155",
   "metadata": {},
   "outputs": [],
   "source": [
    "a = 5\n",
    "b = (5)\n",
    "c = (5,)"
   ]
  },
  {
   "cell_type": "code",
   "execution_count": 27,
   "id": "cb8b4e6a",
   "metadata": {
    "scrolled": true
   },
   "outputs": [
    {
     "data": {
      "text/plain": [
       "(int, int, tuple)"
      ]
     },
     "execution_count": 27,
     "metadata": {},
     "output_type": "execute_result"
    }
   ],
   "source": [
    "type(a), type(b), type(c)"
   ]
  },
  {
   "cell_type": "code",
   "execution_count": 28,
   "id": "4b00e6d6",
   "metadata": {},
   "outputs": [
    {
     "data": {
      "text/plain": [
       "([1, 2, 3, 4],)"
      ]
     },
     "execution_count": 28,
     "metadata": {},
     "output_type": "execute_result"
    }
   ],
   "source": [
    "([1,2,3,4],)"
   ]
  },
  {
   "cell_type": "code",
   "execution_count": null,
   "id": "109f7478",
   "metadata": {},
   "outputs": [],
   "source": []
  },
  {
   "cell_type": "code",
   "execution_count": null,
   "id": "29d9e4b0",
   "metadata": {},
   "outputs": [],
   "source": []
  },
  {
   "cell_type": "markdown",
   "id": "8a84ba60",
   "metadata": {},
   "source": [
    "## Vemos predicción de algún valor"
   ]
  },
  {
   "cell_type": "code",
   "execution_count": 29,
   "id": "ac6290bc",
   "metadata": {},
   "outputs": [
    {
     "data": {
      "text/html": [
       "<div>\n",
       "<style scoped>\n",
       "    .dataframe tbody tr th:only-of-type {\n",
       "        vertical-align: middle;\n",
       "    }\n",
       "\n",
       "    .dataframe tbody tr th {\n",
       "        vertical-align: top;\n",
       "    }\n",
       "\n",
       "    .dataframe thead th {\n",
       "        text-align: right;\n",
       "    }\n",
       "</style>\n",
       "<table border=\"1\" class=\"dataframe\">\n",
       "  <thead>\n",
       "    <tr style=\"text-align: right;\">\n",
       "      <th></th>\n",
       "      <th>rsi</th>\n",
       "      <th>roll_vol</th>\n",
       "      <th>ema_vol</th>\n",
       "      <th>cruce_1</th>\n",
       "      <th>cruce_2</th>\n",
       "      <th>cruce_3</th>\n",
       "    </tr>\n",
       "    <tr>\n",
       "      <th>Date</th>\n",
       "      <th></th>\n",
       "      <th></th>\n",
       "      <th></th>\n",
       "      <th></th>\n",
       "      <th></th>\n",
       "      <th></th>\n",
       "    </tr>\n",
       "  </thead>\n",
       "  <tbody>\n",
       "    <tr>\n",
       "      <th>2002-08-01</th>\n",
       "      <td>0.5164</td>\n",
       "      <td>1.2248</td>\n",
       "      <td>2.0035</td>\n",
       "      <td>-0.9164</td>\n",
       "      <td>-0.9198</td>\n",
       "      <td>-0.9182</td>\n",
       "    </tr>\n",
       "    <tr>\n",
       "      <th>2002-08-02</th>\n",
       "      <td>0.5164</td>\n",
       "      <td>1.2248</td>\n",
       "      <td>1.9966</td>\n",
       "      <td>-0.9173</td>\n",
       "      <td>-0.9188</td>\n",
       "      <td>-0.9191</td>\n",
       "    </tr>\n",
       "    <tr>\n",
       "      <th>2002-08-05</th>\n",
       "      <td>0.5064</td>\n",
       "      <td>1.2245</td>\n",
       "      <td>1.9898</td>\n",
       "      <td>-0.9183</td>\n",
       "      <td>-0.9177</td>\n",
       "      <td>-0.9198</td>\n",
       "    </tr>\n",
       "    <tr>\n",
       "      <th>2002-08-06</th>\n",
       "      <td>0.4863</td>\n",
       "      <td>1.2221</td>\n",
       "      <td>1.9834</td>\n",
       "      <td>-0.9193</td>\n",
       "      <td>-0.9163</td>\n",
       "      <td>-0.9204</td>\n",
       "    </tr>\n",
       "    <tr>\n",
       "      <th>2002-08-07</th>\n",
       "      <td>0.4863</td>\n",
       "      <td>1.2220</td>\n",
       "      <td>1.9766</td>\n",
       "      <td>-0.9202</td>\n",
       "      <td>-0.9148</td>\n",
       "      <td>-0.9211</td>\n",
       "    </tr>\n",
       "    <tr>\n",
       "      <th>...</th>\n",
       "      <td>...</td>\n",
       "      <td>...</td>\n",
       "      <td>...</td>\n",
       "      <td>...</td>\n",
       "      <td>...</td>\n",
       "      <td>...</td>\n",
       "    </tr>\n",
       "    <tr>\n",
       "      <th>2021-01-27</th>\n",
       "      <td>0.4188</td>\n",
       "      <td>0.2790</td>\n",
       "      <td>0.8147</td>\n",
       "      <td>-0.3876</td>\n",
       "      <td>-0.1865</td>\n",
       "      <td>-0.4901</td>\n",
       "    </tr>\n",
       "    <tr>\n",
       "      <th>2021-01-28</th>\n",
       "      <td>0.4283</td>\n",
       "      <td>0.2787</td>\n",
       "      <td>0.8120</td>\n",
       "      <td>-0.3840</td>\n",
       "      <td>-0.1891</td>\n",
       "      <td>-0.4875</td>\n",
       "    </tr>\n",
       "    <tr>\n",
       "      <th>2021-01-29</th>\n",
       "      <td>0.3798</td>\n",
       "      <td>0.2608</td>\n",
       "      <td>0.8110</td>\n",
       "      <td>-0.3805</td>\n",
       "      <td>-0.1920</td>\n",
       "      <td>-0.4850</td>\n",
       "    </tr>\n",
       "    <tr>\n",
       "      <th>2021-02-01</th>\n",
       "      <td>0.4691</td>\n",
       "      <td>0.2655</td>\n",
       "      <td>0.8119</td>\n",
       "      <td>-0.3767</td>\n",
       "      <td>-0.1942</td>\n",
       "      <td>-0.4823</td>\n",
       "    </tr>\n",
       "    <tr>\n",
       "      <th>2021-02-02</th>\n",
       "      <td>0.4550</td>\n",
       "      <td>0.2658</td>\n",
       "      <td>0.8093</td>\n",
       "      <td>-0.3729</td>\n",
       "      <td>-0.1963</td>\n",
       "      <td>-0.4797</td>\n",
       "    </tr>\n",
       "  </tbody>\n",
       "</table>\n",
       "<p>4659 rows × 6 columns</p>\n",
       "</div>"
      ],
      "text/plain": [
       "               rsi  roll_vol  ema_vol  cruce_1  cruce_2  cruce_3\n",
       "Date                                                            \n",
       "2002-08-01  0.5164    1.2248   2.0035  -0.9164  -0.9198  -0.9182\n",
       "2002-08-02  0.5164    1.2248   1.9966  -0.9173  -0.9188  -0.9191\n",
       "2002-08-05  0.5064    1.2245   1.9898  -0.9183  -0.9177  -0.9198\n",
       "2002-08-06  0.4863    1.2221   1.9834  -0.9193  -0.9163  -0.9204\n",
       "2002-08-07  0.4863    1.2220   1.9766  -0.9202  -0.9148  -0.9211\n",
       "...            ...       ...      ...      ...      ...      ...\n",
       "2021-01-27  0.4188    0.2790   0.8147  -0.3876  -0.1865  -0.4901\n",
       "2021-01-28  0.4283    0.2787   0.8120  -0.3840  -0.1891  -0.4875\n",
       "2021-01-29  0.3798    0.2608   0.8110  -0.3805  -0.1920  -0.4850\n",
       "2021-02-01  0.4691    0.2655   0.8119  -0.3767  -0.1942  -0.4823\n",
       "2021-02-02  0.4550    0.2658   0.8093  -0.3729  -0.1963  -0.4797\n",
       "\n",
       "[4659 rows x 6 columns]"
      ]
     },
     "execution_count": 29,
     "metadata": {},
     "output_type": "execute_result"
    }
   ],
   "source": [
    "X"
   ]
  },
  {
   "cell_type": "code",
   "execution_count": 30,
   "id": "573cace3",
   "metadata": {},
   "outputs": [
    {
     "data": {
      "text/html": [
       "<div>\n",
       "<style scoped>\n",
       "    .dataframe tbody tr th:only-of-type {\n",
       "        vertical-align: middle;\n",
       "    }\n",
       "\n",
       "    .dataframe tbody tr th {\n",
       "        vertical-align: top;\n",
       "    }\n",
       "\n",
       "    .dataframe thead th {\n",
       "        text-align: right;\n",
       "    }\n",
       "</style>\n",
       "<table border=\"1\" class=\"dataframe\">\n",
       "  <thead>\n",
       "    <tr style=\"text-align: right;\">\n",
       "      <th></th>\n",
       "      <th>rsi</th>\n",
       "      <th>roll_vol</th>\n",
       "      <th>ema_vol</th>\n",
       "      <th>cruce_1</th>\n",
       "      <th>cruce_2</th>\n",
       "      <th>cruce_3</th>\n",
       "    </tr>\n",
       "    <tr>\n",
       "      <th>Date</th>\n",
       "      <th></th>\n",
       "      <th></th>\n",
       "      <th></th>\n",
       "      <th></th>\n",
       "      <th></th>\n",
       "      <th></th>\n",
       "    </tr>\n",
       "  </thead>\n",
       "  <tbody>\n",
       "    <tr>\n",
       "      <th>2002-08-01</th>\n",
       "      <td>0.516379</td>\n",
       "      <td>1.224781</td>\n",
       "      <td>2.003486</td>\n",
       "      <td>-0.916384</td>\n",
       "      <td>-0.919752</td>\n",
       "      <td>-0.918197</td>\n",
       "    </tr>\n",
       "    <tr>\n",
       "      <th>2002-08-02</th>\n",
       "      <td>0.516379</td>\n",
       "      <td>1.224781</td>\n",
       "      <td>1.996585</td>\n",
       "      <td>-0.917296</td>\n",
       "      <td>-0.918774</td>\n",
       "      <td>-0.919104</td>\n",
       "    </tr>\n",
       "    <tr>\n",
       "      <th>2002-08-05</th>\n",
       "      <td>0.506445</td>\n",
       "      <td>1.224476</td>\n",
       "      <td>1.989791</td>\n",
       "      <td>-0.918321</td>\n",
       "      <td>-0.917697</td>\n",
       "      <td>-0.919782</td>\n",
       "    </tr>\n",
       "    <tr>\n",
       "      <th>2002-08-06</th>\n",
       "      <td>0.486296</td>\n",
       "      <td>1.222121</td>\n",
       "      <td>1.983378</td>\n",
       "      <td>-0.919269</td>\n",
       "      <td>-0.916295</td>\n",
       "      <td>-0.920390</td>\n",
       "    </tr>\n",
       "    <tr>\n",
       "      <th>2002-08-07</th>\n",
       "      <td>0.486296</td>\n",
       "      <td>1.221981</td>\n",
       "      <td>1.976552</td>\n",
       "      <td>-0.920217</td>\n",
       "      <td>-0.914802</td>\n",
       "      <td>-0.921078</td>\n",
       "    </tr>\n",
       "    <tr>\n",
       "      <th>...</th>\n",
       "      <td>...</td>\n",
       "      <td>...</td>\n",
       "      <td>...</td>\n",
       "      <td>...</td>\n",
       "      <td>...</td>\n",
       "      <td>...</td>\n",
       "    </tr>\n",
       "    <tr>\n",
       "      <th>2021-06-21</th>\n",
       "      <td>0.531607</td>\n",
       "      <td>0.195323</td>\n",
       "      <td>0.669181</td>\n",
       "      <td>-0.150916</td>\n",
       "      <td>-0.017929</td>\n",
       "      <td>-0.308843</td>\n",
       "    </tr>\n",
       "    <tr>\n",
       "      <th>2021-06-22</th>\n",
       "      <td>0.572054</td>\n",
       "      <td>0.197116</td>\n",
       "      <td>0.668261</td>\n",
       "      <td>-0.147227</td>\n",
       "      <td>-0.010568</td>\n",
       "      <td>-0.303827</td>\n",
       "    </tr>\n",
       "    <tr>\n",
       "      <th>2021-06-23</th>\n",
       "      <td>0.544136</td>\n",
       "      <td>0.197847</td>\n",
       "      <td>0.666503</td>\n",
       "      <td>-0.143386</td>\n",
       "      <td>-0.002873</td>\n",
       "      <td>-0.298933</td>\n",
       "    </tr>\n",
       "    <tr>\n",
       "      <th>2021-06-24</th>\n",
       "      <td>0.537079</td>\n",
       "      <td>0.197754</td>\n",
       "      <td>0.664327</td>\n",
       "      <td>-0.139449</td>\n",
       "      <td>0.005033</td>\n",
       "      <td>-0.294111</td>\n",
       "    </tr>\n",
       "    <tr>\n",
       "      <th>2021-06-25</th>\n",
       "      <td>0.480084</td>\n",
       "      <td>0.201112</td>\n",
       "      <td>0.664137</td>\n",
       "      <td>-0.136170</td>\n",
       "      <td>0.012540</td>\n",
       "      <td>-0.289929</td>\n",
       "    </tr>\n",
       "  </tbody>\n",
       "</table>\n",
       "<p>4759 rows × 6 columns</p>\n",
       "</div>"
      ],
      "text/plain": [
       "                 rsi  roll_vol   ema_vol   cruce_1   cruce_2   cruce_3\n",
       "Date                                                                  \n",
       "2002-08-01  0.516379  1.224781  2.003486 -0.916384 -0.919752 -0.918197\n",
       "2002-08-02  0.516379  1.224781  1.996585 -0.917296 -0.918774 -0.919104\n",
       "2002-08-05  0.506445  1.224476  1.989791 -0.918321 -0.917697 -0.919782\n",
       "2002-08-06  0.486296  1.222121  1.983378 -0.919269 -0.916295 -0.920390\n",
       "2002-08-07  0.486296  1.221981  1.976552 -0.920217 -0.914802 -0.921078\n",
       "...              ...       ...       ...       ...       ...       ...\n",
       "2021-06-21  0.531607  0.195323  0.669181 -0.150916 -0.017929 -0.308843\n",
       "2021-06-22  0.572054  0.197116  0.668261 -0.147227 -0.010568 -0.303827\n",
       "2021-06-23  0.544136  0.197847  0.666503 -0.143386 -0.002873 -0.298933\n",
       "2021-06-24  0.537079  0.197754  0.664327 -0.139449  0.005033 -0.294111\n",
       "2021-06-25  0.480084  0.201112  0.664137 -0.136170  0.012540 -0.289929\n",
       "\n",
       "[4759 rows x 6 columns]"
      ]
     },
     "execution_count": 30,
     "metadata": {},
     "output_type": "execute_result"
    }
   ],
   "source": [
    "X_full = data_full.iloc[:,-7:-1].dropna()\n",
    "X_full"
   ]
  },
  {
   "cell_type": "code",
   "execution_count": 31,
   "id": "36873109",
   "metadata": {},
   "outputs": [
    {
     "data": {
      "text/plain": [
       "rsi         0.480084\n",
       "roll_vol    0.201112\n",
       "ema_vol     0.664137\n",
       "cruce_1    -0.136170\n",
       "cruce_2     0.012540\n",
       "cruce_3    -0.289929\n",
       "Name: 2021-06-25 00:00:00, dtype: float64"
      ]
     },
     "execution_count": 31,
     "metadata": {},
     "output_type": "execute_result"
    }
   ],
   "source": [
    "datosHoy = X_full.iloc[-1]\n",
    "datosHoy"
   ]
  },
  {
   "cell_type": "code",
   "execution_count": 32,
   "id": "2d64884c",
   "metadata": {},
   "outputs": [
    {
     "data": {
      "text/plain": [
       "array([ 0.48008422,  0.20111176,  0.66413733, -0.13617049,  0.01254043,\n",
       "       -0.28992947])"
      ]
     },
     "execution_count": 32,
     "metadata": {},
     "output_type": "execute_result"
    }
   ],
   "source": [
    "datosHoy.values"
   ]
  },
  {
   "cell_type": "code",
   "execution_count": 33,
   "id": "be21ad63",
   "metadata": {
    "scrolled": true
   },
   "outputs": [
    {
     "data": {
      "text/plain": [
       "array([0])"
      ]
     },
     "execution_count": 33,
     "metadata": {},
     "output_type": "execute_result"
    }
   ],
   "source": [
    "modelo.predict((datosHoy,))"
   ]
  },
  {
   "cell_type": "code",
   "execution_count": 34,
   "id": "4dfa37b4",
   "metadata": {},
   "outputs": [
    {
     "data": {
      "text/plain": [
       "array([[0.6796875, 0.3203125]])"
      ]
     },
     "execution_count": 34,
     "metadata": {},
     "output_type": "execute_result"
    }
   ],
   "source": [
    "modelo.predict_proba((datosHoy,))"
   ]
  },
  {
   "cell_type": "code",
   "execution_count": 35,
   "id": "c7e0ebaf",
   "metadata": {},
   "outputs": [
    {
     "name": "stdout",
     "output_type": "stream",
     "text": [
      "\n",
      "Prediccion Ultimos 5 valores actuales\n",
      " [1 1 1 0 0]\n"
     ]
    }
   ],
   "source": [
    "ultimos = X_full[-5:]\n",
    "prediccion_ultimos = modelo.predict(ultimos)\n",
    "print('\\nPrediccion Ultimos 5 valores actuales\\n',prediccion_ultimos)"
   ]
  },
  {
   "cell_type": "code",
   "execution_count": 36,
   "id": "879be68a",
   "metadata": {},
   "outputs": [
    {
     "name": "stdout",
     "output_type": "stream",
     "text": [
      "\n",
      "Prediccion Ultimos 5 valores actuales\n",
      " [[0.10714286 0.89285714]\n",
      " [0.10714286 0.89285714]\n",
      " [0.10714286 0.89285714]\n",
      " [0.6796875  0.3203125 ]\n",
      " [0.6796875  0.3203125 ]]\n"
     ]
    }
   ],
   "source": [
    "ultimos = X_full[-5:]\n",
    "prediccion_ultimos = modelo.predict_proba(ultimos)\n",
    "print('\\nPrediccion Ultimos 5 valores actuales\\n',prediccion_ultimos)"
   ]
  },
  {
   "cell_type": "code",
   "execution_count": 37,
   "id": "703c1507",
   "metadata": {},
   "outputs": [
    {
     "data": {
      "text/plain": [
       "<AxesSubplot:xlabel='Date'>"
      ]
     },
     "execution_count": 37,
     "metadata": {},
     "output_type": "execute_result"
    },
    {
     "data": {
      "image/png": "[encoded data removed]",
      "text/plain": [
       "<Figure size 432x288 with 1 Axes>"
      ]
     },
     "metadata": {
      "needs_background": "light"
     },
     "output_type": "display_data"
    }
   ],
   "source": [
    "pd.Series([x[1] for x in modelo.predict_proba(X_full)], index=X_full.index).iloc[-100:].plot()"
   ]
  },
  {
   "cell_type": "code",
   "execution_count": 44,
   "id": "59b7fb5f",
   "metadata": {},
   "outputs": [
    {
     "data": {
      "text/plain": [
       "<AxesSubplot:title={'center':'Prediccion de probabilidad de suba FW   //   Arbol de Decisión'}, xlabel='Date'>"
      ]
     },
     "execution_count": 44,
     "metadata": {},
     "output_type": "execute_result"
    },
    {
     "data": {
      "image/png": "[encoded data removed]",
      "text/plain": [
       "<Figure size 1200x500 with 1 Axes>"
      ]
     },
     "metadata": {
      "needs_background": "light"
     },
     "output_type": "display_data"
    }
   ],
   "source": [
    "import matplotlib.pyplot as plt\n",
    "plt.rcParams['figure.dpi'] = 100\n",
    "\n",
    "t = 'Predicción de probabilidad de suba FW   //   Arbol de Decisión'\n",
    "pd.Series([x[1] for x in modelo.predict_proba(X_full)], index=X_full.index).plot(figsize=(12,5), title=t)"
   ]
  },
  {
   "cell_type": "code",
   "execution_count": null,
   "id": "45332b46",
   "metadata": {},
   "outputs": [],
   "source": []
  },
  {
   "cell_type": "markdown",
   "id": "bd762bd9",
   "metadata": {},
   "source": [
    "## Graficamos el modelo"
   ]
  },
  {
   "cell_type": "code",
   "execution_count": 106,
   "id": "2af85a0c",
   "metadata": {
    "scrolled": false
   },
   "outputs": [
    {
     "data": {
      "image/png": "[encoded data removed]",
      "text/plain": [
       "<IPython.core.display.Image object>"
      ]
     },
     "execution_count": 106,
     "metadata": {},
     "output_type": "execute_result"
    }
   ],
   "source": [
    "# pip install pydotplus\n",
    "\n",
    "from IPython.display import Image  \n",
    "from sklearn import tree\n",
    "import pydotplus\n",
    "import os\n",
    "os.environ['PATH'] = os.environ['PATH']+';'+os.environ['CONDA_PREFIX']+r\"\\Library\\bin\\graphviz\"\n",
    "\n",
    "targets = ['Sube','Baja']\n",
    "\n",
    "dot_data = tree.export_graphviz(modelo, out_file=None, feature_names=X.columns, \n",
    "                                class_names=targets, rounded = True, filled= True)\n",
    "\n",
    "graph = pydotplus.graph_from_dot_data(dot_data)  \n",
    "\n",
    "# guardo la imagen en disco\n",
    "graph.write_png(\"imagenes/gashe.png\")\n",
    "\n",
    "# imprimo en pantalla\n",
    "Image(graph.create_png())"
   ]
  },
  {
   "cell_type": "code",
   "execution_count": 111,
   "id": "528ffa71",
   "metadata": {},
   "outputs": [
    {
     "data": {
      "text/plain": [
       "'digraph Tree {\\nnode [shape=box, style=\"filled, rounded\", color=\"black\", fontname=helvetica] ;\\nedge [fontname=helvetica] ;\\n0 [label=\"ema_vol <= 1.33\\\\nentropy = 0.991\\\\nsamples = 2794\\\\nvalue = [1239, 1555]\\\\nclass = Baja\", fillcolor=\"#d7ebfa\"] ;\\n1 [label=\"cruce_2 <= 0.808\\\\nentropy = 0.999\\\\nsamples = 2590\\\\nvalue = [1239, 1351]\\\\nclass = Baja\", fillcolor=\"#eff7fd\"] ;\\n0 -> 1 [labeldistance=2.5, labelangle=45, headlabel=\"True\"] ;\\n2 [label=\"cruce_2 <= -0.035\\\\nentropy = 0.995\\\\nsamples = 2494\\\\nvalue = [1143, 1351]\\\\nclass = Baja\", fillcolor=\"#e1f0fb\"] ;\\n1 -> 2 ;\\n3 [label=\"cruce_1 <= -0.614\\\\nentropy = 0.98\\\\nsamples = 1017\\\\nvalue = [593, 424]\\\\nclass = Sube\", fillcolor=\"#f8dbc7\"] ;\\n2 -> 3 ;\\n4 [label=\"entropy = 0.0\\\\nsamples = 60\\\\nvalue = [0, 60]\\\\nclass = Baja\", fillcolor=\"#399de5\"] ;\\n3 -> 4 ;\\n5 [label=\"cruce_2 <= -0.404\\\\nentropy = 0.958\\\\nsamples = 957\\\\nvalue = [593, 364]\\\\nclass = Sube\", fillcolor=\"#f5ceb3\"] ;\\n3 -> 5 ;\\n6 [label=\"rsi <= 0.451\\\\nentropy = 0.991\\\\nsamples = 281\\\\nvalue = [125, 156]\\\\nclass = Baja\", fillcolor=\"#d8ecfa\"] ;\\n5 -> 6 ;\\n7 [label=\"entropy = 0.675\\\\nsamples = 107\\\\nvalue = [19, 88]\\\\nclass = Baja\", fillcolor=\"#64b2eb\"] ;\\n6 -> 7 ;\\n8 [label=\"entropy = 0.965\\\\nsamples = 174\\\\nvalue = [106, 68]\\\\nclass = Sube\", fillcolor=\"#f6d2b8\"] ;\\n6 -> 8 ;\\n9 [label=\"ema_vol <= 0.697\\\\nentropy = 0.89\\\\nsamples = 676\\\\nvalue = [468, 208]\\\\nclass = Sube\", fillcolor=\"#f1b991\"] ;\\n5 -> 9 ;\\n10 [label=\"entropy = 0.768\\\\nsamples = 504\\\\nvalue = [391, 113]\\\\nclass = Sube\", fillcolor=\"#eda572\"] ;\\n9 -> 10 ;\\n11 [label=\"entropy = 0.992\\\\nsamples = 172\\\\nvalue = [77, 95]\\\\nclass = Baja\", fillcolor=\"#d9ecfa\"] ;\\n9 -> 11 ;\\n12 [label=\"ema_vol <= 0.516\\\\nentropy = 0.952\\\\nsamples = 1477\\\\nvalue = [550, 927]\\\\nclass = Baja\", fillcolor=\"#aed7f4\"] ;\\n2 -> 12 ;\\n13 [label=\"cruce_3 <= 0.495\\\\nentropy = 0.996\\\\nsamples = 808\\\\nvalue = [374, 434]\\\\nclass = Baja\", fillcolor=\"#e4f1fb\"] ;\\n12 -> 13 ;\\n14 [label=\"cruce_1 <= 0.021\\\\nentropy = 0.953\\\\nsamples = 656\\\\nvalue = [245, 411]\\\\nclass = Baja\", fillcolor=\"#afd7f4\"] ;\\n13 -> 14 ;\\n15 [label=\"entropy = 0.0\\\\nsamples = 57\\\\nvalue = [0, 57]\\\\nclass = Baja\", fillcolor=\"#399de5\"] ;\\n14 -> 15 ;\\n16 [label=\"entropy = 0.976\\\\nsamples = 599\\\\nvalue = [245, 354]\\\\nclass = Baja\", fillcolor=\"#c2e1f7\"] ;\\n14 -> 16 ;\\n17 [label=\"cruce_2 <= 0.463\\\\nentropy = 0.613\\\\nsamples = 152\\\\nvalue = [129, 23]\\\\nclass = Sube\", fillcolor=\"#ea975c\"] ;\\n13 -> 17 ;\\n18 [label=\"entropy = 0.833\\\\nsamples = 87\\\\nvalue = [64, 23]\\\\nclass = Sube\", fillcolor=\"#eeae80\"] ;\\n17 -> 18 ;\\n19 [label=\"entropy = 0.0\\\\nsamples = 65\\\\nvalue = [65, 0]\\\\nclass = Sube\", fillcolor=\"#e58139\"] ;\\n17 -> 19 ;\\n20 [label=\"cruce_1 <= 0.162\\\\nentropy = 0.831\\\\nsamples = 669\\\\nvalue = [176, 493]\\\\nclass = Baja\", fillcolor=\"#80c0ee\"] ;\\n12 -> 20 ;\\n21 [label=\"cruce_2 <= 0.001\\\\nentropy = 0.995\\\\nsamples = 172\\\\nvalue = [93, 79]\\\\nclass = Sube\", fillcolor=\"#fbece1\"] ;\\n20 -> 21 ;\\n22 [label=\"entropy = 0.42\\\\nsamples = 47\\\\nvalue = [4, 43]\\\\nclass = Baja\", fillcolor=\"#4ba6e7\"] ;\\n21 -> 22 ;\\n23 [label=\"entropy = 0.866\\\\nsamples = 125\\\\nvalue = [89, 36]\\\\nclass = Sube\", fillcolor=\"#f0b489\"] ;\\n21 -> 23 ;\\n24 [label=\"cruce_2 <= 0.538\\\\nentropy = 0.651\\\\nsamples = 497\\\\nvalue = [83, 414]\\\\nclass = Baja\", fillcolor=\"#61b1ea\"] ;\\n20 -> 24 ;\\n25 [label=\"entropy = 0.468\\\\nsamples = 341\\\\nvalue = [34, 307]\\\\nclass = Baja\", fillcolor=\"#4fa8e8\"] ;\\n24 -> 25 ;\\n26 [label=\"entropy = 0.898\\\\nsamples = 156\\\\nvalue = [49, 107]\\\\nclass = Baja\", fillcolor=\"#94caf1\"] ;\\n24 -> 26 ;\\n27 [label=\"entropy = 0.0\\\\nsamples = 96\\\\nvalue = [96, 0]\\\\nclass = Sube\", fillcolor=\"#e58139\"] ;\\n1 -> 27 ;\\n28 [label=\"entropy = 0.0\\\\nsamples = 204\\\\nvalue = [0, 204]\\\\nclass = Baja\", fillcolor=\"#399de5\"] ;\\n0 -> 28 [labeldistance=2.5, labelangle=-45, headlabel=\"False\"] ;\\n}'"
      ]
     },
     "execution_count": 111,
     "metadata": {},
     "output_type": "execute_result"
    }
   ],
   "source": [
    "dot_data"
   ]
  },
  {
   "cell_type": "code",
   "execution_count": null,
   "id": "315bc3a1",
   "metadata": {},
   "outputs": [],
   "source": []
  },
  {
   "cell_type": "markdown",
   "id": "03c08e98",
   "metadata": {},
   "source": [
    "## Overfiteamos"
   ]
  },
  {
   "cell_type": "code",
   "execution_count": 113,
   "id": "94790649",
   "metadata": {},
   "outputs": [
    {
     "data": {
      "text/plain": [
       "<AxesSubplot:>"
      ]
     },
     "execution_count": 113,
     "metadata": {},
     "output_type": "execute_result"
    },
    {
     "data": {
      "image/png": "[encoded data removed]",
      "text/plain": [
       "<Figure size 432x288 with 1 Axes>"
      ]
     },
     "metadata": {
      "needs_background": "light"
     },
     "output_type": "display_data"
    }
   ],
   "source": [
    "aciertos = []\n",
    "for i in range(1,50):\n",
    "    modelo = DecisionTreeClassifier(criterion = 'entropy', max_depth=i, random_state=0) #Definimos modelo\n",
    "    modelo.fit(X_train, y_train) # Entrenamos\n",
    "    y_pred = modelo.predict(X_test) # Corremos\n",
    "    m = np.array(confusion_matrix(y_test, y_pred)) # medimos\n",
    "    mp = (m/m.sum().sum() *100).round(2)\n",
    "    aciertos.append( round(mp[0][0]+mp[1][1],2) )\n",
    "\n",
    "aciertosTot = pd.DataFrame(aciertos)\n",
    "aciertosTot.plot()"
   ]
  },
  {
   "cell_type": "markdown",
   "id": "afb12f86",
   "metadata": {},
   "source": [
    "# Repaso en limpio"
   ]
  },
  {
   "cell_type": "code",
   "execution_count": 127,
   "id": "e0939e4a",
   "metadata": {},
   "outputs": [
    {
     "name": "stdout",
     "output_type": "stream",
     "text": [
      "[*********************100%***********************]  1 of 1 completed\n"
     ]
    },
    {
     "data": {
      "text/plain": [
       "(array([[0.3 , 0.14],\n",
       "        [0.07, 0.49]]),\n",
       " array([[0.85714286, 0.14285714],\n",
       "        [0.85714286, 0.14285714],\n",
       "        [0.85714286, 0.14285714],\n",
       "        [0.85714286, 0.14285714],\n",
       "        [0.94029851, 0.05970149]]))"
      ]
     },
     "execution_count": 127,
     "metadata": {},
     "output_type": "execute_result"
    }
   ],
   "source": [
    "import yfinance as yf, numpy as np, pandas as pd\n",
    "from sklearn.model_selection import train_test_split\n",
    "from sklearn.tree import DecisionTreeClassifier\n",
    "from sklearn.metrics import confusion_matrix\n",
    "\n",
    "medias = ((63, 422), (38, 350), (72, 506))\n",
    "ventana = 100\n",
    "\n",
    "data = yf.download('GGAL', start='2000-01-01')\n",
    "\n",
    "dif = data['Adj Close'].diff()\n",
    "win = pd.DataFrame(np.where(dif > 0, dif, 0))\n",
    "loss = pd.DataFrame(np.where(dif < 0, abs(dif), 0))\n",
    "ema_win = win.ewm(alpha=1/14).mean()\n",
    "ema_loss = loss.ewm(alpha=1/14).mean()\n",
    "rs = ema_win / ema_loss\n",
    "rsi = 100 - (100 / (1 + rs))\n",
    "rsi.index = data.index\n",
    "\n",
    "data['pctChange'] = data['Adj Close'].pct_change()\n",
    "data['fw'] = data['Adj Close'].shift(-ventana)/data['Adj Close']-1\n",
    "data['rsi'] = rsi/100\n",
    "data['roll_vol'] = data['pctChange'].rolling(60).std() * 60**0.5\n",
    "data['ema_vol'] = data['pctChange'].ewm(span=300).std() * 300**0.5\n",
    "data['cruce_1'] = data['Adj Close'].rolling(medias[0][0]).mean()/data['Adj Close'].rolling(medias[0][1]).mean()-1\n",
    "data['cruce_2'] = data['Adj Close'].rolling(medias[1][0]).mean()/data['Adj Close'].rolling(medias[1][1]).mean()-1\n",
    "data['cruce_3'] = data['Adj Close'].rolling(medias[2][0]).mean()/data['Adj Close'].rolling(medias[2][1]).mean()-1\n",
    "\n",
    "data['target'] = 0\n",
    "data.loc[data.fw >= 0 , 'target'] = 1\n",
    "\n",
    "data_full = data.copy() # Esto nos va a servir despues cuando necesitemos los de hoy (sin etiquetas aun)\n",
    "data = data.round(4).dropna()\n",
    "\n",
    "y = list(data['target'])\n",
    "X = data.iloc[:,-7:-1]\n",
    "\n",
    "X_train, X_test, y_train, y_test = train_test_split(X, y, test_size=0.4, random_state=55)\n",
    "\n",
    "modelo = DecisionTreeClassifier(criterion = 'entropy', max_depth=7, random_state=0) \n",
    "modelo.fit(X_train, y_train)\n",
    "y_pred = modelo.predict(X_test)\n",
    "\n",
    "m = np.array(confusion_matrix(y_test, y_pred, normalize='all')).round(2)\n",
    "\n",
    "ultimos = data_full.iloc[-5:,-7:-1]\n",
    "prediccion_ultimos = modelo.predict_proba(ultimos)\n",
    "\n",
    "m, prediccion_ultimos"
   ]
  },
  {
   "cell_type": "code",
   "execution_count": null,
   "id": "607958aa",
   "metadata": {},
   "outputs": [],
   "source": []
  },
  {
   "cell_type": "code",
   "execution_count": null,
   "id": "aae9ef7f",
   "metadata": {},
   "outputs": [],
   "source": []
  },
  {
   "cell_type": "markdown",
   "id": "b2405452",
   "metadata": {},
   "source": [
    "# Se acuerdan de la serializacion?"
   ]
  },
  {
   "cell_type": "code",
   "execution_count": 128,
   "id": "afa135c9",
   "metadata": {},
   "outputs": [],
   "source": [
    "import pickle\n",
    "\n",
    "with open('modelo_arboles.dat' , 'wb') as file:\n",
    "    pickle.dump(modelo, file)"
   ]
  },
  {
   "cell_type": "markdown",
   "id": "431385c1",
   "metadata": {},
   "source": [
    "# Reiniciamos kernel y probamos modelo pre-fiteado"
   ]
  },
  {
   "cell_type": "code",
   "execution_count": 1,
   "id": "fe194aa4",
   "metadata": {},
   "outputs": [],
   "source": [
    "import pickle\n",
    "with open('modelo_arboles.dat' , 'rb') as file:\n",
    "    m_loaded = pickle.load(file)"
   ]
  },
  {
   "cell_type": "code",
   "execution_count": 3,
   "id": "1dc5de21",
   "metadata": {},
   "outputs": [
    {
     "name": "stdout",
     "output_type": "stream",
     "text": [
      "[*********************100%***********************]  1 of 1 completed\n"
     ]
    },
    {
     "data": {
      "text/plain": [
       "array([[0.85714286, 0.14285714],\n",
       "       [0.85714286, 0.14285714],\n",
       "       [0.85714286, 0.14285714],\n",
       "       [0.85714286, 0.14285714],\n",
       "       [0.94029851, 0.05970149]])"
      ]
     },
     "execution_count": 3,
     "metadata": {},
     "output_type": "execute_result"
    }
   ],
   "source": [
    "import yfinance as yf, numpy as np, pandas as pd\n",
    "\n",
    "medias = ((63, 422), (38, 350), (72, 506))\n",
    "ventana = 100\n",
    "\n",
    "data = yf.download('GGAL', start='2000-01-01')\n",
    "\n",
    "dif = data['Adj Close'].diff()\n",
    "win = pd.DataFrame(np.where(dif > 0, dif, 0))\n",
    "loss = pd.DataFrame(np.where(dif < 0, abs(dif), 0))\n",
    "ema_win = win.ewm(alpha=1/14).mean()\n",
    "ema_loss = loss.ewm(alpha=1/14).mean()\n",
    "rs = ema_win / ema_loss\n",
    "rsi = 100 - (100 / (1 + rs))\n",
    "rsi.index = data.index\n",
    "\n",
    "data['pctChange'] = data['Adj Close'].pct_change()\n",
    "data['rsi'] = rsi/100\n",
    "data['roll_vol'] = data['pctChange'].rolling(60).std() * 60**0.5\n",
    "data['ema_vol'] = data['pctChange'].ewm(span=300).std() * 300**0.5\n",
    "data['cruce_1'] = data['Adj Close'].rolling(medias[0][0]).mean()/data['Adj Close'].rolling(medias[0][1]).mean()-1\n",
    "data['cruce_2'] = data['Adj Close'].rolling(medias[1][0]).mean()/data['Adj Close'].rolling(medias[1][1]).mean()-1\n",
    "data['cruce_3'] = data['Adj Close'].rolling(medias[2][0]).mean()/data['Adj Close'].rolling(medias[2][1]).mean()-1\n",
    "\n",
    "ultimos = data.iloc[-5:,-6:]\n",
    "prediccion_ultimos = m_loaded.predict_proba(ultimos)\n",
    "prediccion_ultimos"
   ]
  },
  {
   "cell_type": "code",
   "execution_count": null,
   "id": "4e9f6b6d",
   "metadata": {},
   "outputs": [],
   "source": []
  },
  {
   "cell_type": "code",
   "execution_count": null,
   "id": "2283ea8c",
   "metadata": {},
   "outputs": [],
   "source": []
  },
  {
   "cell_type": "markdown",
   "id": "1721a91a",
   "metadata": {},
   "source": [
    "# OverSampling y UnderSampling"
   ]
  },
  {
   "cell_type": "markdown",
   "id": "725b9f08",
   "metadata": {},
   "source": [
    "<img src=\"imagenes/os_us.png\" width=800>"
   ]
  },
  {
   "cell_type": "code",
   "execution_count": null,
   "id": "7dace2a7",
   "metadata": {},
   "outputs": [],
   "source": []
  },
  {
   "cell_type": "code",
   "execution_count": null,
   "id": "81052bf1",
   "metadata": {},
   "outputs": [],
   "source": []
  },
  {
   "cell_type": "markdown",
   "id": "7f41bbcd",
   "metadata": {},
   "source": [
    "## Over Sampling:"
   ]
  },
  {
   "cell_type": "markdown",
   "id": "3a385cf8",
   "metadata": {},
   "source": [
    "Simplemente repitiendo al azar\n",
    "\n",
    "* <b>RandomOverSampler</b>\n",
    "\n",
    "Sintéticos\n",
    "\n",
    "    * SMOTE \n",
    "    * BorderlineSMOTE (Líneas de separación jerarárquicas)\n",
    "    * KMeansSMOTE (c/modelo de agrupamiento KMeans)\n",
    "    * SVMSMOTE (c/modelo de agrupamiento SVM)\n",
    "    * SMOTEN (para predictores discretos)\n",
    "    * SMOTENC (mezcla de predictores continuos y discretos)\n",
    "    * ADASYN (sinteticos adaptativos)"
   ]
  },
  {
   "cell_type": "markdown",
   "id": "f2674b83",
   "metadata": {},
   "source": [
    "Paper original <b>SMOTE</b>, DOI: 10.1613/jair.301\n",
    "<br>https://www.jair.org/index.php/jair/article/view/10302/24590\n",
    "\n",
    "<b>BorderLine</b> DOI DOI:10.1007/11538059_91\n",
    "<br>https://sci2s.ugr.es/keel/keel-dataset/pdfs/2005-Han-LNCS.pdf"
   ]
  },
  {
   "cell_type": "markdown",
   "id": "eb5a26f8",
   "metadata": {},
   "source": [
    "<b>ADASYN</b> DOI:10.1109/IJCNN.2008.4633969\n",
    "<br>https://sci2s.ugr.es/keel/pdf/algorithm/congreso/2008-He-ieee.pdf"
   ]
  },
  {
   "cell_type": "code",
   "execution_count": null,
   "id": "b5b6cf7d",
   "metadata": {},
   "outputs": [],
   "source": []
  },
  {
   "cell_type": "code",
   "execution_count": null,
   "id": "c004e709",
   "metadata": {},
   "outputs": [],
   "source": []
  },
  {
   "cell_type": "markdown",
   "id": "8cf3a303",
   "metadata": {},
   "source": [
    "<br>\n",
    "<img src=\"imagenes/os_1.png\" width=500 style=\"float:left;margin-right:40px;margin-top:-20px;\">\n",
    "<img src=\"imagenes/os_2.png\" width=400 style=\"float:left; margin-bottom:50px;\">"
   ]
  },
  {
   "cell_type": "markdown",
   "id": "bf24f5b1",
   "metadata": {},
   "source": [
    "## Under Sampling"
   ]
  },
  {
   "cell_type": "markdown",
   "id": "db8142e5",
   "metadata": {},
   "source": [
    "* <b>RandomUnderSampler</b>\n",
    "\n",
    "* <b>NearMiss</b> (usa KNN, busca mas separacion de grupos) \n",
    "* <b>ClusterCentroids</b> (Usa KMeans, remueve primero los mas parecidos, busca mas variabilidad, me gusta mas en la bolsa)\n",
    "* CondensedNearestNeighbour (Busca la zona mas densa posible)\n",
    "* EditedNearestNeighbours ENN (remueve primeros los korea del centro)\n",
    "* RepeatedEditedNearestNeighbours (ENN recursivo)\n",
    "* AllKNN (ENN adaptativo)\n",
    "* InstanceHardnessThreshold (Usa cortes de clustering jerárquico y dendrogramas)\n",
    "* NeighbourhoodCleaningRule (remueve primero los mas discordantes, saca ruido)\n",
    "* OneSidedSelection \n",
    "* TomekLinks"
   ]
  },
  {
   "cell_type": "markdown",
   "id": "fb3c5d56",
   "metadata": {},
   "source": [
    "<img src=\"imagenes/os_3.png\" width=300>"
   ]
  },
  {
   "cell_type": "markdown",
   "id": "c3f87b7d",
   "metadata": {},
   "source": [
    "<b>NearMiss</b>\n",
    "<br>https://www.site.uottawa.ca/~nat/Workshop2003/jzhang.pdf"
   ]
  },
  {
   "cell_type": "markdown",
   "id": "c13887fe",
   "metadata": {},
   "source": [
    "<b>CondensedNearestNeighbour</b> DOI 10.1109/TIT.1968.1054155\n",
    "<br>https://sci2s.ugr.es/keel/pdf/algorithm/articulo/1979-IEEE_TIT-Chidananda-IS-MNV.pdf"
   ]
  },
  {
   "cell_type": "markdown",
   "id": "4bc9fbd1",
   "metadata": {},
   "source": [
    "OneSideSelect\n",
    "<br>https://sci2s.ugr.es/keel/pdf/algorithm/congreso/kubat97addressing.pdf"
   ]
  },
  {
   "cell_type": "markdown",
   "id": "429af1a7",
   "metadata": {},
   "source": [
    "Neighboorhood Cleaning Rule\n",
    "<br>https://www.scirp.org/pdf/JBiSE20101000009_16323745.pdf"
   ]
  },
  {
   "cell_type": "markdown",
   "id": "4f52484a",
   "metadata": {},
   "source": [
    "InstanceHardnessThreshold \n",
    "<br>https://link.springer.com/content/pdf/10.1007/s10994-013-5422-z.pdf"
   ]
  },
  {
   "cell_type": "markdown",
   "id": "0ab5d0e9",
   "metadata": {},
   "source": [
    "<b>Tomek</b> DOI 10.4236/jilsa.2015.74010\n",
    "<br>https://www.scirp.org/(S(i43dyn45teexjx455qlt3d2q))/journal/paperinformation.aspx?paperid=60996"
   ]
  },
  {
   "cell_type": "markdown",
   "id": "49584b13",
   "metadata": {},
   "source": [
    "## Instalación e importación"
   ]
  },
  {
   "cell_type": "code",
   "execution_count": 4,
   "id": "36914e31",
   "metadata": {},
   "outputs": [],
   "source": [
    "# conda install -c conda-forge imbalanced-learn"
   ]
  },
  {
   "cell_type": "code",
   "execution_count": 5,
   "id": "12ba8bf9",
   "metadata": {},
   "outputs": [],
   "source": [
    "from imblearn import over_sampling as os \n",
    "from imblearn import under_sampling as us"
   ]
  },
  {
   "cell_type": "markdown",
   "id": "2bb18608",
   "metadata": {},
   "source": [
    "## Ejemplos"
   ]
  },
  {
   "cell_type": "code",
   "execution_count": 13,
   "id": "e4bb1aec",
   "metadata": {},
   "outputs": [
    {
     "name": "stdout",
     "output_type": "stream",
     "text": [
      "[*********************100%***********************]  1 of 1 completed\n"
     ]
    },
    {
     "data": {
      "text/html": [
       "<div>\n",
       "<style scoped>\n",
       "    .dataframe tbody tr th:only-of-type {\n",
       "        vertical-align: middle;\n",
       "    }\n",
       "\n",
       "    .dataframe tbody tr th {\n",
       "        vertical-align: top;\n",
       "    }\n",
       "\n",
       "    .dataframe thead th {\n",
       "        text-align: right;\n",
       "    }\n",
       "</style>\n",
       "<table border=\"1\" class=\"dataframe\">\n",
       "  <thead>\n",
       "    <tr style=\"text-align: right;\">\n",
       "      <th></th>\n",
       "      <th>rsi</th>\n",
       "      <th>roll_vol</th>\n",
       "      <th>ema_vol</th>\n",
       "      <th>cruce_1</th>\n",
       "      <th>cruce_2</th>\n",
       "      <th>cruce_3</th>\n",
       "      <th>se_vuela</th>\n",
       "    </tr>\n",
       "    <tr>\n",
       "      <th>Date</th>\n",
       "      <th></th>\n",
       "      <th></th>\n",
       "      <th></th>\n",
       "      <th></th>\n",
       "      <th></th>\n",
       "      <th></th>\n",
       "      <th></th>\n",
       "    </tr>\n",
       "  </thead>\n",
       "  <tbody>\n",
       "    <tr>\n",
       "      <th>2002-08-01</th>\n",
       "      <td>0.516379</td>\n",
       "      <td>1.224781</td>\n",
       "      <td>2.003486</td>\n",
       "      <td>-0.916384</td>\n",
       "      <td>-0.919752</td>\n",
       "      <td>-0.918197</td>\n",
       "      <td>1</td>\n",
       "    </tr>\n",
       "    <tr>\n",
       "      <th>2002-08-02</th>\n",
       "      <td>0.516379</td>\n",
       "      <td>1.224781</td>\n",
       "      <td>1.996585</td>\n",
       "      <td>-0.917296</td>\n",
       "      <td>-0.918774</td>\n",
       "      <td>-0.919104</td>\n",
       "      <td>1</td>\n",
       "    </tr>\n",
       "    <tr>\n",
       "      <th>2002-08-05</th>\n",
       "      <td>0.506445</td>\n",
       "      <td>1.224476</td>\n",
       "      <td>1.989791</td>\n",
       "      <td>-0.918321</td>\n",
       "      <td>-0.917697</td>\n",
       "      <td>-0.919782</td>\n",
       "      <td>1</td>\n",
       "    </tr>\n",
       "    <tr>\n",
       "      <th>2002-08-06</th>\n",
       "      <td>0.486296</td>\n",
       "      <td>1.222121</td>\n",
       "      <td>1.983378</td>\n",
       "      <td>-0.919269</td>\n",
       "      <td>-0.916295</td>\n",
       "      <td>-0.920390</td>\n",
       "      <td>1</td>\n",
       "    </tr>\n",
       "    <tr>\n",
       "      <th>2002-08-07</th>\n",
       "      <td>0.486296</td>\n",
       "      <td>1.221981</td>\n",
       "      <td>1.976552</td>\n",
       "      <td>-0.920217</td>\n",
       "      <td>-0.914802</td>\n",
       "      <td>-0.921078</td>\n",
       "      <td>1</td>\n",
       "    </tr>\n",
       "    <tr>\n",
       "      <th>...</th>\n",
       "      <td>...</td>\n",
       "      <td>...</td>\n",
       "      <td>...</td>\n",
       "      <td>...</td>\n",
       "      <td>...</td>\n",
       "      <td>...</td>\n",
       "      <td>...</td>\n",
       "    </tr>\n",
       "    <tr>\n",
       "      <th>2021-01-25</th>\n",
       "      <td>0.332081</td>\n",
       "      <td>0.278527</td>\n",
       "      <td>0.816321</td>\n",
       "      <td>-0.393994</td>\n",
       "      <td>-0.183155</td>\n",
       "      <td>-0.494815</td>\n",
       "      <td>0</td>\n",
       "    </tr>\n",
       "    <tr>\n",
       "      <th>2021-01-26</th>\n",
       "      <td>0.430406</td>\n",
       "      <td>0.279987</td>\n",
       "      <td>0.817315</td>\n",
       "      <td>-0.390756</td>\n",
       "      <td>-0.184459</td>\n",
       "      <td>-0.492537</td>\n",
       "      <td>0</td>\n",
       "    </tr>\n",
       "    <tr>\n",
       "      <th>2021-01-27</th>\n",
       "      <td>0.418787</td>\n",
       "      <td>0.279008</td>\n",
       "      <td>0.814680</td>\n",
       "      <td>-0.387588</td>\n",
       "      <td>-0.186497</td>\n",
       "      <td>-0.490134</td>\n",
       "      <td>0</td>\n",
       "    </tr>\n",
       "    <tr>\n",
       "      <th>2021-01-28</th>\n",
       "      <td>0.428285</td>\n",
       "      <td>0.278747</td>\n",
       "      <td>0.812011</td>\n",
       "      <td>-0.384019</td>\n",
       "      <td>-0.189090</td>\n",
       "      <td>-0.487471</td>\n",
       "      <td>0</td>\n",
       "    </tr>\n",
       "    <tr>\n",
       "      <th>2021-01-29</th>\n",
       "      <td>0.379826</td>\n",
       "      <td>0.260783</td>\n",
       "      <td>0.810968</td>\n",
       "      <td>-0.380475</td>\n",
       "      <td>-0.191957</td>\n",
       "      <td>-0.484957</td>\n",
       "      <td>0</td>\n",
       "    </tr>\n",
       "  </tbody>\n",
       "</table>\n",
       "<p>4657 rows × 7 columns</p>\n",
       "</div>"
      ],
      "text/plain": [
       "                 rsi  roll_vol   ema_vol   cruce_1   cruce_2   cruce_3  \\\n",
       "Date                                                                     \n",
       "2002-08-01  0.516379  1.224781  2.003486 -0.916384 -0.919752 -0.918197   \n",
       "2002-08-02  0.516379  1.224781  1.996585 -0.917296 -0.918774 -0.919104   \n",
       "2002-08-05  0.506445  1.224476  1.989791 -0.918321 -0.917697 -0.919782   \n",
       "2002-08-06  0.486296  1.222121  1.983378 -0.919269 -0.916295 -0.920390   \n",
       "2002-08-07  0.486296  1.221981  1.976552 -0.920217 -0.914802 -0.921078   \n",
       "...              ...       ...       ...       ...       ...       ...   \n",
       "2021-01-25  0.332081  0.278527  0.816321 -0.393994 -0.183155 -0.494815   \n",
       "2021-01-26  0.430406  0.279987  0.817315 -0.390756 -0.184459 -0.492537   \n",
       "2021-01-27  0.418787  0.279008  0.814680 -0.387588 -0.186497 -0.490134   \n",
       "2021-01-28  0.428285  0.278747  0.812011 -0.384019 -0.189090 -0.487471   \n",
       "2021-01-29  0.379826  0.260783  0.810968 -0.380475 -0.191957 -0.484957   \n",
       "\n",
       "            se_vuela  \n",
       "Date                  \n",
       "2002-08-01         1  \n",
       "2002-08-02         1  \n",
       "2002-08-05         1  \n",
       "2002-08-06         1  \n",
       "2002-08-07         1  \n",
       "...              ...  \n",
       "2021-01-25         0  \n",
       "2021-01-26         0  \n",
       "2021-01-27         0  \n",
       "2021-01-28         0  \n",
       "2021-01-29         0  \n",
       "\n",
       "[4657 rows x 7 columns]"
      ]
     },
     "execution_count": 13,
     "metadata": {},
     "output_type": "execute_result"
    }
   ],
   "source": [
    "import pandas as pd\n",
    "import numpy as np\n",
    "import yfinance as yf\n",
    "\n",
    "\n",
    "medias = ((63, 422), (38, 350), (72, 506))\n",
    "ventana = 100\n",
    "\n",
    "data = yf.download('GGAL', start='2000-01-01')\n",
    "\n",
    "\n",
    "dif = data['Adj Close'].diff()\n",
    "win = pd.DataFrame(np.where(dif > 0, dif, 0))\n",
    "loss = pd.DataFrame(np.where(dif < 0, abs(dif), 0))\n",
    "ema_win = win.ewm(alpha=1/14).mean()\n",
    "ema_loss = loss.ewm(alpha=1/14).mean()\n",
    "rs = ema_win / ema_loss\n",
    "rsi = 100 - (100 / (1 + rs))\n",
    "rsi.index = data.index\n",
    "\n",
    "data['pctChange'] = data['Adj Close'].pct_change()\n",
    "data['fw'] = np.log(data['Adj Close'].shift(-ventana)/data['Adj Close'])\n",
    "data['rsi'] = rsi/100\n",
    "data['roll_vol'] = data['pctChange'].rolling(60).std() * 60**0.5\n",
    "data['ema_vol'] = data['pctChange'].ewm(span=300).std() * 300**0.5\n",
    "data['cruce_1'] = data['Adj Close'].rolling(medias[0][0]).mean()/data['Adj Close'].rolling(medias[0][1]).mean()-1\n",
    "data['cruce_2'] = data['Adj Close'].rolling(medias[1][0]).mean()/data['Adj Close'].rolling(medias[1][1]).mean()-1\n",
    "data['cruce_3'] = data['Adj Close'].rolling(medias[2][0]).mean()/data['Adj Close'].rolling(medias[2][1]).mean()-1\n",
    "data.dropna(inplace=True)\n",
    "\n",
    "data['se_vuela'] = np.where(data.fw > 0.5, 1, 0)\n",
    "\n",
    "df = data.iloc[:, 8:]\n",
    "df"
   ]
  },
  {
   "cell_type": "code",
   "execution_count": 14,
   "id": "b528dd10",
   "metadata": {},
   "outputs": [
    {
     "data": {
      "text/plain": [
       "se_vuela\n",
       "0    4088\n",
       "1     569\n",
       "dtype: int64"
      ]
     },
     "execution_count": 14,
     "metadata": {},
     "output_type": "execute_result"
    }
   ],
   "source": [
    "df.groupby('se_vuela').size()"
   ]
  },
  {
   "cell_type": "code",
   "execution_count": 16,
   "id": "60d82de1",
   "metadata": {},
   "outputs": [],
   "source": [
    "X, Y = df.iloc[:,:-1], df.iloc[:,-1]"
   ]
  },
  {
   "cell_type": "markdown",
   "id": "1e3dcd84",
   "metadata": {},
   "source": [
    "### OS, Random, SMOTE"
   ]
  },
  {
   "cell_type": "code",
   "execution_count": 17,
   "id": "a7bb9e9a",
   "metadata": {},
   "outputs": [],
   "source": [
    "# Uso oversampling al azar\n",
    "# Repite muestras del df original aleatoriamente\n",
    "\n",
    "X_os, Y_os = os.RandomOverSampler().fit_resample(X,Y)"
   ]
  },
  {
   "cell_type": "code",
   "execution_count": 20,
   "id": "6caa4236",
   "metadata": {},
   "outputs": [
    {
     "data": {
      "text/html": [
       "<div>\n",
       "<style scoped>\n",
       "    .dataframe tbody tr th:only-of-type {\n",
       "        vertical-align: middle;\n",
       "    }\n",
       "\n",
       "    .dataframe tbody tr th {\n",
       "        vertical-align: top;\n",
       "    }\n",
       "\n",
       "    .dataframe thead th {\n",
       "        text-align: right;\n",
       "    }\n",
       "</style>\n",
       "<table border=\"1\" class=\"dataframe\">\n",
       "  <thead>\n",
       "    <tr style=\"text-align: right;\">\n",
       "      <th></th>\n",
       "      <th>rsi</th>\n",
       "      <th>roll_vol</th>\n",
       "      <th>ema_vol</th>\n",
       "      <th>cruce_1</th>\n",
       "      <th>cruce_2</th>\n",
       "      <th>cruce_3</th>\n",
       "      <th>se_vuela</th>\n",
       "    </tr>\n",
       "  </thead>\n",
       "  <tbody>\n",
       "    <tr>\n",
       "      <th>0</th>\n",
       "      <td>0.516379</td>\n",
       "      <td>1.224781</td>\n",
       "      <td>2.003486</td>\n",
       "      <td>-0.916384</td>\n",
       "      <td>-0.919752</td>\n",
       "      <td>-0.918197</td>\n",
       "      <td>1</td>\n",
       "    </tr>\n",
       "    <tr>\n",
       "      <th>1</th>\n",
       "      <td>0.516379</td>\n",
       "      <td>1.224781</td>\n",
       "      <td>1.996585</td>\n",
       "      <td>-0.917296</td>\n",
       "      <td>-0.918774</td>\n",
       "      <td>-0.919104</td>\n",
       "      <td>1</td>\n",
       "    </tr>\n",
       "    <tr>\n",
       "      <th>2</th>\n",
       "      <td>0.506445</td>\n",
       "      <td>1.224476</td>\n",
       "      <td>1.989791</td>\n",
       "      <td>-0.918321</td>\n",
       "      <td>-0.917697</td>\n",
       "      <td>-0.919782</td>\n",
       "      <td>1</td>\n",
       "    </tr>\n",
       "    <tr>\n",
       "      <th>3</th>\n",
       "      <td>0.486296</td>\n",
       "      <td>1.222121</td>\n",
       "      <td>1.983378</td>\n",
       "      <td>-0.919269</td>\n",
       "      <td>-0.916295</td>\n",
       "      <td>-0.920390</td>\n",
       "      <td>1</td>\n",
       "    </tr>\n",
       "    <tr>\n",
       "      <th>4</th>\n",
       "      <td>0.486296</td>\n",
       "      <td>1.221981</td>\n",
       "      <td>1.976552</td>\n",
       "      <td>-0.920217</td>\n",
       "      <td>-0.914802</td>\n",
       "      <td>-0.921078</td>\n",
       "      <td>1</td>\n",
       "    </tr>\n",
       "    <tr>\n",
       "      <th>...</th>\n",
       "      <td>...</td>\n",
       "      <td>...</td>\n",
       "      <td>...</td>\n",
       "      <td>...</td>\n",
       "      <td>...</td>\n",
       "      <td>...</td>\n",
       "      <td>...</td>\n",
       "    </tr>\n",
       "    <tr>\n",
       "      <th>8171</th>\n",
       "      <td>0.333891</td>\n",
       "      <td>0.231262</td>\n",
       "      <td>0.609411</td>\n",
       "      <td>0.505332</td>\n",
       "      <td>0.480157</td>\n",
       "      <td>0.408640</td>\n",
       "      <td>1</td>\n",
       "    </tr>\n",
       "    <tr>\n",
       "      <th>8172</th>\n",
       "      <td>0.531553</td>\n",
       "      <td>0.461591</td>\n",
       "      <td>2.358409</td>\n",
       "      <td>-0.331054</td>\n",
       "      <td>0.239405</td>\n",
       "      <td>-0.603458</td>\n",
       "      <td>1</td>\n",
       "    </tr>\n",
       "    <tr>\n",
       "      <th>8173</th>\n",
       "      <td>0.424715</td>\n",
       "      <td>0.243542</td>\n",
       "      <td>0.583882</td>\n",
       "      <td>0.494752</td>\n",
       "      <td>0.322097</td>\n",
       "      <td>0.473528</td>\n",
       "      <td>1</td>\n",
       "    </tr>\n",
       "    <tr>\n",
       "      <th>8174</th>\n",
       "      <td>0.510396</td>\n",
       "      <td>0.399988</td>\n",
       "      <td>0.885937</td>\n",
       "      <td>-0.382677</td>\n",
       "      <td>-0.189809</td>\n",
       "      <td>-0.484899</td>\n",
       "      <td>1</td>\n",
       "    </tr>\n",
       "    <tr>\n",
       "      <th>8175</th>\n",
       "      <td>0.849124</td>\n",
       "      <td>0.194082</td>\n",
       "      <td>0.560363</td>\n",
       "      <td>0.434139</td>\n",
       "      <td>0.355069</td>\n",
       "      <td>0.481009</td>\n",
       "      <td>1</td>\n",
       "    </tr>\n",
       "  </tbody>\n",
       "</table>\n",
       "<p>8176 rows × 7 columns</p>\n",
       "</div>"
      ],
      "text/plain": [
       "           rsi  roll_vol   ema_vol   cruce_1   cruce_2   cruce_3  se_vuela\n",
       "0     0.516379  1.224781  2.003486 -0.916384 -0.919752 -0.918197         1\n",
       "1     0.516379  1.224781  1.996585 -0.917296 -0.918774 -0.919104         1\n",
       "2     0.506445  1.224476  1.989791 -0.918321 -0.917697 -0.919782         1\n",
       "3     0.486296  1.222121  1.983378 -0.919269 -0.916295 -0.920390         1\n",
       "4     0.486296  1.221981  1.976552 -0.920217 -0.914802 -0.921078         1\n",
       "...        ...       ...       ...       ...       ...       ...       ...\n",
       "8171  0.333891  0.231262  0.609411  0.505332  0.480157  0.408640         1\n",
       "8172  0.531553  0.461591  2.358409 -0.331054  0.239405 -0.603458         1\n",
       "8173  0.424715  0.243542  0.583882  0.494752  0.322097  0.473528         1\n",
       "8174  0.510396  0.399988  0.885937 -0.382677 -0.189809 -0.484899         1\n",
       "8175  0.849124  0.194082  0.560363  0.434139  0.355069  0.481009         1\n",
       "\n",
       "[8176 rows x 7 columns]"
      ]
     },
     "execution_count": 20,
     "metadata": {},
     "output_type": "execute_result"
    }
   ],
   "source": [
    "df_os = pd.concat([X_os,Y_os], axis=1)\n",
    "df_os"
   ]
  },
  {
   "cell_type": "code",
   "execution_count": 21,
   "id": "b3f08fec",
   "metadata": {},
   "outputs": [
    {
     "data": {
      "text/plain": [
       "se_vuela\n",
       "0    4088\n",
       "1    4088\n",
       "dtype: int64"
      ]
     },
     "execution_count": 21,
     "metadata": {},
     "output_type": "execute_result"
    }
   ],
   "source": [
    "df_os.groupby('se_vuela').size()"
   ]
  },
  {
   "cell_type": "code",
   "execution_count": 22,
   "id": "b592539f",
   "metadata": {},
   "outputs": [
    {
     "data": {
      "text/html": [
       "<div>\n",
       "<style scoped>\n",
       "    .dataframe tbody tr th:only-of-type {\n",
       "        vertical-align: middle;\n",
       "    }\n",
       "\n",
       "    .dataframe tbody tr th {\n",
       "        vertical-align: top;\n",
       "    }\n",
       "\n",
       "    .dataframe thead th {\n",
       "        text-align: right;\n",
       "    }\n",
       "</style>\n",
       "<table border=\"1\" class=\"dataframe\">\n",
       "  <thead>\n",
       "    <tr style=\"text-align: right;\">\n",
       "      <th></th>\n",
       "      <th>rsi</th>\n",
       "      <th>roll_vol</th>\n",
       "      <th>ema_vol</th>\n",
       "      <th>cruce_1</th>\n",
       "      <th>cruce_2</th>\n",
       "      <th>cruce_3</th>\n",
       "    </tr>\n",
       "    <tr>\n",
       "      <th>se_vuela</th>\n",
       "      <th></th>\n",
       "      <th></th>\n",
       "      <th></th>\n",
       "      <th></th>\n",
       "      <th></th>\n",
       "      <th></th>\n",
       "    </tr>\n",
       "  </thead>\n",
       "  <tbody>\n",
       "    <tr>\n",
       "      <th>0</th>\n",
       "      <td>0.518784</td>\n",
       "      <td>0.245196</td>\n",
       "      <td>0.636275</td>\n",
       "      <td>0.110640</td>\n",
       "      <td>0.104116</td>\n",
       "      <td>0.132821</td>\n",
       "    </tr>\n",
       "    <tr>\n",
       "      <th>1</th>\n",
       "      <td>0.521713</td>\n",
       "      <td>0.514675</td>\n",
       "      <td>1.250846</td>\n",
       "      <td>-0.106609</td>\n",
       "      <td>-0.049032</td>\n",
       "      <td>-0.186543</td>\n",
       "    </tr>\n",
       "  </tbody>\n",
       "</table>\n",
       "</div>"
      ],
      "text/plain": [
       "               rsi  roll_vol   ema_vol   cruce_1   cruce_2   cruce_3\n",
       "se_vuela                                                            \n",
       "0         0.518784  0.245196  0.636275  0.110640  0.104116  0.132821\n",
       "1         0.521713  0.514675  1.250846 -0.106609 -0.049032 -0.186543"
      ]
     },
     "execution_count": 22,
     "metadata": {},
     "output_type": "execute_result"
    }
   ],
   "source": [
    "df.groupby('se_vuela').mean()"
   ]
  },
  {
   "cell_type": "code",
   "execution_count": 23,
   "id": "a7f8d416",
   "metadata": {},
   "outputs": [
    {
     "data": {
      "text/html": [
       "<div>\n",
       "<style scoped>\n",
       "    .dataframe tbody tr th:only-of-type {\n",
       "        vertical-align: middle;\n",
       "    }\n",
       "\n",
       "    .dataframe tbody tr th {\n",
       "        vertical-align: top;\n",
       "    }\n",
       "\n",
       "    .dataframe thead th {\n",
       "        text-align: right;\n",
       "    }\n",
       "</style>\n",
       "<table border=\"1\" class=\"dataframe\">\n",
       "  <thead>\n",
       "    <tr style=\"text-align: right;\">\n",
       "      <th></th>\n",
       "      <th>rsi</th>\n",
       "      <th>roll_vol</th>\n",
       "      <th>ema_vol</th>\n",
       "      <th>cruce_1</th>\n",
       "      <th>cruce_2</th>\n",
       "      <th>cruce_3</th>\n",
       "    </tr>\n",
       "    <tr>\n",
       "      <th>se_vuela</th>\n",
       "      <th></th>\n",
       "      <th></th>\n",
       "      <th></th>\n",
       "      <th></th>\n",
       "      <th></th>\n",
       "      <th></th>\n",
       "    </tr>\n",
       "  </thead>\n",
       "  <tbody>\n",
       "    <tr>\n",
       "      <th>0</th>\n",
       "      <td>0.518784</td>\n",
       "      <td>0.245196</td>\n",
       "      <td>0.636275</td>\n",
       "      <td>0.110640</td>\n",
       "      <td>0.104116</td>\n",
       "      <td>0.132821</td>\n",
       "    </tr>\n",
       "    <tr>\n",
       "      <th>1</th>\n",
       "      <td>0.523150</td>\n",
       "      <td>0.513791</td>\n",
       "      <td>1.259589</td>\n",
       "      <td>-0.108753</td>\n",
       "      <td>-0.048774</td>\n",
       "      <td>-0.189424</td>\n",
       "    </tr>\n",
       "  </tbody>\n",
       "</table>\n",
       "</div>"
      ],
      "text/plain": [
       "               rsi  roll_vol   ema_vol   cruce_1   cruce_2   cruce_3\n",
       "se_vuela                                                            \n",
       "0         0.518784  0.245196  0.636275  0.110640  0.104116  0.132821\n",
       "1         0.523150  0.513791  1.259589 -0.108753 -0.048774 -0.189424"
      ]
     },
     "execution_count": 23,
     "metadata": {},
     "output_type": "execute_result"
    }
   ],
   "source": [
    "X_os, Y_os = os.RandomOverSampler(random_state=0).fit_resample(X,Y)\n",
    "df_os = pd.concat([X_os,Y_os], axis=1)\n",
    "df_os.groupby('se_vuela').mean()"
   ]
  },
  {
   "cell_type": "code",
   "execution_count": 24,
   "id": "c25ed239",
   "metadata": {},
   "outputs": [
    {
     "data": {
      "text/html": [
       "<div>\n",
       "<style scoped>\n",
       "    .dataframe tbody tr th:only-of-type {\n",
       "        vertical-align: middle;\n",
       "    }\n",
       "\n",
       "    .dataframe tbody tr th {\n",
       "        vertical-align: top;\n",
       "    }\n",
       "\n",
       "    .dataframe thead th {\n",
       "        text-align: right;\n",
       "    }\n",
       "</style>\n",
       "<table border=\"1\" class=\"dataframe\">\n",
       "  <thead>\n",
       "    <tr style=\"text-align: right;\">\n",
       "      <th></th>\n",
       "      <th>rsi</th>\n",
       "      <th>roll_vol</th>\n",
       "      <th>ema_vol</th>\n",
       "      <th>cruce_1</th>\n",
       "      <th>cruce_2</th>\n",
       "      <th>cruce_3</th>\n",
       "    </tr>\n",
       "    <tr>\n",
       "      <th>se_vuela</th>\n",
       "      <th></th>\n",
       "      <th></th>\n",
       "      <th></th>\n",
       "      <th></th>\n",
       "      <th></th>\n",
       "      <th></th>\n",
       "    </tr>\n",
       "  </thead>\n",
       "  <tbody>\n",
       "    <tr>\n",
       "      <th>0</th>\n",
       "      <td>0.518784</td>\n",
       "      <td>0.245196</td>\n",
       "      <td>0.636275</td>\n",
       "      <td>0.110640</td>\n",
       "      <td>0.104116</td>\n",
       "      <td>0.132821</td>\n",
       "    </tr>\n",
       "    <tr>\n",
       "      <th>1</th>\n",
       "      <td>0.520984</td>\n",
       "      <td>0.518502</td>\n",
       "      <td>1.250827</td>\n",
       "      <td>-0.100673</td>\n",
       "      <td>-0.044667</td>\n",
       "      <td>-0.181232</td>\n",
       "    </tr>\n",
       "  </tbody>\n",
       "</table>\n",
       "</div>"
      ],
      "text/plain": [
       "               rsi  roll_vol   ema_vol   cruce_1   cruce_2   cruce_3\n",
       "se_vuela                                                            \n",
       "0         0.518784  0.245196  0.636275  0.110640  0.104116  0.132821\n",
       "1         0.520984  0.518502  1.250827 -0.100673 -0.044667 -0.181232"
      ]
     },
     "execution_count": 24,
     "metadata": {},
     "output_type": "execute_result"
    }
   ],
   "source": [
    "X_os, Y_os = os.SMOTE(random_state=0).fit_resample(X,Y)\n",
    "df_os = pd.concat([X_os,Y_os], axis=1)\n",
    "df_os.groupby('se_vuela').mean()"
   ]
  },
  {
   "cell_type": "markdown",
   "id": "f5caa909",
   "metadata": {},
   "source": [
    "### US, Random, NearMiss, "
   ]
  },
  {
   "cell_type": "code",
   "execution_count": 25,
   "id": "f3abbbe5",
   "metadata": {},
   "outputs": [
    {
     "data": {
      "text/plain": [
       "se_vuela\n",
       "0    4088\n",
       "1     569\n",
       "dtype: int64"
      ]
     },
     "execution_count": 25,
     "metadata": {},
     "output_type": "execute_result"
    }
   ],
   "source": [
    "df.groupby('se_vuela').size()"
   ]
  },
  {
   "cell_type": "code",
   "execution_count": 29,
   "id": "483cac69",
   "metadata": {},
   "outputs": [
    {
     "data": {
      "text/html": [
       "<div>\n",
       "<style scoped>\n",
       "    .dataframe tbody tr th:only-of-type {\n",
       "        vertical-align: middle;\n",
       "    }\n",
       "\n",
       "    .dataframe tbody tr th {\n",
       "        vertical-align: top;\n",
       "    }\n",
       "\n",
       "    .dataframe thead th {\n",
       "        text-align: right;\n",
       "    }\n",
       "</style>\n",
       "<table border=\"1\" class=\"dataframe\">\n",
       "  <thead>\n",
       "    <tr style=\"text-align: right;\">\n",
       "      <th></th>\n",
       "      <th>rsi</th>\n",
       "      <th>roll_vol</th>\n",
       "      <th>ema_vol</th>\n",
       "      <th>cruce_1</th>\n",
       "      <th>cruce_2</th>\n",
       "      <th>cruce_3</th>\n",
       "    </tr>\n",
       "    <tr>\n",
       "      <th>se_vuela</th>\n",
       "      <th></th>\n",
       "      <th></th>\n",
       "      <th></th>\n",
       "      <th></th>\n",
       "      <th></th>\n",
       "      <th></th>\n",
       "    </tr>\n",
       "  </thead>\n",
       "  <tbody>\n",
       "    <tr>\n",
       "      <th>0</th>\n",
       "      <td>0.518784</td>\n",
       "      <td>0.245196</td>\n",
       "      <td>0.636275</td>\n",
       "      <td>0.110640</td>\n",
       "      <td>0.104116</td>\n",
       "      <td>0.132821</td>\n",
       "    </tr>\n",
       "    <tr>\n",
       "      <th>1</th>\n",
       "      <td>0.521713</td>\n",
       "      <td>0.514675</td>\n",
       "      <td>1.250846</td>\n",
       "      <td>-0.106609</td>\n",
       "      <td>-0.049032</td>\n",
       "      <td>-0.186543</td>\n",
       "    </tr>\n",
       "  </tbody>\n",
       "</table>\n",
       "</div>"
      ],
      "text/plain": [
       "               rsi  roll_vol   ema_vol   cruce_1   cruce_2   cruce_3\n",
       "se_vuela                                                            \n",
       "0         0.518784  0.245196  0.636275  0.110640  0.104116  0.132821\n",
       "1         0.521713  0.514675  1.250846 -0.106609 -0.049032 -0.186543"
      ]
     },
     "execution_count": 29,
     "metadata": {},
     "output_type": "execute_result"
    }
   ],
   "source": [
    " df.groupby('se_vuela').mean()"
   ]
  },
  {
   "cell_type": "code",
   "execution_count": 27,
   "id": "59acf810",
   "metadata": {},
   "outputs": [
    {
     "data": {
      "text/plain": [
       "(se_vuela\n",
       " 0    569\n",
       " 1    569\n",
       " dtype: int64,\n",
       "                rsi  roll_vol   ema_vol   cruce_1   cruce_2   cruce_3\n",
       " se_vuela                                                            \n",
       " 0         0.505342  0.246027  0.636336  0.097690  0.098950  0.117002\n",
       " 1         0.521713  0.514675  1.250846 -0.106609 -0.049032 -0.186543)"
      ]
     },
     "execution_count": 27,
     "metadata": {},
     "output_type": "execute_result"
    }
   ],
   "source": [
    "X_us, Y_us = us.RandomUnderSampler(random_state=0).fit_resample(X,Y)\n",
    "df_us = pd.concat([X_us,Y_us], axis=1)\n",
    "df_us.groupby('se_vuela').size(),    df_us.groupby('se_vuela').mean()"
   ]
  },
  {
   "cell_type": "code",
   "execution_count": 28,
   "id": "2d87a95d",
   "metadata": {},
   "outputs": [
    {
     "data": {
      "text/plain": [
       "(se_vuela\n",
       " 0    569\n",
       " 1    569\n",
       " dtype: int64,\n",
       "                rsi  roll_vol   ema_vol   cruce_1   cruce_2   cruce_3\n",
       " se_vuela                                                            \n",
       " 0         0.535140  0.235621  0.679130  0.152341  0.150661  0.156053\n",
       " 1         0.521713  0.514675  1.250846 -0.106609 -0.049032 -0.186543)"
      ]
     },
     "execution_count": 28,
     "metadata": {},
     "output_type": "execute_result"
    }
   ],
   "source": [
    "X_us, Y_us = us.NearMiss().fit_resample(X,Y)\n",
    "df_us = pd.concat([X_us,Y_us], axis=1)\n",
    "df_us.groupby('se_vuela').size(),    df_us.groupby('se_vuela').mean()"
   ]
  },
  {
   "cell_type": "code",
   "execution_count": null,
   "id": "72e8e5be",
   "metadata": {},
   "outputs": [],
   "source": []
  },
  {
   "cell_type": "markdown",
   "id": "258a242a",
   "metadata": {},
   "source": [
    "# Criterio de Entropía e impureza de gini"
   ]
  },
  {
   "cell_type": "markdown",
   "id": "dcb7ddb0",
   "metadata": {},
   "source": [
    "## Fórmulas"
   ]
  },
  {
   "cell_type": "markdown",
   "id": "b4a9de8d",
   "metadata": {},
   "source": [
    "$$ {\\text{Ganancia de información, Entropia}}(S)= \\large - \\sum _{i=1}^{n}p_{i}\\log _{2}p_{i} $$"
   ]
  },
  {
   "cell_type": "markdown",
   "id": "4493eff2",
   "metadata": {},
   "source": [
    "$$ {\\text{Impureza de Gini} \\hspace{0.5cm}  \\large I_{G}(p)=\\sum _{i=1}^{m}p_{i}(1-p_{i})=\\sum _{i=1}^{m}(p_{i}-{p_{i}}^{2})=1-\\sum _{i=1}^{m}{p_{i}}^{2}} $$"
   ]
  },
  {
   "cell_type": "markdown",
   "id": "91420867",
   "metadata": {},
   "source": [
    "## Implementamos las funciones"
   ]
  },
  {
   "cell_type": "code",
   "execution_count": 33,
   "id": "31c9dcd0",
   "metadata": {},
   "outputs": [],
   "source": [
    "from math import log\n",
    "import numpy as np\n",
    "import pandas as pd\n",
    "\n",
    "def gini(p):\n",
    "    return 1 - (p**2 + (1-p)**2)\n",
    "\n",
    "def entropy(p, base=2):\n",
    "    try:\n",
    "        var =  abs(p*log(p, base)+(1-p)*log(1-p, base))\n",
    "        return var\n",
    "    except (ValueError):\n",
    "        return 0"
   ]
  },
  {
   "cell_type": "code",
   "execution_count": 34,
   "id": "0f20012f",
   "metadata": {},
   "outputs": [
    {
     "data": {
      "text/html": [
       "<div>\n",
       "<style scoped>\n",
       "    .dataframe tbody tr th:only-of-type {\n",
       "        vertical-align: middle;\n",
       "    }\n",
       "\n",
       "    .dataframe tbody tr th {\n",
       "        vertical-align: top;\n",
       "    }\n",
       "\n",
       "    .dataframe thead th {\n",
       "        text-align: right;\n",
       "    }\n",
       "</style>\n",
       "<table border=\"1\" class=\"dataframe\">\n",
       "  <thead>\n",
       "    <tr style=\"text-align: right;\">\n",
       "      <th></th>\n",
       "      <th>Gini</th>\n",
       "      <th>Entropy</th>\n",
       "    </tr>\n",
       "    <tr>\n",
       "      <th>P</th>\n",
       "      <th></th>\n",
       "      <th></th>\n",
       "    </tr>\n",
       "  </thead>\n",
       "  <tbody>\n",
       "    <tr>\n",
       "      <th>0.00</th>\n",
       "      <td>0.0000</td>\n",
       "      <td>0.000000</td>\n",
       "    </tr>\n",
       "    <tr>\n",
       "      <th>0.01</th>\n",
       "      <td>0.0198</td>\n",
       "      <td>0.080793</td>\n",
       "    </tr>\n",
       "    <tr>\n",
       "      <th>0.02</th>\n",
       "      <td>0.0392</td>\n",
       "      <td>0.141441</td>\n",
       "    </tr>\n",
       "    <tr>\n",
       "      <th>0.03</th>\n",
       "      <td>0.0582</td>\n",
       "      <td>0.194392</td>\n",
       "    </tr>\n",
       "    <tr>\n",
       "      <th>0.04</th>\n",
       "      <td>0.0768</td>\n",
       "      <td>0.242292</td>\n",
       "    </tr>\n",
       "    <tr>\n",
       "      <th>...</th>\n",
       "      <td>...</td>\n",
       "      <td>...</td>\n",
       "    </tr>\n",
       "    <tr>\n",
       "      <th>0.95</th>\n",
       "      <td>0.0950</td>\n",
       "      <td>0.286397</td>\n",
       "    </tr>\n",
       "    <tr>\n",
       "      <th>0.96</th>\n",
       "      <td>0.0768</td>\n",
       "      <td>0.242292</td>\n",
       "    </tr>\n",
       "    <tr>\n",
       "      <th>0.97</th>\n",
       "      <td>0.0582</td>\n",
       "      <td>0.194392</td>\n",
       "    </tr>\n",
       "    <tr>\n",
       "      <th>0.98</th>\n",
       "      <td>0.0392</td>\n",
       "      <td>0.141441</td>\n",
       "    </tr>\n",
       "    <tr>\n",
       "      <th>0.99</th>\n",
       "      <td>0.0198</td>\n",
       "      <td>0.080793</td>\n",
       "    </tr>\n",
       "  </tbody>\n",
       "</table>\n",
       "<p>100 rows × 2 columns</p>\n",
       "</div>"
      ],
      "text/plain": [
       "        Gini   Entropy\n",
       "P                     \n",
       "0.00  0.0000  0.000000\n",
       "0.01  0.0198  0.080793\n",
       "0.02  0.0392  0.141441\n",
       "0.03  0.0582  0.194392\n",
       "0.04  0.0768  0.242292\n",
       "...      ...       ...\n",
       "0.95  0.0950  0.286397\n",
       "0.96  0.0768  0.242292\n",
       "0.97  0.0582  0.194392\n",
       "0.98  0.0392  0.141441\n",
       "0.99  0.0198  0.080793\n",
       "\n",
       "[100 rows x 2 columns]"
      ]
     },
     "execution_count": 34,
     "metadata": {},
     "output_type": "execute_result"
    }
   ],
   "source": [
    "p_subas = np.linspace(0,1,100, endpoint=False)\n",
    "data_gini = [gini(x) for x in p_subas]\n",
    "data_entropy = [entropy(x) for x in p_subas]\n",
    "df = pd.DataFrame(zip(p_subas, data_gini, data_entropy), columns=['P','Gini','Entropy']).set_index('P')\n",
    "df"
   ]
  },
  {
   "cell_type": "code",
   "execution_count": 35,
   "id": "b833b4c0",
   "metadata": {},
   "outputs": [
    {
     "data": {
      "text/plain": [
       "<AxesSubplot:xlabel='P'>"
      ]
     },
     "execution_count": 35,
     "metadata": {},
     "output_type": "execute_result"
    },
    {
     "data": {
      "image/png": "[encoded data removed]",
      "text/plain": [
       "<Figure size 432x288 with 1 Axes>"
      ]
     },
     "metadata": {
      "needs_background": "light"
     },
     "output_type": "display_data"
    }
   ],
   "source": [
    "df.plot()"
   ]
  },
  {
   "cell_type": "code",
   "execution_count": 36,
   "id": "c075fb95",
   "metadata": {},
   "outputs": [
    {
     "data": {
      "text/plain": [
       "<AxesSubplot:xlabel='P'>"
      ]
     },
     "execution_count": 36,
     "metadata": {},
     "output_type": "execute_result"
    },
    {
     "data": {
      "image/png": "[encoded data removed]",
      "text/plain": [
       "<Figure size 432x288 with 1 Axes>"
      ]
     },
     "metadata": {
      "needs_background": "light"
     },
     "output_type": "display_data"
    }
   ],
   "source": [
    "df_escalada = df.copy()\n",
    "df_escalada['Entropy'] /= 2\n",
    "df_escalada.plot()"
   ]
  },
  {
   "cell_type": "markdown",
   "id": "9613a02a",
   "metadata": {},
   "source": [
    "## Sensibilidad, Derivamos"
   ]
  },
  {
   "cell_type": "code",
   "execution_count": 37,
   "id": "bbeb032e",
   "metadata": {},
   "outputs": [
    {
     "data": {
      "text/plain": [
       "Text(0.5, 1.0, 'Zona mas definida')"
      ]
     },
     "execution_count": 37,
     "metadata": {},
     "output_type": "execute_result"
    },
    {
     "data": {
      "image/png": "[encoded data removed]",
      "text/plain": [
       "<Figure size 1080x360 with 3 Axes>"
      ]
     },
     "metadata": {
      "needs_background": "light"
     },
     "output_type": "display_data"
    }
   ],
   "source": [
    "import matplotlib.pyplot as plt\n",
    "\n",
    "fig, ax = plt.subplots(figsize=(15,5), ncols=3)\n",
    "\n",
    "df.pct_change().plot(ax=ax[0])\n",
    "df.pct_change().plot(xlim=(.3,.7), ylim=(-.02,.02), ax=ax[1])\n",
    "df.pct_change().plot(xlim=(.8,1), ylim=(-.5,0), ax=ax[2])\n",
    "ax[1].set_title('Zona mas difusa')\n",
    "ax[2].set_title('Zona mas definida')"
   ]
  },
  {
   "cell_type": "code",
   "execution_count": 38,
   "id": "b7424592",
   "metadata": {},
   "outputs": [
    {
     "data": {
      "text/plain": [
       "Gini       0.067372\n",
       "Entropy    0.052136\n",
       "dtype: float64"
      ]
     },
     "execution_count": 38,
     "metadata": {},
     "output_type": "execute_result"
    }
   ],
   "source": [
    "tasas = df.pct_change().abs().iloc[2:]\n",
    "tasas.mean()"
   ]
  },
  {
   "cell_type": "code",
   "execution_count": null,
   "id": "ee894397",
   "metadata": {},
   "outputs": [],
   "source": []
  },
  {
   "cell_type": "code",
   "execution_count": null,
   "id": "2ff3e04c",
   "metadata": {},
   "outputs": [],
   "source": []
  },
  {
   "cell_type": "code",
   "execution_count": null,
   "id": "e34c41f9",
   "metadata": {},
   "outputs": [],
   "source": []
  }
 ],
 "metadata": {
  "kernelspec": {
   "display_name": "Python 3",
   "language": "python",
   "name": "python3"
  },
  "language_info": {
   "codemirror_mode": {
    "name": "ipython",
    "version": 3
   },
   "file_extension": ".py",
   "mimetype": "text/x-python",
   "name": "python",
   "nbconvert_exporter": "python",
   "pygments_lexer": "ipython3",
   "version": "3.8.5"
  },
  "toc": {
   "base_numbering": 1,
   "nav_menu": {},
   "number_sections": true,
   "sideBar": true,
   "skip_h1_title": false,
   "title_cell": "Table of Contents",
   "title_sidebar": "Contents",
   "toc_cell": false,
   "toc_position": {
    "height": "calc(100% - 180px)",
    "left": "10px",
    "top": "150px",
    "width": "361.825px"
   },
   "toc_section_display": true,
   "toc_window_display": true
  }
 },
 "nbformat": 4,
 "nbformat_minor": 5
}
