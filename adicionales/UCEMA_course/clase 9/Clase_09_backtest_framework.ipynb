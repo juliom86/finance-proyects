{
 "cells": [
  {
   "cell_type": "code",
   "execution_count": null,
   "id": "fe1ba552",
   "metadata": {},
   "outputs": [],
   "source": []
  },
  {
   "cell_type": "code",
   "execution_count": null,
   "id": "d56d1612",
   "metadata": {},
   "outputs": [],
   "source": []
  },
  {
   "cell_type": "code",
   "execution_count": null,
   "id": "9e3acecb",
   "metadata": {},
   "outputs": [],
   "source": []
  },
  {
   "cell_type": "code",
   "execution_count": null,
   "id": "e3241425",
   "metadata": {},
   "outputs": [],
   "source": []
  },
  {
   "cell_type": "code",
   "execution_count": null,
   "id": "90ad1cd3",
   "metadata": {},
   "outputs": [],
   "source": []
  },
  {
   "cell_type": "code",
   "execution_count": null,
   "id": "90463797",
   "metadata": {},
   "outputs": [],
   "source": []
  },
  {
   "cell_type": "markdown",
   "id": "856f1e01",
   "metadata": {},
   "source": [
    "# Imports"
   ]
  },
  {
   "cell_type": "code",
   "execution_count": null,
   "id": "6ab0ebeb",
   "metadata": {},
   "outputs": [],
   "source": []
  },
  {
   "cell_type": "code",
   "execution_count": 1,
   "id": "b06bcc6c",
   "metadata": {},
   "outputs": [],
   "source": [
    "import yfinance as yf\n",
    "import pandas as pd\n",
    "import numpy as np\n",
    "import datetime"
   ]
  },
  {
   "cell_type": "markdown",
   "id": "12457a56",
   "metadata": {},
   "source": [
    "# Funciones"
   ]
  },
  {
   "cell_type": "code",
   "execution_count": 2,
   "id": "7d0f065c",
   "metadata": {},
   "outputs": [],
   "source": [
    "def getData(ticker, start=None, end=None, src='yahoo'):\n",
    "    \"\"\"\n",
    "    Parameters:\n",
    "        ticker (str): Es el ticker a descargar\n",
    "        \n",
    "    Return:\n",
    "        Devuelve un dataframe con las columnas \"open\" ....\n",
    "        \n",
    "    \"\"\"\n",
    "    if src == 'yahoo':\n",
    "        data = yf.download(ticker, start=start, end=end, auto_adjust=True, progress=False)\n",
    "        data['vol_mln'] = data.Volume * data.Close / 10**6\n",
    "        data['chg'] = data.Close.pct_change()\n",
    "        data.columns = ['open', 'high', 'low', 'close', 'vol_n', 'vol_mln', 'pct_change']\n",
    "    else:\n",
    "        data = pd.DataFrame()\n",
    "        \n",
    "    \n",
    "    return data"
   ]
  },
  {
   "cell_type": "code",
   "execution_count": 3,
   "id": "67360263",
   "metadata": {},
   "outputs": [],
   "source": [
    "def addSignal(data,fast=5,slow=20, rsi_q=14, buy_cr=0, buy_rsi=60, sell_cr=0, sell_rsi=35):\n",
    "\n",
    "    data['Cruce'] = (data.close.rolling(fast).mean() /\n",
    "                     data.close.rolling(slow).mean() - 1) * 100\n",
    "\n",
    "    dif = data['close'].diff()\n",
    "    win = pd.DataFrame(np.where(dif > 0, dif, 0))\n",
    "    loss = pd.DataFrame(np.where(dif < 0, abs(dif), 0))\n",
    "    ema_win = win.ewm(alpha=1 / rsi_q).mean()\n",
    "    ema_loss = loss.ewm(alpha=1 / rsi_q).mean()\n",
    "    rs = ema_win / ema_loss\n",
    "    rsi = 100 - (100 / (1 + rs))\n",
    "    rsi.index = data.index\n",
    "    data['rsi'] = rsi\n",
    "\n",
    "    data['signal'] = 'Sin Señal'\n",
    "    comprar = (data.Cruce > buy_cr) & (data.rsi > buy_rsi)\n",
    "    data.loc[comprar, 'signal'] = 'Compra'\n",
    "\n",
    "    vender = (data.Cruce < sell_cr) & (data.rsi < sell_rsi) \n",
    "    data.loc[vender, 'signal'] = 'Venta'\n",
    "\n",
    "    return data"
   ]
  },
  {
   "cell_type": "code",
   "execution_count": 4,
   "id": "201ba219",
   "metadata": {},
   "outputs": [],
   "source": [
    "def getActions(data, tipo='long'):\n",
    "    \n",
    "    actions = data.loc[data.signal != 'Sin Señal'].copy()\n",
    "    actions['signal'] = np.where(actions.signal != actions.signal.shift(), actions.signal,'Sin Señal')\n",
    "    actions = actions.loc[actions.signal != 'Sin Señal'].copy()\n",
    "\n",
    "    # Este if es para que empiece comprado y termine vendiendo si es Long  o viceversa si es short\n",
    "    if len(actions) >2:\n",
    "        if tipo == 'long':\n",
    "            if actions.iloc[0].loc['signal'] == 'Venta':\n",
    "                actions = actions.iloc[1:]\n",
    "\n",
    "            if actions.iloc[-1].loc['signal'] == 'Compra':\n",
    "                actions = actions.iloc[:-1]\n",
    "\n",
    "        elif tipo == 'short':\n",
    "            if actions.iloc[0].loc['signal'] == 'Compra':\n",
    "                actions = actions.iloc[1:]\n",
    "\n",
    "            if actions.iloc[-1].loc['signal'] == 'Venta':\n",
    "                actions = actions.iloc[:-1]\n",
    "                \n",
    "        else:\n",
    "            print(f'Chouzeadas no permitidas: Solo tipo long o short, ingresaste {tipo}')\n",
    "            actions = None\n",
    "\n",
    "    return actions"
   ]
  },
  {
   "cell_type": "code",
   "execution_count": 5,
   "id": "3cd35821",
   "metadata": {},
   "outputs": [],
   "source": [
    "def getTrades(actions, tipo='long', CT=0):\n",
    "    \"\"\"\n",
    "    El CT es una cte con el costo transaccional que incluye:\n",
    "        - comision de la compra  0.03\n",
    "        - comision de la venta  0.03 (si es ...)\n",
    "        - comision del prestamo si es short\n",
    "        - derechos de mercado en compra\n",
    "        - derechos de mercado en venta\n",
    "        \n",
    "    \"\"\"\n",
    "    try:\n",
    "        pares = actions.iloc[::2].loc[:,['close']].reset_index()\n",
    "        impares = actions.iloc[1::2].loc[:,['close']].reset_index()\n",
    "        trades = pd.concat([pares, impares], axis=1)\n",
    "        \n",
    "        if tipo=='long':\n",
    "            trades.columns = ['fecha_compra','px_compra','fecha_venta','px_venta']\n",
    "            trades['rendimiento'] = trades.px_venta / trades.px_compra - 1\n",
    "            #trades['rendimiento'] -= CT\n",
    "            \n",
    "            trades['days'] = (trades.fecha_venta - trades.fecha_compra).dt.days\n",
    "\n",
    "        elif tipo=='short':\n",
    "            trades.columns = ['fecha_venta','px_venta', 'fecha_compra','px_compra']\n",
    "            trades['rendimiento'] = 1- trades.px_compra / trades.px_venta\n",
    "            trades['days'] = (trades.fecha_compra - trades.fecha_venta).dt.days\n",
    "\n",
    "        else:\n",
    "            trades = []\n",
    "            print(f'Chouzeadas no permitidas: Solo tipo long o short, ingresaste {tipo}')\n",
    "\n",
    "        if len(trades):\n",
    "            trades['resultado'] = np.where(trades['rendimiento'] > 0 , 'Ganador' , 'Perdedor')\n",
    "            trades['rendimientoAcumulado'] = (trades['rendimiento']+1).cumprod()\n",
    "\n",
    "    except:\n",
    "        print('Fallo en el ingreso de tabla de acciones')\n",
    "        trades = []\n",
    "        \n",
    "    return trades"
   ]
  },
  {
   "cell_type": "code",
   "execution_count": 6,
   "id": "f94aa875",
   "metadata": {},
   "outputs": [],
   "source": [
    "def resumen(trades):\n",
    "    \n",
    "    if len(trades):\n",
    "        resultado = float(trades.iloc[-1:].rendimientoAcumulado-1)\n",
    "        agg_cantidades = trades.groupby('resultado').size()\n",
    "        agg_rendimientos = trades.groupby('resultado').mean()['rendimiento']\n",
    "        agg_tiempos = trades.groupby('resultado').sum()['days']\n",
    "        agg_tiempos_medio = trades.groupby('resultado').mean()['days']\n",
    "\n",
    "        r = pd.concat([agg_cantidades,agg_rendimientos, agg_tiempos, agg_tiempos_medio ], axis=1)\n",
    "        r.columns = ['Cantidad', 'Rendimiento x Trade', 'Dias Total', 'Dias x Trade']\n",
    "        resumen = r.T\n",
    "        \n",
    "        try:\n",
    "            t_win = r['Dias Total']['Ganador'] \n",
    "        except:\n",
    "            t_win = 0\n",
    "            \n",
    "        try:\n",
    "            t_loss = r['Dias Total']['Perdedor']\n",
    "        except:\n",
    "            t_loss = 0\n",
    "\n",
    "        t = t_win + t_loss\n",
    "        tea = (resultado +1)**(365/t)-1 if t>0 else 0\n",
    "        \n",
    "        metricas = {'rendimiento':round(resultado,4), 'dias_in':round(t,4), 'TEA':round(tea,4)}\n",
    "    else:\n",
    "        resumen = pd.DataFrame()\n",
    "        metricas = {'rendimiento':0, 'dias_in':0, 'TEA':0}\n",
    "        \n",
    "    return resumen, metricas"
   ]
  },
  {
   "cell_type": "code",
   "execution_count": 7,
   "id": "782b1275",
   "metadata": {},
   "outputs": [],
   "source": [
    "def eventDrivenLong(df):\n",
    "    '''\n",
    "    El dataframe que le pasas como argumento tiene que tener al menos las columnas:\n",
    "        - signal: Compra o Venta el dia que da señal al precio de cierre \n",
    "        - pct_change: La variacion porcentual de los precios de cierre cada dia\n",
    "        \n",
    "    La funcion devuelve un df igual al pasado como argumento pero agregando la columna <strategy> \n",
    "        Dicha columna tiene 0 o el valor de pct_change\n",
    "        Para saber si un dia se está comprado o no, se toma la señal del dia anterior (precios de cierre)\n",
    "    '''\n",
    "    signals = df['signal'].tolist()\n",
    "    pct_changes = df['pct_change'].tolist()\n",
    "\n",
    "    total = len(signals)\n",
    "    i = 1\n",
    "    results = [0]\n",
    "    \n",
    "    while i < total:\n",
    "\n",
    "        if signals[i-1] == 'Compra' :\n",
    "\n",
    "            j = i\n",
    "            while  j < total:\n",
    "                results.append(pct_changes[j])         \n",
    "                j +=1\n",
    "\n",
    "                if signals[j-1]=='Venta'  :\n",
    "                    i = j\n",
    "                    break\n",
    "                if j == total:\n",
    "                    i = j\n",
    "                    print('Ojo que queda compra abierta..')\n",
    "                    break\n",
    "        else:\n",
    "            results.append(0)\n",
    "            i +=1\n",
    "\n",
    "    result = pd.concat ([df,pd.Series(data=results, index=df.index)], axis=1)\n",
    "    result.columns.values[-1] = \"strategy\"\n",
    "    return result"
   ]
  },
  {
   "cell_type": "markdown",
   "id": "28d6b178",
   "metadata": {},
   "source": [
    "## Uso de todo esto"
   ]
  },
  {
   "cell_type": "code",
   "execution_count": 8,
   "id": "058d710c",
   "metadata": {},
   "outputs": [],
   "source": [
    "data = getData('AAPL')"
   ]
  },
  {
   "cell_type": "code",
   "execution_count": 9,
   "id": "846b2c82",
   "metadata": {
    "scrolled": true
   },
   "outputs": [
    {
     "name": "stdout",
     "output_type": "stream",
     "text": [
      "resultado                Ganador    Perdedor\n",
      "Cantidad               18.000000    9.000000\n",
      "Rendimiento x Trade     0.585423   -0.143319\n",
      "Dias Total           5601.000000  747.000000\n",
      "Dias x Trade          311.166667   83.000000 \n",
      "\n",
      " {'rendimiento': 272.0055, 'dias_in': 6348, 'TEA': 0.3806}\n",
      "Wall time: 46.1 ms\n"
     ]
    }
   ],
   "source": [
    "%%time\n",
    "df = addSignal(data, fast=20, slow=60, rsi_q=14, buy_cr=5, buy_rsi=75, sell_cr=0, sell_rsi=35).dropna()\n",
    "actions = getActions(df, tipo='long')\n",
    "trades = getTrades(actions,  tipo='long')\n",
    "r, metricas = resumen(trades)\n",
    "final = eventDrivenLong(df)\n",
    "\n",
    "print(r, '\\n\\n',metricas)"
   ]
  },
  {
   "cell_type": "code",
   "execution_count": null,
   "id": "c026fd34",
   "metadata": {},
   "outputs": [],
   "source": []
  },
  {
   "cell_type": "code",
   "execution_count": null,
   "id": "7516387a",
   "metadata": {},
   "outputs": [],
   "source": []
  },
  {
   "cell_type": "code",
   "execution_count": null,
   "id": "1592cfe4",
   "metadata": {},
   "outputs": [],
   "source": []
  },
  {
   "cell_type": "code",
   "execution_count": null,
   "id": "ded892f7",
   "metadata": {},
   "outputs": [],
   "source": []
  },
  {
   "cell_type": "code",
   "execution_count": null,
   "id": "41d18dac",
   "metadata": {},
   "outputs": [],
   "source": []
  },
  {
   "cell_type": "code",
   "execution_count": 10,
   "id": "d498f34b",
   "metadata": {},
   "outputs": [
    {
     "data": {
      "text/plain": [
       "<AxesSubplot:xlabel='Date'>"
      ]
     },
     "execution_count": 10,
     "metadata": {},
     "output_type": "execute_result"
    },
    {
     "data": {
      "image/png": "[encoded data removed]",
      "text/plain": [
       "<Figure size 1080x432 with 1 Axes>"
      ]
     },
     "metadata": {
      "needs_background": "light"
     },
     "output_type": "display_data"
    }
   ],
   "source": [
    "# Preparo base 100 de HODL y estrategia\n",
    "res_buyHold = (final['pct_change']+1).cumprod()\n",
    "res_st = (final['strategy']+1).cumprod()\n",
    "\n",
    "# Concateno ambos\n",
    "compare = pd.concat([res_buyHold, res_st], axis=1)\n",
    "\n",
    "# Ploteo\n",
    "compare.plot(figsize=(15,6), logy=True, grid=True)"
   ]
  },
  {
   "cell_type": "code",
   "execution_count": 11,
   "id": "d3c9844e",
   "metadata": {},
   "outputs": [
    {
     "data": {
      "text/plain": [
       "<AxesSubplot:xlabel='Date'>"
      ]
     },
     "execution_count": 11,
     "metadata": {},
     "output_type": "execute_result"
    },
    {
     "data": {
      "image/png": "[encoded data removed]",
      "text/plain": [
       "<Figure size 864x432 with 1 Axes>"
      ]
     },
     "metadata": {
      "needs_background": "light"
     },
     "output_type": "display_data"
    }
   ],
   "source": [
    "yoy = final.loc[: , ['pct_change','strategy']].groupby(final.index.year).sum()\n",
    "\n",
    "yoy.plot(figsize=(12,6), kind='bar')"
   ]
  },
  {
   "cell_type": "code",
   "execution_count": null,
   "id": "ca328123",
   "metadata": {},
   "outputs": [],
   "source": []
  },
  {
   "cell_type": "markdown",
   "id": "ddc836d6",
   "metadata": {},
   "source": [
    "# EventDriven style: TIPS"
   ]
  },
  {
   "cell_type": "markdown",
   "id": "9bad88b9",
   "metadata": {},
   "source": [
    "## Iteracion: Formas y Performances"
   ]
  },
  {
   "cell_type": "code",
   "execution_count": 12,
   "id": "7acbd019",
   "metadata": {},
   "outputs": [
    {
     "name": "stdout",
     "output_type": "stream",
     "text": [
      "[*********************100%***********************]  1 of 1 completed\n"
     ]
    }
   ],
   "source": [
    "data = yf.download('AAPL', auto_adjust=True)\n",
    "iterable_df = data\n",
    "iterable_serie = data['Close']\n",
    "iterable_np = np.array(data['Close'].tolist())\n",
    "iterable_lista = data['Close'].to_list()\n",
    "iterable_tupla = tuple(iterable_lista)"
   ]
  },
  {
   "cell_type": "markdown",
   "id": "73bcfe3e",
   "metadata": {},
   "source": [
    "### Formas"
   ]
  },
  {
   "cell_type": "code",
   "execution_count": 13,
   "id": "4105cd17",
   "metadata": {},
   "outputs": [
    {
     "name": "stdout",
     "output_type": "stream",
     "text": [
      "0.09899868816137314\n"
     ]
    }
   ],
   "source": [
    "for i, (idx, row) in enumerate(iterable_df.iterrows()):\n",
    "    if i==5:\n",
    "        print(row.Close)"
   ]
  },
  {
   "cell_type": "code",
   "execution_count": 14,
   "id": "43564325",
   "metadata": {},
   "outputs": [
    {
     "name": "stdout",
     "output_type": "stream",
     "text": [
      "0.09899868816137314\n"
     ]
    }
   ],
   "source": [
    "for i, row in enumerate(iterable_serie):\n",
    "    if i==5:\n",
    "        print(row)"
   ]
  },
  {
   "cell_type": "code",
   "execution_count": 15,
   "id": "294c9b79",
   "metadata": {},
   "outputs": [
    {
     "name": "stdout",
     "output_type": "stream",
     "text": [
      "0.09899868816137314\n"
     ]
    }
   ],
   "source": [
    "for i, row in enumerate(iterable_np):\n",
    "    if i==5:\n",
    "        print(row)"
   ]
  },
  {
   "cell_type": "code",
   "execution_count": 16,
   "id": "8b202498",
   "metadata": {},
   "outputs": [
    {
     "name": "stdout",
     "output_type": "stream",
     "text": [
      "0.09899868816137314\n"
     ]
    }
   ],
   "source": [
    "for i in range(len(iterable_np)):\n",
    "    if i==5:\n",
    "        print(iterable_np[i])"
   ]
  },
  {
   "cell_type": "code",
   "execution_count": 17,
   "id": "bb5430e6",
   "metadata": {},
   "outputs": [
    {
     "name": "stdout",
     "output_type": "stream",
     "text": [
      "0.09899868816137314\n"
     ]
    }
   ],
   "source": [
    "for i, row in enumerate(iterable_lista):\n",
    "    if i==5:\n",
    "        print(row)"
   ]
  },
  {
   "cell_type": "code",
   "execution_count": 18,
   "id": "986a1c16",
   "metadata": {},
   "outputs": [
    {
     "name": "stdout",
     "output_type": "stream",
     "text": [
      "0.09899868816137314\n"
     ]
    }
   ],
   "source": [
    "for i in range(len(iterable_lista)):\n",
    "    if i==5:\n",
    "        print(iterable_lista[i])"
   ]
  },
  {
   "cell_type": "code",
   "execution_count": 19,
   "id": "c351353f",
   "metadata": {},
   "outputs": [
    {
     "name": "stdout",
     "output_type": "stream",
     "text": [
      "0.09899868816137314\n"
     ]
    }
   ],
   "source": [
    "for i, row in enumerate(iterable_tupla):\n",
    "    if i==5:\n",
    "        print(row)"
   ]
  },
  {
   "cell_type": "code",
   "execution_count": 20,
   "id": "798c0142",
   "metadata": {},
   "outputs": [
    {
     "name": "stdout",
     "output_type": "stream",
     "text": [
      "0.09899868816137314\n"
     ]
    }
   ],
   "source": [
    "for i in range(len(iterable_tupla)):\n",
    "    if i==5:\n",
    "        print(iterable_tupla[i])"
   ]
  },
  {
   "cell_type": "markdown",
   "id": "cc29a682",
   "metadata": {},
   "source": [
    "### Performances"
   ]
  },
  {
   "cell_type": "markdown",
   "id": "8725eb3c",
   "metadata": {},
   "source": [
    "#### Con Enumerate e Iterando los objetos"
   ]
  },
  {
   "cell_type": "code",
   "execution_count": 21,
   "id": "2768347c",
   "metadata": {},
   "outputs": [
    {
     "name": "stdout",
     "output_type": "stream",
     "text": [
      "320 ms ± 22.3 ms per loop (mean ± std. dev. of 7 runs, 1 loop each)\n"
     ]
    }
   ],
   "source": [
    "%%timeit\n",
    "for i, (idx, row) in enumerate(iterable_df.iterrows()):\n",
    "    if i==5:\n",
    "        a = row.Close"
   ]
  },
  {
   "cell_type": "code",
   "execution_count": 22,
   "id": "fd4d8da5",
   "metadata": {},
   "outputs": [
    {
     "name": "stdout",
     "output_type": "stream",
     "text": [
      "1.23 ms ± 16.5 µs per loop (mean ± std. dev. of 7 runs, 1000 loops each)\n"
     ]
    }
   ],
   "source": [
    "%%timeit\n",
    "for i, row in enumerate(iterable_serie):\n",
    "    if i==5:\n",
    "        a = row"
   ]
  },
  {
   "cell_type": "code",
   "execution_count": 23,
   "id": "997252c6",
   "metadata": {},
   "outputs": [
    {
     "name": "stdout",
     "output_type": "stream",
     "text": [
      "1.16 ms ± 33.3 µs per loop (mean ± std. dev. of 7 runs, 1000 loops each)\n"
     ]
    }
   ],
   "source": [
    "%%timeit\n",
    "for i, row in enumerate(iterable_np):\n",
    "    if i==5:\n",
    "        a = row"
   ]
  },
  {
   "cell_type": "code",
   "execution_count": 24,
   "id": "a623e770",
   "metadata": {},
   "outputs": [
    {
     "name": "stdout",
     "output_type": "stream",
     "text": [
      "559 µs ± 18.1 µs per loop (mean ± std. dev. of 7 runs, 1000 loops each)\n"
     ]
    }
   ],
   "source": [
    "%%timeit\n",
    "for i, row in enumerate(iterable_lista):\n",
    "    if i==5:\n",
    "        a = row"
   ]
  },
  {
   "cell_type": "code",
   "execution_count": 25,
   "id": "e25bda7d",
   "metadata": {},
   "outputs": [
    {
     "name": "stdout",
     "output_type": "stream",
     "text": [
      "559 µs ± 19.4 µs per loop (mean ± std. dev. of 7 runs, 1000 loops each)\n"
     ]
    }
   ],
   "source": [
    "%%timeit\n",
    "for i, row in enumerate(iterable_tupla):\n",
    "    if i==5:\n",
    "        a = row"
   ]
  },
  {
   "cell_type": "code",
   "execution_count": null,
   "id": "463ec356",
   "metadata": {},
   "outputs": [],
   "source": []
  },
  {
   "cell_type": "markdown",
   "id": "4b87238d",
   "metadata": {},
   "source": [
    "#### Con range y accediendo por afuera a los objetos"
   ]
  },
  {
   "cell_type": "code",
   "execution_count": 26,
   "id": "7301ed7b",
   "metadata": {},
   "outputs": [
    {
     "name": "stdout",
     "output_type": "stream",
     "text": [
      "487 µs ± 22 µs per loop (mean ± std. dev. of 7 runs, 1000 loops each)\n"
     ]
    }
   ],
   "source": [
    "%%timeit\n",
    "for i in range(len(iterable_df)):\n",
    "    if i==5:\n",
    "        a = iterable_df.iloc[i]"
   ]
  },
  {
   "cell_type": "code",
   "execution_count": 27,
   "id": "d23ab32e",
   "metadata": {},
   "outputs": [
    {
     "name": "stdout",
     "output_type": "stream",
     "text": [
      "395 µs ± 17.8 µs per loop (mean ± std. dev. of 7 runs, 1000 loops each)\n"
     ]
    }
   ],
   "source": [
    "%%timeit\n",
    "for i in range(len(iterable_serie)):\n",
    "    if i==5:\n",
    "        a = iterable_serie.iloc[i]"
   ]
  },
  {
   "cell_type": "code",
   "execution_count": 28,
   "id": "97b1d194",
   "metadata": {},
   "outputs": [
    {
     "name": "stdout",
     "output_type": "stream",
     "text": [
      "363 µs ± 11 µs per loop (mean ± std. dev. of 7 runs, 1000 loops each)\n"
     ]
    }
   ],
   "source": [
    "%%timeit\n",
    "for i in range(len(iterable_np)):\n",
    "    if i==5:\n",
    "        a = iterable_np[i]"
   ]
  },
  {
   "cell_type": "code",
   "execution_count": 29,
   "id": "5adb5dcc",
   "metadata": {},
   "outputs": [
    {
     "name": "stdout",
     "output_type": "stream",
     "text": [
      "379 µs ± 17.3 µs per loop (mean ± std. dev. of 7 runs, 1000 loops each)\n"
     ]
    }
   ],
   "source": [
    "%%timeit\n",
    "for i in range(len(iterable_lista)):\n",
    "    if i==5:\n",
    "        a= iterable_lista[i]"
   ]
  },
  {
   "cell_type": "code",
   "execution_count": 30,
   "id": "483280fb",
   "metadata": {},
   "outputs": [
    {
     "name": "stdout",
     "output_type": "stream",
     "text": [
      "371 µs ± 24.4 µs per loop (mean ± std. dev. of 7 runs, 1000 loops each)\n"
     ]
    }
   ],
   "source": [
    "%%timeit\n",
    "for i in range(len(iterable_tupla)):\n",
    "    if i==5:\n",
    "        a= iterable_tupla[i]"
   ]
  },
  {
   "cell_type": "code",
   "execution_count": null,
   "id": "67e26bc4",
   "metadata": {},
   "outputs": [],
   "source": []
  },
  {
   "cell_type": "code",
   "execution_count": null,
   "id": "62ca5d97",
   "metadata": {},
   "outputs": [],
   "source": []
  },
  {
   "cell_type": "code",
   "execution_count": null,
   "id": "d41942e2",
   "metadata": {},
   "outputs": [],
   "source": []
  },
  {
   "cell_type": "code",
   "execution_count": null,
   "id": "6ea10a68",
   "metadata": {},
   "outputs": [],
   "source": []
  },
  {
   "cell_type": "code",
   "execution_count": null,
   "id": "27bfa721",
   "metadata": {},
   "outputs": [],
   "source": []
  },
  {
   "cell_type": "code",
   "execution_count": null,
   "id": "9a009c38",
   "metadata": {},
   "outputs": [],
   "source": []
  },
  {
   "cell_type": "code",
   "execution_count": null,
   "id": "fbb51705",
   "metadata": {},
   "outputs": [],
   "source": []
  },
  {
   "cell_type": "code",
   "execution_count": null,
   "id": "0e2f09e9",
   "metadata": {},
   "outputs": [],
   "source": []
  },
  {
   "cell_type": "code",
   "execution_count": null,
   "id": "08f0333d",
   "metadata": {},
   "outputs": [],
   "source": []
  },
  {
   "cell_type": "code",
   "execution_count": null,
   "id": "1f43cf1f",
   "metadata": {},
   "outputs": [],
   "source": []
  },
  {
   "cell_type": "code",
   "execution_count": null,
   "id": "f9ad8aa5",
   "metadata": {},
   "outputs": [],
   "source": []
  },
  {
   "cell_type": "code",
   "execution_count": null,
   "id": "a54e2944",
   "metadata": {},
   "outputs": [],
   "source": []
  },
  {
   "cell_type": "code",
   "execution_count": null,
   "id": "2d751592",
   "metadata": {},
   "outputs": [],
   "source": []
  },
  {
   "cell_type": "code",
   "execution_count": null,
   "id": "ee81ced6",
   "metadata": {},
   "outputs": [],
   "source": []
  },
  {
   "cell_type": "code",
   "execution_count": null,
   "id": "1486bbc5",
   "metadata": {},
   "outputs": [],
   "source": []
  },
  {
   "cell_type": "code",
   "execution_count": null,
   "id": "3e6ac517",
   "metadata": {},
   "outputs": [],
   "source": []
  },
  {
   "cell_type": "markdown",
   "id": "51c4ab12",
   "metadata": {},
   "source": [
    "## Event-Driven Por que While y no FOR?"
   ]
  },
  {
   "cell_type": "code",
   "execution_count": 26,
   "id": "ed906839",
   "metadata": {},
   "outputs": [
    {
     "name": "stdout",
     "output_type": "stream",
     "text": [
      "0\n",
      "1\n",
      "2\n",
      "3\n",
      "4\n",
      "5\n",
      "6\n",
      "7\n",
      "8\n",
      "9\n"
     ]
    }
   ],
   "source": [
    "for i in range(10):\n",
    "    \n",
    "    print(i)\n",
    "    if i==5:\n",
    "        i=9"
   ]
  },
  {
   "cell_type": "code",
   "execution_count": 29,
   "id": "c7a774d5",
   "metadata": {},
   "outputs": [
    {
     "name": "stdout",
     "output_type": "stream",
     "text": [
      "0\n",
      "1\n",
      "2\n",
      "3\n",
      "4\n",
      "5\n",
      "10\n",
      "11\n",
      "12\n",
      "13\n",
      "14\n"
     ]
    }
   ],
   "source": [
    "i = 0\n",
    "\n",
    "while i < 15:\n",
    "    print(i)\n",
    "    \n",
    "    if i==5:\n",
    "        i=9\n",
    "    \n",
    "    i +=1"
   ]
  },
  {
   "cell_type": "code",
   "execution_count": null,
   "id": "56a26ed1",
   "metadata": {},
   "outputs": [],
   "source": []
  },
  {
   "cell_type": "code",
   "execution_count": null,
   "id": "4aef00aa",
   "metadata": {},
   "outputs": [],
   "source": []
  },
  {
   "cell_type": "code",
   "execution_count": null,
   "id": "3888dc13",
   "metadata": {},
   "outputs": [],
   "source": []
  },
  {
   "cell_type": "markdown",
   "id": "3adc1008",
   "metadata": {},
   "source": [
    "## Para probar en pythontutor"
   ]
  },
  {
   "cell_type": "code",
   "execution_count": 30,
   "id": "d4faa607",
   "metadata": {},
   "outputs": [
    {
     "name": "stdout",
     "output_type": "stream",
     "text": [
      "Ojo que queda compra abierta..\n"
     ]
    },
    {
     "data": {
      "text/plain": [
       "([0, 0, 0, 4, 5, 6, 0, 0, 0, 10], 10)"
      ]
     },
     "execution_count": 30,
     "metadata": {},
     "output_type": "execute_result"
    }
   ],
   "source": [
    "signals = ['-','-','Compra','-','-','Venta','-','-','Compra','-']\n",
    "pct_changes = [1,2,3,4,5,6,7,8,9,10]\n",
    "\n",
    "total = 10\n",
    "i = 1\n",
    "results = [0]\n",
    "\n",
    "while i < total:\n",
    "\n",
    "    if signals[i-1] == 'Compra':\n",
    "\n",
    "        j = i\n",
    "        while  j < total:\n",
    "            results.append(pct_changes[j])            \n",
    "            j +=1\n",
    "\n",
    "            if signals[j-1]=='Venta':\n",
    "                i = j\n",
    "                break\n",
    "            if j == total:\n",
    "                i = j\n",
    "                print('Ojo que queda compra abierta..')\n",
    "                break\n",
    "    else:\n",
    "        results.append(0)\n",
    "        i +=1\n",
    "\n",
    "results, len(results)"
   ]
  },
  {
   "cell_type": "code",
   "execution_count": null,
   "id": "db37f624",
   "metadata": {},
   "outputs": [],
   "source": []
  },
  {
   "cell_type": "code",
   "execution_count": null,
   "id": "c293d76d",
   "metadata": {},
   "outputs": [],
   "source": []
  },
  {
   "cell_type": "code",
   "execution_count": null,
   "id": "05f2ec9f",
   "metadata": {},
   "outputs": [],
   "source": []
  },
  {
   "cell_type": "code",
   "execution_count": null,
   "id": "8661dbcc",
   "metadata": {},
   "outputs": [],
   "source": []
  },
  {
   "cell_type": "code",
   "execution_count": null,
   "id": "703b8ca8",
   "metadata": {},
   "outputs": [],
   "source": []
  },
  {
   "cell_type": "markdown",
   "id": "c6a3efb3",
   "metadata": {},
   "source": [
    "# Analisis de sensibilidad básico"
   ]
  },
  {
   "cell_type": "markdown",
   "id": "283974a4",
   "metadata": {},
   "source": [
    "## Sensibilidad del \"q\" del RSI"
   ]
  },
  {
   "cell_type": "code",
   "execution_count": 31,
   "id": "2c368810",
   "metadata": {},
   "outputs": [],
   "source": [
    "data = getData('AMZN')\n",
    "results = []\n",
    "for i in range(5,50):\n",
    "\n",
    "    df = addSignal(data, fast=20, slow=60, rsi_q=i, buy_cr=2, buy_rsi=65, sell_cr=0, sell_rsi=35).dropna()\n",
    "    actions = getActions(df, tipo='long')\n",
    "    trades = getTrades(actions,  tipo='long')\n",
    "    r, metricas = resumen(trades)\n",
    "    \n",
    "    results.append(metricas)\n",
    "    \n",
    "df = pd.DataFrame(results, index=range(5,50))"
   ]
  },
  {
   "cell_type": "code",
   "execution_count": 32,
   "id": "7ff97fb5",
   "metadata": {},
   "outputs": [
    {
     "data": {
      "text/html": [
       "<div>\n",
       "<style scoped>\n",
       "    .dataframe tbody tr th:only-of-type {\n",
       "        vertical-align: middle;\n",
       "    }\n",
       "\n",
       "    .dataframe tbody tr th {\n",
       "        vertical-align: top;\n",
       "    }\n",
       "\n",
       "    .dataframe thead th {\n",
       "        text-align: right;\n",
       "    }\n",
       "</style>\n",
       "<table border=\"1\" class=\"dataframe\">\n",
       "  <thead>\n",
       "    <tr style=\"text-align: right;\">\n",
       "      <th></th>\n",
       "      <th>rendimiento</th>\n",
       "      <th>dias_in</th>\n",
       "      <th>TEA</th>\n",
       "    </tr>\n",
       "  </thead>\n",
       "  <tbody>\n",
       "    <tr>\n",
       "      <th>15</th>\n",
       "      <td>272.5061</td>\n",
       "      <td>5854.0</td>\n",
       "      <td>0.4189</td>\n",
       "    </tr>\n",
       "    <tr>\n",
       "      <th>16</th>\n",
       "      <td>166.9593</td>\n",
       "      <td>5807.0</td>\n",
       "      <td>0.3800</td>\n",
       "    </tr>\n",
       "    <tr>\n",
       "      <th>17</th>\n",
       "      <td>205.3993</td>\n",
       "      <td>6038.0</td>\n",
       "      <td>0.3801</td>\n",
       "    </tr>\n",
       "    <tr>\n",
       "      <th>18</th>\n",
       "      <td>180.7545</td>\n",
       "      <td>5247.0</td>\n",
       "      <td>0.4361</td>\n",
       "    </tr>\n",
       "    <tr>\n",
       "      <th>19</th>\n",
       "      <td>90.1475</td>\n",
       "      <td>5122.0</td>\n",
       "      <td>0.3793</td>\n",
       "    </tr>\n",
       "    <tr>\n",
       "      <th>20</th>\n",
       "      <td>266.3201</td>\n",
       "      <td>5260.0</td>\n",
       "      <td>0.4737</td>\n",
       "    </tr>\n",
       "    <tr>\n",
       "      <th>21</th>\n",
       "      <td>253.6410</td>\n",
       "      <td>5123.0</td>\n",
       "      <td>0.4839</td>\n",
       "    </tr>\n",
       "    <tr>\n",
       "      <th>22</th>\n",
       "      <td>237.3526</td>\n",
       "      <td>5277.0</td>\n",
       "      <td>0.4603</td>\n",
       "    </tr>\n",
       "    <tr>\n",
       "      <th>23</th>\n",
       "      <td>344.0116</td>\n",
       "      <td>5436.0</td>\n",
       "      <td>0.4805</td>\n",
       "    </tr>\n",
       "    <tr>\n",
       "      <th>24</th>\n",
       "      <td>405.9670</td>\n",
       "      <td>5542.0</td>\n",
       "      <td>0.4855</td>\n",
       "    </tr>\n",
       "    <tr>\n",
       "      <th>25</th>\n",
       "      <td>387.0067</td>\n",
       "      <td>5780.0</td>\n",
       "      <td>0.4571</td>\n",
       "    </tr>\n",
       "  </tbody>\n",
       "</table>\n",
       "</div>"
      ],
      "text/plain": [
       "    rendimiento  dias_in     TEA\n",
       "15     272.5061   5854.0  0.4189\n",
       "16     166.9593   5807.0  0.3800\n",
       "17     205.3993   6038.0  0.3801\n",
       "18     180.7545   5247.0  0.4361\n",
       "19      90.1475   5122.0  0.3793\n",
       "20     266.3201   5260.0  0.4737\n",
       "21     253.6410   5123.0  0.4839\n",
       "22     237.3526   5277.0  0.4603\n",
       "23     344.0116   5436.0  0.4805\n",
       "24     405.9670   5542.0  0.4855\n",
       "25     387.0067   5780.0  0.4571"
      ]
     },
     "execution_count": 32,
     "metadata": {},
     "output_type": "execute_result"
    }
   ],
   "source": [
    "df.loc[df.dias_in>0].loc[15:25]"
   ]
  },
  {
   "cell_type": "code",
   "execution_count": 33,
   "id": "856e950e",
   "metadata": {},
   "outputs": [
    {
     "data": {
      "text/plain": [
       "rendimiento    24\n",
       "dias_in        17\n",
       "TEA            24\n",
       "dtype: int64"
      ]
     },
     "execution_count": 33,
     "metadata": {},
     "output_type": "execute_result"
    }
   ],
   "source": [
    "df.idxmax()"
   ]
  },
  {
   "cell_type": "code",
   "execution_count": 34,
   "id": "b584e4f7",
   "metadata": {},
   "outputs": [
    {
     "data": {
      "image/png": "[encoded data removed]",
      "text/plain": [
       "<Figure size 1008x432 with 2 Axes>"
      ]
     },
     "metadata": {
      "needs_background": "light"
     },
     "output_type": "display_data"
    }
   ],
   "source": [
    "import matplotlib.pyplot as plt\n",
    "\n",
    "dfok = df.loc[df.dias_in>0].copy()\n",
    "\n",
    "fig, ax = plt.subplots(figsize=(14,6))\n",
    "\n",
    "ax.plot(dfok.rendimiento, label='Rendimiento')\n",
    "ax.legend(loc='upper left')\n",
    "\n",
    "ax2 = ax.twinx()\n",
    "ax2.plot(dfok.TEA, 'g--', label='TEA')\n",
    "ax2.legend(loc='upper right')\n",
    "\n",
    "plt.minorticks_on()\n",
    "ax.set_xticks(np.arange(15,25,1),minor=True)\n",
    "ax.grid(which='major', axis='both', color='k', lw=0.5, linestyle='-')\n",
    "ax.grid(which='minor', color='gray', lw=0.5, linestyle='--')"
   ]
  },
  {
   "cell_type": "code",
   "execution_count": null,
   "id": "d5672df2",
   "metadata": {},
   "outputs": [],
   "source": []
  },
  {
   "cell_type": "markdown",
   "id": "0020e26f",
   "metadata": {},
   "source": [
    "## Sensibilidad del RSI señal compra"
   ]
  },
  {
   "cell_type": "code",
   "execution_count": 35,
   "id": "e6364e62",
   "metadata": {},
   "outputs": [],
   "source": [
    "data = getData('AAPL')\n",
    "results = []\n",
    "\n",
    "for i in range(25,75):\n",
    "    df = addSignal(data, fast=20, slow=60, rsi_q=20, buy_cr=2, buy_rsi=i, sell_cr=0, sell_rsi=35).dropna()\n",
    "    actions = getActions(df, tipo='long')\n",
    "    trades = getTrades(actions,  tipo='long')\n",
    "    r, metricas = resumen(trades)\n",
    "    \n",
    "    results.append(metricas)\n",
    "    \n",
    "df = pd.DataFrame(results, index=range(25,75))"
   ]
  },
  {
   "cell_type": "code",
   "execution_count": 36,
   "id": "9a1a8c21",
   "metadata": {},
   "outputs": [
    {
     "data": {
      "text/plain": [
       "rendimiento    63\n",
       "dias_in        25\n",
       "TEA            73\n",
       "dtype: int64"
      ]
     },
     "execution_count": 36,
     "metadata": {},
     "output_type": "execute_result"
    }
   ],
   "source": [
    "df.loc[df.dias_in>0].idxmax()"
   ]
  },
  {
   "cell_type": "code",
   "execution_count": 37,
   "id": "3ff22530",
   "metadata": {},
   "outputs": [
    {
     "data": {
      "image/png": "[encoded data removed]",
      "text/plain": [
       "<Figure size 1008x432 with 2 Axes>"
      ]
     },
     "metadata": {
      "needs_background": "light"
     },
     "output_type": "display_data"
    }
   ],
   "source": [
    "import matplotlib.pyplot as plt\n",
    "\n",
    "dfok = df.loc[df.dias_in>0].copy()\n",
    "\n",
    "fig, ax = plt.subplots(figsize=(14,6))\n",
    "ax.plot(dfok.rendimiento, label='Rendimiento')\n",
    "ax.legend(loc='upper left')\n",
    "\n",
    "ax2 = ax.twinx()\n",
    "ax2.plot(dfok.TEA, 'g--', label='TEA')\n",
    "ax2.legend(loc='upper right')\n",
    "\n",
    "plt.minorticks_on()\n",
    "ax.grid(which='major', axis='both', color='k', lw=0.5, linestyle='-')\n",
    "ax.grid(which='minor', color='gray', lw=0.5, linestyle='--')"
   ]
  },
  {
   "cell_type": "code",
   "execution_count": null,
   "id": "7e36616f",
   "metadata": {},
   "outputs": [],
   "source": []
  },
  {
   "cell_type": "code",
   "execution_count": null,
   "id": "833a5eaf",
   "metadata": {},
   "outputs": [],
   "source": []
  },
  {
   "cell_type": "code",
   "execution_count": null,
   "id": "6579c679",
   "metadata": {},
   "outputs": [],
   "source": []
  },
  {
   "cell_type": "code",
   "execution_count": null,
   "id": "47cf34bc",
   "metadata": {},
   "outputs": [],
   "source": []
  },
  {
   "cell_type": "markdown",
   "id": "e8fa37b5",
   "metadata": {},
   "source": [
    "## Sensibilidad por montecarlo multivariable"
   ]
  },
  {
   "cell_type": "code",
   "execution_count": 38,
   "id": "f22bc290",
   "metadata": {},
   "outputs": [],
   "source": [
    "import random"
   ]
  },
  {
   "cell_type": "code",
   "execution_count": 39,
   "id": "59c7e1bd",
   "metadata": {},
   "outputs": [
    {
     "data": {
      "text/plain": [
       "(39, 64)"
      ]
     },
     "execution_count": 39,
     "metadata": {},
     "output_type": "execute_result"
    }
   ],
   "source": [
    "random_f = random.randrange(5,100)\n",
    "random_s = int(random_f * (random.random()+1))+1\n",
    "\n",
    "#random_s = random.randrange(random_f+1,150)\n",
    "random_f, random_s"
   ]
  },
  {
   "cell_type": "code",
   "execution_count": null,
   "id": "e60b92d0",
   "metadata": {},
   "outputs": [],
   "source": []
  },
  {
   "cell_type": "code",
   "execution_count": null,
   "id": "d142809c",
   "metadata": {},
   "outputs": [],
   "source": []
  },
  {
   "cell_type": "code",
   "execution_count": 40,
   "id": "27f7d9c3",
   "metadata": {},
   "outputs": [],
   "source": [
    "data = getData('AAPL')"
   ]
  },
  {
   "cell_type": "code",
   "execution_count": null,
   "id": "e727b1dc",
   "metadata": {},
   "outputs": [],
   "source": []
  },
  {
   "cell_type": "code",
   "execution_count": 41,
   "id": "d247a7c4",
   "metadata": {},
   "outputs": [
    {
     "name": "stdout",
     "output_type": "stream",
     "text": [
      "Wall time: 23.6 s  43_83_26      \n"
     ]
    },
    {
     "data": {
      "text/html": [
       "<div>\n",
       "<style scoped>\n",
       "    .dataframe tbody tr th:only-of-type {\n",
       "        vertical-align: middle;\n",
       "    }\n",
       "\n",
       "    .dataframe tbody tr th {\n",
       "        vertical-align: top;\n",
       "    }\n",
       "\n",
       "    .dataframe thead th {\n",
       "        text-align: right;\n",
       "    }\n",
       "</style>\n",
       "<table border=\"1\" class=\"dataframe\">\n",
       "  <thead>\n",
       "    <tr style=\"text-align: right;\">\n",
       "      <th></th>\n",
       "      <th>fast</th>\n",
       "      <th>slow</th>\n",
       "      <th>rsi_q</th>\n",
       "      <th>cant_trades</th>\n",
       "      <th>dias_in</th>\n",
       "      <th>TEA</th>\n",
       "      <th>rendimiento</th>\n",
       "    </tr>\n",
       "  </thead>\n",
       "  <tbody>\n",
       "    <tr>\n",
       "      <th>0</th>\n",
       "      <td>47</td>\n",
       "      <td>55</td>\n",
       "      <td>15</td>\n",
       "      <td>16</td>\n",
       "      <td>5207.0</td>\n",
       "      <td>0.4290</td>\n",
       "      <td>161.7313</td>\n",
       "    </tr>\n",
       "    <tr>\n",
       "      <th>1</th>\n",
       "      <td>37</td>\n",
       "      <td>43</td>\n",
       "      <td>19</td>\n",
       "      <td>13</td>\n",
       "      <td>4322.0</td>\n",
       "      <td>0.4329</td>\n",
       "      <td>69.7565</td>\n",
       "    </tr>\n",
       "    <tr>\n",
       "      <th>2</th>\n",
       "      <td>39</td>\n",
       "      <td>41</td>\n",
       "      <td>29</td>\n",
       "      <td>1</td>\n",
       "      <td>0.0</td>\n",
       "      <td>0.0000</td>\n",
       "      <td>NaN</td>\n",
       "    </tr>\n",
       "    <tr>\n",
       "      <th>3</th>\n",
       "      <td>40</td>\n",
       "      <td>43</td>\n",
       "      <td>29</td>\n",
       "      <td>1</td>\n",
       "      <td>0.0</td>\n",
       "      <td>0.0000</td>\n",
       "      <td>NaN</td>\n",
       "    </tr>\n",
       "    <tr>\n",
       "      <th>4</th>\n",
       "      <td>35</td>\n",
       "      <td>44</td>\n",
       "      <td>15</td>\n",
       "      <td>28</td>\n",
       "      <td>6050.0</td>\n",
       "      <td>0.2996</td>\n",
       "      <td>75.9733</td>\n",
       "    </tr>\n",
       "    <tr>\n",
       "      <th>...</th>\n",
       "      <td>...</td>\n",
       "      <td>...</td>\n",
       "      <td>...</td>\n",
       "      <td>...</td>\n",
       "      <td>...</td>\n",
       "      <td>...</td>\n",
       "      <td>...</td>\n",
       "    </tr>\n",
       "    <tr>\n",
       "      <th>995</th>\n",
       "      <td>44</td>\n",
       "      <td>73</td>\n",
       "      <td>22</td>\n",
       "      <td>15</td>\n",
       "      <td>8281.0</td>\n",
       "      <td>0.2939</td>\n",
       "      <td>344.7817</td>\n",
       "    </tr>\n",
       "    <tr>\n",
       "      <th>996</th>\n",
       "      <td>46</td>\n",
       "      <td>49</td>\n",
       "      <td>12</td>\n",
       "      <td>1</td>\n",
       "      <td>269.0</td>\n",
       "      <td>0.4379</td>\n",
       "      <td>0.3069</td>\n",
       "    </tr>\n",
       "    <tr>\n",
       "      <th>997</th>\n",
       "      <td>44</td>\n",
       "      <td>63</td>\n",
       "      <td>26</td>\n",
       "      <td>11</td>\n",
       "      <td>7534.0</td>\n",
       "      <td>0.3647</td>\n",
       "      <td>612.2233</td>\n",
       "    </tr>\n",
       "    <tr>\n",
       "      <th>998</th>\n",
       "      <td>39</td>\n",
       "      <td>66</td>\n",
       "      <td>11</td>\n",
       "      <td>38</td>\n",
       "      <td>8117.0</td>\n",
       "      <td>0.1487</td>\n",
       "      <td>20.8307</td>\n",
       "    </tr>\n",
       "    <tr>\n",
       "      <th>999</th>\n",
       "      <td>43</td>\n",
       "      <td>83</td>\n",
       "      <td>26</td>\n",
       "      <td>11</td>\n",
       "      <td>8216.0</td>\n",
       "      <td>0.3412</td>\n",
       "      <td>740.5616</td>\n",
       "    </tr>\n",
       "  </tbody>\n",
       "</table>\n",
       "<p>1000 rows × 7 columns</p>\n",
       "</div>"
      ],
      "text/plain": [
       "     fast  slow  rsi_q  cant_trades  dias_in     TEA  rendimiento\n",
       "0      47    55     15           16   5207.0  0.4290     161.7313\n",
       "1      37    43     19           13   4322.0  0.4329      69.7565\n",
       "2      39    41     29            1      0.0  0.0000          NaN\n",
       "3      40    43     29            1      0.0  0.0000          NaN\n",
       "4      35    44     15           28   6050.0  0.2996      75.9733\n",
       "..    ...   ...    ...          ...      ...     ...          ...\n",
       "995    44    73     22           15   8281.0  0.2939     344.7817\n",
       "996    46    49     12            1    269.0  0.4379       0.3069\n",
       "997    44    63     26           11   7534.0  0.3647     612.2233\n",
       "998    39    66     11           38   8117.0  0.1487      20.8307\n",
       "999    43    83     26           11   8216.0  0.3412     740.5616\n",
       "\n",
       "[1000 rows x 7 columns]"
      ]
     },
     "execution_count": 41,
     "metadata": {},
     "output_type": "execute_result"
    }
   ],
   "source": [
    "%%time\n",
    "\n",
    "results = []\n",
    "for i in range(1000):\n",
    "    random_f = random.randrange(35,50)\n",
    "    random_s = int(random_f * (random.random()+1))+1\n",
    "    random_rsi = random.randrange(10,30)\n",
    "\n",
    "    df = addSignal(data, fast=random_f, slow=random_s, rsi_q=random_rsi, buy_cr=2, buy_rsi=68, sell_cr=0, sell_rsi=35).dropna()\n",
    "    actions = getActions(df, tipo='long')\n",
    "    trades = getTrades(actions,  tipo='long')\n",
    "    r, metricas = resumen(trades)\n",
    "                \n",
    "    res = {\n",
    "        'fast':random_f, 'slow':random_s, 'rsi_q':random_rsi, \n",
    "         'cant_trades':len(trades), 'dias_in':metricas['dias_in'], \n",
    "         'TEA':metricas['TEA'], 'rendimiento':metricas['rendimiento']  \n",
    "        }\n",
    "    \n",
    "    results.append(res)\n",
    "    print(f\"Test {i}/1000  --  {random_f}_{random_s}_{random_rsi}      \", end='\\r')\n",
    "    \n",
    "df = pd.DataFrame(results)\n",
    "df"
   ]
  },
  {
   "cell_type": "code",
   "execution_count": 45,
   "id": "4347974e",
   "metadata": {},
   "outputs": [
    {
     "data": {
      "text/html": [
       "<div>\n",
       "<style scoped>\n",
       "    .dataframe tbody tr th:only-of-type {\n",
       "        vertical-align: middle;\n",
       "    }\n",
       "\n",
       "    .dataframe tbody tr th {\n",
       "        vertical-align: top;\n",
       "    }\n",
       "\n",
       "    .dataframe thead th {\n",
       "        text-align: right;\n",
       "    }\n",
       "</style>\n",
       "<table border=\"1\" class=\"dataframe\">\n",
       "  <thead>\n",
       "    <tr style=\"text-align: right;\">\n",
       "      <th></th>\n",
       "      <th>fast</th>\n",
       "      <th>slow</th>\n",
       "      <th>rsi_q</th>\n",
       "      <th>cant_trades</th>\n",
       "      <th>dias_in</th>\n",
       "      <th>TEA</th>\n",
       "      <th>rendimiento</th>\n",
       "    </tr>\n",
       "  </thead>\n",
       "  <tbody>\n",
       "    <tr>\n",
       "      <th>135</th>\n",
       "      <td>40</td>\n",
       "      <td>53</td>\n",
       "      <td>17</td>\n",
       "      <td>18</td>\n",
       "      <td>7678.0</td>\n",
       "      <td>0.4599</td>\n",
       "      <td>2862.1811</td>\n",
       "    </tr>\n",
       "    <tr>\n",
       "      <th>932</th>\n",
       "      <td>40</td>\n",
       "      <td>51</td>\n",
       "      <td>16</td>\n",
       "      <td>18</td>\n",
       "      <td>7614.0</td>\n",
       "      <td>0.4489</td>\n",
       "      <td>2286.7082</td>\n",
       "    </tr>\n",
       "    <tr>\n",
       "      <th>442</th>\n",
       "      <td>43</td>\n",
       "      <td>54</td>\n",
       "      <td>18</td>\n",
       "      <td>16</td>\n",
       "      <td>7799.0</td>\n",
       "      <td>0.4351</td>\n",
       "      <td>2248.6816</td>\n",
       "    </tr>\n",
       "    <tr>\n",
       "      <th>538</th>\n",
       "      <td>45</td>\n",
       "      <td>55</td>\n",
       "      <td>18</td>\n",
       "      <td>15</td>\n",
       "      <td>7675.0</td>\n",
       "      <td>0.4378</td>\n",
       "      <td>2069.2526</td>\n",
       "    </tr>\n",
       "    <tr>\n",
       "      <th>339</th>\n",
       "      <td>37</td>\n",
       "      <td>51</td>\n",
       "      <td>18</td>\n",
       "      <td>19</td>\n",
       "      <td>7805.0</td>\n",
       "      <td>0.4246</td>\n",
       "      <td>1933.4307</td>\n",
       "    </tr>\n",
       "    <tr>\n",
       "      <th>...</th>\n",
       "      <td>...</td>\n",
       "      <td>...</td>\n",
       "      <td>...</td>\n",
       "      <td>...</td>\n",
       "      <td>...</td>\n",
       "      <td>...</td>\n",
       "      <td>...</td>\n",
       "    </tr>\n",
       "    <tr>\n",
       "      <th>489</th>\n",
       "      <td>41</td>\n",
       "      <td>69</td>\n",
       "      <td>11</td>\n",
       "      <td>37</td>\n",
       "      <td>8201.0</td>\n",
       "      <td>0.1471</td>\n",
       "      <td>20.8277</td>\n",
       "    </tr>\n",
       "    <tr>\n",
       "      <th>567</th>\n",
       "      <td>49</td>\n",
       "      <td>79</td>\n",
       "      <td>10</td>\n",
       "      <td>35</td>\n",
       "      <td>8522.0</td>\n",
       "      <td>0.1399</td>\n",
       "      <td>20.2790</td>\n",
       "    </tr>\n",
       "    <tr>\n",
       "      <th>203</th>\n",
       "      <td>43</td>\n",
       "      <td>81</td>\n",
       "      <td>10</td>\n",
       "      <td>38</td>\n",
       "      <td>8598.0</td>\n",
       "      <td>0.1372</td>\n",
       "      <td>19.6727</td>\n",
       "    </tr>\n",
       "    <tr>\n",
       "      <th>243</th>\n",
       "      <td>47</td>\n",
       "      <td>80</td>\n",
       "      <td>11</td>\n",
       "      <td>34</td>\n",
       "      <td>8613.0</td>\n",
       "      <td>0.1369</td>\n",
       "      <td>19.6434</td>\n",
       "    </tr>\n",
       "    <tr>\n",
       "      <th>273</th>\n",
       "      <td>48</td>\n",
       "      <td>62</td>\n",
       "      <td>13</td>\n",
       "      <td>29</td>\n",
       "      <td>6620.0</td>\n",
       "      <td>0.1812</td>\n",
       "      <td>19.5068</td>\n",
       "    </tr>\n",
       "  </tbody>\n",
       "</table>\n",
       "<p>765 rows × 7 columns</p>\n",
       "</div>"
      ],
      "text/plain": [
       "     fast  slow  rsi_q  cant_trades  dias_in     TEA  rendimiento\n",
       "135    40    53     17           18   7678.0  0.4599    2862.1811\n",
       "932    40    51     16           18   7614.0  0.4489    2286.7082\n",
       "442    43    54     18           16   7799.0  0.4351    2248.6816\n",
       "538    45    55     18           15   7675.0  0.4378    2069.2526\n",
       "339    37    51     18           19   7805.0  0.4246    1933.4307\n",
       "..    ...   ...    ...          ...      ...     ...          ...\n",
       "489    41    69     11           37   8201.0  0.1471      20.8277\n",
       "567    49    79     10           35   8522.0  0.1399      20.2790\n",
       "203    43    81     10           38   8598.0  0.1372      19.6727\n",
       "243    47    80     11           34   8613.0  0.1369      19.6434\n",
       "273    48    62     13           29   6620.0  0.1812      19.5068\n",
       "\n",
       "[765 rows x 7 columns]"
      ]
     },
     "execution_count": 45,
     "metadata": {},
     "output_type": "execute_result"
    }
   ],
   "source": [
    "df.loc[df.cant_trades > 10].sort_values('rendimiento', ascending=False)"
   ]
  },
  {
   "cell_type": "code",
   "execution_count": null,
   "id": "28a46f4f",
   "metadata": {},
   "outputs": [],
   "source": []
  },
  {
   "cell_type": "code",
   "execution_count": null,
   "id": "edd3f7e1",
   "metadata": {},
   "outputs": [],
   "source": []
  },
  {
   "cell_type": "markdown",
   "id": "0d71b8ae",
   "metadata": {},
   "source": [
    "# Analisis de Portabilidad Básico"
   ]
  },
  {
   "cell_type": "code",
   "execution_count": 46,
   "id": "c0aa7bac",
   "metadata": {},
   "outputs": [
    {
     "name": "stdout",
     "output_type": "stream",
     "text": [
      "[*********************100%***********************]  505 of 505 completed\n"
     ]
    }
   ],
   "source": [
    "sp500 = pd.read_html('https://en.wikipedia.org/wiki/List_of_S%26P_500_companies')[0]\n",
    "sp500_tickers = list(sp500.Symbol)\n",
    "sp500_tickers = [e.replace('.','-') for e in sp500_tickers]\n",
    "data_sp500 = yf.download(sp500_tickers, start='1980-01-01')['Adj Close']"
   ]
  },
  {
   "cell_type": "code",
   "execution_count": 53,
   "id": "f52276ca",
   "metadata": {},
   "outputs": [
    {
     "name": "stdout",
     "output_type": "stream",
     "text": [
      "Wall time: 0 ns\n",
      "MMM..ABT..ABBV..ABMD..ACN..ATVI..ADBE..AMD..AAP..AES..AFL..A..APD..AKAM..ALK..ALB..ARE..ALXN..ALGN..ALLE..LNT..ALL..GOOGL..GOOG..MO..AMZN..AMCR..AEE..AAL..AEP..AXP..AIG..AMT..AWK..AMP..ABC..AME..AMGN..APH..ADI..ANSS..ANTM..AON..AOS..APA..AAPL..AMAT..APTV..ADM..ANET..AJG..AIZ..T..ATO..ADSK..ADP..AZO..AVB..AVY..BKR..BLL..BAC..BK..BAX..BDX..BRK-B..BBY..BIO..BIIB..BLK..BA..BKNG..BWA..BXP..BSX..BMY..AVGO..BR..BF-B..CHRW..COG..CDNS..CZR..CPB..COF..CAH..KMX..CCL..CARR..CTLT..CAT..CBOE..CBRE..CDW..CE..CNC..CNP..CERN..CF..CRL..SCHW..CHTR..CVX..CMG..CB..CHD..CI..CINF..CTAS..CSCO..C..CFG..CTXS..CLX..CME..CMS..KO..CTSH..CL..CMCSA..CMA..CAG..COP..ED..STZ..COO..CPRT..GLW..CTVA..COST..CCI..CSX..CMI..CVS..DHI..DHR..DRI..DVA..DE..DAL..XRAY..DVN..DXCM..FANG..DLR..DFS..DISCA..DISCK..DISH..DG..DLTR..D..DPZ..DOV..DOW..DTE..DUK..DRE..DD..DXC..EMN..ETN..EBAY..ECL..EIX..EW..EA..EMR..ENPH..ETR..EOG..EFX..EQIX..EQR..ESS..EL..ETSY..EVRG..ES..RE..EXC..EXPE..EXPD..EXR..XOM..FFIV..FB..FAST..FRT..FDX..FIS..FITB..FE..FRC..FISV..FLT..FMC..F..FTNT..FTV..FBHS..FOXA..FOX..BEN..FCX..GPS..GRMN..IT..GNRC..GD..GE..GIS..GM..GPC..GILD..GL..GPN..GS..GWW..HAL..HBI..HIG..HAS..HCA..PEAK..HSIC..HSY..HES..HPE..HLT..HFC..HOLX..HD..HON..HRL..HST..HWM..HPQ..HUM..HBAN..HII..IEX..IDXX..INFO..ITW..ILMN..INCY..IR..INTC..ICE..IBM..IP..IPG..IFF..INTU..ISRG..IVZ..IPGP..IQV..IRM..JKHY..J..JBHT..SJM..JNJ..JCI..JPM..JNPR..KSU..K..KEY..KEYS..KMB..KIM..KMI..KLAC..KHC..KR..LB..LHX..LH..LRCX..LW..LVS..LEG..LDOS..LEN..LLY..LNC..LIN..LYV..LKQ..LMT..L..LOW..LUMN..LYB..MTB..MRO..MPC..MKTX..MAR..MMC..MLM..MAS..MA..MKC..MXIM..MCD..MCK..MDT..MRK..MET..MTD..MGM..MCHP..MU..MSFT..MAA..MHK..TAP..MDLZ..MPWR..MNST..MCO..MS..MOS..MSI..MSCI..NDAQ..NTAP..NFLX..NWL..NEM..NWSA..NWS..NEE..NLSN..NKE..NI..NSC..NTRS..NOC..NLOK..NCLH..NOV..NRG..NUE..NVDA..NVR..NXPI..ORLY..OXY..ODFL..OMC..OKE..ORCL..OTIS..PCAR..PKG..PH..PAYX..PAYC..PYPL..PENN..PNR..PBCT..PEP..PKI..PRGO..PFE..PM..PSX..PNW..PXD..PNC..POOL..PPG..PPL..PFG..PG..PGR..PLD..PRU..PTC..PEG..PSA..PHM..PVH..QRVO..PWR..QCOM..DGX..RL..RJF..RTX..O..REG..REGN..RF..RSG..RMD..RHI..ROK..ROL..ROP..ROST..RCL..SPGI..CRM..SBAC..SLB..STX..SEE..SRE..NOW..SHW..SPG..SWKS..SNA..SO..LUV..SWK..SBUX..STT..STE..SYK..SIVB..SYF..SNPS..SYY..TMUS..TROW..TTWO..TPR..TGT..TEL..TDY..TFX..TER..TSLA..TXN..TXT..TMO..TJX..TSCO..TT..TDG..TRV..TRMB..TFC..TWTR..TYL..TSN..UDR..ULTA..USB..UAA..UA..UNP..UAL..UNH..UPS..URI..UHS..UNM..VLO..VTR..VRSN..VRSK..VZ..VRTX..VFC..VIAC..VTRS..V..VNO..VMC..WRB..WAB..WMT..WBA..DIS..WM..WAT..WEC..WFC..WELL..WST..WDC..WU..WRK..WY..WHR..WMB..WLTW..WYNN..XEL..XLNX..XYL..YUM..ZBRA..ZBH..ZION..ZTS.."
     ]
    },
    {
     "data": {
      "text/html": [
       "<div>\n",
       "<style scoped>\n",
       "    .dataframe tbody tr th:only-of-type {\n",
       "        vertical-align: middle;\n",
       "    }\n",
       "\n",
       "    .dataframe tbody tr th {\n",
       "        vertical-align: top;\n",
       "    }\n",
       "\n",
       "    .dataframe thead th {\n",
       "        text-align: right;\n",
       "    }\n",
       "</style>\n",
       "<table border=\"1\" class=\"dataframe\">\n",
       "  <thead>\n",
       "    <tr style=\"text-align: right;\">\n",
       "      <th></th>\n",
       "      <th>rendimiento</th>\n",
       "      <th>dias_in</th>\n",
       "      <th>TEA</th>\n",
       "      <th>ticker</th>\n",
       "    </tr>\n",
       "  </thead>\n",
       "  <tbody>\n",
       "    <tr>\n",
       "      <th>0</th>\n",
       "      <td>1.3897</td>\n",
       "      <td>3005.0</td>\n",
       "      <td>0.1116</td>\n",
       "      <td>MMM</td>\n",
       "    </tr>\n",
       "    <tr>\n",
       "      <th>1</th>\n",
       "      <td>3.6956</td>\n",
       "      <td>4568.0</td>\n",
       "      <td>0.1315</td>\n",
       "      <td>ABT</td>\n",
       "    </tr>\n",
       "    <tr>\n",
       "      <th>2</th>\n",
       "      <td>-0.2684</td>\n",
       "      <td>494.0</td>\n",
       "      <td>-0.2062</td>\n",
       "      <td>ABBV</td>\n",
       "    </tr>\n",
       "    <tr>\n",
       "      <th>3</th>\n",
       "      <td>1.2894</td>\n",
       "      <td>6401.0</td>\n",
       "      <td>0.0484</td>\n",
       "      <td>ABMD</td>\n",
       "    </tr>\n",
       "    <tr>\n",
       "      <th>4</th>\n",
       "      <td>1.1331</td>\n",
       "      <td>3065.0</td>\n",
       "      <td>0.0944</td>\n",
       "      <td>ACN</td>\n",
       "    </tr>\n",
       "    <tr>\n",
       "      <th>...</th>\n",
       "      <td>...</td>\n",
       "      <td>...</td>\n",
       "      <td>...</td>\n",
       "      <td>...</td>\n",
       "    </tr>\n",
       "    <tr>\n",
       "      <th>500</th>\n",
       "      <td>1.5184</td>\n",
       "      <td>2678.0</td>\n",
       "      <td>0.1342</td>\n",
       "      <td>YUM</td>\n",
       "    </tr>\n",
       "    <tr>\n",
       "      <th>501</th>\n",
       "      <td>2.8937</td>\n",
       "      <td>3973.0</td>\n",
       "      <td>0.1330</td>\n",
       "      <td>ZBRA</td>\n",
       "    </tr>\n",
       "    <tr>\n",
       "      <th>502</th>\n",
       "      <td>0.9042</td>\n",
       "      <td>2380.0</td>\n",
       "      <td>0.1038</td>\n",
       "      <td>ZBH</td>\n",
       "    </tr>\n",
       "    <tr>\n",
       "      <th>503</th>\n",
       "      <td>1.5558</td>\n",
       "      <td>6745.0</td>\n",
       "      <td>0.0521</td>\n",
       "      <td>ZION</td>\n",
       "    </tr>\n",
       "    <tr>\n",
       "      <th>504</th>\n",
       "      <td>0.6125</td>\n",
       "      <td>1163.0</td>\n",
       "      <td>0.1618</td>\n",
       "      <td>ZTS</td>\n",
       "    </tr>\n",
       "  </tbody>\n",
       "</table>\n",
       "<p>505 rows × 4 columns</p>\n",
       "</div>"
      ],
      "text/plain": [
       "     rendimiento  dias_in     TEA ticker\n",
       "0         1.3897   3005.0  0.1116    MMM\n",
       "1         3.6956   4568.0  0.1315    ABT\n",
       "2        -0.2684    494.0 -0.2062   ABBV\n",
       "3         1.2894   6401.0  0.0484   ABMD\n",
       "4         1.1331   3065.0  0.0944    ACN\n",
       "..           ...      ...     ...    ...\n",
       "500       1.5184   2678.0  0.1342    YUM\n",
       "501       2.8937   3973.0  0.1330   ZBRA\n",
       "502       0.9042   2380.0  0.1038    ZBH\n",
       "503       1.5558   6745.0  0.0521   ZION\n",
       "504       0.6125   1163.0  0.1618    ZTS\n",
       "\n",
       "[505 rows x 4 columns]"
      ]
     },
     "execution_count": 53,
     "metadata": {},
     "output_type": "execute_result"
    }
   ],
   "source": [
    "%time\n",
    "\n",
    "results = []\n",
    "for ticker in sp500_tickers[:]:\n",
    "    try:\n",
    "        \n",
    "        data = pd.DataFrame(data_sp500[ticker].copy())\n",
    "        data.columns=['close']\n",
    "        \n",
    "        df = addSignal(data, fast=40, slow=52, rsi_q=17, buy_cr=2, buy_rsi=68, sell_cr=0, sell_rsi=35).dropna()\n",
    "        actions = getActions(df, tipo='long')\n",
    "        trades = getTrades(actions,  tipo='long')\n",
    "        r, metricas = resumen(trades)\n",
    "        metricas['ticker'] = ticker\n",
    "        results.append(metricas)\n",
    "\n",
    "        print(ticker, end='..')\n",
    "    except:\n",
    "        s = \"\\n\"+ \"*\"*50 + \"\\n\"\n",
    "        print(s,\"Error con\",ticker,s)\n",
    "\n",
    "results_df = pd.DataFrame(results)\n",
    "results_df"
   ]
  },
  {
   "cell_type": "code",
   "execution_count": 54,
   "id": "b831ce47",
   "metadata": {},
   "outputs": [
    {
     "data": {
      "text/html": [
       "<div>\n",
       "<style scoped>\n",
       "    .dataframe tbody tr th:only-of-type {\n",
       "        vertical-align: middle;\n",
       "    }\n",
       "\n",
       "    .dataframe tbody tr th {\n",
       "        vertical-align: top;\n",
       "    }\n",
       "\n",
       "    .dataframe thead th {\n",
       "        text-align: right;\n",
       "    }\n",
       "</style>\n",
       "<table border=\"1\" class=\"dataframe\">\n",
       "  <thead>\n",
       "    <tr style=\"text-align: right;\">\n",
       "      <th></th>\n",
       "      <th>rendimiento</th>\n",
       "      <th>dias_in</th>\n",
       "      <th>TEA</th>\n",
       "      <th>ticker</th>\n",
       "    </tr>\n",
       "  </thead>\n",
       "  <tbody>\n",
       "    <tr>\n",
       "      <th>45</th>\n",
       "      <td>4174.7918</td>\n",
       "      <td>7864.0</td>\n",
       "      <td>0.4725</td>\n",
       "      <td>AAPL</td>\n",
       "    </tr>\n",
       "    <tr>\n",
       "      <th>461</th>\n",
       "      <td>393.3179</td>\n",
       "      <td>7815.0</td>\n",
       "      <td>0.3220</td>\n",
       "      <td>UNH</td>\n",
       "    </tr>\n",
       "    <tr>\n",
       "      <th>60</th>\n",
       "      <td>102.6434</td>\n",
       "      <td>7245.0</td>\n",
       "      <td>0.2634</td>\n",
       "      <td>BLL</td>\n",
       "    </tr>\n",
       "    <tr>\n",
       "      <th>196</th>\n",
       "      <td>27.2015</td>\n",
       "      <td>7167.0</td>\n",
       "      <td>0.1854</td>\n",
       "      <td>FMC</td>\n",
       "    </tr>\n",
       "    <tr>\n",
       "      <th>446</th>\n",
       "      <td>5.3192</td>\n",
       "      <td>7036.0</td>\n",
       "      <td>0.1004</td>\n",
       "      <td>TT</td>\n",
       "    </tr>\n",
       "    <tr>\n",
       "      <th>235</th>\n",
       "      <td>37.2799</td>\n",
       "      <td>7023.0</td>\n",
       "      <td>0.2086</td>\n",
       "      <td>HST</td>\n",
       "    </tr>\n",
       "    <tr>\n",
       "      <th>90</th>\n",
       "      <td>3.0700</td>\n",
       "      <td>6913.0</td>\n",
       "      <td>0.0769</td>\n",
       "      <td>CAT</td>\n",
       "    </tr>\n",
       "    <tr>\n",
       "      <th>232</th>\n",
       "      <td>333.7370</td>\n",
       "      <td>6904.0</td>\n",
       "      <td>0.3598</td>\n",
       "      <td>HD</td>\n",
       "    </tr>\n",
       "    <tr>\n",
       "      <th>402</th>\n",
       "      <td>144.4591</td>\n",
       "      <td>6887.0</td>\n",
       "      <td>0.3020</td>\n",
       "      <td>RHI</td>\n",
       "    </tr>\n",
       "    <tr>\n",
       "      <th>161</th>\n",
       "      <td>57.4143</td>\n",
       "      <td>6877.0</td>\n",
       "      <td>0.2410</td>\n",
       "      <td>ETN</td>\n",
       "    </tr>\n",
       "  </tbody>\n",
       "</table>\n",
       "</div>"
      ],
      "text/plain": [
       "     rendimiento  dias_in     TEA ticker\n",
       "45     4174.7918   7864.0  0.4725   AAPL\n",
       "461     393.3179   7815.0  0.3220    UNH\n",
       "60      102.6434   7245.0  0.2634    BLL\n",
       "196      27.2015   7167.0  0.1854    FMC\n",
       "446       5.3192   7036.0  0.1004     TT\n",
       "235      37.2799   7023.0  0.2086    HST\n",
       "90        3.0700   6913.0  0.0769    CAT\n",
       "232     333.7370   6904.0  0.3598     HD\n",
       "402     144.4591   6887.0  0.3020    RHI\n",
       "161      57.4143   6877.0  0.2410    ETN"
      ]
     },
     "execution_count": 54,
     "metadata": {},
     "output_type": "execute_result"
    }
   ],
   "source": [
    "results_df.loc[results_df.dias_in > 0].sort_values('dias_in', ascending=False).head(10)"
   ]
  },
  {
   "cell_type": "code",
   "execution_count": 68,
   "id": "a1a08858",
   "metadata": {},
   "outputs": [
    {
     "data": {
      "text/plain": [
       "<AxesSubplot:>"
      ]
     },
     "execution_count": 68,
     "metadata": {},
     "output_type": "execute_result"
    },
    {
     "data": {
      "image/png": "[encoded data removed]",
      "text/plain": [
       "<Figure size 432x288 with 1 Axes>"
      ]
     },
     "metadata": {
      "needs_background": "light"
     },
     "output_type": "display_data"
    }
   ],
   "source": [
    "re = results_df.loc[results_df.dias_in > 0].sort_values('TEA', ascending=False)\n",
    "\n",
    "re.dias_in.reset_index().rolling(30).mean().dias_in.plot()"
   ]
  },
  {
   "cell_type": "code",
   "execution_count": 56,
   "id": "5bd60069",
   "metadata": {},
   "outputs": [
    {
     "data": {
      "text/html": [
       "<div>\n",
       "<style scoped>\n",
       "    .dataframe tbody tr th:only-of-type {\n",
       "        vertical-align: middle;\n",
       "    }\n",
       "\n",
       "    .dataframe tbody tr th {\n",
       "        vertical-align: top;\n",
       "    }\n",
       "\n",
       "    .dataframe thead th {\n",
       "        text-align: right;\n",
       "    }\n",
       "</style>\n",
       "<table border=\"1\" class=\"dataframe\">\n",
       "  <thead>\n",
       "    <tr style=\"text-align: right;\">\n",
       "      <th></th>\n",
       "      <th>rendimiento</th>\n",
       "      <th>dias_in</th>\n",
       "      <th>TEA</th>\n",
       "      <th>ticker</th>\n",
       "    </tr>\n",
       "  </thead>\n",
       "  <tbody>\n",
       "    <tr>\n",
       "      <th>295</th>\n",
       "      <td>0.2529</td>\n",
       "      <td>80.0</td>\n",
       "      <td>1.7970</td>\n",
       "      <td>LUMN</td>\n",
       "    </tr>\n",
       "    <tr>\n",
       "      <th>168</th>\n",
       "      <td>48.7631</td>\n",
       "      <td>1690.0</td>\n",
       "      <td>1.3254</td>\n",
       "      <td>ENPH</td>\n",
       "    </tr>\n",
       "    <tr>\n",
       "      <th>176</th>\n",
       "      <td>13.2701</td>\n",
       "      <td>1458.0</td>\n",
       "      <td>0.9454</td>\n",
       "      <td>ETSY</td>\n",
       "    </tr>\n",
       "    <tr>\n",
       "      <th>410</th>\n",
       "      <td>185.5330</td>\n",
       "      <td>4443.0</td>\n",
       "      <td>0.5365</td>\n",
       "      <td>SBAC</td>\n",
       "    </tr>\n",
       "    <tr>\n",
       "      <th>331</th>\n",
       "      <td>88.0379</td>\n",
       "      <td>3842.0</td>\n",
       "      <td>0.5318</td>\n",
       "      <td>NFLX</td>\n",
       "    </tr>\n",
       "    <tr>\n",
       "      <th>...</th>\n",
       "      <td>...</td>\n",
       "      <td>...</td>\n",
       "      <td>...</td>\n",
       "      <td>...</td>\n",
       "    </tr>\n",
       "    <tr>\n",
       "      <th>154</th>\n",
       "      <td>-0.0934</td>\n",
       "      <td>81.0</td>\n",
       "      <td>-0.3571</td>\n",
       "      <td>DOW</td>\n",
       "    </tr>\n",
       "    <tr>\n",
       "      <th>363</th>\n",
       "      <td>-0.1249</td>\n",
       "      <td>93.0</td>\n",
       "      <td>-0.4077</td>\n",
       "      <td>PYPL</td>\n",
       "    </tr>\n",
       "    <tr>\n",
       "      <th>201</th>\n",
       "      <td>-0.1495</td>\n",
       "      <td>77.0</td>\n",
       "      <td>-0.5359</td>\n",
       "      <td>FOXA</td>\n",
       "    </tr>\n",
       "    <tr>\n",
       "      <th>202</th>\n",
       "      <td>-0.1532</td>\n",
       "      <td>78.0</td>\n",
       "      <td>-0.5408</td>\n",
       "      <td>FOX</td>\n",
       "    </tr>\n",
       "    <tr>\n",
       "      <th>128</th>\n",
       "      <td>-0.3428</td>\n",
       "      <td>40.0</td>\n",
       "      <td>-0.9783</td>\n",
       "      <td>CTVA</td>\n",
       "    </tr>\n",
       "  </tbody>\n",
       "</table>\n",
       "<p>504 rows × 4 columns</p>\n",
       "</div>"
      ],
      "text/plain": [
       "     rendimiento  dias_in     TEA ticker\n",
       "295       0.2529     80.0  1.7970   LUMN\n",
       "168      48.7631   1690.0  1.3254   ENPH\n",
       "176      13.2701   1458.0  0.9454   ETSY\n",
       "410     185.5330   4443.0  0.5365   SBAC\n",
       "331      88.0379   3842.0  0.5318   NFLX\n",
       "..           ...      ...     ...    ...\n",
       "154      -0.0934     81.0 -0.3571    DOW\n",
       "363      -0.1249     93.0 -0.4077   PYPL\n",
       "201      -0.1495     77.0 -0.5359   FOXA\n",
       "202      -0.1532     78.0 -0.5408    FOX\n",
       "128      -0.3428     40.0 -0.9783   CTVA\n",
       "\n",
       "[504 rows x 4 columns]"
      ]
     },
     "execution_count": 56,
     "metadata": {},
     "output_type": "execute_result"
    }
   ],
   "source": [
    "re"
   ]
  },
  {
   "cell_type": "code",
   "execution_count": 58,
   "id": "5c6325c9",
   "metadata": {
    "scrolled": true
   },
   "outputs": [
    {
     "data": {
      "text/plain": [
       "<AxesSubplot:ylabel='Frequency'>"
      ]
     },
     "execution_count": 58,
     "metadata": {},
     "output_type": "execute_result"
    },
    {
     "data": {
      "image/png": "[encoded data removed]",
      "text/plain": [
       "<Figure size 432x288 with 1 Axes>"
      ]
     },
     "metadata": {
      "needs_background": "light"
     },
     "output_type": "display_data"
    }
   ],
   "source": [
    "resok = results_df.dropna()\n",
    "resok['TEA'].plot(kind='hist', bins=100, xlim=(-.5,.5), grid=True)"
   ]
  },
  {
   "cell_type": "code",
   "execution_count": 60,
   "id": "5d0751ce",
   "metadata": {},
   "outputs": [
    {
     "data": {
      "text/plain": [
       "<AxesSubplot:ylabel='Density'>"
      ]
     },
     "execution_count": 60,
     "metadata": {},
     "output_type": "execute_result"
    },
    {
     "data": {
      "image/png": "[encoded data removed]",
      "text/plain": [
       "<Figure size 432x288 with 1 Axes>"
      ]
     },
     "metadata": {
      "needs_background": "light"
     },
     "output_type": "display_data"
    }
   ],
   "source": [
    "resok['TEA'].plot(kind='kde', xlim=(-.5,.5), grid=True)"
   ]
  },
  {
   "cell_type": "code",
   "execution_count": null,
   "id": "74a7f1ad",
   "metadata": {},
   "outputs": [],
   "source": []
  },
  {
   "cell_type": "code",
   "execution_count": 69,
   "id": "52dae648",
   "metadata": {},
   "outputs": [
    {
     "data": {
      "text/plain": [
       "0.11657638888888874"
      ]
     },
     "execution_count": 69,
     "metadata": {},
     "output_type": "execute_result"
    }
   ],
   "source": [
    "re.TEA.mean()"
   ]
  },
  {
   "cell_type": "code",
   "execution_count": null,
   "id": "e099ba20",
   "metadata": {},
   "outputs": [],
   "source": []
  }
 ],
 "metadata": {
  "kernelspec": {
   "display_name": "Python 3",
   "language": "python",
   "name": "python3"
  },
  "language_info": {
   "codemirror_mode": {
    "name": "ipython",
    "version": 3
   },
   "file_extension": ".py",
   "mimetype": "text/x-python",
   "name": "python",
   "nbconvert_exporter": "python",
   "pygments_lexer": "ipython3",
   "version": "3.8.5"
  },
  "toc": {
   "base_numbering": 1,
   "nav_menu": {},
   "number_sections": true,
   "sideBar": true,
   "skip_h1_title": false,
   "title_cell": "Table of Contents",
   "title_sidebar": "Contents",
   "toc_cell": false,
   "toc_position": {},
   "toc_section_display": true,
   "toc_window_display": false
  }
 },
 "nbformat": 4,
 "nbformat_minor": 5
}
