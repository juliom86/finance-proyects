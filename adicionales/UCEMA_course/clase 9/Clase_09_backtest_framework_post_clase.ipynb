{
 "cells": [
  {
   "cell_type": "code",
   "execution_count": 1,
   "id": "bda63ea4",
   "metadata": {},
   "outputs": [],
   "source": [
    "from funciones import *"
   ]
  },
  {
   "cell_type": "code",
   "execution_count": 7,
   "id": "0ad7e0db",
   "metadata": {},
   "outputs": [
    {
     "data": {
      "text/plain": [
       "{'dias_faltantes': 191,\n",
       " 'fecha_date': datetime.date(2021, 12, 9),\n",
       " 'fecha_datetime': datetime.datetime(2021, 12, 9, 0, 0),\n",
       " 'fecha_ISO': '2021-12-09',\n",
       " 'fecha_timestamp': 1639018800.0,\n",
       " 'fecha_TXT': 'Jueves 9 de diciembre de 2021'}"
      ]
     },
     "execution_count": 7,
     "metadata": {},
     "output_type": "execute_result"
    }
   ],
   "source": [
    "fecha(9,12,2021)"
   ]
  },
  {
   "cell_type": "code",
   "execution_count": null,
   "id": "a22203ec",
   "metadata": {},
   "outputs": [],
   "source": []
  },
  {
   "cell_type": "code",
   "execution_count": null,
   "id": "130fb31d",
   "metadata": {},
   "outputs": [],
   "source": []
  },
  {
   "cell_type": "markdown",
   "id": "24d015b4",
   "metadata": {},
   "source": [
    "# Imports"
   ]
  },
  {
   "cell_type": "code",
   "execution_count": null,
   "id": "b9fe6558",
   "metadata": {},
   "outputs": [],
   "source": []
  },
  {
   "cell_type": "code",
   "execution_count": 8,
   "id": "94656675",
   "metadata": {},
   "outputs": [],
   "source": [
    "import yfinance as yf\n",
    "import pandas as pd\n",
    "import numpy as np\n",
    "import datetime"
   ]
  },
  {
   "cell_type": "markdown",
   "id": "7afcb2cf",
   "metadata": {},
   "source": [
    "# Funciones"
   ]
  },
  {
   "cell_type": "code",
   "execution_count": 9,
   "id": "ecec32a9",
   "metadata": {},
   "outputs": [],
   "source": [
    "def getData(ticker, start=None, end=None, src='yahoo'):\n",
    "    \"\"\"\n",
    "    Parameters:\n",
    "        ticker (str): Es el ticker a descargar\n",
    "        \n",
    "    Return:\n",
    "        Devuelve un dataframe con las columnas \"open\" ....\n",
    "        \n",
    "    \"\"\"\n",
    "    if src == 'yahoo':\n",
    "        data = yf.download(ticker, start=start, end=end, auto_adjust=True, progress=False)\n",
    "        data['vol_mln'] = data.Volume * data.Close / 10**6\n",
    "        data['chg'] = data.Close.pct_change()\n",
    "        data.columns = ['open', 'high', 'low', 'close', 'vol_n', 'vol_mln', 'pct_change']\n",
    "                \n",
    "    else:\n",
    "        data = pd.DataFrame()\n",
    "        \n",
    "    \n",
    "    return data"
   ]
  },
  {
   "cell_type": "code",
   "execution_count": null,
   "id": "c7eef085",
   "metadata": {},
   "outputs": [],
   "source": []
  },
  {
   "cell_type": "code",
   "execution_count": 11,
   "id": "9789ee05",
   "metadata": {},
   "outputs": [],
   "source": [
    "def addSignal(data, fast=5, slow=20, rsi_q=14, buy_cr=0, buy_rsi=60, sell_cr=0, sell_rsi=35):\n",
    "    \"\"\"\n",
    "    Ya asumo que el dataframe data viene con la columna 'close'\n",
    "    \"\"\"\n",
    "    \n",
    "    data['Cruce'] = (data.close.rolling(fast).mean() /\n",
    "                     data.close.rolling(slow).mean() - 1) * 100\n",
    "\n",
    "    dif = data['close'].diff()\n",
    "    win = pd.DataFrame(np.where(dif > 0, dif, 0))\n",
    "    loss = pd.DataFrame(np.where(dif < 0, abs(dif), 0))\n",
    "    ema_win = win.ewm(alpha=1 / rsi_q).mean()\n",
    "    ema_loss = loss.ewm(alpha=1 / rsi_q).mean()\n",
    "    rs = ema_win / ema_loss\n",
    "    rsi = 100 - (100 / (1 + rs))\n",
    "    rsi.index = data.index\n",
    "    data['rsi'] = rsi\n",
    "\n",
    "    data['signal'] = 'Sin Señal'\n",
    "    comprar = (data.Cruce > buy_cr) & (data.rsi > buy_rsi)\n",
    "    data.loc[comprar, 'signal'] = 'Compra'\n",
    "\n",
    "    vender = (data.Cruce < sell_cr) & (data.rsi < sell_rsi) \n",
    "    data.loc[vender, 'signal'] = 'Venta'\n",
    "\n",
    "    return data"
   ]
  },
  {
   "cell_type": "code",
   "execution_count": null,
   "id": "e5c797fd",
   "metadata": {},
   "outputs": [],
   "source": []
  },
  {
   "cell_type": "code",
   "execution_count": null,
   "id": "d32885b1",
   "metadata": {},
   "outputs": [],
   "source": [
    "# BUG "
   ]
  },
  {
   "cell_type": "code",
   "execution_count": null,
   "id": "913657c6",
   "metadata": {},
   "outputs": [],
   "source": []
  },
  {
   "cell_type": "code",
   "execution_count": null,
   "id": "c8502997",
   "metadata": {},
   "outputs": [],
   "source": []
  },
  {
   "cell_type": "code",
   "execution_count": 14,
   "id": "bf188b5f",
   "metadata": {},
   "outputs": [],
   "source": [
    "def getActions(data, tipo='long'):\n",
    "    \"\"\"\n",
    "    Estoy asumiendo que el dataframe data tiene una columna que se llama Signal que tiene Compra, Venta o Sin Señal\n",
    "    \"\"\"\n",
    "    actions = data.loc[data.signal != 'Sin Señal'].copy()\n",
    "    actions['signal'] = np.where(actions.signal != actions.signal.shift(), actions.signal,'Sin Señal')\n",
    "    actions = actions.loc[actions.signal != 'Sin Señal'].copy()\n",
    "\n",
    "    # Este if es para que empiece comprado y termine vendiendo si es Long  o viceversa si es short\n",
    "    if len(actions) > 2:\n",
    "        if tipo == 'long':\n",
    "            if actions.iloc[0].loc['signal'] == 'Venta':\n",
    "                actions = actions.iloc[1:]\n",
    "\n",
    "            if actions.iloc[-1].loc['signal'] == 'Compra':\n",
    "                actions = actions.iloc[:-1]\n",
    "\n",
    "        elif tipo == 'short':\n",
    "            if actions.iloc[0].loc['signal'] == 'Compra':\n",
    "                actions = actions.iloc[1:]\n",
    "\n",
    "            if actions.iloc[-1].loc['signal'] == 'Venta':\n",
    "                actions = actions.iloc[:-1]\n",
    "                \n",
    "        else:\n",
    "            print(f'Chouzeadas no permitidas: Solo tipo long o short, ingresaste {tipo}')\n",
    "            actions = None\n",
    "\n",
    "    return actions"
   ]
  },
  {
   "cell_type": "code",
   "execution_count": null,
   "id": "38e611ae",
   "metadata": {},
   "outputs": [],
   "source": []
  },
  {
   "cell_type": "code",
   "execution_count": 23,
   "id": "6e06eded",
   "metadata": {},
   "outputs": [],
   "source": [
    "def getTrades(actions, tipo='long', CT=0):\n",
    "    \"\"\"\n",
    "    El CT es una cte con el costo transaccional que incluye:\n",
    "        - comision de la compra  0.03\n",
    "        - comision de la venta  0.03 (si es ...)\n",
    "        - comision del prestamo si es short\n",
    "        - derechos de mercado en compra\n",
    "        - derechos de mercado en venta \n",
    "        - spread bid/ask\n",
    "    \"\"\"\n",
    "    \n",
    "    try:\n",
    "        pares = actions.iloc[::2].loc[:,['close']].reset_index()\n",
    "        impares = actions.iloc[1::2].loc[:,['close']].reset_index()\n",
    "        trades = pd.concat([pares, impares], axis=1)\n",
    "        \n",
    "        if tipo=='long':\n",
    "            trades.columns = ['fecha_compra','px_compra','fecha_venta','px_venta']\n",
    "            trades['rendimiento'] = trades.px_venta / trades.px_compra - 1\n",
    "            #trades['rendimiento'] -= CT\n",
    "            \n",
    "            trades['days'] = (trades.fecha_venta - trades.fecha_compra).dt.days\n",
    "\n",
    "        elif tipo=='short':\n",
    "            trades.columns = ['fecha_venta','px_venta', 'fecha_compra','px_compra']\n",
    "            trades['rendimiento'] = 1- trades.px_compra / trades.px_venta\n",
    "            trades['days'] = (trades.fecha_compra - trades.fecha_venta).dt.days\n",
    "\n",
    "        else:\n",
    "            trades = []\n",
    "            print(f'Chouzeadas no permitidas: Solo tipo long o short, ingresaste {tipo}')\n",
    "\n",
    "        if len(trades):\n",
    "            trades['resultado'] = np.where(trades['rendimiento'] > 0 , 'Ganador' , 'Perdedor')\n",
    "            trades['rendimientoAcumulado'] = (trades['rendimiento']+1).cumprod()\n",
    "\n",
    "    except:\n",
    "        print('Fallo en el ingreso de tabla de acciones')\n",
    "        trades = []\n",
    "        \n",
    "    return trades"
   ]
  },
  {
   "cell_type": "code",
   "execution_count": null,
   "id": "afd49c53",
   "metadata": {},
   "outputs": [],
   "source": []
  },
  {
   "cell_type": "code",
   "execution_count": 26,
   "id": "f9e70cef",
   "metadata": {},
   "outputs": [],
   "source": [
    "def resumen(trades):\n",
    "    \n",
    "    if len(trades):\n",
    "        resultado = float(trades.iloc[-1:].rendimientoAcumulado-1)\n",
    "        agg_cantidades = trades.groupby('resultado').size()\n",
    "        agg_rendimientos = trades.groupby('resultado').mean()['rendimiento']\n",
    "        agg_tiempos = trades.groupby('resultado').sum()['days']\n",
    "        agg_tiempos_medio = trades.groupby('resultado').mean()['days']\n",
    "\n",
    "        r = pd.concat([agg_cantidades,agg_rendimientos, agg_tiempos, agg_tiempos_medio ], axis=1)\n",
    "        r.columns = ['Cantidad', 'Rendimiento x Trade', 'Dias Total', 'Dias x Trade']\n",
    "        resumen = r.T\n",
    "        \n",
    "        try:\n",
    "            t_win = r['Dias Total']['Ganador'] \n",
    "        except:\n",
    "            t_win = 0\n",
    "            \n",
    "        try:\n",
    "            t_loss = r['Dias Total']['Perdedor']\n",
    "        except:\n",
    "            t_loss = 0\n",
    "\n",
    "        t = t_win + t_loss\n",
    "        tea = (resultado +1)**(365/t)-1 if t > 0 else 0\n",
    "        \n",
    "        metricas = {'rendimiento':round(resultado,4), 'dias_in':round(t,4), 'TEA':round(tea,4)}\n",
    "    else:\n",
    "        resumen = pd.DataFrame()\n",
    "        metricas = {'rendimiento':0, 'dias_in':0, 'TEA':0}\n",
    "        \n",
    "    return resumen, metricas"
   ]
  },
  {
   "cell_type": "code",
   "execution_count": 29,
   "id": "749ec182",
   "metadata": {},
   "outputs": [],
   "source": [
    "def eventDrivenLong(df):\n",
    "    '''\n",
    "    El dataframe que le pasas como argumento tiene que tener al menos las columnas:\n",
    "        - signal: Compra o Venta el dia que da señal al precio de cierre \n",
    "        - pct_change: La variacion porcentual de los precios de cierre cada dia\n",
    "        \n",
    "    La funcion devuelve un df igual al pasado como argumento pero agregando la columna <strategy> \n",
    "        Dicha columna tiene 0 o el valor de pct_change\n",
    "        Para saber si un dia se está comprado o no, se toma la señal del dia anterior (precios de cierre)\n",
    "    '''\n",
    "    signals = df['signal'].tolist()\n",
    "    pct_changes = df['pct_change'].tolist()\n",
    "\n",
    "    total = len(signals)\n",
    "    i = 1\n",
    "    results = [0]\n",
    "    \n",
    "    while i < total:\n",
    "\n",
    "        if signals[i-1] == 'Compra' :\n",
    "\n",
    "            j = i\n",
    "            while  j < total:\n",
    "                results.append(pct_changes[j])         \n",
    "                j +=1\n",
    "\n",
    "                if signals[j-1]=='Venta'  :\n",
    "                    i = j\n",
    "                    break\n",
    "                if j == total:\n",
    "                    i = j\n",
    "                    print('Ojo que queda compra abierta..')\n",
    "                    break\n",
    "        else:\n",
    "            results.append(0)\n",
    "            i +=1\n",
    "\n",
    "    result = pd.concat ([df,pd.Series(data=results, index=df.index)], axis=1)\n",
    "    result.columns.values[-1] = \"strategy\"\n",
    "    return result"
   ]
  },
  {
   "cell_type": "markdown",
   "id": "b26c223b",
   "metadata": {},
   "source": [
    "## Uso de todo esto"
   ]
  },
  {
   "cell_type": "code",
   "execution_count": null,
   "id": "b26835eb",
   "metadata": {},
   "outputs": [],
   "source": []
  },
  {
   "cell_type": "code",
   "execution_count": null,
   "id": "2420abd3",
   "metadata": {},
   "outputs": [],
   "source": []
  },
  {
   "cell_type": "code",
   "execution_count": null,
   "id": "4f96dce5",
   "metadata": {},
   "outputs": [],
   "source": []
  },
  {
   "cell_type": "code",
   "execution_count": null,
   "id": "9b55a57a",
   "metadata": {},
   "outputs": [],
   "source": []
  },
  {
   "cell_type": "code",
   "execution_count": null,
   "id": "73d6f504",
   "metadata": {},
   "outputs": [],
   "source": []
  },
  {
   "cell_type": "code",
   "execution_count": 30,
   "id": "db1d2459",
   "metadata": {},
   "outputs": [],
   "source": [
    "data = getData('AAPL')"
   ]
  },
  {
   "cell_type": "code",
   "execution_count": 33,
   "id": "6392217b",
   "metadata": {
    "scrolled": true
   },
   "outputs": [
    {
     "name": "stdout",
     "output_type": "stream",
     "text": [
      "resultado                Ganador    Perdedor\n",
      "Cantidad               18.000000    9.000000\n",
      "Rendimiento x Trade     0.585423   -0.143319\n",
      "Dias Total           5601.000000  747.000000\n",
      "Dias x Trade          311.166667   83.000000 \n",
      "\n",
      " {'rendimiento': 272.0055, 'dias_in': 6348, 'TEA': 0.3806}\n",
      "Wall time: 43.5 ms\n"
     ]
    }
   ],
   "source": [
    "%%time\n",
    "df = addSignal(data, fast=20, slow=60, rsi_q=14, buy_cr=5, buy_rsi=75, sell_cr=0, sell_rsi=35).dropna()\n",
    "actions = getActions(df, tipo='long')\n",
    "trades = getTrades(actions,  tipo='long')\n",
    "r, metricas = resumen(trades)\n",
    "final = eventDrivenLong(df)\n",
    "\n",
    "print(r, '\\n\\n',metricas)"
   ]
  },
  {
   "cell_type": "code",
   "execution_count": 34,
   "id": "6e1c7e77",
   "metadata": {},
   "outputs": [
    {
     "data": {
      "text/html": [
       "<div>\n",
       "<style scoped>\n",
       "    .dataframe tbody tr th:only-of-type {\n",
       "        vertical-align: middle;\n",
       "    }\n",
       "\n",
       "    .dataframe tbody tr th {\n",
       "        vertical-align: top;\n",
       "    }\n",
       "\n",
       "    .dataframe thead th {\n",
       "        text-align: right;\n",
       "    }\n",
       "</style>\n",
       "<table border=\"1\" class=\"dataframe\">\n",
       "  <thead>\n",
       "    <tr style=\"text-align: right;\">\n",
       "      <th></th>\n",
       "      <th>open</th>\n",
       "      <th>high</th>\n",
       "      <th>low</th>\n",
       "      <th>close</th>\n",
       "      <th>vol_n</th>\n",
       "      <th>vol_mln</th>\n",
       "      <th>pct_change</th>\n",
       "      <th>Cruce</th>\n",
       "      <th>rsi</th>\n",
       "      <th>signal</th>\n",
       "      <th>strategy</th>\n",
       "    </tr>\n",
       "    <tr>\n",
       "      <th>Date</th>\n",
       "      <th></th>\n",
       "      <th></th>\n",
       "      <th></th>\n",
       "      <th></th>\n",
       "      <th></th>\n",
       "      <th></th>\n",
       "      <th></th>\n",
       "      <th></th>\n",
       "      <th></th>\n",
       "      <th></th>\n",
       "      <th></th>\n",
       "    </tr>\n",
       "  </thead>\n",
       "  <tbody>\n",
       "    <tr>\n",
       "      <th>1981-03-10</th>\n",
       "      <td>0.079286</td>\n",
       "      <td>0.079286</td>\n",
       "      <td>0.078848</td>\n",
       "      <td>0.078848</td>\n",
       "      <td>28380800</td>\n",
       "      <td>2.237776</td>\n",
       "      <td>-0.047625</td>\n",
       "      <td>-11.876356</td>\n",
       "      <td>30.729464</td>\n",
       "      <td>Venta</td>\n",
       "      <td>0.0</td>\n",
       "    </tr>\n",
       "    <tr>\n",
       "      <th>1981-03-11</th>\n",
       "      <td>0.076658</td>\n",
       "      <td>0.076658</td>\n",
       "      <td>0.075782</td>\n",
       "      <td>0.075782</td>\n",
       "      <td>29859200</td>\n",
       "      <td>2.262792</td>\n",
       "      <td>-0.038887</td>\n",
       "      <td>-12.488295</td>\n",
       "      <td>28.266326</td>\n",
       "      <td>Venta</td>\n",
       "      <td>0.0</td>\n",
       "    </tr>\n",
       "    <tr>\n",
       "      <th>1981-03-12</th>\n",
       "      <td>0.078848</td>\n",
       "      <td>0.079286</td>\n",
       "      <td>0.078848</td>\n",
       "      <td>0.078848</td>\n",
       "      <td>59248000</td>\n",
       "      <td>4.671601</td>\n",
       "      <td>0.040460</td>\n",
       "      <td>-12.920791</td>\n",
       "      <td>33.966436</td>\n",
       "      <td>Venta</td>\n",
       "      <td>0.0</td>\n",
       "    </tr>\n",
       "    <tr>\n",
       "      <th>1981-03-13</th>\n",
       "      <td>0.078410</td>\n",
       "      <td>0.078410</td>\n",
       "      <td>0.077972</td>\n",
       "      <td>0.077972</td>\n",
       "      <td>231302400</td>\n",
       "      <td>18.035160</td>\n",
       "      <td>-0.011110</td>\n",
       "      <td>-13.443598</td>\n",
       "      <td>33.155788</td>\n",
       "      <td>Venta</td>\n",
       "      <td>0.0</td>\n",
       "    </tr>\n",
       "    <tr>\n",
       "      <th>1981-03-16</th>\n",
       "      <td>0.081039</td>\n",
       "      <td>0.081915</td>\n",
       "      <td>0.081039</td>\n",
       "      <td>0.081039</td>\n",
       "      <td>37228800</td>\n",
       "      <td>3.016990</td>\n",
       "      <td>0.039333</td>\n",
       "      <td>-13.719255</td>\n",
       "      <td>38.673904</td>\n",
       "      <td>Sin Señal</td>\n",
       "      <td>0.0</td>\n",
       "    </tr>\n",
       "    <tr>\n",
       "      <th>...</th>\n",
       "      <td>...</td>\n",
       "      <td>...</td>\n",
       "      <td>...</td>\n",
       "      <td>...</td>\n",
       "      <td>...</td>\n",
       "      <td>...</td>\n",
       "      <td>...</td>\n",
       "      <td>...</td>\n",
       "      <td>...</td>\n",
       "      <td>...</td>\n",
       "      <td>...</td>\n",
       "    </tr>\n",
       "    <tr>\n",
       "      <th>2021-05-25</th>\n",
       "      <td>127.820000</td>\n",
       "      <td>128.320007</td>\n",
       "      <td>126.320000</td>\n",
       "      <td>126.900002</td>\n",
       "      <td>72009500</td>\n",
       "      <td>9138.005660</td>\n",
       "      <td>-0.001574</td>\n",
       "      <td>0.995310</td>\n",
       "      <td>48.077877</td>\n",
       "      <td>Sin Señal</td>\n",
       "      <td>0.0</td>\n",
       "    </tr>\n",
       "    <tr>\n",
       "      <th>2021-05-26</th>\n",
       "      <td>126.959999</td>\n",
       "      <td>127.389999</td>\n",
       "      <td>126.419998</td>\n",
       "      <td>126.849998</td>\n",
       "      <td>56575900</td>\n",
       "      <td>7176.652829</td>\n",
       "      <td>-0.000394</td>\n",
       "      <td>0.712564</td>\n",
       "      <td>47.961159</td>\n",
       "      <td>Sin Señal</td>\n",
       "      <td>0.0</td>\n",
       "    </tr>\n",
       "    <tr>\n",
       "      <th>2021-05-27</th>\n",
       "      <td>126.440002</td>\n",
       "      <td>127.639999</td>\n",
       "      <td>125.080002</td>\n",
       "      <td>125.279999</td>\n",
       "      <td>94625600</td>\n",
       "      <td>11854.695052</td>\n",
       "      <td>-0.012377</td>\n",
       "      <td>0.352284</td>\n",
       "      <td>44.322787</td>\n",
       "      <td>Sin Señal</td>\n",
       "      <td>0.0</td>\n",
       "    </tr>\n",
       "    <tr>\n",
       "      <th>2021-05-28</th>\n",
       "      <td>125.570000</td>\n",
       "      <td>125.800003</td>\n",
       "      <td>124.550003</td>\n",
       "      <td>124.610001</td>\n",
       "      <td>71311100</td>\n",
       "      <td>8886.076215</td>\n",
       "      <td>-0.005348</td>\n",
       "      <td>0.028937</td>\n",
       "      <td>42.829580</td>\n",
       "      <td>Sin Señal</td>\n",
       "      <td>0.0</td>\n",
       "    </tr>\n",
       "    <tr>\n",
       "      <th>2021-06-01</th>\n",
       "      <td>125.080002</td>\n",
       "      <td>125.349998</td>\n",
       "      <td>123.945000</td>\n",
       "      <td>124.279999</td>\n",
       "      <td>63460425</td>\n",
       "      <td>7886.861542</td>\n",
       "      <td>-0.002648</td>\n",
       "      <td>-0.328349</td>\n",
       "      <td>42.077660</td>\n",
       "      <td>Sin Señal</td>\n",
       "      <td>0.0</td>\n",
       "    </tr>\n",
       "  </tbody>\n",
       "</table>\n",
       "<p>10144 rows × 11 columns</p>\n",
       "</div>"
      ],
      "text/plain": [
       "                  open        high         low       close      vol_n  \\\n",
       "Date                                                                    \n",
       "1981-03-10    0.079286    0.079286    0.078848    0.078848   28380800   \n",
       "1981-03-11    0.076658    0.076658    0.075782    0.075782   29859200   \n",
       "1981-03-12    0.078848    0.079286    0.078848    0.078848   59248000   \n",
       "1981-03-13    0.078410    0.078410    0.077972    0.077972  231302400   \n",
       "1981-03-16    0.081039    0.081915    0.081039    0.081039   37228800   \n",
       "...                ...         ...         ...         ...        ...   \n",
       "2021-05-25  127.820000  128.320007  126.320000  126.900002   72009500   \n",
       "2021-05-26  126.959999  127.389999  126.419998  126.849998   56575900   \n",
       "2021-05-27  126.440002  127.639999  125.080002  125.279999   94625600   \n",
       "2021-05-28  125.570000  125.800003  124.550003  124.610001   71311100   \n",
       "2021-06-01  125.080002  125.349998  123.945000  124.279999   63460425   \n",
       "\n",
       "                 vol_mln  pct_change      Cruce        rsi     signal  \\\n",
       "Date                                                                    \n",
       "1981-03-10      2.237776   -0.047625 -11.876356  30.729464      Venta   \n",
       "1981-03-11      2.262792   -0.038887 -12.488295  28.266326      Venta   \n",
       "1981-03-12      4.671601    0.040460 -12.920791  33.966436      Venta   \n",
       "1981-03-13     18.035160   -0.011110 -13.443598  33.155788      Venta   \n",
       "1981-03-16      3.016990    0.039333 -13.719255  38.673904  Sin Señal   \n",
       "...                  ...         ...        ...        ...        ...   \n",
       "2021-05-25   9138.005660   -0.001574   0.995310  48.077877  Sin Señal   \n",
       "2021-05-26   7176.652829   -0.000394   0.712564  47.961159  Sin Señal   \n",
       "2021-05-27  11854.695052   -0.012377   0.352284  44.322787  Sin Señal   \n",
       "2021-05-28   8886.076215   -0.005348   0.028937  42.829580  Sin Señal   \n",
       "2021-06-01   7886.861542   -0.002648  -0.328349  42.077660  Sin Señal   \n",
       "\n",
       "            strategy  \n",
       "Date                  \n",
       "1981-03-10       0.0  \n",
       "1981-03-11       0.0  \n",
       "1981-03-12       0.0  \n",
       "1981-03-13       0.0  \n",
       "1981-03-16       0.0  \n",
       "...              ...  \n",
       "2021-05-25       0.0  \n",
       "2021-05-26       0.0  \n",
       "2021-05-27       0.0  \n",
       "2021-05-28       0.0  \n",
       "2021-06-01       0.0  \n",
       "\n",
       "[10144 rows x 11 columns]"
      ]
     },
     "execution_count": 34,
     "metadata": {},
     "output_type": "execute_result"
    }
   ],
   "source": [
    "final"
   ]
  },
  {
   "cell_type": "code",
   "execution_count": null,
   "id": "93f06eaa",
   "metadata": {},
   "outputs": [],
   "source": []
  },
  {
   "cell_type": "code",
   "execution_count": null,
   "id": "a1b4b08a",
   "metadata": {},
   "outputs": [],
   "source": []
  },
  {
   "cell_type": "code",
   "execution_count": null,
   "id": "9e7fadae",
   "metadata": {},
   "outputs": [],
   "source": []
  },
  {
   "cell_type": "code",
   "execution_count": null,
   "id": "c67962bf",
   "metadata": {},
   "outputs": [],
   "source": []
  },
  {
   "cell_type": "code",
   "execution_count": 10,
   "id": "55606627",
   "metadata": {},
   "outputs": [
    {
     "data": {
      "text/plain": [
       "<AxesSubplot:xlabel='Date'>"
      ]
     },
     "execution_count": 10,
     "metadata": {},
     "output_type": "execute_result"
    },
    {
     "data": {
      "image/png": "[encoded data removed]",
      "text/plain": [
       "<Figure size 1080x432 with 1 Axes>"
      ]
     },
     "metadata": {
      "needs_background": "light"
     },
     "output_type": "display_data"
    }
   ],
   "source": [
    "# Preparo base 100 de HODL y estrategia\n",
    "res_buyHold = (final['pct_change']+1).cumprod()\n",
    "res_st = (final['strategy']+1).cumprod()\n",
    "\n",
    "# Concateno ambos\n",
    "compare = pd.concat([res_buyHold, res_st], axis=1)\n",
    "\n",
    "# Ploteo\n",
    "compare.plot(figsize=(15,6), logy=True, grid=True)"
   ]
  },
  {
   "cell_type": "code",
   "execution_count": 11,
   "id": "864a5f44",
   "metadata": {},
   "outputs": [
    {
     "data": {
      "text/plain": [
       "<AxesSubplot:xlabel='Date'>"
      ]
     },
     "execution_count": 11,
     "metadata": {},
     "output_type": "execute_result"
    },
    {
     "data": {
      "image/png": "[encoded data removed]",
      "text/plain": [
       "<Figure size 864x432 with 1 Axes>"
      ]
     },
     "metadata": {
      "needs_background": "light"
     },
     "output_type": "display_data"
    }
   ],
   "source": [
    "yoy = final.loc[: , ['pct_change','strategy']].groupby(final.index.year).sum()\n",
    "\n",
    "yoy.plot(figsize=(12,6), kind='bar')"
   ]
  },
  {
   "cell_type": "code",
   "execution_count": null,
   "id": "9a060bce",
   "metadata": {},
   "outputs": [],
   "source": []
  },
  {
   "cell_type": "markdown",
   "id": "2592bba4",
   "metadata": {},
   "source": [
    "# EventDriven style: TIPS"
   ]
  },
  {
   "cell_type": "markdown",
   "id": "9789777a",
   "metadata": {},
   "source": [
    "## Iteracion: Formas y Performances"
   ]
  },
  {
   "cell_type": "code",
   "execution_count": 35,
   "id": "3c63a1ea",
   "metadata": {},
   "outputs": [],
   "source": [
    "# numba"
   ]
  },
  {
   "cell_type": "code",
   "execution_count": null,
   "id": "c6464e96",
   "metadata": {},
   "outputs": [],
   "source": []
  },
  {
   "cell_type": "code",
   "execution_count": null,
   "id": "41d1893f",
   "metadata": {},
   "outputs": [],
   "source": []
  },
  {
   "cell_type": "code",
   "execution_count": 12,
   "id": "ed25ac74",
   "metadata": {},
   "outputs": [
    {
     "name": "stdout",
     "output_type": "stream",
     "text": [
      "[*********************100%***********************]  1 of 1 completed\n"
     ]
    }
   ],
   "source": [
    "data = yf.download('AAPL', auto_adjust=True)\n",
    "iterable_df = data\n",
    "iterable_serie = data['Close']\n",
    "iterable_np = np.array(data['Close'].tolist())\n",
    "iterable_lista = data['Close'].to_list()\n",
    "iterable_tupla = tuple(iterable_lista)"
   ]
  },
  {
   "cell_type": "markdown",
   "id": "3d1a71a6",
   "metadata": {},
   "source": [
    "### Formas"
   ]
  },
  {
   "cell_type": "code",
   "execution_count": 13,
   "id": "9491e8b2",
   "metadata": {},
   "outputs": [
    {
     "name": "stdout",
     "output_type": "stream",
     "text": [
      "0.09899868816137314\n"
     ]
    }
   ],
   "source": [
    "for i, (idx, row) in enumerate(iterable_df.iterrows()):\n",
    "    if i==5:\n",
    "        print(row.Close)"
   ]
  },
  {
   "cell_type": "code",
   "execution_count": 14,
   "id": "6464028f",
   "metadata": {},
   "outputs": [
    {
     "name": "stdout",
     "output_type": "stream",
     "text": [
      "0.09899868816137314\n"
     ]
    }
   ],
   "source": [
    "for i, row in enumerate(iterable_serie):\n",
    "    if i==5:\n",
    "        print(row)"
   ]
  },
  {
   "cell_type": "code",
   "execution_count": 15,
   "id": "a87d6aea",
   "metadata": {},
   "outputs": [
    {
     "name": "stdout",
     "output_type": "stream",
     "text": [
      "0.09899868816137314\n"
     ]
    }
   ],
   "source": [
    "for i, row in enumerate(iterable_np):\n",
    "    if i==5:\n",
    "        print(row)"
   ]
  },
  {
   "cell_type": "code",
   "execution_count": 16,
   "id": "3c1f0a9b",
   "metadata": {},
   "outputs": [
    {
     "name": "stdout",
     "output_type": "stream",
     "text": [
      "0.09899868816137314\n"
     ]
    }
   ],
   "source": [
    "for i in range(len(iterable_np)):\n",
    "    if i==5:\n",
    "        print(iterable_np[i])"
   ]
  },
  {
   "cell_type": "code",
   "execution_count": 17,
   "id": "115a85dc",
   "metadata": {},
   "outputs": [
    {
     "name": "stdout",
     "output_type": "stream",
     "text": [
      "0.09899868816137314\n"
     ]
    }
   ],
   "source": [
    "for i, row in enumerate(iterable_lista):\n",
    "    if i==5:\n",
    "        print(row)"
   ]
  },
  {
   "cell_type": "code",
   "execution_count": 18,
   "id": "e3885a03",
   "metadata": {},
   "outputs": [
    {
     "name": "stdout",
     "output_type": "stream",
     "text": [
      "0.09899868816137314\n"
     ]
    }
   ],
   "source": [
    "for i in range(len(iterable_lista)):\n",
    "    if i==5:\n",
    "        print(iterable_lista[i])"
   ]
  },
  {
   "cell_type": "code",
   "execution_count": 19,
   "id": "056cd79b",
   "metadata": {},
   "outputs": [
    {
     "name": "stdout",
     "output_type": "stream",
     "text": [
      "0.09899868816137314\n"
     ]
    }
   ],
   "source": [
    "for i, row in enumerate(iterable_tupla):\n",
    "    if i==5:\n",
    "        print(row)"
   ]
  },
  {
   "cell_type": "code",
   "execution_count": 20,
   "id": "f59b975c",
   "metadata": {},
   "outputs": [
    {
     "name": "stdout",
     "output_type": "stream",
     "text": [
      "0.09899868816137314\n"
     ]
    }
   ],
   "source": [
    "for i in range(len(iterable_tupla)):\n",
    "    if i==5:\n",
    "        print(iterable_tupla[i])"
   ]
  },
  {
   "cell_type": "markdown",
   "id": "6d59261c",
   "metadata": {},
   "source": [
    "### Performances"
   ]
  },
  {
   "cell_type": "markdown",
   "id": "a4d7b14d",
   "metadata": {},
   "source": [
    "#### Con Enumerate e Iterando los objetos"
   ]
  },
  {
   "cell_type": "code",
   "execution_count": 21,
   "id": "2d3f8beb",
   "metadata": {},
   "outputs": [
    {
     "name": "stdout",
     "output_type": "stream",
     "text": [
      "320 ms ± 22.3 ms per loop (mean ± std. dev. of 7 runs, 1 loop each)\n"
     ]
    }
   ],
   "source": [
    "%%timeit\n",
    "for i, (idx, row) in enumerate(iterable_df.iterrows()):\n",
    "    if i==5:\n",
    "        a = row.Close"
   ]
  },
  {
   "cell_type": "code",
   "execution_count": 22,
   "id": "6d698ea6",
   "metadata": {},
   "outputs": [
    {
     "name": "stdout",
     "output_type": "stream",
     "text": [
      "1.23 ms ± 16.5 µs per loop (mean ± std. dev. of 7 runs, 1000 loops each)\n"
     ]
    }
   ],
   "source": [
    "%%timeit\n",
    "for i, row in enumerate(iterable_serie):\n",
    "    if i==5:\n",
    "        a = row"
   ]
  },
  {
   "cell_type": "code",
   "execution_count": 23,
   "id": "5288bef4",
   "metadata": {},
   "outputs": [
    {
     "name": "stdout",
     "output_type": "stream",
     "text": [
      "1.16 ms ± 33.3 µs per loop (mean ± std. dev. of 7 runs, 1000 loops each)\n"
     ]
    }
   ],
   "source": [
    "%%timeit\n",
    "for i, row in enumerate(iterable_np):\n",
    "    if i==5:\n",
    "        a = row"
   ]
  },
  {
   "cell_type": "code",
   "execution_count": 24,
   "id": "52b78f78",
   "metadata": {},
   "outputs": [
    {
     "name": "stdout",
     "output_type": "stream",
     "text": [
      "559 µs ± 18.1 µs per loop (mean ± std. dev. of 7 runs, 1000 loops each)\n"
     ]
    }
   ],
   "source": [
    "%%timeit\n",
    "for i, row in enumerate(iterable_lista):\n",
    "    if i==5:\n",
    "        a = row"
   ]
  },
  {
   "cell_type": "code",
   "execution_count": 25,
   "id": "e4eabb27",
   "metadata": {},
   "outputs": [
    {
     "name": "stdout",
     "output_type": "stream",
     "text": [
      "559 µs ± 19.4 µs per loop (mean ± std. dev. of 7 runs, 1000 loops each)\n"
     ]
    }
   ],
   "source": [
    "%%timeit\n",
    "for i, row in enumerate(iterable_tupla):\n",
    "    if i==5:\n",
    "        a = row"
   ]
  },
  {
   "cell_type": "code",
   "execution_count": null,
   "id": "c91bfa9b",
   "metadata": {},
   "outputs": [],
   "source": []
  },
  {
   "cell_type": "markdown",
   "id": "46257c06",
   "metadata": {},
   "source": [
    "#### Con range y accediendo por afuera a los objetos"
   ]
  },
  {
   "cell_type": "code",
   "execution_count": 26,
   "id": "2039ba08",
   "metadata": {},
   "outputs": [
    {
     "name": "stdout",
     "output_type": "stream",
     "text": [
      "487 µs ± 22 µs per loop (mean ± std. dev. of 7 runs, 1000 loops each)\n"
     ]
    }
   ],
   "source": [
    "%%timeit\n",
    "for i in range(len(iterable_df)):\n",
    "    if i==5:\n",
    "        a = iterable_df.iloc[i]"
   ]
  },
  {
   "cell_type": "code",
   "execution_count": 27,
   "id": "6b08a1d3",
   "metadata": {},
   "outputs": [
    {
     "name": "stdout",
     "output_type": "stream",
     "text": [
      "395 µs ± 17.8 µs per loop (mean ± std. dev. of 7 runs, 1000 loops each)\n"
     ]
    }
   ],
   "source": [
    "%%timeit\n",
    "for i in range(len(iterable_serie)):\n",
    "    if i==5:\n",
    "        a = iterable_serie.iloc[i]"
   ]
  },
  {
   "cell_type": "code",
   "execution_count": 28,
   "id": "b9c5747b",
   "metadata": {},
   "outputs": [
    {
     "name": "stdout",
     "output_type": "stream",
     "text": [
      "363 µs ± 11 µs per loop (mean ± std. dev. of 7 runs, 1000 loops each)\n"
     ]
    }
   ],
   "source": [
    "%%timeit\n",
    "for i in range(len(iterable_np)):\n",
    "    if i==5:\n",
    "        a = iterable_np[i]"
   ]
  },
  {
   "cell_type": "code",
   "execution_count": 29,
   "id": "33578c49",
   "metadata": {},
   "outputs": [
    {
     "name": "stdout",
     "output_type": "stream",
     "text": [
      "379 µs ± 17.3 µs per loop (mean ± std. dev. of 7 runs, 1000 loops each)\n"
     ]
    }
   ],
   "source": [
    "%%timeit\n",
    "for i in range(len(iterable_lista)):\n",
    "    if i==5:\n",
    "        a= iterable_lista[i]"
   ]
  },
  {
   "cell_type": "code",
   "execution_count": 30,
   "id": "13434cd4",
   "metadata": {},
   "outputs": [
    {
     "name": "stdout",
     "output_type": "stream",
     "text": [
      "371 µs ± 24.4 µs per loop (mean ± std. dev. of 7 runs, 1000 loops each)\n"
     ]
    }
   ],
   "source": [
    "%%timeit\n",
    "for i in range(len(iterable_tupla)):\n",
    "    if i==5:\n",
    "        a= iterable_tupla[i]"
   ]
  },
  {
   "cell_type": "code",
   "execution_count": null,
   "id": "88a7e4e6",
   "metadata": {},
   "outputs": [],
   "source": []
  },
  {
   "cell_type": "code",
   "execution_count": null,
   "id": "e693fed9",
   "metadata": {},
   "outputs": [],
   "source": []
  },
  {
   "cell_type": "code",
   "execution_count": null,
   "id": "c4d39acd",
   "metadata": {},
   "outputs": [],
   "source": []
  },
  {
   "cell_type": "code",
   "execution_count": null,
   "id": "f16dca19",
   "metadata": {},
   "outputs": [],
   "source": []
  },
  {
   "cell_type": "code",
   "execution_count": null,
   "id": "be0664bd",
   "metadata": {},
   "outputs": [],
   "source": []
  },
  {
   "cell_type": "code",
   "execution_count": null,
   "id": "b09accbc",
   "metadata": {},
   "outputs": [],
   "source": []
  },
  {
   "cell_type": "code",
   "execution_count": null,
   "id": "188b25ae",
   "metadata": {},
   "outputs": [],
   "source": []
  },
  {
   "cell_type": "code",
   "execution_count": null,
   "id": "eff7cf80",
   "metadata": {},
   "outputs": [],
   "source": []
  },
  {
   "cell_type": "code",
   "execution_count": null,
   "id": "a492588f",
   "metadata": {},
   "outputs": [],
   "source": []
  },
  {
   "cell_type": "code",
   "execution_count": null,
   "id": "ff13fbea",
   "metadata": {},
   "outputs": [],
   "source": []
  },
  {
   "cell_type": "code",
   "execution_count": null,
   "id": "8f4c29d9",
   "metadata": {},
   "outputs": [],
   "source": []
  },
  {
   "cell_type": "code",
   "execution_count": null,
   "id": "5488f1f8",
   "metadata": {},
   "outputs": [],
   "source": []
  },
  {
   "cell_type": "code",
   "execution_count": null,
   "id": "629059af",
   "metadata": {},
   "outputs": [],
   "source": []
  },
  {
   "cell_type": "code",
   "execution_count": null,
   "id": "7d42aaeb",
   "metadata": {},
   "outputs": [],
   "source": []
  },
  {
   "cell_type": "code",
   "execution_count": null,
   "id": "8a65464c",
   "metadata": {},
   "outputs": [],
   "source": []
  },
  {
   "cell_type": "code",
   "execution_count": null,
   "id": "5ddf872c",
   "metadata": {},
   "outputs": [],
   "source": []
  },
  {
   "cell_type": "markdown",
   "id": "ae9e58ff",
   "metadata": {},
   "source": [
    "## Event-Driven Por que While y no FOR?"
   ]
  },
  {
   "cell_type": "code",
   "execution_count": null,
   "id": "66999f11",
   "metadata": {},
   "outputs": [],
   "source": []
  },
  {
   "cell_type": "code",
   "execution_count": 26,
   "id": "54c443b2",
   "metadata": {},
   "outputs": [
    {
     "name": "stdout",
     "output_type": "stream",
     "text": [
      "0\n",
      "1\n",
      "2\n",
      "3\n",
      "4\n",
      "5\n",
      "6\n",
      "7\n",
      "8\n",
      "9\n"
     ]
    }
   ],
   "source": [
    "for i in range(10):\n",
    "    print(i)\n",
    "    if i==5:\n",
    "        i=9"
   ]
  },
  {
   "cell_type": "code",
   "execution_count": 37,
   "id": "0171f828",
   "metadata": {},
   "outputs": [
    {
     "name": "stdout",
     "output_type": "stream",
     "text": [
      "0\n",
      "1\n",
      "2\n",
      "3\n",
      "4\n",
      "5\n",
      "10\n",
      "11\n",
      "12\n",
      "13\n",
      "14\n"
     ]
    }
   ],
   "source": [
    "i = 0\n",
    "\n",
    "while i < 15:\n",
    "    print(i)\n",
    "    \n",
    "    if i==5:\n",
    "        i=9\n",
    "    \n",
    "    i +=1"
   ]
  },
  {
   "cell_type": "code",
   "execution_count": null,
   "id": "acf07790",
   "metadata": {},
   "outputs": [],
   "source": []
  },
  {
   "cell_type": "code",
   "execution_count": null,
   "id": "907f5a3f",
   "metadata": {},
   "outputs": [],
   "source": []
  },
  {
   "cell_type": "code",
   "execution_count": null,
   "id": "9f56f75e",
   "metadata": {},
   "outputs": [],
   "source": []
  },
  {
   "cell_type": "markdown",
   "id": "c5bdb7b9",
   "metadata": {},
   "source": [
    "## Para probar en pythontutor"
   ]
  },
  {
   "cell_type": "code",
   "execution_count": 30,
   "id": "b820717b",
   "metadata": {},
   "outputs": [
    {
     "name": "stdout",
     "output_type": "stream",
     "text": [
      "Ojo que queda compra abierta..\n"
     ]
    },
    {
     "data": {
      "text/plain": [
       "([0, 0, 0, 4, 5, 6, 0, 0, 0, 10], 10)"
      ]
     },
     "execution_count": 30,
     "metadata": {},
     "output_type": "execute_result"
    }
   ],
   "source": [
    "signals = ['-','-','Compra','-','-','Venta','-','-','Compra','-']\n",
    "pct_changes = [1,2,3,4,5,6,7,8,9,10]\n",
    "\n",
    "total = 10\n",
    "i = 1\n",
    "results = [0]\n",
    "\n",
    "while i < total:\n",
    "\n",
    "    if signals[i-1] == 'Compra':\n",
    "\n",
    "        j = i\n",
    "        while  j < total:\n",
    "            results.append(pct_changes[j])            \n",
    "            j +=1\n",
    "\n",
    "            if signals[j-1]=='Venta':\n",
    "                i = j\n",
    "                break\n",
    "            if j == total:\n",
    "                i = j\n",
    "                print('Ojo que queda compra abierta..')\n",
    "                break\n",
    "    else:\n",
    "        results.append(0)\n",
    "        i +=1\n",
    "\n",
    "results, len(results)"
   ]
  },
  {
   "cell_type": "code",
   "execution_count": null,
   "id": "87cb0c42",
   "metadata": {},
   "outputs": [],
   "source": []
  },
  {
   "cell_type": "code",
   "execution_count": null,
   "id": "af426c1e",
   "metadata": {},
   "outputs": [],
   "source": []
  },
  {
   "cell_type": "code",
   "execution_count": null,
   "id": "e76951ef",
   "metadata": {},
   "outputs": [],
   "source": []
  },
  {
   "cell_type": "code",
   "execution_count": null,
   "id": "6ccba19c",
   "metadata": {},
   "outputs": [],
   "source": []
  },
  {
   "cell_type": "code",
   "execution_count": null,
   "id": "417b1058",
   "metadata": {},
   "outputs": [],
   "source": []
  },
  {
   "cell_type": "markdown",
   "id": "ee0cef7c",
   "metadata": {},
   "source": [
    "# Analisis de sensibilidad básico"
   ]
  },
  {
   "cell_type": "markdown",
   "id": "e8a336a4",
   "metadata": {},
   "source": [
    "## Sensibilidad del \"q\" del RSI"
   ]
  },
  {
   "cell_type": "code",
   "execution_count": 38,
   "id": "94415c72",
   "metadata": {},
   "outputs": [],
   "source": [
    "data = getData('AMZN')\n",
    "results = []\n",
    "\n",
    "for i_rsi in range(5,50):\n",
    "\n",
    "    df = addSignal(data, fast=20, slow=60, rsi_q= i_rsi , buy_cr=2, buy_rsi=65, sell_cr=0, sell_rsi=35).dropna()\n",
    "    actions = getActions(df, tipo='long')\n",
    "    trades = getTrades(actions,  tipo='long')\n",
    "    r, metricas = resumen(trades)\n",
    "    \n",
    "    results.append(metricas)\n",
    "    \n",
    "df = pd.DataFrame(results, index=range(5,50))"
   ]
  },
  {
   "cell_type": "code",
   "execution_count": 41,
   "id": "bb237049",
   "metadata": {},
   "outputs": [
    {
     "data": {
      "text/html": [
       "<div>\n",
       "<style scoped>\n",
       "    .dataframe tbody tr th:only-of-type {\n",
       "        vertical-align: middle;\n",
       "    }\n",
       "\n",
       "    .dataframe tbody tr th {\n",
       "        vertical-align: top;\n",
       "    }\n",
       "\n",
       "    .dataframe thead th {\n",
       "        text-align: right;\n",
       "    }\n",
       "</style>\n",
       "<table border=\"1\" class=\"dataframe\">\n",
       "  <thead>\n",
       "    <tr style=\"text-align: right;\">\n",
       "      <th></th>\n",
       "      <th>rendimiento</th>\n",
       "      <th>dias_in</th>\n",
       "      <th>TEA</th>\n",
       "    </tr>\n",
       "  </thead>\n",
       "  <tbody>\n",
       "    <tr>\n",
       "      <th>15</th>\n",
       "      <td>272.5061</td>\n",
       "      <td>5854.0</td>\n",
       "      <td>0.4189</td>\n",
       "    </tr>\n",
       "    <tr>\n",
       "      <th>16</th>\n",
       "      <td>166.9593</td>\n",
       "      <td>5807.0</td>\n",
       "      <td>0.3800</td>\n",
       "    </tr>\n",
       "    <tr>\n",
       "      <th>17</th>\n",
       "      <td>205.3993</td>\n",
       "      <td>6038.0</td>\n",
       "      <td>0.3801</td>\n",
       "    </tr>\n",
       "    <tr>\n",
       "      <th>18</th>\n",
       "      <td>180.7545</td>\n",
       "      <td>5247.0</td>\n",
       "      <td>0.4361</td>\n",
       "    </tr>\n",
       "    <tr>\n",
       "      <th>19</th>\n",
       "      <td>90.1475</td>\n",
       "      <td>5122.0</td>\n",
       "      <td>0.3793</td>\n",
       "    </tr>\n",
       "    <tr>\n",
       "      <th>20</th>\n",
       "      <td>266.3201</td>\n",
       "      <td>5260.0</td>\n",
       "      <td>0.4737</td>\n",
       "    </tr>\n",
       "    <tr>\n",
       "      <th>21</th>\n",
       "      <td>253.6410</td>\n",
       "      <td>5123.0</td>\n",
       "      <td>0.4839</td>\n",
       "    </tr>\n",
       "    <tr>\n",
       "      <th>22</th>\n",
       "      <td>237.3526</td>\n",
       "      <td>5277.0</td>\n",
       "      <td>0.4603</td>\n",
       "    </tr>\n",
       "    <tr>\n",
       "      <th>23</th>\n",
       "      <td>344.0116</td>\n",
       "      <td>5436.0</td>\n",
       "      <td>0.4805</td>\n",
       "    </tr>\n",
       "    <tr>\n",
       "      <th>24</th>\n",
       "      <td>405.9670</td>\n",
       "      <td>5542.0</td>\n",
       "      <td>0.4855</td>\n",
       "    </tr>\n",
       "    <tr>\n",
       "      <th>25</th>\n",
       "      <td>387.0067</td>\n",
       "      <td>5780.0</td>\n",
       "      <td>0.4571</td>\n",
       "    </tr>\n",
       "  </tbody>\n",
       "</table>\n",
       "</div>"
      ],
      "text/plain": [
       "    rendimiento  dias_in     TEA\n",
       "15     272.5061   5854.0  0.4189\n",
       "16     166.9593   5807.0  0.3800\n",
       "17     205.3993   6038.0  0.3801\n",
       "18     180.7545   5247.0  0.4361\n",
       "19      90.1475   5122.0  0.3793\n",
       "20     266.3201   5260.0  0.4737\n",
       "21     253.6410   5123.0  0.4839\n",
       "22     237.3526   5277.0  0.4603\n",
       "23     344.0116   5436.0  0.4805\n",
       "24     405.9670   5542.0  0.4855\n",
       "25     387.0067   5780.0  0.4571"
      ]
     },
     "execution_count": 41,
     "metadata": {},
     "output_type": "execute_result"
    }
   ],
   "source": [
    "df.loc[df.dias_in>0].loc[15:25]"
   ]
  },
  {
   "cell_type": "code",
   "execution_count": 42,
   "id": "adb94225",
   "metadata": {},
   "outputs": [
    {
     "data": {
      "text/plain": [
       "rendimiento    24\n",
       "dias_in        17\n",
       "TEA            24\n",
       "dtype: int64"
      ]
     },
     "execution_count": 42,
     "metadata": {},
     "output_type": "execute_result"
    }
   ],
   "source": [
    "df.idxmax()"
   ]
  },
  {
   "cell_type": "code",
   "execution_count": 34,
   "id": "a5081fb5",
   "metadata": {},
   "outputs": [
    {
     "data": {
      "image/png": "[encoded data removed]",
      "text/plain": [
       "<Figure size 1008x432 with 2 Axes>"
      ]
     },
     "metadata": {
      "needs_background": "light"
     },
     "output_type": "display_data"
    }
   ],
   "source": [
    "import matplotlib.pyplot as plt\n",
    "\n",
    "dfok = df.loc[df.dias_in>0].copy()\n",
    "\n",
    "fig, ax = plt.subplots(figsize=(14,6))\n",
    "\n",
    "ax.plot(dfok.rendimiento, label='Rendimiento')\n",
    "ax.legend(loc='upper left')\n",
    "\n",
    "ax2 = ax.twinx()\n",
    "ax2.plot(dfok.TEA, 'g--', label='TEA')\n",
    "ax2.legend(loc='upper right')\n",
    "\n",
    "plt.minorticks_on()\n",
    "ax.set_xticks(np.arange(15,25,1),minor=True)\n",
    "ax.grid(which='major', axis='both', color='k', lw=0.5, linestyle='-')\n",
    "ax.grid(which='minor', color='gray', lw=0.5, linestyle='--')"
   ]
  },
  {
   "cell_type": "code",
   "execution_count": null,
   "id": "db297ee8",
   "metadata": {},
   "outputs": [],
   "source": []
  },
  {
   "cell_type": "markdown",
   "id": "6d7198c2",
   "metadata": {},
   "source": [
    "## Sensibilidad del RSI señal compra"
   ]
  },
  {
   "cell_type": "code",
   "execution_count": 46,
   "id": "e1071de6",
   "metadata": {},
   "outputs": [],
   "source": [
    "data = getData('AAPL')\n",
    "results = []\n",
    "\n",
    "for i in range(25,75):\n",
    "    df = addSignal(data, fast=20, slow=60, rsi_q=24, buy_cr=2, buy_rsi=i, sell_cr=0, sell_rsi=35).dropna()\n",
    "    actions = getActions(df, tipo='long')\n",
    "    trades = getTrades(actions,  tipo='long')\n",
    "    r, metricas = resumen(trades)\n",
    "    \n",
    "    results.append(metricas)\n",
    "    \n",
    "df = pd.DataFrame(results, index=range(25,75))"
   ]
  },
  {
   "cell_type": "code",
   "execution_count": 47,
   "id": "ea818ffb",
   "metadata": {},
   "outputs": [
    {
     "data": {
      "text/plain": [
       "rendimiento    55\n",
       "dias_in        25\n",
       "TEA            70\n",
       "dtype: int64"
      ]
     },
     "execution_count": 47,
     "metadata": {},
     "output_type": "execute_result"
    }
   ],
   "source": [
    "df.loc[df.dias_in>0].idxmax()"
   ]
  },
  {
   "cell_type": "code",
   "execution_count": 48,
   "id": "45f260b3",
   "metadata": {},
   "outputs": [
    {
     "data": {
      "image/png": "[encoded data removed]",
      "text/plain": [
       "<Figure size 1008x432 with 2 Axes>"
      ]
     },
     "metadata": {
      "needs_background": "light"
     },
     "output_type": "display_data"
    }
   ],
   "source": [
    "import matplotlib.pyplot as plt\n",
    "\n",
    "dfok = df.loc[df.dias_in>0].copy()\n",
    "\n",
    "fig, ax = plt.subplots(figsize=(14,6))\n",
    "ax.plot(dfok.rendimiento, label='Rendimiento')\n",
    "ax.legend(loc='upper left')\n",
    "\n",
    "ax2 = ax.twinx()\n",
    "ax2.plot(dfok.TEA, 'g--', label='TEA')\n",
    "ax2.legend(loc='upper right')\n",
    "\n",
    "plt.minorticks_on()\n",
    "ax.grid(which='major', axis='both', color='k', lw=0.5, linestyle='-')\n",
    "ax.grid(which='minor', color='gray', lw=0.5, linestyle='--')"
   ]
  },
  {
   "cell_type": "code",
   "execution_count": null,
   "id": "3c8587aa",
   "metadata": {},
   "outputs": [],
   "source": []
  },
  {
   "cell_type": "code",
   "execution_count": null,
   "id": "a0b6265a",
   "metadata": {},
   "outputs": [],
   "source": []
  },
  {
   "cell_type": "code",
   "execution_count": null,
   "id": "ba924f95",
   "metadata": {},
   "outputs": [],
   "source": []
  },
  {
   "cell_type": "code",
   "execution_count": null,
   "id": "2ee92891",
   "metadata": {},
   "outputs": [],
   "source": []
  },
  {
   "cell_type": "markdown",
   "id": "6c5ad212",
   "metadata": {},
   "source": [
    "## Sensibilidad por montecarlo multivariable"
   ]
  },
  {
   "cell_type": "code",
   "execution_count": 50,
   "id": "1dd91eaf",
   "metadata": {},
   "outputs": [],
   "source": [
    "import random"
   ]
  },
  {
   "cell_type": "code",
   "execution_count": 39,
   "id": "fcef57c4",
   "metadata": {},
   "outputs": [
    {
     "data": {
      "text/plain": [
       "(39, 64)"
      ]
     },
     "execution_count": 39,
     "metadata": {},
     "output_type": "execute_result"
    }
   ],
   "source": [
    "random_f = random.randrange(5,100)\n",
    "random_s = int(random_f * (random.random()+1))+1\n",
    "\n",
    "#random_s = random.randrange(random_f+1,150)\n",
    "random_f, random_s"
   ]
  },
  {
   "cell_type": "code",
   "execution_count": null,
   "id": "b385de56",
   "metadata": {},
   "outputs": [],
   "source": []
  },
  {
   "cell_type": "code",
   "execution_count": null,
   "id": "70931c3f",
   "metadata": {},
   "outputs": [],
   "source": []
  },
  {
   "cell_type": "code",
   "execution_count": 40,
   "id": "ee9fde43",
   "metadata": {},
   "outputs": [],
   "source": [
    "data = getData('AAPL')"
   ]
  },
  {
   "cell_type": "code",
   "execution_count": null,
   "id": "b8316ad7",
   "metadata": {},
   "outputs": [],
   "source": []
  },
  {
   "cell_type": "code",
   "execution_count": 51,
   "id": "67b9e341",
   "metadata": {},
   "outputs": [
    {
     "name": "stdout",
     "output_type": "stream",
     "text": [
      "Wall time: 28.8 s  43_81_27      \n"
     ]
    },
    {
     "data": {
      "text/html": [
       "<div>\n",
       "<style scoped>\n",
       "    .dataframe tbody tr th:only-of-type {\n",
       "        vertical-align: middle;\n",
       "    }\n",
       "\n",
       "    .dataframe tbody tr th {\n",
       "        vertical-align: top;\n",
       "    }\n",
       "\n",
       "    .dataframe thead th {\n",
       "        text-align: right;\n",
       "    }\n",
       "</style>\n",
       "<table border=\"1\" class=\"dataframe\">\n",
       "  <thead>\n",
       "    <tr style=\"text-align: right;\">\n",
       "      <th></th>\n",
       "      <th>fast</th>\n",
       "      <th>slow</th>\n",
       "      <th>rsi_q</th>\n",
       "      <th>cant_trades</th>\n",
       "      <th>dias_in</th>\n",
       "      <th>TEA</th>\n",
       "      <th>rendimiento</th>\n",
       "    </tr>\n",
       "  </thead>\n",
       "  <tbody>\n",
       "    <tr>\n",
       "      <th>0</th>\n",
       "      <td>48</td>\n",
       "      <td>80</td>\n",
       "      <td>29</td>\n",
       "      <td>9</td>\n",
       "      <td>7552.0</td>\n",
       "      <td>0.3500</td>\n",
       "      <td>496.6638</td>\n",
       "    </tr>\n",
       "    <tr>\n",
       "      <th>1</th>\n",
       "      <td>40</td>\n",
       "      <td>63</td>\n",
       "      <td>20</td>\n",
       "      <td>18</td>\n",
       "      <td>8015.0</td>\n",
       "      <td>0.2928</td>\n",
       "      <td>280.0891</td>\n",
       "    </tr>\n",
       "    <tr>\n",
       "      <th>2</th>\n",
       "      <td>47</td>\n",
       "      <td>50</td>\n",
       "      <td>18</td>\n",
       "      <td>1</td>\n",
       "      <td>807.0</td>\n",
       "      <td>0.7175</td>\n",
       "      <td>2.3062</td>\n",
       "    </tr>\n",
       "    <tr>\n",
       "      <th>3</th>\n",
       "      <td>46</td>\n",
       "      <td>85</td>\n",
       "      <td>26</td>\n",
       "      <td>11</td>\n",
       "      <td>8221.0</td>\n",
       "      <td>0.3311</td>\n",
       "      <td>626.2290</td>\n",
       "    </tr>\n",
       "    <tr>\n",
       "      <th>4</th>\n",
       "      <td>39</td>\n",
       "      <td>71</td>\n",
       "      <td>21</td>\n",
       "      <td>16</td>\n",
       "      <td>8416.0</td>\n",
       "      <td>0.3045</td>\n",
       "      <td>458.2666</td>\n",
       "    </tr>\n",
       "    <tr>\n",
       "      <th>...</th>\n",
       "      <td>...</td>\n",
       "      <td>...</td>\n",
       "      <td>...</td>\n",
       "      <td>...</td>\n",
       "      <td>...</td>\n",
       "      <td>...</td>\n",
       "      <td>...</td>\n",
       "    </tr>\n",
       "    <tr>\n",
       "      <th>995</th>\n",
       "      <td>42</td>\n",
       "      <td>49</td>\n",
       "      <td>21</td>\n",
       "      <td>10</td>\n",
       "      <td>4516.0</td>\n",
       "      <td>0.3476</td>\n",
       "      <td>39.0910</td>\n",
       "    </tr>\n",
       "    <tr>\n",
       "      <th>996</th>\n",
       "      <td>46</td>\n",
       "      <td>73</td>\n",
       "      <td>14</td>\n",
       "      <td>25</td>\n",
       "      <td>8051.0</td>\n",
       "      <td>0.2216</td>\n",
       "      <td>81.7360</td>\n",
       "    </tr>\n",
       "    <tr>\n",
       "      <th>997</th>\n",
       "      <td>44</td>\n",
       "      <td>63</td>\n",
       "      <td>28</td>\n",
       "      <td>10</td>\n",
       "      <td>7116.0</td>\n",
       "      <td>0.3534</td>\n",
       "      <td>364.2274</td>\n",
       "    </tr>\n",
       "    <tr>\n",
       "      <th>998</th>\n",
       "      <td>36</td>\n",
       "      <td>68</td>\n",
       "      <td>13</td>\n",
       "      <td>35</td>\n",
       "      <td>8094.0</td>\n",
       "      <td>0.1871</td>\n",
       "      <td>43.8936</td>\n",
       "    </tr>\n",
       "    <tr>\n",
       "      <th>999</th>\n",
       "      <td>43</td>\n",
       "      <td>81</td>\n",
       "      <td>27</td>\n",
       "      <td>11</td>\n",
       "      <td>8017.0</td>\n",
       "      <td>0.3334</td>\n",
       "      <td>554.6911</td>\n",
       "    </tr>\n",
       "  </tbody>\n",
       "</table>\n",
       "<p>1000 rows × 7 columns</p>\n",
       "</div>"
      ],
      "text/plain": [
       "     fast  slow  rsi_q  cant_trades  dias_in     TEA  rendimiento\n",
       "0      48    80     29            9   7552.0  0.3500     496.6638\n",
       "1      40    63     20           18   8015.0  0.2928     280.0891\n",
       "2      47    50     18            1    807.0  0.7175       2.3062\n",
       "3      46    85     26           11   8221.0  0.3311     626.2290\n",
       "4      39    71     21           16   8416.0  0.3045     458.2666\n",
       "..    ...   ...    ...          ...      ...     ...          ...\n",
       "995    42    49     21           10   4516.0  0.3476      39.0910\n",
       "996    46    73     14           25   8051.0  0.2216      81.7360\n",
       "997    44    63     28           10   7116.0  0.3534     364.2274\n",
       "998    36    68     13           35   8094.0  0.1871      43.8936\n",
       "999    43    81     27           11   8017.0  0.3334     554.6911\n",
       "\n",
       "[1000 rows x 7 columns]"
      ]
     },
     "execution_count": 51,
     "metadata": {},
     "output_type": "execute_result"
    }
   ],
   "source": [
    "%%time\n",
    "\n",
    "results = []\n",
    "for i in range(1000):\n",
    "    random_f = random.randrange(35,50)\n",
    "    random_s = int(random_f * (random.random()+1))+1\n",
    "    random_rsi = random.randrange(10,30)\n",
    "\n",
    "    df = addSignal(data, fast=random_f, slow=random_s, rsi_q=random_rsi, buy_cr=2, buy_rsi=68, sell_cr=0, sell_rsi=35).dropna()\n",
    "    actions = getActions(df, tipo='long')\n",
    "    trades = getTrades(actions,  tipo='long')\n",
    "    r, metricas = resumen(trades)\n",
    "                \n",
    "    res = {\n",
    "        'fast':random_f, 'slow':random_s, 'rsi_q':random_rsi, \n",
    "         'cant_trades':len(trades), 'dias_in':metricas['dias_in'], \n",
    "         'TEA':metricas['TEA'], 'rendimiento':metricas['rendimiento']  \n",
    "        }\n",
    "    \n",
    "    results.append(res)\n",
    "    print(f\"Test {i}/1000  --  {random_f}_{random_s}_{random_rsi}      \", end='\\r')\n",
    "    \n",
    "df = pd.DataFrame(results)\n",
    "df"
   ]
  },
  {
   "cell_type": "code",
   "execution_count": 52,
   "id": "dbb9ee11",
   "metadata": {},
   "outputs": [
    {
     "data": {
      "text/html": [
       "<div>\n",
       "<style scoped>\n",
       "    .dataframe tbody tr th:only-of-type {\n",
       "        vertical-align: middle;\n",
       "    }\n",
       "\n",
       "    .dataframe tbody tr th {\n",
       "        vertical-align: top;\n",
       "    }\n",
       "\n",
       "    .dataframe thead th {\n",
       "        text-align: right;\n",
       "    }\n",
       "</style>\n",
       "<table border=\"1\" class=\"dataframe\">\n",
       "  <thead>\n",
       "    <tr style=\"text-align: right;\">\n",
       "      <th></th>\n",
       "      <th>fast</th>\n",
       "      <th>slow</th>\n",
       "      <th>rsi_q</th>\n",
       "      <th>cant_trades</th>\n",
       "      <th>dias_in</th>\n",
       "      <th>TEA</th>\n",
       "      <th>rendimiento</th>\n",
       "    </tr>\n",
       "  </thead>\n",
       "  <tbody>\n",
       "    <tr>\n",
       "      <th>901</th>\n",
       "      <td>42</td>\n",
       "      <td>52</td>\n",
       "      <td>16</td>\n",
       "      <td>18</td>\n",
       "      <td>7288.0</td>\n",
       "      <td>0.4487</td>\n",
       "      <td>1636.0185</td>\n",
       "    </tr>\n",
       "    <tr>\n",
       "      <th>333</th>\n",
       "      <td>42</td>\n",
       "      <td>54</td>\n",
       "      <td>16</td>\n",
       "      <td>19</td>\n",
       "      <td>7319.0</td>\n",
       "      <td>0.4451</td>\n",
       "      <td>1607.5496</td>\n",
       "    </tr>\n",
       "    <tr>\n",
       "      <th>543</th>\n",
       "      <td>43</td>\n",
       "      <td>51</td>\n",
       "      <td>17</td>\n",
       "      <td>13</td>\n",
       "      <td>6078.0</td>\n",
       "      <td>0.5555</td>\n",
       "      <td>1565.6311</td>\n",
       "    </tr>\n",
       "    <tr>\n",
       "      <th>895</th>\n",
       "      <td>42</td>\n",
       "      <td>59</td>\n",
       "      <td>18</td>\n",
       "      <td>15</td>\n",
       "      <td>7790.0</td>\n",
       "      <td>0.4051</td>\n",
       "      <td>1420.3462</td>\n",
       "    </tr>\n",
       "    <tr>\n",
       "      <th>162</th>\n",
       "      <td>39</td>\n",
       "      <td>53</td>\n",
       "      <td>19</td>\n",
       "      <td>15</td>\n",
       "      <td>7216.0</td>\n",
       "      <td>0.4416</td>\n",
       "      <td>1379.6645</td>\n",
       "    </tr>\n",
       "    <tr>\n",
       "      <th>...</th>\n",
       "      <td>...</td>\n",
       "      <td>...</td>\n",
       "      <td>...</td>\n",
       "      <td>...</td>\n",
       "      <td>...</td>\n",
       "      <td>...</td>\n",
       "      <td>...</td>\n",
       "    </tr>\n",
       "    <tr>\n",
       "      <th>76</th>\n",
       "      <td>43</td>\n",
       "      <td>82</td>\n",
       "      <td>10</td>\n",
       "      <td>38</td>\n",
       "      <td>8602.0</td>\n",
       "      <td>0.1388</td>\n",
       "      <td>20.4070</td>\n",
       "    </tr>\n",
       "    <tr>\n",
       "      <th>868</th>\n",
       "      <td>43</td>\n",
       "      <td>82</td>\n",
       "      <td>10</td>\n",
       "      <td>38</td>\n",
       "      <td>8602.0</td>\n",
       "      <td>0.1388</td>\n",
       "      <td>20.4070</td>\n",
       "    </tr>\n",
       "    <tr>\n",
       "      <th>364</th>\n",
       "      <td>38</td>\n",
       "      <td>69</td>\n",
       "      <td>11</td>\n",
       "      <td>38</td>\n",
       "      <td>8219.0</td>\n",
       "      <td>0.1405</td>\n",
       "      <td>18.3151</td>\n",
       "    </tr>\n",
       "    <tr>\n",
       "      <th>521</th>\n",
       "      <td>46</td>\n",
       "      <td>82</td>\n",
       "      <td>11</td>\n",
       "      <td>35</td>\n",
       "      <td>8568.0</td>\n",
       "      <td>0.1298</td>\n",
       "      <td>16.5608</td>\n",
       "    </tr>\n",
       "    <tr>\n",
       "      <th>761</th>\n",
       "      <td>46</td>\n",
       "      <td>82</td>\n",
       "      <td>10</td>\n",
       "      <td>37</td>\n",
       "      <td>8438.0</td>\n",
       "      <td>0.1318</td>\n",
       "      <td>16.4984</td>\n",
       "    </tr>\n",
       "  </tbody>\n",
       "</table>\n",
       "<p>743 rows × 7 columns</p>\n",
       "</div>"
      ],
      "text/plain": [
       "     fast  slow  rsi_q  cant_trades  dias_in     TEA  rendimiento\n",
       "901    42    52     16           18   7288.0  0.4487    1636.0185\n",
       "333    42    54     16           19   7319.0  0.4451    1607.5496\n",
       "543    43    51     17           13   6078.0  0.5555    1565.6311\n",
       "895    42    59     18           15   7790.0  0.4051    1420.3462\n",
       "162    39    53     19           15   7216.0  0.4416    1379.6645\n",
       "..    ...   ...    ...          ...      ...     ...          ...\n",
       "76     43    82     10           38   8602.0  0.1388      20.4070\n",
       "868    43    82     10           38   8602.0  0.1388      20.4070\n",
       "364    38    69     11           38   8219.0  0.1405      18.3151\n",
       "521    46    82     11           35   8568.0  0.1298      16.5608\n",
       "761    46    82     10           37   8438.0  0.1318      16.4984\n",
       "\n",
       "[743 rows x 7 columns]"
      ]
     },
     "execution_count": 52,
     "metadata": {},
     "output_type": "execute_result"
    }
   ],
   "source": [
    "df.loc[df.cant_trades > 10].sort_values('rendimiento', ascending=False)"
   ]
  },
  {
   "cell_type": "code",
   "execution_count": null,
   "id": "fa9fbd60",
   "metadata": {},
   "outputs": [],
   "source": []
  },
  {
   "cell_type": "code",
   "execution_count": null,
   "id": "7461c969",
   "metadata": {},
   "outputs": [],
   "source": []
  },
  {
   "cell_type": "markdown",
   "id": "c4be1491",
   "metadata": {},
   "source": [
    "# Analisis de Portabilidad Básico"
   ]
  },
  {
   "cell_type": "code",
   "execution_count": 53,
   "id": "2a7f4ce7",
   "metadata": {},
   "outputs": [
    {
     "name": "stdout",
     "output_type": "stream",
     "text": [
      "[*********************100%***********************]  505 of 505 completed\n"
     ]
    }
   ],
   "source": [
    "sp500 = pd.read_html('https://en.wikipedia.org/wiki/List_of_S%26P_500_companies')[0]\n",
    "sp500_tickers = list(sp500.Symbol)\n",
    "sp500_tickers = [e.replace('.','-') for e in sp500_tickers]\n",
    "data_sp500 = yf.download(sp500_tickers, start='1980-01-01')['Adj Close']"
   ]
  },
  {
   "cell_type": "code",
   "execution_count": 56,
   "id": "75beea61",
   "metadata": {},
   "outputs": [
    {
     "data": {
      "text/plain": [
       "Date\n",
       "1980-01-02           NaN\n",
       "1980-01-03           NaN\n",
       "1980-01-04           NaN\n",
       "1980-01-07           NaN\n",
       "1980-01-08           NaN\n",
       "                 ...    \n",
       "2021-05-25    126.900002\n",
       "2021-05-26    126.849998\n",
       "2021-05-27    125.279999\n",
       "2021-05-28    124.610001\n",
       "2021-06-01    124.279999\n",
       "Name: AAPL, Length: 10454, dtype: float64"
      ]
     },
     "execution_count": 56,
     "metadata": {},
     "output_type": "execute_result"
    }
   ],
   "source": [
    "pd.options.display.max_columns=10\n",
    "data_sp500['AAPL']"
   ]
  },
  {
   "cell_type": "code",
   "execution_count": null,
   "id": "813ff46a",
   "metadata": {},
   "outputs": [],
   "source": []
  },
  {
   "cell_type": "code",
   "execution_count": 57,
   "id": "ab739c48",
   "metadata": {},
   "outputs": [
    {
     "name": "stdout",
     "output_type": "stream",
     "text": [
      "Wall time: 0 ns\n",
      "MMM..ABT..ABBV..ABMD..ACN..ATVI..ADBE..AMD..AAP..AES..AFL..A..APD..AKAM..ALK..ALB..ARE..ALXN..ALGN..ALLE..LNT..ALL..GOOGL..GOOG..MO..AMZN..AMCR..AEE..AAL..AEP..AXP..AIG..AMT..AWK..AMP..ABC..AME..AMGN..APH..ADI..ANSS..ANTM..AON..AOS..APA..AAPL..AMAT..APTV..ADM..ANET..AJG..AIZ..T..ATO..ADSK..ADP..AZO..AVB..AVY..BKR..BLL..BAC..BK..BAX..BDX..BRK-B..BBY..BIO..BIIB..BLK..BA..BKNG..BWA..BXP..BSX..BMY..AVGO..BR..BF-B..CHRW..COG..CDNS..CZR..CPB..COF..CAH..KMX..CCL..CARR..CTLT..CAT..CBOE..CBRE..CDW..CE..CNC..CNP..CERN..CF..CRL..SCHW..CHTR..CVX..CMG..CB..CHD..CI..CINF..CTAS..CSCO..C..CFG..CTXS..CLX..CME..CMS..KO..CTSH..CL..CMCSA..CMA..CAG..COP..ED..STZ..COO..CPRT..GLW..CTVA..COST..CCI..CSX..CMI..CVS..DHI..DHR..DRI..DVA..DE..DAL..XRAY..DVN..DXCM..FANG..DLR..DFS..DISCA..DISCK..DISH..DG..DLTR..D..DPZ..DOV..DOW..DTE..DUK..DRE..DD..DXC..EMN..ETN..EBAY..ECL..EIX..EW..EA..EMR..ENPH..ETR..EOG..EFX..EQIX..EQR..ESS..EL..ETSY..EVRG..ES..RE..EXC..EXPE..EXPD..EXR..XOM..FFIV..FB..FAST..FRT..FDX..FIS..FITB..FE..FRC..FISV..FLT..FMC..F..FTNT..FTV..FBHS..FOXA..FOX..BEN..FCX..GPS..GRMN..IT..GNRC..GD..GE..GIS..GM..GPC..GILD..GL..GPN..GS..GWW..HAL..HBI..HIG..HAS..HCA..PEAK..HSIC..HSY..HES..HPE..HLT..HFC..HOLX..HD..HON..HRL..HST..HWM..HPQ..HUM..HBAN..HII..IEX..IDXX..INFO..ITW..ILMN..INCY..IR..INTC..ICE..IBM..IP..IPG..IFF..INTU..ISRG..IVZ..IPGP..IQV..IRM..JKHY..J..JBHT..SJM..JNJ..JCI..JPM..JNPR..KSU..K..KEY..KEYS..KMB..KIM..KMI..KLAC..KHC..KR..LB..LHX..LH..LRCX..LW..LVS..LEG..LDOS..LEN..LLY..LNC..LIN..LYV..LKQ..LMT..L..LOW..LUMN..LYB..MTB..MRO..MPC..MKTX..MAR..MMC..MLM..MAS..MA..MKC..MXIM..MCD..MCK..MDT..MRK..MET..MTD..MGM..MCHP..MU..MSFT..MAA..MHK..TAP..MDLZ..MPWR..MNST..MCO..MS..MOS..MSI..MSCI..NDAQ..NTAP..NFLX..NWL..NEM..NWSA..NWS..NEE..NLSN..NKE..NI..NSC..NTRS..NOC..NLOK..NCLH..NOV..NRG..NUE..NVDA..NVR..NXPI..ORLY..OXY..ODFL..OMC..OKE..ORCL..OTIS..PCAR..PKG..PH..PAYX..PAYC..PYPL..PENN..PNR..PBCT..PEP..PKI..PRGO..PFE..PM..PSX..PNW..PXD..PNC..POOL..PPG..PPL..PFG..PG..PGR..PLD..PRU..PTC..PEG..PSA..PHM..PVH..QRVO..PWR..QCOM..DGX..RL..RJF..RTX..O..REG..REGN..RF..RSG..RMD..RHI..ROK..ROL..ROP..ROST..RCL..SPGI..CRM..SBAC..SLB..STX..SEE..SRE..NOW..SHW..SPG..SWKS..SNA..SO..LUV..SWK..SBUX..STT..STE..SYK..SIVB..SYF..SNPS..SYY..TMUS..TROW..TTWO..TPR..TGT..TEL..TDY..TFX..TER..TSLA..TXN..TXT..TMO..TJX..TSCO..TT..TDG..TRV..TRMB..TFC..TWTR..TYL..TSN..UDR..ULTA..USB..UAA..UA..UNP..UAL..UNH..UPS..URI..UHS..UNM..VLO..VTR..VRSN..VRSK..VZ..VRTX..VFC..VIAC..VTRS..V..VNO..VMC..WRB..WAB..WMT..WBA..DIS..WM..WAT..WEC..WFC..WELL..WST..WDC..WU..WRK..WY..WHR..WMB..WLTW..WYNN..XEL..XLNX..XYL..YUM..ZBRA..ZBH..ZION..ZTS.."
     ]
    },
    {
     "data": {
      "text/html": [
       "<div>\n",
       "<style scoped>\n",
       "    .dataframe tbody tr th:only-of-type {\n",
       "        vertical-align: middle;\n",
       "    }\n",
       "\n",
       "    .dataframe tbody tr th {\n",
       "        vertical-align: top;\n",
       "    }\n",
       "\n",
       "    .dataframe thead th {\n",
       "        text-align: right;\n",
       "    }\n",
       "</style>\n",
       "<table border=\"1\" class=\"dataframe\">\n",
       "  <thead>\n",
       "    <tr style=\"text-align: right;\">\n",
       "      <th></th>\n",
       "      <th>rendimiento</th>\n",
       "      <th>dias_in</th>\n",
       "      <th>TEA</th>\n",
       "      <th>ticker</th>\n",
       "    </tr>\n",
       "  </thead>\n",
       "  <tbody>\n",
       "    <tr>\n",
       "      <th>0</th>\n",
       "      <td>0.5401</td>\n",
       "      <td>2458.0</td>\n",
       "      <td>0.0662</td>\n",
       "      <td>MMM</td>\n",
       "    </tr>\n",
       "    <tr>\n",
       "      <th>1</th>\n",
       "      <td>3.5849</td>\n",
       "      <td>4696.0</td>\n",
       "      <td>0.1256</td>\n",
       "      <td>ABT</td>\n",
       "    </tr>\n",
       "    <tr>\n",
       "      <th>2</th>\n",
       "      <td>-0.2473</td>\n",
       "      <td>498.0</td>\n",
       "      <td>-0.1880</td>\n",
       "      <td>ABBV</td>\n",
       "    </tr>\n",
       "    <tr>\n",
       "      <th>3</th>\n",
       "      <td>0.1783</td>\n",
       "      <td>5948.0</td>\n",
       "      <td>0.0101</td>\n",
       "      <td>ABMD</td>\n",
       "    </tr>\n",
       "    <tr>\n",
       "      <th>4</th>\n",
       "      <td>1.1331</td>\n",
       "      <td>3065.0</td>\n",
       "      <td>0.0944</td>\n",
       "      <td>ACN</td>\n",
       "    </tr>\n",
       "    <tr>\n",
       "      <th>...</th>\n",
       "      <td>...</td>\n",
       "      <td>...</td>\n",
       "      <td>...</td>\n",
       "      <td>...</td>\n",
       "    </tr>\n",
       "    <tr>\n",
       "      <th>500</th>\n",
       "      <td>1.5184</td>\n",
       "      <td>2678.0</td>\n",
       "      <td>0.1342</td>\n",
       "      <td>YUM</td>\n",
       "    </tr>\n",
       "    <tr>\n",
       "      <th>501</th>\n",
       "      <td>4.1059</td>\n",
       "      <td>3922.0</td>\n",
       "      <td>0.1638</td>\n",
       "      <td>ZBRA</td>\n",
       "    </tr>\n",
       "    <tr>\n",
       "      <th>502</th>\n",
       "      <td>0.9083</td>\n",
       "      <td>2380.0</td>\n",
       "      <td>0.1042</td>\n",
       "      <td>ZBH</td>\n",
       "    </tr>\n",
       "    <tr>\n",
       "      <th>503</th>\n",
       "      <td>0.2723</td>\n",
       "      <td>6414.0</td>\n",
       "      <td>0.0138</td>\n",
       "      <td>ZION</td>\n",
       "    </tr>\n",
       "    <tr>\n",
       "      <th>504</th>\n",
       "      <td>0.6125</td>\n",
       "      <td>1163.0</td>\n",
       "      <td>0.1618</td>\n",
       "      <td>ZTS</td>\n",
       "    </tr>\n",
       "  </tbody>\n",
       "</table>\n",
       "<p>505 rows × 4 columns</p>\n",
       "</div>"
      ],
      "text/plain": [
       "     rendimiento  dias_in     TEA ticker\n",
       "0         0.5401   2458.0  0.0662    MMM\n",
       "1         3.5849   4696.0  0.1256    ABT\n",
       "2        -0.2473    498.0 -0.1880   ABBV\n",
       "3         0.1783   5948.0  0.0101   ABMD\n",
       "4         1.1331   3065.0  0.0944    ACN\n",
       "..           ...      ...     ...    ...\n",
       "500       1.5184   2678.0  0.1342    YUM\n",
       "501       4.1059   3922.0  0.1638   ZBRA\n",
       "502       0.9083   2380.0  0.1042    ZBH\n",
       "503       0.2723   6414.0  0.0138   ZION\n",
       "504       0.6125   1163.0  0.1618    ZTS\n",
       "\n",
       "[505 rows x 4 columns]"
      ]
     },
     "execution_count": 57,
     "metadata": {},
     "output_type": "execute_result"
    }
   ],
   "source": [
    "%time\n",
    "\n",
    "results = []\n",
    "for ticker in sp500_tickers[:]:\n",
    "    try:\n",
    "        \n",
    "        data = pd.DataFrame(data_sp500[ticker].copy())\n",
    "        data.columns=['close']\n",
    "        \n",
    "        df = addSignal(data, fast=40, slow=52, rsi_q=17, buy_cr=2, buy_rsi=68, sell_cr=0, sell_rsi=35).dropna()\n",
    "        actions = getActions(df, tipo='long')\n",
    "        trades = getTrades(actions,  tipo='long')\n",
    "        r, metricas = resumen(trades)\n",
    "        metricas['ticker'] = ticker\n",
    "        results.append(metricas)\n",
    "\n",
    "        print(ticker, end='..')\n",
    "    except:\n",
    "        s = \"\\n\"+ \"*\"*50 + \"\\n\"\n",
    "        print(s,\"Error con\",ticker,s)\n",
    "\n",
    "results_df = pd.DataFrame(results)\n",
    "results_df"
   ]
  },
  {
   "cell_type": "code",
   "execution_count": 58,
   "id": "ec803e85",
   "metadata": {},
   "outputs": [
    {
     "data": {
      "text/html": [
       "<div>\n",
       "<style scoped>\n",
       "    .dataframe tbody tr th:only-of-type {\n",
       "        vertical-align: middle;\n",
       "    }\n",
       "\n",
       "    .dataframe tbody tr th {\n",
       "        vertical-align: top;\n",
       "    }\n",
       "\n",
       "    .dataframe thead th {\n",
       "        text-align: right;\n",
       "    }\n",
       "</style>\n",
       "<table border=\"1\" class=\"dataframe\">\n",
       "  <thead>\n",
       "    <tr style=\"text-align: right;\">\n",
       "      <th></th>\n",
       "      <th>rendimiento</th>\n",
       "      <th>dias_in</th>\n",
       "      <th>TEA</th>\n",
       "      <th>ticker</th>\n",
       "    </tr>\n",
       "  </thead>\n",
       "  <tbody>\n",
       "    <tr>\n",
       "      <th>45</th>\n",
       "      <td>4797.6540</td>\n",
       "      <td>8048.0</td>\n",
       "      <td>0.4688</td>\n",
       "      <td>AAPL</td>\n",
       "    </tr>\n",
       "    <tr>\n",
       "      <th>461</th>\n",
       "      <td>415.9278</td>\n",
       "      <td>7837.0</td>\n",
       "      <td>0.3244</td>\n",
       "      <td>UNH</td>\n",
       "    </tr>\n",
       "    <tr>\n",
       "      <th>459</th>\n",
       "      <td>229.7175</td>\n",
       "      <td>7377.0</td>\n",
       "      <td>0.3089</td>\n",
       "      <td>UNP</td>\n",
       "    </tr>\n",
       "    <tr>\n",
       "      <th>489</th>\n",
       "      <td>37.8029</td>\n",
       "      <td>7105.0</td>\n",
       "      <td>0.2068</td>\n",
       "      <td>WDC</td>\n",
       "    </tr>\n",
       "    <tr>\n",
       "      <th>60</th>\n",
       "      <td>83.3147</td>\n",
       "      <td>7038.0</td>\n",
       "      <td>0.2586</td>\n",
       "      <td>BLL</td>\n",
       "    </tr>\n",
       "    <tr>\n",
       "      <th>46</th>\n",
       "      <td>391.8703</td>\n",
       "      <td>6918.0</td>\n",
       "      <td>0.3705</td>\n",
       "      <td>AMAT</td>\n",
       "    </tr>\n",
       "    <tr>\n",
       "      <th>54</th>\n",
       "      <td>1.8380</td>\n",
       "      <td>6895.0</td>\n",
       "      <td>0.0568</td>\n",
       "      <td>ADSK</td>\n",
       "    </tr>\n",
       "    <tr>\n",
       "      <th>402</th>\n",
       "      <td>171.6355</td>\n",
       "      <td>6887.0</td>\n",
       "      <td>0.3139</td>\n",
       "      <td>RHI</td>\n",
       "    </tr>\n",
       "    <tr>\n",
       "      <th>196</th>\n",
       "      <td>2.4087</td>\n",
       "      <td>6674.0</td>\n",
       "      <td>0.0694</td>\n",
       "      <td>FMC</td>\n",
       "    </tr>\n",
       "    <tr>\n",
       "      <th>426</th>\n",
       "      <td>15.3746</td>\n",
       "      <td>6656.0</td>\n",
       "      <td>0.1657</td>\n",
       "      <td>SYK</td>\n",
       "    </tr>\n",
       "  </tbody>\n",
       "</table>\n",
       "</div>"
      ],
      "text/plain": [
       "     rendimiento  dias_in     TEA ticker\n",
       "45     4797.6540   8048.0  0.4688   AAPL\n",
       "461     415.9278   7837.0  0.3244    UNH\n",
       "459     229.7175   7377.0  0.3089    UNP\n",
       "489      37.8029   7105.0  0.2068    WDC\n",
       "60       83.3147   7038.0  0.2586    BLL\n",
       "46      391.8703   6918.0  0.3705   AMAT\n",
       "54        1.8380   6895.0  0.0568   ADSK\n",
       "402     171.6355   6887.0  0.3139    RHI\n",
       "196       2.4087   6674.0  0.0694    FMC\n",
       "426      15.3746   6656.0  0.1657    SYK"
      ]
     },
     "execution_count": 58,
     "metadata": {},
     "output_type": "execute_result"
    }
   ],
   "source": [
    "results_df.loc[results_df.dias_in > 0].sort_values('dias_in', ascending=False).head(10)"
   ]
  },
  {
   "cell_type": "code",
   "execution_count": 59,
   "id": "8335004a",
   "metadata": {},
   "outputs": [
    {
     "data": {
      "text/plain": [
       "<AxesSubplot:>"
      ]
     },
     "execution_count": 59,
     "metadata": {},
     "output_type": "execute_result"
    },
    {
     "data": {
      "image/png": "[encoded data removed]",
      "text/plain": [
       "<Figure size 432x288 with 1 Axes>"
      ]
     },
     "metadata": {
      "needs_background": "light"
     },
     "output_type": "display_data"
    }
   ],
   "source": [
    "re = results_df.loc[results_df.dias_in > 0].sort_values('TEA', ascending=False)\n",
    "\n",
    "re.dias_in.reset_index().rolling(30).mean().dias_in.plot()"
   ]
  },
  {
   "cell_type": "code",
   "execution_count": 60,
   "id": "b8bf21f8",
   "metadata": {},
   "outputs": [
    {
     "data": {
      "text/html": [
       "<div>\n",
       "<style scoped>\n",
       "    .dataframe tbody tr th:only-of-type {\n",
       "        vertical-align: middle;\n",
       "    }\n",
       "\n",
       "    .dataframe tbody tr th {\n",
       "        vertical-align: top;\n",
       "    }\n",
       "\n",
       "    .dataframe thead th {\n",
       "        text-align: right;\n",
       "    }\n",
       "</style>\n",
       "<table border=\"1\" class=\"dataframe\">\n",
       "  <thead>\n",
       "    <tr style=\"text-align: right;\">\n",
       "      <th></th>\n",
       "      <th>rendimiento</th>\n",
       "      <th>dias_in</th>\n",
       "      <th>TEA</th>\n",
       "      <th>ticker</th>\n",
       "    </tr>\n",
       "  </thead>\n",
       "  <tbody>\n",
       "    <tr>\n",
       "      <th>168</th>\n",
       "      <td>48.7631</td>\n",
       "      <td>1690.0</td>\n",
       "      <td>1.3254</td>\n",
       "      <td>ENPH</td>\n",
       "    </tr>\n",
       "    <tr>\n",
       "      <th>176</th>\n",
       "      <td>8.3542</td>\n",
       "      <td>1364.0</td>\n",
       "      <td>0.8190</td>\n",
       "      <td>ETSY</td>\n",
       "    </tr>\n",
       "    <tr>\n",
       "      <th>456</th>\n",
       "      <td>3485.5087</td>\n",
       "      <td>5691.0</td>\n",
       "      <td>0.6873</td>\n",
       "      <td>USB</td>\n",
       "    </tr>\n",
       "    <tr>\n",
       "      <th>331</th>\n",
       "      <td>88.0379</td>\n",
       "      <td>3842.0</td>\n",
       "      <td>0.5318</td>\n",
       "      <td>NFLX</td>\n",
       "    </tr>\n",
       "    <tr>\n",
       "      <th>410</th>\n",
       "      <td>224.7577</td>\n",
       "      <td>4995.0</td>\n",
       "      <td>0.4859</td>\n",
       "      <td>SBAC</td>\n",
       "    </tr>\n",
       "    <tr>\n",
       "      <th>...</th>\n",
       "      <td>...</td>\n",
       "      <td>...</td>\n",
       "      <td>...</td>\n",
       "      <td>...</td>\n",
       "    </tr>\n",
       "    <tr>\n",
       "      <th>154</th>\n",
       "      <td>-0.0934</td>\n",
       "      <td>81.0</td>\n",
       "      <td>-0.3571</td>\n",
       "      <td>DOW</td>\n",
       "    </tr>\n",
       "    <tr>\n",
       "      <th>363</th>\n",
       "      <td>-0.1249</td>\n",
       "      <td>93.0</td>\n",
       "      <td>-0.4077</td>\n",
       "      <td>PYPL</td>\n",
       "    </tr>\n",
       "    <tr>\n",
       "      <th>201</th>\n",
       "      <td>-0.1495</td>\n",
       "      <td>77.0</td>\n",
       "      <td>-0.5359</td>\n",
       "      <td>FOXA</td>\n",
       "    </tr>\n",
       "    <tr>\n",
       "      <th>202</th>\n",
       "      <td>-0.1532</td>\n",
       "      <td>78.0</td>\n",
       "      <td>-0.5408</td>\n",
       "      <td>FOX</td>\n",
       "    </tr>\n",
       "    <tr>\n",
       "      <th>128</th>\n",
       "      <td>-0.3428</td>\n",
       "      <td>40.0</td>\n",
       "      <td>-0.9783</td>\n",
       "      <td>CTVA</td>\n",
       "    </tr>\n",
       "  </tbody>\n",
       "</table>\n",
       "<p>504 rows × 4 columns</p>\n",
       "</div>"
      ],
      "text/plain": [
       "     rendimiento  dias_in     TEA ticker\n",
       "168      48.7631   1690.0  1.3254   ENPH\n",
       "176       8.3542   1364.0  0.8190   ETSY\n",
       "456    3485.5087   5691.0  0.6873    USB\n",
       "331      88.0379   3842.0  0.5318   NFLX\n",
       "410     224.7577   4995.0  0.4859   SBAC\n",
       "..           ...      ...     ...    ...\n",
       "154      -0.0934     81.0 -0.3571    DOW\n",
       "363      -0.1249     93.0 -0.4077   PYPL\n",
       "201      -0.1495     77.0 -0.5359   FOXA\n",
       "202      -0.1532     78.0 -0.5408    FOX\n",
       "128      -0.3428     40.0 -0.9783   CTVA\n",
       "\n",
       "[504 rows x 4 columns]"
      ]
     },
     "execution_count": 60,
     "metadata": {},
     "output_type": "execute_result"
    }
   ],
   "source": [
    "re"
   ]
  },
  {
   "cell_type": "code",
   "execution_count": 58,
   "id": "ea6c0385",
   "metadata": {
    "scrolled": true
   },
   "outputs": [
    {
     "data": {
      "text/plain": [
       "<AxesSubplot:ylabel='Frequency'>"
      ]
     },
     "execution_count": 58,
     "metadata": {},
     "output_type": "execute_result"
    },
    {
     "data": {
      "image/png": "[encoded data removed]",
      "text/plain": [
       "<Figure size 432x288 with 1 Axes>"
      ]
     },
     "metadata": {
      "needs_background": "light"
     },
     "output_type": "display_data"
    }
   ],
   "source": [
    "resok = results_df.dropna()\n",
    "resok['TEA'].plot(kind='hist', bins=100, xlim=(-.5,.5), grid=True)"
   ]
  },
  {
   "cell_type": "code",
   "execution_count": 60,
   "id": "673b3374",
   "metadata": {},
   "outputs": [
    {
     "data": {
      "text/plain": [
       "<AxesSubplot:ylabel='Density'>"
      ]
     },
     "execution_count": 60,
     "metadata": {},
     "output_type": "execute_result"
    },
    {
     "data": {
      "image/png": "[encoded data removed]",
      "text/plain": [
       "<Figure size 432x288 with 1 Axes>"
      ]
     },
     "metadata": {
      "needs_background": "light"
     },
     "output_type": "display_data"
    }
   ],
   "source": [
    "resok['TEA'].plot(kind='kde', xlim=(-.5,.5), grid=True)"
   ]
  },
  {
   "cell_type": "code",
   "execution_count": 69,
   "id": "0c89d22f",
   "metadata": {},
   "outputs": [
    {
     "data": {
      "text/plain": [
       "0.11657638888888874"
      ]
     },
     "execution_count": 69,
     "metadata": {},
     "output_type": "execute_result"
    }
   ],
   "source": [
    "re.TEA.mean()"
   ]
  },
  {
   "cell_type": "code",
   "execution_count": null,
   "id": "ed1aa570",
   "metadata": {},
   "outputs": [],
   "source": []
  }
 ],
 "metadata": {
  "kernelspec": {
   "display_name": "Python 3",
   "language": "python",
   "name": "python3"
  },
  "language_info": {
   "codemirror_mode": {
    "name": "ipython",
    "version": 3
   },
   "file_extension": ".py",
   "mimetype": "text/x-python",
   "name": "python",
   "nbconvert_exporter": "python",
   "pygments_lexer": "ipython3",
   "version": "3.8.5"
  },
  "toc": {
   "base_numbering": 1,
   "nav_menu": {},
   "number_sections": true,
   "sideBar": true,
   "skip_h1_title": false,
   "title_cell": "Table of Contents",
   "title_sidebar": "Contents",
   "toc_cell": false,
   "toc_position": {},
   "toc_section_display": true,
   "toc_window_display": true
  }
 },
 "nbformat": 4,
 "nbformat_minor": 5
}
