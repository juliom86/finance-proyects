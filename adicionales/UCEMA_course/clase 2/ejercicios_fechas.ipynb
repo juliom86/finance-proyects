{
 "cells": [
  {
   "cell_type": "markdown",
   "metadata": {},
   "source": [
    "# Ejercicios Fechas"
   ]
  },
  {
   "cell_type": "markdown",
   "metadata": {},
   "source": [
    "1- Dada una fecha en formato string \"YYYY-MM-DD\" obtener el numero de mes como entero"
   ]
  },
  {
   "cell_type": "markdown",
   "metadata": {},
   "source": [
    "2- Dada una fecha en formato string \"DD/MM/YY\" obtener el año formato YYYY"
   ]
  },
  {
   "cell_type": "markdown",
   "metadata": {},
   "source": [
    "3- Dada una fecha en formato string \"DD/MM/YY\" obtener el dia de la semana ISO (1: Lunes, 2: Martes.... 7: Domingo)"
   ]
  },
  {
   "cell_type": "code",
   "execution_count": 1,
   "metadata": {},
   "outputs": [],
   "source": [
    "# Ayuda: Buscar en la documentacion de datetime algún método que devuelva el numero de dia usando:\n",
    "    \n",
    "import datetime\n",
    "dir(datetime.datetime)"
   ]
  },
  {
   "cell_type": "markdown",
   "metadata": {},
   "source": [
    "4- Obtener el nombre del día, del ejercicio anterior, en castellano"
   ]
  },
  {
   "cell_type": "code",
   "execution_count": 2,
   "metadata": {},
   "outputs": [
    {
     "data": {
      "text/plain": [
       "['Monday', 'Tuesday', 'Wednesday', 'Thursday', 'Friday', 'Saturday', 'Sunday']"
      ]
     },
     "execution_count": 2,
     "metadata": {},
     "output_type": "execute_result"
    }
   ],
   "source": [
    "# Ayuda la libreria calendar tiene entre muchas cosas para manejar calendarios lo siguiente:\n",
    "\n",
    "import calendar\n",
    "\n",
    "list(calendar.day_name)"
   ]
  },
  {
   "cell_type": "markdown",
   "metadata": {},
   "source": [
    "5- Dada una fecha futura en formato \"YYYY-MM-DD\" obtener la cantidad de días faltantes a partir de hoy\n",
    "\n",
    "El resultado debe ser un número flotante, calcular cada segundo que falte para llegar a dicha fecha como una fracción de l aparte decimal del resultado"
   ]
  },
  {
   "cell_type": "markdown",
   "metadata": {},
   "source": [
    "6- Obtener una fecha al azar que sea una cantidad de días posterior a una fecha dada en el formato \"DD/MM/YYYY\", en una variable \"fecha\", esca cantidad de dias al azar debe ser al menos 30 días y como máximo 365 días"
   ]
  },
  {
   "cell_type": "markdown",
   "metadata": {},
   "source": [
    "7- Luego de resolver el ejercicio 6, obtener la cantidad de días de la fecha resultante transcurridos desde el 1ro de enero de su año calendario. Ojo, pensar bien una resolucion que aplique a cualquier fecha"
   ]
  },
  {
   "cell_type": "code",
   "execution_count": null,
   "metadata": {},
   "outputs": [],
   "source": []
  },
  {
   "cell_type": "code",
   "execution_count": null,
   "metadata": {},
   "outputs": [],
   "source": []
  },
  {
   "cell_type": "code",
   "execution_count": null,
   "metadata": {},
   "outputs": [],
   "source": []
  },
  {
   "cell_type": "code",
   "execution_count": null,
   "metadata": {},
   "outputs": [],
   "source": []
  },
  {
   "cell_type": "markdown",
   "metadata": {},
   "source": [
    "# Respuestas"
   ]
  },
  {
   "cell_type": "code",
   "execution_count": 3,
   "metadata": {},
   "outputs": [
    {
     "data": {
      "text/plain": [
       "8"
      ]
     },
     "execution_count": 3,
     "metadata": {},
     "output_type": "execute_result"
    }
   ],
   "source": [
    "#======================#\n",
    "#     Respuesta 1      #\n",
    "#======================#\n",
    "\n",
    "import datetime\n",
    "\n",
    "fecha = '2021-08-20'\n",
    "\n",
    "mes = datetime.datetime.strptime(fecha, '%Y-%m-%d').month\n",
    "mes"
   ]
  },
  {
   "cell_type": "code",
   "execution_count": 4,
   "metadata": {},
   "outputs": [
    {
     "data": {
      "text/plain": [
       "8"
      ]
     },
     "execution_count": 4,
     "metadata": {},
     "output_type": "execute_result"
    }
   ],
   "source": [
    "mes = int(fecha[5:7])\n",
    "mes"
   ]
  },
  {
   "cell_type": "code",
   "execution_count": 5,
   "metadata": {},
   "outputs": [
    {
     "data": {
      "text/plain": [
       "2019"
      ]
     },
     "execution_count": 5,
     "metadata": {},
     "output_type": "execute_result"
    }
   ],
   "source": [
    "#======================#\n",
    "#     Respuesta 2      #\n",
    "#======================#\n",
    "\n",
    "fecha = '12/08/19'\n",
    "fecha = datetime.datetime.strptime(fecha, '%d/%m/%y')\n",
    "fecha.year"
   ]
  },
  {
   "cell_type": "code",
   "execution_count": 6,
   "metadata": {},
   "outputs": [
    {
     "data": {
      "text/plain": [
       "1"
      ]
     },
     "execution_count": 6,
     "metadata": {},
     "output_type": "execute_result"
    }
   ],
   "source": [
    "#======================#\n",
    "#     Respuesta 3      #\n",
    "#======================#\n",
    "\n",
    "fecha = '12/08/19'\n",
    "fecha = datetime.datetime.strptime(fecha, '%d/%m/%y')\n",
    "dia_iso = fecha.isoweekday()\n",
    "dia_iso"
   ]
  },
  {
   "cell_type": "code",
   "execution_count": 7,
   "metadata": {},
   "outputs": [
    {
     "data": {
      "text/plain": [
       "'Monday'"
      ]
     },
     "execution_count": 7,
     "metadata": {},
     "output_type": "execute_result"
    }
   ],
   "source": [
    "#======================#\n",
    "#     Respuesta 4      #\n",
    "#======================#\n",
    "\n",
    "import locale\n",
    "import calendar\n",
    "\n",
    "dias = list(calendar.day_name)\n",
    "locale.setlocale(locale.LC_ALL, 'es')\n",
    "dias[dia_iso-1]"
   ]
  },
  {
   "cell_type": "code",
   "execution_count": 8,
   "metadata": {},
   "outputs": [
    {
     "data": {
      "text/plain": [
       "246.02087962962963"
      ]
     },
     "execution_count": 8,
     "metadata": {},
     "output_type": "execute_result"
    }
   ],
   "source": [
    "#======================#\n",
    "#     Respuesta 5      #\n",
    "#======================#\n",
    "\n",
    "fecha = '2021-12-09'\n",
    "hoy = datetime.datetime.today()\n",
    "\n",
    "fecha = datetime.datetime.strptime(fecha, '%Y-%m-%d')\n",
    "dias = fecha - hoy\n",
    "dias_decimal = dias.days + dias.seconds / (24*3600)\n",
    "dias_decimal"
   ]
  },
  {
   "cell_type": "code",
   "execution_count": 9,
   "metadata": {},
   "outputs": [
    {
     "data": {
      "text/plain": [
       "datetime.datetime(2021, 10, 11, 0, 0)"
      ]
     },
     "execution_count": 9,
     "metadata": {},
     "output_type": "execute_result"
    }
   ],
   "source": [
    "#======================#\n",
    "#     Respuesta 6      #\n",
    "#======================#\n",
    "\n",
    "import datetime\n",
    "import random\n",
    "\n",
    "fecha = '12/3/2021'\n",
    "\n",
    "fecha_obj = datetime.datetime.strptime(fecha, '%d/%m/%Y')\n",
    "dias_al_azar = random.randrange(30,365)\n",
    "res = fecha_obj + datetime.timedelta(days=dias_al_azar)\n",
    "res"
   ]
  },
  {
   "cell_type": "code",
   "execution_count": 10,
   "metadata": {},
   "outputs": [
    {
     "data": {
      "text/plain": [
       "(datetime.datetime(2022, 5, 22, 0, 0), 141)"
      ]
     },
     "execution_count": 10,
     "metadata": {},
     "output_type": "execute_result"
    }
   ],
   "source": [
    "#======================#\n",
    "#     Respuesta 7      #\n",
    "#======================#\n",
    "\n",
    "import datetime\n",
    "import random\n",
    "\n",
    "fecha = '12/6/2021'\n",
    "\n",
    "fecha_obj = datetime.datetime.strptime(fecha, '%d/%m/%Y')\n",
    "dias_al_azar = random.randrange(30,365)\n",
    "res = fecha_obj + datetime.timedelta(days=dias_al_azar)\n",
    "# Hasta aca el ejercicio anterior\n",
    "\n",
    "año = res.year\n",
    "fecha_comparacion = datetime.datetime(año,1,1)\n",
    "dias = (res-fecha_comparacion).days\n",
    "\n",
    "res, dias"
   ]
  },
  {
   "cell_type": "code",
   "execution_count": null,
   "metadata": {},
   "outputs": [],
   "source": []
  },
  {
   "cell_type": "code",
   "execution_count": null,
   "metadata": {},
   "outputs": [],
   "source": []
  },
  {
   "cell_type": "code",
   "execution_count": null,
   "metadata": {},
   "outputs": [],
   "source": []
  },
  {
   "cell_type": "code",
   "execution_count": null,
   "metadata": {},
   "outputs": [],
   "source": []
  },
  {
   "cell_type": "code",
   "execution_count": null,
   "metadata": {},
   "outputs": [],
   "source": []
  },
  {
   "cell_type": "code",
   "execution_count": null,
   "metadata": {},
   "outputs": [],
   "source": []
  },
  {
   "cell_type": "code",
   "execution_count": null,
   "metadata": {},
   "outputs": [],
   "source": []
  },
  {
   "cell_type": "markdown",
   "metadata": {},
   "source": [
    "# Ejercicio para integrar cuando vean FOR e IF"
   ]
  },
  {
   "cell_type": "markdown",
   "metadata": {},
   "source": [
    "#- Partiendo de un año y mes, obtener el objeto datetime que contenga el tercer viernes de ese mes"
   ]
  },
  {
   "cell_type": "code",
   "execution_count": 11,
   "metadata": {},
   "outputs": [
    {
     "data": {
      "text/plain": [
       "datetime.date(2021, 3, 19)"
      ]
     },
     "execution_count": 11,
     "metadata": {},
     "output_type": "execute_result"
    }
   ],
   "source": [
    "#======================#\n",
    "#     Respuesta #      #\n",
    "#======================#\n",
    "\n",
    "# usando iterador\n",
    "\n",
    "import datetime\n",
    "\n",
    "mes, año = 3, 2021\n",
    "fecha = datetime.date(año, mes, 15)  \n",
    "# partimos del dia 15 porque hasta el 14 hay exactamente 2 viernes, no puede haber mas ni menos\n",
    "\n",
    "\n",
    "for i in range(8):\n",
    "    if fecha.isoweekday() == 5:\n",
    "        break\n",
    "    else:\n",
    "        fecha = fecha + datetime.timedelta(days=1)\n",
    "        \n",
    "fecha"
   ]
  },
  {
   "cell_type": "code",
   "execution_count": 12,
   "metadata": {},
   "outputs": [
    {
     "data": {
      "text/plain": [
       "datetime.date(2021, 3, 19)"
      ]
     },
     "execution_count": 12,
     "metadata": {},
     "output_type": "execute_result"
    }
   ],
   "source": [
    "#======================#\n",
    "#     Respuesta #      #\n",
    "#======================#\n",
    "\n",
    "# Alternativa usando objeto calendario, personalmente me parece demasiado rebuscada\n",
    "\n",
    "import calendar\n",
    "\n",
    "mes, año = 3, 2021\n",
    "mes_objeto = calendar.Calendar().monthdatescalendar(año, mes)\n",
    "vierness = [day for week in mes_objeto for day in week \n",
    "            if  day.weekday() == calendar.FRIDAY and day.month == mes]\n",
    "\n",
    "tercer_viernes = vierness[2]\n",
    "\n",
    "tercer_viernes"
   ]
  },
  {
   "cell_type": "code",
   "execution_count": null,
   "metadata": {},
   "outputs": [],
   "source": []
  },
  {
   "cell_type": "code",
   "execution_count": null,
   "metadata": {},
   "outputs": [],
   "source": []
  }
 ],
 "metadata": {
  "kernelspec": {
   "display_name": "Python 3",
   "language": "python",
   "name": "python3"
  },
  "language_info": {
   "codemirror_mode": {
    "name": "ipython",
    "version": 3
   },
   "file_extension": ".py",
   "mimetype": "text/x-python",
   "name": "python",
   "nbconvert_exporter": "python",
   "pygments_lexer": "ipython3",
   "version": "3.8.5"
  },
  "toc": {
   "base_numbering": 1,
   "nav_menu": {},
   "number_sections": true,
   "sideBar": true,
   "skip_h1_title": false,
   "title_cell": "Table of Contents",
   "title_sidebar": "Contents",
   "toc_cell": false,
   "toc_position": {},
   "toc_section_display": true,
   "toc_window_display": false
  }
 },
 "nbformat": 4,
 "nbformat_minor": 4
}
