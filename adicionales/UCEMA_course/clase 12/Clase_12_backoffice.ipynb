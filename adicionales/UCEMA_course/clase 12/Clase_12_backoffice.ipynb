{
 "cells": [
  {
   "cell_type": "markdown",
   "id": "7b21efcf",
   "metadata": {},
   "source": [
    "# Flujo de Tarea"
   ]
  },
  {
   "cell_type": "markdown",
   "id": "99d505fd",
   "metadata": {},
   "source": [
    "1 - Tenemos un listado de clientes \n",
    "\n",
    "2 - Cada cliente tiene sus stocks en cartera\n",
    "\n",
    "3 - Nuestra misión es:\n",
    "    \n",
    "    * Leer ese listado\n",
    "    * Ver para cada cliente si alguno de sus activos esta entrando en bear-mkt\n",
    "    * En caso afirmativo:\n",
    "        * Preparar reporte de opciones en un rango dado de vencimientos \n",
    "        * Mandarle un mail avisando potencial bearMkt y adjuntarle listado de coberturas\n",
    "    * A todos los clientes:\n",
    "        * Mandar un reporte semanal con info de su cartera (ej: variaciones semanales y mensuales por activo)\n",
    "        * Adjuntar un gráfico en el mail con variacion de sus activos en base100 ultimos 30 días\n",
    "    * Guardar en carpeta de cada cliente todos los reportes separados (el texto, la imagen, el excel de coberturas)\n",
    "    * Enviar un mail con el texto, la imagen y los excels de coberturas al cliente\n",
    "    * Guardar un ZIP en la carpeta del cliente con todos lo enviado por email, por fecha\n",
    "    * Borrar los excels sueltos que habiamos guardado para enviar el email\n",
    "    "
   ]
  },
  {
   "cell_type": "markdown",
   "id": "964e4a27",
   "metadata": {},
   "source": [
    "<img src=\"imagenes/diagrama_de_flujo.svg\" width=800>"
   ]
  },
  {
   "cell_type": "code",
   "execution_count": null,
   "id": "4a6e4436",
   "metadata": {},
   "outputs": [],
   "source": []
  },
  {
   "cell_type": "code",
   "execution_count": null,
   "id": "a945795a",
   "metadata": {},
   "outputs": [],
   "source": []
  },
  {
   "cell_type": "markdown",
   "id": "76e18b7d",
   "metadata": {},
   "source": [
    "## Leer listado de clientes"
   ]
  },
  {
   "cell_type": "markdown",
   "id": "8fa8f12e",
   "metadata": {},
   "source": [
    "### Ver path actual"
   ]
  },
  {
   "cell_type": "code",
   "execution_count": 1,
   "id": "d38c0728",
   "metadata": {},
   "outputs": [
    {
     "data": {
      "text/plain": [
       "'C:\\\\Users\\\\Usuario\\\\Desktop\\\\cursos_2021\\\\PreQuant'"
      ]
     },
     "execution_count": 1,
     "metadata": {},
     "output_type": "execute_result"
    }
   ],
   "source": [
    "import os\n",
    "\n",
    "os.getcwd()"
   ]
  },
  {
   "cell_type": "markdown",
   "id": "4f85ef7d",
   "metadata": {},
   "source": [
    "### Crear Directorio"
   ]
  },
  {
   "cell_type": "code",
   "execution_count": 2,
   "id": "90adbd8e",
   "metadata": {},
   "outputs": [],
   "source": [
    "if not os.path.exists('clase_backoffice'):\n",
    "    os.mkdir('clase_backoffice')\n",
    "else:\n",
    "    print('el directorio ya existe en el path:')\n",
    "    path = os.getcwd()\n",
    "    print(path)"
   ]
  },
  {
   "cell_type": "markdown",
   "id": "83ee5356",
   "metadata": {},
   "source": [
    "### Ir a directorio determinado"
   ]
  },
  {
   "cell_type": "code",
   "execution_count": 3,
   "id": "cf4e9bb3",
   "metadata": {},
   "outputs": [
    {
     "name": "stdout",
     "output_type": "stream",
     "text": [
      "Nos movimos al directorio:\n",
      "C:\\Users\\Usuario\\Desktop\\cursos_2021\\PreQuant\\clase_backoffice\n"
     ]
    }
   ],
   "source": [
    "if os.path.exists('clase_backoffice'):\n",
    "    os.chdir(\"clase_backoffice\")\n",
    "    print('Nos movimos al directorio:')\n",
    "    path = os.getcwd()\n",
    "    print(path)    \n",
    "else:\n",
    "    print('El directorio no existe en el path actual:')\n",
    "    path = os.getcwd()\n",
    "    print(path)"
   ]
  },
  {
   "cell_type": "code",
   "execution_count": 4,
   "id": "e469bb13",
   "metadata": {},
   "outputs": [],
   "source": [
    "clientes = [{'nombre':'cliente_1', 'email':'clasespython2020@gmail.com', 'stocks':'AAPL,FB'},\n",
    "            {'nombre':'cliente_2', 'email':'clasespython2020@gmail.com', 'stocks':'AMZN,NFLX,JPM'},\n",
    "            {'nombre':'cliente_3', 'email':'clasespython2020@gmail.com', 'stocks':'KO,PG,VZ'}\n",
    "           ]"
   ]
  },
  {
   "cell_type": "code",
   "execution_count": 5,
   "id": "32078c40",
   "metadata": {},
   "outputs": [],
   "source": [
    "import pandas as pd\n",
    "\n",
    "pd.DataFrame(clientes).to_excel('clientes.xlsx',index=False)"
   ]
  },
  {
   "cell_type": "markdown",
   "id": "bf883f47",
   "metadata": {},
   "source": [
    "### Retroceder directorio"
   ]
  },
  {
   "cell_type": "code",
   "execution_count": 6,
   "id": "edf51ad9",
   "metadata": {},
   "outputs": [],
   "source": [
    "os.chdir('..')"
   ]
  },
  {
   "cell_type": "code",
   "execution_count": 7,
   "id": "31a42caa",
   "metadata": {},
   "outputs": [
    {
     "data": {
      "text/plain": [
       "'C:\\\\Users\\\\Usuario\\\\Desktop\\\\cursos_2021\\\\PreQuant'"
      ]
     },
     "execution_count": 7,
     "metadata": {},
     "output_type": "execute_result"
    }
   ],
   "source": [
    "os.getcwd()"
   ]
  },
  {
   "cell_type": "markdown",
   "id": "a50088bd",
   "metadata": {},
   "source": [
    "### Ahora si voy a leer listado"
   ]
  },
  {
   "cell_type": "code",
   "execution_count": 8,
   "id": "7b429183",
   "metadata": {
    "scrolled": true
   },
   "outputs": [
    {
     "data": {
      "text/html": [
       "<div>\n",
       "<style scoped>\n",
       "    .dataframe tbody tr th:only-of-type {\n",
       "        vertical-align: middle;\n",
       "    }\n",
       "\n",
       "    .dataframe tbody tr th {\n",
       "        vertical-align: top;\n",
       "    }\n",
       "\n",
       "    .dataframe thead th {\n",
       "        text-align: right;\n",
       "    }\n",
       "</style>\n",
       "<table border=\"1\" class=\"dataframe\">\n",
       "  <thead>\n",
       "    <tr style=\"text-align: right;\">\n",
       "      <th></th>\n",
       "      <th>email</th>\n",
       "      <th>stocks</th>\n",
       "    </tr>\n",
       "    <tr>\n",
       "      <th>nombre</th>\n",
       "      <th></th>\n",
       "      <th></th>\n",
       "    </tr>\n",
       "  </thead>\n",
       "  <tbody>\n",
       "    <tr>\n",
       "      <th>cliente_1</th>\n",
       "      <td>clasespython2020@gmail.com</td>\n",
       "      <td>AAPL,FB</td>\n",
       "    </tr>\n",
       "    <tr>\n",
       "      <th>cliente_2</th>\n",
       "      <td>clasespython2020@gmail.com</td>\n",
       "      <td>AMZN,NFLX,JPM</td>\n",
       "    </tr>\n",
       "    <tr>\n",
       "      <th>cliente_3</th>\n",
       "      <td>clasespython2020@gmail.com</td>\n",
       "      <td>KO,PG,VZ</td>\n",
       "    </tr>\n",
       "  </tbody>\n",
       "</table>\n",
       "</div>"
      ],
      "text/plain": [
       "                                email         stocks\n",
       "nombre                                              \n",
       "cliente_1  clasespython2020@gmail.com        AAPL,FB\n",
       "cliente_2  clasespython2020@gmail.com  AMZN,NFLX,JPM\n",
       "cliente_3  clasespython2020@gmail.com       KO,PG,VZ"
      ]
     },
     "execution_count": 8,
     "metadata": {},
     "output_type": "execute_result"
    }
   ],
   "source": [
    "import pandas as pd\n",
    "\n",
    "directorio = r'C:\\Users\\Usuario\\Desktop\\cursos_2021\\PreQuant\\clase_backoffice'\n",
    "directorio = 'C:\\\\Users\\\\Usuario\\\\Desktop\\\\cursos_2021\\\\PreQuant\\\\clase_backoffice'\n",
    "directorio = 'C:/Users/Usuario/Desktop/cursos_2021/PreQuant/clase_backoffice'\n",
    "\n",
    "os.chdir(directorio)\n",
    "clientes = pd.read_excel(\"clientes.xlsx\", index_col='nombre')\n",
    "clientes"
   ]
  },
  {
   "cell_type": "markdown",
   "id": "ee867d32",
   "metadata": {},
   "source": [
    "### Para cada cliente armo una lista de activos"
   ]
  },
  {
   "cell_type": "code",
   "execution_count": 9,
   "id": "0e001aac",
   "metadata": {},
   "outputs": [
    {
     "data": {
      "text/plain": [
       "{'cliente_1': ['AAPL', 'FB'],\n",
       " 'cliente_2': ['AMZN', 'NFLX', 'JPM'],\n",
       " 'cliente_3': ['KO', 'PG', 'VZ']}"
      ]
     },
     "execution_count": 9,
     "metadata": {},
     "output_type": "execute_result"
    }
   ],
   "source": [
    "stocks = {}\n",
    "emails = {}\n",
    "\n",
    "for cliente in clientes.index.values:\n",
    "    stocks[cliente] = clientes.loc[cliente,'stocks'].split(',')\n",
    "    emails[cliente] = clientes.loc[cliente,'email']\n",
    "    \n",
    "stocks"
   ]
  },
  {
   "cell_type": "code",
   "execution_count": 10,
   "id": "8dc0128b",
   "metadata": {},
   "outputs": [
    {
     "data": {
      "text/plain": [
       "{'cliente_1': 'clasespython2020@gmail.com',\n",
       " 'cliente_2': 'clasespython2020@gmail.com',\n",
       " 'cliente_3': 'clasespython2020@gmail.com'}"
      ]
     },
     "execution_count": 10,
     "metadata": {},
     "output_type": "execute_result"
    }
   ],
   "source": [
    "emails"
   ]
  },
  {
   "cell_type": "markdown",
   "id": "ce7b6e65",
   "metadata": {},
   "source": [
    "## Preparar datos"
   ]
  },
  {
   "cell_type": "markdown",
   "id": "d66586b8",
   "metadata": {},
   "source": [
    "En este caso, voy a leer data historica de cada activo y calcular \n",
    "\n",
    "    * La volatilidad histórica (usaremos 40 ruedas)\n",
    "    * La variación % ultimos 7 días y 30 días\n",
    "\n",
    "Condición para mandar reporte con puts sugeridos:\n",
    "\n",
    "    * variación semanal es menor a -2%\n",
    "    * variación mensual menor a -5%\n",
    "\n",
    "Puts sugeridos:\n",
    "\n",
    "    * Vencimientos de 20 a 90 días\n",
    "    * Volatilidad implícita menor a la 2 * histórica en 40 ruedas"
   ]
  },
  {
   "cell_type": "code",
   "execution_count": 11,
   "id": "1e6edd38",
   "metadata": {},
   "outputs": [],
   "source": [
    "import requests\n",
    "import pandas as pd\n",
    "\n",
    "c_key = \"NYF6LZZITQAOCYNQHYUZOJF4XGDPT0KK\""
   ]
  },
  {
   "cell_type": "code",
   "execution_count": 12,
   "id": "f40a8289",
   "metadata": {},
   "outputs": [],
   "source": [
    "def getHist(symbol, periodT='day', period=1, freqT='minute', freq=1, na='true'):\n",
    "    \n",
    "    params = {'symbol':symbol, 'periodType':periodT, 'period':period, \n",
    "              'apikey' : c_key, 'frequencyType':freqT, 'frequency':freq ,\n",
    "              'needExtendedHoursData':na}\n",
    "    \n",
    "    url_base='https://api.tdameritrade.com/v1/marketdata/'\n",
    "    \n",
    "    endpoint = url_base + symbol+'/pricehistory'\n",
    "    \n",
    "    r = requests.get(url=endpoint, params=params)  # data, json\n",
    "    try:\n",
    "        js = r.json()['candles']\n",
    "        df = pd.DataFrame(js)\n",
    "        df['fecha'] = pd.to_datetime(df.datetime - 3600*1000*3, unit='ms')\n",
    "        df = df.set_index('fecha')\n",
    "    except:\n",
    "        print('Error, ojo que tenemos una rta inesperada', r.json())\n",
    "        df = pd.DataFrame()\n",
    "        \n",
    "    return df"
   ]
  },
  {
   "cell_type": "code",
   "execution_count": 13,
   "id": "4cf87fb4",
   "metadata": {},
   "outputs": [],
   "source": [
    "def options(symbol, days_f=0, days_t=0):\n",
    "    params = {'apikey' : c_key, 'symbol':symbol}\n",
    "    endpoint = 'https://api.tdameritrade.com/v1/marketdata/chains'\n",
    "    r = requests.get(url=endpoint ,params=params)\n",
    "    \n",
    "    chain = r.json()\n",
    "    v_calls = list(chain['callExpDateMap'].values())\n",
    "    v_calls_fechas = list(chain['callExpDateMap'].keys())\n",
    "    v_puts = list(chain['putExpDateMap'].values())\n",
    "    v_puts_fechas = list(chain['putExpDateMap'].keys())\n",
    "\n",
    "    calls = []\n",
    "    for i in range(len(v_calls)):\n",
    "        v = list(v_calls[i].values())    \n",
    "        for j in range(len(v)):\n",
    "            calls.append(v[j][0])\n",
    "\n",
    "    puts = []\n",
    "    for i in range(len(v_puts)):\n",
    "        v = list(v_puts[i].values())    \n",
    "        for j in range(len(v)):\n",
    "            puts.append(v[j][0])\n",
    "\n",
    "    contracts = pd.concat([pd.DataFrame(calls),pd.DataFrame(puts)])    \n",
    "            \n",
    "    if (days_f > 0) & (days_t)>0:\n",
    "        try:\n",
    "            contracts = contracts.loc[(contracts.daysToExpiration > days_f) & (contracts.daysToExpiration < days_t)]\n",
    "\n",
    "        except:\n",
    "            print(f\"ERROR: {symbol} \\n {contracts}\")\n",
    "\n",
    "    \n",
    "    try:\n",
    "        contracts = contracts.loc[:,['strikePrice','daysToExpiration','putCall','bid','ask',\n",
    "                             'last','volatility','openInterest', 'theoreticalOptionValue',\n",
    "                              'delta', 'gamma', 'theta', 'vega', 'rho']]\n",
    "\n",
    "        contracts.columns = ['Strike','Dias','Tipo','Bid','Ask', 'Ultimo','VI','OpenInt','PrimaT', \n",
    "                             'delta', 'gamma', 'theta', 'vega', 'rho']\n",
    "\n",
    "    except:\n",
    "        print(f\"ERROR: {symbol} \\n {contracts}\")\n",
    "        \n",
    "    return contracts"
   ]
  },
  {
   "cell_type": "code",
   "execution_count": 14,
   "id": "05ab409c",
   "metadata": {},
   "outputs": [
    {
     "data": {
      "text/plain": [
       "(44.17, -2.42, 29.62)"
      ]
     },
     "execution_count": 14,
     "metadata": {},
     "output_type": "execute_result"
    }
   ],
   "source": [
    "data = getHist('GGAL', periodT='year', period=20, freqT='daily', freq=1, na='false')\n",
    "data['VH'] = data.close.pct_change().rolling(40).std() * 250**0.5 *100\n",
    "data['v_semanal'] = (data.close / data.close.shift(5) - 1) *100 \n",
    "data['v_mensual'] = (data.close / data.close.shift(30) - 1) *100\n",
    "data = data.round(2)\n",
    "\n",
    "vh, v_semanal, v_mensual = data.iloc[-1,-3:]\n",
    "vh, v_semanal, v_mensual"
   ]
  },
  {
   "cell_type": "code",
   "execution_count": 15,
   "id": "d51cf8a2",
   "metadata": {},
   "outputs": [
    {
     "data": {
      "text/html": [
       "<div>\n",
       "<style scoped>\n",
       "    .dataframe tbody tr th:only-of-type {\n",
       "        vertical-align: middle;\n",
       "    }\n",
       "\n",
       "    .dataframe tbody tr th {\n",
       "        vertical-align: top;\n",
       "    }\n",
       "\n",
       "    .dataframe thead th {\n",
       "        text-align: right;\n",
       "    }\n",
       "</style>\n",
       "<table border=\"1\" class=\"dataframe\">\n",
       "  <thead>\n",
       "    <tr style=\"text-align: right;\">\n",
       "      <th></th>\n",
       "      <th>Strike</th>\n",
       "      <th>Dias</th>\n",
       "      <th>Tipo</th>\n",
       "      <th>Bid</th>\n",
       "      <th>Ask</th>\n",
       "      <th>Ultimo</th>\n",
       "      <th>VI</th>\n",
       "      <th>OpenInt</th>\n",
       "      <th>PrimaT</th>\n",
       "      <th>delta</th>\n",
       "      <th>gamma</th>\n",
       "      <th>theta</th>\n",
       "      <th>vega</th>\n",
       "      <th>rho</th>\n",
       "    </tr>\n",
       "  </thead>\n",
       "  <tbody>\n",
       "    <tr>\n",
       "      <th>0</th>\n",
       "      <td>65.0</td>\n",
       "      <td>5</td>\n",
       "      <td>CALL</td>\n",
       "      <td>65.35</td>\n",
       "      <td>65.50</td>\n",
       "      <td>65.91</td>\n",
       "      <td>123.842</td>\n",
       "      <td>2</td>\n",
       "      <td>65.460</td>\n",
       "      <td>1.000</td>\n",
       "      <td>0.000</td>\n",
       "      <td>0.000</td>\n",
       "      <td>0.000</td>\n",
       "      <td>0.000</td>\n",
       "    </tr>\n",
       "    <tr>\n",
       "      <th>1</th>\n",
       "      <td>70.0</td>\n",
       "      <td>5</td>\n",
       "      <td>CALL</td>\n",
       "      <td>60.35</td>\n",
       "      <td>60.50</td>\n",
       "      <td>60.96</td>\n",
       "      <td>113.775</td>\n",
       "      <td>20</td>\n",
       "      <td>60.460</td>\n",
       "      <td>1.000</td>\n",
       "      <td>0.000</td>\n",
       "      <td>0.000</td>\n",
       "      <td>0.000</td>\n",
       "      <td>0.000</td>\n",
       "    </tr>\n",
       "    <tr>\n",
       "      <th>2</th>\n",
       "      <td>75.0</td>\n",
       "      <td>5</td>\n",
       "      <td>CALL</td>\n",
       "      <td>55.35</td>\n",
       "      <td>55.50</td>\n",
       "      <td>55.95</td>\n",
       "      <td>107.167</td>\n",
       "      <td>10</td>\n",
       "      <td>55.460</td>\n",
       "      <td>1.000</td>\n",
       "      <td>0.000</td>\n",
       "      <td>0.000</td>\n",
       "      <td>0.000</td>\n",
       "      <td>0.000</td>\n",
       "    </tr>\n",
       "    <tr>\n",
       "      <th>3</th>\n",
       "      <td>80.0</td>\n",
       "      <td>5</td>\n",
       "      <td>CALL</td>\n",
       "      <td>50.35</td>\n",
       "      <td>50.50</td>\n",
       "      <td>48.81</td>\n",
       "      <td>99.860</td>\n",
       "      <td>10</td>\n",
       "      <td>50.460</td>\n",
       "      <td>1.000</td>\n",
       "      <td>0.000</td>\n",
       "      <td>0.000</td>\n",
       "      <td>0.000</td>\n",
       "      <td>0.000</td>\n",
       "    </tr>\n",
       "    <tr>\n",
       "      <th>4</th>\n",
       "      <td>85.0</td>\n",
       "      <td>5</td>\n",
       "      <td>CALL</td>\n",
       "      <td>45.35</td>\n",
       "      <td>45.50</td>\n",
       "      <td>45.60</td>\n",
       "      <td>92.290</td>\n",
       "      <td>38</td>\n",
       "      <td>45.460</td>\n",
       "      <td>1.000</td>\n",
       "      <td>0.000</td>\n",
       "      <td>0.000</td>\n",
       "      <td>0.000</td>\n",
       "      <td>0.000</td>\n",
       "    </tr>\n",
       "    <tr>\n",
       "      <th>...</th>\n",
       "      <td>...</td>\n",
       "      <td>...</td>\n",
       "      <td>...</td>\n",
       "      <td>...</td>\n",
       "      <td>...</td>\n",
       "      <td>...</td>\n",
       "      <td>...</td>\n",
       "      <td>...</td>\n",
       "      <td>...</td>\n",
       "      <td>...</td>\n",
       "      <td>...</td>\n",
       "      <td>...</td>\n",
       "      <td>...</td>\n",
       "      <td>...</td>\n",
       "    </tr>\n",
       "    <tr>\n",
       "      <th>867</th>\n",
       "      <td>220.0</td>\n",
       "      <td>726</td>\n",
       "      <td>PUT</td>\n",
       "      <td>92.35</td>\n",
       "      <td>92.85</td>\n",
       "      <td>91.83</td>\n",
       "      <td>30.696</td>\n",
       "      <td>11</td>\n",
       "      <td>93.260</td>\n",
       "      <td>-0.837</td>\n",
       "      <td>0.004</td>\n",
       "      <td>-0.009</td>\n",
       "      <td>0.452</td>\n",
       "      <td>-4.039</td>\n",
       "    </tr>\n",
       "    <tr>\n",
       "      <th>868</th>\n",
       "      <td>230.0</td>\n",
       "      <td>726</td>\n",
       "      <td>PUT</td>\n",
       "      <td>101.80</td>\n",
       "      <td>102.30</td>\n",
       "      <td>101.20</td>\n",
       "      <td>31.075</td>\n",
       "      <td>10</td>\n",
       "      <td>102.690</td>\n",
       "      <td>-0.857</td>\n",
       "      <td>0.004</td>\n",
       "      <td>-0.008</td>\n",
       "      <td>0.414</td>\n",
       "      <td>-4.279</td>\n",
       "    </tr>\n",
       "    <tr>\n",
       "      <th>869</th>\n",
       "      <td>240.0</td>\n",
       "      <td>726</td>\n",
       "      <td>PUT</td>\n",
       "      <td>111.30</td>\n",
       "      <td>111.80</td>\n",
       "      <td>111.11</td>\n",
       "      <td>31.476</td>\n",
       "      <td>119</td>\n",
       "      <td>112.225</td>\n",
       "      <td>-0.873</td>\n",
       "      <td>0.004</td>\n",
       "      <td>-0.008</td>\n",
       "      <td>0.381</td>\n",
       "      <td>-4.512</td>\n",
       "    </tr>\n",
       "    <tr>\n",
       "      <th>870</th>\n",
       "      <td>250.0</td>\n",
       "      <td>726</td>\n",
       "      <td>PUT</td>\n",
       "      <td>120.90</td>\n",
       "      <td>121.40</td>\n",
       "      <td>120.19</td>\n",
       "      <td>31.944</td>\n",
       "      <td>53</td>\n",
       "      <td>121.860</td>\n",
       "      <td>-0.887</td>\n",
       "      <td>0.003</td>\n",
       "      <td>-0.007</td>\n",
       "      <td>0.352</td>\n",
       "      <td>-4.739</td>\n",
       "    </tr>\n",
       "    <tr>\n",
       "      <th>871</th>\n",
       "      <td>260.0</td>\n",
       "      <td>726</td>\n",
       "      <td>PUT</td>\n",
       "      <td>130.60</td>\n",
       "      <td>131.10</td>\n",
       "      <td>129.86</td>\n",
       "      <td>32.358</td>\n",
       "      <td>54</td>\n",
       "      <td>131.535</td>\n",
       "      <td>-0.898</td>\n",
       "      <td>0.003</td>\n",
       "      <td>-0.007</td>\n",
       "      <td>0.324</td>\n",
       "      <td>-4.963</td>\n",
       "    </tr>\n",
       "  </tbody>\n",
       "</table>\n",
       "<p>1744 rows × 14 columns</p>\n",
       "</div>"
      ],
      "text/plain": [
       "     Strike  Dias  Tipo     Bid     Ask  Ultimo       VI  OpenInt   PrimaT  \\\n",
       "0      65.0     5  CALL   65.35   65.50   65.91  123.842        2   65.460   \n",
       "1      70.0     5  CALL   60.35   60.50   60.96  113.775       20   60.460   \n",
       "2      75.0     5  CALL   55.35   55.50   55.95  107.167       10   55.460   \n",
       "3      80.0     5  CALL   50.35   50.50   48.81   99.860       10   50.460   \n",
       "4      85.0     5  CALL   45.35   45.50   45.60   92.290       38   45.460   \n",
       "..      ...   ...   ...     ...     ...     ...      ...      ...      ...   \n",
       "867   220.0   726   PUT   92.35   92.85   91.83   30.696       11   93.260   \n",
       "868   230.0   726   PUT  101.80  102.30  101.20   31.075       10  102.690   \n",
       "869   240.0   726   PUT  111.30  111.80  111.11   31.476      119  112.225   \n",
       "870   250.0   726   PUT  120.90  121.40  120.19   31.944       53  121.860   \n",
       "871   260.0   726   PUT  130.60  131.10  129.86   32.358       54  131.535   \n",
       "\n",
       "     delta  gamma  theta   vega    rho  \n",
       "0    1.000  0.000  0.000  0.000  0.000  \n",
       "1    1.000  0.000  0.000  0.000  0.000  \n",
       "2    1.000  0.000  0.000  0.000  0.000  \n",
       "3    1.000  0.000  0.000  0.000  0.000  \n",
       "4    1.000  0.000  0.000  0.000  0.000  \n",
       "..     ...    ...    ...    ...    ...  \n",
       "867 -0.837  0.004 -0.009  0.452 -4.039  \n",
       "868 -0.857  0.004 -0.008  0.414 -4.279  \n",
       "869 -0.873  0.004 -0.008  0.381 -4.512  \n",
       "870 -0.887  0.003 -0.007  0.352 -4.739  \n",
       "871 -0.898  0.003 -0.007  0.324 -4.963  \n",
       "\n",
       "[1744 rows x 14 columns]"
      ]
     },
     "execution_count": 15,
     "metadata": {},
     "output_type": "execute_result"
    }
   ],
   "source": [
    "contracts = options('AAPL')\n",
    "contracts"
   ]
  },
  {
   "cell_type": "code",
   "execution_count": 16,
   "id": "63d475cf",
   "metadata": {},
   "outputs": [],
   "source": [
    "import time\n",
    "def prepararData(stocks):\n",
    "    reportes = {}\n",
    "    for cliente, stocks in stocks.items():\n",
    "        reportes[cliente] = {}\n",
    "        for i, stock in enumerate(stocks):\n",
    "            print (f\"Procesando Cliente: {cliente}, stock: {i+1}/{len(stocks)} {stock}     \", end='\\r')\n",
    "            data = getHist(stock, periodT='year', period=20, freqT='daily', freq=1, na='false')\n",
    "            data['VH'] = data.close.pct_change().rolling(40).std() * 250**0.5 *100\n",
    "            data['v_semanal'] = (data.close / data.close.shift(5) - 1) *100 \n",
    "            data['v_mensual'] = (data.close / data.close.shift(30) - 1) *100\n",
    "            data = data.round(2)\n",
    "            base_100 = data.close.iloc[-30:] / data.close.iloc[-30] *100\n",
    "            vh, v_semanal, v_mensual = data.iloc[-1,-3:]\n",
    "\n",
    "            # Busco opciones entre plazos establecidos\n",
    "            contracts = options(stock, days_f=20, days_t=90)\n",
    "                                \n",
    "            condicion = (v_semanal < -2) | (v_mensual < -5)\n",
    "            coberturas = contracts if condicion else pd.DataFrame()\n",
    "            \n",
    "            \n",
    "            reportes[cliente][stock] = {'v_semanal':v_semanal, 'v_mensual':v_mensual, 'base_100':base_100,\n",
    "                                        'VH':vh,'cubrir': condicion, 'opciones':coberturas}\n",
    "            \n",
    "            time.sleep(0.5)\n",
    "    return reportes"
   ]
  },
  {
   "cell_type": "code",
   "execution_count": 17,
   "id": "a6464b9e",
   "metadata": {},
   "outputs": [
    {
     "name": "stdout",
     "output_type": "stream",
     "text": [
      "Procesando Cliente: cliente_3, stock: 3/3 VZ       \r"
     ]
    }
   ],
   "source": [
    "reportes = prepararData(stocks)"
   ]
  },
  {
   "cell_type": "markdown",
   "id": "40363ac9",
   "metadata": {},
   "source": [
    "## Carpetas por Cliente"
   ]
  },
  {
   "cell_type": "code",
   "execution_count": 18,
   "id": "4ce9b94c",
   "metadata": {},
   "outputs": [],
   "source": [
    "import datetime\n",
    "\n",
    "def prepararCarpetas(reportes):\n",
    "    hoy = datetime.date.today().isoformat()\n",
    "\n",
    "    for cliente, reporte in reportes.items():\n",
    "        bases_100 = []\n",
    "\n",
    "        print(cliente)\n",
    "\n",
    "        if not os.path.exists(cliente):\n",
    "            os.mkdir(cliente)\n",
    "\n",
    "        os.chdir(cliente)\n",
    "\n",
    "        texto = f\"Estimado cliente {cliente}\\n\"\n",
    "        texto += f\"Reporte semanal preparado: {hoy} \\n\\n\"\n",
    "\n",
    "\n",
    "        for stock, rep in reporte.items():\n",
    "            bases_100.append(rep['base_100'])\n",
    "\n",
    "            if rep['cubrir']:\n",
    "                texto += f\"\\nSu activo {stock} se encuentra en riesgo bajista,\"\n",
    "                texto += \" le adjuntamos una lista de opciones posibles para que piense estrategia de cobertura\"\n",
    "\n",
    "                if len(rep['opciones']) > 0:\n",
    "                    rep['opciones'].to_excel(f'{hoy}_{stock}.xlsx')\n",
    "\n",
    "            else:\n",
    "                texto += f\"Su activo {stock} no se encuentra en riesgo bajista,\"\n",
    "                texto += f\" presenta una variacion semanal del {rep['v_semanal']}%\"\n",
    "                texto += f\" y una variacion mensual del {rep['v_mensual']}% \\n\"\n",
    "\n",
    "        portafolio = pd.concat(bases_100, axis=1)\n",
    "        portafolio.columns = reporte.keys()\n",
    "\n",
    "        base_100_img = pd.DataFrame(portafolio).plot().get_figure()\n",
    "        base_100_img.savefig(f'portafolio_{hoy}.jpg')\n",
    "\n",
    "        with open(f'email_{hoy}.txt', 'w') as f:\n",
    "            f.write(texto)\n",
    "\n",
    "        os.chdir('..')"
   ]
  },
  {
   "cell_type": "code",
   "execution_count": 19,
   "id": "05288838",
   "metadata": {},
   "outputs": [
    {
     "name": "stdout",
     "output_type": "stream",
     "text": [
      "cliente_1\n",
      "cliente_2\n",
      "cliente_3\n"
     ]
    },
    {
     "data": {
      "image/png": "[encoded data removed]",
      "text/plain": [
       "<Figure size 432x288 with 1 Axes>"
      ]
     },
     "metadata": {
      "needs_background": "light"
     },
     "output_type": "display_data"
    },
    {
     "data": {
      "image/png": "[encoded data removed]",
      "text/plain": [
       "<Figure size 432x288 with 1 Axes>"
      ]
     },
     "metadata": {
      "needs_background": "light"
     },
     "output_type": "display_data"
    },
    {
     "data": {
      "image/png": "[encoded data removed]",
      "text/plain": [
       "<Figure size 432x288 with 1 Axes>"
      ]
     },
     "metadata": {
      "needs_background": "light"
     },
     "output_type": "display_data"
    }
   ],
   "source": [
    "prepararCarpetas(reportes)"
   ]
  },
  {
   "cell_type": "markdown",
   "id": "69ff6626",
   "metadata": {},
   "source": [
    "## Envio de emails"
   ]
  },
  {
   "cell_type": "markdown",
   "id": "bbbd394c",
   "metadata": {},
   "source": [
    "### Autorizacion de uso de scripting para la cuenta de gmail"
   ]
  },
  {
   "cell_type": "markdown",
   "id": "f5911322",
   "metadata": {},
   "source": [
    "https://myaccount.google.com/lesssecureapps"
   ]
  },
  {
   "cell_type": "markdown",
   "id": "954c5d32",
   "metadata": {},
   "source": [
    "### Envio de emails simples"
   ]
  },
  {
   "cell_type": "code",
   "execution_count": 20,
   "id": "6e837213",
   "metadata": {},
   "outputs": [],
   "source": [
    "os.chdir(r'C:\\Users\\Usuario\\Desktop\\cursos_2021\\PreQuant')\n",
    "from gmail_password import *\n",
    "\n",
    "os.chdir(r'C:\\Users\\Usuario\\Desktop\\cursos_2021\\PreQuant\\clase_backoffice')"
   ]
  },
  {
   "cell_type": "code",
   "execution_count": 21,
   "id": "619d318f",
   "metadata": {},
   "outputs": [],
   "source": [
    "import smtplib\n",
    "\n",
    "remitente = \"clasespython2020@gmail.com\"\n",
    "# gmail_password = 'mi_clave_correo_remitente'\n",
    "\n",
    "destinatario = \"clasespython2020@gmail.com\""
   ]
  },
  {
   "cell_type": "code",
   "execution_count": 22,
   "id": "3513a707",
   "metadata": {},
   "outputs": [
    {
     "data": {
      "text/plain": [
       "'Estimado cliente cliente_2\\nReporte semanal preparado: 2021-06-20 \\n\\nSu activo AMZN no se encuentra en riesgo bajista, presenta una variacion semanal del 4.19% y una variacion mensual del 5.46% \\nSu activo NFLX no se encuentra en riesgo bajista, presenta una variacion semanal del 2.46% y una variacion mensual del 0.24% \\n\\nSu activo JPM se encuentra en riesgo bajista, le adjuntamos una lista de opciones posibles para que piense estrategia de cobertura'"
      ]
     },
     "execution_count": 22,
     "metadata": {},
     "output_type": "execute_result"
    }
   ],
   "source": [
    "file = r'C:\\Users\\Usuario\\Desktop\\cursos_2021\\PreQuant\\clase_backoffice\\cliente_2\\email_2021-06-20.txt'\n",
    "with open(file) as f:\n",
    "    lines = f.readlines()\n",
    "\n",
    "text = ''.join(lines)\n",
    "text"
   ]
  },
  {
   "cell_type": "code",
   "execution_count": 23,
   "id": "185ffbbf",
   "metadata": {},
   "outputs": [
    {
     "name": "stdout",
     "output_type": "stream",
     "text": [
      "Enviando mensaje a: cliente_1\n",
      "Enviando mensaje a: cliente_2\n",
      "Enviando mensaje a: cliente_3\n"
     ]
    },
    {
     "data": {
      "text/plain": [
       "(221, b'2.0.0 closing connection u23sm6621555qkk.83 - gsmtp')"
      ]
     },
     "execution_count": 23,
     "metadata": {},
     "output_type": "execute_result"
    }
   ],
   "source": [
    "hoy = datetime.date.today().isoformat()\n",
    "\n",
    "# Instancio el objeto de conexión al server de gmail\n",
    "server = smtplib.SMTP(\"smtp.gmail.com\", 587)\n",
    "\n",
    "# inicio sesión segura\n",
    "server.starttls()\n",
    "\n",
    "# Me logueo con las credenciales\n",
    "server.login(remitente, gmail_password)\n",
    "\n",
    "\n",
    "for cliente, reporte in reportes.items():    \n",
    "    file = f'C:/Users/Usuario/Desktop/cursos_2021/PreQuant/clase_backoffice/{cliente}/email_{hoy}.txt'\n",
    "    with open(file) as f:\n",
    "        lines = f.readlines()\n",
    "\n",
    "    body = ''.join(lines)\n",
    "    subject = f'Hola, {cliente} Reporte Curso Ucema {hoy}'\n",
    "\n",
    "    print(f\"Enviando mensaje a: {cliente}\")\n",
    "\n",
    "    msg = f'Subject: {subject}\\n\\n{body}'\n",
    "\n",
    "    # Envío el email\n",
    "    server.sendmail(remitente, destinatario, msg)\n",
    "\n",
    "\n",
    "# Cierro la conexión\n",
    "server.quit()"
   ]
  },
  {
   "cell_type": "code",
   "execution_count": null,
   "id": "1cfa9912",
   "metadata": {},
   "outputs": [],
   "source": []
  },
  {
   "cell_type": "code",
   "execution_count": null,
   "id": "eaf88e67",
   "metadata": {},
   "outputs": [],
   "source": []
  },
  {
   "cell_type": "markdown",
   "id": "2cea25fc",
   "metadata": {},
   "source": [
    "### Leer archivos de un directorio"
   ]
  },
  {
   "cell_type": "code",
   "execution_count": 24,
   "id": "2c7d75bc",
   "metadata": {},
   "outputs": [
    {
     "data": {
      "text/plain": [
       "['2021-06-20_JPM.xlsx', 'email_2021-06-20.txt', 'portafolio_2021-06-20.jpg']"
      ]
     },
     "execution_count": 24,
     "metadata": {},
     "output_type": "execute_result"
    }
   ],
   "source": [
    "cliente = 'cliente_2'\n",
    "os.chdir(f'C:/Users/Usuario/Desktop/cursos_2021/PreQuant/clase_backoffice/{cliente}')\n",
    "\n",
    "archivos = [x.name for x in os.scandir() if not x.is_dir()]\n",
    "archivos"
   ]
  },
  {
   "cell_type": "markdown",
   "id": "3d6884fe",
   "metadata": {},
   "source": [
    "### Envio de Emails con Adjuntos"
   ]
  },
  {
   "cell_type": "code",
   "execution_count": 25,
   "id": "4d401ed0",
   "metadata": {},
   "outputs": [],
   "source": [
    "from email.mime.multipart import MIMEMultipart\n",
    "from email.mime.text import MIMEText\n",
    "from email.mime.base import MIMEBase\n",
    "from email import encoders\n",
    "import smtplib"
   ]
  },
  {
   "cell_type": "code",
   "execution_count": 26,
   "id": "ac000392",
   "metadata": {},
   "outputs": [],
   "source": [
    "def enviarEamils(reportes, emails):\n",
    "    # Inicio Sesion\n",
    "    session = smtplib.SMTP('smtp.gmail.com:587') \n",
    "    session.ehlo()\n",
    "    session.starttls() \n",
    "    session.login(remitente, gmail_password) \n",
    "\n",
    "    for cliente, reporte in reportes.items():    \n",
    "        file = f'C:/Users/Usuario/Desktop/cursos_2021/PreQuant/clase_backoffice/{cliente}/email_{hoy}.txt'\n",
    "        with open(file) as f:\n",
    "            lines = f.readlines()\n",
    "\n",
    "        body = ''.join(lines)\n",
    "        subject = f'Hola, {cliente} Reporte Curso Ucema {hoy}'\n",
    "\n",
    "        print(f\"Enviando mensaje a: {cliente}\")\n",
    "\n",
    "\n",
    "        # Preparo mensaje\n",
    "        message = MIMEMultipart()\n",
    "        message['From'] = remitente\n",
    "        message['To'] = emails[cliente]\n",
    "        message['Subject'] = subject\n",
    "        mail_content = body\n",
    "\n",
    "        message.attach(MIMEText(mail_content, 'plain'))\n",
    "\n",
    "        # Adjunto los archivos que quiera\n",
    "        os.chdir(f'C:/Users/Usuario/Desktop/cursos_2021/PreQuant/clase_backoffice/{cliente}/')\n",
    "        archivos = [x.name for x in os.scandir() if not x.is_dir()]\n",
    "\n",
    "        for archivo in archivos:    \n",
    "            file = open(archivo, 'rb') \n",
    "            payload = MIMEBase('application', 'octate-stream')\n",
    "            payload.set_payload((file).read())\n",
    "            encoders.encode_base64(payload) \n",
    "            payload.add_header('Content-Disposition', 'attachment; filename=\"'+archivo+'\"')\n",
    "            message.attach(payload)\n",
    "\n",
    "        # Envio el email \n",
    "        session.sendmail(remitente, destinatario, message.as_string())\n",
    "\n",
    "    # Cierro Sesion\n",
    "    session.quit()"
   ]
  },
  {
   "cell_type": "code",
   "execution_count": 27,
   "id": "a860756c",
   "metadata": {},
   "outputs": [
    {
     "name": "stdout",
     "output_type": "stream",
     "text": [
      "Enviando mensaje a: cliente_1\n",
      "Enviando mensaje a: cliente_2\n",
      "Enviando mensaje a: cliente_3\n"
     ]
    }
   ],
   "source": [
    "enviarEamils(reportes, emails)"
   ]
  },
  {
   "cell_type": "code",
   "execution_count": null,
   "id": "35b9aa85",
   "metadata": {},
   "outputs": [],
   "source": []
  },
  {
   "cell_type": "code",
   "execution_count": null,
   "id": "7f049e2c",
   "metadata": {},
   "outputs": [],
   "source": []
  },
  {
   "cell_type": "markdown",
   "id": "e5d93b60",
   "metadata": {},
   "source": [
    "## Compresión"
   ]
  },
  {
   "cell_type": "code",
   "execution_count": 28,
   "id": "8425823b",
   "metadata": {},
   "outputs": [],
   "source": [
    "import zipfile\n",
    "import os\n",
    "\n",
    "def compress(file_names):\n",
    "    path = os.getcwd()\n",
    "    hoy = datetime.date.today().isoformat()\n",
    "    zf = zipfile.ZipFile(f\"comprimido_{hoy}.zip\", mode=\"w\")\n",
    "    for file_name in file_names:\n",
    "        zf.write(path +'\\\\'+ file_name, file_name, compress_type=zipfile.ZIP_DEFLATED)\n",
    "    zf.close()\n",
    "\n",
    "def comprimirEliminar(reportes):\n",
    "    for cliente in reportes.keys():    \n",
    "        os.chdir(f'C:/Users/Usuario/Desktop/cursos_2021/PreQuant/clase_backoffice/{cliente}/')\n",
    "        archivos = [x.name for x in os.scandir() if not x.is_dir()]\n",
    "        compress(archivos)\n",
    "        for archivo in archivos:        \n",
    "            extension = archivo.split('.')[-1]\n",
    "            if extension != \"zip\":\n",
    "                os.remove(archivo)"
   ]
  },
  {
   "cell_type": "code",
   "execution_count": 29,
   "id": "faf1d490",
   "metadata": {},
   "outputs": [],
   "source": [
    "comprimirEliminar(reportes)"
   ]
  },
  {
   "cell_type": "markdown",
   "id": "3cb46a16",
   "metadata": {},
   "source": [
    "# Todo con funciones"
   ]
  },
  {
   "cell_type": "code",
   "execution_count": 30,
   "id": "d07d6624",
   "metadata": {},
   "outputs": [
    {
     "data": {
      "text/plain": [
       "'C:\\\\Users\\\\Usuario\\\\Desktop\\\\cursos_2021\\\\PreQuant\\\\clase_backoffice\\\\cliente_3'"
      ]
     },
     "execution_count": 30,
     "metadata": {},
     "output_type": "execute_result"
    }
   ],
   "source": [
    "os.getcwd()"
   ]
  },
  {
   "cell_type": "code",
   "execution_count": 31,
   "id": "d6736bf1",
   "metadata": {},
   "outputs": [
    {
     "data": {
      "text/plain": [
       "'C:\\\\Users\\\\Usuario\\\\Desktop\\\\cursos_2021\\\\PreQuant\\\\clase_backoffice'"
      ]
     },
     "execution_count": 31,
     "metadata": {},
     "output_type": "execute_result"
    }
   ],
   "source": [
    "os.chdir('..')\n",
    "os.getcwd()"
   ]
  },
  {
   "cell_type": "code",
   "execution_count": 32,
   "id": "f6f43540",
   "metadata": {},
   "outputs": [
    {
     "data": {
      "text/plain": [
       "({'oso': ['TSLA'], 'juanfer': ['AAL', 'DAL'], 'pity': ['PFE']},\n",
       " {'oso': 'clasespython2020@gmail.com',\n",
       "  'juanfer': 'clasespython2020@gmail.com',\n",
       "  'pity': 'clasespython2020@gmail.com'})"
      ]
     },
     "execution_count": 32,
     "metadata": {},
     "output_type": "execute_result"
    }
   ],
   "source": [
    "clientes = [{'nombre':'oso', 'email':'clasespython2020@gmail.com', 'stocks':'TSLA'},\n",
    "                    {'nombre':'juanfer', 'email':'clasespython2020@gmail.com', 'stocks':'AAL,DAL'},\n",
    "                    {'nombre':'pity', 'email':'clasespython2020@gmail.com', 'stocks':'PFE'}\n",
    "                   ]\n",
    "\n",
    "\n",
    "pd.DataFrame(clientes).to_excel('clientes.xlsx', index=False)\n",
    "clientes = pd.read_excel(\"clientes.xlsx\", index_col='nombre')\n",
    "\n",
    "stocks, emails = {}, {}\n",
    "for cliente in clientes.index.values:\n",
    "    stocks[cliente] = clientes.loc[cliente,'stocks'].split(',')\n",
    "    emails[cliente] = clientes.loc[cliente,'email']\n",
    "    \n",
    "stocks, emails"
   ]
  },
  {
   "cell_type": "code",
   "execution_count": 33,
   "id": "df19f0de",
   "metadata": {},
   "outputs": [
    {
     "name": "stdout",
     "output_type": "stream",
     "text": [
      "osocesando Cliente: pity, stock: 1/1 PFE        \n",
      "juanfer\n",
      "pity\n",
      "Enviando mensaje a: oso\n",
      "Enviando mensaje a: juanfer\n",
      "Enviando mensaje a: pity\n"
     ]
    },
    {
     "data": {
      "image/png": "[encoded data removed]",
      "text/plain": [
       "<Figure size 432x288 with 1 Axes>"
      ]
     },
     "metadata": {
      "needs_background": "light"
     },
     "output_type": "display_data"
    },
    {
     "data": {
      "image/png": "[encoded data removed]",
      "text/plain": [
       "<Figure size 432x288 with 1 Axes>"
      ]
     },
     "metadata": {
      "needs_background": "light"
     },
     "output_type": "display_data"
    },
    {
     "data": {
      "image/png": "[encoded data removed]",
      "text/plain": [
       "<Figure size 432x288 with 1 Axes>"
      ]
     },
     "metadata": {
      "needs_background": "light"
     },
     "output_type": "display_data"
    }
   ],
   "source": [
    "reportes = prepararData(stocks)\n",
    "prepararCarpetas(reportes)\n",
    "enviarEamils(reportes, emails)\n",
    "comprimirEliminar(reportes)"
   ]
  },
  {
   "cell_type": "code",
   "execution_count": null,
   "id": "f97c5c05",
   "metadata": {},
   "outputs": [],
   "source": []
  },
  {
   "cell_type": "code",
   "execution_count": null,
   "id": "9e8d8cef",
   "metadata": {},
   "outputs": [],
   "source": []
  },
  {
   "cell_type": "markdown",
   "id": "7196a1db",
   "metadata": {},
   "source": [
    "# Plus: Leer bandeja y buscar"
   ]
  },
  {
   "cell_type": "code",
   "execution_count": 34,
   "id": "74b98a31",
   "metadata": {},
   "outputs": [
    {
     "data": {
      "text/plain": [
       "('OK', [b'clasespython2020@gmail.com authenticated (Success)'])"
      ]
     },
     "execution_count": 34,
     "metadata": {},
     "output_type": "execute_result"
    }
   ],
   "source": [
    "import imaplib\n",
    "\n",
    "imap_ssl_host = 'imap.gmail.com'\n",
    "server = imaplib.IMAP4_SSL(imap_ssl_host)\n",
    "server.login('clasespython2020@gmail.com', gmail_password)"
   ]
  },
  {
   "cell_type": "code",
   "execution_count": 35,
   "id": "0f35f4fe",
   "metadata": {},
   "outputs": [],
   "source": [
    "server.select('Inbox')\n",
    "status, nums = server.search(None, 'ALL')"
   ]
  },
  {
   "cell_type": "code",
   "execution_count": 36,
   "id": "eeabc76b",
   "metadata": {
    "scrolled": true
   },
   "outputs": [
    {
     "name": "stdout",
     "output_type": "stream",
     "text": [
      "['1', '2', '3', '4', '5', '6', '7', '8', '9', '10', '11', '12', '13', '14', '15', '16', '17', '18', '19', '20', '21', '22', '23', '24', '25', '26', '27', '28', '29', '30', '31', '32', '33', '34', '35', '36', '37', '38', '39', '40', '41', '42', '43', '44', '45', '46', '47', '48', '49', '50', '51', '52', '53', '54', '55', '56', '57']\n"
     ]
    }
   ],
   "source": [
    "print(nums[0].decode().split())"
   ]
  },
  {
   "cell_type": "code",
   "execution_count": 37,
   "id": "cafc6d43",
   "metadata": {},
   "outputs": [],
   "source": [
    "import imaplib\n",
    "import pandas as pd\n",
    "\n",
    "def leerCarpeta(cuenta, gmail_password, limit=10, carpeta='Inbox', query='ALL'):\n",
    "\n",
    "    imap_ssl_host = 'imap.gmail.com'\n",
    "    server = imaplib.IMAP4_SSL(imap_ssl_host)\n",
    "    server.login(cuenta, gmail_password)\n",
    "\n",
    "    server.select(carpeta)\n",
    "    status, nums = server.search(None, query)\n",
    "\n",
    "    count = 0\n",
    "    results = []\n",
    "    for num in nums[0].split()[::-1]:\n",
    "\n",
    "        count += 1\n",
    "        status, data = server.fetch(num, '(BODY.PEEK[HEADER])')\n",
    "        email = data[0][1].decode().split('\\r\\n')\n",
    "\n",
    "        r = {}\n",
    "        for line in email:\n",
    "            for clave in ['Subject', 'Date', 'From']:\n",
    "                if line.find(clave) == 0:\n",
    "                    r[clave] = line[len(clave)+2:]\n",
    "        results.append(r)\n",
    "\n",
    "        if count == limit:\n",
    "            break\n",
    "\n",
    "    return pd.DataFrame(results)"
   ]
  },
  {
   "cell_type": "code",
   "execution_count": 39,
   "id": "76b83a03",
   "metadata": {},
   "outputs": [
    {
     "data": {
      "text/html": [
       "<div>\n",
       "<style scoped>\n",
       "    .dataframe tbody tr th:only-of-type {\n",
       "        vertical-align: middle;\n",
       "    }\n",
       "\n",
       "    .dataframe tbody tr th {\n",
       "        vertical-align: top;\n",
       "    }\n",
       "\n",
       "    .dataframe thead th {\n",
       "        text-align: right;\n",
       "    }\n",
       "</style>\n",
       "<table border=\"1\" class=\"dataframe\">\n",
       "  <thead>\n",
       "    <tr style=\"text-align: right;\">\n",
       "      <th></th>\n",
       "      <th>Date</th>\n",
       "      <th>From</th>\n",
       "      <th>Subject</th>\n",
       "    </tr>\n",
       "  </thead>\n",
       "  <tbody>\n",
       "    <tr>\n",
       "      <th>0</th>\n",
       "      <td>Sun, 20 Jun 2021 17:19:57 -0700 (PDT)</td>\n",
       "      <td>clasespython2020@gmail.com</td>\n",
       "      <td>Hola, pity Reporte Curso Ucema 2021-06-20</td>\n",
       "    </tr>\n",
       "    <tr>\n",
       "      <th>1</th>\n",
       "      <td>Sun, 20 Jun 2021 17:19:55 -0700 (PDT)</td>\n",
       "      <td>clasespython2020@gmail.com</td>\n",
       "      <td>Hola, juanfer Reporte Curso Ucema 2021-06-20</td>\n",
       "    </tr>\n",
       "    <tr>\n",
       "      <th>2</th>\n",
       "      <td>Sun, 20 Jun 2021 17:19:51 -0700 (PDT)</td>\n",
       "      <td>clasespython2020@gmail.com</td>\n",
       "      <td>Hola, oso Reporte Curso Ucema 2021-06-20</td>\n",
       "    </tr>\n",
       "    <tr>\n",
       "      <th>3</th>\n",
       "      <td>Sun, 20 Jun 2021 17:18:01 -0700 (PDT)</td>\n",
       "      <td>clasespython2020@gmail.com</td>\n",
       "      <td>Hola, cliente_3 Reporte Curso Ucema 2021-06-20</td>\n",
       "    </tr>\n",
       "    <tr>\n",
       "      <th>4</th>\n",
       "      <td>Sun, 20 Jun 2021 17:17:58 -0700 (PDT)</td>\n",
       "      <td>clasespython2020@gmail.com</td>\n",
       "      <td>Hola, cliente_2 Reporte Curso Ucema 2021-06-20</td>\n",
       "    </tr>\n",
       "    <tr>\n",
       "      <th>5</th>\n",
       "      <td>Sun, 20 Jun 2021 17:17:57 -0700 (PDT)</td>\n",
       "      <td>clasespython2020@gmail.com</td>\n",
       "      <td>Hola, cliente_1 Reporte Curso Ucema 2021-06-20</td>\n",
       "    </tr>\n",
       "    <tr>\n",
       "      <th>6</th>\n",
       "      <td>Sun, 20 Jun 2021 17:17:32 -0700 (PDT)</td>\n",
       "      <td>clasespython2020@gmail.com</td>\n",
       "      <td>Hola, cliente_3 Reporte Curso Ucema 2021-06-20</td>\n",
       "    </tr>\n",
       "    <tr>\n",
       "      <th>7</th>\n",
       "      <td>Sun, 20 Jun 2021 17:17:31 -0700 (PDT)</td>\n",
       "      <td>clasespython2020@gmail.com</td>\n",
       "      <td>Hola, cliente_2 Reporte Curso Ucema 2021-06-20</td>\n",
       "    </tr>\n",
       "    <tr>\n",
       "      <th>8</th>\n",
       "      <td>Sun, 20 Jun 2021 17:17:30 -0700 (PDT)</td>\n",
       "      <td>clasespython2020@gmail.com</td>\n",
       "      <td>Hola, cliente_1 Reporte Curso Ucema 2021-06-20</td>\n",
       "    </tr>\n",
       "    <tr>\n",
       "      <th>9</th>\n",
       "      <td>Sun, 20 Jun 2021 05:45:52 GMT</td>\n",
       "      <td>Google &lt;no-reply@accounts.google.com&gt;</td>\n",
       "      <td>=?UTF-8?Q?Alerta_de_seguridad_cr=C3=ADtica?=</td>\n",
       "    </tr>\n",
       "  </tbody>\n",
       "</table>\n",
       "</div>"
      ],
      "text/plain": [
       "                                    Date  \\\n",
       "0  Sun, 20 Jun 2021 17:19:57 -0700 (PDT)   \n",
       "1  Sun, 20 Jun 2021 17:19:55 -0700 (PDT)   \n",
       "2  Sun, 20 Jun 2021 17:19:51 -0700 (PDT)   \n",
       "3  Sun, 20 Jun 2021 17:18:01 -0700 (PDT)   \n",
       "4  Sun, 20 Jun 2021 17:17:58 -0700 (PDT)   \n",
       "5  Sun, 20 Jun 2021 17:17:57 -0700 (PDT)   \n",
       "6  Sun, 20 Jun 2021 17:17:32 -0700 (PDT)   \n",
       "7  Sun, 20 Jun 2021 17:17:31 -0700 (PDT)   \n",
       "8  Sun, 20 Jun 2021 17:17:30 -0700 (PDT)   \n",
       "9          Sun, 20 Jun 2021 05:45:52 GMT   \n",
       "\n",
       "                                    From  \\\n",
       "0             clasespython2020@gmail.com   \n",
       "1             clasespython2020@gmail.com   \n",
       "2             clasespython2020@gmail.com   \n",
       "3             clasespython2020@gmail.com   \n",
       "4             clasespython2020@gmail.com   \n",
       "5             clasespython2020@gmail.com   \n",
       "6             clasespython2020@gmail.com   \n",
       "7             clasespython2020@gmail.com   \n",
       "8             clasespython2020@gmail.com   \n",
       "9  Google <no-reply@accounts.google.com>   \n",
       "\n",
       "                                          Subject  \n",
       "0       Hola, pity Reporte Curso Ucema 2021-06-20  \n",
       "1    Hola, juanfer Reporte Curso Ucema 2021-06-20  \n",
       "2        Hola, oso Reporte Curso Ucema 2021-06-20  \n",
       "3  Hola, cliente_3 Reporte Curso Ucema 2021-06-20  \n",
       "4  Hola, cliente_2 Reporte Curso Ucema 2021-06-20  \n",
       "5  Hola, cliente_1 Reporte Curso Ucema 2021-06-20  \n",
       "6  Hola, cliente_3 Reporte Curso Ucema 2021-06-20  \n",
       "7  Hola, cliente_2 Reporte Curso Ucema 2021-06-20  \n",
       "8  Hola, cliente_1 Reporte Curso Ucema 2021-06-20  \n",
       "9    =?UTF-8?Q?Alerta_de_seguridad_cr=C3=ADtica?=  "
      ]
     },
     "execution_count": 39,
     "metadata": {},
     "output_type": "execute_result"
    }
   ],
   "source": [
    "leerCarpeta('clasespython2020@gmail.com', gmail_password, limit=10, carpeta='Inbox', query='ALL')"
   ]
  },
  {
   "cell_type": "code",
   "execution_count": 40,
   "id": "f6f785c0",
   "metadata": {},
   "outputs": [
    {
     "data": {
      "text/html": [
       "<div>\n",
       "<style scoped>\n",
       "    .dataframe tbody tr th:only-of-type {\n",
       "        vertical-align: middle;\n",
       "    }\n",
       "\n",
       "    .dataframe tbody tr th {\n",
       "        vertical-align: top;\n",
       "    }\n",
       "\n",
       "    .dataframe thead th {\n",
       "        text-align: right;\n",
       "    }\n",
       "</style>\n",
       "<table border=\"1\" class=\"dataframe\">\n",
       "  <thead>\n",
       "    <tr style=\"text-align: right;\">\n",
       "      <th></th>\n",
       "      <th>Date</th>\n",
       "      <th>From</th>\n",
       "      <th>Subject</th>\n",
       "    </tr>\n",
       "  </thead>\n",
       "  <tbody>\n",
       "    <tr>\n",
       "      <th>0</th>\n",
       "      <td>Sun, 20 Jun 2021 17:17:58 -0700 (PDT)</td>\n",
       "      <td>clasespython2020@gmail.com</td>\n",
       "      <td>Hola, cliente_2 Reporte Curso Ucema 2021-06-20</td>\n",
       "    </tr>\n",
       "    <tr>\n",
       "      <th>1</th>\n",
       "      <td>Sun, 20 Jun 2021 17:17:57 -0700 (PDT)</td>\n",
       "      <td>clasespython2020@gmail.com</td>\n",
       "      <td>Hola, cliente_1 Reporte Curso Ucema 2021-06-20</td>\n",
       "    </tr>\n",
       "    <tr>\n",
       "      <th>2</th>\n",
       "      <td>Sun, 20 Jun 2021 17:17:30 -0700 (PDT)</td>\n",
       "      <td>clasespython2020@gmail.com</td>\n",
       "      <td>Hola, cliente_1 Reporte Curso Ucema 2021-06-20</td>\n",
       "    </tr>\n",
       "  </tbody>\n",
       "</table>\n",
       "</div>"
      ],
      "text/plain": [
       "                                    Date                        From  \\\n",
       "0  Sun, 20 Jun 2021 17:17:58 -0700 (PDT)  clasespython2020@gmail.com   \n",
       "1  Sun, 20 Jun 2021 17:17:57 -0700 (PDT)  clasespython2020@gmail.com   \n",
       "2  Sun, 20 Jun 2021 17:17:30 -0700 (PDT)  clasespython2020@gmail.com   \n",
       "\n",
       "                                          Subject  \n",
       "0  Hola, cliente_2 Reporte Curso Ucema 2021-06-20  \n",
       "1  Hola, cliente_1 Reporte Curso Ucema 2021-06-20  \n",
       "2  Hola, cliente_1 Reporte Curso Ucema 2021-06-20  "
      ]
     },
     "execution_count": 40,
     "metadata": {},
     "output_type": "execute_result"
    }
   ],
   "source": [
    "leerCarpeta('clasespython2020@gmail.com', gmail_password, limit=10, carpeta='Inbox', query='(SEEN BODY UCEMA)')"
   ]
  },
  {
   "cell_type": "code",
   "execution_count": 41,
   "id": "1b3ea7b1",
   "metadata": {},
   "outputs": [
    {
     "data": {
      "text/html": [
       "<div>\n",
       "<style scoped>\n",
       "    .dataframe tbody tr th:only-of-type {\n",
       "        vertical-align: middle;\n",
       "    }\n",
       "\n",
       "    .dataframe tbody tr th {\n",
       "        vertical-align: top;\n",
       "    }\n",
       "\n",
       "    .dataframe thead th {\n",
       "        text-align: right;\n",
       "    }\n",
       "</style>\n",
       "<table border=\"1\" class=\"dataframe\">\n",
       "  <thead>\n",
       "    <tr style=\"text-align: right;\">\n",
       "      <th></th>\n",
       "      <th>Date</th>\n",
       "      <th>From</th>\n",
       "      <th>Subject</th>\n",
       "    </tr>\n",
       "  </thead>\n",
       "  <tbody>\n",
       "    <tr>\n",
       "      <th>0</th>\n",
       "      <td>Sun, 20 Jun 2021 17:19:57 -0700 (PDT)</td>\n",
       "      <td>clasespython2020@gmail.com</td>\n",
       "      <td>Hola, pity Reporte Curso Ucema 2021-06-20</td>\n",
       "    </tr>\n",
       "    <tr>\n",
       "      <th>1</th>\n",
       "      <td>Sun, 20 Jun 2021 17:19:55 -0700 (PDT)</td>\n",
       "      <td>clasespython2020@gmail.com</td>\n",
       "      <td>Hola, juanfer Reporte Curso Ucema 2021-06-20</td>\n",
       "    </tr>\n",
       "    <tr>\n",
       "      <th>2</th>\n",
       "      <td>Sun, 20 Jun 2021 17:19:51 -0700 (PDT)</td>\n",
       "      <td>clasespython2020@gmail.com</td>\n",
       "      <td>Hola, oso Reporte Curso Ucema 2021-06-20</td>\n",
       "    </tr>\n",
       "    <tr>\n",
       "      <th>3</th>\n",
       "      <td>Sun, 20 Jun 2021 17:18:01 -0700 (PDT)</td>\n",
       "      <td>clasespython2020@gmail.com</td>\n",
       "      <td>Hola, cliente_3 Reporte Curso Ucema 2021-06-20</td>\n",
       "    </tr>\n",
       "    <tr>\n",
       "      <th>4</th>\n",
       "      <td>Sun, 20 Jun 2021 17:17:32 -0700 (PDT)</td>\n",
       "      <td>clasespython2020@gmail.com</td>\n",
       "      <td>Hola, cliente_3 Reporte Curso Ucema 2021-06-20</td>\n",
       "    </tr>\n",
       "    <tr>\n",
       "      <th>5</th>\n",
       "      <td>Sun, 20 Jun 2021 17:17:31 -0700 (PDT)</td>\n",
       "      <td>clasespython2020@gmail.com</td>\n",
       "      <td>Hola, cliente_2 Reporte Curso Ucema 2021-06-20</td>\n",
       "    </tr>\n",
       "    <tr>\n",
       "      <th>6</th>\n",
       "      <td>Sun, 20 Jun 2021 05:45:52 GMT</td>\n",
       "      <td>Google &lt;no-reply@accounts.google.com&gt;</td>\n",
       "      <td>=?UTF-8?Q?Alerta_de_seguridad_cr=C3=ADtica?=</td>\n",
       "    </tr>\n",
       "    <tr>\n",
       "      <th>7</th>\n",
       "      <td>Fri, 18 Jun 2021 11:19:01 -0700</td>\n",
       "      <td>Google &lt;google-noreply@google.com&gt;</td>\n",
       "      <td>=?UTF-8?Q?=E2=9A=A0=EF=B8=8F_Usaste_el_76=25_d...</td>\n",
       "    </tr>\n",
       "    <tr>\n",
       "      <th>8</th>\n",
       "      <td>Thu, 10 Jun 2021 20:43:10 -0500</td>\n",
       "      <td>\"Finbox\" &lt;manuel.bleve@finbox.com&gt;</td>\n",
       "      <td>There is a theme amongst top performing companies</td>\n",
       "    </tr>\n",
       "    <tr>\n",
       "      <th>9</th>\n",
       "      <td>Tue, 08 Jun 2021 20:41:09 -0500</td>\n",
       "      <td>\"Finbox\" &lt;manuel.bleve@finbox.com&gt;</td>\n",
       "      <td>Ideas From Top Portfolios To Help You</td>\n",
       "    </tr>\n",
       "  </tbody>\n",
       "</table>\n",
       "</div>"
      ],
      "text/plain": [
       "                                    Date  \\\n",
       "0  Sun, 20 Jun 2021 17:19:57 -0700 (PDT)   \n",
       "1  Sun, 20 Jun 2021 17:19:55 -0700 (PDT)   \n",
       "2  Sun, 20 Jun 2021 17:19:51 -0700 (PDT)   \n",
       "3  Sun, 20 Jun 2021 17:18:01 -0700 (PDT)   \n",
       "4  Sun, 20 Jun 2021 17:17:32 -0700 (PDT)   \n",
       "5  Sun, 20 Jun 2021 17:17:31 -0700 (PDT)   \n",
       "6          Sun, 20 Jun 2021 05:45:52 GMT   \n",
       "7        Fri, 18 Jun 2021 11:19:01 -0700   \n",
       "8        Thu, 10 Jun 2021 20:43:10 -0500   \n",
       "9        Tue, 08 Jun 2021 20:41:09 -0500   \n",
       "\n",
       "                                    From  \\\n",
       "0             clasespython2020@gmail.com   \n",
       "1             clasespython2020@gmail.com   \n",
       "2             clasespython2020@gmail.com   \n",
       "3             clasespython2020@gmail.com   \n",
       "4             clasespython2020@gmail.com   \n",
       "5             clasespython2020@gmail.com   \n",
       "6  Google <no-reply@accounts.google.com>   \n",
       "7     Google <google-noreply@google.com>   \n",
       "8     \"Finbox\" <manuel.bleve@finbox.com>   \n",
       "9     \"Finbox\" <manuel.bleve@finbox.com>   \n",
       "\n",
       "                                             Subject  \n",
       "0          Hola, pity Reporte Curso Ucema 2021-06-20  \n",
       "1       Hola, juanfer Reporte Curso Ucema 2021-06-20  \n",
       "2           Hola, oso Reporte Curso Ucema 2021-06-20  \n",
       "3     Hola, cliente_3 Reporte Curso Ucema 2021-06-20  \n",
       "4     Hola, cliente_3 Reporte Curso Ucema 2021-06-20  \n",
       "5     Hola, cliente_2 Reporte Curso Ucema 2021-06-20  \n",
       "6       =?UTF-8?Q?Alerta_de_seguridad_cr=C3=ADtica?=  \n",
       "7  =?UTF-8?Q?=E2=9A=A0=EF=B8=8F_Usaste_el_76=25_d...  \n",
       "8  There is a theme amongst top performing companies  \n",
       "9              Ideas From Top Portfolios To Help You  "
      ]
     },
     "execution_count": 41,
     "metadata": {},
     "output_type": "execute_result"
    }
   ],
   "source": [
    "leerCarpeta('clasespython2020@gmail.com', gmail_password, limit=10, carpeta='Inbox', \n",
    "            query='(NOT SEEN TO clasespython2020@gmail.com)')"
   ]
  },
  {
   "cell_type": "code",
   "execution_count": 45,
   "id": "8ca4918c",
   "metadata": {},
   "outputs": [
    {
     "data": {
      "text/html": [
       "<div>\n",
       "<style scoped>\n",
       "    .dataframe tbody tr th:only-of-type {\n",
       "        vertical-align: middle;\n",
       "    }\n",
       "\n",
       "    .dataframe tbody tr th {\n",
       "        vertical-align: top;\n",
       "    }\n",
       "\n",
       "    .dataframe thead th {\n",
       "        text-align: right;\n",
       "    }\n",
       "</style>\n",
       "<table border=\"1\" class=\"dataframe\">\n",
       "  <thead>\n",
       "    <tr style=\"text-align: right;\">\n",
       "      <th></th>\n",
       "      <th>Date</th>\n",
       "      <th>From</th>\n",
       "      <th>Subject</th>\n",
       "    </tr>\n",
       "  </thead>\n",
       "  <tbody>\n",
       "    <tr>\n",
       "      <th>0</th>\n",
       "      <td>Sun, 25 Oct 2020 13:39:11 -0700 (PDT)</td>\n",
       "      <td>clasespython2020@gmail.com</td>\n",
       "      <td>Cryptos correlation para scalping</td>\n",
       "    </tr>\n",
       "    <tr>\n",
       "      <th>1</th>\n",
       "      <td>Sun, 25 Oct 2020 13:16:08 -0700 (PDT)</td>\n",
       "      <td>clasespython2020@gmail.com</td>\n",
       "      <td>Cryptos correlation para scalping</td>\n",
       "    </tr>\n",
       "  </tbody>\n",
       "</table>\n",
       "</div>"
      ],
      "text/plain": [
       "                                    Date                        From  \\\n",
       "0  Sun, 25 Oct 2020 13:39:11 -0700 (PDT)  clasespython2020@gmail.com   \n",
       "1  Sun, 25 Oct 2020 13:16:08 -0700 (PDT)  clasespython2020@gmail.com   \n",
       "\n",
       "                             Subject  \n",
       "0  Cryptos correlation para scalping  \n",
       "1  Cryptos correlation para scalping  "
      ]
     },
     "execution_count": 45,
     "metadata": {},
     "output_type": "execute_result"
    }
   ],
   "source": [
    "leerCarpeta('clasespython2020@gmail.com', gmail_password, limit=2, carpeta='Inbox', \n",
    "            query='(SENTBEFORE 01-nov-2020)')"
   ]
  },
  {
   "cell_type": "code",
   "execution_count": null,
   "id": "61b604a6",
   "metadata": {},
   "outputs": [],
   "source": []
  },
  {
   "cell_type": "markdown",
   "id": "06e689b6",
   "metadata": {},
   "source": [
    "## Mas queries"
   ]
  },
  {
   "cell_type": "markdown",
   "id": "459bd5ac",
   "metadata": {},
   "source": [
    "https://datatracker.ietf.org/doc/html/rfc3501.html#section-6.4.4"
   ]
  },
  {
   "cell_type": "code",
   "execution_count": null,
   "id": "afc81d4b",
   "metadata": {},
   "outputs": [],
   "source": []
  }
 ],
 "metadata": {
  "kernelspec": {
   "display_name": "Python 3",
   "language": "python",
   "name": "python3"
  },
  "language_info": {
   "codemirror_mode": {
    "name": "ipython",
    "version": 3
   },
   "file_extension": ".py",
   "mimetype": "text/x-python",
   "name": "python",
   "nbconvert_exporter": "python",
   "pygments_lexer": "ipython3",
   "version": "3.8.5"
  },
  "toc": {
   "base_numbering": 1,
   "nav_menu": {},
   "number_sections": true,
   "sideBar": true,
   "skip_h1_title": false,
   "title_cell": "Table of Contents",
   "title_sidebar": "Contents",
   "toc_cell": false,
   "toc_position": {},
   "toc_section_display": true,
   "toc_window_display": true
  }
 },
 "nbformat": 4,
 "nbformat_minor": 5
}
