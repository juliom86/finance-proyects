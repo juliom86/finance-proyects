{
 "cells": [
  {
   "cell_type": "code",
   "execution_count": null,
   "metadata": {},
   "outputs": [],
   "source": []
  },
  {
   "cell_type": "code",
   "execution_count": null,
   "metadata": {},
   "outputs": [],
   "source": []
  },
  {
   "cell_type": "markdown",
   "metadata": {},
   "source": [
    "Nota: Son ejercicios bastante difíciles, los planteo como desafío, lo mas normal del mundo es que luego de solo 3 clases de programación, NO les salga, no se preocupen, la idea es que se rompan la cabeza un par de horas probando y probando, aprendiendo de los errores y que aprovechen para practicar lo que fuimos viendo con algo relacionado al tema que nos convoca en el curso"
   ]
  },
  {
   "cell_type": "code",
   "execution_count": null,
   "metadata": {},
   "outputs": [],
   "source": []
  },
  {
   "cell_type": "code",
   "execution_count": null,
   "metadata": {},
   "outputs": [],
   "source": []
  },
  {
   "cell_type": "markdown",
   "metadata": {},
   "source": [
    "# Ejercicios integradores Juanpy - Clase 3"
   ]
  },
  {
   "cell_type": "markdown",
   "metadata": {},
   "source": [
    "La siguiente es una lista con los ultimos 50 precios EOD de AAPL"
   ]
  },
  {
   "cell_type": "code",
   "execution_count": 1,
   "metadata": {},
   "outputs": [],
   "source": [
    "precios_AAPL = [131.01, 126.6, 130.92, 132.05, 128.98, 128.8, 130.89, 128.91, 127.14, 127.83, 132.03, 136.87, 139.07, 142.92,\n",
    "                143.16, 142.06, 137.09, 131.96, 134.14, 134.99, 133.94, 137.39, 136.76, 136.91, 136.01, 135.39, 135.13, 135.37,\n",
    "                133.19, 130.84, 129.71, 129.87, 126.0, 125.86, 125.35, 120.99, 121.26, 127.79, 125.12, 122.06, 120.13, 121.42,\n",
    "                116.36, 121.09, 119.98, 121.96, 121.03, 123.99, 125.57, 124.76]"
   ]
  },
  {
   "cell_type": "markdown",
   "metadata": {},
   "source": [
    "1- Dada la lista de precios de AAPL, armar una lista nativa mediante un FOR que llene los retornos porcentuales diarios de AAPL, e imprimir los ultimos 3 valores al final"
   ]
  },
  {
   "cell_type": "markdown",
   "metadata": {},
   "source": [
    "2- Calcular el devio estandar de la distribucion a mano"
   ]
  },
  {
   "cell_type": "markdown",
   "metadata": {},
   "source": [
    "3- Simular asumiendo una distribucion normal con el mismo mu y sigma que esos ultimos 50 retornos diarios, unos 1000 retornos aleatorios y guardarlos en una variable llamada simulacion, usando listas nativas y la libreria random"
   ]
  },
  {
   "cell_type": "markdown",
   "metadata": {},
   "source": [
    "4- Realizar los ejercicios 1, 2 y 3 usando numpy"
   ]
  },
  {
   "cell_type": "markdown",
   "metadata": {},
   "source": [
    "5- Armar una lista con la media movil de 5 dias, con los ultimos 45 de los 50 dias dados en el dato\n",
    "\n",
    "Imprimir los ultimos 3 valores de media movil"
   ]
  },
  {
   "cell_type": "code",
   "execution_count": null,
   "metadata": {},
   "outputs": [],
   "source": []
  },
  {
   "cell_type": "code",
   "execution_count": null,
   "metadata": {},
   "outputs": [],
   "source": []
  },
  {
   "cell_type": "markdown",
   "metadata": {},
   "source": [
    "Antes de ver las respuestas dos cosas:\n",
    "    \n",
    "1- Lo importante no es si les salió o no, lo importante son las horas que le dedicaron a intentar sacarlos\n",
    "\n",
    "2- Las soluciones planteadas, son solo UNA forma de resolverlo, la mejor es la que les salga a ustedes, yo solo puse la que a mi me resulta mas intuitiva, pero lo mas probable es que a cada uno se le ocurra algo diferente y esta perfecto"
   ]
  },
  {
   "cell_type": "code",
   "execution_count": null,
   "metadata": {},
   "outputs": [],
   "source": []
  },
  {
   "cell_type": "code",
   "execution_count": null,
   "metadata": {},
   "outputs": [],
   "source": []
  },
  {
   "cell_type": "code",
   "execution_count": null,
   "metadata": {},
   "outputs": [],
   "source": []
  },
  {
   "cell_type": "markdown",
   "metadata": {},
   "source": [
    "# Respuestas"
   ]
  },
  {
   "cell_type": "code",
   "execution_count": 2,
   "metadata": {},
   "outputs": [
    {
     "data": {
      "text/plain": [
       "[0.02445674626125749, 0.012742963142188923, -0.0064505853308910455]"
      ]
     },
     "execution_count": 2,
     "metadata": {},
     "output_type": "execute_result"
    }
   ],
   "source": [
    "#===============================#\n",
    "#    Respuesta Ejercicio 1      #\n",
    "#===============================#\n",
    "\n",
    "px_i = precios_AAPL[:-1]\n",
    "px_f = precios_AAPL[1:]\n",
    "\n",
    "retornos = []\n",
    "for i in range(len(px_i)):\n",
    "    retornos.append(px_f[i]/px_i[i]-1)\n",
    "    \n",
    "retornos[-3:]"
   ]
  },
  {
   "cell_type": "code",
   "execution_count": 3,
   "metadata": {},
   "outputs": [
    {
     "data": {
      "text/plain": [
       "0.021444236218944465"
      ]
     },
     "execution_count": 3,
     "metadata": {},
     "output_type": "execute_result"
    }
   ],
   "source": [
    "#===============================#\n",
    "#    Respuesta Ejercicio 2      #\n",
    "#===============================#\n",
    "\n",
    "\n",
    "promedio =  sum(retornos)/len(retornos)\n",
    "\n",
    "dif = 0\n",
    "for value in retornos:\n",
    "    dif += (value - promedio)**2\n",
    "\n",
    "varianza = dif/len(retornos)\n",
    "desvio = varianza**0.5\n",
    "\n",
    "desvio"
   ]
  },
  {
   "cell_type": "code",
   "execution_count": 4,
   "metadata": {},
   "outputs": [],
   "source": [
    "#===============================#\n",
    "#    Respuesta Ejercicio 3      #\n",
    "#===============================#\n",
    "\n",
    "\n",
    "import random\n",
    "\n",
    "simulacion = []\n",
    "for i in range(1000):\n",
    "    simulacion.append(random.normalvariate(mu=promedio, sigma=desvio))"
   ]
  },
  {
   "cell_type": "code",
   "execution_count": 5,
   "metadata": {},
   "outputs": [
    {
     "data": {
      "text/plain": [
       "array([ 0.02445675,  0.01274296, -0.00645059])"
      ]
     },
     "execution_count": 5,
     "metadata": {},
     "output_type": "execute_result"
    }
   ],
   "source": [
    "#==================================#\n",
    "#    Respuesta Ejercicio 4 -> 1    #\n",
    "#==================================#\n",
    "\n",
    "\n",
    "import numpy as np\n",
    "\n",
    "px_i = np.array(precios_AAPL[:-1])\n",
    "px_f = np.array(precios_AAPL[1:])\n",
    "\n",
    "retornos = px_f / px_i -1\n",
    "retornos[-3:]"
   ]
  },
  {
   "cell_type": "code",
   "execution_count": 6,
   "metadata": {},
   "outputs": [
    {
     "data": {
      "text/plain": [
       "0.02144423621894447"
      ]
     },
     "execution_count": 6,
     "metadata": {},
     "output_type": "execute_result"
    }
   ],
   "source": [
    "#==================================#\n",
    "#    Respuesta Ejercicio 4 -> 2    #\n",
    "#==================================#\n",
    "\n",
    "\n",
    "retornos.std()"
   ]
  },
  {
   "cell_type": "code",
   "execution_count": 7,
   "metadata": {},
   "outputs": [],
   "source": [
    "#==================================#\n",
    "#    Respuesta Ejercicio 4 -> 3    #\n",
    "#==================================#\n",
    "\n",
    "\n",
    "simulacion = np.random.normal(retornos.mean(), retornos.std(), size=1000)"
   ]
  },
  {
   "cell_type": "code",
   "execution_count": 8,
   "metadata": {},
   "outputs": [
    {
     "data": {
      "text/plain": [
       "[121.61, 122.51, 123.46]"
      ]
     },
     "execution_count": 8,
     "metadata": {},
     "output_type": "execute_result"
    }
   ],
   "source": [
    "#==============================#\n",
    "#    Respuesta Ejercicio 5     #\n",
    "#==============================#\n",
    "\n",
    "\n",
    "medias_moviles = []\n",
    "for i in range(4, len(precios_AAPL)):\n",
    "    precios = precios_AAPL[i-4:i+1]                  \n",
    "    promedio = sum(precios)/5                       \n",
    "    medias_moviles.append(round(promedio,2))       \n",
    "\n",
    "medias_moviles[-3:]"
   ]
  },
  {
   "cell_type": "code",
   "execution_count": null,
   "metadata": {},
   "outputs": [],
   "source": []
  },
  {
   "cell_type": "code",
   "execution_count": null,
   "metadata": {},
   "outputs": [],
   "source": []
  },
  {
   "cell_type": "code",
   "execution_count": null,
   "metadata": {},
   "outputs": [],
   "source": []
  }
 ],
 "metadata": {
  "kernelspec": {
   "display_name": "Python 3",
   "language": "python",
   "name": "python3"
  },
  "language_info": {
   "codemirror_mode": {
    "name": "ipython",
    "version": 3
   },
   "file_extension": ".py",
   "mimetype": "text/x-python",
   "name": "python",
   "nbconvert_exporter": "python",
   "pygments_lexer": "ipython3",
   "version": "3.8.5"
  },
  "toc": {
   "base_numbering": 1,
   "nav_menu": {},
   "number_sections": true,
   "sideBar": true,
   "skip_h1_title": false,
   "title_cell": "Table of Contents",
   "title_sidebar": "Contents",
   "toc_cell": false,
   "toc_position": {},
   "toc_section_display": true,
   "toc_window_display": false
  }
 },
 "nbformat": 4,
 "nbformat_minor": 4
}
